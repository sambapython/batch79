{
 "cells": [
  {
   "cell_type": "code",
   "execution_count": 2,
   "metadata": {},
   "outputs": [
    {
     "name": "stdout",
     "output_type": "stream",
     "text": [
      "<class 'function'>\n"
     ]
    }
   ],
   "source": [
    "def fun(x,y):\n",
    "    if isinstance(x,(int, float)) and isinstance(y,(int,float)):\n",
    "        return x+y\n",
    "    \n",
    "def fun(x,y):\n",
    "    return x+y\n",
    "add = lambda x,y:x+y\n",
    "print(type(add))\n"
   ]
  },
  {
   "cell_type": "code",
   "execution_count": 3,
   "metadata": {},
   "outputs": [
    {
     "data": {
      "text/plain": [
       "30"
      ]
     },
     "execution_count": 3,
     "metadata": {},
     "output_type": "execute_result"
    }
   ],
   "source": [
    "add(10,20)"
   ]
  },
  {
   "cell_type": "code",
   "execution_count": 4,
   "metadata": {},
   "outputs": [
    {
     "name": "stdout",
     "output_type": "stream",
     "text": [
      "30\n"
     ]
    }
   ],
   "source": [
    "def fun(x,y):\n",
    "    return x+y if isinstance(x,(int, float)) and isinstance(y,(int,float)) else None\n",
    "print(fun(10,20))\n",
    "        \n",
    "    "
   ]
  },
  {
   "cell_type": "code",
   "execution_count": 5,
   "metadata": {},
   "outputs": [
    {
     "name": "stdout",
     "output_type": "stream",
     "text": [
      "30\n"
     ]
    }
   ],
   "source": [
    "add = lambda x,y: x+y if isinstance(x,(int, float)) and isinstance(y,(int,float)) else None\n",
    "print(add(10,20))"
   ]
  },
  {
   "cell_type": "code",
   "execution_count": 6,
   "metadata": {},
   "outputs": [
    {
     "name": "stdout",
     "output_type": "stream",
     "text": [
      "[10, 23, 9, 30, 40]\n"
     ]
    }
   ],
   "source": [
    "l=[\"10\",\"23\",\"9\",\"30\",\"40\"]\n",
    "res = []\n",
    "for i in l:\n",
    "    res.append(int(i))\n",
    "print(res)"
   ]
  },
  {
   "cell_type": "code",
   "execution_count": 7,
   "metadata": {},
   "outputs": [
    {
     "name": "stdout",
     "output_type": "stream",
     "text": [
      "[10, 23, 9, 30, 40]\n"
     ]
    }
   ],
   "source": [
    "l=[\"10\",\"23\",\"9\",\"30\",\"40\"]\n",
    "res = [int(i) for i in l]\n",
    "print(res)"
   ]
  },
  {
   "cell_type": "code",
   "execution_count": 8,
   "metadata": {},
   "outputs": [
    {
     "ename": "ValueError",
     "evalue": "invalid literal for int() with base 10: 'abcd'",
     "output_type": "error",
     "traceback": [
      "\u001b[1;31m---------------------------------------------------------------------------\u001b[0m",
      "\u001b[1;31mValueError\u001b[0m                                Traceback (most recent call last)",
      "\u001b[1;32m<ipython-input-8-8ba9f271d566>\u001b[0m in \u001b[0;36m<module>\u001b[1;34m\u001b[0m\n\u001b[0;32m      2\u001b[0m \u001b[0mres\u001b[0m \u001b[1;33m=\u001b[0m \u001b[1;33m[\u001b[0m\u001b[1;33m]\u001b[0m\u001b[1;33m\u001b[0m\u001b[1;33m\u001b[0m\u001b[0m\n\u001b[0;32m      3\u001b[0m \u001b[1;32mfor\u001b[0m \u001b[0mi\u001b[0m \u001b[1;32min\u001b[0m \u001b[0ml\u001b[0m\u001b[1;33m:\u001b[0m\u001b[1;33m\u001b[0m\u001b[1;33m\u001b[0m\u001b[0m\n\u001b[1;32m----> 4\u001b[1;33m     \u001b[0mres\u001b[0m\u001b[1;33m.\u001b[0m\u001b[0mappend\u001b[0m\u001b[1;33m(\u001b[0m\u001b[0mint\u001b[0m\u001b[1;33m(\u001b[0m\u001b[0mi\u001b[0m\u001b[1;33m)\u001b[0m\u001b[1;33m)\u001b[0m\u001b[1;33m\u001b[0m\u001b[1;33m\u001b[0m\u001b[0m\n\u001b[0m\u001b[0;32m      5\u001b[0m \u001b[0mprint\u001b[0m\u001b[1;33m(\u001b[0m\u001b[0mres\u001b[0m\u001b[1;33m)\u001b[0m\u001b[1;33m\u001b[0m\u001b[1;33m\u001b[0m\u001b[0m\n",
      "\u001b[1;31mValueError\u001b[0m: invalid literal for int() with base 10: 'abcd'"
     ]
    }
   ],
   "source": [
    "l=[\"10\",\"23\",\"9\",\"30\",\"40\",\"abcd\"]\n",
    "res = []\n",
    "for i in l:\n",
    "    res.append(int(i))\n",
    "print(res)"
   ]
  },
  {
   "cell_type": "code",
   "execution_count": 9,
   "metadata": {},
   "outputs": [
    {
     "name": "stdout",
     "output_type": "stream",
     "text": [
      "[10, 23, 9, 30, 40]\n"
     ]
    }
   ],
   "source": [
    "l=[\"10\",\"23\",\"9\",\"30\",\"40\",\"abcd\"]\n",
    "res = []\n",
    "for i in l:\n",
    "    if i.isdigit():\n",
    "        res.append(int(i))\n",
    "print(res)"
   ]
  },
  {
   "cell_type": "code",
   "execution_count": 10,
   "metadata": {},
   "outputs": [
    {
     "name": "stdout",
     "output_type": "stream",
     "text": [
      "[10, 23, 9, 30, 40]\n"
     ]
    }
   ],
   "source": [
    "l=[\"abcd\",\"10\",\"23\",\"9\",\"30\",\"40\"]\n",
    "res = [int(i) for i in l if i.isdigit()]\n",
    "print(res)"
   ]
  },
  {
   "cell_type": "code",
   "execution_count": 11,
   "metadata": {},
   "outputs": [
    {
     "name": "stdout",
     "output_type": "stream",
     "text": [
      "[10, 23, 9, 30, 40, 'abcd']\n"
     ]
    }
   ],
   "source": [
    "l=[\"10\",\"23\",\"9\",\"30\",\"40\",\"abcd\"]\n",
    "res = []\n",
    "for i in l:\n",
    "    if i.isdigit():\n",
    "        res.append(int(i))\n",
    "    else:\n",
    "        res.append(i)\n",
    "print(res)"
   ]
  },
  {
   "cell_type": "code",
   "execution_count": 12,
   "metadata": {},
   "outputs": [
    {
     "name": "stdout",
     "output_type": "stream",
     "text": [
      "['abcd', 10, 23, 9, 30, 40]\n"
     ]
    }
   ],
   "source": [
    "l=[\"abcd\",\"10\",\"23\",\"9\",\"30\",\"40\"]\n",
    "res = [int(i) if i.isdigit() else i for i in l]\n",
    "print(res)"
   ]
  },
  {
   "cell_type": "code",
   "execution_count": 13,
   "metadata": {},
   "outputs": [
    {
     "name": "stdout",
     "output_type": "stream",
     "text": [
      "<generator object <genexpr> at 0x00000260CC127970>\n"
     ]
    }
   ],
   "source": [
    "l=[\"abcd\",\"10\",\"23\",\"9\",\"30\",\"40\"]\n",
    "res = (int(i) if i.isdigit() else i for i in l)\n",
    "print(res)"
   ]
  },
  {
   "cell_type": "code",
   "execution_count": 15,
   "metadata": {},
   "outputs": [
    {
     "name": "stdout",
     "output_type": "stream",
     "text": [
      "abcd\n",
      "10\n",
      "23\n",
      "9\n",
      "30\n",
      "40\n"
     ]
    }
   ],
   "source": [
    "l=[\"abcd\",\"10\",\"23\",\"9\",\"30\",\"40\"]\n",
    "res = (int(i) if i.isdigit() else i for i in l)\n",
    "for val in res:\n",
    "    print(val)"
   ]
  },
  {
   "cell_type": "code",
   "execution_count": 16,
   "metadata": {},
   "outputs": [],
   "source": [
    "for val in res:\n",
    "    print(val)"
   ]
  },
  {
   "cell_type": "code",
   "execution_count": 17,
   "metadata": {},
   "outputs": [
    {
     "name": "stdout",
     "output_type": "stream",
     "text": [
      "('name', 'samba')\n",
      "('age', '32')\n"
     ]
    }
   ],
   "source": [
    "class Emp:\n",
    "    def __init__(self, name,age):\n",
    "        self.name=name\n",
    "        self.age=age\n",
    "        \n",
    "    def __iter__(self):\n",
    "        for i in self.__dict__.items():\n",
    "            yield i\n",
    "e1 = Emp(\"samba\",\"32\")\n",
    "for i in e1:\n",
    "    print(i)"
   ]
  },
  {
   "cell_type": "code",
   "execution_count": 18,
   "metadata": {},
   "outputs": [
    {
     "name": "stdout",
     "output_type": "stream",
     "text": [
      "('name', 'samba')\n",
      "('age', '32')\n",
      "('name', 'samba')\n",
      "('age', '32')\n",
      "('name', 'samba')\n",
      "('age', '32')\n",
      "('name', 'samba')\n",
      "('age', '32')\n"
     ]
    }
   ],
   "source": [
    "class Emp:\n",
    "    def __init__(self, name,age):\n",
    "        self.name=name\n",
    "        self.age=age\n",
    "        \n",
    "    def __iter__(self):\n",
    "        for i in self.__dict__.items():\n",
    "            yield i\n",
    "e1 = Emp(\"samba\",\"32\")\n",
    "for i in e1:\n",
    "    print(i)\n",
    "for i in e1:\n",
    "    print(i)\n",
    "for i in e1:\n",
    "    print(i)\n",
    "for i in e1:\n",
    "    print(i)"
   ]
  },
  {
   "cell_type": "code",
   "execution_count": 19,
   "metadata": {},
   "outputs": [
    {
     "name": "stdout",
     "output_type": "stream",
     "text": [
      "abcd\n",
      "10\n",
      "23\n",
      "9\n",
      "30\n",
      "40\n",
      "********************\n"
     ]
    }
   ],
   "source": [
    "l=[\"abcd\",\"10\",\"23\",\"9\",\"30\",\"40\"]\n",
    "res = (int(i) if i.isdigit() else i for i in l)\n",
    "for val in res:\n",
    "    print(val)\n",
    "print(\"*\"*20)\n",
    "for val in res:\n",
    "    print(val)"
   ]
  },
  {
   "cell_type": "code",
   "execution_count": 20,
   "metadata": {},
   "outputs": [
    {
     "name": "stdout",
     "output_type": "stream",
     "text": [
      "abcd\n",
      "10\n",
      "23\n",
      "9\n",
      "30\n",
      "40\n",
      "********************\n",
      "abcd\n",
      "10\n",
      "23\n",
      "9\n",
      "30\n",
      "40\n"
     ]
    }
   ],
   "source": [
    "l=[\"abcd\",\"10\",\"23\",\"9\",\"30\",\"40\"]\n",
    "res = (int(i) if i.isdigit() else i for i in l)\n",
    "for val in res:\n",
    "    print(val)\n",
    "print(\"*\"*20)\n",
    "res = (int(i) if i.isdigit() else i for i in l)\n",
    "for val in res:\n",
    "    print(val)"
   ]
  },
  {
   "cell_type": "code",
   "execution_count": 21,
   "metadata": {},
   "outputs": [
    {
     "name": "stdout",
     "output_type": "stream",
     "text": [
      "['ODD', 'ODD', 'EVEN', 'EVEN', 'EVEN', 'EVEN', 'ODD', 'EVEN', 'EVEN', 'ODD', 'ODD']\n",
      "<map object at 0x00000260CC225340>\n"
     ]
    }
   ],
   "source": [
    "def is_even(number):\n",
    "    return \"EVEN\" if number%2==0 else \"ODD\" \n",
    "l=[1,3,4,6,8,2,9,34,56,63,79]\n",
    "print([is_even(i) for i in l])\n",
    "print(map(is_even,l))"
   ]
  },
  {
   "cell_type": "code",
   "execution_count": 22,
   "metadata": {},
   "outputs": [
    {
     "name": "stdout",
     "output_type": "stream",
     "text": [
      "['ODD', 'ODD', 'EVEN', 'EVEN', 'EVEN', 'EVEN', 'ODD', 'EVEN', 'EVEN', 'ODD', 'ODD']\n",
      "['ODD', 'ODD', 'EVEN', 'EVEN', 'EVEN', 'EVEN', 'ODD', 'EVEN', 'EVEN', 'ODD', 'ODD']\n"
     ]
    }
   ],
   "source": [
    "def is_even(number):\n",
    "    return \"EVEN\" if number%2==0 else \"ODD\" \n",
    "l=[1,3,4,6,8,2,9,34,56,63,79]\n",
    "print([is_even(i) for i in l])\n",
    "print(list(map(is_even,l)))"
   ]
  },
  {
   "cell_type": "code",
   "execution_count": 23,
   "metadata": {},
   "outputs": [
    {
     "name": "stdout",
     "output_type": "stream",
     "text": [
      "['ODD', 'ODD', 'EVEN', 'EVEN', 'EVEN', 'EVEN', 'ODD', 'EVEN', 'EVEN', 'ODD', 'ODD']\n"
     ]
    }
   ],
   "source": [
    "def is_even(number):\n",
    "    return \"EVEN\" if number%2==0 else \"ODD\" \n",
    "l=[1,3,4,6,8,2,9,34,56,63,79]\n",
    "print(list(map(is_even,l)))"
   ]
  },
  {
   "cell_type": "code",
   "execution_count": 24,
   "metadata": {},
   "outputs": [
    {
     "name": "stdout",
     "output_type": "stream",
     "text": [
      "[None, None, None, None, None, None, None, None, None, None, None]\n"
     ]
    }
   ],
   "source": [
    "def is_even(number):\n",
    "    res = \"EVEN\" if number%2==0 else \"ODD\" \n",
    "l=[1,3,4,6,8,2,9,34,56,63,79]\n",
    "print(list(map(is_even,l)))"
   ]
  },
  {
   "cell_type": "code",
   "execution_count": 25,
   "metadata": {},
   "outputs": [
    {
     "name": "stdout",
     "output_type": "stream",
     "text": [
      "['ODD', 'ODD', 'EVEN', 'EVEN', 'EVEN', 'EVEN', 'ODD', 'EVEN', 'EVEN', 'ODD', 'ODD']\n"
     ]
    }
   ],
   "source": [
    " \n",
    "l=[1,3,4,6,8,2,9,34,56,63,79]\n",
    "print(list(map(lambda number:\"EVEN\" if number%2==0 else \"ODD\",l)))"
   ]
  },
  {
   "cell_type": "code",
   "execution_count": 27,
   "metadata": {},
   "outputs": [
    {
     "name": "stdout",
     "output_type": "stream",
     "text": [
      "[<function <listcomp>.<lambda> at 0x00000260CC14EA60>, <function <listcomp>.<lambda> at 0x00000260CC14E700>, <function <listcomp>.<lambda> at 0x00000260CC14E790>, <function <listcomp>.<lambda> at 0x00000260CC14E1F0>, <function <listcomp>.<lambda> at 0x00000260CC14EC10>, <function <listcomp>.<lambda> at 0x00000260CC14ED30>, <function <listcomp>.<lambda> at 0x00000260CC14EDC0>, <function <listcomp>.<lambda> at 0x00000260CC14EE50>, <function <listcomp>.<lambda> at 0x00000260CC14E8B0>, <function <listcomp>.<lambda> at 0x00000260CCD31EE0>, <function <listcomp>.<lambda> at 0x00000260CCD319D0>]\n"
     ]
    }
   ],
   "source": [
    " \n",
    "l=[1,3,4,6,8,2,9,34,56,63,79]\n",
    "print([lambda number:\"EVEN\" if number%2==0 else \"ODD\" for number in l])"
   ]
  },
  {
   "cell_type": "code",
   "execution_count": null,
   "metadata": {},
   "outputs": [],
   "source": [
    " \n",
    "l=[1,3,4,6,8,2,9,34,56,63,79]\n",
    "print([lambda number:\"EVEN\" if number%2==0 else \"ODD\" for number in l])"
   ]
  },
  {
   "cell_type": "code",
   "execution_count": 29,
   "metadata": {},
   "outputs": [
    {
     "name": "stdout",
     "output_type": "stream",
     "text": [
      "[None, None, 4, 6, 8, 2, None, 34, 56, None, None]\n"
     ]
    }
   ],
   "source": [
    "def is_even(number):\n",
    "    if number%2==0:\n",
    "        return number\n",
    "l=[1,3,4,6,8,2,9,34,56,63,79]\n",
    "print(list(map(is_even, l)))\n"
   ]
  },
  {
   "cell_type": "code",
   "execution_count": 30,
   "metadata": {},
   "outputs": [
    {
     "name": "stdout",
     "output_type": "stream",
     "text": [
      "[4, 6, 8, 2, 34, 56]\n"
     ]
    }
   ],
   "source": [
    "def is_even(number):\n",
    "     return number%2==0\n",
    "l=[1,3,4,6,8,2,9,34,56,63,79]\n",
    "print(list(filter(is_even, l)))# if the is_even returns true then it will add the parameter which passed to is_even in the result list\n"
   ]
  },
  {
   "cell_type": "code",
   "execution_count": 31,
   "metadata": {},
   "outputs": [
    {
     "name": "stdout",
     "output_type": "stream",
     "text": [
      "[]\n"
     ]
    }
   ],
   "source": [
    "def is_even(number):\n",
    "    res = number%2==0 # return None, bool(None)=False\n",
    "l=[1,3,4,6,8,2,9,34,56,63,79]\n",
    "print(list(filter(is_even, l)))# if the is_even returns true then it will add the parameter which passed to is_even in the result list\n"
   ]
  },
  {
   "cell_type": "code",
   "execution_count": 32,
   "metadata": {},
   "outputs": [
    {
     "name": "stdout",
     "output_type": "stream",
     "text": [
      "[4, 6, 8, 2, 34, 56]\n"
     ]
    }
   ],
   "source": [
    "l=[1,3,4,6,8,2,9,34,56,63,79]\n",
    "print(list(filter(lambda number:number%2==0, l)))"
   ]
  },
  {
   "cell_type": "code",
   "execution_count": 33,
   "metadata": {},
   "outputs": [
    {
     "name": "stdout",
     "output_type": "stream",
     "text": [
      "['1', '3', '4', '6', '8', '2', '9', '34', '56', '63', '79']\n"
     ]
    }
   ],
   "source": [
    "l=[1,3,4,6,8,2,9,34,56,63,79]\n",
    "print(list(map(str,l)))"
   ]
  },
  {
   "cell_type": "code",
   "execution_count": 34,
   "metadata": {},
   "outputs": [
    {
     "name": "stdout",
     "output_type": "stream",
     "text": [
      "{1: 1, 3: 9, 2: 4, 5: 25}\n"
     ]
    }
   ],
   "source": [
    "l=[1,3,2,5]\n",
    "#{1:1, 3:9, 2:4, 5:25}\n",
    "d={}\n",
    "for i in l:\n",
    "    d.update({i: i**2})\n",
    "print(d)"
   ]
  },
  {
   "cell_type": "code",
   "execution_count": 35,
   "metadata": {},
   "outputs": [
    {
     "name": "stdout",
     "output_type": "stream",
     "text": [
      "{1: 1, 3: 9, 2: 4, 5: 25}\n"
     ]
    }
   ],
   "source": [
    "l=[1,3,2,5]\n",
    "d={i:i**2  for i in l}\n",
    "print(d)"
   ]
  },
  {
   "cell_type": "code",
   "execution_count": 39,
   "metadata": {},
   "outputs": [
    {
     "name": "stdout",
     "output_type": "stream",
     "text": [
      "{1: 1, 3: 9, 2: 4, 5: 25}\n"
     ]
    }
   ],
   "source": [
    "l=[1,3,2,5,\"sdfsd\"]\n",
    "d={i:i**2  for i in l if isinstance(i, (int,float)) }\n",
    "print(d)"
   ]
  },
  {
   "cell_type": "code",
   "execution_count": 40,
   "metadata": {},
   "outputs": [
    {
     "name": "stdout",
     "output_type": "stream",
     "text": [
      "{1: 1, 3: 9, 2: 4, 5: 25, 'sdfsd': 'sdfsd'}\n"
     ]
    }
   ],
   "source": [
    "l=[1,3,2,5,\"sdfsd\"]\n",
    "d={i:i**2 if isinstance(i, (int,float)) else i   for i in l}\n",
    "print(d)"
   ]
  },
  {
   "cell_type": "code",
   "execution_count": null,
   "metadata": {},
   "outputs": [],
   "source": []
  }
 ],
 "metadata": {
  "kernelspec": {
   "display_name": "Python 3",
   "language": "python",
   "name": "python3"
  },
  "language_info": {
   "codemirror_mode": {
    "name": "ipython",
    "version": 3
   },
   "file_extension": ".py",
   "mimetype": "text/x-python",
   "name": "python",
   "nbconvert_exporter": "python",
   "pygments_lexer": "ipython3",
   "version": "3.8.3"
  }
 },
 "nbformat": 4,
 "nbformat_minor": 4
}
