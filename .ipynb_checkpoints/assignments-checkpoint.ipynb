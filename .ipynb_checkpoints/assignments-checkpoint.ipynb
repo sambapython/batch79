{
 "cells": [
  {
   "cell_type": "code",
   "execution_count": 1,
   "metadata": {},
   "outputs": [
    {
     "name": "stdout",
     "output_type": "stream",
     "text": [
      "enter number:10\n",
      "10\n"
     ]
    }
   ],
   "source": [
    "value = input(\"enter number:\")\n",
    "print(value)"
   ]
  },
  {
   "cell_type": "code",
   "execution_count": 2,
   "metadata": {},
   "outputs": [
    {
     "name": "stdout",
     "output_type": "stream",
     "text": [
      "enter number:12\n",
      "12\n"
     ]
    }
   ],
   "source": [
    "value = input(\"enter number:\")\n",
    "print(value)"
   ]
  },
  {
   "cell_type": "code",
   "execution_count": 4,
   "metadata": {},
   "outputs": [
    {
     "name": "stdout",
     "output_type": "stream",
     "text": [
      "enter number:10\n",
      "ten\n"
     ]
    }
   ],
   "source": [
    "value = input(\"enter number:\")\n",
    "var = value==\"10\" and \"ten\"\n",
    "print(var)"
   ]
  },
  {
   "cell_type": "code",
   "execution_count": 5,
   "metadata": {},
   "outputs": [
    {
     "name": "stdout",
     "output_type": "stream",
     "text": [
      "enter number:12\n",
      "False\n"
     ]
    }
   ],
   "source": [
    "value = input(\"enter number:\")\n",
    "var = value==\"10\" and \"ten\"\n",
    "print(var)"
   ]
  },
  {
   "cell_type": "code",
   "execution_count": 7,
   "metadata": {},
   "outputs": [
    {
     "name": "stdout",
     "output_type": "stream",
     "text": [
      "enter number:10\n",
      "not ten\n"
     ]
    }
   ],
   "source": [
    "value = input(\"enter number:\")\n",
    "var = \"ten\" and \"not ten\" \n",
    "print(var)"
   ]
  },
  {
   "cell_type": "code",
   "execution_count": 8,
   "metadata": {},
   "outputs": [
    {
     "name": "stdout",
     "output_type": "stream",
     "text": [
      "enter number:10\n",
      "ten\n"
     ]
    }
   ],
   "source": [
    "value = input(\"enter number:\")\n",
    "var = (\"ten\" and \"not ten\" ) and (value==\"10\" and \"ten\")\n",
    "print(var)"
   ]
  },
  {
   "cell_type": "code",
   "execution_count": 9,
   "metadata": {},
   "outputs": [
    {
     "name": "stdout",
     "output_type": "stream",
     "text": [
      "enter number:12\n",
      "False\n"
     ]
    }
   ],
   "source": [
    "value = input(\"enter number:\")\n",
    "var = (\"ten\" and \"not ten\" ) and (value==\"10\" and \"ten\")\n",
    "print(var)"
   ]
  },
  {
   "cell_type": "code",
   "execution_count": 10,
   "metadata": {},
   "outputs": [
    {
     "name": "stdout",
     "output_type": "stream",
     "text": [
      "enter number:10\n",
      "ten\n"
     ]
    }
   ],
   "source": [
    "value = input(\"enter number:\")\n",
    "var = \"not ten\" and value==\"10\" and \"ten\"\n",
    "print(var)"
   ]
  },
  {
   "cell_type": "code",
   "execution_count": 11,
   "metadata": {},
   "outputs": [
    {
     "name": "stdout",
     "output_type": "stream",
     "text": [
      "enter number:12\n",
      "False\n"
     ]
    }
   ],
   "source": [
    "value = input(\"enter number:\")\n",
    "var = \"not ten\" and value==\"10\" and \"ten\"\n",
    "print(var)"
   ]
  },
  {
   "cell_type": "code",
   "execution_count": 12,
   "metadata": {},
   "outputs": [
    {
     "name": "stdout",
     "output_type": "stream",
     "text": [
      "enter number:10\n",
      "not ten\n"
     ]
    }
   ],
   "source": [
    "value = input(\"enter number:\")\n",
    "var = \"not ten\" or value==\"10\" and \"ten\"\n",
    "print(var)"
   ]
  },
  {
   "cell_type": "code",
   "execution_count": 13,
   "metadata": {},
   "outputs": [
    {
     "name": "stdout",
     "output_type": "stream",
     "text": [
      "enter number:12\n",
      "ten\n"
     ]
    }
   ],
   "source": [
    "value = input(\"enter number:\")\n",
    "var = value==\"10\" or \"not test\" and \"ten\"\n",
    "print(var)"
   ]
  },
  {
   "cell_type": "code",
   "execution_count": 14,
   "metadata": {},
   "outputs": [
    {
     "name": "stdout",
     "output_type": "stream",
     "text": [
      "enter number:12\n",
      "not ten\n"
     ]
    }
   ],
   "source": [
    "value = input(\"enter number:\")\n",
    "var = value==\"10\" or \"not ten\"\n",
    "print(var)"
   ]
  },
  {
   "cell_type": "code",
   "execution_count": 15,
   "metadata": {},
   "outputs": [
    {
     "name": "stdout",
     "output_type": "stream",
     "text": [
      "enter number:10\n",
      "True\n"
     ]
    }
   ],
   "source": [
    "value = input(\"enter number:\")\n",
    "var = value==\"10\" or \"not ten\"\n",
    "print(var)"
   ]
  },
  {
   "cell_type": "code",
   "execution_count": 16,
   "metadata": {},
   "outputs": [
    {
     "name": "stdout",
     "output_type": "stream",
     "text": [
      "enter number:10\n",
      "ten\n",
      "not ten\n"
     ]
    }
   ],
   "source": [
    "value = input(\"enter number:\")\n",
    "var = value == \"10\" and \"ten\"\n",
    "print(var)\n",
    "var1 = var== \"ten\" and \"not ten\"\n",
    "print(var1)"
   ]
  },
  {
   "cell_type": "code",
   "execution_count": 17,
   "metadata": {},
   "outputs": [
    {
     "name": "stdout",
     "output_type": "stream",
     "text": [
      "enter number:12\n",
      "False\n",
      "False\n"
     ]
    }
   ],
   "source": []
  },
  {
   "cell_type": "code",
   "execution_count": null,
   "metadata": {},
   "outputs": [],
   "source": []
  }
 ],
 "metadata": {
  "kernelspec": {
   "display_name": "Python 3",
   "language": "python",
   "name": "python3"
  },
  "language_info": {
   "codemirror_mode": {
    "name": "ipython",
    "version": 3
   },
   "file_extension": ".py",
   "mimetype": "text/x-python",
   "name": "python",
   "nbconvert_exporter": "python",
   "pygments_lexer": "ipython3",
   "version": "3.8.3"
  }
 },
 "nbformat": 4,
 "nbformat_minor": 4
}
