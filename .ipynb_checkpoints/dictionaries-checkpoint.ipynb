{
 "cells": [
  {
   "cell_type": "code",
   "execution_count": 1,
   "metadata": {},
   "outputs": [
    {
     "ename": "TypeError",
     "evalue": "unsupported operand type(s) for +: 'dict' and 'dict'",
     "output_type": "error",
     "traceback": [
      "\u001b[1;31m---------------------------------------------------------------------------\u001b[0m",
      "\u001b[1;31mTypeError\u001b[0m                                 Traceback (most recent call last)",
      "\u001b[1;32m<ipython-input-1-a47c5c5d442b>\u001b[0m in \u001b[0;36m<module>\u001b[1;34m\u001b[0m\n\u001b[0;32m      1\u001b[0m \u001b[0mperson\u001b[0m \u001b[1;33m=\u001b[0m \u001b[1;33m{\u001b[0m\u001b[1;34m\"name\"\u001b[0m\u001b[1;33m:\u001b[0m\u001b[1;34m\"jay\"\u001b[0m\u001b[1;33m,\u001b[0m\u001b[1;34m\"age\"\u001b[0m\u001b[1;33m:\u001b[0m\u001b[1;36m4\u001b[0m\u001b[1;33m,\u001b[0m\u001b[1;34m\"weight\"\u001b[0m\u001b[1;33m:\u001b[0m\u001b[1;36m17\u001b[0m\u001b[1;33m}\u001b[0m\u001b[1;33m\u001b[0m\u001b[1;33m\u001b[0m\u001b[0m\n\u001b[0;32m      2\u001b[0m \u001b[0maddress\u001b[0m \u001b[1;33m=\u001b[0m \u001b[1;33m{\u001b[0m\u001b[1;34m\"city\"\u001b[0m\u001b[1;33m:\u001b[0m\u001b[1;34m\"Hyderabad\"\u001b[0m\u001b[1;33m,\u001b[0m \u001b[1;34m\"state\"\u001b[0m\u001b[1;33m:\u001b[0m\u001b[1;34m\"Telanagana\"\u001b[0m\u001b[1;33m,\u001b[0m\u001b[1;34m\"country\"\u001b[0m\u001b[1;33m:\u001b[0m\u001b[1;34m\"India\"\u001b[0m\u001b[1;33m,\u001b[0m\u001b[1;34m\"street\"\u001b[0m\u001b[1;33m:\u001b[0m\u001b[1;34m\"Devendernagar\"\u001b[0m\u001b[1;33m}\u001b[0m\u001b[1;33m\u001b[0m\u001b[1;33m\u001b[0m\u001b[0m\n\u001b[1;32m----> 3\u001b[1;33m \u001b[0mprint\u001b[0m\u001b[1;33m(\u001b[0m\u001b[0mperson\u001b[0m\u001b[1;33m+\u001b[0m\u001b[0maddress\u001b[0m\u001b[1;33m)\u001b[0m\u001b[1;33m\u001b[0m\u001b[1;33m\u001b[0m\u001b[0m\n\u001b[0m",
      "\u001b[1;31mTypeError\u001b[0m: unsupported operand type(s) for +: 'dict' and 'dict'"
     ]
    }
   ],
   "source": [
    "person = {\"name\":\"jay\",\"age\":4,\"weight\":17}\n",
    "address = {\"city\":\"Hyderabad\", \"state\":\"Telanagana\",\"country\":\"India\",\"street\":\"Devendernagar\"}\n",
    "print(person+address)"
   ]
  },
  {
   "cell_type": "code",
   "execution_count": 2,
   "metadata": {},
   "outputs": [
    {
     "ename": "TypeError",
     "evalue": "unsupported operand type(s) for -: 'dict' and 'dict'",
     "output_type": "error",
     "traceback": [
      "\u001b[1;31m---------------------------------------------------------------------------\u001b[0m",
      "\u001b[1;31mTypeError\u001b[0m                                 Traceback (most recent call last)",
      "\u001b[1;32m<ipython-input-2-55b4c1fa911c>\u001b[0m in \u001b[0;36m<module>\u001b[1;34m\u001b[0m\n\u001b[0;32m      1\u001b[0m \u001b[0mperson\u001b[0m \u001b[1;33m=\u001b[0m \u001b[1;33m{\u001b[0m\u001b[1;34m\"name\"\u001b[0m\u001b[1;33m:\u001b[0m\u001b[1;34m\"jay\"\u001b[0m\u001b[1;33m,\u001b[0m\u001b[1;34m\"age\"\u001b[0m\u001b[1;33m:\u001b[0m\u001b[1;36m4\u001b[0m\u001b[1;33m,\u001b[0m\u001b[1;34m\"weight\"\u001b[0m\u001b[1;33m:\u001b[0m\u001b[1;36m17\u001b[0m\u001b[1;33m}\u001b[0m\u001b[1;33m\u001b[0m\u001b[1;33m\u001b[0m\u001b[0m\n\u001b[0;32m      2\u001b[0m \u001b[0maddress\u001b[0m \u001b[1;33m=\u001b[0m \u001b[1;33m{\u001b[0m\u001b[1;34m\"city\"\u001b[0m\u001b[1;33m:\u001b[0m\u001b[1;34m\"Hyderabad\"\u001b[0m\u001b[1;33m,\u001b[0m \u001b[1;34m\"state\"\u001b[0m\u001b[1;33m:\u001b[0m\u001b[1;34m\"Telanagana\"\u001b[0m\u001b[1;33m,\u001b[0m\u001b[1;34m\"country\"\u001b[0m\u001b[1;33m:\u001b[0m\u001b[1;34m\"India\"\u001b[0m\u001b[1;33m,\u001b[0m\u001b[1;34m\"street\"\u001b[0m\u001b[1;33m:\u001b[0m\u001b[1;34m\"Devendernagar\"\u001b[0m\u001b[1;33m}\u001b[0m\u001b[1;33m\u001b[0m\u001b[1;33m\u001b[0m\u001b[0m\n\u001b[1;32m----> 3\u001b[1;33m \u001b[0mprint\u001b[0m\u001b[1;33m(\u001b[0m\u001b[0mperson\u001b[0m\u001b[1;33m-\u001b[0m\u001b[0maddress\u001b[0m\u001b[1;33m)\u001b[0m\u001b[1;33m\u001b[0m\u001b[1;33m\u001b[0m\u001b[0m\n\u001b[0m",
      "\u001b[1;31mTypeError\u001b[0m: unsupported operand type(s) for -: 'dict' and 'dict'"
     ]
    }
   ],
   "source": [
    "person = {\"name\":\"jay\",\"age\":4,\"weight\":17}\n",
    "address = {\"city\":\"Hyderabad\", \"state\":\"Telanagana\",\"country\":\"India\",\"street\":\"Devendernagar\"}\n",
    "print(person-address)"
   ]
  },
  {
   "cell_type": "code",
   "execution_count": 3,
   "metadata": {},
   "outputs": [
    {
     "ename": "TypeError",
     "evalue": "unsupported operand type(s) for *: 'dict' and 'dict'",
     "output_type": "error",
     "traceback": [
      "\u001b[1;31m---------------------------------------------------------------------------\u001b[0m",
      "\u001b[1;31mTypeError\u001b[0m                                 Traceback (most recent call last)",
      "\u001b[1;32m<ipython-input-3-d8c4aeb26555>\u001b[0m in \u001b[0;36m<module>\u001b[1;34m\u001b[0m\n\u001b[0;32m      1\u001b[0m \u001b[0mperson\u001b[0m \u001b[1;33m=\u001b[0m \u001b[1;33m{\u001b[0m\u001b[1;34m\"name\"\u001b[0m\u001b[1;33m:\u001b[0m\u001b[1;34m\"jay\"\u001b[0m\u001b[1;33m,\u001b[0m\u001b[1;34m\"age\"\u001b[0m\u001b[1;33m:\u001b[0m\u001b[1;36m4\u001b[0m\u001b[1;33m,\u001b[0m\u001b[1;34m\"weight\"\u001b[0m\u001b[1;33m:\u001b[0m\u001b[1;36m17\u001b[0m\u001b[1;33m}\u001b[0m\u001b[1;33m\u001b[0m\u001b[1;33m\u001b[0m\u001b[0m\n\u001b[0;32m      2\u001b[0m \u001b[0maddress\u001b[0m \u001b[1;33m=\u001b[0m \u001b[1;33m{\u001b[0m\u001b[1;34m\"city\"\u001b[0m\u001b[1;33m:\u001b[0m\u001b[1;34m\"Hyderabad\"\u001b[0m\u001b[1;33m,\u001b[0m \u001b[1;34m\"state\"\u001b[0m\u001b[1;33m:\u001b[0m\u001b[1;34m\"Telanagana\"\u001b[0m\u001b[1;33m,\u001b[0m\u001b[1;34m\"country\"\u001b[0m\u001b[1;33m:\u001b[0m\u001b[1;34m\"India\"\u001b[0m\u001b[1;33m,\u001b[0m\u001b[1;34m\"street\"\u001b[0m\u001b[1;33m:\u001b[0m\u001b[1;34m\"Devendernagar\"\u001b[0m\u001b[1;33m}\u001b[0m\u001b[1;33m\u001b[0m\u001b[1;33m\u001b[0m\u001b[0m\n\u001b[1;32m----> 3\u001b[1;33m \u001b[0mprint\u001b[0m\u001b[1;33m(\u001b[0m\u001b[0mperson\u001b[0m\u001b[1;33m*\u001b[0m\u001b[0maddress\u001b[0m\u001b[1;33m)\u001b[0m\u001b[1;33m\u001b[0m\u001b[1;33m\u001b[0m\u001b[0m\n\u001b[0m",
      "\u001b[1;31mTypeError\u001b[0m: unsupported operand type(s) for *: 'dict' and 'dict'"
     ]
    }
   ],
   "source": [
    "person = {\"name\":\"jay\",\"age\":4,\"weight\":17}\n",
    "address = {\"city\":\"Hyderabad\", \"state\":\"Telanagana\",\"country\":\"India\",\"street\":\"Devendernagar\"}\n",
    "print(person*address)"
   ]
  },
  {
   "cell_type": "code",
   "execution_count": 4,
   "metadata": {},
   "outputs": [
    {
     "ename": "TypeError",
     "evalue": "'>' not supported between instances of 'dict' and 'dict'",
     "output_type": "error",
     "traceback": [
      "\u001b[1;31m---------------------------------------------------------------------------\u001b[0m",
      "\u001b[1;31mTypeError\u001b[0m                                 Traceback (most recent call last)",
      "\u001b[1;32m<ipython-input-4-88b78efcd7b9>\u001b[0m in \u001b[0;36m<module>\u001b[1;34m\u001b[0m\n\u001b[0;32m      1\u001b[0m \u001b[0mperson\u001b[0m \u001b[1;33m=\u001b[0m \u001b[1;33m{\u001b[0m\u001b[1;34m\"name\"\u001b[0m\u001b[1;33m:\u001b[0m\u001b[1;34m\"jay\"\u001b[0m\u001b[1;33m,\u001b[0m\u001b[1;34m\"age\"\u001b[0m\u001b[1;33m:\u001b[0m\u001b[1;36m4\u001b[0m\u001b[1;33m,\u001b[0m\u001b[1;34m\"weight\"\u001b[0m\u001b[1;33m:\u001b[0m\u001b[1;36m17\u001b[0m\u001b[1;33m}\u001b[0m\u001b[1;33m\u001b[0m\u001b[1;33m\u001b[0m\u001b[0m\n\u001b[0;32m      2\u001b[0m \u001b[0maddress\u001b[0m \u001b[1;33m=\u001b[0m \u001b[1;33m{\u001b[0m\u001b[1;34m\"city\"\u001b[0m\u001b[1;33m:\u001b[0m\u001b[1;34m\"Hyderabad\"\u001b[0m\u001b[1;33m,\u001b[0m \u001b[1;34m\"state\"\u001b[0m\u001b[1;33m:\u001b[0m\u001b[1;34m\"Telanagana\"\u001b[0m\u001b[1;33m,\u001b[0m\u001b[1;34m\"country\"\u001b[0m\u001b[1;33m:\u001b[0m\u001b[1;34m\"India\"\u001b[0m\u001b[1;33m,\u001b[0m\u001b[1;34m\"street\"\u001b[0m\u001b[1;33m:\u001b[0m\u001b[1;34m\"Devendernagar\"\u001b[0m\u001b[1;33m}\u001b[0m\u001b[1;33m\u001b[0m\u001b[1;33m\u001b[0m\u001b[0m\n\u001b[1;32m----> 3\u001b[1;33m \u001b[0mprint\u001b[0m\u001b[1;33m(\u001b[0m\u001b[0mperson\u001b[0m\u001b[1;33m>\u001b[0m\u001b[0maddress\u001b[0m\u001b[1;33m)\u001b[0m\u001b[1;33m\u001b[0m\u001b[1;33m\u001b[0m\u001b[0m\n\u001b[0m",
      "\u001b[1;31mTypeError\u001b[0m: '>' not supported between instances of 'dict' and 'dict'"
     ]
    }
   ],
   "source": [
    "person = {\"name\":\"jay\",\"age\":4,\"weight\":17}\n",
    "address = {\"city\":\"Hyderabad\", \"state\":\"Telanagana\",\"country\":\"India\",\"street\":\"Devendernagar\"}\n",
    "print(person>address)"
   ]
  },
  {
   "cell_type": "code",
   "execution_count": 5,
   "metadata": {},
   "outputs": [
    {
     "ename": "TypeError",
     "evalue": "'<' not supported between instances of 'dict' and 'dict'",
     "output_type": "error",
     "traceback": [
      "\u001b[1;31m---------------------------------------------------------------------------\u001b[0m",
      "\u001b[1;31mTypeError\u001b[0m                                 Traceback (most recent call last)",
      "\u001b[1;32m<ipython-input-5-815950b56b6a>\u001b[0m in \u001b[0;36m<module>\u001b[1;34m\u001b[0m\n\u001b[0;32m      1\u001b[0m \u001b[0mperson\u001b[0m \u001b[1;33m=\u001b[0m \u001b[1;33m{\u001b[0m\u001b[1;34m\"name\"\u001b[0m\u001b[1;33m:\u001b[0m\u001b[1;34m\"jay\"\u001b[0m\u001b[1;33m,\u001b[0m\u001b[1;34m\"age\"\u001b[0m\u001b[1;33m:\u001b[0m\u001b[1;36m4\u001b[0m\u001b[1;33m,\u001b[0m\u001b[1;34m\"weight\"\u001b[0m\u001b[1;33m:\u001b[0m\u001b[1;36m17\u001b[0m\u001b[1;33m}\u001b[0m\u001b[1;33m\u001b[0m\u001b[1;33m\u001b[0m\u001b[0m\n\u001b[0;32m      2\u001b[0m \u001b[0maddress\u001b[0m \u001b[1;33m=\u001b[0m \u001b[1;33m{\u001b[0m\u001b[1;34m\"city\"\u001b[0m\u001b[1;33m:\u001b[0m\u001b[1;34m\"Hyderabad\"\u001b[0m\u001b[1;33m,\u001b[0m \u001b[1;34m\"state\"\u001b[0m\u001b[1;33m:\u001b[0m\u001b[1;34m\"Telanagana\"\u001b[0m\u001b[1;33m,\u001b[0m\u001b[1;34m\"country\"\u001b[0m\u001b[1;33m:\u001b[0m\u001b[1;34m\"India\"\u001b[0m\u001b[1;33m,\u001b[0m\u001b[1;34m\"street\"\u001b[0m\u001b[1;33m:\u001b[0m\u001b[1;34m\"Devendernagar\"\u001b[0m\u001b[1;33m}\u001b[0m\u001b[1;33m\u001b[0m\u001b[1;33m\u001b[0m\u001b[0m\n\u001b[1;32m----> 3\u001b[1;33m \u001b[0mprint\u001b[0m\u001b[1;33m(\u001b[0m\u001b[0mperson\u001b[0m\u001b[1;33m<\u001b[0m\u001b[0maddress\u001b[0m\u001b[1;33m)\u001b[0m\u001b[1;33m\u001b[0m\u001b[1;33m\u001b[0m\u001b[0m\n\u001b[0m",
      "\u001b[1;31mTypeError\u001b[0m: '<' not supported between instances of 'dict' and 'dict'"
     ]
    }
   ],
   "source": [
    "person = {\"name\":\"jay\",\"age\":4,\"weight\":17}\n",
    "address = {\"city\":\"Hyderabad\", \"state\":\"Telanagana\",\"country\":\"India\",\"street\":\"Devendernagar\"}\n",
    "print(person<address)"
   ]
  },
  {
   "cell_type": "code",
   "execution_count": 6,
   "metadata": {},
   "outputs": [
    {
     "name": "stdout",
     "output_type": "stream",
     "text": [
      "False\n"
     ]
    }
   ],
   "source": [
    "person = {\"name\":\"jay\",\"age\":4,\"weight\":17}\n",
    "address = {\"city\":\"Hyderabad\", \"state\":\"Telanagana\",\"country\":\"India\",\"street\":\"Devendernagar\"}\n",
    "print(person==address)"
   ]
  },
  {
   "cell_type": "code",
   "execution_count": 7,
   "metadata": {},
   "outputs": [
    {
     "name": "stdout",
     "output_type": "stream",
     "text": [
      "True\n"
     ]
    }
   ],
   "source": [
    "person1 = {\"name\":\"jay\",\"age\":4,\"weight\":17}\n",
    "person2 = {\"name\":\"jay\",\"age\":4,\"weight\":17}\n",
    "print(person==person2)"
   ]
  },
  {
   "cell_type": "code",
   "execution_count": 8,
   "metadata": {},
   "outputs": [
    {
     "name": "stdout",
     "output_type": "stream",
     "text": [
      "True\n"
     ]
    }
   ],
   "source": [
    "person1 = {\"name\":\"jay\",\"age\":4,\"weight\":17}\n",
    "person2 = {\"name\":\"jay\",\"weight\":17,\"age\":4}\n",
    "print(person==person2)"
   ]
  },
  {
   "cell_type": "code",
   "execution_count": 9,
   "metadata": {},
   "outputs": [
    {
     "name": "stdout",
     "output_type": "stream",
     "text": [
      "False\n"
     ]
    }
   ],
   "source": [
    "person1 = {\"name\":\"jay\",\"age\":4,\"weight\":17}\n",
    "person2 = {\"name\":\"jay\",\"weight\":17,\"age\":4,\"height\":\"34\"}\n",
    "print(person==person2)"
   ]
  },
  {
   "cell_type": "code",
   "execution_count": 10,
   "metadata": {},
   "outputs": [
    {
     "name": "stdout",
     "output_type": "stream",
     "text": [
      "name\n",
      "age\n",
      "weight\n"
     ]
    }
   ],
   "source": [
    "person1 = {\"name\":\"jay\",\"age\":4,\"weight\":17}\n",
    "for i in person1:\n",
    "    print(i)"
   ]
  },
  {
   "cell_type": "code",
   "execution_count": 11,
   "metadata": {},
   "outputs": [
    {
     "name": "stdout",
     "output_type": "stream",
     "text": [
      "jay\n",
      "4\n",
      "17\n"
     ]
    }
   ],
   "source": [
    "person1 = {\"name\":\"jay\",\"age\":4,\"weight\":17}\n",
    "for i in person1.values():\n",
    "    print(i)"
   ]
  },
  {
   "cell_type": "code",
   "execution_count": 12,
   "metadata": {},
   "outputs": [
    {
     "name": "stdout",
     "output_type": "stream",
     "text": [
      "('name', 'jay')\n",
      "('age', 4)\n",
      "('weight', 17)\n"
     ]
    }
   ],
   "source": [
    "person1 = {\"name\":\"jay\",\"age\":4,\"weight\":17}\n",
    "for i in person1.items():\n",
    "    print(i)"
   ]
  },
  {
   "cell_type": "code",
   "execution_count": 13,
   "metadata": {},
   "outputs": [
    {
     "name": "stdout",
     "output_type": "stream",
     "text": [
      "name\n",
      "jay\n"
     ]
    }
   ],
   "source": [
    "t=('name', 'jay')\n",
    "key,value=t\n",
    "print(key)\n",
    "print(value)"
   ]
  },
  {
   "cell_type": "code",
   "execution_count": 14,
   "metadata": {},
   "outputs": [
    {
     "name": "stdout",
     "output_type": "stream",
     "text": [
      "name jay\n",
      "age 4\n",
      "weight 17\n"
     ]
    }
   ],
   "source": [
    "person1 = {\"name\":\"jay\",\"age\":4,\"weight\":17}\n",
    "for key,value in person1.items():\n",
    "    print(key, value)"
   ]
  },
  {
   "cell_type": "code",
   "execution_count": 16,
   "metadata": {},
   "outputs": [
    {
     "name": "stdout",
     "output_type": "stream",
     "text": [
      "jay\n",
      "jay\n",
      "jay\n",
      "jay\n"
     ]
    }
   ],
   "source": [
    "person1 = {\"name\":\"jay\",\"age\":4,\"weight\":17}\n",
    "print(person1.get(\"name\"))\n",
    "print(person1[\"name\"])\n",
    "print(\"%(name)s\"%person1)\n",
    "print(\"{name}\".format_map(person1))"
   ]
  },
  {
   "cell_type": "code",
   "execution_count": 17,
   "metadata": {},
   "outputs": [
    {
     "name": "stdout",
     "output_type": "stream",
     "text": [
      "4\n",
      "4\n",
      "4\n",
      "4\n"
     ]
    }
   ],
   "source": [
    "person1 = {\"name\":\"jay\",\"age\":4,\"weight\":17}\n",
    "print(person1.get(\"age\"))\n",
    "print(person1[\"age\"])\n",
    "print(\"%(age)s\"%person1)\n",
    "print(\"{age}\".format_map(person1))"
   ]
  },
  {
   "cell_type": "code",
   "execution_count": 18,
   "metadata": {},
   "outputs": [
    {
     "name": "stdout",
     "output_type": "stream",
     "text": [
      "None\n"
     ]
    },
    {
     "ename": "KeyError",
     "evalue": "'phone'",
     "output_type": "error",
     "traceback": [
      "\u001b[1;31m---------------------------------------------------------------------------\u001b[0m",
      "\u001b[1;31mKeyError\u001b[0m                                  Traceback (most recent call last)",
      "\u001b[1;32m<ipython-input-18-0a2f30a16131>\u001b[0m in \u001b[0;36m<module>\u001b[1;34m\u001b[0m\n\u001b[0;32m      1\u001b[0m \u001b[0mperson1\u001b[0m \u001b[1;33m=\u001b[0m \u001b[1;33m{\u001b[0m\u001b[1;34m\"name\"\u001b[0m\u001b[1;33m:\u001b[0m\u001b[1;34m\"jay\"\u001b[0m\u001b[1;33m,\u001b[0m\u001b[1;34m\"age\"\u001b[0m\u001b[1;33m:\u001b[0m\u001b[1;36m4\u001b[0m\u001b[1;33m,\u001b[0m\u001b[1;34m\"weight\"\u001b[0m\u001b[1;33m:\u001b[0m\u001b[1;36m17\u001b[0m\u001b[1;33m}\u001b[0m\u001b[1;33m\u001b[0m\u001b[1;33m\u001b[0m\u001b[0m\n\u001b[0;32m      2\u001b[0m \u001b[0mprint\u001b[0m\u001b[1;33m(\u001b[0m\u001b[0mperson1\u001b[0m\u001b[1;33m.\u001b[0m\u001b[0mget\u001b[0m\u001b[1;33m(\u001b[0m\u001b[1;34m\"phone\"\u001b[0m\u001b[1;33m)\u001b[0m\u001b[1;33m)\u001b[0m\u001b[1;33m\u001b[0m\u001b[1;33m\u001b[0m\u001b[0m\n\u001b[1;32m----> 3\u001b[1;33m \u001b[0mprint\u001b[0m\u001b[1;33m(\u001b[0m\u001b[0mperson1\u001b[0m\u001b[1;33m[\u001b[0m\u001b[1;34m\"phone\"\u001b[0m\u001b[1;33m]\u001b[0m\u001b[1;33m)\u001b[0m\u001b[1;33m\u001b[0m\u001b[1;33m\u001b[0m\u001b[0m\n\u001b[0m\u001b[0;32m      4\u001b[0m \u001b[0mprint\u001b[0m\u001b[1;33m(\u001b[0m\u001b[1;34m\"%(phone)s\"\u001b[0m\u001b[1;33m%\u001b[0m\u001b[0mperson1\u001b[0m\u001b[1;33m)\u001b[0m\u001b[1;33m\u001b[0m\u001b[1;33m\u001b[0m\u001b[0m\n\u001b[0;32m      5\u001b[0m \u001b[0mprint\u001b[0m\u001b[1;33m(\u001b[0m\u001b[1;34m\"{phone}\"\u001b[0m\u001b[1;33m.\u001b[0m\u001b[0mformat_map\u001b[0m\u001b[1;33m(\u001b[0m\u001b[0mperson1\u001b[0m\u001b[1;33m)\u001b[0m\u001b[1;33m)\u001b[0m\u001b[1;33m\u001b[0m\u001b[1;33m\u001b[0m\u001b[0m\n",
      "\u001b[1;31mKeyError\u001b[0m: 'phone'"
     ]
    }
   ],
   "source": [
    "person1 = {\"name\":\"jay\",\"age\":4,\"weight\":17}\n",
    "print(person1.get(\"phone\"))\n",
    "print(person1[\"phone\"])\n",
    "print(\"%(phone)s\"%person1)\n",
    "print(\"{phone}\".format_map(person1))"
   ]
  },
  {
   "cell_type": "code",
   "execution_count": 19,
   "metadata": {},
   "outputs": [
    {
     "name": "stdout",
     "output_type": "stream",
     "text": [
      "None\n"
     ]
    },
    {
     "ename": "KeyError",
     "evalue": "'phone'",
     "output_type": "error",
     "traceback": [
      "\u001b[1;31m---------------------------------------------------------------------------\u001b[0m",
      "\u001b[1;31mKeyError\u001b[0m                                  Traceback (most recent call last)",
      "\u001b[1;32m<ipython-input-19-694ca08a8716>\u001b[0m in \u001b[0;36m<module>\u001b[1;34m\u001b[0m\n\u001b[0;32m      2\u001b[0m \u001b[0mprint\u001b[0m\u001b[1;33m(\u001b[0m\u001b[0mperson1\u001b[0m\u001b[1;33m.\u001b[0m\u001b[0mget\u001b[0m\u001b[1;33m(\u001b[0m\u001b[1;34m\"phone\"\u001b[0m\u001b[1;33m)\u001b[0m\u001b[1;33m)\u001b[0m\u001b[1;33m\u001b[0m\u001b[1;33m\u001b[0m\u001b[0m\n\u001b[0;32m      3\u001b[0m \u001b[1;31m#print(person1[\"phone\"])\u001b[0m\u001b[1;33m\u001b[0m\u001b[1;33m\u001b[0m\u001b[1;33m\u001b[0m\u001b[0m\n\u001b[1;32m----> 4\u001b[1;33m \u001b[0mprint\u001b[0m\u001b[1;33m(\u001b[0m\u001b[1;34m\"%(phone)s\"\u001b[0m\u001b[1;33m%\u001b[0m\u001b[0mperson1\u001b[0m\u001b[1;33m)\u001b[0m\u001b[1;33m\u001b[0m\u001b[1;33m\u001b[0m\u001b[0m\n\u001b[0m\u001b[0;32m      5\u001b[0m \u001b[0mprint\u001b[0m\u001b[1;33m(\u001b[0m\u001b[1;34m\"{phone}\"\u001b[0m\u001b[1;33m.\u001b[0m\u001b[0mformat_map\u001b[0m\u001b[1;33m(\u001b[0m\u001b[0mperson1\u001b[0m\u001b[1;33m)\u001b[0m\u001b[1;33m)\u001b[0m\u001b[1;33m\u001b[0m\u001b[1;33m\u001b[0m\u001b[0m\n",
      "\u001b[1;31mKeyError\u001b[0m: 'phone'"
     ]
    }
   ],
   "source": [
    "person1 = {\"name\":\"jay\",\"age\":4,\"weight\":17}\n",
    "print(person1.get(\"phone\"))\n",
    "#print(person1[\"phone\"])\n",
    "print(\"%(phone)s\"%person1)\n",
    "print(\"{phone}\".format_map(person1))"
   ]
  },
  {
   "cell_type": "code",
   "execution_count": 20,
   "metadata": {},
   "outputs": [
    {
     "name": "stdout",
     "output_type": "stream",
     "text": [
      "None\n"
     ]
    },
    {
     "ename": "KeyError",
     "evalue": "'phone'",
     "output_type": "error",
     "traceback": [
      "\u001b[1;31m---------------------------------------------------------------------------\u001b[0m",
      "\u001b[1;31mKeyError\u001b[0m                                  Traceback (most recent call last)",
      "\u001b[1;32m<ipython-input-20-c148da80133b>\u001b[0m in \u001b[0;36m<module>\u001b[1;34m\u001b[0m\n\u001b[0;32m      3\u001b[0m \u001b[1;31m#print(person1[\"phone\"])\u001b[0m\u001b[1;33m\u001b[0m\u001b[1;33m\u001b[0m\u001b[1;33m\u001b[0m\u001b[0m\n\u001b[0;32m      4\u001b[0m \u001b[1;31m#print(\"%(phone)s\"%person1)\u001b[0m\u001b[1;33m\u001b[0m\u001b[1;33m\u001b[0m\u001b[1;33m\u001b[0m\u001b[0m\n\u001b[1;32m----> 5\u001b[1;33m \u001b[0mprint\u001b[0m\u001b[1;33m(\u001b[0m\u001b[1;34m\"{phone}\"\u001b[0m\u001b[1;33m.\u001b[0m\u001b[0mformat_map\u001b[0m\u001b[1;33m(\u001b[0m\u001b[0mperson1\u001b[0m\u001b[1;33m)\u001b[0m\u001b[1;33m)\u001b[0m\u001b[1;33m\u001b[0m\u001b[1;33m\u001b[0m\u001b[0m\n\u001b[0m",
      "\u001b[1;31mKeyError\u001b[0m: 'phone'"
     ]
    }
   ],
   "source": [
    "person1 = {\"name\":\"jay\",\"age\":4,\"weight\":17}\n",
    "print(person1.get(\"phone\"))\n",
    "#print(person1[\"phone\"])\n",
    "#print(\"%(phone)s\"%person1)\n",
    "print(\"{phone}\".format_map(person1))"
   ]
  },
  {
   "cell_type": "code",
   "execution_count": 21,
   "metadata": {},
   "outputs": [
    {
     "name": "stdout",
     "output_type": "stream",
     "text": [
      "None\n"
     ]
    }
   ],
   "source": [
    "person1 = {\"name\":\"jay\",\"age\":4,\"weight\":17}\n",
    "print(person1.get(\"phone\"))"
   ]
  },
  {
   "cell_type": "code",
   "execution_count": 22,
   "metadata": {},
   "outputs": [
    {
     "name": "stdout",
     "output_type": "stream",
     "text": [
      "XX-XXXX-XXXX\n"
     ]
    }
   ],
   "source": [
    "person1 = {\"name\":\"jay\",\"age\":4,\"weight\":17}\n",
    "print(person1.get(\"phone\",\"XX-XXXX-XXXX\"))"
   ]
  },
  {
   "cell_type": "code",
   "execution_count": 23,
   "metadata": {},
   "outputs": [
    {
     "name": "stdout",
     "output_type": "stream",
     "text": [
      "jay\n"
     ]
    }
   ],
   "source": [
    "person1 = {\"name\":\"jay\",\"age\":4,\"weight\":17}\n",
    "print(person1.get(\"name\",\"XX-XXXX-XXXX\"))"
   ]
  },
  {
   "cell_type": "code",
   "execution_count": 24,
   "metadata": {},
   "outputs": [
    {
     "name": "stdout",
     "output_type": "stream",
     "text": [
      "{'name': 'jay', 'age': 4, 'weight': 17, 'phone': '9676622023'}\n"
     ]
    }
   ],
   "source": [
    "person = {\"name\":\"jay\",\"age\":4,\"weight\":17}\n",
    "person[\"phone\"] = \"9676622023\"\n",
    "print(person)"
   ]
  },
  {
   "cell_type": "code",
   "execution_count": 25,
   "metadata": {},
   "outputs": [
    {
     "name": "stdout",
     "output_type": "stream",
     "text": [
      "{'name': 'jay', 'age': 4, 'weight': 17, 'phone': '9676622023', 'email': 'samba@gmail.com'}\n"
     ]
    }
   ],
   "source": [
    "person = {\"name\":\"jay\",\"age\":4,\"weight\":17}\n",
    "person[\"phone\"] = \"9676622023\"\n",
    "person[\"email\"] = \"samba@gmail.com\"\n",
    "print(person)"
   ]
  },
  {
   "cell_type": "code",
   "execution_count": 26,
   "metadata": {},
   "outputs": [
    {
     "name": "stdout",
     "output_type": "stream",
     "text": [
      "{'name': 'jay', 'age': 4, 'weight': 17, 'phone': '9676622023', 'email': 'samba@gmail.com'}\n"
     ]
    }
   ],
   "source": [
    "person = {\"name\":\"jay\",\"age\":4,\"weight\":17}\n",
    "other_details = {\"phone\":\"9676622023\",\"email\":\"samba@gmail.com\"}\n",
    "person.update(other_details)\n",
    "print(person)"
   ]
  },
  {
   "cell_type": "code",
   "execution_count": 27,
   "metadata": {},
   "outputs": [
    {
     "name": "stdout",
     "output_type": "stream",
     "text": [
      "{'name': 'JAYARAM', 'age': 4, 'weight': 17, 'phone': '9676622023', 'email': 'samba@gmail.com'}\n"
     ]
    }
   ],
   "source": [
    "person = {\"name\":\"jay\",\"age\":4,\"weight\":17}\n",
    "other_details = {\"phone\":\"9676622023\",\"email\":\"samba@gmail.com\",\"name\":\"JAYARAM\"}\n",
    "person.update(other_details)\n",
    "print(person)"
   ]
  },
  {
   "cell_type": "code",
   "execution_count": 28,
   "metadata": {},
   "outputs": [
    {
     "name": "stdout",
     "output_type": "stream",
     "text": [
      "{'name': 'jay', 'age': 4, 'weight': 17, 'phone': '9676622023'}\n"
     ]
    }
   ],
   "source": [
    "person = {\"name\":\"jay\",\"age\":4,\"weight\":17}\n",
    "person.setdefault(\"phone\",\"9676622023\")\n",
    "print(person)"
   ]
  },
  {
   "cell_type": "code",
   "execution_count": 29,
   "metadata": {},
   "outputs": [
    {
     "name": "stdout",
     "output_type": "stream",
     "text": [
      "{'name': 'jay', 'age': 4, 'weight': 17}\n"
     ]
    }
   ],
   "source": [
    "person = {\"name\":\"jay\",\"age\":4,\"weight\":17}\n",
    "person.setdefault(\"name\",\"JAYARAM\")\n",
    "print(person)"
   ]
  },
  {
   "cell_type": "code",
   "execution_count": 30,
   "metadata": {},
   "outputs": [
    {
     "name": "stdout",
     "output_type": "stream",
     "text": [
      "4\n",
      "{'name': 'jay', 'weight': 17}\n"
     ]
    }
   ],
   "source": [
    "person = {\"name\":\"jay\",\"age\":4,\"weight\":17}\n",
    "value=person.pop(\"age\")\n",
    "print(value)\n",
    "print(person)"
   ]
  },
  {
   "cell_type": "code",
   "execution_count": 31,
   "metadata": {},
   "outputs": [
    {
     "ename": "KeyError",
     "evalue": "'phone'",
     "output_type": "error",
     "traceback": [
      "\u001b[1;31m---------------------------------------------------------------------------\u001b[0m",
      "\u001b[1;31mKeyError\u001b[0m                                  Traceback (most recent call last)",
      "\u001b[1;32m<ipython-input-31-f584c33e7159>\u001b[0m in \u001b[0;36m<module>\u001b[1;34m\u001b[0m\n\u001b[0;32m      1\u001b[0m \u001b[0mperson\u001b[0m \u001b[1;33m=\u001b[0m \u001b[1;33m{\u001b[0m\u001b[1;34m\"name\"\u001b[0m\u001b[1;33m:\u001b[0m\u001b[1;34m\"jay\"\u001b[0m\u001b[1;33m,\u001b[0m\u001b[1;34m\"age\"\u001b[0m\u001b[1;33m:\u001b[0m\u001b[1;36m4\u001b[0m\u001b[1;33m,\u001b[0m\u001b[1;34m\"weight\"\u001b[0m\u001b[1;33m:\u001b[0m\u001b[1;36m17\u001b[0m\u001b[1;33m}\u001b[0m\u001b[1;33m\u001b[0m\u001b[1;33m\u001b[0m\u001b[0m\n\u001b[1;32m----> 2\u001b[1;33m \u001b[0mvalue\u001b[0m\u001b[1;33m=\u001b[0m\u001b[0mperson\u001b[0m\u001b[1;33m.\u001b[0m\u001b[0mpop\u001b[0m\u001b[1;33m(\u001b[0m\u001b[1;34m\"phone\"\u001b[0m\u001b[1;33m)\u001b[0m\u001b[1;33m\u001b[0m\u001b[1;33m\u001b[0m\u001b[0m\n\u001b[0m\u001b[0;32m      3\u001b[0m \u001b[0mprint\u001b[0m\u001b[1;33m(\u001b[0m\u001b[0mvalue\u001b[0m\u001b[1;33m)\u001b[0m\u001b[1;33m\u001b[0m\u001b[1;33m\u001b[0m\u001b[0m\n\u001b[0;32m      4\u001b[0m \u001b[0mprint\u001b[0m\u001b[1;33m(\u001b[0m\u001b[0mperson\u001b[0m\u001b[1;33m)\u001b[0m\u001b[1;33m\u001b[0m\u001b[1;33m\u001b[0m\u001b[0m\n",
      "\u001b[1;31mKeyError\u001b[0m: 'phone'"
     ]
    }
   ],
   "source": [
    "person = {\"name\":\"jay\",\"age\":4,\"weight\":17}\n",
    "value=person.pop(\"phone\")\n",
    "print(value)\n",
    "print(person)"
   ]
  },
  {
   "cell_type": "code",
   "execution_count": 32,
   "metadata": {},
   "outputs": [
    {
     "name": "stdout",
     "output_type": "stream",
     "text": [
      "XX-XXXX-XXXX\n",
      "{'name': 'jay', 'age': 4, 'weight': 17}\n"
     ]
    }
   ],
   "source": [
    "person = {\"name\":\"jay\",\"age\":4,\"weight\":17}\n",
    "value=person.pop(\"phone\", \"XX-XXXX-XXXX\")\n",
    "print(value)\n",
    "print(person)"
   ]
  },
  {
   "cell_type": "code",
   "execution_count": 33,
   "metadata": {},
   "outputs": [
    {
     "name": "stdout",
     "output_type": "stream",
     "text": [
      "('weight', 17)\n",
      "{'name': 'jay', 'age': 4}\n"
     ]
    }
   ],
   "source": [
    "person = {\"name\":\"jay\",\"age\":4,\"weight\":17}\n",
    "item = person.popitem()\n",
    "print(item)\n",
    "print(person)"
   ]
  },
  {
   "cell_type": "code",
   "execution_count": 34,
   "metadata": {},
   "outputs": [
    {
     "ename": "KeyError",
     "evalue": "'popitem(): dictionary is empty'",
     "output_type": "error",
     "traceback": [
      "\u001b[1;31m---------------------------------------------------------------------------\u001b[0m",
      "\u001b[1;31mKeyError\u001b[0m                                  Traceback (most recent call last)",
      "\u001b[1;32m<ipython-input-34-492d5bb30a4c>\u001b[0m in \u001b[0;36m<module>\u001b[1;34m\u001b[0m\n\u001b[0;32m      1\u001b[0m \u001b[0mperson\u001b[0m \u001b[1;33m=\u001b[0m \u001b[1;33m{\u001b[0m\u001b[1;33m}\u001b[0m\u001b[1;33m\u001b[0m\u001b[1;33m\u001b[0m\u001b[0m\n\u001b[1;32m----> 2\u001b[1;33m \u001b[0mitem\u001b[0m \u001b[1;33m=\u001b[0m \u001b[0mperson\u001b[0m\u001b[1;33m.\u001b[0m\u001b[0mpopitem\u001b[0m\u001b[1;33m(\u001b[0m\u001b[1;33m)\u001b[0m\u001b[1;33m\u001b[0m\u001b[1;33m\u001b[0m\u001b[0m\n\u001b[0m\u001b[0;32m      3\u001b[0m \u001b[0mprint\u001b[0m\u001b[1;33m(\u001b[0m\u001b[0mitem\u001b[0m\u001b[1;33m)\u001b[0m\u001b[1;33m\u001b[0m\u001b[1;33m\u001b[0m\u001b[0m\n\u001b[0;32m      4\u001b[0m \u001b[0mprint\u001b[0m\u001b[1;33m(\u001b[0m\u001b[0mperson\u001b[0m\u001b[1;33m)\u001b[0m\u001b[1;33m\u001b[0m\u001b[1;33m\u001b[0m\u001b[0m\n",
      "\u001b[1;31mKeyError\u001b[0m: 'popitem(): dictionary is empty'"
     ]
    }
   ],
   "source": [
    "person = {}\n",
    "item = person.popitem()\n",
    "print(item)\n",
    "print(person)"
   ]
  },
  {
   "cell_type": "code",
   "execution_count": 35,
   "metadata": {},
   "outputs": [
    {
     "name": "stdout",
     "output_type": "stream",
     "text": [
      "{'name': 'jay', 'age': 4, 'weight': 17, 'phone': '9676622023'}\n"
     ]
    }
   ],
   "source": [
    "person = {\"name\":\"jay\",\"age\":4,\"weight\":17}\n",
    "p1=person# p1 and person refering the same object in the memory\n",
    "p1[\"phone\"]=\"9676622023\"\n",
    "print(person)"
   ]
  },
  {
   "cell_type": "code",
   "execution_count": 36,
   "metadata": {},
   "outputs": [
    {
     "name": "stdout",
     "output_type": "stream",
     "text": [
      "{'name': 'jay', 'age': 4, 'weight': 17}\n"
     ]
    }
   ],
   "source": [
    "person = {\"name\":\"jay\",\"age\":4,\"weight\":17}\n",
    "p1=person.copy()# p1 and person refering the two different objects in the memory\n",
    "p1[\"phone\"]=\"9676622023\"\n",
    "print(person)"
   ]
  },
  {
   "cell_type": "code",
   "execution_count": 37,
   "metadata": {},
   "outputs": [
    {
     "name": "stdout",
     "output_type": "stream",
     "text": [
      "{}\n"
     ]
    }
   ],
   "source": [
    "person = {\"name\":\"jay\",\"age\":4,\"weight\":17}\n",
    "person.clear()\n",
    "print(person)"
   ]
  },
  {
   "cell_type": "code",
   "execution_count": null,
   "metadata": {},
   "outputs": [],
   "source": [
    "l=[{\"name\":\"jay\",\"age\":30},{\"name\":\"vedha\",\"age\":29},{\"name\":\"sai\",\"age\":32}]\n",
    "#l=[{\"name\":\"jay\",\"age\":30,\"phone\":\"9676622023\"},{\"name\":\"vedha\",\"age\":29,\"phone\":\"9676622024\"},{\"name\":\"sai\",\"age\":32,\"phone\":\"9676622025\"}]\n",
    "phone_numbers=[\"9676622023\",\"9676622024\",\"9676622025\"]"
   ]
  },
  {
   "cell_type": "code",
   "execution_count": 38,
   "metadata": {},
   "outputs": [
    {
     "name": "stdout",
     "output_type": "stream",
     "text": [
      "{'name': 'jay', 'age': 30}\n"
     ]
    }
   ],
   "source": [
    "l=[{\"name\":\"jay\",\"age\":30},{\"name\":\"vedha\",\"age\":29},{\"name\":\"sai\",\"age\":32}]\n",
    "i=l[0]\n",
    "print(i)"
   ]
  },
  {
   "cell_type": "code",
   "execution_count": 39,
   "metadata": {},
   "outputs": [
    {
     "name": "stdout",
     "output_type": "stream",
     "text": [
      "{'name': 'jay', 'age': 30}\n",
      "[{'name': 'jay', 'age': 30, 'phone': '9676622023'}, {'name': 'vedha', 'age': 29}, {'name': 'sai', 'age': 32}]\n"
     ]
    }
   ],
   "source": [
    "l=[{\"name\":\"jay\",\"age\":30},{\"name\":\"vedha\",\"age\":29},{\"name\":\"sai\",\"age\":32}]\n",
    "i=l[0]# 0th index and i are refering the same object.\n",
    "print(i)\n",
    "i[\"phone\"]=\"9676622023\"\n",
    "print(l)"
   ]
  },
  {
   "cell_type": "code",
   "execution_count": 40,
   "metadata": {},
   "outputs": [
    {
     "name": "stdout",
     "output_type": "stream",
     "text": [
      "10\n",
      "20\n",
      "30\n",
      "40\n"
     ]
    }
   ],
   "source": [
    "l=[10,20,30,40,]\n",
    "for i in l:\n",
    "    print(i)"
   ]
  },
  {
   "cell_type": "code",
   "execution_count": 41,
   "metadata": {},
   "outputs": [
    {
     "name": "stdout",
     "output_type": "stream",
     "text": [
      "(0, 10)\n",
      "(1, 20)\n",
      "(2, 30)\n",
      "(3, 40)\n"
     ]
    }
   ],
   "source": [
    "l=[10,20,30,40,]\n",
    "for i in enumerate(l):\n",
    "    print(i)"
   ]
  },
  {
   "cell_type": "code",
   "execution_count": 42,
   "metadata": {},
   "outputs": [
    {
     "name": "stdout",
     "output_type": "stream",
     "text": [
      "0 10\n",
      "1 20\n",
      "2 30\n",
      "3 40\n"
     ]
    }
   ],
   "source": [
    "l=[10,20,30,40,]\n",
    "for index,value in enumerate(l):\n",
    "    print(index,value)"
   ]
  },
  {
   "cell_type": "code",
   "execution_count": 43,
   "metadata": {},
   "outputs": [
    {
     "name": "stdout",
     "output_type": "stream",
     "text": [
      "0 {'name': 'jay', 'age': 30}\n",
      "1 {'name': 'vedha', 'age': 29}\n",
      "2 {'name': 'sai', 'age': 32}\n"
     ]
    }
   ],
   "source": [
    "l=[{\"name\":\"jay\",\"age\":30},{\"name\":\"vedha\",\"age\":29},{\"name\":\"sai\",\"age\":32}]\n",
    "for index,value in enumerate(l):\n",
    "    print(index,value)"
   ]
  },
  {
   "cell_type": "code",
   "execution_count": 44,
   "metadata": {},
   "outputs": [
    {
     "name": "stdout",
     "output_type": "stream",
     "text": [
      "9676622023 {'name': 'jay', 'age': 30}\n",
      "9676622024 {'name': 'vedha', 'age': 29}\n",
      "9676622025 {'name': 'sai', 'age': 32}\n"
     ]
    }
   ],
   "source": [
    "l=[{\"name\":\"jay\",\"age\":30},{\"name\":\"vedha\",\"age\":29},{\"name\":\"sai\",\"age\":32}]\n",
    "phone_numbers=[\"9676622023\",\"9676622024\",\"9676622025\"]\n",
    "for index,value in enumerate(l):\n",
    "    print(phone_numbers[index],value)"
   ]
  },
  {
   "cell_type": "code",
   "execution_count": 45,
   "metadata": {},
   "outputs": [
    {
     "name": "stdout",
     "output_type": "stream",
     "text": [
      "[{'name': 'jay', 'age': 30, 'phone': '9676622023'}, {'name': 'vedha', 'age': 29, 'phone': '9676622024'}, {'name': 'sai', 'age': 32, 'phone': '9676622025'}]\n"
     ]
    }
   ],
   "source": [
    "l=[{\"name\":\"jay\",\"age\":30},{\"name\":\"vedha\",\"age\":29},{\"name\":\"sai\",\"age\":32}]\n",
    "phone_numbers=[\"9676622023\",\"9676622024\",\"9676622025\"]\n",
    "for index,value in enumerate(l):\n",
    "    value[\"phone\"]=phone_numbers[index]\n",
    "print(l)"
   ]
  },
  {
   "cell_type": "code",
   "execution_count": 47,
   "metadata": {},
   "outputs": [
    {
     "name": "stdout",
     "output_type": "stream",
     "text": [
      "[{'name': 'jay', 'age': 30}, {'name': 'vedha', 'age': 29}, {'name': 'sai', 'age': 32}]\n"
     ]
    }
   ],
   "source": [
    "names=[\"jay\",\"vedha\",\"sai\"]\n",
    "ages=[30,29,32]\n",
    "res=[]\n",
    "for index,name in enumerate(names):\n",
    "    res.append({\"name\":name,\"age\":ages[index]})\n",
    "print(res)"
   ]
  },
  {
   "cell_type": "code",
   "execution_count": 48,
   "metadata": {},
   "outputs": [
    {
     "data": {
      "text/plain": [
       "{'name': 'jay', 'age': 32}"
      ]
     },
     "execution_count": 48,
     "metadata": {},
     "output_type": "execute_result"
    }
   ],
   "source": [
    "dict(name=\"jay\",age=32)"
   ]
  },
  {
   "cell_type": "code",
   "execution_count": 49,
   "metadata": {},
   "outputs": [
    {
     "data": {
      "text/plain": [
       "{'name': 'jay', 'age': 32, 'phone': '9676622023', 'email': 'samba@gmail.com'}"
      ]
     },
     "execution_count": 49,
     "metadata": {},
     "output_type": "execute_result"
    }
   ],
   "source": [
    "dict([(\"name\",\"jay\"),(\"age\",32),(\"phone\",\"9676622023\"),(\"email\",\"samba@gmail.com\")])"
   ]
  },
  {
   "cell_type": "code",
   "execution_count": 50,
   "metadata": {},
   "outputs": [
    {
     "name": "stdout",
     "output_type": "stream",
     "text": [
      "<zip object at 0x0000028394B4BE00>\n"
     ]
    }
   ],
   "source": [
    "keys=[\"name\",\"age\",\"phone\",\"email\"]\n",
    "values=[\"jay\",32,\"9676622023\",\"samba@gmail.com\"]\n",
    "print(zip(keys,values))"
   ]
  },
  {
   "cell_type": "code",
   "execution_count": 51,
   "metadata": {},
   "outputs": [
    {
     "name": "stdout",
     "output_type": "stream",
     "text": [
      "[('name', 'jay'), ('age', 32), ('phone', '9676622023'), ('email', 'samba@gmail.com')]\n"
     ]
    }
   ],
   "source": [
    "keys=[\"name\",\"age\",\"phone\",\"email\"]\n",
    "values=[\"jay\",32,\"9676622023\",\"samba@gmail.com\"]\n",
    "print(list(zip(keys,values)))"
   ]
  },
  {
   "cell_type": "code",
   "execution_count": 52,
   "metadata": {},
   "outputs": [
    {
     "data": {
      "text/plain": [
       "{'name': 'jay', 'age': 32, 'phone': '9676622023', 'email': 'samba@gmail.com'}"
      ]
     },
     "execution_count": 52,
     "metadata": {},
     "output_type": "execute_result"
    }
   ],
   "source": [
    "keys=[\"name\",\"age\",\"phone\",\"email\"]\n",
    "values=[\"jay\",32,\"9676622023\",\"samba@gmail.com\"]\n",
    "dict(zip(keys,values))"
   ]
  },
  {
   "cell_type": "code",
   "execution_count": null,
   "metadata": {},
   "outputs": [],
   "source": [
    "#defaultdict?\n",
    "#set theory?"
   ]
  }
 ],
 "metadata": {
  "kernelspec": {
   "display_name": "Python 3",
   "language": "python",
   "name": "python3"
  },
  "language_info": {
   "codemirror_mode": {
    "name": "ipython",
    "version": 3
   },
   "file_extension": ".py",
   "mimetype": "text/x-python",
   "name": "python",
   "nbconvert_exporter": "python",
   "pygments_lexer": "ipython3",
   "version": "3.8.3"
  }
 },
 "nbformat": 4,
 "nbformat_minor": 4
}
