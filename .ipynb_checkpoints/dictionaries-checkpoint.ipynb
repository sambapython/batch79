{
 "cells": [
  {
   "cell_type": "code",
   "execution_count": 1,
   "metadata": {},
   "outputs": [
    {
     "ename": "TypeError",
     "evalue": "unsupported operand type(s) for +: 'dict' and 'dict'",
     "output_type": "error",
     "traceback": [
      "\u001b[1;31m---------------------------------------------------------------------------\u001b[0m",
      "\u001b[1;31mTypeError\u001b[0m                                 Traceback (most recent call last)",
      "\u001b[1;32m<ipython-input-1-a47c5c5d442b>\u001b[0m in \u001b[0;36m<module>\u001b[1;34m\u001b[0m\n\u001b[0;32m      1\u001b[0m \u001b[0mperson\u001b[0m \u001b[1;33m=\u001b[0m \u001b[1;33m{\u001b[0m\u001b[1;34m\"name\"\u001b[0m\u001b[1;33m:\u001b[0m\u001b[1;34m\"jay\"\u001b[0m\u001b[1;33m,\u001b[0m\u001b[1;34m\"age\"\u001b[0m\u001b[1;33m:\u001b[0m\u001b[1;36m4\u001b[0m\u001b[1;33m,\u001b[0m\u001b[1;34m\"weight\"\u001b[0m\u001b[1;33m:\u001b[0m\u001b[1;36m17\u001b[0m\u001b[1;33m}\u001b[0m\u001b[1;33m\u001b[0m\u001b[1;33m\u001b[0m\u001b[0m\n\u001b[0;32m      2\u001b[0m \u001b[0maddress\u001b[0m \u001b[1;33m=\u001b[0m \u001b[1;33m{\u001b[0m\u001b[1;34m\"city\"\u001b[0m\u001b[1;33m:\u001b[0m\u001b[1;34m\"Hyderabad\"\u001b[0m\u001b[1;33m,\u001b[0m \u001b[1;34m\"state\"\u001b[0m\u001b[1;33m:\u001b[0m\u001b[1;34m\"Telanagana\"\u001b[0m\u001b[1;33m,\u001b[0m\u001b[1;34m\"country\"\u001b[0m\u001b[1;33m:\u001b[0m\u001b[1;34m\"India\"\u001b[0m\u001b[1;33m,\u001b[0m\u001b[1;34m\"street\"\u001b[0m\u001b[1;33m:\u001b[0m\u001b[1;34m\"Devendernagar\"\u001b[0m\u001b[1;33m}\u001b[0m\u001b[1;33m\u001b[0m\u001b[1;33m\u001b[0m\u001b[0m\n\u001b[1;32m----> 3\u001b[1;33m \u001b[0mprint\u001b[0m\u001b[1;33m(\u001b[0m\u001b[0mperson\u001b[0m\u001b[1;33m+\u001b[0m\u001b[0maddress\u001b[0m\u001b[1;33m)\u001b[0m\u001b[1;33m\u001b[0m\u001b[1;33m\u001b[0m\u001b[0m\n\u001b[0m",
      "\u001b[1;31mTypeError\u001b[0m: unsupported operand type(s) for +: 'dict' and 'dict'"
     ]
    }
   ],
   "source": [
    "person = {\"name\":\"jay\",\"age\":4,\"weight\":17}\n",
    "address = {\"city\":\"Hyderabad\", \"state\":\"Telanagana\",\"country\":\"India\",\"street\":\"Devendernagar\"}\n",
    "print(person+address)"
   ]
  },
  {
   "cell_type": "code",
   "execution_count": 2,
   "metadata": {},
   "outputs": [
    {
     "ename": "TypeError",
     "evalue": "unsupported operand type(s) for -: 'dict' and 'dict'",
     "output_type": "error",
     "traceback": [
      "\u001b[1;31m---------------------------------------------------------------------------\u001b[0m",
      "\u001b[1;31mTypeError\u001b[0m                                 Traceback (most recent call last)",
      "\u001b[1;32m<ipython-input-2-55b4c1fa911c>\u001b[0m in \u001b[0;36m<module>\u001b[1;34m\u001b[0m\n\u001b[0;32m      1\u001b[0m \u001b[0mperson\u001b[0m \u001b[1;33m=\u001b[0m \u001b[1;33m{\u001b[0m\u001b[1;34m\"name\"\u001b[0m\u001b[1;33m:\u001b[0m\u001b[1;34m\"jay\"\u001b[0m\u001b[1;33m,\u001b[0m\u001b[1;34m\"age\"\u001b[0m\u001b[1;33m:\u001b[0m\u001b[1;36m4\u001b[0m\u001b[1;33m,\u001b[0m\u001b[1;34m\"weight\"\u001b[0m\u001b[1;33m:\u001b[0m\u001b[1;36m17\u001b[0m\u001b[1;33m}\u001b[0m\u001b[1;33m\u001b[0m\u001b[1;33m\u001b[0m\u001b[0m\n\u001b[0;32m      2\u001b[0m \u001b[0maddress\u001b[0m \u001b[1;33m=\u001b[0m \u001b[1;33m{\u001b[0m\u001b[1;34m\"city\"\u001b[0m\u001b[1;33m:\u001b[0m\u001b[1;34m\"Hyderabad\"\u001b[0m\u001b[1;33m,\u001b[0m \u001b[1;34m\"state\"\u001b[0m\u001b[1;33m:\u001b[0m\u001b[1;34m\"Telanagana\"\u001b[0m\u001b[1;33m,\u001b[0m\u001b[1;34m\"country\"\u001b[0m\u001b[1;33m:\u001b[0m\u001b[1;34m\"India\"\u001b[0m\u001b[1;33m,\u001b[0m\u001b[1;34m\"street\"\u001b[0m\u001b[1;33m:\u001b[0m\u001b[1;34m\"Devendernagar\"\u001b[0m\u001b[1;33m}\u001b[0m\u001b[1;33m\u001b[0m\u001b[1;33m\u001b[0m\u001b[0m\n\u001b[1;32m----> 3\u001b[1;33m \u001b[0mprint\u001b[0m\u001b[1;33m(\u001b[0m\u001b[0mperson\u001b[0m\u001b[1;33m-\u001b[0m\u001b[0maddress\u001b[0m\u001b[1;33m)\u001b[0m\u001b[1;33m\u001b[0m\u001b[1;33m\u001b[0m\u001b[0m\n\u001b[0m",
      "\u001b[1;31mTypeError\u001b[0m: unsupported operand type(s) for -: 'dict' and 'dict'"
     ]
    }
   ],
   "source": [
    "person = {\"name\":\"jay\",\"age\":4,\"weight\":17}\n",
    "address = {\"city\":\"Hyderabad\", \"state\":\"Telanagana\",\"country\":\"India\",\"street\":\"Devendernagar\"}\n",
    "print(person-address)"
   ]
  },
  {
   "cell_type": "code",
   "execution_count": 3,
   "metadata": {},
   "outputs": [
    {
     "ename": "TypeError",
     "evalue": "unsupported operand type(s) for *: 'dict' and 'dict'",
     "output_type": "error",
     "traceback": [
      "\u001b[1;31m---------------------------------------------------------------------------\u001b[0m",
      "\u001b[1;31mTypeError\u001b[0m                                 Traceback (most recent call last)",
      "\u001b[1;32m<ipython-input-3-d8c4aeb26555>\u001b[0m in \u001b[0;36m<module>\u001b[1;34m\u001b[0m\n\u001b[0;32m      1\u001b[0m \u001b[0mperson\u001b[0m \u001b[1;33m=\u001b[0m \u001b[1;33m{\u001b[0m\u001b[1;34m\"name\"\u001b[0m\u001b[1;33m:\u001b[0m\u001b[1;34m\"jay\"\u001b[0m\u001b[1;33m,\u001b[0m\u001b[1;34m\"age\"\u001b[0m\u001b[1;33m:\u001b[0m\u001b[1;36m4\u001b[0m\u001b[1;33m,\u001b[0m\u001b[1;34m\"weight\"\u001b[0m\u001b[1;33m:\u001b[0m\u001b[1;36m17\u001b[0m\u001b[1;33m}\u001b[0m\u001b[1;33m\u001b[0m\u001b[1;33m\u001b[0m\u001b[0m\n\u001b[0;32m      2\u001b[0m \u001b[0maddress\u001b[0m \u001b[1;33m=\u001b[0m \u001b[1;33m{\u001b[0m\u001b[1;34m\"city\"\u001b[0m\u001b[1;33m:\u001b[0m\u001b[1;34m\"Hyderabad\"\u001b[0m\u001b[1;33m,\u001b[0m \u001b[1;34m\"state\"\u001b[0m\u001b[1;33m:\u001b[0m\u001b[1;34m\"Telanagana\"\u001b[0m\u001b[1;33m,\u001b[0m\u001b[1;34m\"country\"\u001b[0m\u001b[1;33m:\u001b[0m\u001b[1;34m\"India\"\u001b[0m\u001b[1;33m,\u001b[0m\u001b[1;34m\"street\"\u001b[0m\u001b[1;33m:\u001b[0m\u001b[1;34m\"Devendernagar\"\u001b[0m\u001b[1;33m}\u001b[0m\u001b[1;33m\u001b[0m\u001b[1;33m\u001b[0m\u001b[0m\n\u001b[1;32m----> 3\u001b[1;33m \u001b[0mprint\u001b[0m\u001b[1;33m(\u001b[0m\u001b[0mperson\u001b[0m\u001b[1;33m*\u001b[0m\u001b[0maddress\u001b[0m\u001b[1;33m)\u001b[0m\u001b[1;33m\u001b[0m\u001b[1;33m\u001b[0m\u001b[0m\n\u001b[0m",
      "\u001b[1;31mTypeError\u001b[0m: unsupported operand type(s) for *: 'dict' and 'dict'"
     ]
    }
   ],
   "source": [
    "person = {\"name\":\"jay\",\"age\":4,\"weight\":17}\n",
    "address = {\"city\":\"Hyderabad\", \"state\":\"Telanagana\",\"country\":\"India\",\"street\":\"Devendernagar\"}\n",
    "print(person*address)"
   ]
  },
  {
   "cell_type": "code",
   "execution_count": 4,
   "metadata": {},
   "outputs": [
    {
     "ename": "TypeError",
     "evalue": "'>' not supported between instances of 'dict' and 'dict'",
     "output_type": "error",
     "traceback": [
      "\u001b[1;31m---------------------------------------------------------------------------\u001b[0m",
      "\u001b[1;31mTypeError\u001b[0m                                 Traceback (most recent call last)",
      "\u001b[1;32m<ipython-input-4-88b78efcd7b9>\u001b[0m in \u001b[0;36m<module>\u001b[1;34m\u001b[0m\n\u001b[0;32m      1\u001b[0m \u001b[0mperson\u001b[0m \u001b[1;33m=\u001b[0m \u001b[1;33m{\u001b[0m\u001b[1;34m\"name\"\u001b[0m\u001b[1;33m:\u001b[0m\u001b[1;34m\"jay\"\u001b[0m\u001b[1;33m,\u001b[0m\u001b[1;34m\"age\"\u001b[0m\u001b[1;33m:\u001b[0m\u001b[1;36m4\u001b[0m\u001b[1;33m,\u001b[0m\u001b[1;34m\"weight\"\u001b[0m\u001b[1;33m:\u001b[0m\u001b[1;36m17\u001b[0m\u001b[1;33m}\u001b[0m\u001b[1;33m\u001b[0m\u001b[1;33m\u001b[0m\u001b[0m\n\u001b[0;32m      2\u001b[0m \u001b[0maddress\u001b[0m \u001b[1;33m=\u001b[0m \u001b[1;33m{\u001b[0m\u001b[1;34m\"city\"\u001b[0m\u001b[1;33m:\u001b[0m\u001b[1;34m\"Hyderabad\"\u001b[0m\u001b[1;33m,\u001b[0m \u001b[1;34m\"state\"\u001b[0m\u001b[1;33m:\u001b[0m\u001b[1;34m\"Telanagana\"\u001b[0m\u001b[1;33m,\u001b[0m\u001b[1;34m\"country\"\u001b[0m\u001b[1;33m:\u001b[0m\u001b[1;34m\"India\"\u001b[0m\u001b[1;33m,\u001b[0m\u001b[1;34m\"street\"\u001b[0m\u001b[1;33m:\u001b[0m\u001b[1;34m\"Devendernagar\"\u001b[0m\u001b[1;33m}\u001b[0m\u001b[1;33m\u001b[0m\u001b[1;33m\u001b[0m\u001b[0m\n\u001b[1;32m----> 3\u001b[1;33m \u001b[0mprint\u001b[0m\u001b[1;33m(\u001b[0m\u001b[0mperson\u001b[0m\u001b[1;33m>\u001b[0m\u001b[0maddress\u001b[0m\u001b[1;33m)\u001b[0m\u001b[1;33m\u001b[0m\u001b[1;33m\u001b[0m\u001b[0m\n\u001b[0m",
      "\u001b[1;31mTypeError\u001b[0m: '>' not supported between instances of 'dict' and 'dict'"
     ]
    }
   ],
   "source": [
    "person = {\"name\":\"jay\",\"age\":4,\"weight\":17}\n",
    "address = {\"city\":\"Hyderabad\", \"state\":\"Telanagana\",\"country\":\"India\",\"street\":\"Devendernagar\"}\n",
    "print(person>address)"
   ]
  },
  {
   "cell_type": "code",
   "execution_count": 5,
   "metadata": {},
   "outputs": [
    {
     "ename": "TypeError",
     "evalue": "'<' not supported between instances of 'dict' and 'dict'",
     "output_type": "error",
     "traceback": [
      "\u001b[1;31m---------------------------------------------------------------------------\u001b[0m",
      "\u001b[1;31mTypeError\u001b[0m                                 Traceback (most recent call last)",
      "\u001b[1;32m<ipython-input-5-815950b56b6a>\u001b[0m in \u001b[0;36m<module>\u001b[1;34m\u001b[0m\n\u001b[0;32m      1\u001b[0m \u001b[0mperson\u001b[0m \u001b[1;33m=\u001b[0m \u001b[1;33m{\u001b[0m\u001b[1;34m\"name\"\u001b[0m\u001b[1;33m:\u001b[0m\u001b[1;34m\"jay\"\u001b[0m\u001b[1;33m,\u001b[0m\u001b[1;34m\"age\"\u001b[0m\u001b[1;33m:\u001b[0m\u001b[1;36m4\u001b[0m\u001b[1;33m,\u001b[0m\u001b[1;34m\"weight\"\u001b[0m\u001b[1;33m:\u001b[0m\u001b[1;36m17\u001b[0m\u001b[1;33m}\u001b[0m\u001b[1;33m\u001b[0m\u001b[1;33m\u001b[0m\u001b[0m\n\u001b[0;32m      2\u001b[0m \u001b[0maddress\u001b[0m \u001b[1;33m=\u001b[0m \u001b[1;33m{\u001b[0m\u001b[1;34m\"city\"\u001b[0m\u001b[1;33m:\u001b[0m\u001b[1;34m\"Hyderabad\"\u001b[0m\u001b[1;33m,\u001b[0m \u001b[1;34m\"state\"\u001b[0m\u001b[1;33m:\u001b[0m\u001b[1;34m\"Telanagana\"\u001b[0m\u001b[1;33m,\u001b[0m\u001b[1;34m\"country\"\u001b[0m\u001b[1;33m:\u001b[0m\u001b[1;34m\"India\"\u001b[0m\u001b[1;33m,\u001b[0m\u001b[1;34m\"street\"\u001b[0m\u001b[1;33m:\u001b[0m\u001b[1;34m\"Devendernagar\"\u001b[0m\u001b[1;33m}\u001b[0m\u001b[1;33m\u001b[0m\u001b[1;33m\u001b[0m\u001b[0m\n\u001b[1;32m----> 3\u001b[1;33m \u001b[0mprint\u001b[0m\u001b[1;33m(\u001b[0m\u001b[0mperson\u001b[0m\u001b[1;33m<\u001b[0m\u001b[0maddress\u001b[0m\u001b[1;33m)\u001b[0m\u001b[1;33m\u001b[0m\u001b[1;33m\u001b[0m\u001b[0m\n\u001b[0m",
      "\u001b[1;31mTypeError\u001b[0m: '<' not supported between instances of 'dict' and 'dict'"
     ]
    }
   ],
   "source": [
    "person = {\"name\":\"jay\",\"age\":4,\"weight\":17}\n",
    "address = {\"city\":\"Hyderabad\", \"state\":\"Telanagana\",\"country\":\"India\",\"street\":\"Devendernagar\"}\n",
    "print(person<address)"
   ]
  },
  {
   "cell_type": "code",
   "execution_count": 6,
   "metadata": {},
   "outputs": [
    {
     "name": "stdout",
     "output_type": "stream",
     "text": [
      "False\n"
     ]
    }
   ],
   "source": [
    "person = {\"name\":\"jay\",\"age\":4,\"weight\":17}\n",
    "address = {\"city\":\"Hyderabad\", \"state\":\"Telanagana\",\"country\":\"India\",\"street\":\"Devendernagar\"}\n",
    "print(person==address)"
   ]
  },
  {
   "cell_type": "code",
   "execution_count": 7,
   "metadata": {},
   "outputs": [
    {
     "name": "stdout",
     "output_type": "stream",
     "text": [
      "True\n"
     ]
    }
   ],
   "source": [
    "person1 = {\"name\":\"jay\",\"age\":4,\"weight\":17}\n",
    "person2 = {\"name\":\"jay\",\"age\":4,\"weight\":17}\n",
    "print(person==person2)"
   ]
  },
  {
   "cell_type": "code",
   "execution_count": 8,
   "metadata": {},
   "outputs": [
    {
     "name": "stdout",
     "output_type": "stream",
     "text": [
      "True\n"
     ]
    }
   ],
   "source": [
    "person1 = {\"name\":\"jay\",\"age\":4,\"weight\":17}\n",
    "person2 = {\"name\":\"jay\",\"weight\":17,\"age\":4}\n",
    "print(person==person2)"
   ]
  },
  {
   "cell_type": "code",
   "execution_count": 9,
   "metadata": {},
   "outputs": [
    {
     "name": "stdout",
     "output_type": "stream",
     "text": [
      "False\n"
     ]
    }
   ],
   "source": [
    "person1 = {\"name\":\"jay\",\"age\":4,\"weight\":17}\n",
    "person2 = {\"name\":\"jay\",\"weight\":17,\"age\":4,\"height\":\"34\"}\n",
    "print(person==person2)"
   ]
  },
  {
   "cell_type": "code",
   "execution_count": 10,
   "metadata": {},
   "outputs": [
    {
     "name": "stdout",
     "output_type": "stream",
     "text": [
      "name\n",
      "age\n",
      "weight\n"
     ]
    }
   ],
   "source": [
    "person1 = {\"name\":\"jay\",\"age\":4,\"weight\":17}\n",
    "for i in person1:\n",
    "    print(i)"
   ]
  },
  {
   "cell_type": "code",
   "execution_count": 11,
   "metadata": {},
   "outputs": [
    {
     "name": "stdout",
     "output_type": "stream",
     "text": [
      "jay\n",
      "4\n",
      "17\n"
     ]
    }
   ],
   "source": [
    "person1 = {\"name\":\"jay\",\"age\":4,\"weight\":17}\n",
    "for i in person1.values():\n",
    "    print(i)"
   ]
  },
  {
   "cell_type": "code",
   "execution_count": 12,
   "metadata": {},
   "outputs": [
    {
     "name": "stdout",
     "output_type": "stream",
     "text": [
      "('name', 'jay')\n",
      "('age', 4)\n",
      "('weight', 17)\n"
     ]
    }
   ],
   "source": [
    "person1 = {\"name\":\"jay\",\"age\":4,\"weight\":17}\n",
    "for i in person1.items():\n",
    "    print(i)"
   ]
  },
  {
   "cell_type": "code",
   "execution_count": 13,
   "metadata": {},
   "outputs": [
    {
     "name": "stdout",
     "output_type": "stream",
     "text": [
      "name\n",
      "jay\n"
     ]
    }
   ],
   "source": [
    "t=('name', 'jay')\n",
    "key,value=t\n",
    "print(key)\n",
    "print(value)"
   ]
  },
  {
   "cell_type": "code",
   "execution_count": 14,
   "metadata": {},
   "outputs": [
    {
     "name": "stdout",
     "output_type": "stream",
     "text": [
      "name jay\n",
      "age 4\n",
      "weight 17\n"
     ]
    }
   ],
   "source": [
    "person1 = {\"name\":\"jay\",\"age\":4,\"weight\":17}\n",
    "for key,value in person1.items():\n",
    "    print(key, value)"
   ]
  },
  {
   "cell_type": "code",
   "execution_count": 16,
   "metadata": {},
   "outputs": [
    {
     "name": "stdout",
     "output_type": "stream",
     "text": [
      "jay\n",
      "jay\n",
      "jay\n",
      "jay\n"
     ]
    }
   ],
   "source": [
    "person1 = {\"name\":\"jay\",\"age\":4,\"weight\":17}\n",
    "print(person1.get(\"name\"))\n",
    "print(person1[\"name\"])\n",
    "print(\"%(name)s\"%person1)\n",
    "print(\"{name}\".format_map(person1))"
   ]
  },
  {
   "cell_type": "code",
   "execution_count": 17,
   "metadata": {},
   "outputs": [
    {
     "name": "stdout",
     "output_type": "stream",
     "text": [
      "4\n",
      "4\n",
      "4\n",
      "4\n"
     ]
    }
   ],
   "source": [
    "person1 = {\"name\":\"jay\",\"age\":4,\"weight\":17}\n",
    "print(person1.get(\"age\"))\n",
    "print(person1[\"age\"])\n",
    "print(\"%(age)s\"%person1)\n",
    "print(\"{age}\".format_map(person1))"
   ]
  },
  {
   "cell_type": "code",
   "execution_count": 18,
   "metadata": {},
   "outputs": [
    {
     "name": "stdout",
     "output_type": "stream",
     "text": [
      "None\n"
     ]
    },
    {
     "ename": "KeyError",
     "evalue": "'phone'",
     "output_type": "error",
     "traceback": [
      "\u001b[1;31m---------------------------------------------------------------------------\u001b[0m",
      "\u001b[1;31mKeyError\u001b[0m                                  Traceback (most recent call last)",
      "\u001b[1;32m<ipython-input-18-0a2f30a16131>\u001b[0m in \u001b[0;36m<module>\u001b[1;34m\u001b[0m\n\u001b[0;32m      1\u001b[0m \u001b[0mperson1\u001b[0m \u001b[1;33m=\u001b[0m \u001b[1;33m{\u001b[0m\u001b[1;34m\"name\"\u001b[0m\u001b[1;33m:\u001b[0m\u001b[1;34m\"jay\"\u001b[0m\u001b[1;33m,\u001b[0m\u001b[1;34m\"age\"\u001b[0m\u001b[1;33m:\u001b[0m\u001b[1;36m4\u001b[0m\u001b[1;33m,\u001b[0m\u001b[1;34m\"weight\"\u001b[0m\u001b[1;33m:\u001b[0m\u001b[1;36m17\u001b[0m\u001b[1;33m}\u001b[0m\u001b[1;33m\u001b[0m\u001b[1;33m\u001b[0m\u001b[0m\n\u001b[0;32m      2\u001b[0m \u001b[0mprint\u001b[0m\u001b[1;33m(\u001b[0m\u001b[0mperson1\u001b[0m\u001b[1;33m.\u001b[0m\u001b[0mget\u001b[0m\u001b[1;33m(\u001b[0m\u001b[1;34m\"phone\"\u001b[0m\u001b[1;33m)\u001b[0m\u001b[1;33m)\u001b[0m\u001b[1;33m\u001b[0m\u001b[1;33m\u001b[0m\u001b[0m\n\u001b[1;32m----> 3\u001b[1;33m \u001b[0mprint\u001b[0m\u001b[1;33m(\u001b[0m\u001b[0mperson1\u001b[0m\u001b[1;33m[\u001b[0m\u001b[1;34m\"phone\"\u001b[0m\u001b[1;33m]\u001b[0m\u001b[1;33m)\u001b[0m\u001b[1;33m\u001b[0m\u001b[1;33m\u001b[0m\u001b[0m\n\u001b[0m\u001b[0;32m      4\u001b[0m \u001b[0mprint\u001b[0m\u001b[1;33m(\u001b[0m\u001b[1;34m\"%(phone)s\"\u001b[0m\u001b[1;33m%\u001b[0m\u001b[0mperson1\u001b[0m\u001b[1;33m)\u001b[0m\u001b[1;33m\u001b[0m\u001b[1;33m\u001b[0m\u001b[0m\n\u001b[0;32m      5\u001b[0m \u001b[0mprint\u001b[0m\u001b[1;33m(\u001b[0m\u001b[1;34m\"{phone}\"\u001b[0m\u001b[1;33m.\u001b[0m\u001b[0mformat_map\u001b[0m\u001b[1;33m(\u001b[0m\u001b[0mperson1\u001b[0m\u001b[1;33m)\u001b[0m\u001b[1;33m)\u001b[0m\u001b[1;33m\u001b[0m\u001b[1;33m\u001b[0m\u001b[0m\n",
      "\u001b[1;31mKeyError\u001b[0m: 'phone'"
     ]
    }
   ],
   "source": [
    "person1 = {\"name\":\"jay\",\"age\":4,\"weight\":17}\n",
    "print(person1.get(\"phone\"))\n",
    "print(person1[\"phone\"])\n",
    "print(\"%(phone)s\"%person1)\n",
    "print(\"{phone}\".format_map(person1))"
   ]
  },
  {
   "cell_type": "code",
   "execution_count": 19,
   "metadata": {},
   "outputs": [
    {
     "name": "stdout",
     "output_type": "stream",
     "text": [
      "None\n"
     ]
    },
    {
     "ename": "KeyError",
     "evalue": "'phone'",
     "output_type": "error",
     "traceback": [
      "\u001b[1;31m---------------------------------------------------------------------------\u001b[0m",
      "\u001b[1;31mKeyError\u001b[0m                                  Traceback (most recent call last)",
      "\u001b[1;32m<ipython-input-19-694ca08a8716>\u001b[0m in \u001b[0;36m<module>\u001b[1;34m\u001b[0m\n\u001b[0;32m      2\u001b[0m \u001b[0mprint\u001b[0m\u001b[1;33m(\u001b[0m\u001b[0mperson1\u001b[0m\u001b[1;33m.\u001b[0m\u001b[0mget\u001b[0m\u001b[1;33m(\u001b[0m\u001b[1;34m\"phone\"\u001b[0m\u001b[1;33m)\u001b[0m\u001b[1;33m)\u001b[0m\u001b[1;33m\u001b[0m\u001b[1;33m\u001b[0m\u001b[0m\n\u001b[0;32m      3\u001b[0m \u001b[1;31m#print(person1[\"phone\"])\u001b[0m\u001b[1;33m\u001b[0m\u001b[1;33m\u001b[0m\u001b[1;33m\u001b[0m\u001b[0m\n\u001b[1;32m----> 4\u001b[1;33m \u001b[0mprint\u001b[0m\u001b[1;33m(\u001b[0m\u001b[1;34m\"%(phone)s\"\u001b[0m\u001b[1;33m%\u001b[0m\u001b[0mperson1\u001b[0m\u001b[1;33m)\u001b[0m\u001b[1;33m\u001b[0m\u001b[1;33m\u001b[0m\u001b[0m\n\u001b[0m\u001b[0;32m      5\u001b[0m \u001b[0mprint\u001b[0m\u001b[1;33m(\u001b[0m\u001b[1;34m\"{phone}\"\u001b[0m\u001b[1;33m.\u001b[0m\u001b[0mformat_map\u001b[0m\u001b[1;33m(\u001b[0m\u001b[0mperson1\u001b[0m\u001b[1;33m)\u001b[0m\u001b[1;33m)\u001b[0m\u001b[1;33m\u001b[0m\u001b[1;33m\u001b[0m\u001b[0m\n",
      "\u001b[1;31mKeyError\u001b[0m: 'phone'"
     ]
    }
   ],
   "source": [
    "person1 = {\"name\":\"jay\",\"age\":4,\"weight\":17}\n",
    "print(person1.get(\"phone\"))\n",
    "#print(person1[\"phone\"])\n",
    "print(\"%(phone)s\"%person1)\n",
    "print(\"{phone}\".format_map(person1))"
   ]
  },
  {
   "cell_type": "code",
   "execution_count": 20,
   "metadata": {},
   "outputs": [
    {
     "name": "stdout",
     "output_type": "stream",
     "text": [
      "None\n"
     ]
    },
    {
     "ename": "KeyError",
     "evalue": "'phone'",
     "output_type": "error",
     "traceback": [
      "\u001b[1;31m---------------------------------------------------------------------------\u001b[0m",
      "\u001b[1;31mKeyError\u001b[0m                                  Traceback (most recent call last)",
      "\u001b[1;32m<ipython-input-20-c148da80133b>\u001b[0m in \u001b[0;36m<module>\u001b[1;34m\u001b[0m\n\u001b[0;32m      3\u001b[0m \u001b[1;31m#print(person1[\"phone\"])\u001b[0m\u001b[1;33m\u001b[0m\u001b[1;33m\u001b[0m\u001b[1;33m\u001b[0m\u001b[0m\n\u001b[0;32m      4\u001b[0m \u001b[1;31m#print(\"%(phone)s\"%person1)\u001b[0m\u001b[1;33m\u001b[0m\u001b[1;33m\u001b[0m\u001b[1;33m\u001b[0m\u001b[0m\n\u001b[1;32m----> 5\u001b[1;33m \u001b[0mprint\u001b[0m\u001b[1;33m(\u001b[0m\u001b[1;34m\"{phone}\"\u001b[0m\u001b[1;33m.\u001b[0m\u001b[0mformat_map\u001b[0m\u001b[1;33m(\u001b[0m\u001b[0mperson1\u001b[0m\u001b[1;33m)\u001b[0m\u001b[1;33m)\u001b[0m\u001b[1;33m\u001b[0m\u001b[1;33m\u001b[0m\u001b[0m\n\u001b[0m",
      "\u001b[1;31mKeyError\u001b[0m: 'phone'"
     ]
    }
   ],
   "source": [
    "person1 = {\"name\":\"jay\",\"age\":4,\"weight\":17}\n",
    "print(person1.get(\"phone\"))\n",
    "#print(person1[\"phone\"])\n",
    "#print(\"%(phone)s\"%person1)\n",
    "print(\"{phone}\".format_map(person1))"
   ]
  },
  {
   "cell_type": "code",
   "execution_count": 21,
   "metadata": {},
   "outputs": [
    {
     "name": "stdout",
     "output_type": "stream",
     "text": [
      "None\n"
     ]
    }
   ],
   "source": [
    "person1 = {\"name\":\"jay\",\"age\":4,\"weight\":17}\n",
    "print(person1.get(\"phone\"))"
   ]
  },
  {
   "cell_type": "code",
   "execution_count": 22,
   "metadata": {},
   "outputs": [
    {
     "name": "stdout",
     "output_type": "stream",
     "text": [
      "XX-XXXX-XXXX\n"
     ]
    }
   ],
   "source": [
    "person1 = {\"name\":\"jay\",\"age\":4,\"weight\":17}\n",
    "print(person1.get(\"phone\",\"XX-XXXX-XXXX\"))"
   ]
  },
  {
   "cell_type": "code",
   "execution_count": 23,
   "metadata": {},
   "outputs": [
    {
     "name": "stdout",
     "output_type": "stream",
     "text": [
      "jay\n"
     ]
    }
   ],
   "source": [
    "person1 = {\"name\":\"jay\",\"age\":4,\"weight\":17}\n",
    "print(person1.get(\"name\",\"XX-XXXX-XXXX\"))"
   ]
  },
  {
   "cell_type": "code",
   "execution_count": 24,
   "metadata": {},
   "outputs": [
    {
     "name": "stdout",
     "output_type": "stream",
     "text": [
      "{'name': 'jay', 'age': 4, 'weight': 17, 'phone': '9676622023'}\n"
     ]
    }
   ],
   "source": [
    "person = {\"name\":\"jay\",\"age\":4,\"weight\":17}\n",
    "person[\"phone\"] = \"9676622023\"\n",
    "print(person)"
   ]
  },
  {
   "cell_type": "code",
   "execution_count": 25,
   "metadata": {},
   "outputs": [
    {
     "name": "stdout",
     "output_type": "stream",
     "text": [
      "{'name': 'jay', 'age': 4, 'weight': 17, 'phone': '9676622023', 'email': 'samba@gmail.com'}\n"
     ]
    }
   ],
   "source": [
    "person = {\"name\":\"jay\",\"age\":4,\"weight\":17}\n",
    "person[\"phone\"] = \"9676622023\"\n",
    "person[\"email\"] = \"samba@gmail.com\"\n",
    "print(person)"
   ]
  },
  {
   "cell_type": "code",
   "execution_count": 26,
   "metadata": {},
   "outputs": [
    {
     "name": "stdout",
     "output_type": "stream",
     "text": [
      "{'name': 'jay', 'age': 4, 'weight': 17, 'phone': '9676622023', 'email': 'samba@gmail.com'}\n"
     ]
    }
   ],
   "source": [
    "person = {\"name\":\"jay\",\"age\":4,\"weight\":17}\n",
    "other_details = {\"phone\":\"9676622023\",\"email\":\"samba@gmail.com\"}\n",
    "person.update(other_details)\n",
    "print(person)"
   ]
  },
  {
   "cell_type": "code",
   "execution_count": 27,
   "metadata": {},
   "outputs": [
    {
     "name": "stdout",
     "output_type": "stream",
     "text": [
      "{'name': 'JAYARAM', 'age': 4, 'weight': 17, 'phone': '9676622023', 'email': 'samba@gmail.com'}\n"
     ]
    }
   ],
   "source": [
    "person = {\"name\":\"jay\",\"age\":4,\"weight\":17}\n",
    "other_details = {\"phone\":\"9676622023\",\"email\":\"samba@gmail.com\",\"name\":\"JAYARAM\"}\n",
    "person.update(other_details)\n",
    "print(person)"
   ]
  },
  {
   "cell_type": "code",
   "execution_count": 28,
   "metadata": {},
   "outputs": [
    {
     "name": "stdout",
     "output_type": "stream",
     "text": [
      "{'name': 'jay', 'age': 4, 'weight': 17, 'phone': '9676622023'}\n"
     ]
    }
   ],
   "source": [
    "person = {\"name\":\"jay\",\"age\":4,\"weight\":17}\n",
    "person.setdefault(\"phone\",\"9676622023\")\n",
    "print(person)"
   ]
  },
  {
   "cell_type": "code",
   "execution_count": 29,
   "metadata": {},
   "outputs": [
    {
     "name": "stdout",
     "output_type": "stream",
     "text": [
      "{'name': 'jay', 'age': 4, 'weight': 17}\n"
     ]
    }
   ],
   "source": [
    "person = {\"name\":\"jay\",\"age\":4,\"weight\":17}\n",
    "person.setdefault(\"name\",\"JAYARAM\")\n",
    "print(person)"
   ]
  },
  {
   "cell_type": "code",
   "execution_count": 30,
   "metadata": {},
   "outputs": [
    {
     "name": "stdout",
     "output_type": "stream",
     "text": [
      "4\n",
      "{'name': 'jay', 'weight': 17}\n"
     ]
    }
   ],
   "source": [
    "person = {\"name\":\"jay\",\"age\":4,\"weight\":17}\n",
    "value=person.pop(\"age\")\n",
    "print(value)\n",
    "print(person)"
   ]
  },
  {
   "cell_type": "code",
   "execution_count": 31,
   "metadata": {},
   "outputs": [
    {
     "ename": "KeyError",
     "evalue": "'phone'",
     "output_type": "error",
     "traceback": [
      "\u001b[1;31m---------------------------------------------------------------------------\u001b[0m",
      "\u001b[1;31mKeyError\u001b[0m                                  Traceback (most recent call last)",
      "\u001b[1;32m<ipython-input-31-f584c33e7159>\u001b[0m in \u001b[0;36m<module>\u001b[1;34m\u001b[0m\n\u001b[0;32m      1\u001b[0m \u001b[0mperson\u001b[0m \u001b[1;33m=\u001b[0m \u001b[1;33m{\u001b[0m\u001b[1;34m\"name\"\u001b[0m\u001b[1;33m:\u001b[0m\u001b[1;34m\"jay\"\u001b[0m\u001b[1;33m,\u001b[0m\u001b[1;34m\"age\"\u001b[0m\u001b[1;33m:\u001b[0m\u001b[1;36m4\u001b[0m\u001b[1;33m,\u001b[0m\u001b[1;34m\"weight\"\u001b[0m\u001b[1;33m:\u001b[0m\u001b[1;36m17\u001b[0m\u001b[1;33m}\u001b[0m\u001b[1;33m\u001b[0m\u001b[1;33m\u001b[0m\u001b[0m\n\u001b[1;32m----> 2\u001b[1;33m \u001b[0mvalue\u001b[0m\u001b[1;33m=\u001b[0m\u001b[0mperson\u001b[0m\u001b[1;33m.\u001b[0m\u001b[0mpop\u001b[0m\u001b[1;33m(\u001b[0m\u001b[1;34m\"phone\"\u001b[0m\u001b[1;33m)\u001b[0m\u001b[1;33m\u001b[0m\u001b[1;33m\u001b[0m\u001b[0m\n\u001b[0m\u001b[0;32m      3\u001b[0m \u001b[0mprint\u001b[0m\u001b[1;33m(\u001b[0m\u001b[0mvalue\u001b[0m\u001b[1;33m)\u001b[0m\u001b[1;33m\u001b[0m\u001b[1;33m\u001b[0m\u001b[0m\n\u001b[0;32m      4\u001b[0m \u001b[0mprint\u001b[0m\u001b[1;33m(\u001b[0m\u001b[0mperson\u001b[0m\u001b[1;33m)\u001b[0m\u001b[1;33m\u001b[0m\u001b[1;33m\u001b[0m\u001b[0m\n",
      "\u001b[1;31mKeyError\u001b[0m: 'phone'"
     ]
    }
   ],
   "source": [
    "person = {\"name\":\"jay\",\"age\":4,\"weight\":17}\n",
    "value=person.pop(\"phone\")\n",
    "print(value)\n",
    "print(person)"
   ]
  },
  {
   "cell_type": "code",
   "execution_count": 32,
   "metadata": {},
   "outputs": [
    {
     "name": "stdout",
     "output_type": "stream",
     "text": [
      "XX-XXXX-XXXX\n",
      "{'name': 'jay', 'age': 4, 'weight': 17}\n"
     ]
    }
   ],
   "source": [
    "person = {\"name\":\"jay\",\"age\":4,\"weight\":17}\n",
    "value=person.pop(\"phone\", \"XX-XXXX-XXXX\")\n",
    "print(value)\n",
    "print(person)"
   ]
  },
  {
   "cell_type": "code",
   "execution_count": 33,
   "metadata": {},
   "outputs": [
    {
     "name": "stdout",
     "output_type": "stream",
     "text": [
      "('weight', 17)\n",
      "{'name': 'jay', 'age': 4}\n"
     ]
    }
   ],
   "source": [
    "person = {\"name\":\"jay\",\"age\":4,\"weight\":17}\n",
    "item = person.popitem()\n",
    "print(item)\n",
    "print(person)"
   ]
  },
  {
   "cell_type": "code",
   "execution_count": 34,
   "metadata": {},
   "outputs": [
    {
     "ename": "KeyError",
     "evalue": "'popitem(): dictionary is empty'",
     "output_type": "error",
     "traceback": [
      "\u001b[1;31m---------------------------------------------------------------------------\u001b[0m",
      "\u001b[1;31mKeyError\u001b[0m                                  Traceback (most recent call last)",
      "\u001b[1;32m<ipython-input-34-492d5bb30a4c>\u001b[0m in \u001b[0;36m<module>\u001b[1;34m\u001b[0m\n\u001b[0;32m      1\u001b[0m \u001b[0mperson\u001b[0m \u001b[1;33m=\u001b[0m \u001b[1;33m{\u001b[0m\u001b[1;33m}\u001b[0m\u001b[1;33m\u001b[0m\u001b[1;33m\u001b[0m\u001b[0m\n\u001b[1;32m----> 2\u001b[1;33m \u001b[0mitem\u001b[0m \u001b[1;33m=\u001b[0m \u001b[0mperson\u001b[0m\u001b[1;33m.\u001b[0m\u001b[0mpopitem\u001b[0m\u001b[1;33m(\u001b[0m\u001b[1;33m)\u001b[0m\u001b[1;33m\u001b[0m\u001b[1;33m\u001b[0m\u001b[0m\n\u001b[0m\u001b[0;32m      3\u001b[0m \u001b[0mprint\u001b[0m\u001b[1;33m(\u001b[0m\u001b[0mitem\u001b[0m\u001b[1;33m)\u001b[0m\u001b[1;33m\u001b[0m\u001b[1;33m\u001b[0m\u001b[0m\n\u001b[0;32m      4\u001b[0m \u001b[0mprint\u001b[0m\u001b[1;33m(\u001b[0m\u001b[0mperson\u001b[0m\u001b[1;33m)\u001b[0m\u001b[1;33m\u001b[0m\u001b[1;33m\u001b[0m\u001b[0m\n",
      "\u001b[1;31mKeyError\u001b[0m: 'popitem(): dictionary is empty'"
     ]
    }
   ],
   "source": [
    "person = {}\n",
    "item = person.popitem()\n",
    "print(item)\n",
    "print(person)"
   ]
  },
  {
   "cell_type": "code",
   "execution_count": 35,
   "metadata": {},
   "outputs": [
    {
     "name": "stdout",
     "output_type": "stream",
     "text": [
      "{'name': 'jay', 'age': 4, 'weight': 17, 'phone': '9676622023'}\n"
     ]
    }
   ],
   "source": [
    "person = {\"name\":\"jay\",\"age\":4,\"weight\":17}\n",
    "p1=person# p1 and person refering the same object in the memory\n",
    "p1[\"phone\"]=\"9676622023\"\n",
    "print(person)"
   ]
  },
  {
   "cell_type": "code",
   "execution_count": 36,
   "metadata": {},
   "outputs": [
    {
     "name": "stdout",
     "output_type": "stream",
     "text": [
      "{'name': 'jay', 'age': 4, 'weight': 17}\n"
     ]
    }
   ],
   "source": [
    "person = {\"name\":\"jay\",\"age\":4,\"weight\":17}\n",
    "p1=person.copy()# p1 and person refering the two different objects in the memory\n",
    "p1[\"phone\"]=\"9676622023\"\n",
    "print(person)"
   ]
  },
  {
   "cell_type": "code",
   "execution_count": 37,
   "metadata": {},
   "outputs": [
    {
     "name": "stdout",
     "output_type": "stream",
     "text": [
      "{}\n"
     ]
    }
   ],
   "source": [
    "person = {\"name\":\"jay\",\"age\":4,\"weight\":17}\n",
    "person.clear()\n",
    "print(person)"
   ]
  },
  {
   "cell_type": "code",
   "execution_count": null,
   "metadata": {},
   "outputs": [],
   "source": [
    "l=[{\"name\":\"jay\",\"age\":30},{\"name\":\"vedha\",\"age\":29},{\"name\":\"sai\",\"age\":32}]\n",
    "#l=[{\"name\":\"jay\",\"age\":30,\"phone\":\"9676622023\"},{\"name\":\"vedha\",\"age\":29,\"phone\":\"9676622024\"},{\"name\":\"sai\",\"age\":32,\"phone\":\"9676622025\"}]\n",
    "phone_numbers=[\"9676622023\",\"9676622024\",\"9676622025\"]"
   ]
  },
  {
   "cell_type": "code",
   "execution_count": 38,
   "metadata": {},
   "outputs": [
    {
     "name": "stdout",
     "output_type": "stream",
     "text": [
      "{'name': 'jay', 'age': 30}\n"
     ]
    }
   ],
   "source": [
    "l=[{\"name\":\"jay\",\"age\":30},{\"name\":\"vedha\",\"age\":29},{\"name\":\"sai\",\"age\":32}]\n",
    "i=l[0]\n",
    "print(i)"
   ]
  },
  {
   "cell_type": "code",
   "execution_count": 39,
   "metadata": {},
   "outputs": [
    {
     "name": "stdout",
     "output_type": "stream",
     "text": [
      "{'name': 'jay', 'age': 30}\n",
      "[{'name': 'jay', 'age': 30, 'phone': '9676622023'}, {'name': 'vedha', 'age': 29}, {'name': 'sai', 'age': 32}]\n"
     ]
    }
   ],
   "source": [
    "l=[{\"name\":\"jay\",\"age\":30},{\"name\":\"vedha\",\"age\":29},{\"name\":\"sai\",\"age\":32}]\n",
    "i=l[0]# 0th index and i are refering the same object.\n",
    "print(i)\n",
    "i[\"phone\"]=\"9676622023\"\n",
    "print(l)"
   ]
  },
  {
   "cell_type": "code",
   "execution_count": 40,
   "metadata": {},
   "outputs": [
    {
     "name": "stdout",
     "output_type": "stream",
     "text": [
      "10\n",
      "20\n",
      "30\n",
      "40\n"
     ]
    }
   ],
   "source": [
    "l=[10,20,30,40,]\n",
    "for i in l:\n",
    "    print(i)"
   ]
  },
  {
   "cell_type": "code",
   "execution_count": 41,
   "metadata": {},
   "outputs": [
    {
     "name": "stdout",
     "output_type": "stream",
     "text": [
      "(0, 10)\n",
      "(1, 20)\n",
      "(2, 30)\n",
      "(3, 40)\n"
     ]
    }
   ],
   "source": [
    "l=[10,20,30,40,]\n",
    "for i in enumerate(l):\n",
    "    print(i)"
   ]
  },
  {
   "cell_type": "code",
   "execution_count": 42,
   "metadata": {},
   "outputs": [
    {
     "name": "stdout",
     "output_type": "stream",
     "text": [
      "0 10\n",
      "1 20\n",
      "2 30\n",
      "3 40\n"
     ]
    }
   ],
   "source": [
    "l=[10,20,30,40,]\n",
    "for index,value in enumerate(l):\n",
    "    print(index,value)"
   ]
  },
  {
   "cell_type": "code",
   "execution_count": 43,
   "metadata": {},
   "outputs": [
    {
     "name": "stdout",
     "output_type": "stream",
     "text": [
      "0 {'name': 'jay', 'age': 30}\n",
      "1 {'name': 'vedha', 'age': 29}\n",
      "2 {'name': 'sai', 'age': 32}\n"
     ]
    }
   ],
   "source": [
    "l=[{\"name\":\"jay\",\"age\":30},{\"name\":\"vedha\",\"age\":29},{\"name\":\"sai\",\"age\":32}]\n",
    "for index,value in enumerate(l):\n",
    "    print(index,value)"
   ]
  },
  {
   "cell_type": "code",
   "execution_count": 44,
   "metadata": {},
   "outputs": [
    {
     "name": "stdout",
     "output_type": "stream",
     "text": [
      "9676622023 {'name': 'jay', 'age': 30}\n",
      "9676622024 {'name': 'vedha', 'age': 29}\n",
      "9676622025 {'name': 'sai', 'age': 32}\n"
     ]
    }
   ],
   "source": [
    "l=[{\"name\":\"jay\",\"age\":30},{\"name\":\"vedha\",\"age\":29},{\"name\":\"sai\",\"age\":32}]\n",
    "phone_numbers=[\"9676622023\",\"9676622024\",\"9676622025\"]\n",
    "for index,value in enumerate(l):\n",
    "    print(phone_numbers[index],value)"
   ]
  },
  {
   "cell_type": "code",
   "execution_count": 45,
   "metadata": {},
   "outputs": [
    {
     "name": "stdout",
     "output_type": "stream",
     "text": [
      "[{'name': 'jay', 'age': 30, 'phone': '9676622023'}, {'name': 'vedha', 'age': 29, 'phone': '9676622024'}, {'name': 'sai', 'age': 32, 'phone': '9676622025'}]\n"
     ]
    }
   ],
   "source": [
    "l=[{\"name\":\"jay\",\"age\":30},{\"name\":\"vedha\",\"age\":29},{\"name\":\"sai\",\"age\":32}]\n",
    "phone_numbers=[\"9676622023\",\"9676622024\",\"9676622025\"]\n",
    "for index,value in enumerate(l):\n",
    "    value[\"phone\"]=phone_numbers[index]\n",
    "print(l)"
   ]
  },
  {
   "cell_type": "code",
   "execution_count": 47,
   "metadata": {},
   "outputs": [
    {
     "name": "stdout",
     "output_type": "stream",
     "text": [
      "[{'name': 'jay', 'age': 30}, {'name': 'vedha', 'age': 29}, {'name': 'sai', 'age': 32}]\n"
     ]
    }
   ],
   "source": [
    "names=[\"jay\",\"vedha\",\"sai\"]\n",
    "ages=[30,29,32]\n",
    "res=[]\n",
    "for index,name in enumerate(names):\n",
    "    res.append({\"name\":name,\"age\":ages[index]})\n",
    "print(res)"
   ]
  },
  {
   "cell_type": "code",
   "execution_count": 48,
   "metadata": {},
   "outputs": [
    {
     "data": {
      "text/plain": [
       "{'name': 'jay', 'age': 32}"
      ]
     },
     "execution_count": 48,
     "metadata": {},
     "output_type": "execute_result"
    }
   ],
   "source": [
    "dict(name=\"jay\",age=32)"
   ]
  },
  {
   "cell_type": "code",
   "execution_count": 49,
   "metadata": {},
   "outputs": [
    {
     "data": {
      "text/plain": [
       "{'name': 'jay', 'age': 32, 'phone': '9676622023', 'email': 'samba@gmail.com'}"
      ]
     },
     "execution_count": 49,
     "metadata": {},
     "output_type": "execute_result"
    }
   ],
   "source": [
    "dict([(\"name\",\"jay\"),(\"age\",32),(\"phone\",\"9676622023\"),(\"email\",\"samba@gmail.com\")])"
   ]
  },
  {
   "cell_type": "code",
   "execution_count": 50,
   "metadata": {},
   "outputs": [
    {
     "name": "stdout",
     "output_type": "stream",
     "text": [
      "<zip object at 0x0000028394B4BE00>\n"
     ]
    }
   ],
   "source": [
    "keys=[\"name\",\"age\",\"phone\",\"email\"]\n",
    "values=[\"jay\",32,\"9676622023\",\"samba@gmail.com\"]\n",
    "print(zip(keys,values))"
   ]
  },
  {
   "cell_type": "code",
   "execution_count": 51,
   "metadata": {},
   "outputs": [
    {
     "name": "stdout",
     "output_type": "stream",
     "text": [
      "[('name', 'jay'), ('age', 32), ('phone', '9676622023'), ('email', 'samba@gmail.com')]\n"
     ]
    }
   ],
   "source": [
    "keys=[\"name\",\"age\",\"phone\",\"email\"]\n",
    "values=[\"jay\",32,\"9676622023\",\"samba@gmail.com\"]\n",
    "print(list(zip(keys,values)))"
   ]
  },
  {
   "cell_type": "code",
   "execution_count": 52,
   "metadata": {},
   "outputs": [
    {
     "data": {
      "text/plain": [
       "{'name': 'jay', 'age': 32, 'phone': '9676622023', 'email': 'samba@gmail.com'}"
      ]
     },
     "execution_count": 52,
     "metadata": {},
     "output_type": "execute_result"
    }
   ],
   "source": [
    "keys=[\"name\",\"age\",\"phone\",\"email\"]\n",
    "values=[\"jay\",32,\"9676622023\",\"samba@gmail.com\"]\n",
    "dict(zip(keys,values))"
   ]
  },
  {
   "cell_type": "code",
   "execution_count": null,
   "metadata": {},
   "outputs": [],
   "source": [
    "#defaultdict?\n",
    "#set theory?"
   ]
  },
  {
   "cell_type": "code",
   "execution_count": null,
   "metadata": {},
   "outputs": [],
   "source": [
    "scores={\"rohit\":50,\"rahul\":60,\"kishan\":50,\"surya\":60}\n",
    "#{50:[\"rohit\",\"kishan\"],60:[\"surya\",\"rahul\"]}"
   ]
  },
  {
   "cell_type": "code",
   "execution_count": 1,
   "metadata": {},
   "outputs": [],
   "source": [
    "scores={\"rohit\":50,\"rahul\":60,\"kishan\":50,\"surya\":60}"
   ]
  },
  {
   "cell_type": "code",
   "execution_count": 2,
   "metadata": {},
   "outputs": [],
   "source": [
    "d={(1,2,3):\"saddasf\"}"
   ]
  },
  {
   "cell_type": "code",
   "execution_count": 3,
   "metadata": {},
   "outputs": [
    {
     "ename": "TypeError",
     "evalue": "unhashable type: 'list'",
     "output_type": "error",
     "traceback": [
      "\u001b[1;31m---------------------------------------------------------------------------\u001b[0m",
      "\u001b[1;31mTypeError\u001b[0m                                 Traceback (most recent call last)",
      "\u001b[1;32m<ipython-input-3-fff713e67747>\u001b[0m in \u001b[0;36m<module>\u001b[1;34m\u001b[0m\n\u001b[1;32m----> 1\u001b[1;33m \u001b[0md\u001b[0m\u001b[1;33m=\u001b[0m\u001b[1;33m{\u001b[0m\u001b[1;33m[\u001b[0m\u001b[1;36m1\u001b[0m\u001b[1;33m,\u001b[0m\u001b[1;36m2\u001b[0m\u001b[1;33m,\u001b[0m\u001b[1;36m3\u001b[0m\u001b[1;33m]\u001b[0m\u001b[1;33m:\u001b[0m\u001b[1;34m\"sdfsdf\"\u001b[0m\u001b[1;33m}\u001b[0m\u001b[1;33m\u001b[0m\u001b[1;33m\u001b[0m\u001b[0m\n\u001b[0m",
      "\u001b[1;31mTypeError\u001b[0m: unhashable type: 'list'"
     ]
    }
   ],
   "source": [
    "d={[1,2,3]:\"sdfsdf\"}"
   ]
  },
  {
   "cell_type": "code",
   "execution_count": 4,
   "metadata": {},
   "outputs": [],
   "source": [
    "l=[1,2,3]"
   ]
  },
  {
   "cell_type": "code",
   "execution_count": 6,
   "metadata": {},
   "outputs": [],
   "source": [
    "l.append(4)"
   ]
  },
  {
   "cell_type": "code",
   "execution_count": 7,
   "metadata": {},
   "outputs": [
    {
     "name": "stdout",
     "output_type": "stream",
     "text": [
      "[50, 60, 50, 60]\n"
     ]
    }
   ],
   "source": [
    "scores={\"rohit\":50,\"rahul\":60,\"kishan\":50,\"surya\":60}\n",
    "values = list(scores.values())\n",
    "print(values)"
   ]
  },
  {
   "cell_type": "code",
   "execution_count": 10,
   "metadata": {},
   "outputs": [
    {
     "name": "stdout",
     "output_type": "stream",
     "text": [
      "{50: ['rohit', 'kishan'], 60: ['rahul', 'surya']}\n"
     ]
    }
   ],
   "source": [
    "#{50:[\"rohit\",\"kishan\"],60:[\"surya\",\"rahul\"]}\n",
    "scores={\"rohit\":50,\"rahul\":60,\"kishan\":50,\"surya\":60}\n",
    "values = list(scores.values())\n",
    "res_keys=[]\n",
    "for i in values:\n",
    "    if i not in res:\n",
    "        res_keys.append(i)\n",
    "res = {}\n",
    "for key in res_keys:\n",
    "    res[key]=[]\n",
    "    for key1,value1 in scores.items():\n",
    "        if value1 == key:\n",
    "            res[key].append(key1)\n",
    "            \n",
    "print(res)       "
   ]
  },
  {
   "cell_type": "code",
   "execution_count": 11,
   "metadata": {},
   "outputs": [
    {
     "name": "stdout",
     "output_type": "stream",
     "text": [
      "{1: [], 2: [], 3: []}\n"
     ]
    }
   ],
   "source": [
    "d1={}\n",
    "d2 = d1.fromkeys([1,2,3],[])\n",
    "print(d2)"
   ]
  },
  {
   "cell_type": "code",
   "execution_count": 14,
   "metadata": {},
   "outputs": [
    {
     "name": "stdout",
     "output_type": "stream",
     "text": [
      "{50: [], 60: []}\n"
     ]
    }
   ],
   "source": [
    "#{50:[\"rohit\",\"kishan\"],60:[\"surya\",\"rahul\"]}\n",
    "scores={\"rohit\":50,\"rahul\":60,\"kishan\":50,\"surya\":60}\n",
    "values = list(scores.values())\n",
    "res_keys=[]\n",
    "d1={}\n",
    "for i in values:\n",
    "    if i not in res:\n",
    "        res_keys.append(i)\n",
    "res = d1.fromkeys(res_keys,[])\n",
    "print(res)"
   ]
  },
  {
   "cell_type": "code",
   "execution_count": 17,
   "metadata": {},
   "outputs": [
    {
     "name": "stdout",
     "output_type": "stream",
     "text": [
      "{50: [], 60: []}\n",
      "{50: ['rohit', 'rahul', 'kishan', 'surya'], 60: ['rohit', 'rahul', 'kishan', 'surya']}\n"
     ]
    }
   ],
   "source": [
    "#{50:[\"rohit\",\"kishan\"],60:[\"surya\",\"rahul\"]}\n",
    "scores={\"rohit\":50,\"rahul\":60,\"kishan\":50,\"surya\":60}\n",
    "values = list(scores.values())\n",
    "res_keys=[]\n",
    "d1={}\n",
    "for i in values:\n",
    "    if i not in res:\n",
    "        res_keys.append(i)\n",
    "res = d1.fromkeys(res_keys,[])\n",
    "print(res)\n",
    "for key,value in scores.items():\n",
    "    res[value].append(key)\n",
    "print(res)"
   ]
  },
  {
   "cell_type": "code",
   "execution_count": 18,
   "metadata": {},
   "outputs": [
    {
     "name": "stdout",
     "output_type": "stream",
     "text": [
      "2492838192320\n",
      "2492838192320\n"
     ]
    }
   ],
   "source": [
    "res = d1.fromkeys(res_keys,[])\n",
    "print(id(res[50]))\n",
    "print(id(res[60]))"
   ]
  },
  {
   "cell_type": "code",
   "execution_count": 20,
   "metadata": {},
   "outputs": [
    {
     "name": "stdout",
     "output_type": "stream",
     "text": [
      "{50: ['rohit', 'kishan'], 60: ['rahul', 'surya']}\n"
     ]
    }
   ],
   "source": [
    "#{50:[\"rohit\",\"kishan\"],60:[\"surya\",\"rahul\"]}\n",
    "scores={\"rohit\":50,\"rahul\":60,\"kishan\":50,\"surya\":60}\n",
    "values = list(scores.values())\n",
    "res_keys=[]\n",
    "for i in values:\n",
    "    if i not in res:\n",
    "        res_keys.append(i)\n",
    "res={}\n",
    "for key in res_keys:\n",
    "    res[key]=[]\n",
    "for key,value in scores.items():\n",
    "    res[value].append(key)\n",
    "print(res)"
   ]
  },
  {
   "cell_type": "code",
   "execution_count": 21,
   "metadata": {},
   "outputs": [
    {
     "data": {
      "text/plain": [
       "'sdf'"
      ]
     },
     "execution_count": 21,
     "metadata": {},
     "output_type": "execute_result"
    }
   ],
   "source": [
    "d={\"name\":\"sdf\",\"age\":\"sddfd\"}\n",
    "d.get(\"name\")"
   ]
  },
  {
   "cell_type": "code",
   "execution_count": 23,
   "metadata": {},
   "outputs": [
    {
     "name": "stdout",
     "output_type": "stream",
     "text": [
      "None\n"
     ]
    }
   ],
   "source": [
    "d={\"name\":\"sdf\",\"age\":\"sddfd\"}\n",
    "print(d.get(\"sdfds\"))"
   ]
  },
  {
   "cell_type": "code",
   "execution_count": 25,
   "metadata": {},
   "outputs": [
    {
     "name": "stdout",
     "output_type": "stream",
     "text": [
      "values1\n"
     ]
    }
   ],
   "source": [
    "d={\"name\":\"sdf\",\"age\":\"sddfd\"}\n",
    "print(d.get(\"sdfsdfwefw\",\"values1\"))"
   ]
  },
  {
   "cell_type": "code",
   "execution_count": 27,
   "metadata": {},
   "outputs": [],
   "source": [
    "scores={\"rohit\":50,\"rahul\":60,\"kishan\":50,\"surya\":60}\n",
    "from collections import defaultdict"
   ]
  },
  {
   "cell_type": "code",
   "execution_count": 28,
   "metadata": {},
   "outputs": [
    {
     "name": "stdout",
     "output_type": "stream",
     "text": [
      "defaultdict(<class 'list'>, {})\n"
     ]
    }
   ],
   "source": [
    "d1=defaultdict(list)\n",
    "print(d1)"
   ]
  },
  {
   "cell_type": "code",
   "execution_count": 29,
   "metadata": {},
   "outputs": [
    {
     "data": {
      "text/plain": [
       "[]"
      ]
     },
     "execution_count": 29,
     "metadata": {},
     "output_type": "execute_result"
    }
   ],
   "source": [
    "d1[1]"
   ]
  },
  {
   "cell_type": "code",
   "execution_count": 30,
   "metadata": {},
   "outputs": [
    {
     "data": {
      "text/plain": [
       "[]"
      ]
     },
     "execution_count": 30,
     "metadata": {},
     "output_type": "execute_result"
    }
   ],
   "source": [
    "d1[2]"
   ]
  },
  {
   "cell_type": "code",
   "execution_count": 31,
   "metadata": {},
   "outputs": [
    {
     "data": {
      "text/plain": [
       "[]"
      ]
     },
     "execution_count": 31,
     "metadata": {},
     "output_type": "execute_result"
    }
   ],
   "source": [
    "d1[3]"
   ]
  },
  {
   "cell_type": "code",
   "execution_count": 32,
   "metadata": {},
   "outputs": [
    {
     "data": {
      "text/plain": [
       "[]"
      ]
     },
     "execution_count": 32,
     "metadata": {},
     "output_type": "execute_result"
    }
   ],
   "source": [
    "d1[2335456789]"
   ]
  },
  {
   "cell_type": "code",
   "execution_count": 33,
   "metadata": {},
   "outputs": [
    {
     "data": {
      "text/plain": [
       "[]"
      ]
     },
     "execution_count": 33,
     "metadata": {},
     "output_type": "execute_result"
    }
   ],
   "source": [
    "d1[\"sdfsdgrwerwegsdgsd\"]"
   ]
  },
  {
   "cell_type": "code",
   "execution_count": 34,
   "metadata": {},
   "outputs": [
    {
     "ename": "KeyError",
     "evalue": "50",
     "output_type": "error",
     "traceback": [
      "\u001b[1;31m---------------------------------------------------------------------------\u001b[0m",
      "\u001b[1;31mKeyError\u001b[0m                                  Traceback (most recent call last)",
      "\u001b[1;32m<ipython-input-34-f53c2d6e39cf>\u001b[0m in \u001b[0;36m<module>\u001b[1;34m\u001b[0m\n\u001b[0;32m      3\u001b[0m \u001b[0mres\u001b[0m\u001b[1;33m=\u001b[0m \u001b[1;33m{\u001b[0m\u001b[1;33m}\u001b[0m\u001b[1;31m#defaultdict(list)\u001b[0m\u001b[1;33m\u001b[0m\u001b[1;33m\u001b[0m\u001b[0m\n\u001b[0;32m      4\u001b[0m \u001b[1;32mfor\u001b[0m \u001b[0mkey\u001b[0m\u001b[1;33m,\u001b[0m\u001b[0mvalue\u001b[0m \u001b[1;32min\u001b[0m \u001b[0mscores\u001b[0m\u001b[1;33m.\u001b[0m\u001b[0mitems\u001b[0m\u001b[1;33m(\u001b[0m\u001b[1;33m)\u001b[0m\u001b[1;33m:\u001b[0m\u001b[1;33m\u001b[0m\u001b[1;33m\u001b[0m\u001b[0m\n\u001b[1;32m----> 5\u001b[1;33m     \u001b[0mres\u001b[0m\u001b[1;33m[\u001b[0m\u001b[0mvalue\u001b[0m\u001b[1;33m]\u001b[0m\u001b[1;33m.\u001b[0m\u001b[0mappend\u001b[0m\u001b[1;33m(\u001b[0m\u001b[0mkey\u001b[0m\u001b[1;33m)\u001b[0m\u001b[1;33m\u001b[0m\u001b[1;33m\u001b[0m\u001b[0m\n\u001b[0m",
      "\u001b[1;31mKeyError\u001b[0m: 50"
     ]
    }
   ],
   "source": [
    "scores={\"rohit\":50,\"rahul\":60,\"kishan\":50,\"surya\":60}\n",
    "from collections import defaultdict\n",
    "res= {}#defaultdict(list)\n",
    "for key,value in scores.items():\n",
    "    res[value].append(key)"
   ]
  },
  {
   "cell_type": "code",
   "execution_count": 35,
   "metadata": {},
   "outputs": [
    {
     "name": "stdout",
     "output_type": "stream",
     "text": [
      "defaultdict(<class 'list'>, {50: ['rohit', 'kishan'], 60: ['rahul', 'surya']})\n"
     ]
    }
   ],
   "source": [
    "scores={\"rohit\":50,\"rahul\":60,\"kishan\":50,\"surya\":60}\n",
    "from collections import defaultdict\n",
    "res= defaultdict(list)\n",
    "for key,value in scores.items():\n",
    "    res[value].append(key)\n",
    "print(res)"
   ]
  },
  {
   "cell_type": "code",
   "execution_count": 36,
   "metadata": {},
   "outputs": [
    {
     "name": "stdout",
     "output_type": "stream",
     "text": [
      "\n"
     ]
    }
   ],
   "source": [
    "res=defaultdict(str)\n",
    "print(res[12])"
   ]
  },
  {
   "cell_type": "code",
   "execution_count": 37,
   "metadata": {},
   "outputs": [
    {
     "name": "stdout",
     "output_type": "stream",
     "text": [
      "0\n"
     ]
    }
   ],
   "source": [
    "res=defaultdict(int)\n",
    "print(res[12])"
   ]
  },
  {
   "cell_type": "code",
   "execution_count": 38,
   "metadata": {},
   "outputs": [],
   "source": [
    "salaries=[100000,150000,200000,250000]"
   ]
  },
  {
   "cell_type": "code",
   "execution_count": 39,
   "metadata": {},
   "outputs": [],
   "source": [
    "import names"
   ]
  },
  {
   "cell_type": "code",
   "execution_count": 40,
   "metadata": {},
   "outputs": [
    {
     "data": {
      "text/plain": [
       "'Steven'"
      ]
     },
     "execution_count": 40,
     "metadata": {},
     "output_type": "execute_result"
    }
   ],
   "source": [
    "names.get_first_name()"
   ]
  },
  {
   "cell_type": "code",
   "execution_count": 41,
   "metadata": {},
   "outputs": [],
   "source": [
    "salaries=[100000,150000,200000,250000]\n",
    "import random"
   ]
  },
  {
   "cell_type": "code",
   "execution_count": 42,
   "metadata": {},
   "outputs": [
    {
     "data": {
      "text/plain": [
       "250000"
      ]
     },
     "execution_count": 42,
     "metadata": {},
     "output_type": "execute_result"
    }
   ],
   "source": [
    "random.choice(salaries)"
   ]
  },
  {
   "cell_type": "code",
   "execution_count": 43,
   "metadata": {},
   "outputs": [
    {
     "data": {
      "text/plain": [
       "150000"
      ]
     },
     "execution_count": 43,
     "metadata": {},
     "output_type": "execute_result"
    }
   ],
   "source": [
    "random.choice(salaries)"
   ]
  },
  {
   "cell_type": "code",
   "execution_count": 44,
   "metadata": {},
   "outputs": [
    {
     "data": {
      "text/plain": [
       "250000"
      ]
     },
     "execution_count": 44,
     "metadata": {},
     "output_type": "execute_result"
    }
   ],
   "source": [
    "random.choice(salaries)"
   ]
  },
  {
   "cell_type": "code",
   "execution_count": 45,
   "metadata": {},
   "outputs": [
    {
     "name": "stdout",
     "output_type": "stream",
     "text": [
      "{'Shellie Petty': 200000, 'Karena Teixeira': 100000, 'Britt Nelson': 200000, 'Katelyn Fix': 250000, 'Thomas Knickrehm': 250000, 'Richard Kremen': 100000, 'Barbara Bonifant': 200000, 'Helene Schoepp': 250000, 'Phil Desch': 100000, 'Mary Moore': 150000, 'Mike Reinhart': 200000, 'Robert Bignall': 150000, 'Melissa Stone': 100000, 'David Feenstra': 250000, 'Yolande Williams': 100000, 'Wanda Willoughby': 250000, 'Kari Gosnell': 150000, 'Ruth Flemming': 100000, 'Bernard Whitaker': 100000, 'Barbara Hall': 100000, 'Bertie Garcia': 200000, 'Richard Arnold': 200000, 'Robert Avallone': 250000, 'Alexander Levy': 200000, 'Cheryl Johnson': 200000, 'Edwin Kessler': 250000, 'David Griggs': 200000, 'Sarah King': 100000, 'Christy Walker': 200000, 'Stephanie Stone': 150000, 'Concepcion Andrus': 150000, 'Howard Llamas': 100000, 'Travis Edward': 150000, 'Richard Pastian': 150000, 'Jean Reid': 150000, 'Evan Brimage': 100000, 'Timothy Yost': 100000, 'Judi Hood': 200000, 'Troy Sprenkle': 100000, 'Joel Spencer': 200000, 'Carl Stoops': 250000, 'Raymond Douglas': 100000, 'Gina Colunga': 150000, 'Kimberly Ryans': 100000, 'Maude Lopez': 250000, 'Shanna Parker': 250000, 'Grace Treadwell': 250000, 'Pamela Whitaker': 150000, 'Teresa Birchall': 200000, 'Janis Martin': 200000}\n"
     ]
    }
   ],
   "source": [
    "import random\n",
    "import names\n",
    "salaries=[100000,150000,200000,250000]\n",
    "data={}\n",
    "for i in range(50):\n",
    "    data[names.get_full_name()]=random.choice(salaries)\n",
    "print(data)"
   ]
  },
  {
   "cell_type": "code",
   "execution_count": 49,
   "metadata": {},
   "outputs": [
    {
     "name": "stdout",
     "output_type": "stream",
     "text": [
      "[50, 60, 50, 60]\n",
      "100000=0\n",
      "150000=0\n",
      "200000=0\n",
      "250000=0\n"
     ]
    }
   ],
   "source": [
    "import random\n",
    "import names\n",
    "salaries=[100000,150000,200000,250000]\n",
    "data={}\n",
    "for i in range(50):\n",
    "    data[names.get_full_name()]=random.choice(salaries)\n",
    "vlaues = list(data.values())\n",
    "print(values)\n",
    "for sal in salaries:\n",
    "    print(\"%s=%s\"%(sal,values.count(sal)))"
   ]
  },
  {
   "cell_type": "code",
   "execution_count": 50,
   "metadata": {},
   "outputs": [
    {
     "name": "stdout",
     "output_type": "stream",
     "text": [
      "[150000, 150000, 100000, 100000, 200000, 250000, 100000, 200000, 100000, 150000, 200000, 250000, 200000, 150000, 100000, 100000, 250000, 100000, 250000, 100000, 250000, 250000, 250000, 100000, 100000, 150000, 100000, 250000, 250000, 100000, 150000, 150000, 200000, 200000, 250000, 150000, 200000, 200000, 150000, 150000, 200000, 150000, 100000, 150000, 150000, 250000, 150000, 250000, 200000, 100000]\n",
      "100000=14\n",
      "150000=14\n",
      "200000=10\n",
      "250000=12\n"
     ]
    }
   ],
   "source": [
    "import random\n",
    "import names\n",
    "salaries=[100000,150000,200000,250000]\n",
    "data={}\n",
    "for i in range(50):\n",
    "    data[names.get_full_name()]=random.choice(salaries)\n",
    "values = list(data.values())\n",
    "print(values)\n",
    "for sal in salaries:\n",
    "    print(\"%s=%s\"%(sal,values.count(sal)))"
   ]
  },
  {
   "cell_type": "code",
   "execution_count": null,
   "metadata": {},
   "outputs": [],
   "source": [
    "import random\n",
    "import names\n",
    "salaries=[100000,150000,200000,250000]\n",
    "data={}\n",
    "for i in range(50):\n",
    "    data[names.get_full_name()]=random.choice(salaries)\n",
    "values = list(data.values())\n",
    "print(values)\n",
    "for sal in salaries:\n",
    "    print(\"%s=%s\"%(sal,values.count(sal)))"
   ]
  },
  {
   "cell_type": "code",
   "execution_count": 51,
   "metadata": {},
   "outputs": [
    {
     "data": {
      "text/plain": [
       "200459"
      ]
     },
     "execution_count": 51,
     "metadata": {},
     "output_type": "execute_result"
    }
   ],
   "source": [
    "random.randint(100000,300000)"
   ]
  },
  {
   "cell_type": "code",
   "execution_count": 52,
   "metadata": {},
   "outputs": [
    {
     "name": "stdout",
     "output_type": "stream",
     "text": [
      "{'Charles Parente': 291741, 'Howard Mccatty': 245089, 'Lloyd Patterson': 260465, 'Lois Swavely': 282119, 'Andrea Dickerson': 219708, 'Gabriel Koch': 231018, 'William Libby': 243454, 'Rosalie Curtis': 205043, 'Albert Wilson': 299837, 'Shirley Wordsworth': 286203, 'Nathan Salmeron': 215019, 'Christopher Reed': 202713, 'Mildred Wright': 265364, 'Michelle Miller': 292023, 'Robert Reasoner': 254084, 'Traci Thornton': 266462, 'Amanda Studdard': 272268, 'John Mundt': 226179, 'Christopher Arch': 213657, 'Susan Dec': 290804, 'Angela Huberty': 260964, 'James Gurley': 234280, 'Marcella Elliott': 230609, 'Dennis Gonzales': 211248, 'Tyler Mondell': 297039, 'Jason Beausoleil': 239086, 'Kenneth Kivett': 227400, 'Mark Morrison': 255070, 'Amanda Gilchrist': 295770, 'Marsha Jones': 264228, 'Frank Perez': 274096, 'Rafael Kennedy': 203694, 'Daphne James': 277848, 'Ian Cardinal': 212549, 'Zoila Waddill': 215014, 'Ann Adams': 213498, 'Clarence Blevins': 257310, 'Alicia Collins': 284445, 'Henry Lechler': 214321, 'Jeffrey Jesus': 277294, 'Chase Hasty': 210828, 'Donna Kim': 207594, 'Darcy Scott': 211502, 'Chad Daniel': 247270, 'Terry Duboise': 224778, 'Jerry Leveille': 217668, 'Clifton Sandau': 273122, 'Patricia Hillsgrove': 240818, 'Martha Briseno': 264241, 'Jay Davis': 210929}\n"
     ]
    }
   ],
   "source": [
    "import random\n",
    "import names\n",
    "salaries=[100000,150000,200000,250000]\n",
    "data={}\n",
    "for i in range(50):\n",
    "    data[names.get_full_name()]=random.randint(200000,300000)\n",
    "print(data)"
   ]
  },
  {
   "cell_type": "code",
   "execution_count": 54,
   "metadata": {},
   "outputs": [
    {
     "name": "stdout",
     "output_type": "stream",
     "text": [
      "defaultdict(<class 'int'>, {200001: 26, 200000: 24})\n"
     ]
    }
   ],
   "source": [
    "import random\n",
    "import names\n",
    "salaries=[100000,150000,200000,250000]\n",
    "data={}\n",
    "for i in range(50):\n",
    "    data[names.get_full_name()]=random.randint(200000,200001)\n",
    "res = defaultdict(int)\n",
    "for key,value in data.items():\n",
    "    res[value] = res[value]+1\n",
    "print(res)"
   ]
  },
  {
   "cell_type": "code",
   "execution_count": 55,
   "metadata": {},
   "outputs": [
    {
     "name": "stdout",
     "output_type": "stream",
     "text": [
      "{'John Lowe': 200001, 'Cruz Wiggs': 200000, 'Heather Bell': 200000, 'Jackie Polycarpe': 200000, 'Jeffery Harrod': 200001, 'Ralph Jones': 200000, 'Shirley Flores': 200000, 'Phyllis Saenz': 200000, 'Oscar Felix': 200000, 'Eva Lahay': 200001, 'Richard Musser': 200000, 'Nathan Hogan': 200001, 'Amy Gonzalez': 200000, 'Robert Rainville': 200001, 'Laura Hill': 200000, 'Jeffrey Clerc': 200001, 'Sandra Sullivan': 200000, 'Rosalee Madrigal': 200000, 'Angelia Platt': 200000, 'John Kilman': 200000, 'Charles Pille': 200000, 'Ruth Self': 200001, 'Karen Varron': 200001, 'Edward Cooper': 200001, 'Gabriel Poirier': 200001, 'Andrea Goodwin': 200000, 'Tracy Gamble': 200000, 'Michael Marak': 200000, 'Bobby Sanchez': 200000, 'Denise Hutchinson': 200000, 'Carl Carrillo': 200001, 'Lise Matuszewski': 200001, 'Jose Robins': 200001, 'Victoria Torre': 200001, 'William Brown': 200001, 'Dawn Schaedler': 200001, 'Dorothy Bandy': 200001, 'Steven Hinojosa': 200001, 'Charles Smith': 200001, 'Ronald Cannon': 200000, 'Nancy Harris': 200000, 'Charles Robbin': 200001, 'Lena Green': 200000, 'Annette Lloyd': 200001, 'Julia Conteh': 200001, 'David Mcfarland': 200001, 'Alfonso Soehl': 200001, 'Robin Casias': 200000, 'Jerry Chenault': 200000, 'Anna Kennedy': 200001}\n"
     ]
    }
   ],
   "source": [
    "import random\n",
    "import names\n",
    "salaries=[100000,150000,200000,250000]\n",
    "data={}\n",
    "for i in range(50):\n",
    "    data[names.get_full_name()]=random.randint(200000,200001)\n",
    "print(data)"
   ]
  },
  {
   "cell_type": "code",
   "execution_count": 57,
   "metadata": {},
   "outputs": [
    {
     "name": "stdout",
     "output_type": "stream",
     "text": [
      "Counter({'Janet Simmons': 200001, 'Frank Moulden': 200001, 'Kari Seery': 200001, 'John Smartt': 200001, 'Judy Helwig': 200001, 'Audrey Haas': 200001, 'Janie Casey': 200001, 'Harold Nunez': 200001, 'Joey Ingram': 200001, 'Alma Connor': 200001, 'Laurette Brown': 200001, 'Robert Manis': 200001, 'Lucille Weaver': 200001, 'Patrick Rodriquez': 200001, 'Cleveland Plotner': 200001, 'Donna Walker': 200001, 'Nadia Whitsitt': 200001, 'Eugenia Welch': 200001, 'Joan Purvis': 200001, 'Joan Kopp': 200001, 'Kenneth Key': 200001, 'Judy Boyter': 200001, 'Tim Jardine': 200001, 'Gregory Freeman': 200001, 'Robert Bohl': 200001, 'Cynthia Holly': 200001, 'Joseph White': 200001, 'Kristi Miller': 200000, 'Mark Melton': 200000, 'George Dallas': 200000, 'Dorothy Logue': 200000, 'Justin Wynn': 200000, 'Jack Wheeler': 200000, 'Kevin Abrams': 200000, 'Stephen Davis': 200000, 'Adrian Morgan': 200000, 'Elva Volante': 200000, 'Susie Bonneville': 200000, 'Maria Moore': 200000, 'Ella Halsey': 200000, 'Kevin Obrien': 200000, 'Chris Lindley': 200000, 'Tracy Ford': 200000, 'Kenneth Baker': 200000, 'Gwendolyn Campbell': 200000, 'Hillary Harris': 200000, 'Victor Gammon': 200000, 'Manuel Boone': 200000, 'Marianne Starks': 200000, 'Virgil Maohu': 200000})\n"
     ]
    }
   ],
   "source": [
    "import random\n",
    "import names\n",
    "salaries=[100000,150000,200000,250000]\n",
    "data={}\n",
    "for i in range(50):\n",
    "    data[names.get_full_name()]=random.randint(200000,200001)\n",
    "from collections import Counter\n",
    "print(Counter(data))"
   ]
  },
  {
   "cell_type": "code",
   "execution_count": 58,
   "metadata": {},
   "outputs": [
    {
     "name": "stdout",
     "output_type": "stream",
     "text": [
      "['__add__', '__and__', '__class__', '__contains__', '__delattr__', '__delitem__', '__dict__', '__dir__', '__doc__', '__eq__', '__format__', '__ge__', '__getattribute__', '__getitem__', '__gt__', '__hash__', '__iadd__', '__iand__', '__init__', '__init_subclass__', '__ior__', '__isub__', '__iter__', '__le__', '__len__', '__lt__', '__missing__', '__module__', '__ne__', '__neg__', '__new__', '__or__', '__pos__', '__reduce__', '__reduce_ex__', '__repr__', '__reversed__', '__setattr__', '__setitem__', '__sizeof__', '__str__', '__sub__', '__subclasshook__', '__weakref__', '_keep_positive', 'clear', 'copy', 'elements', 'fromkeys', 'get', 'items', 'keys', 'most_common', 'pop', 'popitem', 'setdefault', 'subtract', 'update', 'values']\n"
     ]
    }
   ],
   "source": [
    "import random\n",
    "import names\n",
    "salaries=[100000,150000,200000,250000]\n",
    "data={}\n",
    "for i in range(50):\n",
    "    data[names.get_full_name()]=random.randint(200000,200001)\n",
    "from collections import Counter\n",
    "counter =Counter(data)\n",
    "print(dir(counter))"
   ]
  },
  {
   "cell_type": "code",
   "execution_count": 60,
   "metadata": {},
   "outputs": [
    {
     "name": "stdout",
     "output_type": "stream",
     "text": [
      "[('Antonio Starns', 200001), ('Jeffery Walshe', 200001), ('John Ehlert', 200001), ('Betty Harp', 200001), ('Ashley Boatwright', 200001), ('Claudette Oswalt', 200001), ('Rick Zamora', 200001), ('Gladys Jacobs', 200001), ('Elida Carpenter', 200001), ('Susan Lindsey', 200001), ('Troy Sizemore', 200001), ('Charles Kalhorn', 200001), ('Stacey Lee', 200001), ('Virginia Heidt', 200001), ('Caroline Burke', 200001), ('Joanne George', 200001), ('Kim Baker', 200001), ('Michell Mcnitt', 200001), ('Keith Todd', 200001), ('Norma Arnold', 200001), ('Frances Catalan', 200001), ('James Rombough', 200001), ('James Vang', 200001), ('Alfonso Patton', 200001), ('Richard Burroughs', 200001), ('Peggy Lambert', 200001), ('Garrett Moser', 200001), ('Lisa Pearson', 200001), ('Sharon Myers', 200001), ('Daniel Botti', 200001), ('Yvonne Harloff', 200001), ('Carolyn Carr', 200001), ('Anna Harvey', 200001), ('Jennifer Perry', 200001), ('Jeannine Shepard', 200001), ('Julie Mccabe', 200000), ('Hyman Kummer', 200000), ('Carol Rawlins', 200000), ('Ruby Mcgeorge', 200000), ('Julie Dumas', 200000), ('Jason Ho', 200000), ('Michael Breckenridge', 200000), ('Arthur Black', 200000), ('Donna Hill', 200000), ('Leo Welch', 200000), ('Richard Venice', 200000), ('Wendy Dufresne', 200000), ('Shane Seip', 200000), ('Lakeisha Robb', 200000), ('Anne Grimes', 200000)]\n"
     ]
    }
   ],
   "source": [
    "print(counter.most_common())"
   ]
  },
  {
   "cell_type": "code",
   "execution_count": 61,
   "metadata": {},
   "outputs": [
    {
     "data": {
      "text/plain": [
       "<itertools.chain at 0x2446a87ec70>"
      ]
     },
     "execution_count": 61,
     "metadata": {},
     "output_type": "execute_result"
    }
   ],
   "source": [
    "counter.elements()]"
   ]
  },
  {
   "cell_type": "code",
   "execution_count": null,
   "metadata": {},
   "outputs": [],
   "source": []
  }
 ],
 "metadata": {
  "kernelspec": {
   "display_name": "Python 3",
   "language": "python",
   "name": "python3"
  },
  "language_info": {
   "codemirror_mode": {
    "name": "ipython",
    "version": 3
   },
   "file_extension": ".py",
   "mimetype": "text/x-python",
   "name": "python",
   "nbconvert_exporter": "python",
   "pygments_lexer": "ipython3",
   "version": "3.8.3"
  }
 },
 "nbformat": 4,
 "nbformat_minor": 4
}
