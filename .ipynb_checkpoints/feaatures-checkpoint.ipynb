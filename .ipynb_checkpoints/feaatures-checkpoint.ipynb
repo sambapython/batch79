{
 "cells": [
  {
   "cell_type": "code",
   "execution_count": 1,
   "metadata": {},
   "outputs": [],
   "source": [
    "#opensource?"
   ]
  },
  {
   "cell_type": "code",
   "execution_count": null,
   "metadata": {},
   "outputs": [],
   "source": [
    "#linux kernel is an opensource"
   ]
  },
  {
   "cell_type": "code",
   "execution_count": null,
   "metadata": {},
   "outputs": [],
   "source": [
    "# can change the features, i.e remove some features, add some features. sale it as your own os."
   ]
  },
  {
   "cell_type": "code",
   "execution_count": 2,
   "metadata": {},
   "outputs": [],
   "source": [
    "# source code is available"
   ]
  },
  {
   "cell_type": "code",
   "execution_count": 3,
   "metadata": {},
   "outputs": [],
   "source": [
    "# scalable, small scale, middle scale, large scale."
   ]
  },
  {
   "cell_type": "code",
   "execution_count": 4,
   "metadata": {},
   "outputs": [],
   "source": [
    "# customers\n",
    "# accesibility\n",
    "# number of lines\n",
    "# revenue of the product\n",
    "# number of days taken to complete the product\n",
    "# organization."
   ]
  },
  {
   "cell_type": "code",
   "execution_count": 1,
   "metadata": {},
   "outputs": [],
   "source": [
    "#product:"
   ]
  },
  {
   "cell_type": "code",
   "execution_count": 2,
   "metadata": {},
   "outputs": [],
   "source": [
    "#oops"
   ]
  },
  {
   "cell_type": "code",
   "execution_count": 3,
   "metadata": {},
   "outputs": [],
   "source": [
    "#threading"
   ]
  },
  {
   "cell_type": "code",
   "execution_count": 4,
   "metadata": {},
   "outputs": [],
   "source": [
    "#multiprocessing"
   ]
  },
  {
   "cell_type": "code",
   "execution_count": 5,
   "metadata": {},
   "outputs": [],
   "source": [
    "# dynamic"
   ]
  },
  {
   "cell_type": "code",
   "execution_count": 6,
   "metadata": {},
   "outputs": [],
   "source": [
    "# type hints"
   ]
  },
  {
   "cell_type": "code",
   "execution_count": 7,
   "metadata": {},
   "outputs": [
    {
     "ename": "NameError",
     "evalue": "name 'get_users' is not defined",
     "output_type": "error",
     "traceback": [
      "\u001b[1;31m---------------------------------------------------------------------------\u001b[0m",
      "\u001b[1;31mNameError\u001b[0m                                 Traceback (most recent call last)",
      "\u001b[1;32m<ipython-input-7-cadb284839fb>\u001b[0m in \u001b[0;36m<module>\u001b[1;34m\u001b[0m\n\u001b[1;32m----> 1\u001b[1;33m \u001b[0ma\u001b[0m\u001b[1;33m=\u001b[0m\u001b[0mget_users\u001b[0m\u001b[1;33m(\u001b[0m\u001b[1;33m)\u001b[0m\u001b[1;31m# what is the return tyoe of this function. To know we should go to function definition and look at.\u001b[0m\u001b[1;33m\u001b[0m\u001b[1;33m\u001b[0m\u001b[0m\n\u001b[0m\u001b[0;32m      2\u001b[0m \u001b[0ma\u001b[0m\u001b[1;33m:\u001b[0m \u001b[0mlist\u001b[0m \u001b[1;33m=\u001b[0m \u001b[0mget_users\u001b[0m\u001b[1;33m(\u001b[0m\u001b[1;33m)\u001b[0m\u001b[1;33m\u001b[0m\u001b[1;33m\u001b[0m\u001b[0m\n",
      "\u001b[1;31mNameError\u001b[0m: name 'get_users' is not defined"
     ]
    }
   ],
   "source": [
    "a=get_users()# what is the return tyoe of this function. To know we should go to function definition and look at.\n",
    "a: list = get_users()"
   ]
  },
  {
   "cell_type": "code",
   "execution_count": 8,
   "metadata": {},
   "outputs": [],
   "source": [
    "a=10 # expecting int in a "
   ]
  },
  {
   "cell_type": "code",
   "execution_count": 9,
   "metadata": {},
   "outputs": [],
   "source": [
    "a:int=12.34"
   ]
  },
  {
   "cell_type": "code",
   "execution_count": 10,
   "metadata": {},
   "outputs": [],
   "source": [
    "a:int=\"python\""
   ]
  },
  {
   "cell_type": "code",
   "execution_count": 11,
   "metadata": {},
   "outputs": [
    {
     "name": "stdout",
     "output_type": "stream",
     "text": [
      "python <class 'str'>\n"
     ]
    }
   ],
   "source": [
    "print(a, type(a))"
   ]
  },
  {
   "cell_type": "code",
   "execution_count": 12,
   "metadata": {},
   "outputs": [],
   "source": [
    "a:int=1000"
   ]
  },
  {
   "cell_type": "code",
   "execution_count": 13,
   "metadata": {},
   "outputs": [],
   "source": [
    "# what python can do.\n",
    "# what python could not do."
   ]
  },
  {
   "cell_type": "code",
   "execution_count": 14,
   "metadata": {},
   "outputs": [
    {
     "ename": "AttributeError",
     "evalue": "module 'turtle' has no attribute 'fill'",
     "output_type": "error",
     "traceback": [
      "\u001b[1;31m---------------------------------------------------------------------------\u001b[0m",
      "\u001b[1;31mAttributeError\u001b[0m                            Traceback (most recent call last)",
      "\u001b[1;32m<ipython-input-14-82c5d36cd123>\u001b[0m in \u001b[0;36m<module>\u001b[1;34m\u001b[0m\n\u001b[0;32m    212\u001b[0m     \u001b[0mt\u001b[0m\u001b[1;33m.\u001b[0m\u001b[0mdone\u001b[0m\u001b[1;33m(\u001b[0m\u001b[1;33m)\u001b[0m\u001b[1;33m\u001b[0m\u001b[1;33m\u001b[0m\u001b[0m\n\u001b[0;32m    213\u001b[0m \u001b[1;33m\u001b[0m\u001b[0m\n\u001b[1;32m--> 214\u001b[1;33m \u001b[0mmain\u001b[0m\u001b[1;33m(\u001b[0m\u001b[1;33m)\u001b[0m\u001b[1;33m\u001b[0m\u001b[1;33m\u001b[0m\u001b[0m\n\u001b[0m",
      "\u001b[1;32m<ipython-input-14-82c5d36cd123>\u001b[0m in \u001b[0;36mmain\u001b[1;34m()\u001b[0m\n\u001b[0;32m    207\u001b[0m     \u001b[0mt\u001b[0m\u001b[1;33m.\u001b[0m\u001b[0mtitle\u001b[0m \u001b[1;33m(\u001b[0m\u001b[1;34m'snowmen with colors'\u001b[0m\u001b[1;33m)\u001b[0m\u001b[1;33m\u001b[0m\u001b[1;33m\u001b[0m\u001b[0m\n\u001b[0;32m    208\u001b[0m     \u001b[0mt\u001b[0m\u001b[1;33m.\u001b[0m\u001b[0msetup\u001b[0m \u001b[1;33m(\u001b[0m\u001b[1;36m1000\u001b[0m\u001b[1;33m,\u001b[0m \u001b[1;36m1000\u001b[0m\u001b[1;33m,\u001b[0m \u001b[1;36m0\u001b[0m\u001b[1;33m,\u001b[0m \u001b[1;36m0\u001b[0m\u001b[1;33m)\u001b[0m\u001b[1;33m\u001b[0m\u001b[1;33m\u001b[0m\u001b[0m\n\u001b[1;32m--> 209\u001b[1;33m     \u001b[0mmale_snow\u001b[0m\u001b[1;33m(\u001b[0m\u001b[1;33m)\u001b[0m\u001b[1;33m\u001b[0m\u001b[1;33m\u001b[0m\u001b[0m\n\u001b[0m\u001b[0;32m    210\u001b[0m     \u001b[0mfemale_snow\u001b[0m\u001b[1;33m(\u001b[0m\u001b[1;33m)\u001b[0m\u001b[1;33m\u001b[0m\u001b[1;33m\u001b[0m\u001b[0m\n\u001b[0;32m    211\u001b[0m     \u001b[0mt\u001b[0m\u001b[1;33m.\u001b[0m\u001b[0mhidet\u001b[0m\u001b[1;33m(\u001b[0m\u001b[1;33m)\u001b[0m\u001b[1;33m\u001b[0m\u001b[1;33m\u001b[0m\u001b[0m\n",
      "\u001b[1;32m<ipython-input-14-82c5d36cd123>\u001b[0m in \u001b[0;36mmale_snow\u001b[1;34m()\u001b[0m\n\u001b[0;32m    150\u001b[0m     \u001b[0mcircle_o5\u001b[0m\u001b[1;33m=\u001b[0m\u001b[0mcircle\u001b[0m\u001b[1;33m(\u001b[0m\u001b[1;33m-\u001b[0m\u001b[1;36m250\u001b[0m\u001b[1;33m,\u001b[0m\u001b[1;33m-\u001b[0m\u001b[1;36m85\u001b[0m\u001b[1;33m,\u001b[0m\u001b[1;36m10\u001b[0m\u001b[1;33m,\u001b[0m\u001b[0mcolor\u001b[0m\u001b[1;33m=\u001b[0m\u001b[1;34m'green'\u001b[0m\u001b[1;33m,\u001b[0m\u001b[0mfill\u001b[0m\u001b[1;33m=\u001b[0m\u001b[1;36m0\u001b[0m\u001b[1;33m)\u001b[0m\u001b[1;33m\u001b[0m\u001b[1;33m\u001b[0m\u001b[0m\n\u001b[0;32m    151\u001b[0m     \u001b[0mcircle_o6\u001b[0m\u001b[1;33m=\u001b[0m\u001b[0mcircle\u001b[0m\u001b[1;33m(\u001b[0m\u001b[1;33m-\u001b[0m\u001b[1;36m250\u001b[0m\u001b[1;33m,\u001b[0m\u001b[1;33m-\u001b[0m\u001b[1;36m135\u001b[0m\u001b[1;33m,\u001b[0m\u001b[1;36m10\u001b[0m\u001b[1;33m,\u001b[0m\u001b[0mcolor\u001b[0m\u001b[1;33m=\u001b[0m\u001b[1;34m'yellow'\u001b[0m\u001b[1;33m,\u001b[0m\u001b[0mfill\u001b[0m\u001b[1;33m=\u001b[0m\u001b[1;36m0\u001b[0m\u001b[1;33m)\u001b[0m\u001b[1;33m\u001b[0m\u001b[1;33m\u001b[0m\u001b[0m\n\u001b[1;32m--> 152\u001b[1;33m     \u001b[0mcircle_o2\u001b[0m\u001b[1;33m.\u001b[0m\u001b[0mdraw\u001b[0m\u001b[1;33m(\u001b[0m\u001b[1;33m)\u001b[0m\u001b[1;33m\u001b[0m\u001b[1;33m\u001b[0m\u001b[0m\n\u001b[0m\u001b[0;32m    153\u001b[0m     \u001b[0mcircle_o\u001b[0m\u001b[1;33m.\u001b[0m\u001b[0mdraw\u001b[0m\u001b[1;33m(\u001b[0m\u001b[1;33m)\u001b[0m\u001b[1;33m\u001b[0m\u001b[1;33m\u001b[0m\u001b[0m\n\u001b[0;32m    154\u001b[0m     \u001b[0mcircle_o1\u001b[0m\u001b[1;33m.\u001b[0m\u001b[0mdraw\u001b[0m\u001b[1;33m(\u001b[0m\u001b[1;33m)\u001b[0m\u001b[1;33m\u001b[0m\u001b[1;33m\u001b[0m\u001b[0m\n",
      "\u001b[1;32m<ipython-input-14-82c5d36cd123>\u001b[0m in \u001b[0;36mdraw\u001b[1;34m(self)\u001b[0m\n\u001b[0;32m     74\u001b[0m           \u001b[0mt\u001b[0m\u001b[1;33m.\u001b[0m\u001b[0mwidth\u001b[0m\u001b[1;33m(\u001b[0m\u001b[1;36m7\u001b[0m\u001b[1;33m)\u001b[0m\u001b[1;33m\u001b[0m\u001b[1;33m\u001b[0m\u001b[0m\n\u001b[0;32m     75\u001b[0m           \u001b[0mt\u001b[0m\u001b[1;33m.\u001b[0m\u001b[0mcolor\u001b[0m \u001b[1;33m(\u001b[0m\u001b[0mself\u001b[0m\u001b[1;33m.\u001b[0m\u001b[0mcolor\u001b[0m\u001b[1;33m)\u001b[0m\u001b[1;33m\u001b[0m\u001b[1;33m\u001b[0m\u001b[0m\n\u001b[1;32m---> 76\u001b[1;33m           \u001b[0mt\u001b[0m\u001b[1;33m.\u001b[0m\u001b[0mfill\u001b[0m\u001b[1;33m(\u001b[0m\u001b[0mself\u001b[0m\u001b[1;33m.\u001b[0m\u001b[0mfill\u001b[0m\u001b[1;33m)\u001b[0m\u001b[1;33m\u001b[0m\u001b[1;33m\u001b[0m\u001b[0m\n\u001b[0m\u001b[0;32m     77\u001b[0m           \u001b[0mt\u001b[0m\u001b[1;33m.\u001b[0m\u001b[0mcircle\u001b[0m \u001b[1;33m(\u001b[0m\u001b[0mself\u001b[0m\u001b[1;33m.\u001b[0m\u001b[0mr\u001b[0m\u001b[1;33m)\u001b[0m\u001b[1;33m\u001b[0m\u001b[1;33m\u001b[0m\u001b[0m\n\u001b[0;32m     78\u001b[0m           \u001b[0mt\u001b[0m\u001b[1;33m.\u001b[0m\u001b[0mend_fill\u001b[0m\u001b[1;33m(\u001b[0m\u001b[1;33m)\u001b[0m\u001b[1;33m\u001b[0m\u001b[1;33m\u001b[0m\u001b[0m\n",
      "\u001b[1;31mAttributeError\u001b[0m: module 'turtle' has no attribute 'fill'"
     ]
    }
   ],
   "source": [
    "import turtle as t\n",
    "class shape(object):\n",
    "    def __init__(self,color=\"black\",size=1):\n",
    "        self.color=color\n",
    "        self.size=size\n",
    "class dot(shape):\n",
    "    def __init__(self,x,y,color=\"black\",size=1):\n",
    "        self.x=x\n",
    "        self.y=y\n",
    "        shape.__init__(self,color,size)\n",
    "class snow_man_parts(shape):\n",
    "    def __init__(self,color=\"black\",size=1):\n",
    "        shape.__init__(self,color,size)\n",
    "    def dot(self,x,y):\n",
    "        t.up()\n",
    "        t.goto(x,y)\n",
    "        t.dot()\n",
    "        \n",
    "    def snowmansface(self,x,y):\n",
    "        t.up()\n",
    "        t.goto(x + 15,y)\n",
    "        t.dot()\n",
    "        t.goto(x - 15,y)\n",
    "        t.dot()\n",
    "        t.goto(x -15,y -25)\n",
    "        t.down()\n",
    "        t.forward(30)\n",
    "        t.up()\n",
    "    def snowmansarm(self,x,y,length,heading):\n",
    "        t.up()\n",
    "        t.goto(x,y)\n",
    "        t.setheading(heading)\n",
    "        t.down()\n",
    "        t.forward(length)\n",
    "        t.setheading(heading + 20)\n",
    "        t.forward(20)\n",
    "        t.up()\n",
    "        t.back(20)\n",
    "        t.down()\n",
    "        t.setheading(heading - 20)\n",
    "        t.forward(20)\n",
    "        t.up()\n",
    "        t.home()\n",
    "\n",
    "\n",
    "class line(shape):\n",
    "    def __init__(self,x1, y1, x2, y2,color='black',size=1):\n",
    "        self.x1=x1\n",
    "        self.y1=y1\n",
    "        self.y2=y2\n",
    "        self.x2=x2\n",
    "        shape.__init__(self,color,size)\n",
    "    def draw(self):\n",
    "          t.penup()\n",
    "          t.goto (self.x1, self.y1)\n",
    "          t.pendown()\n",
    "          t.goto (self.x2, self.y2)\n",
    "          t.penup()\n",
    "    def __str__(self):\n",
    "        return \"line\"\n",
    "class circle(shape):\n",
    "    def __init__(self,x,y,r,color=\"green\",fill=0,size=1):\n",
    "          # draw a circle\n",
    "            self.x=x\n",
    "            self.y=y\n",
    "            self.r=r\n",
    "            self.fill=fill\n",
    "            shape.__init__(self,color,size)\n",
    "    def draw(self):\n",
    "          t.penup()\n",
    "          t.goto (self.x, self.y)\n",
    "          t.pendown()\n",
    "          t.begin_fill()\n",
    "          t.width(7)\n",
    "          t.color (self.color)\n",
    "          t.fill(self.fill)\n",
    "          t.circle (self.r)\n",
    "          t.end_fill()\n",
    "    def __str__(self):\n",
    "        return \"Circle\"\n",
    "class triangle(shape):\n",
    "    def __init__(self,x,y,steps=3,color='black',size=1):\n",
    "        self.x=x\n",
    "        self.y=y\n",
    "        self.steps=steps\n",
    "        shape.__init__(self,color,size)\n",
    "\n",
    "    def draw(self):\n",
    "        t.pensize(3)\n",
    "        t.penup()\n",
    "        t.goto (self.x, self.y)\n",
    "        t.color('yellow')\n",
    "        t.begin_fill()\n",
    "        t.forward(175)\n",
    "        t.left(125)\n",
    "        t.forward(200)\n",
    "        t.left(125)\n",
    "        t.forward(200)\n",
    "        t.end_fill()\n",
    "        t.penup()\n",
    "        \n",
    "    def __str__(self):\n",
    "        return \"triangle\"\n",
    "class rectangle(shape):\n",
    "    def __init__(self,x,y,color=\"red\",size=1):\n",
    "        self.x=x\n",
    "        self.y=y\n",
    "        \n",
    "        shape.__init__(self,color,size)\n",
    "    def draw(self):\n",
    "         t.pensize(3)\n",
    "         t.penup()\n",
    "         t.goto(self.x,self.y)\n",
    "         t.color(self.color)\n",
    "         t.begin_fill()\n",
    "         t.forward(75)\n",
    "         t.left(90)\n",
    "         t.forward(90)\n",
    "         t.left(90)\n",
    "         t.forward(75)\n",
    "         t.left(90)\n",
    "         t.forward(90)\n",
    "         t.left(90)\n",
    "         t.end_fill()\n",
    "    def __str__(self):\n",
    "        return \"rectangle\"\n",
    "class square(shape):\n",
    "    def __init__(self,x,y,steps=4,color='black',size=1):\n",
    "        self.x=x\n",
    "        self.y=y\n",
    "        self.steps=steps\n",
    "        shape.__init__(self,color,size)\n",
    "    def draw(self):\n",
    "          t.penup()\n",
    "          t.goto (self.x, self.y)\n",
    "          t.pendown()\n",
    "          t.begin_fill()\n",
    "          t.color ('navy')\n",
    "          t.circle (40, steps = 4)\n",
    "          t.end_fill()\n",
    "    def __str__(self):\n",
    "        return \"square\"\n",
    "\n",
    "def male_snow():\n",
    "    circle_o=circle(-250,-250,120,color='red',fill=0)\n",
    "    circle_o1=circle(-250,-10,90,color='red',fill=0)\n",
    "    circle_o2=circle(-250,170,60,color='red',fill=0)\n",
    "    circle_o3=circle(-250,85,10,color='green',fill=0)\n",
    "    circle_o4=circle(-250,35,10,color='yellow',fill=0)\n",
    "    circle_o5=circle(-250,-85,10,color='green',fill=0)\n",
    "    circle_o6=circle(-250,-135,10,color='yellow',fill=0)\n",
    "    circle_o2.draw()\n",
    "    circle_o.draw()\n",
    "    circle_o1.draw()\n",
    "    parts_o=snow_man_parts()\n",
    "    parts_o.snowmansarm(-150,60,70,20) \n",
    "    parts_o.snowmansarm(-350,60,70,160)\n",
    "    parts_o.snowmansface(-250,240)\n",
    "    line_o=line(-190,290,-310,290)\n",
    "    line_o1=line(-240,215,-220,225)\n",
    "    line_o2=line(-260,215,-280,230)\n",
    "    line_o2.draw()\n",
    "    line_o1.draw()\n",
    "    line_o.draw()\n",
    "    circle_o3.draw()\n",
    "    circle_o4.draw()\n",
    "    circle_o5.draw()\n",
    "    circle_o6.draw()\n",
    "    rectangle_o=rectangle(-285,290)\n",
    "    rectangle_o.draw()\n",
    "    \n",
    "def female_snow():\n",
    "    circle_o=circle(250,-250,120,color='black',fill=0)\n",
    "    circle_o1=circle(250,-10,90,color='black',fill=0)\n",
    "    circle_o2=circle(250,170,60,color='black',fill=0)\n",
    "    circle_o3=circle(250,85,10,color='yellow',fill='yellow')\n",
    "    circle_o4=circle(250,35,10,color='green',fill='pink')\n",
    "    circle_o5=circle(250,-85,10,color='blue',fill='yellow')\n",
    "    circle_o6=circle(250,-135,10,color='red',fill='pink')\n",
    "    circle_o1.draw()\n",
    "    circle_o.draw()\n",
    "    circle_o2.draw()\n",
    "    parts_o=snow_man_parts()\n",
    "    parts_o.dot(235,220)\n",
    "    parts_o.snowmansface(235,245)\n",
    "    line_o=line(-60,290,-60,290)\n",
    "    line_o1=line(160,80,80,10)\n",
    "    line_o2=line(340,80,420,60)\n",
    "    line_o3=line(420,60,330,-30)\n",
    "    line_o4=line(230,290,200,230)\n",
    "    line_o5=line(200,260,170,200)\n",
    "    line_o6=line(260,280,320,230)\n",
    "    line_o.draw()\n",
    "    line_o1.draw()\n",
    "    line_o2.draw()\n",
    "    line_o3.draw()\n",
    "    line_o4.draw()\n",
    "    line_o5.draw()\n",
    "    line_o6.draw()\n",
    "    circle_o3.draw()\n",
    "    circle_o4.draw()\n",
    "    circle_o5.draw()\n",
    "    circle_o6.draw()\n",
    "    triangle_o=triangle(170,270)\n",
    "    triangle_o.draw()\n",
    "def main(): \n",
    "    t.title ('snowmen with colors')\n",
    "    t.setup (1000, 1000, 0, 0)\n",
    "    male_snow()\n",
    "    female_snow()\n",
    "    t.hidet()\n",
    "    t.done()\n",
    "\n",
    "main()\n"
   ]
  },
  {
   "cell_type": "code",
   "execution_count": null,
   "metadata": {},
   "outputs": [],
   "source": [
    "# create a new environment\n",
    "# virtualenv py27 --python=C:\\Python27\\python.exe\n",
    "# after creating an environment we have to activate it\n",
    "# in windows we can directly tun activate file\n",
    "# .\\py27\\Scripts\\activate\n",
    "# in linux\n",
    "# source py27/bin/activate\n",
    "# to install new module\n",
    "# pip install <module name>. it will download a module from the pypy registry.\n",
    "# pypi is a registry which stores all python modules.\n",
    "# If any company wants to maintain their own registry, we can make it and change the url while installing the module."
   ]
  }
 ],
 "metadata": {
  "kernelspec": {
   "display_name": "Python 3",
   "language": "python",
   "name": "python3"
  },
  "language_info": {
   "codemirror_mode": {
    "name": "ipython",
    "version": 3
   },
   "file_extension": ".py",
   "mimetype": "text/x-python",
   "name": "python",
   "nbconvert_exporter": "python",
   "pygments_lexer": "ipython3",
   "version": "3.8.3"
  }
 },
 "nbformat": 4,
 "nbformat_minor": 4
}
