{
 "cells": [
  {
   "cell_type": "code",
   "execution_count": 1,
   "metadata": {},
   "outputs": [],
   "source": [
    "# reducing the number of lines of code in perticular place\n",
    "# functions also used to reduce the number of lines of code, in different places of my program\n"
   ]
  },
  {
   "cell_type": "code",
   "execution_count": null,
   "metadata": {},
   "outputs": [],
   "source": [
    "print(\"started\")\n",
    "def addnumbers():\n",
    "    print(\"this is function\")\n",
    "print(\"ended\")"
   ]
  },
  {
   "cell_type": "code",
   "execution_count": null,
   "metadata": {},
   "outputs": [],
   "source": [
    "print(\"started\")\n",
    "def add_numbers():\n",
    "    print(\"this is function\")\n",
    "print(\"ended\")"
   ]
  },
  {
   "cell_type": "code",
   "execution_count": 2,
   "metadata": {},
   "outputs": [
    {
     "name": "stdout",
     "output_type": "stream",
     "text": [
      "started\n",
      "ended\n"
     ]
    }
   ],
   "source": [
    "print(\"started\")\n",
    "def add_numbers():\n",
    "    print(\"this is function\")\n",
    "print(\"ended\")"
   ]
  },
  {
   "cell_type": "code",
   "execution_count": 3,
   "metadata": {},
   "outputs": [
    {
     "name": "stdout",
     "output_type": "stream",
     "text": [
      "started\n",
      "ended\n"
     ]
    }
   ],
   "source": [
    "print(\"started\")\n",
    "def add_numbers():\n",
    "    print(\"function started\")\n",
    "    print(\"this is function\")\n",
    "    print(\"function ended\")\n",
    "print(\"ended\")"
   ]
  },
  {
   "cell_type": "code",
   "execution_count": 4,
   "metadata": {},
   "outputs": [
    {
     "name": "stdout",
     "output_type": "stream",
     "text": [
      "started\n",
      "ended\n",
      "function started\n",
      "this is function\n",
      "function ended\n"
     ]
    }
   ],
   "source": [
    "print(\"started\")\n",
    "def add_numbers():# signature\n",
    "    #body\n",
    "    print(\"function started\")\n",
    "    print(\"this is function\")\n",
    "    print(\"function ended\")\n",
    "print(\"ended\")\n",
    "add_numbers()# call"
   ]
  },
  {
   "cell_type": "code",
   "execution_count": 5,
   "metadata": {},
   "outputs": [
    {
     "name": "stdout",
     "output_type": "stream",
     "text": [
      "started\n",
      "ended\n",
      "function started\n",
      "this is function\n",
      "function ended\n",
      "hello\n",
      "function started\n",
      "this is function\n",
      "function ended\n",
      "hi\n",
      "function started\n",
      "this is function\n",
      "function ended\n"
     ]
    }
   ],
   "source": [
    "print(\"started\")\n",
    "def add_numbers():# signature\n",
    "    #body\n",
    "    print(\"function started\")\n",
    "    print(\"this is function\")\n",
    "    print(\"function ended\")\n",
    "print(\"ended\")\n",
    "add_numbers()# call\n",
    "print(\"hello\")\n",
    "add_numbers()# call\n",
    "print(\"hi\")\n",
    "add_numbers()# call"
   ]
  },
  {
   "cell_type": "code",
   "execution_count": 6,
   "metadata": {},
   "outputs": [
    {
     "name": "stdout",
     "output_type": "stream",
     "text": [
      "started\n",
      "ended\n",
      "x=10,y=20\n"
     ]
    }
   ],
   "source": [
    "print(\"started\")\n",
    "def add_numbers(x,y):# x,y are parameters\n",
    "    print(f\"x={x},y={y}\")\n",
    "print(\"ended\")\n",
    "add_numbers(10,20) # 10,20 are arguments"
   ]
  },
  {
   "cell_type": "code",
   "execution_count": 7,
   "metadata": {},
   "outputs": [
    {
     "name": "stdout",
     "output_type": "stream",
     "text": [
      "started\n",
      "ended\n",
      "x=10,y=20\n",
      "x=100,y=200\n",
      "x=1,y=2\n",
      "x=123,y=456\n"
     ]
    }
   ],
   "source": [
    "print(\"started\")\n",
    "def add_numbers(x,y):# x,y are parameters\n",
    "    print(f\"x={x},y={y}\")\n",
    "print(\"ended\")\n",
    "add_numbers(10,20) # 10,20 are arguments\n",
    "add_numbers(100,200)\n",
    "add_numbers(1,2)\n",
    "add_numbers(123,456)"
   ]
  },
  {
   "cell_type": "code",
   "execution_count": 8,
   "metadata": {},
   "outputs": [
    {
     "name": "stdout",
     "output_type": "stream",
     "text": [
      "started\n",
      "ended\n"
     ]
    },
    {
     "ename": "TypeError",
     "evalue": "add_numbers() missing 1 required positional argument: 'z'",
     "output_type": "error",
     "traceback": [
      "\u001b[1;31m---------------------------------------------------------------------------\u001b[0m",
      "\u001b[1;31mTypeError\u001b[0m                                 Traceback (most recent call last)",
      "\u001b[1;32m<ipython-input-8-5d7986fb00fa>\u001b[0m in \u001b[0;36m<module>\u001b[1;34m\u001b[0m\n\u001b[0;32m      3\u001b[0m     \u001b[0mprint\u001b[0m\u001b[1;33m(\u001b[0m\u001b[1;34mf\"x={x},y={y},z={z}\"\u001b[0m\u001b[1;33m)\u001b[0m\u001b[1;33m\u001b[0m\u001b[1;33m\u001b[0m\u001b[0m\n\u001b[0;32m      4\u001b[0m \u001b[0mprint\u001b[0m\u001b[1;33m(\u001b[0m\u001b[1;34m\"ended\"\u001b[0m\u001b[1;33m)\u001b[0m\u001b[1;33m\u001b[0m\u001b[1;33m\u001b[0m\u001b[0m\n\u001b[1;32m----> 5\u001b[1;33m \u001b[0madd_numbers\u001b[0m\u001b[1;33m(\u001b[0m\u001b[1;36m10\u001b[0m\u001b[1;33m,\u001b[0m\u001b[1;36m20\u001b[0m\u001b[1;33m)\u001b[0m \u001b[1;31m# 10,20 are positional arguments\u001b[0m\u001b[1;33m\u001b[0m\u001b[1;33m\u001b[0m\u001b[0m\n\u001b[0m",
      "\u001b[1;31mTypeError\u001b[0m: add_numbers() missing 1 required positional argument: 'z'"
     ]
    }
   ],
   "source": [
    "print(\"started\")\n",
    "def add_numbers(x,y,z):# x,y are parameters\n",
    "    print(f\"x={x},y={y},z={z}\")\n",
    "print(\"ended\")\n",
    "add_numbers(10,20) # 10,20 are positional arguments"
   ]
  },
  {
   "cell_type": "code",
   "execution_count": 9,
   "metadata": {},
   "outputs": [
    {
     "name": "stdout",
     "output_type": "stream",
     "text": [
      "started\n",
      "ended\n",
      "x=10,y=20,z=30\n"
     ]
    }
   ],
   "source": [
    "print(\"started\")\n",
    "def add_numbers(x,y,z):# x,y are parameters\n",
    "    print(f\"x={x},y={y},z={z}\")\n",
    "print(\"ended\")\n",
    "add_numbers(10,20,30) # 10,20 are positional arguments"
   ]
  },
  {
   "cell_type": "code",
   "execution_count": 10,
   "metadata": {},
   "outputs": [
    {
     "name": "stdout",
     "output_type": "stream",
     "text": [
      "started\n",
      "ended\n"
     ]
    },
    {
     "ename": "TypeError",
     "evalue": "add_numbers() takes 2 positional arguments but 3 were given",
     "output_type": "error",
     "traceback": [
      "\u001b[1;31m---------------------------------------------------------------------------\u001b[0m",
      "\u001b[1;31mTypeError\u001b[0m                                 Traceback (most recent call last)",
      "\u001b[1;32m<ipython-input-10-7d70324dd52b>\u001b[0m in \u001b[0;36m<module>\u001b[1;34m\u001b[0m\n\u001b[0;32m      3\u001b[0m     \u001b[0mprint\u001b[0m\u001b[1;33m(\u001b[0m\u001b[1;34mf\"x={x},y={y}\"\u001b[0m\u001b[1;33m)\u001b[0m\u001b[1;33m\u001b[0m\u001b[1;33m\u001b[0m\u001b[0m\n\u001b[0;32m      4\u001b[0m \u001b[0mprint\u001b[0m\u001b[1;33m(\u001b[0m\u001b[1;34m\"ended\"\u001b[0m\u001b[1;33m)\u001b[0m\u001b[1;33m\u001b[0m\u001b[1;33m\u001b[0m\u001b[0m\n\u001b[1;32m----> 5\u001b[1;33m \u001b[0madd_numbers\u001b[0m\u001b[1;33m(\u001b[0m\u001b[1;36m10\u001b[0m\u001b[1;33m,\u001b[0m\u001b[1;36m20\u001b[0m\u001b[1;33m,\u001b[0m\u001b[1;36m30\u001b[0m\u001b[1;33m)\u001b[0m \u001b[1;31m# 10,20 are positional arguments\u001b[0m\u001b[1;33m\u001b[0m\u001b[1;33m\u001b[0m\u001b[0m\n\u001b[0m",
      "\u001b[1;31mTypeError\u001b[0m: add_numbers() takes 2 positional arguments but 3 were given"
     ]
    }
   ],
   "source": [
    "print(\"started\")\n",
    "def add_numbers(x,y):# x,y are parameters\n",
    "    print(f\"x={x},y={y}\")\n",
    "print(\"ended\")\n",
    "add_numbers(10,20,30) # 10,20 are positional arguments"
   ]
  },
  {
   "cell_type": "code",
   "execution_count": 12,
   "metadata": {},
   "outputs": [
    {
     "name": "stdout",
     "output_type": "stream",
     "text": [
      "started\n",
      "ended\n",
      "x=10,y=20\n",
      "result= 30\n"
     ]
    }
   ],
   "source": [
    "print(\"started\")\n",
    "def add_numbers(x,y):\n",
    "    print(f\"x={x},y={y}\")\n",
    "    res=x+y\n",
    "    print(\"result=\",res)\n",
    "print(\"ended\")\n",
    "add_numbers(10,20)"
   ]
  },
  {
   "cell_type": "code",
   "execution_count": 14,
   "metadata": {},
   "outputs": [
    {
     "name": "stdout",
     "output_type": "stream",
     "text": [
      "x=10, y=20\n",
      "summation: 30\n",
      "x=10, y=20\n",
      "substraction: -10\n",
      "x=10, y=20\n",
      "multiplication: 200\n"
     ]
    }
   ],
   "source": [
    "# summation: add_numbers,  substraction: sub_numbers, multiplication, mul_numbers\n",
    "def add_numbers(x,y):\n",
    "    print(f\"x={x}, y={y}\")\n",
    "    res=x+y\n",
    "    print(\"summation:\",res)\n",
    "def sub_numbers(x,y):\n",
    "    print(f\"x={x}, y={y}\")\n",
    "    res=x-y\n",
    "    print(\"substraction:\",res)\n",
    "def mul_numbers(x,y):\n",
    "    print(f\"x={x}, y={y}\")\n",
    "    res=x*y\n",
    "    print(\"multiplication:\",res)\n",
    "add_numbers(10,20)\n",
    "sub_numbers(10,20)\n",
    "mul_numbers(10,20)"
   ]
  },
  {
   "cell_type": "code",
   "execution_count": 15,
   "metadata": {},
   "outputs": [
    {
     "name": "stdout",
     "output_type": "stream",
     "text": [
      "x=10, y=20\n",
      "summation: 30\n",
      "x=10, y=20\n",
      "substraction: -10\n",
      "x=10, y=20\n",
      "multiplication: 200\n",
      "x=1, y=20\n",
      "summation: 21\n",
      "x=1, y=20\n",
      "substraction: -19\n",
      "x=1, y=20\n",
      "multiplication: 20\n",
      "x=100, y=20\n",
      "summation: 120\n",
      "x=100, y=20\n",
      "substraction: 80\n",
      "x=100, y=20\n",
      "multiplication: 2000\n",
      "x=10, y=200\n",
      "summation: 210\n",
      "x=10, y=200\n",
      "substraction: -190\n",
      "x=10, y=200\n",
      "multiplication: 2000\n",
      "x=1, y=2\n",
      "summation: 3\n",
      "x=1, y=2\n",
      "substraction: -1\n",
      "x=1, y=2\n",
      "multiplication: 2\n"
     ]
    }
   ],
   "source": [
    "# summation: add_numbers,  substraction: sub_numbers, multiplication, mul_numbers\n",
    "def add_numbers(x,y):\n",
    "    print(f\"x={x}, y={y}\")\n",
    "    res=x+y\n",
    "    print(\"summation:\",res)\n",
    "def sub_numbers(x,y):\n",
    "    print(f\"x={x}, y={y}\")\n",
    "    res=x-y\n",
    "    print(\"substraction:\",res)\n",
    "def mul_numbers(x,y):\n",
    "    print(f\"x={x}, y={y}\")\n",
    "    res=x*y\n",
    "    print(\"multiplication:\",res)\n",
    "add_numbers(10,20)\n",
    "sub_numbers(10,20)\n",
    "mul_numbers(10,20)\n",
    "add_numbers(1,20)\n",
    "sub_numbers(1,20)\n",
    "mul_numbers(1,20)\n",
    "add_numbers(100,20)\n",
    "sub_numbers(100,20)\n",
    "mul_numbers(100,20)\n",
    "add_numbers(10,200)\n",
    "sub_numbers(10,200)\n",
    "mul_numbers(10,200)\n",
    "add_numbers(1,2)\n",
    "sub_numbers(1,2)\n",
    "mul_numbers(1,2)"
   ]
  },
  {
   "cell_type": "code",
   "execution_count": null,
   "metadata": {},
   "outputs": [],
   "source": []
  }
 ],
 "metadata": {
  "kernelspec": {
   "display_name": "Python 3",
   "language": "python",
   "name": "python3"
  },
  "language_info": {
   "codemirror_mode": {
    "name": "ipython",
    "version": 3
   },
   "file_extension": ".py",
   "mimetype": "text/x-python",
   "name": "python",
   "nbconvert_exporter": "python",
   "pygments_lexer": "ipython3",
   "version": "3.8.3"
  }
 },
 "nbformat": 4,
 "nbformat_minor": 4
}
