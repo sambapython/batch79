{
 "cells": [
  {
   "cell_type": "code",
   "execution_count": 2,
   "metadata": {},
   "outputs": [
    {
     "name": "stdout",
     "output_type": "stream",
     "text": [
      "11\n",
      "45\n",
      "24\n",
      "68\n",
      "35\n",
      "79\n"
     ]
    }
   ],
   "source": [
    "l=[11,45,24,68,35,79]\n",
    "print(l[0])\n",
    "print(l[1])\n",
    "print(l[2])\n",
    "print(l[3])\n",
    "print(l[4])\n",
    "print(l[5])"
   ]
  },
  {
   "cell_type": "code",
   "execution_count": 6,
   "metadata": {},
   "outputs": [
    {
     "name": "stdout",
     "output_type": "stream",
     "text": [
      "11\n",
      "hello\n",
      "END\n",
      "45\n",
      "hello\n",
      "END\n",
      "24\n",
      "hello\n",
      "END\n",
      "68\n",
      "hello\n",
      "END\n",
      "35\n",
      "hello\n",
      "END\n",
      "79\n",
      "hello\n",
      "END\n",
      "ENDDDD\n",
      "hyd\n"
     ]
    }
   ],
   "source": [
    "l=[11,45,24,68,35,79]\n",
    "for number in l:#number=79\n",
    "    print(number)\n",
    "    print(\"hello\")\n",
    "    \n",
    "    print(\"END\")\n",
    "print(\"ENDDDD\")\n",
    "print(\"hyd\")"
   ]
  },
  {
   "cell_type": "code",
   "execution_count": 7,
   "metadata": {},
   "outputs": [
    {
     "name": "stdout",
     "output_type": "stream",
     "text": [
      "p\n",
      "hello\n",
      "END\n",
      "y\n",
      "hello\n",
      "END\n",
      "t\n",
      "hello\n",
      "END\n",
      "h\n",
      "hello\n",
      "END\n",
      "o\n",
      "hello\n",
      "END\n",
      "n\n",
      "hello\n",
      "END\n",
      "ENDDDD\n",
      "hyd\n"
     ]
    }
   ],
   "source": [
    "l=\"python\"\n",
    "for number in l:\n",
    "    print(number)\n",
    "    print(\"hello\")\n",
    "    \n",
    "    print(\"END\")\n",
    "print(\"ENDDDD\")\n",
    "print(\"hyd\")"
   ]
  },
  {
   "cell_type": "code",
   "execution_count": 8,
   "metadata": {},
   "outputs": [
    {
     "name": "stdout",
     "output_type": "stream",
     "text": [
      "name\n",
      "hello\n",
      "END\n",
      "age\n",
      "hello\n",
      "END\n",
      "ENDDDD\n",
      "hyd\n"
     ]
    }
   ],
   "source": [
    "l={\"name\":\"jay\",\"age\":3}\n",
    "for number in l:\n",
    "    print(number)\n",
    "    print(\"hello\")\n",
    "    \n",
    "    print(\"END\")\n",
    "print(\"ENDDDD\")\n",
    "print(\"hyd\")"
   ]
  },
  {
   "cell_type": "code",
   "execution_count": null,
   "metadata": {},
   "outputs": [],
   "source": []
  }
 ],
 "metadata": {
  "kernelspec": {
   "display_name": "Python 3",
   "language": "python",
   "name": "python3"
  },
  "language_info": {
   "codemirror_mode": {
    "name": "ipython",
    "version": 3
   },
   "file_extension": ".py",
   "mimetype": "text/x-python",
   "name": "python",
   "nbconvert_exporter": "python",
   "pygments_lexer": "ipython3",
   "version": "3.8.3"
  }
 },
 "nbformat": 4,
 "nbformat_minor": 4
}
