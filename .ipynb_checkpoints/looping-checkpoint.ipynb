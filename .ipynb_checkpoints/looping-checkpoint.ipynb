{
 "cells": [
  {
   "cell_type": "code",
   "execution_count": 2,
   "metadata": {},
   "outputs": [
    {
     "name": "stdout",
     "output_type": "stream",
     "text": [
      "11\n",
      "45\n",
      "24\n",
      "68\n",
      "35\n",
      "79\n"
     ]
    }
   ],
   "source": [
    "l=[11,45,24,68,35,79]\n",
    "print(l[0])\n",
    "print(l[1])\n",
    "print(l[2])\n",
    "print(l[3])\n",
    "print(l[4])\n",
    "print(l[5])"
   ]
  },
  {
   "cell_type": "code",
   "execution_count": 6,
   "metadata": {},
   "outputs": [
    {
     "name": "stdout",
     "output_type": "stream",
     "text": [
      "11\n",
      "hello\n",
      "END\n",
      "45\n",
      "hello\n",
      "END\n",
      "24\n",
      "hello\n",
      "END\n",
      "68\n",
      "hello\n",
      "END\n",
      "35\n",
      "hello\n",
      "END\n",
      "79\n",
      "hello\n",
      "END\n",
      "ENDDDD\n",
      "hyd\n"
     ]
    }
   ],
   "source": [
    "l=[11,45,24,68,35,79]\n",
    "for number in l:#number=79\n",
    "    print(number)\n",
    "    print(\"hello\")\n",
    "    \n",
    "    print(\"END\")\n",
    "print(\"ENDDDD\")\n",
    "print(\"hyd\")"
   ]
  },
  {
   "cell_type": "code",
   "execution_count": 7,
   "metadata": {},
   "outputs": [
    {
     "name": "stdout",
     "output_type": "stream",
     "text": [
      "p\n",
      "hello\n",
      "END\n",
      "y\n",
      "hello\n",
      "END\n",
      "t\n",
      "hello\n",
      "END\n",
      "h\n",
      "hello\n",
      "END\n",
      "o\n",
      "hello\n",
      "END\n",
      "n\n",
      "hello\n",
      "END\n",
      "ENDDDD\n",
      "hyd\n"
     ]
    }
   ],
   "source": [
    "l=\"python\"\n",
    "for number in l:\n",
    "    print(number)\n",
    "    print(\"hello\")\n",
    "    \n",
    "    print(\"END\")\n",
    "print(\"ENDDDD\")\n",
    "print(\"hyd\")"
   ]
  },
  {
   "cell_type": "code",
   "execution_count": 8,
   "metadata": {},
   "outputs": [
    {
     "name": "stdout",
     "output_type": "stream",
     "text": [
      "name\n",
      "hello\n",
      "END\n",
      "age\n",
      "hello\n",
      "END\n",
      "ENDDDD\n",
      "hyd\n"
     ]
    }
   ],
   "source": [
    "l={\"name\":\"jay\",\"age\":3}\n",
    "for number in l:\n",
    "    print(number)\n",
    "    print(\"hello\")\n",
    "    \n",
    "    print(\"END\")\n",
    "print(\"ENDDDD\")\n",
    "print(\"hyd\")"
   ]
  },
  {
   "cell_type": "code",
   "execution_count": 1,
   "metadata": {},
   "outputs": [
    {
     "name": "stdout",
     "output_type": "stream",
     "text": [
      "started\n",
      "0\n",
      "ended\n"
     ]
    }
   ],
   "source": [
    "print(\"started\")\n",
    "i=0\n",
    "if i<10:# True\n",
    "    print(i)\n",
    "    i=i+1#1\n",
    "print(\"ended\")"
   ]
  },
  {
   "cell_type": "code",
   "execution_count": 3,
   "metadata": {},
   "outputs": [
    {
     "name": "stdout",
     "output_type": "stream",
     "text": [
      "started\n",
      "0\n",
      "1\n",
      "2\n",
      "ended\n"
     ]
    }
   ],
   "source": [
    "print(\"started\")\n",
    "i=0\n",
    "while i<3:#0<3: True, 1<3:True, 2<3:True, 3<3: False\n",
    "    print(i)\n",
    "    i=i+1#0+1:1, 1+1:2, 2+1:3\n",
    "print(\"ended\")"
   ]
  },
  {
   "cell_type": "code",
   "execution_count": 4,
   "metadata": {},
   "outputs": [
    {
     "name": "stdout",
     "output_type": "stream",
     "text": [
      "started\n",
      "ended\n"
     ]
    }
   ],
   "source": [
    "print(\"started\")\n",
    "i=10\n",
    "while i<3:\n",
    "    print(i)\n",
    "    i=i+1\n",
    "print(\"ended\")"
   ]
  },
  {
   "cell_type": "code",
   "execution_count": null,
   "metadata": {},
   "outputs": [],
   "source": [
    "print(\"started\")\n",
    "i=0\n",
    "while i<3:#0<3: True, -1<3:True, -2<3:true, -3<3: True, -4<3:True.....\n",
    "    print(i)\n",
    "    i=i-1:#0-1:-1,-1-1:-2, -2-1:-3, -4\n",
    "print(\"ended\")"
   ]
  },
  {
   "cell_type": "code",
   "execution_count": 5,
   "metadata": {},
   "outputs": [],
   "source": [
    "s=10**10000"
   ]
  },
  {
   "cell_type": "code",
   "execution_count": 6,
   "metadata": {},
   "outputs": [],
   "source": [
    "s=10**1000000"
   ]
  },
  {
   "cell_type": "code",
   "execution_count": null,
   "metadata": {},
   "outputs": [],
   "source": [
    "s=10**100000000000"
   ]
  },
  {
   "cell_type": "code",
   "execution_count": null,
   "metadata": {},
   "outputs": [],
   "source": [
    "print(s)"
   ]
  },
  {
   "cell_type": "code",
   "execution_count": 1,
   "metadata": {},
   "outputs": [
    {
     "name": "stdout",
     "output_type": "stream",
     "text": [
      "started\n",
      "hello\n",
      "hello\n",
      "hello\n",
      "hello\n",
      "hello\n",
      "hello\n",
      "i= n\n",
      "ended\n"
     ]
    }
   ],
   "source": [
    "print(\"started\")\n",
    "for i in \"python\":#i=\n",
    "    print(\"hello\")\n",
    "print(\"i=\",i)\n",
    "print(\"ended\")"
   ]
  },
  {
   "cell_type": "code",
   "execution_count": 3,
   "metadata": {},
   "outputs": [
    {
     "name": "stdout",
     "output_type": "stream",
     "text": [
      "12:Even\n",
      "13:ODD\n",
      "15:ODD\n",
      "14:Even\n",
      "16:Even\n"
     ]
    }
   ],
   "source": [
    "l=[12,13,15,14,16]\n",
    "for number in l:\n",
    "    print(f\"{number}:Even\" if number%2==0 else f\"{number}:ODD\")"
   ]
  },
  {
   "cell_type": "code",
   "execution_count": null,
   "metadata": {},
   "outputs": [],
   "source": [
    "l=[12,-30,45,67,-36,-89,45,67]"
   ]
  },
  {
   "cell_type": "code",
   "execution_count": 4,
   "metadata": {},
   "outputs": [],
   "source": [
    "l=[1,34,25,26,29,27]\n",
    "# wap to print number of even numbers and number of odd numbers"
   ]
  },
  {
   "cell_type": "code",
   "execution_count": 5,
   "metadata": {},
   "outputs": [
    {
     "name": "stdout",
     "output_type": "stream",
     "text": [
      "Evens: 2\n",
      "Odds: 4\n"
     ]
    }
   ],
   "source": [
    "l=[1,34,25,26,29,27]\n",
    "even_count=0\n",
    "odd_count=0\n",
    "for i in l:#i=1,i=34, i=25, i=26, i=29, i=27.\n",
    "    if i%2==0:#1==0: False, 0==0: True, 1==0:False, 0==0:true, 1==0:False, 1==0:False\n",
    "        even_count=even_count+1#0+1:1, 1+1:2\n",
    "    else:\n",
    "        odd_count = odd_count+1#0+1:1, 1+1:2,2+1:3, 3+1:4\n",
    "print(\"Evens:\",even_count)\n",
    "print(\"Odds:\", odd_count)"
   ]
  },
  {
   "cell_type": "code",
   "execution_count": 6,
   "metadata": {},
   "outputs": [
    {
     "name": "stdout",
     "output_type": "stream",
     "text": [
      "Evens: 0\n",
      "Odds: 4\n"
     ]
    }
   ],
   "source": [
    "#wap to decide the list contains evens or not?\n",
    "l=[1,3,5,7]\n",
    "even_count=0\n",
    "odd_count=0\n",
    "for i in l:#i=1,i=34, i=25, i=26, i=29, i=27.\n",
    "    if i%2==0:#1==0: False, 0==0: True, 1==0:False, 0==0:true, 1==0:False, 1==0:False\n",
    "        even_count=even_count+1#0+1:1, 1+1:2\n",
    "    else:\n",
    "        odd_count = odd_count+1#0+1:1, 1+1:2,2+1:3, 3+1:4\n",
    "print(\"Evens:\",even_count)\n",
    "print(\"Odds:\", odd_count)"
   ]
  },
  {
   "cell_type": "code",
   "execution_count": 7,
   "metadata": {},
   "outputs": [
    {
     "name": "stdout",
     "output_type": "stream",
     "text": [
      "Evens: 3\n",
      "Odds: 0\n"
     ]
    }
   ],
   "source": [
    "#wap to decide the list contains evens or not?\n",
    "l=[12,14,16]\n",
    "even_count=0\n",
    "odd_count=0\n",
    "for i in l:#i=1,i=34, i=25, i=26, i=29, i=27.\n",
    "    if i%2==0:#1==0: False, 0==0: True, 1==0:False, 0==0:true, 1==0:False, 1==0:False\n",
    "        even_count=even_count+1#0+1:1, 1+1:2\n",
    "    else:\n",
    "        odd_count = odd_count+1#0+1:1, 1+1:2,2+1:3, 3+1:4\n",
    "print(\"Evens:\",even_count)\n",
    "print(\"Odds:\", odd_count)"
   ]
  },
  {
   "cell_type": "code",
   "execution_count": 8,
   "metadata": {},
   "outputs": [
    {
     "name": "stdout",
     "output_type": "stream",
     "text": [
      "there is evens\n"
     ]
    }
   ],
   "source": [
    "#wap to decide the list contains evens or not?\n",
    "l=[12,14,16]\n",
    "even_count=0\n",
    "odd_count=0\n",
    "for i in l:\n",
    "    if i%2==0:\n",
    "        even_count=even_count+1\n",
    "    else:\n",
    "        odd_count = odd_count+1\n",
    "if even_count==0:\n",
    "    print(\"No evens\")\n",
    "else:\n",
    "    print(\"there is evens\")"
   ]
  },
  {
   "cell_type": "code",
   "execution_count": 9,
   "metadata": {},
   "outputs": [
    {
     "name": "stdout",
     "output_type": "stream",
     "text": [
      "there is evens\n"
     ]
    }
   ],
   "source": [
    "#wap to decide the list contains evens or not?\n",
    "l=[1,2,3,4,5]\n",
    "even_count=0\n",
    "odd_count=0\n",
    "for i in l:\n",
    "    if i%2==0:\n",
    "        even_count=even_count+1\n",
    "    else:\n",
    "        odd_count = odd_count+1\n",
    "if even_count==0:\n",
    "    print(\"No evens\")\n",
    "else:\n",
    "    print(\"there is evens\")"
   ]
  },
  {
   "cell_type": "code",
   "execution_count": 10,
   "metadata": {},
   "outputs": [
    {
     "name": "stdout",
     "output_type": "stream",
     "text": [
      "No evens\n"
     ]
    }
   ],
   "source": [
    "#wap to decide the list contains evens or not?\n",
    "l=[1,3,5,7]\n",
    "even_count=0\n",
    "odd_count=0\n",
    "for i in l:.\n",
    "    if i%2==0:\n",
    "        even_count=even_count+1\n",
    "    else:\n",
    "        odd_count = odd_count+1\n",
    "if even_count==0:\n",
    "    print(\"No evens\")\n",
    "else:\n",
    "    print(\"there is evens\")"
   ]
  },
  {
   "cell_type": "code",
   "execution_count": 12,
   "metadata": {},
   "outputs": [
    {
     "name": "stdout",
     "output_type": "stream",
     "text": [
      "No evens\n"
     ]
    }
   ],
   "source": [
    "#wap to decide the list contains evens or not?\n",
    "l=[1,3,5,7]\n",
    "even_count=0\n",
    "for i in l:\n",
    "    if i%2==0:\n",
    "        even_count=even_count+1\n",
    "if even_count==0:\n",
    "    print(\"No evens\")\n",
    "else:\n",
    "    print(\"there is evens\")"
   ]
  },
  {
   "cell_type": "code",
   "execution_count": 13,
   "metadata": {},
   "outputs": [
    {
     "name": "stdout",
     "output_type": "stream",
     "text": [
      "i= 1\n",
      "i= 2\n",
      "i= 3\n",
      "i= 6\n",
      "i= 5\n",
      "i= 7\n",
      "i= 256\n",
      "there is evens\n"
     ]
    }
   ],
   "source": [
    "#wap to decide the list contains evens or not?\n",
    "l=[1,2,3,6,5,7,256]\n",
    "even_count=0\n",
    "for i in l:\n",
    "    print(\"i=\",i)\n",
    "    if i%2==0:\n",
    "        even_count=even_count+1\n",
    "if even_count==0:\n",
    "    print(\"No evens\")\n",
    "else:\n",
    "    print(\"there is evens\")"
   ]
  },
  {
   "cell_type": "code",
   "execution_count": 14,
   "metadata": {},
   "outputs": [
    {
     "name": "stdout",
     "output_type": "stream",
     "text": [
      "started\n",
      "1\n",
      "2\n",
      "3\n",
      "4\n"
     ]
    }
   ],
   "source": [
    "#break\n",
    "print(\"started\")\n",
    "for i in range(1,5):\n",
    "    print(i)"
   ]
  },
  {
   "cell_type": "code",
   "execution_count": 15,
   "metadata": {},
   "outputs": [
    {
     "name": "stdout",
     "output_type": "stream",
     "text": [
      "started\n",
      "1\n",
      "6\n",
      "11\n",
      "16\n",
      "21\n",
      "26\n",
      "31\n",
      "36\n",
      "41\n",
      "46\n"
     ]
    }
   ],
   "source": [
    "#break\n",
    "print(\"started\")\n",
    "for i in range(1,50,5):\n",
    "    print(i)"
   ]
  },
  {
   "cell_type": "code",
   "execution_count": 16,
   "metadata": {},
   "outputs": [
    {
     "name": "stdout",
     "output_type": "stream",
     "text": [
      "started\n",
      "hello\n",
      "ended\n"
     ]
    }
   ],
   "source": [
    "#break\n",
    "print(\"started\")\n",
    "for i in [1,2,3,4]:\n",
    "    print(\"hello\")\n",
    "    break\n",
    "print(\"ended\")"
   ]
  },
  {
   "cell_type": "code",
   "execution_count": 17,
   "metadata": {},
   "outputs": [
    {
     "name": "stdout",
     "output_type": "stream",
     "text": [
      "started\n",
      "hello\n",
      "hello\n",
      "hello\n",
      "hello\n",
      "ended\n"
     ]
    }
   ],
   "source": [
    "#break\n",
    "print(\"started\")\n",
    "for i in [1,2,3,4]:\n",
    "    print(\"hello\")\n",
    "    #break\n",
    "print(\"ended\")"
   ]
  },
  {
   "cell_type": "code",
   "execution_count": 18,
   "metadata": {},
   "outputs": [
    {
     "name": "stdout",
     "output_type": "stream",
     "text": [
      "started\n",
      "hello\n",
      "i= 1\n",
      "hello\n",
      "i= 2\n",
      "hello\n",
      "ended\n"
     ]
    }
   ],
   "source": [
    "#break\n",
    "print(\"started\")\n",
    "for i in [1,2,3,4]:\n",
    "    print(\"hello\")\n",
    "    if i==3:\n",
    "        break\n",
    "    print(\"i=\",i)\n",
    "print(\"ended\")"
   ]
  },
  {
   "cell_type": "code",
   "execution_count": 1,
   "metadata": {},
   "outputs": [
    {
     "name": "stdout",
     "output_type": "stream",
     "text": [
      "started\n",
      "i= p\n",
      "ended\n"
     ]
    }
   ],
   "source": [
    "print(\"started\")\n",
    "for i in \"python\":\n",
    "    break\n",
    "print(\"i=\",i)# statement is ther out side the loop\n",
    "print(\"ended\")"
   ]
  },
  {
   "cell_type": "code",
   "execution_count": 2,
   "metadata": {},
   "outputs": [
    {
     "name": "stdout",
     "output_type": "stream",
     "text": [
      "started\n",
      "ended\n"
     ]
    }
   ],
   "source": [
    "print(\"started\")\n",
    "for i in \"python\":\n",
    "    break\n",
    "    print(\"i=\",i)# statement is ther in side the loop\n",
    "print(\"ended\")"
   ]
  },
  {
   "cell_type": "code",
   "execution_count": 3,
   "metadata": {},
   "outputs": [
    {
     "name": "stdout",
     "output_type": "stream",
     "text": [
      "started\n",
      "i1= p\n",
      "ended\n"
     ]
    }
   ],
   "source": [
    "print(\"started\")\n",
    "for i in \"python\":\n",
    "    print(\"i1=\",i)\n",
    "    break\n",
    "    print(\"i2=\",i)# statement is ther in side the loop\n",
    "print(\"ended\")"
   ]
  },
  {
   "cell_type": "code",
   "execution_count": 4,
   "metadata": {},
   "outputs": [
    {
     "name": "stdout",
     "output_type": "stream",
     "text": [
      "started\n",
      "i= p\n",
      "i= y\n",
      "ended\n"
     ]
    }
   ],
   "source": [
    "print(\"started\")\n",
    "for i in \"python\":\n",
    "    if i==\"t\":\n",
    "        break\n",
    "    print(\"i=\",i)\n",
    "else:# controller come out from the loop based on two scenarios\n",
    "    #1. break statement executed, it's came out\n",
    "    #2. all elements are iterated.\n",
    "    # elese block will be executed in second scenario. For first it will not execute\n",
    "    print(\"this is an else block\")\n",
    "print(\"ended\")"
   ]
  },
  {
   "cell_type": "code",
   "execution_count": 5,
   "metadata": {},
   "outputs": [
    {
     "name": "stdout",
     "output_type": "stream",
     "text": [
      "started\n",
      "i= p\n",
      "i= y\n",
      "i= t\n",
      "i= h\n",
      "i= o\n",
      "i= n\n",
      "this is an else block\n",
      "ended\n"
     ]
    }
   ],
   "source": [
    "print(\"started\")\n",
    "for i in \"python\":\n",
    "    if i==\"T\":\n",
    "        break\n",
    "    print(\"i=\",i)\n",
    "else:# controller come out from the loop based on two scenarios\n",
    "    #1. break statement executed, it's came out\n",
    "    #2. all elements are iterated.\n",
    "    # elese block will be executed in second scenario. For first it will not execute\n",
    "    print(\"this is an else block\")\n",
    "print(\"ended\")"
   ]
  },
  {
   "cell_type": "code",
   "execution_count": 6,
   "metadata": {},
   "outputs": [
    {
     "name": "stdout",
     "output_type": "stream",
     "text": [
      "No evens\n"
     ]
    }
   ],
   "source": [
    "#wap to decide the list contains evens or not?\n",
    "l=[1,3,5,7]\n",
    "for i in l:\n",
    "    if i%2==0:\n",
    "        print(\"Evens\")\n",
    "        break\n",
    "else:\n",
    "    print(\"No evens\")"
   ]
  },
  {
   "cell_type": "code",
   "execution_count": 7,
   "metadata": {},
   "outputs": [
    {
     "name": "stdout",
     "output_type": "stream",
     "text": [
      "Evens\n"
     ]
    }
   ],
   "source": [
    "#wap to decide the list contains evens or not?\n",
    "l=[1,3,4,5,7]\n",
    "for i in l:\n",
    "    if i%2==0:\n",
    "        print(\"Evens\")\n",
    "        break\n",
    "else:\n",
    "    print(\"No evens\")"
   ]
  },
  {
   "cell_type": "code",
   "execution_count": 8,
   "metadata": {},
   "outputs": [
    {
     "name": "stdout",
     "output_type": "stream",
     "text": [
      "i= 1\n",
      "i= 3\n",
      "i= 4\n",
      "Evens\n"
     ]
    }
   ],
   "source": [
    "#wap to decide the list contains evens or not?\n",
    "l=[1,3,4,5,7]\n",
    "for i in l:\n",
    "    print(\"i=\",i)\n",
    "    if i%2==0:\n",
    "        print(\"Evens\")\n",
    "        break\n",
    "else:\n",
    "    print(\"No evens\")"
   ]
  },
  {
   "cell_type": "code",
   "execution_count": 9,
   "metadata": {},
   "outputs": [
    {
     "name": "stdout",
     "output_type": "stream",
     "text": [
      "i= 1\n",
      "i= 3\n",
      "i= 4\n",
      "Evens\n"
     ]
    }
   ],
   "source": [
    "#wap to decide the list contains evens or not?\n",
    "l=[1,3,4,5,7]\n",
    "for i in l:\n",
    "    print(\"i=\",i)\n",
    "    if i%2==0:\n",
    "        print(\"Evens\")\n",
    "        break"
   ]
  },
  {
   "cell_type": "code",
   "execution_count": 10,
   "metadata": {},
   "outputs": [
    {
     "name": "stdout",
     "output_type": "stream",
     "text": [
      "4\n"
     ]
    }
   ],
   "source": [
    "#wap to decide the list contains evens or not?\n",
    "l=[1,3,4,5,7]\n",
    "for i in l:\n",
    "    if i%2==0:\n",
    "        print(i)"
   ]
  },
  {
   "cell_type": "code",
   "execution_count": 11,
   "metadata": {},
   "outputs": [
    {
     "name": "stdout",
     "output_type": "stream",
     "text": [
      "2\n",
      "4\n"
     ]
    }
   ],
   "source": [
    "#wap to decide the list contains evens or not?\n",
    "l=[1,2,3,4]\n",
    "for i in l:\n",
    "    if i%2==0:\n",
    "        print(i)"
   ]
  },
  {
   "cell_type": "code",
   "execution_count": 12,
   "metadata": {},
   "outputs": [
    {
     "name": "stdout",
     "output_type": "stream",
     "text": [
      "1\n",
      "3\n"
     ]
    }
   ],
   "source": [
    "#wap to decide the list contains evens or not?\n",
    "l=[1,2,3,4]\n",
    "for i in l:\n",
    "    if i%2==1:\n",
    "        print(i)"
   ]
  },
  {
   "cell_type": "code",
   "execution_count": 13,
   "metadata": {},
   "outputs": [],
   "source": [
    "l=[]\n",
    "for i in l:\n",
    "    print(\"hello\")"
   ]
  },
  {
   "cell_type": "code",
   "execution_count": 14,
   "metadata": {},
   "outputs": [
    {
     "name": "stdout",
     "output_type": "stream",
     "text": [
      "No evens\n"
     ]
    }
   ],
   "source": [
    "#wap to decide the list contains evens or not?\n",
    "l=[]\n",
    "for i in l:\n",
    "    print(\"i=\",i)\n",
    "    if i%2==0:\n",
    "        print(\"Evens\")\n",
    "        break\n",
    "else:\n",
    "    print(\"No evens\")"
   ]
  },
  {
   "cell_type": "code",
   "execution_count": 15,
   "metadata": {},
   "outputs": [
    {
     "name": "stdout",
     "output_type": "stream",
     "text": [
      "Empty list\n"
     ]
    }
   ],
   "source": [
    "#wap to decide the list contains evens or not?\n",
    "l=[]\n",
    "if l:\n",
    "    for i in l:\n",
    "        print(\"i=\",i)\n",
    "        if i%2==0:\n",
    "            print(\"Evens\")\n",
    "            break\n",
    "    else:\n",
    "        print(\"No evens\")\n",
    "else:\n",
    "    print(\"Empty list\")"
   ]
  },
  {
   "cell_type": "code",
   "execution_count": 16,
   "metadata": {},
   "outputs": [
    {
     "name": "stdout",
     "output_type": "stream",
     "text": [
      "i= 1\n",
      "i= 3\n",
      "i= 5\n",
      "No evens\n"
     ]
    }
   ],
   "source": [
    "#wap to decide the list contains evens or not?\n",
    "l=[1,3,5]\n",
    "if l:\n",
    "    for i in l:\n",
    "        print(\"i=\",i)\n",
    "        if i%2==0:\n",
    "            print(\"Evens\")\n",
    "            break\n",
    "    else:\n",
    "        print(\"No evens\")\n",
    "else:\n",
    "    print(\"Empty list\")"
   ]
  },
  {
   "cell_type": "code",
   "execution_count": 17,
   "metadata": {},
   "outputs": [
    {
     "name": "stdout",
     "output_type": "stream",
     "text": [
      "i= 2\n",
      "Evens\n"
     ]
    }
   ],
   "source": [
    "#wap to decide the list contains evens or not?\n",
    "l=[2,4,6]\n",
    "if l:\n",
    "    for i in l:\n",
    "        print(\"i=\",i)\n",
    "        if i%2==0:\n",
    "            print(\"Evens\")\n",
    "            break\n",
    "    else:\n",
    "        print(\"No evens\")\n",
    "else:\n",
    "    print(\"Empty list\")"
   ]
  },
  {
   "cell_type": "code",
   "execution_count": 18,
   "metadata": {},
   "outputs": [
    {
     "name": "stdout",
     "output_type": "stream",
     "text": [
      "i= 1\n",
      "i= 2\n",
      "Evens\n"
     ]
    }
   ],
   "source": [
    "#wap to decide the list contains evens or not?\n",
    "l=[1,2,3,4]\n",
    "if l:\n",
    "    for i in l:\n",
    "        print(\"i=\",i)\n",
    "        if i%2==0:\n",
    "            print(\"Evens\")\n",
    "            break\n",
    "    else:\n",
    "        print(\"No evens\")\n",
    "else:\n",
    "    print(\"Empty list\")"
   ]
  },
  {
   "cell_type": "code",
   "execution_count": null,
   "metadata": {},
   "outputs": [],
   "source": [
    "l=[\"apple\",\"orange\",\"grape\",\"mango\"]\n",
    "fruit = input(\"Enter fruit name:\")\n",
    "#apple: it's available in my mart\n",
    "#banana: it's not available in my mart"
   ]
  },
  {
   "cell_type": "code",
   "execution_count": null,
   "metadata": {},
   "outputs": [],
   "source": [
    "l=[\"apple\", \"orange\",\"grape\",\"mango\"]\n",
    "fruit = input(\"enter a fruit name:\")\n",
    "#apple: it's available in mart\n",
    "#banana: it's not available in my mart\n",
    "for i in l:\n",
    "    if i == fruit:\n",
    "        print(\"it's available in the mart\")\n",
    "        break\n",
    "else: \n",
    "    print(\"it's not available in the mart\")"
   ]
  },
  {
   "cell_type": "code",
   "execution_count": null,
   "metadata": {},
   "outputs": [],
   "source": [
    "l=[\"apple\",\"orange\",\"banana\"]\n",
    "fruit=input(\"enter name of fruit:\")\n",
    "if fruit in l:\n",
    "    print(\"fruit is available\")\n",
    "else:\n",
    "        print(\"not available\")"
   ]
  },
  {
   "cell_type": "code",
   "execution_count": 19,
   "metadata": {},
   "outputs": [
    {
     "data": {
      "text/plain": [
       "True"
      ]
     },
     "execution_count": 19,
     "metadata": {},
     "output_type": "execute_result"
    }
   ],
   "source": [
    "\"apple\" in [\"apple\",\"orange\"]"
   ]
  },
  {
   "cell_type": "code",
   "execution_count": 20,
   "metadata": {},
   "outputs": [
    {
     "ename": "TypeError",
     "evalue": "argument of type 'NoneType' is not iterable",
     "output_type": "error",
     "traceback": [
      "\u001b[1;31m---------------------------------------------------------------------------\u001b[0m",
      "\u001b[1;31mTypeError\u001b[0m                                 Traceback (most recent call last)",
      "\u001b[1;32m<ipython-input-20-7bf232fd1807>\u001b[0m in \u001b[0;36m<module>\u001b[1;34m\u001b[0m\n\u001b[1;32m----> 1\u001b[1;33m \u001b[1;34m\"apple\"\u001b[0m \u001b[1;32min\u001b[0m \u001b[1;32mNone\u001b[0m\u001b[1;33m\u001b[0m\u001b[1;33m\u001b[0m\u001b[0m\n\u001b[0m",
      "\u001b[1;31mTypeError\u001b[0m: argument of type 'NoneType' is not iterable"
     ]
    }
   ],
   "source": [
    "\"apple\" in None"
   ]
  },
  {
   "cell_type": "code",
   "execution_count": 21,
   "metadata": {},
   "outputs": [
    {
     "name": "stdout",
     "output_type": "stream",
     "text": [
      "enter name of fruit:apple\n",
      "fruit is available\n"
     ]
    }
   ],
   "source": [
    "l=[\"apple\",\"orange\",\"banana\"]\n",
    "fruit=input(\"enter name of fruit:\")\n",
    "if fruit in l:\n",
    "    print(\"fruit is available\")\n",
    "else:\n",
    "        print(\"not available\")"
   ]
  },
  {
   "cell_type": "code",
   "execution_count": 22,
   "metadata": {},
   "outputs": [
    {
     "name": "stdout",
     "output_type": "stream",
     "text": [
      "enter a fruit name:orange\n",
      "it's available in the mart\n"
     ]
    }
   ],
   "source": [
    "l=[\"apple\", \"orange\",\"grape\",\"mango\"]\n",
    "fruit = input(\"enter a fruit name:\")\n",
    "#apple: it's available in mart\n",
    "#banana: it's not available in my mart\n",
    "for i in l:\n",
    "    if i == fruit:\n",
    "        print(\"it's available in the mart\")\n",
    "        break\n",
    "else: \n",
    "    print(\"it's not available in the mart\")"
   ]
  },
  {
   "cell_type": "code",
   "execution_count": 23,
   "metadata": {},
   "outputs": [
    {
     "name": "stdout",
     "output_type": "stream",
     "text": [
      "enter a fruit name:banana\n",
      "it's not available in the mart\n"
     ]
    }
   ],
   "source": [
    "l=[\"apple\", \"orange\",\"grape\",\"mango\"]\n",
    "fruit = input(\"enter a fruit name:\")\n",
    "#apple: it's available in mart\n",
    "#banana: it's not available in my mart\n",
    "for i in l:\n",
    "    if i == fruit:\n",
    "        print(\"it's available in the mart\")\n",
    "        break\n",
    "else: \n",
    "    print(\"it's not available in the mart\")"
   ]
  },
  {
   "cell_type": "code",
   "execution_count": 24,
   "metadata": {},
   "outputs": [
    {
     "data": {
      "text/plain": [
       "48"
      ]
     },
     "execution_count": 24,
     "metadata": {},
     "output_type": "execute_result"
    }
   ],
   "source": [
    "ord(\"0\")"
   ]
  },
  {
   "cell_type": "code",
   "execution_count": 25,
   "metadata": {},
   "outputs": [
    {
     "data": {
      "text/plain": [
       "57"
      ]
     },
     "execution_count": 25,
     "metadata": {},
     "output_type": "execute_result"
    }
   ],
   "source": [
    "ord(\"9\")"
   ]
  },
  {
   "cell_type": "code",
   "execution_count": 26,
   "metadata": {},
   "outputs": [
    {
     "name": "stdout",
     "output_type": "stream",
     "text": [
      "0\n",
      "1\n",
      "2\n",
      "3\n",
      "4\n",
      "5\n",
      "6\n",
      "7\n",
      "8\n",
      "9\n"
     ]
    }
   ],
   "source": [
    "for i in range(10):\n",
    "    print(i)"
   ]
  },
  {
   "cell_type": "code",
   "execution_count": 29,
   "metadata": {},
   "outputs": [
    {
     "name": "stdout",
     "output_type": "stream",
     "text": [
      "ASCII:0 48\n",
      "ASCII:1 49\n",
      "ASCII:2 50\n",
      "ASCII:3 51\n",
      "ASCII:4 52\n",
      "ASCII:5 53\n",
      "ASCII:6 54\n",
      "ASCII:7 55\n",
      "ASCII:8 56\n",
      "ASCII:9 57\n"
     ]
    }
   ],
   "source": [
    "for i in range(10):\n",
    "    print(f\"ASCII:{i}\",ord(str(i)))"
   ]
  },
  {
   "cell_type": "code",
   "execution_count": 30,
   "metadata": {},
   "outputs": [],
   "source": [
    "c=\"5\""
   ]
  },
  {
   "cell_type": "code",
   "execution_count": 31,
   "metadata": {},
   "outputs": [],
   "source": [
    "c=\"d\""
   ]
  },
  {
   "cell_type": "code",
   "execution_count": 33,
   "metadata": {},
   "outputs": [
    {
     "name": "stdout",
     "output_type": "stream",
     "text": [
      "Enter char:3\n",
      "it's digit\n"
     ]
    }
   ],
   "source": [
    "l=[\"1\",\"2\",\"3\",\"4\",\"5\",\"6\",\"7\",\"8\",\"9\"]\n",
    "char = input(\"Enter char:\")\n",
    "if char in l:\n",
    "    print(\"it's digit\")\n",
    "else:\n",
    "    print(\"it's not a digit\")"
   ]
  },
  {
   "cell_type": "code",
   "execution_count": 34,
   "metadata": {},
   "outputs": [
    {
     "name": "stdout",
     "output_type": "stream",
     "text": [
      "Enter char:s\n",
      "it's not a digit\n"
     ]
    }
   ],
   "source": [
    "l=[\"1\",\"2\",\"3\",\"4\",\"5\",\"6\",\"7\",\"8\",\"9\"]\n",
    "char = input(\"Enter char:\")\n",
    "if char in l:\n",
    "    print(\"it's digit\")\n",
    "else:\n",
    "    print(\"it's not a digit\")"
   ]
  },
  {
   "cell_type": "code",
   "execution_count": 35,
   "metadata": {},
   "outputs": [
    {
     "name": "stdout",
     "output_type": "stream",
     "text": [
      "Enter char:sdfsdf\n",
      "it's not a digit\n"
     ]
    }
   ],
   "source": [
    "l=[\"1\",\"2\",\"3\",\"4\",\"5\",\"6\",\"7\",\"8\",\"9\"]\n",
    "char = input(\"Enter char:\")\n",
    "if char in l:\n",
    "    print(\"it's digit\")\n",
    "else:\n",
    "    print(\"it's not a digit\")"
   ]
  },
  {
   "cell_type": "code",
   "execution_count": 36,
   "metadata": {},
   "outputs": [
    {
     "name": "stdout",
     "output_type": "stream",
     "text": [
      "Enter char:242q\n",
      "it's not a digit\n"
     ]
    }
   ],
   "source": [
    "l=[\"1\",\"2\",\"3\",\"4\",\"5\",\"6\",\"7\",\"8\",\"9\"]\n",
    "char = input(\"Enter char:\")\n",
    "if char in l:\n",
    "    print(\"it's digit\")\n",
    "else:\n",
    "    print(\"it's not a digit\")"
   ]
  },
  {
   "cell_type": "code",
   "execution_count": 37,
   "metadata": {},
   "outputs": [
    {
     "name": "stdout",
     "output_type": "stream",
     "text": [
      "Enter char:wewet\n",
      "it does not has a digit\n"
     ]
    }
   ],
   "source": [
    "l=[\"1\",\"2\",\"3\",\"4\",\"5\",\"6\",\"7\",\"8\",\"9\"]\n",
    "string = input(\"Enter char:\")\n",
    "for char in string:\n",
    "    if char in l:\n",
    "        print(\"it has digit\")\n",
    "        break\n",
    "else:\n",
    "    print(\"it does not has a digit\")"
   ]
  },
  {
   "cell_type": "code",
   "execution_count": 38,
   "metadata": {},
   "outputs": [
    {
     "name": "stdout",
     "output_type": "stream",
     "text": [
      "Enter char:werew4wwrwerwe\n",
      "it has digit\n"
     ]
    }
   ],
   "source": [
    "l=[\"1\",\"2\",\"3\",\"4\",\"5\",\"6\",\"7\",\"8\",\"9\"]\n",
    "string = input(\"Enter char:\")\n",
    "for char in string:\n",
    "    if char in l:\n",
    "        print(\"it has digit\")\n",
    "        break\n",
    "else:\n",
    "    print(\"it does not has a digit\")"
   ]
  },
  {
   "cell_type": "code",
   "execution_count": 39,
   "metadata": {},
   "outputs": [
    {
     "data": {
      "text/plain": [
       "[48, 49, 50, 51, 52, 53, 54, 55, 56]"
      ]
     },
     "execution_count": 39,
     "metadata": {},
     "output_type": "execute_result"
    }
   ],
   "source": [
    "list(range(ord(\"0\"),ord(\"9\")))"
   ]
  },
  {
   "cell_type": "code",
   "execution_count": 40,
   "metadata": {},
   "outputs": [
    {
     "data": {
      "text/plain": [
       "[48, 49, 50, 51, 52, 53, 54, 55, 56, 57]"
      ]
     },
     "execution_count": 40,
     "metadata": {},
     "output_type": "execute_result"
    }
   ],
   "source": [
    "list(range(ord(\"0\"),ord(\"9\")+1))"
   ]
  },
  {
   "cell_type": "code",
   "execution_count": 42,
   "metadata": {},
   "outputs": [
    {
     "data": {
      "text/plain": [
       "[0, 1, 2, 3, 4, 5, 6, 7, 8]"
      ]
     },
     "execution_count": 42,
     "metadata": {},
     "output_type": "execute_result"
    }
   ],
   "source": [
    "list(range(0,9))"
   ]
  },
  {
   "cell_type": "code",
   "execution_count": 43,
   "metadata": {},
   "outputs": [
    {
     "ename": "TypeError",
     "evalue": "ord() expected a character, but string of length 2 found",
     "output_type": "error",
     "traceback": [
      "\u001b[1;31m---------------------------------------------------------------------------\u001b[0m",
      "\u001b[1;31mTypeError\u001b[0m                                 Traceback (most recent call last)",
      "\u001b[1;32m<ipython-input-43-c07dbe362e88>\u001b[0m in \u001b[0;36m<module>\u001b[1;34m\u001b[0m\n\u001b[1;32m----> 1\u001b[1;33m \u001b[0mord\u001b[0m\u001b[1;33m(\u001b[0m\u001b[1;34m\"10\"\u001b[0m\u001b[1;33m)\u001b[0m\u001b[1;33m\u001b[0m\u001b[1;33m\u001b[0m\u001b[0m\n\u001b[0m",
      "\u001b[1;31mTypeError\u001b[0m: ord() expected a character, but string of length 2 found"
     ]
    }
   ],
   "source": [
    "ord(\"10\")"
   ]
  },
  {
   "cell_type": "code",
   "execution_count": null,
   "metadata": {},
   "outputs": [],
   "source": []
  }
 ],
 "metadata": {
  "kernelspec": {
   "display_name": "Python 3",
   "language": "python",
   "name": "python3"
  },
  "language_info": {
   "codemirror_mode": {
    "name": "ipython",
    "version": 3
   },
   "file_extension": ".py",
   "mimetype": "text/x-python",
   "name": "python",
   "nbconvert_exporter": "python",
   "pygments_lexer": "ipython3",
   "version": "3.8.3"
  }
 },
 "nbformat": 4,
 "nbformat_minor": 4
}
