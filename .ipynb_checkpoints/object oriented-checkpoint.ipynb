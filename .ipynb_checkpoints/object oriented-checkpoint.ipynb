{
 "cells": [
  {
   "cell_type": "code",
   "execution_count": 1,
   "metadata": {},
   "outputs": [
    {
     "name": "stdout",
     "output_type": "stream",
     "text": [
      "this is class\n"
     ]
    }
   ],
   "source": [
    "def fun():\n",
    "    print(\"this is fun\")\n",
    "\n",
    "class Emp:\n",
    "    print(\"this is class\")"
   ]
  },
  {
   "cell_type": "code",
   "execution_count": 2,
   "metadata": {},
   "outputs": [
    {
     "name": "stdout",
     "output_type": "stream",
     "text": [
      "<class '__main__.Emp'>\n"
     ]
    }
   ],
   "source": [
    "print(Emp)"
   ]
  },
  {
   "cell_type": "code",
   "execution_count": 3,
   "metadata": {},
   "outputs": [
    {
     "name": "stdout",
     "output_type": "stream",
     "text": [
      "this is class\n",
      "1000 2000 3000\n"
     ]
    }
   ],
   "source": [
    "def fun():\n",
    "    print(\"this is fun\")\n",
    "\n",
    "class Emp:\n",
    "    print(\"this is class\")\n",
    "    x=1000\n",
    "    y=2000\n",
    "    z=x+y\n",
    "    print(x,y,z)"
   ]
  },
  {
   "cell_type": "code",
   "execution_count": 4,
   "metadata": {},
   "outputs": [
    {
     "name": "stdout",
     "output_type": "stream",
     "text": [
      "this is class\n",
      "1000 2000 3000\n"
     ]
    }
   ],
   "source": [
    "def fun():\n",
    "    print(\"this is fun\")\n",
    "\n",
    "class Emp:\n",
    "    print(\"this is class\")\n",
    "    x=1000\n",
    "    y=2000\n",
    "    z=x+y\n",
    "    #print(x,y,z)\n",
    "print(Emp.x,Emp.y,Emp.z)"
   ]
  },
  {
   "cell_type": "code",
   "execution_count": 6,
   "metadata": {},
   "outputs": [
    {
     "name": "stdout",
     "output_type": "stream",
     "text": [
      "3000\n"
     ]
    }
   ],
   "source": [
    "def fun():\n",
    "    print(\"this is fun\")\n",
    "\n",
    "class Emp:\n",
    "    pass\n",
    "Emp.x=1000\n",
    "Emp.y=2000\n",
    "Emp.z=Emp.x+Emp.y\n",
    "print(Emp.z)"
   ]
  },
  {
   "cell_type": "code",
   "execution_count": 7,
   "metadata": {},
   "outputs": [],
   "source": [
    "class Employee:\n",
    "    pass\n",
    "Employee.name=\"Samba\"\n",
    "Employee.salary=200000\n",
    "Employee.id=3016\n"
   ]
  },
  {
   "cell_type": "code",
   "execution_count": 8,
   "metadata": {},
   "outputs": [
    {
     "name": "stdout",
     "output_type": "stream",
     "text": [
      "this is class\n",
      "<class '__main__.Employee'>\n"
     ]
    }
   ],
   "source": [
    "class Employee:\n",
    "    print(\"this is class\")\n",
    "print(Employee)# class object"
   ]
  },
  {
   "cell_type": "code",
   "execution_count": null,
   "metadata": {},
   "outputs": [],
   "source": [
    "class Employee:\n",
    "    print(\"this is class\")\n",
    "print(Employee)# class object\n",
    "jay=Employee()# data object, jay is the reference of data object\n",
    "jay.name=\"Jayaram\"\n",
    "jay.id=3916\n",
    "jay.salary=200000\n",
    "vedha = Employee()# data object, vedha is the reference of data object\n",
    "vedha.name = \"Vedhanvesh\"\n",
    "vedha.id=3917\n",
    "vedha.salary=300000"
   ]
  },
  {
   "cell_type": "code",
   "execution_count": 9,
   "metadata": {},
   "outputs": [
    {
     "name": "stdout",
     "output_type": "stream",
     "text": [
      "this is class\n",
      "<class '__main__.Employee'>\n",
      "Employee Name:Jayaram, id:3916, salary:200000\n",
      "Employee Name:Vedhanvesh, id:3917, salary:300000\n"
     ]
    }
   ],
   "source": [
    "class Employee:\n",
    "    print(\"this is class\")\n",
    "print(Employee)# class object\n",
    "jay=Employee()# data object, jay is the reference of data object\n",
    "jay.name=\"Jayaram\"\n",
    "jay.id=3916\n",
    "jay.salary=200000\n",
    "vedha = Employee()# data object, vedha is the reference of data object\n",
    "vedha.name = \"Vedhanvesh\"\n",
    "vedha.id=3917\n",
    "vedha.salary=300000\n",
    "print(f\"Employee Name:{jay.name}, id:{jay.id}, salary:{jay.salary}\")\n",
    "print(f\"Employee Name:{vedha.name}, id:{vedha.id}, salary:{vedha.salary}\")"
   ]
  },
  {
   "cell_type": "code",
   "execution_count": 10,
   "metadata": {},
   "outputs": [
    {
     "name": "stdout",
     "output_type": "stream",
     "text": [
      "<class '__main__.Employee'>\n",
      "Employee Name:Jayaram, id:3916, salary:200000\n",
      "Employee Name:Vedhanvesh, id:3917, salary:300000\n"
     ]
    }
   ],
   "source": [
    "class Employee:\n",
    "    def get(data_obj):\n",
    "        print(f\"Employee Name:{data_obj.name}, id:{data_obj.id}, salary:{data_obj.salary}\")\n",
    "        \n",
    "print(Employee)# class object\n",
    "jay=Employee()# data object, jay is the reference of data object\n",
    "jay.name=\"Jayaram\"\n",
    "jay.id=3916\n",
    "jay.salary=200000\n",
    "vedha = Employee()# data object, vedha is the reference of data object\n",
    "vedha.name = \"Vedhanvesh\"\n",
    "vedha.id=3917\n",
    "vedha.salary=300000\n",
    "Employee.get(jay)\n",
    "#print(f\"Employee Name:{jay.name}, id:{jay.id}, salary:{jay.salary}\")\n",
    "Employee.get(vedha)\n",
    "#print(f\"Employee Name:{vedha.name}, id:{vedha.id}, salary:{vedha.salary}\")"
   ]
  },
  {
   "cell_type": "code",
   "execution_count": 11,
   "metadata": {},
   "outputs": [
    {
     "name": "stdout",
     "output_type": "stream",
     "text": [
      "<class '__main__.Employee'>\n",
      "Employee Name:Jayaram, id:3916, salary:200000\n",
      "Employee Name:Vedhanvesh, id:3917, salary:300000\n"
     ]
    },
    {
     "ename": "AttributeError",
     "evalue": "'Employee' object has no attribute 'name'",
     "output_type": "error",
     "traceback": [
      "\u001b[1;31m---------------------------------------------------------------------------\u001b[0m",
      "\u001b[1;31mAttributeError\u001b[0m                            Traceback (most recent call last)",
      "\u001b[1;32m<ipython-input-11-e880be1148ed>\u001b[0m in \u001b[0;36m<module>\u001b[1;34m\u001b[0m\n\u001b[0;32m     16\u001b[0m \u001b[0msai\u001b[0m \u001b[1;33m=\u001b[0m \u001b[0mEmployee\u001b[0m\u001b[1;33m(\u001b[0m\u001b[1;33m)\u001b[0m\u001b[1;31m# dat object created.\u001b[0m\u001b[1;33m\u001b[0m\u001b[1;33m\u001b[0m\u001b[0m\n\u001b[0;32m     17\u001b[0m \u001b[1;31m# we are not assigned any attributes\u001b[0m\u001b[1;33m\u001b[0m\u001b[1;33m\u001b[0m\u001b[1;33m\u001b[0m\u001b[0m\n\u001b[1;32m---> 18\u001b[1;33m \u001b[0mEmployee\u001b[0m\u001b[1;33m.\u001b[0m\u001b[0mget\u001b[0m\u001b[1;33m(\u001b[0m\u001b[0msai\u001b[0m\u001b[1;33m)\u001b[0m\u001b[1;33m\u001b[0m\u001b[1;33m\u001b[0m\u001b[0m\n\u001b[0m",
      "\u001b[1;32m<ipython-input-11-e880be1148ed>\u001b[0m in \u001b[0;36mget\u001b[1;34m(data_obj)\u001b[0m\n\u001b[0;32m      1\u001b[0m \u001b[1;32mclass\u001b[0m \u001b[0mEmployee\u001b[0m\u001b[1;33m:\u001b[0m\u001b[1;33m\u001b[0m\u001b[1;33m\u001b[0m\u001b[0m\n\u001b[0;32m      2\u001b[0m     \u001b[1;32mdef\u001b[0m \u001b[0mget\u001b[0m\u001b[1;33m(\u001b[0m\u001b[0mdata_obj\u001b[0m\u001b[1;33m)\u001b[0m\u001b[1;33m:\u001b[0m\u001b[1;33m\u001b[0m\u001b[1;33m\u001b[0m\u001b[0m\n\u001b[1;32m----> 3\u001b[1;33m         \u001b[0mprint\u001b[0m\u001b[1;33m(\u001b[0m\u001b[1;34mf\"Employee Name:{data_obj.name}, id:{data_obj.id}, salary:{data_obj.salary}\"\u001b[0m\u001b[1;33m)\u001b[0m\u001b[1;33m\u001b[0m\u001b[1;33m\u001b[0m\u001b[0m\n\u001b[0m\u001b[0;32m      4\u001b[0m \u001b[1;33m\u001b[0m\u001b[0m\n\u001b[0;32m      5\u001b[0m \u001b[0mprint\u001b[0m\u001b[1;33m(\u001b[0m\u001b[0mEmployee\u001b[0m\u001b[1;33m)\u001b[0m\u001b[1;31m# class object\u001b[0m\u001b[1;33m\u001b[0m\u001b[1;33m\u001b[0m\u001b[0m\n",
      "\u001b[1;31mAttributeError\u001b[0m: 'Employee' object has no attribute 'name'"
     ]
    }
   ],
   "source": [
    "class Employee:\n",
    "    def get(data_obj):\n",
    "        print(f\"Employee Name:{data_obj.name}, id:{data_obj.id}, salary:{data_obj.salary}\")\n",
    "        \n",
    "print(Employee)# class object\n",
    "jay=Employee()# data object, jay is the reference of data object\n",
    "jay.name=\"Jayaram\"\n",
    "jay.id=3916\n",
    "jay.salary=200000\n",
    "vedha = Employee()# data object, vedha is the reference of data object\n",
    "vedha.name = \"Vedhanvesh\"\n",
    "vedha.id=3917\n",
    "vedha.salary=300000\n",
    "Employee.get(jay)\n",
    "Employee.get(vedha)\n",
    "sai = Employee()# dat object created. \n",
    "# we are not assigned any attributes\n",
    "Employee.get(sai)"
   ]
  },
  {
   "cell_type": "code",
   "execution_count": 12,
   "metadata": {},
   "outputs": [
    {
     "name": "stdout",
     "output_type": "stream",
     "text": [
      "<class '__main__.Employee'>\n",
      "Employee Name:Jayaram, id:3916, salary:200000\n",
      "Employee Name:Vedhanvesh, id:3917, salary:300000\n"
     ]
    },
    {
     "ename": "AttributeError",
     "evalue": "'Employee' object has no attribute 'id'",
     "output_type": "error",
     "traceback": [
      "\u001b[1;31m---------------------------------------------------------------------------\u001b[0m",
      "\u001b[1;31mAttributeError\u001b[0m                            Traceback (most recent call last)",
      "\u001b[1;32m<ipython-input-12-e2c46bcceba9>\u001b[0m in \u001b[0;36m<module>\u001b[1;34m\u001b[0m\n\u001b[0;32m     17\u001b[0m \u001b[1;31m# we are not assigned any attributes\u001b[0m\u001b[1;33m\u001b[0m\u001b[1;33m\u001b[0m\u001b[1;33m\u001b[0m\u001b[0m\n\u001b[0;32m     18\u001b[0m \u001b[0msai\u001b[0m\u001b[1;33m.\u001b[0m\u001b[0mname\u001b[0m\u001b[1;33m=\u001b[0m\u001b[1;34m\"Sai Laxmi\"\u001b[0m\u001b[1;33m\u001b[0m\u001b[1;33m\u001b[0m\u001b[0m\n\u001b[1;32m---> 19\u001b[1;33m \u001b[0mEmployee\u001b[0m\u001b[1;33m.\u001b[0m\u001b[0mget\u001b[0m\u001b[1;33m(\u001b[0m\u001b[0msai\u001b[0m\u001b[1;33m)\u001b[0m\u001b[1;33m\u001b[0m\u001b[1;33m\u001b[0m\u001b[0m\n\u001b[0m",
      "\u001b[1;32m<ipython-input-12-e2c46bcceba9>\u001b[0m in \u001b[0;36mget\u001b[1;34m(data_obj)\u001b[0m\n\u001b[0;32m      1\u001b[0m \u001b[1;32mclass\u001b[0m \u001b[0mEmployee\u001b[0m\u001b[1;33m:\u001b[0m\u001b[1;33m\u001b[0m\u001b[1;33m\u001b[0m\u001b[0m\n\u001b[0;32m      2\u001b[0m     \u001b[1;32mdef\u001b[0m \u001b[0mget\u001b[0m\u001b[1;33m(\u001b[0m\u001b[0mdata_obj\u001b[0m\u001b[1;33m)\u001b[0m\u001b[1;33m:\u001b[0m\u001b[1;33m\u001b[0m\u001b[1;33m\u001b[0m\u001b[0m\n\u001b[1;32m----> 3\u001b[1;33m         \u001b[0mprint\u001b[0m\u001b[1;33m(\u001b[0m\u001b[1;34mf\"Employee Name:{data_obj.name}, id:{data_obj.id}, salary:{data_obj.salary}\"\u001b[0m\u001b[1;33m)\u001b[0m\u001b[1;33m\u001b[0m\u001b[1;33m\u001b[0m\u001b[0m\n\u001b[0m\u001b[0;32m      4\u001b[0m \u001b[1;33m\u001b[0m\u001b[0m\n\u001b[0;32m      5\u001b[0m \u001b[0mprint\u001b[0m\u001b[1;33m(\u001b[0m\u001b[0mEmployee\u001b[0m\u001b[1;33m)\u001b[0m\u001b[1;31m# class object\u001b[0m\u001b[1;33m\u001b[0m\u001b[1;33m\u001b[0m\u001b[0m\n",
      "\u001b[1;31mAttributeError\u001b[0m: 'Employee' object has no attribute 'id'"
     ]
    }
   ],
   "source": [
    "class Employee:\n",
    "    def get(data_obj):\n",
    "        print(f\"Employee Name:{data_obj.name}, id:{data_obj.id}, salary:{data_obj.salary}\")\n",
    "        \n",
    "print(Employee)# class object\n",
    "jay=Employee()# data object, jay is the reference of data object\n",
    "jay.name=\"Jayaram\"\n",
    "jay.id=3916\n",
    "jay.salary=200000\n",
    "vedha = Employee()# data object, vedha is the reference of data object\n",
    "vedha.name = \"Vedhanvesh\"\n",
    "vedha.id=3917\n",
    "vedha.salary=300000\n",
    "Employee.get(jay)\n",
    "Employee.get(vedha)\n",
    "sai = Employee()# dat object created. \n",
    "# we are not assigned any attributes\n",
    "sai.name=\"Sai Laxmi\"\n",
    "Employee.get(sai)"
   ]
  },
  {
   "cell_type": "code",
   "execution_count": 13,
   "metadata": {},
   "outputs": [
    {
     "name": "stdout",
     "output_type": "stream",
     "text": [
      "<class '__main__.Employee'>\n",
      "Employee Name:Jayaram, id:3916, salary:200000\n",
      "Employee Name:Vedhanvesh, id:3917, salary:300000\n",
      "Employee Name:SaiLaxmi, id:3918, salary:400000\n"
     ]
    }
   ],
   "source": [
    "class Employee:\n",
    "    def set_data(data_obj,emp_name,emp_id,emp_sal):\n",
    "        data_obj.name=emp_name\n",
    "        data_obj.id=emp_id\n",
    "        data_obj.salary=emp_sal\n",
    "    \n",
    "    def get(data_obj):\n",
    "        print(f\"Employee Name:{data_obj.name}, id:{data_obj.id}, salary:{data_obj.salary}\")\n",
    "        \n",
    "print(Employee)# class object\n",
    "jay=Employee()# data object, jay is the reference of data object\n",
    "Employee.set_data(jay,\"Jayaram\",3916,200000)\n",
    "# jay.name=\"Jayaram\"\n",
    "# jay.id=3916\n",
    "# jay.salary=200000\n",
    "vedha = Employee()# data object, vedha is the reference of data object\n",
    "Employee.set_data(vedha,\"Vedhanvesh\",3917,300000)\n",
    "# vedha.name = \"Vedhanvesh\"\n",
    "# vedha.id=3917\n",
    "# vedha.salary=300000\n",
    "Employee.get(jay)\n",
    "Employee.get(vedha)\n",
    "sai = Employee()# dat object created. \n",
    "#sai.name=\"Sai Laxmi\"\n",
    "Employee.set_data(sai, \"SaiLaxmi\", 3918, 400000)\n",
    "Employee.get(sai)"
   ]
  },
  {
   "cell_type": "code",
   "execution_count": null,
   "metadata": {},
   "outputs": [],
   "source": [
    "class Employee:\n",
    "    def set_data(data_obj,emp_name,emp_id,emp_sal):\n",
    "        data_obj.name=emp_name\n",
    "        data_obj.id=emp_id\n",
    "        data_obj.salary=emp_sal\n",
    "    def get(data_obj):\n",
    "        print(f\"Employee Name:{data_obj.name}, id:{data_obj.id}, salary:{data_obj.salary}\")    \n",
    "jay=Employee()\n",
    "Employee.set_data(jay,\"Jayaram\",3916,200000)\n",
    "vedha = Employee()\n",
    "Employee.set_data(vedha,\"Vedhanvesh\",3917,300000)\n",
    "Employee.get(jay)\n",
    "Employee.get(vedha)\n",
    "sai = Employee() \n",
    "Employee.set_data(sai, \"SaiLaxmi\", 3918, 400000)\n",
    "Employee.get(sai)\n",
    "#Calling above methods by using class object reference(Employee). we can call methods by using data object references(jay,vedha,sai) also."
   ]
  },
  {
   "cell_type": "code",
   "execution_count": 14,
   "metadata": {},
   "outputs": [
    {
     "name": "stdout",
     "output_type": "stream",
     "text": [
      "Employee Name:Jayaram, id:3916, salary:200000\n",
      "Employee Name:Vedhanvesh, id:3917, salary:300000\n",
      "Employee Name:SaiLaxmi, id:3918, salary:400000\n"
     ]
    }
   ],
   "source": [
    "class Employee:\n",
    "    def set_data(data_obj,emp_name,emp_id,emp_sal):\n",
    "        data_obj.name=emp_name\n",
    "        data_obj.id=emp_id\n",
    "        data_obj.salary=emp_sal\n",
    "    def get(data_obj):\n",
    "        print(f\"Employee Name:{data_obj.name}, id:{data_obj.id}, salary:{data_obj.salary}\")    \n",
    "jay=Employee()\n",
    "#Employee.set_data(jay,\"Jayaram\",3916,200000)\n",
    "jay.set_data(\"Jayaram\",3916,200000)# here we are passing only three arguments. but internally it will pass four arguments.\n",
    "# i.e it will pass jay as a first argument. i.e Employee.set_data(jay,\"Jayaram\",3916,200000) code is going execute internally.\n",
    "vedha = Employee()\n",
    "#Employee.set_data(vedha,\"Vedhanvesh\",3917,300000)\n",
    "vedha.set_data(\"Vedhanvesh\",3917,300000)\n",
    "#Employee.get(jay)\n",
    "jay.get()\n",
    "#Employee.get(vedha)\n",
    "vedha.get()\n",
    "sai = Employee() \n",
    "#Employee.set_data(sai, \"SaiLaxmi\", 3918, 400000)\n",
    "sai.set_data(\"SaiLaxmi\", 3918, 400000)\n",
    "#Employee.get(sai)\n",
    "sai.get()\n",
    "#Calling above methods by using class object reference(Employee). \n",
    "#we can call methods by using data object references(jay,vedha,sai) also."
   ]
  },
  {
   "cell_type": "code",
   "execution_count": 15,
   "metadata": {},
   "outputs": [
    {
     "name": "stdout",
     "output_type": "stream",
     "text": [
      "Employee Name:Jayaram, id:3916, salary:200000\n",
      "Employee Name:Vedhanvesh, id:3917, salary:300000\n",
      "Employee Name:SaiLaxmi, id:3918, salary:400000\n"
     ]
    }
   ],
   "source": [
    "class Employee:\n",
    "    def set_data(data_obj,emp_name,emp_id,emp_sal):\n",
    "        data_obj.name=emp_name\n",
    "        data_obj.id=emp_id\n",
    "        data_obj.salary=emp_sal\n",
    "    def get(data_obj):\n",
    "        print(f\"Employee Name:{data_obj.name}, id:{data_obj.id}, salary:{data_obj.salary}\")    \n",
    "jay=Employee()\n",
    "jay.set_data(\"Jayaram\",3916,200000)\n",
    "vedha = Employee()\n",
    "vedha.set_data(\"Vedhanvesh\",3917,300000)\n",
    "jay.get()\n",
    "vedha.get()\n",
    "sai = Employee() \n",
    "sai.set_data(\"SaiLaxmi\", 3918, 400000)\n",
    "sai.get()\n"
   ]
  },
  {
   "cell_type": "code",
   "execution_count": 16,
   "metadata": {},
   "outputs": [
    {
     "name": "stdout",
     "output_type": "stream",
     "text": [
      "Employee Name:Jayaram, id:3916, salary:200000\n",
      "Employee Name:Vedhanvesh, id:3917, salary:300000\n",
      "Employee Name:SaiLaxmi, id:3918, salary:400000\n"
     ]
    },
    {
     "ename": "AttributeError",
     "evalue": "'Employee' object has no attribute 'name'",
     "output_type": "error",
     "traceback": [
      "\u001b[1;31m---------------------------------------------------------------------------\u001b[0m",
      "\u001b[1;31mAttributeError\u001b[0m                            Traceback (most recent call last)",
      "\u001b[1;32m<ipython-input-16-22b786155ead>\u001b[0m in \u001b[0;36m<module>\u001b[1;34m\u001b[0m\n\u001b[0;32m     16\u001b[0m \u001b[0msai\u001b[0m\u001b[1;33m.\u001b[0m\u001b[0mget\u001b[0m\u001b[1;33m(\u001b[0m\u001b[1;33m)\u001b[0m\u001b[1;33m\u001b[0m\u001b[1;33m\u001b[0m\u001b[0m\n\u001b[0;32m     17\u001b[0m \u001b[0mdhana\u001b[0m \u001b[1;33m=\u001b[0m \u001b[0mEmployee\u001b[0m\u001b[1;33m(\u001b[0m\u001b[1;33m)\u001b[0m\u001b[1;33m\u001b[0m\u001b[1;33m\u001b[0m\u001b[0m\n\u001b[1;32m---> 18\u001b[1;33m \u001b[0mdhana\u001b[0m\u001b[1;33m.\u001b[0m\u001b[0mget\u001b[0m\u001b[1;33m(\u001b[0m\u001b[1;33m)\u001b[0m\u001b[1;33m\u001b[0m\u001b[1;33m\u001b[0m\u001b[0m\n\u001b[0m",
      "\u001b[1;32m<ipython-input-16-22b786155ead>\u001b[0m in \u001b[0;36mget\u001b[1;34m(data_obj)\u001b[0m\n\u001b[0;32m      5\u001b[0m         \u001b[0mdata_obj\u001b[0m\u001b[1;33m.\u001b[0m\u001b[0msalary\u001b[0m\u001b[1;33m=\u001b[0m\u001b[0memp_sal\u001b[0m\u001b[1;33m\u001b[0m\u001b[1;33m\u001b[0m\u001b[0m\n\u001b[0;32m      6\u001b[0m     \u001b[1;32mdef\u001b[0m \u001b[0mget\u001b[0m\u001b[1;33m(\u001b[0m\u001b[0mdata_obj\u001b[0m\u001b[1;33m)\u001b[0m\u001b[1;33m:\u001b[0m\u001b[1;33m\u001b[0m\u001b[1;33m\u001b[0m\u001b[0m\n\u001b[1;32m----> 7\u001b[1;33m         \u001b[0mprint\u001b[0m\u001b[1;33m(\u001b[0m\u001b[1;34mf\"Employee Name:{data_obj.name}, id:{data_obj.id}, salary:{data_obj.salary}\"\u001b[0m\u001b[1;33m)\u001b[0m\u001b[1;33m\u001b[0m\u001b[1;33m\u001b[0m\u001b[0m\n\u001b[0m\u001b[0;32m      8\u001b[0m \u001b[0mjay\u001b[0m\u001b[1;33m=\u001b[0m\u001b[0mEmployee\u001b[0m\u001b[1;33m(\u001b[0m\u001b[1;33m)\u001b[0m\u001b[1;33m\u001b[0m\u001b[1;33m\u001b[0m\u001b[0m\n\u001b[0;32m      9\u001b[0m \u001b[0mjay\u001b[0m\u001b[1;33m.\u001b[0m\u001b[0mset_data\u001b[0m\u001b[1;33m(\u001b[0m\u001b[1;34m\"Jayaram\"\u001b[0m\u001b[1;33m,\u001b[0m\u001b[1;36m3916\u001b[0m\u001b[1;33m,\u001b[0m\u001b[1;36m200000\u001b[0m\u001b[1;33m)\u001b[0m\u001b[1;33m\u001b[0m\u001b[1;33m\u001b[0m\u001b[0m\n",
      "\u001b[1;31mAttributeError\u001b[0m: 'Employee' object has no attribute 'name'"
     ]
    }
   ],
   "source": [
    "class Employee:\n",
    "    def set_data(data_obj,emp_name,emp_id,emp_sal):\n",
    "        data_obj.name=emp_name\n",
    "        data_obj.id=emp_id\n",
    "        data_obj.salary=emp_sal\n",
    "    def get(data_obj):\n",
    "        print(f\"Employee Name:{data_obj.name}, id:{data_obj.id}, salary:{data_obj.salary}\")    \n",
    "jay=Employee()\n",
    "jay.set_data(\"Jayaram\",3916,200000)\n",
    "vedha = Employee()\n",
    "vedha.set_data(\"Vedhanvesh\",3917,300000)\n",
    "jay.get()\n",
    "vedha.get()\n",
    "sai = Employee() \n",
    "sai.set_data(\"SaiLaxmi\", 3918, 400000)\n",
    "sai.get()\n",
    "dhana = Employee()\n",
    "dhana.get()"
   ]
  },
  {
   "cell_type": "code",
   "execution_count": null,
   "metadata": {},
   "outputs": [],
   "source": [
    "class Employee:\n",
    "    def set_data(data_obj,emp_name,emp_id,emp_sal):\n",
    "        data_obj.name=emp_name\n",
    "        data_obj.id=emp_id\n",
    "        data_obj.salary=emp_sal\n",
    "    def get(data_obj):\n",
    "        print(f\"Employee Name:{data_obj.name}, id:{data_obj.id}, salary:{data_obj.salary}\")    \n",
    "jay=Employee()\n",
    "jay.set_data(\"Jayaram\",3916,200000)\n",
    "vedha = Employee()\n",
    "vedha.set_data(\"Vedhanvesh\",3917,300000)\n",
    "jay.get()\n",
    "vedha.get()\n",
    "sai = Employee() \n",
    "sai.set_data(\"SaiLaxmi\", 3918, 400000)\n",
    "sai.get()\n",
    "dhana = Employee()\n",
    "dhana.get()"
   ]
  },
  {
   "cell_type": "code",
   "execution_count": 18,
   "metadata": {},
   "outputs": [
    {
     "name": "stdout",
     "output_type": "stream",
     "text": [
      "this is class\n",
      "Done with class definition\n",
      "creating an objects\n",
      "done\n"
     ]
    }
   ],
   "source": [
    "class c1:\n",
    "    print(\"this is class\")\n",
    "print(\"Done with class definition\")\n",
    "print(\"creating an objects\")\n",
    "o1=c1()\n",
    "o2=c1()\n",
    "o3=c1()\n",
    "print(\"done\")"
   ]
  },
  {
   "cell_type": "code",
   "execution_count": 19,
   "metadata": {},
   "outputs": [
    {
     "name": "stdout",
     "output_type": "stream",
     "text": [
      "this is class\n"
     ]
    }
   ],
   "source": [
    "class c1:\n",
    "    print(\"this is class\")\n",
    "o1=c1()\n",
    "o2=c1()\n",
    "o3=c1()"
   ]
  },
  {
   "cell_type": "code",
   "execution_count": 20,
   "metadata": {},
   "outputs": [
    {
     "name": "stdout",
     "output_type": "stream",
     "text": [
      "this is class\n"
     ]
    }
   ],
   "source": [
    "class c1:\n",
    "    print(\"this is class\")\n",
    "    def get(data_obj):\n",
    "        print(\"this is get\")\n",
    "o1=c1()\n",
    "o2=c1()\n",
    "o3=c1()"
   ]
  },
  {
   "cell_type": "code",
   "execution_count": 21,
   "metadata": {},
   "outputs": [
    {
     "name": "stdout",
     "output_type": "stream",
     "text": [
      "this is class\n",
      "this is init\n",
      "this is init\n",
      "this is init\n"
     ]
    }
   ],
   "source": [
    "class c1:\n",
    "    print(\"this is class\")\n",
    "    def get(data_obj):\n",
    "        print(\"this is get\")\n",
    "    def __init__(data_obj):\n",
    "        print(\"this is init\")\n",
    "o1=c1()\n",
    "o2=c1()\n",
    "o3=c1()"
   ]
  },
  {
   "cell_type": "code",
   "execution_count": 22,
   "metadata": {},
   "outputs": [
    {
     "name": "stdout",
     "output_type": "stream",
     "text": [
      "this is class\n"
     ]
    }
   ],
   "source": [
    "class c1:\n",
    "    print(\"this is class\")\n",
    "    def get(data_obj):\n",
    "        print(\"this is get\")\n",
    "    def init(data_obj):\n",
    "        print(\"this is init\")\n",
    "o1=c1()\n",
    "o2=c1()\n",
    "o3=c1()"
   ]
  },
  {
   "cell_type": "code",
   "execution_count": 23,
   "metadata": {},
   "outputs": [
    {
     "name": "stdout",
     "output_type": "stream",
     "text": [
      "this is class\n"
     ]
    },
    {
     "ename": "TypeError",
     "evalue": "__init__() missing 2 required positional arguments: 'x' and 'y'",
     "output_type": "error",
     "traceback": [
      "\u001b[1;31m---------------------------------------------------------------------------\u001b[0m",
      "\u001b[1;31mTypeError\u001b[0m                                 Traceback (most recent call last)",
      "\u001b[1;32m<ipython-input-23-6433b1bd05c2>\u001b[0m in \u001b[0;36m<module>\u001b[1;34m\u001b[0m\n\u001b[0;32m      5\u001b[0m     \u001b[1;32mdef\u001b[0m \u001b[0m__init__\u001b[0m\u001b[1;33m(\u001b[0m\u001b[0mself\u001b[0m\u001b[1;33m,\u001b[0m\u001b[0mx\u001b[0m\u001b[1;33m,\u001b[0m\u001b[0my\u001b[0m\u001b[1;33m)\u001b[0m\u001b[1;33m:\u001b[0m\u001b[1;33m\u001b[0m\u001b[1;33m\u001b[0m\u001b[0m\n\u001b[0;32m      6\u001b[0m         \u001b[0mprint\u001b[0m\u001b[1;33m(\u001b[0m\u001b[1;34m\"this is init\"\u001b[0m\u001b[1;33m)\u001b[0m\u001b[1;33m\u001b[0m\u001b[1;33m\u001b[0m\u001b[0m\n\u001b[1;32m----> 7\u001b[1;33m \u001b[0mo1\u001b[0m\u001b[1;33m=\u001b[0m\u001b[0mc1\u001b[0m\u001b[1;33m(\u001b[0m\u001b[1;33m)\u001b[0m\u001b[1;33m\u001b[0m\u001b[1;33m\u001b[0m\u001b[0m\n\u001b[0m",
      "\u001b[1;31mTypeError\u001b[0m: __init__() missing 2 required positional arguments: 'x' and 'y'"
     ]
    }
   ],
   "source": [
    "class c1:\n",
    "    print(\"this is class\")\n",
    "    def get(self):\n",
    "        print(\"this is get\")\n",
    "    def __init__(self,x,y):\n",
    "        print(\"this is init\")\n",
    "o1=c1()"
   ]
  },
  {
   "cell_type": "code",
   "execution_count": 24,
   "metadata": {},
   "outputs": [
    {
     "name": "stdout",
     "output_type": "stream",
     "text": [
      "this is class\n",
      "this is init\n",
      "30\n"
     ]
    }
   ],
   "source": [
    "class c1:\n",
    "    print(\"this is class\")\n",
    "    def get(self):\n",
    "        print(\"this is get\")\n",
    "    def __init__(self,x,y):\n",
    "        print(\"this is init\")\n",
    "        print(x+y)\n",
    "o1=c1(10,20)"
   ]
  },
  {
   "cell_type": "code",
   "execution_count": null,
   "metadata": {},
   "outputs": [],
   "source": [
    "class c1:\n",
    "    print(\"this is class\")\n",
    "    def get(self):\n",
    "        print(\"this is get\")\n",
    "    def __init__(self,x,y):\n",
    "        print(\"this is init\")\n",
    "        print(x+y)\n",
    "o1=c1(10,20)\n",
    "print(o1.x)"
   ]
  },
  {
   "cell_type": "code",
   "execution_count": 25,
   "metadata": {},
   "outputs": [
    {
     "name": "stdout",
     "output_type": "stream",
     "text": [
      "self= 10\n"
     ]
    }
   ],
   "source": [
    "class c1:\n",
    "    def get(self):\n",
    "        print(\"self=\",self)\n",
    "c1.get(10)"
   ]
  },
  {
   "cell_type": "code",
   "execution_count": 26,
   "metadata": {},
   "outputs": [
    {
     "name": "stdout",
     "output_type": "stream",
     "text": [
      "this is class\n",
      "this is init\n",
      "30\n"
     ]
    }
   ],
   "source": [
    "class c1:\n",
    "    print(\"this is class\")\n",
    "    def get(self):\n",
    "        print(\"this is get\")\n",
    "    def __init__(self,x,y):\n",
    "        print(\"this is init\")\n",
    "        print(x+y)\n",
    "o1=c1(10,20)"
   ]
  },
  {
   "cell_type": "code",
   "execution_count": 27,
   "metadata": {},
   "outputs": [
    {
     "name": "stdout",
     "output_type": "stream",
     "text": [
      "this is class\n",
      "this is init\n",
      "30\n"
     ]
    },
    {
     "ename": "AttributeError",
     "evalue": "'c1' object has no attribute 'x'",
     "output_type": "error",
     "traceback": [
      "\u001b[1;31m---------------------------------------------------------------------------\u001b[0m",
      "\u001b[1;31mAttributeError\u001b[0m                            Traceback (most recent call last)",
      "\u001b[1;32m<ipython-input-27-48a3f26e076b>\u001b[0m in \u001b[0;36m<module>\u001b[1;34m\u001b[0m\n\u001b[0;32m      8\u001b[0m \u001b[0mo1\u001b[0m\u001b[1;33m=\u001b[0m\u001b[0mc1\u001b[0m\u001b[1;33m(\u001b[0m\u001b[1;36m10\u001b[0m\u001b[1;33m,\u001b[0m\u001b[1;36m20\u001b[0m\u001b[1;33m)\u001b[0m\u001b[1;31m# it will call init function. it will create init function call frame(). it will add parameters.\u001b[0m\u001b[1;33m\u001b[0m\u001b[1;33m\u001b[0m\u001b[0m\n\u001b[0;32m      9\u001b[0m \u001b[1;31m#in the init function call frame we have (self, x, y) are the references. till now we added no references to o1 frame\u001b[0m\u001b[1;33m\u001b[0m\u001b[1;33m\u001b[0m\u001b[1;33m\u001b[0m\u001b[0m\n\u001b[1;32m---> 10\u001b[1;33m \u001b[0mprint\u001b[0m\u001b[1;33m(\u001b[0m\u001b[0mo1\u001b[0m\u001b[1;33m.\u001b[0m\u001b[0mx\u001b[0m\u001b[1;33m)\u001b[0m\u001b[1;33m\u001b[0m\u001b[1;33m\u001b[0m\u001b[0m\n\u001b[0m",
      "\u001b[1;31mAttributeError\u001b[0m: 'c1' object has no attribute 'x'"
     ]
    }
   ],
   "source": [
    "class c1:\n",
    "    print(\"this is class\")\n",
    "    def get(self):\n",
    "        print(\"this is get\")\n",
    "    def __init__(self,x,y):#self=o1,x=10,y=20\n",
    "        print(\"this is init\")\n",
    "        print(x+y)\n",
    "o1=c1(10,20)# it will call init function. it will create init function call frame(). it will add parameters.\n",
    "#in the init function call frame we have (self, x, y) are the references. till now we added no references to o1 frame\n",
    "print(o1.x)"
   ]
  },
  {
   "cell_type": "code",
   "execution_count": 28,
   "metadata": {},
   "outputs": [
    {
     "name": "stdout",
     "output_type": "stream",
     "text": [
      "this is class\n",
      "this is init\n",
      "30\n"
     ]
    },
    {
     "ename": "AttributeError",
     "evalue": "'c1' object has no attribute 'x'",
     "output_type": "error",
     "traceback": [
      "\u001b[1;31m---------------------------------------------------------------------------\u001b[0m",
      "\u001b[1;31mAttributeError\u001b[0m                            Traceback (most recent call last)",
      "\u001b[1;32m<ipython-input-28-4c1dc4cd09b6>\u001b[0m in \u001b[0;36m<module>\u001b[1;34m\u001b[0m\n\u001b[0;32m     10\u001b[0m \u001b[0mo1\u001b[0m\u001b[1;33m=\u001b[0m\u001b[0mc1\u001b[0m\u001b[1;33m(\u001b[0m\u001b[1;36m10\u001b[0m\u001b[1;33m,\u001b[0m\u001b[1;36m20\u001b[0m\u001b[1;33m)\u001b[0m\u001b[1;31m# it will call init function. it will create init function call frame(). it will add parameters.\u001b[0m\u001b[1;33m\u001b[0m\u001b[1;33m\u001b[0m\u001b[0m\n\u001b[0;32m     11\u001b[0m \u001b[1;31m#in the init function call frame we have (self, x, y) are the references. till now we added no references to o1 frame\u001b[0m\u001b[1;33m\u001b[0m\u001b[1;33m\u001b[0m\u001b[1;33m\u001b[0m\u001b[0m\n\u001b[1;32m---> 12\u001b[1;33m \u001b[0mprint\u001b[0m\u001b[1;33m(\u001b[0m\u001b[0mo1\u001b[0m\u001b[1;33m.\u001b[0m\u001b[0mx\u001b[0m\u001b[1;33m)\u001b[0m\u001b[1;33m\u001b[0m\u001b[1;33m\u001b[0m\u001b[0m\n\u001b[0m",
      "\u001b[1;31mAttributeError\u001b[0m: 'c1' object has no attribute 'x'"
     ]
    }
   ],
   "source": [
    "class c1:\n",
    "    print(\"this is class\")\n",
    "    def get(self):\n",
    "        print(\"this is get\")\n",
    "    def __init__(self,x,y):#self=o1,x=10,y=20\n",
    "        print(\"this is init\")\n",
    "        self.x1=x#(x1 reference will be added to o1 frame)\n",
    "        self.y1=y#(y1 reference will be added to o1 frame)\n",
    "        print(x+y)\n",
    "o1=c1(10,20)# it will call init function. it will create init function call frame(). it will add parameters.\n",
    "#in the init function call frame we have (self, x, y) are the references. till now we added no references to o1 frame\n",
    "print(o1.x)"
   ]
  },
  {
   "cell_type": "code",
   "execution_count": 29,
   "metadata": {},
   "outputs": [
    {
     "name": "stdout",
     "output_type": "stream",
     "text": [
      "this is class\n",
      "this is init\n",
      "30\n",
      "10\n"
     ]
    }
   ],
   "source": [
    "class c1:\n",
    "    print(\"this is class\")\n",
    "    def get(self):\n",
    "        print(\"this is get\")\n",
    "    def __init__(self,x,y):#self=o1,x=10,y=20\n",
    "        print(\"this is init\")\n",
    "        self.x1=x#(x1 reference will be added to o1 frame)\n",
    "        self.y1=y#(y1 reference will be added to o1 frame)\n",
    "        print(x+y)\n",
    "o1=c1(10,20)# it will call init function. it will create init function call frame(). it will add parameters.\n",
    "#in the init function call frame we have (self, x, y) are the references. till now we added no references to o1 frame\n",
    "print(o1.x1)"
   ]
  },
  {
   "cell_type": "code",
   "execution_count": null,
   "metadata": {},
   "outputs": [],
   "source": [
    "class c1:\n",
    "    print(\"this is class\")\n",
    "    def get(self):\n",
    "        print(\"this is get\")\n",
    "    def __init__(self,x,y):#self=o1,x=10,y=20\n",
    "        print(\"this is init\")\n",
    "        self.x1=x#(x1 reference will be added to o1 frame)\n",
    "        self.y1=y#(y1 reference will be added to o1 frame)\n",
    "        print(x+y)\n",
    "o1=c1(10,20)# it will call init function. it will create init function call frame(). it will add parameters.\n",
    "#in the init function call frame we have (self, x, y) are the references. till now we added no references to o1 frame\n",
    "print(o1.x1)"
   ]
  },
  {
   "cell_type": "code",
   "execution_count": 30,
   "metadata": {},
   "outputs": [
    {
     "name": "stdout",
     "output_type": "stream",
     "text": [
      "Employee Name:Jayaram, id:3916, salary:200000\n",
      "Employee Name:Vedhanvesh, id:3917, salary:300000\n",
      "Employee Name:SaiLaxmi, id:3918, salary:400000\n"
     ]
    }
   ],
   "source": [
    "class Employee:\n",
    "    def __init__(data_obj,emp_name,emp_id,emp_sal):\n",
    "        data_obj.name=emp_name\n",
    "        data_obj.id=emp_id\n",
    "        data_obj.salary=emp_sal\n",
    "    def get(data_obj):\n",
    "        print(f\"Employee Name:{data_obj.name}, id:{data_obj.id}, salary:{data_obj.salary}\")    \n",
    "jay=Employee(\"Jayaram\",3916,200000)\n",
    "vedha = Employee(\"Vedhanvesh\",3917,300000)\n",
    "sai = Employee(\"SaiLaxmi\", 3918, 400000) \n",
    "jay.get()\n",
    "vedha.get()\n",
    "sai.get()"
   ]
  },
  {
   "cell_type": "code",
   "execution_count": 31,
   "metadata": {},
   "outputs": [
    {
     "name": "stdout",
     "output_type": "stream",
     "text": [
      "Employee Name:Jayaram, id:3916, salary:200000\n",
      "Employee Name:Vedhanvesh, id:3917, salary:300000\n",
      "Employee Name:SaiLaxmi, id:3918, salary:400000\n"
     ]
    }
   ],
   "source": [
    "class Employee:\n",
    "    def __init__(self,emp_name,emp_id,emp_sal):\n",
    "        self.name=emp_name\n",
    "        self.id=emp_id\n",
    "        self.salary=emp_sal\n",
    "    def get(self):\n",
    "        print(f\"Employee Name:{self.name}, id:{self.id}, salary:{self.salary}\")    \n",
    "jay=Employee(\"Jayaram\",3916,200000)\n",
    "vedha = Employee(\"Vedhanvesh\",3917,300000)\n",
    "sai = Employee(\"SaiLaxmi\", 3918, 400000) \n",
    "jay.get()\n",
    "vedha.get()\n",
    "sai.get()"
   ]
  },
  {
   "cell_type": "code",
   "execution_count": null,
   "metadata": {},
   "outputs": [],
   "source": [
    "class Employee:\n",
    "    def __init__(self,emp_name,emp_id,emp_sal):\n",
    "        self.name=emp_name\n",
    "        self.id=emp_id\n",
    "        self.salary=emp_sal\n",
    "    def get(self):\n",
    "        print(f\"Employee Name:{self.name}, id:{self.id}, salary:{self.salary}\")    \n",
    "jay=Employee(\"Jayaram\",3916,200000)\n",
    "vedha = Employee(\"Vedhanvesh\",3917,300000)\n",
    "sai = Employee(\"SaiLaxmi\", 3918, 400000) \n",
    "jay.get()\n",
    "vedha.get()\n",
    "sai.get()"
   ]
  },
  {
   "cell_type": "code",
   "execution_count": null,
   "metadata": {},
   "outputs": [],
   "source": [
    "# write a class with a name \"Product\" with cost,color,name as attributes. write a method name \"display\" to display the data. \n",
    "# Create 4 data objects and call get method for each data object."
   ]
  },
  {
   "cell_type": "code",
   "execution_count": 32,
   "metadata": {},
   "outputs": [
    {
     "name": "stdout",
     "output_type": "stream",
     "text": [
      "inser into emp(id,name,salary) values(3916,'Jayaram',self.salary)\n"
     ]
    }
   ],
   "source": [
    "class Employee:\n",
    "    def __init__(self,emp_name,emp_id,emp_sal):\n",
    "        self.name=emp_name\n",
    "        self.id=emp_id\n",
    "        self.salary=emp_sal\n",
    "    def get(self):\n",
    "        print(f\"Employee Name:{self.name}, id:{self.id}, salary:{self.salary}\")\n",
    "    def insert(self):\n",
    "        query = f\"inser into emp(id,name,salary) values({self.id},'{self.name}',self.salary)\"\n",
    "        print(query)\n",
    "jay=Employee(\"Jayaram\",3916,200000)\n",
    "jay.insert()"
   ]
  },
  {
   "cell_type": "code",
   "execution_count": 1,
   "metadata": {},
   "outputs": [
    {
     "name": "stdout",
     "output_type": "stream",
     "text": [
      "Employee Name:Jayaram, id:3916, salary:200000\n"
     ]
    }
   ],
   "source": [
    "class Employee:\n",
    "    company_name = \"KHYAATHI\"\n",
    "    def __init__(self,emp_name,emp_id,emp_sal):\n",
    "        self.name=emp_name\n",
    "        self.id=emp_id\n",
    "        self.salary=emp_sal\n",
    "    def get_conn():\n",
    "        pass\n",
    "        \n",
    "    def get(self):\n",
    "        print(f\"Employee Name:{self.name}, id:{self.id}, salary:{self.salary}\")\n",
    "    def insert(self):\n",
    "        query = f\"inser into emp(id,name,salary) values({self.id},'{self.name}',self.salary)\"\n",
    "        print(query)\n",
    "    def create_table(self):\n",
    "        q=\"create table\"\n",
    "jay=Employee(\"Jayaram\",3916,200000)\n",
    "jay.get()"
   ]
  },
  {
   "cell_type": "code",
   "execution_count": 2,
   "metadata": {},
   "outputs": [
    {
     "name": "stdout",
     "output_type": "stream",
     "text": [
      "Employee Name:Jayaram, id:3916, salary:200000\n",
      "KHYAATHI\n"
     ]
    }
   ],
   "source": [
    "class Employee:\n",
    "    company_name = \"KHYAATHI\"\n",
    "    def __init__(self,emp_name,emp_id,emp_sal):\n",
    "        self.name=emp_name\n",
    "        self.id=emp_id\n",
    "        self.salary=emp_sal\n",
    "    def get_conn():\n",
    "        pass\n",
    "        \n",
    "    def get(self):\n",
    "        print(f\"Employee Name:{self.name}, id:{self.id}, salary:{self.salary}\")\n",
    "    def insert(self):\n",
    "        query = f\"inser into emp(id,name,salary) values({self.id},'{self.name}',self.salary)\"\n",
    "        print(query)\n",
    "    def create_table(self):\n",
    "        q=\"create table\"\n",
    "jay=Employee(\"Jayaram\",3916,200000)\n",
    "jay.get()\n",
    "print(Employee.company_name)"
   ]
  },
  {
   "cell_type": "code",
   "execution_count": 3,
   "metadata": {},
   "outputs": [
    {
     "name": "stdout",
     "output_type": "stream",
     "text": [
      "Employee Name:Jayaram, id:3916, salary:200000\n",
      "KHYAATHI\n",
      "KHYAATHI\n"
     ]
    }
   ],
   "source": [
    "class Employee:\n",
    "    company_name = \"KHYAATHI\" # class object attribute\n",
    "    def __init__(self,emp_name,emp_id,emp_sal):\n",
    "        self.name=emp_name #name,id,salary dataobject attributes\n",
    "        self.id=emp_id\n",
    "        self.salary=emp_sal\n",
    "    def get_conn():\n",
    "        pass\n",
    "        \n",
    "    def get(self):\n",
    "        print(f\"Employee Name:{self.name}, id:{self.id}, salary:{self.salary}\")\n",
    "    def insert(self):\n",
    "        query = f\"inser into emp(id,name,salary) values({self.id},'{self.name}',self.salary)\"\n",
    "        print(query)\n",
    "    def create_table(self):\n",
    "        q=\"create table\"\n",
    "jay=Employee(\"Jayaram\",3916,200000)\n",
    "jay.get()\n",
    "print(Employee.company_name)\n",
    "print(jay.company_name)"
   ]
  },
  {
   "cell_type": "code",
   "execution_count": 6,
   "metadata": {},
   "outputs": [
    {
     "name": "stdout",
     "output_type": "stream",
     "text": [
      "Employee Name:Jayaram, id:3916, salary:200000, company: KHYAATHI\n"
     ]
    }
   ],
   "source": [
    "class Employee:\n",
    "    COMPNAY_NAME = \"KHYAATHI\" # class object attribute\n",
    "    def __init__(self,emp_name,emp_id,emp_sal):\n",
    "        self.name=emp_name #name,id,salary dataobject attributes\n",
    "        self.id=emp_id\n",
    "        self.salary=emp_sal\n",
    "    def get_conn():\n",
    "        pass\n",
    "        \n",
    "    def get(self):\n",
    "        print(f\"Employee Name:{self.name}, id:{self.id}, salary:{self.salary}, company: {self.COMPNAY_NAME}\")\n",
    "    def insert(self):\n",
    "        query = f\"inser into emp(id,name,salary) values({self.id},'{self.name}',self.salary)\"\n",
    "        print(query)\n",
    "    def create_table(self):\n",
    "        q=\"create table\"\n",
    "jay=Employee(\"Jayaram\",3916,200000)\n",
    "jay.get()"
   ]
  },
  {
   "cell_type": "code",
   "execution_count": 7,
   "metadata": {},
   "outputs": [
    {
     "name": "stdout",
     "output_type": "stream",
     "text": [
      "<__main__.Emp object at 0x000001F6723A8AC0>\n",
      "this is get\n"
     ]
    }
   ],
   "source": [
    "class Emp:\n",
    "    def get(self):\n",
    "        print(self)\n",
    "        print(\"this is get\")\n",
    "        \n",
    "    @classmethod\n",
    "    def class_method(self):\n",
    "        print(self)\n",
    "        print(\"this is class_method\")\n",
    "e1=Emp()\n",
    "e1.get()"
   ]
  },
  {
   "cell_type": "code",
   "execution_count": 9,
   "metadata": {},
   "outputs": [
    {
     "name": "stdout",
     "output_type": "stream",
     "text": [
      "<__main__.Emp object at 0x000001F6723B3D30>\n",
      "this is get\n",
      "<class '__main__.Emp'>\n",
      "this is class_method\n"
     ]
    }
   ],
   "source": [
    "class Emp:\n",
    "    def get(self):\n",
    "        print(self)\n",
    "        print(\"this is get\")\n",
    "        \n",
    "    @classmethod\n",
    "    def class_method(self):\n",
    "        print(self)\n",
    "        print(\"this is class_method\")\n",
    "e1=Emp()\n",
    "e1.get()#it's an instance method. here it will pass e1 as a first argument. Emp.get(e1)\n",
    "e1.class_method()# it's class method. here it will pass Emp as a first argument. Emp.get(Emp)"
   ]
  },
  {
   "cell_type": "code",
   "execution_count": 10,
   "metadata": {},
   "outputs": [
    {
     "name": "stdout",
     "output_type": "stream",
     "text": [
      "10 20 3000\n",
      "this is get\n",
      "<class '__main__.Emp'>\n",
      "this is class_method\n"
     ]
    }
   ],
   "source": [
    "class Emp:\n",
    "    z=3000\n",
    "    def __init__(self,x,y):\n",
    "        self.x=x\n",
    "        self.y=y\n",
    "    def get(self):\n",
    "        print(self.x,self.y,self.z)\n",
    "        print(\"this is get\")\n",
    "        \n",
    "    @classmethod\n",
    "    def class_method(self):\n",
    "        print(self)\n",
    "        print(\"this is class_method\")\n",
    "e1=Emp(10,20)\n",
    "e1.get()#it's an instance method. here it will pass e1 as a first argument. Emp.get(e1)\n",
    "e1.class_method()# it's class method. here it will pass Emp as a first argument. Emp.get(Emp)"
   ]
  },
  {
   "cell_type": "code",
   "execution_count": 12,
   "metadata": {},
   "outputs": [
    {
     "name": "stdout",
     "output_type": "stream",
     "text": [
      "10 20 3000\n",
      "this is get\n",
      "3000\n"
     ]
    }
   ],
   "source": [
    "class Emp:\n",
    "    z=3000\n",
    "    def __init__(self,x,y):\n",
    "        self.x=x\n",
    "        self.y=y\n",
    "    def get(self):\n",
    "        print(self.x,self.y,self.z)\n",
    "        print(\"this is get\")\n",
    "        \n",
    "    def get_z(self):\n",
    "        print(self.z)\n",
    "e1=Emp(10,20)\n",
    "e1.get()\n",
    "e1.get_z()"
   ]
  },
  {
   "cell_type": "code",
   "execution_count": 13,
   "metadata": {},
   "outputs": [
    {
     "name": "stdout",
     "output_type": "stream",
     "text": [
      "10 20 3000\n",
      "this is get\n",
      "3000\n",
      "3000\n"
     ]
    }
   ],
   "source": [
    "class Emp:\n",
    "    z=3000\n",
    "    def __init__(self,x,y):\n",
    "        self.x=x\n",
    "        self.y=y\n",
    "    def get(self):\n",
    "        print(self.x,self.y,self.z)\n",
    "        print(\"this is get\")\n",
    "        \n",
    "    def get_z(self):\n",
    "        print(self.z)\n",
    "e1=Emp(10,20)\n",
    "e1.get()\n",
    "e1.get_z()\n",
    "print(Emp.z)"
   ]
  },
  {
   "cell_type": "code",
   "execution_count": 14,
   "metadata": {},
   "outputs": [
    {
     "name": "stdout",
     "output_type": "stream",
     "text": [
      "10 20 3000\n",
      "this is get\n",
      "3000\n",
      "3000\n"
     ]
    },
    {
     "ename": "AttributeError",
     "evalue": "type object 'Emp' has no attribute 'x'",
     "output_type": "error",
     "traceback": [
      "\u001b[1;31m---------------------------------------------------------------------------\u001b[0m",
      "\u001b[1;31mAttributeError\u001b[0m                            Traceback (most recent call last)",
      "\u001b[1;32m<ipython-input-14-0763d673809f>\u001b[0m in \u001b[0;36m<module>\u001b[1;34m\u001b[0m\n\u001b[0;32m     14\u001b[0m \u001b[0me1\u001b[0m\u001b[1;33m.\u001b[0m\u001b[0mget_z\u001b[0m\u001b[1;33m(\u001b[0m\u001b[1;33m)\u001b[0m\u001b[1;33m\u001b[0m\u001b[1;33m\u001b[0m\u001b[0m\n\u001b[0;32m     15\u001b[0m \u001b[0mprint\u001b[0m\u001b[1;33m(\u001b[0m\u001b[0mEmp\u001b[0m\u001b[1;33m.\u001b[0m\u001b[0mz\u001b[0m\u001b[1;33m)\u001b[0m\u001b[1;33m\u001b[0m\u001b[1;33m\u001b[0m\u001b[0m\n\u001b[1;32m---> 16\u001b[1;33m \u001b[0mprint\u001b[0m\u001b[1;33m(\u001b[0m\u001b[0mEmp\u001b[0m\u001b[1;33m.\u001b[0m\u001b[0mx\u001b[0m\u001b[1;33m)\u001b[0m\u001b[1;33m\u001b[0m\u001b[1;33m\u001b[0m\u001b[0m\n\u001b[0m",
      "\u001b[1;31mAttributeError\u001b[0m: type object 'Emp' has no attribute 'x'"
     ]
    }
   ],
   "source": [
    "class Emp:\n",
    "    z=3000\n",
    "    def __init__(self,x,y):\n",
    "        self.x=x\n",
    "        self.y=y\n",
    "    def get(self):\n",
    "        print(self.x,self.y,self.z)\n",
    "        print(\"this is get\")\n",
    "        \n",
    "    def get_z(self):\n",
    "        print(self.z)\n",
    "e1=Emp(10,20)\n",
    "e1.get()\n",
    "e1.get_z()\n",
    "print(Emp.z)\n",
    "print(Emp.x)"
   ]
  },
  {
   "cell_type": "code",
   "execution_count": 15,
   "metadata": {},
   "outputs": [
    {
     "name": "stdout",
     "output_type": "stream",
     "text": [
      "10 20 3000\n",
      "this is get\n",
      "3000\n",
      "3000\n"
     ]
    }
   ],
   "source": [
    "class Emp:\n",
    "    z=3000\n",
    "    def __init__(self,x,y):\n",
    "        self.x=x\n",
    "        self.y=y\n",
    "    def get(self):\n",
    "        print(self.x,self.y,self.z)\n",
    "        print(\"this is get\")\n",
    "       \n",
    "    def get_z(self):\n",
    "        print(self.z)\n",
    "e1=Emp(10,20)\n",
    "e1.get()\n",
    "e1.get_z()\n",
    "print(Emp.z)"
   ]
  },
  {
   "cell_type": "code",
   "execution_count": 16,
   "metadata": {},
   "outputs": [
    {
     "name": "stdout",
     "output_type": "stream",
     "text": [
      "10 20 3000\n",
      "this is get\n",
      "3000\n",
      "3000\n"
     ]
    }
   ],
   "source": [
    "class Emp:\n",
    "    z=3000\n",
    "    def __init__(self,x,y):\n",
    "        self.x=x\n",
    "        self.y=y\n",
    "    def get(self):\n",
    "        print(self.x,self.y,self.z)\n",
    "        print(\"this is get\")\n",
    "    \n",
    "    @classmethod\n",
    "    def get_z(self):\n",
    "        print(self.z)\n",
    "e1=Emp(10,20)\n",
    "e1.get()\n",
    "e1.get_z()\n",
    "print(Emp.z)"
   ]
  },
  {
   "cell_type": "code",
   "execution_count": 17,
   "metadata": {},
   "outputs": [
    {
     "name": "stdout",
     "output_type": "stream",
     "text": [
      "10 20 3000\n",
      "this is get\n",
      "3000\n",
      "3000\n"
     ]
    }
   ],
   "source": [
    "class Emp:\n",
    "    z=3000\n",
    "    def __init__(self,x,y):\n",
    "        self.x=x\n",
    "        self.y=y\n",
    "    def get(self):\n",
    "        print(self.x,self.y,self.z)\n",
    "        print(\"this is get\")\n",
    "    \n",
    "    @classmethod\n",
    "    def get_z(cls):\n",
    "        print(cls.z)\n",
    "e1=Emp(10,20)\n",
    "e1.get()\n",
    "e1.get_z()\n",
    "print(Emp.z)"
   ]
  },
  {
   "cell_type": "code",
   "execution_count": 18,
   "metadata": {},
   "outputs": [
    {
     "name": "stdout",
     "output_type": "stream",
     "text": [
      "3000\n"
     ]
    }
   ],
   "source": [
    "class Emp:\n",
    "    z=3000\n",
    "    def __init__(self,x,y):\n",
    "        self.x=x\n",
    "        self.y=y\n",
    "    def get(self):\n",
    "        print(self)\n",
    "        print(self.x,self.y,self.z)\n",
    "        print(\"this is get\")\n",
    "    def get_z(cls):\n",
    "        print(cls.z)\n",
    "print(Emp.z)"
   ]
  },
  {
   "cell_type": "code",
   "execution_count": 19,
   "metadata": {},
   "outputs": [
    {
     "name": "stdout",
     "output_type": "stream",
     "text": [
      "3000\n",
      "<__main__.Emp object at 0x000001F67200E310>\n",
      "10 20 3000\n",
      "this is get\n",
      "3000\n"
     ]
    }
   ],
   "source": [
    "class Emp:\n",
    "    z=3000\n",
    "    def __init__(self,x,y):\n",
    "        self.x=x\n",
    "        self.y=y\n",
    "    def get(self):\n",
    "        print(self)\n",
    "        print(self.x,self.y,self.z)\n",
    "        print(\"this is get\")\n",
    "    def get_z(cls):\n",
    "        print(cls.z)\n",
    "print(Emp.z)\n",
    "e1=Emp(10,20)\n",
    "e1.get()# Emp.get(e1)\n",
    "e1.get_z()# Emp.get_z(e1)"
   ]
  },
  {
   "cell_type": "code",
   "execution_count": 20,
   "metadata": {},
   "outputs": [
    {
     "name": "stdout",
     "output_type": "stream",
     "text": [
      "3000\n",
      "<__main__.Emp object at 0x000001F67227E100>\n",
      "10 20 3000\n",
      "this is get\n",
      "3000\n",
      "3000\n"
     ]
    }
   ],
   "source": [
    "class Emp:\n",
    "    z=3000\n",
    "    def __init__(self,x,y):\n",
    "        self.x=x\n",
    "        self.y=y\n",
    "    def get(self):\n",
    "        print(self)\n",
    "        print(self.x,self.y,self.z)\n",
    "        print(\"this is get\")\n",
    "        \n",
    "    @classmethod\n",
    "    def get_z(cls):\n",
    "        print(cls.z)\n",
    "print(Emp.z)\n",
    "e1=Emp(10,20)\n",
    "e1.get()#Emp.get(e1)\n",
    "e1.get_z()#Emp.get(Emp)\n",
    "Emp.get_z()"
   ]
  },
  {
   "cell_type": "code",
   "execution_count": 21,
   "metadata": {},
   "outputs": [
    {
     "name": "stdout",
     "output_type": "stream",
     "text": [
      "3000\n",
      "stattic method\n",
      "stattic method\n"
     ]
    }
   ],
   "source": [
    "class Emp:\n",
    "    z=3000\n",
    "    def __init__(self,x,y):\n",
    "        self.x=x\n",
    "        self.y=y\n",
    "    def get(self):\n",
    "        print(self)\n",
    "        print(self.x,self.y,self.z)    \n",
    "    @classmethod\n",
    "    def get_z(cls):\n",
    "        print(cls.z)\n",
    "        \n",
    "    @staticmethod\n",
    "    def response_parse():\n",
    "        print(\"stattic method\")\n",
    "print(Emp.z)\n",
    "e1=Emp(10,20)\n",
    "e1.response_parse()#it's a static method. it will not pass data/class object as a first argument.\n",
    "Emp.response_parse()#it's a static method. it will not pass data/class object as a first argument."
   ]
  },
  {
   "cell_type": "code",
   "execution_count": 2,
   "metadata": {},
   "outputs": [
    {
     "name": "stdout",
     "output_type": "stream",
     "text": [
      "this is operations.\n"
     ]
    }
   ],
   "source": [
    "class c1:\n",
    "    def op1(self):\n",
    "        print(\"this is op1 in c1\")\n",
    "class c2:\n",
    "    def op2(self):\n",
    "        print(\"this is op2 in c2\")\n",
    "class c3:\n",
    "    def operations(self):\n",
    "        print(\"this is operations.\")\n",
    "o3=c3()\n",
    "#c3.operations(o3)\n",
    "o3.operations()"
   ]
  },
  {
   "cell_type": "code",
   "execution_count": 3,
   "metadata": {},
   "outputs": [
    {
     "name": "stdout",
     "output_type": "stream",
     "text": [
      "this is operations.\n",
      "this is op1 in c1\n",
      "this is op2 in c2\n"
     ]
    }
   ],
   "source": [
    "class c1:\n",
    "    def op1(self):\n",
    "        print(\"this is op1 in c1\")\n",
    "class c2:\n",
    "    def op2(self):\n",
    "        print(\"this is op2 in c2\")\n",
    "class c3:\n",
    "    def operations(self):\n",
    "        print(\"this is operations.\")\n",
    "        \n",
    "o3=c3()\n",
    "#c3.operations(o3)\n",
    "o3.operations()\n",
    "o1=c1()\n",
    "o1.op1()\n",
    "o2=c2()\n",
    "o2.op2()\n"
   ]
  },
  {
   "cell_type": "code",
   "execution_count": 4,
   "metadata": {},
   "outputs": [
    {
     "name": "stdout",
     "output_type": "stream",
     "text": [
      "this is operations.\n",
      "this is op3 in c3\n"
     ]
    }
   ],
   "source": [
    "class c1:\n",
    "    def op1(self):\n",
    "        print(\"this is op1 in c1\")\n",
    "class c2:\n",
    "    def op2(self):\n",
    "        print(\"this is op2 in c2\")\n",
    "class c3:\n",
    "    def op3(self):\n",
    "        print(\"this is op3 in c3\")\n",
    "    def operations(self):#self=o3\n",
    "        print(\"this is operations.\")\n",
    "        \n",
    "        \n",
    "                \n",
    "o3=c3()\n",
    "o3.operations()\n",
    "o3.op3()"
   ]
  },
  {
   "cell_type": "code",
   "execution_count": 5,
   "metadata": {},
   "outputs": [
    {
     "name": "stdout",
     "output_type": "stream",
     "text": [
      "this is operations.\n",
      "this is op3 in c3\n",
      "this is op3 in c3\n"
     ]
    }
   ],
   "source": [
    "class c1:\n",
    "    def op1(self):\n",
    "        print(\"this is op1 in c1\")\n",
    "class c2:\n",
    "    def op2(self):\n",
    "        print(\"this is op2 in c2\")\n",
    "class c3:\n",
    "    def op3(self):\n",
    "        print(\"this is op3 in c3\")\n",
    "    def operations(self):#self=o3\n",
    "        print(\"this is operations.\")\n",
    "        self.op3()\n",
    "                \n",
    "o3=c3()\n",
    "o3.operations()\n",
    "o3.op3()"
   ]
  },
  {
   "cell_type": "code",
   "execution_count": 6,
   "metadata": {},
   "outputs": [
    {
     "name": "stdout",
     "output_type": "stream",
     "text": [
      "this is operations.\n",
      "this is op3 in c3\n"
     ]
    }
   ],
   "source": [
    "class c1:\n",
    "    def op1(self):\n",
    "        print(\"this is op1 in c1\")\n",
    "class c2:\n",
    "    def op2(self):\n",
    "        print(\"this is op2 in c2\")\n",
    "class c3:\n",
    "    def op3(self):\n",
    "        print(\"this is op3 in c3\")\n",
    "    def operations(self):#self=o3\n",
    "        print(\"this is operations.\")\n",
    "        self.op3()\n",
    "                \n",
    "o3=c3()\n",
    "o3.operations()"
   ]
  },
  {
   "cell_type": "code",
   "execution_count": 7,
   "metadata": {},
   "outputs": [
    {
     "name": "stdout",
     "output_type": "stream",
     "text": [
      "this is operations.\n",
      "this is op3 in c3\n"
     ]
    },
    {
     "ename": "AttributeError",
     "evalue": "'c3' object has no attribute 'op1'",
     "output_type": "error",
     "traceback": [
      "\u001b[1;31m---------------------------------------------------------------------------\u001b[0m",
      "\u001b[1;31mAttributeError\u001b[0m                            Traceback (most recent call last)",
      "\u001b[1;32m<ipython-input-7-fae5f0573e55>\u001b[0m in \u001b[0;36m<module>\u001b[1;34m\u001b[0m\n\u001b[0;32m     15\u001b[0m \u001b[1;33m\u001b[0m\u001b[0m\n\u001b[0;32m     16\u001b[0m \u001b[0mo3\u001b[0m\u001b[1;33m=\u001b[0m\u001b[0mc3\u001b[0m\u001b[1;33m(\u001b[0m\u001b[1;33m)\u001b[0m\u001b[1;33m\u001b[0m\u001b[1;33m\u001b[0m\u001b[0m\n\u001b[1;32m---> 17\u001b[1;33m \u001b[0mo3\u001b[0m\u001b[1;33m.\u001b[0m\u001b[0moperations\u001b[0m\u001b[1;33m(\u001b[0m\u001b[1;33m)\u001b[0m\u001b[1;33m\u001b[0m\u001b[1;33m\u001b[0m\u001b[0m\n\u001b[0m",
      "\u001b[1;32m<ipython-input-7-fae5f0573e55>\u001b[0m in \u001b[0;36moperations\u001b[1;34m(self)\u001b[0m\n\u001b[0;32m     11\u001b[0m         \u001b[0mprint\u001b[0m\u001b[1;33m(\u001b[0m\u001b[1;34m\"this is operations.\"\u001b[0m\u001b[1;33m)\u001b[0m\u001b[1;33m\u001b[0m\u001b[1;33m\u001b[0m\u001b[0m\n\u001b[0;32m     12\u001b[0m         \u001b[0mself\u001b[0m\u001b[1;33m.\u001b[0m\u001b[0mop3\u001b[0m\u001b[1;33m(\u001b[0m\u001b[1;33m)\u001b[0m\u001b[1;33m\u001b[0m\u001b[1;33m\u001b[0m\u001b[0m\n\u001b[1;32m---> 13\u001b[1;33m         \u001b[0mself\u001b[0m\u001b[1;33m.\u001b[0m\u001b[0mop1\u001b[0m\u001b[1;33m(\u001b[0m\u001b[1;33m)\u001b[0m\u001b[1;33m\u001b[0m\u001b[1;33m\u001b[0m\u001b[0m\n\u001b[0m\u001b[0;32m     14\u001b[0m         \u001b[0mself\u001b[0m\u001b[1;33m.\u001b[0m\u001b[0mop2\u001b[0m\u001b[1;33m(\u001b[0m\u001b[1;33m)\u001b[0m\u001b[1;33m\u001b[0m\u001b[1;33m\u001b[0m\u001b[0m\n\u001b[0;32m     15\u001b[0m \u001b[1;33m\u001b[0m\u001b[0m\n",
      "\u001b[1;31mAttributeError\u001b[0m: 'c3' object has no attribute 'op1'"
     ]
    }
   ],
   "source": [
    "class c1:\n",
    "    def op1(self):\n",
    "        print(\"this is op1 in c1\")\n",
    "class c2:\n",
    "    def op2(self):\n",
    "        print(\"this is op2 in c2\")\n",
    "class c3:\n",
    "    def op3(self):\n",
    "        print(\"this is op3 in c3\")\n",
    "    def operations(self):#self=o3\n",
    "        print(\"this is operations.\")\n",
    "        self.op3()\n",
    "        self.op1()\n",
    "        self.op2()\n",
    "                \n",
    "o3=c3()\n",
    "o3.operations()"
   ]
  },
  {
   "cell_type": "code",
   "execution_count": 8,
   "metadata": {},
   "outputs": [
    {
     "name": "stdout",
     "output_type": "stream",
     "text": [
      "this is operations.\n",
      "this is op3 in c3\n",
      "this is op1 in c1\n",
      "this is op2 in c2\n"
     ]
    }
   ],
   "source": [
    "class c1:\n",
    "    def op1(self):\n",
    "        print(\"this is op1 in c1\")\n",
    "class c2:\n",
    "    def op2(self):\n",
    "        print(\"this is op2 in c2\")\n",
    "class c3:\n",
    "    def op3(self):\n",
    "        print(\"this is op3 in c3\")\n",
    "    def operations(self):#self=o3\n",
    "        print(\"this is operations.\")\n",
    "        self.op3()\n",
    "        o1=c1()\n",
    "        o1.op1()\n",
    "        o2=c2()\n",
    "        o2.op2()\n",
    "                \n",
    "o3=c3()\n",
    "o3.operations()"
   ]
  },
  {
   "cell_type": "code",
   "execution_count": 9,
   "metadata": {},
   "outputs": [
    {
     "name": "stdout",
     "output_type": "stream",
     "text": [
      "this is operations.\n",
      "this is op3 in c3\n",
      "this is op1 in c1\n",
      "this is op2 in c2\n"
     ]
    }
   ],
   "source": [
    "class c1:\n",
    "    def op1(self):\n",
    "        print(\"this is op1 in c1\")\n",
    "class c2:\n",
    "    def op2(self):\n",
    "        print(\"this is op2 in c2\")\n",
    "class c3(c1,c2):\n",
    "    def op3(self):\n",
    "        print(\"this is op3 in c3\")\n",
    "    def operations(self):#self=o3\n",
    "        print(\"this is operations.\")\n",
    "        self.op3()\n",
    "        #o1=c1()\n",
    "        self.op1()\n",
    "        #o2=c2()\n",
    "        self.op2()\n",
    "                \n",
    "o3=c3()\n",
    "o3.operations()"
   ]
  },
  {
   "cell_type": "code",
   "execution_count": 10,
   "metadata": {},
   "outputs": [
    {
     "name": "stdout",
     "output_type": "stream",
     "text": [
      "this is operations.\n",
      "this is op3 in c3\n",
      "this is op1 in c1\n",
      "this is op2 in c2\n"
     ]
    }
   ],
   "source": [
    "class c1:\n",
    "    def op1(self):\n",
    "        print(\"this is op1 in c1\")\n",
    "class c2:\n",
    "    def op2(self):\n",
    "        print(\"this is op2 in c2\")\n",
    "class c3(c1,c2):\n",
    "    def op3(self):\n",
    "        print(\"this is op3 in c3\")\n",
    "    def operations(self):#self=o3\n",
    "        print(\"this is operations.\")\n",
    "        self.op3()\n",
    "        self.op1()\n",
    "        self.op2()\n",
    "                \n",
    "o3=c3()\n",
    "o3.operations()"
   ]
  },
  {
   "cell_type": "code",
   "execution_count": 11,
   "metadata": {},
   "outputs": [
    {
     "name": "stdout",
     "output_type": "stream",
     "text": [
      "this is operations.\n",
      "this is op3 in c3\n",
      "this is op1 in c3\n",
      "this is op2 in c2\n"
     ]
    }
   ],
   "source": [
    "class c1:\n",
    "    def op1(self):\n",
    "        print(\"this is op1 in c1\")\n",
    "class c2:\n",
    "    def op2(self):\n",
    "        print(\"this is op2 in c2\")\n",
    "class c3(c1,c2):\n",
    "    def op3(self):\n",
    "        print(\"this is op3 in c3\")\n",
    "    def operations(self):#self=o3\n",
    "        print(\"this is operations.\")\n",
    "        self.op3()\n",
    "        self.op1()\n",
    "        self.op2()\n",
    "    def op1(self):\n",
    "        print(\"this is op1 in c3\")\n",
    "                \n",
    "o3=c3()\n",
    "o3.operations()"
   ]
  },
  {
   "cell_type": "code",
   "execution_count": 12,
   "metadata": {},
   "outputs": [
    {
     "name": "stdout",
     "output_type": "stream",
     "text": [
      "this is op2 in c2\n"
     ]
    }
   ],
   "source": [
    "class c1:\n",
    "    def op1(self):\n",
    "        print(\"this is op1 in c1\")\n",
    "class c2:\n",
    "    def op2(self):\n",
    "        print(\"this is op2 in c2\")\n",
    "class c3(c1,c2):#c3 is a child class of c1 and c2. c1,c2 are parent classes of c3\n",
    "    def op3(self):\n",
    "        print(\"this is op3 in c3\")\n",
    "    def operations(self):#self=o3\n",
    "        print(\"this is operations.\")\n",
    "        self.op3()\n",
    "        self.op1()\n",
    "        self.op2()\n",
    "    def op1(self):\n",
    "        print(\"this is op1 in c3\")\n",
    "                \n",
    "o3=c3()\n",
    "#o3.operations()\n",
    "o3.op2()# able to call parent class method by using child class instance."
   ]
  },
  {
   "cell_type": "code",
   "execution_count": 13,
   "metadata": {},
   "outputs": [
    {
     "name": "stdout",
     "output_type": "stream",
     "text": [
      "inserting in to database: {'name': 'p1', 'cost': 2000}\n"
     ]
    }
   ],
   "source": [
    "class DB:\n",
    "    def __init__(self, **data):\n",
    "        self.data = data\n",
    "    def insert(self):\n",
    "        print(\"inserting in to database:\",self.data)\n",
    "\n",
    "class Product(DB):\n",
    "    pass\n",
    "\n",
    "class Category(DB):\n",
    "    pass\n",
    "\n",
    "p1 = Product(name=\"p1\",cost=2000)# it look for the constructor in Product. not written constructor in Product. It will\n",
    "# call DB class constructor.\n",
    "p1.insert()# insert method not available Product. It will call DB class method.\n",
    "    "
   ]
  },
  {
   "cell_type": "code",
   "execution_count": 14,
   "metadata": {},
   "outputs": [
    {
     "name": "stdout",
     "output_type": "stream",
     "text": [
      "inserting in to database: {'name': 'p1', 'cost': 2000}\n",
      "inserting in to database: {'name': 'Electronics'}\n"
     ]
    }
   ],
   "source": [
    "class DB:\n",
    "    def __init__(self, **data):# constructor. used to add attributes to the data object. assign values to the attributes.\n",
    "        self.data = data\n",
    "    def insert(self):\n",
    "        print(\"inserting in to database:\",self.data)\n",
    "\n",
    "class Product(DB):\n",
    "    pass\n",
    "\n",
    "class Category(DB):\n",
    "    pass\n",
    "\n",
    "p1 = Product(name=\"p1\",cost=2000)# it look for the constructor in Product. not written constructor in Product. It will\n",
    "# call DB class constructor.\n",
    "p1.insert()# insert method not available Product. It will call DB class method.\n",
    "c1=Category(name=\"Electronics\")\n",
    "c1.insert()"
   ]
  },
  {
   "cell_type": "code",
   "execution_count": 15,
   "metadata": {},
   "outputs": [
    {
     "name": "stdout",
     "output_type": "stream",
     "text": [
      "inserting in to database: {'name': 'p1', 'cost': 2000}\n",
      "inserting in to database: {'name': 'Electronics@#$'}\n"
     ]
    }
   ],
   "source": [
    "class DB:\n",
    "    def __init__(self, **data):# constructor. used to add attributes to the data object. assign values to the attributes.\n",
    "        self.data = data\n",
    "        \n",
    "    def validate(self):\n",
    "        if not self.data.get(\"name\").isalnum():\n",
    "            print(\"not a valid name\")\n",
    "            \n",
    "    def insert(self):\n",
    "        print(\"inserting in to database:\",self.data)\n",
    "\n",
    "class Product(DB):\n",
    "    pass\n",
    "\n",
    "class Category(DB):\n",
    "    pass\n",
    "\n",
    "p1 = Product(name=\"p1\",cost=2000)\n",
    "p1.insert()\n",
    "c1=Category(name=\"Electronics@#$\")\n",
    "# before going to insert data in to database, I want to validate Category name, if it has special symbols then dont insert it.\n",
    "c1.insert()"
   ]
  },
  {
   "cell_type": "code",
   "execution_count": 17,
   "metadata": {},
   "outputs": [
    {
     "name": "stdout",
     "output_type": "stream",
     "text": [
      "inserting in to database: {'name': 'p1', 'cost': 2000}\n",
      "inserting in to database: {'name': 'Electronics@#$'}\n"
     ]
    }
   ],
   "source": [
    "class DB:\n",
    "    def __init__(self, **data):# constructor. used to add attributes to the data object. assign values to the attributes.\n",
    "        self.data = data\n",
    "        \n",
    "    def validate(self):\n",
    "        if not self.data.get(\"name\").isalnum():\n",
    "            print(\"not a valid name\")\n",
    "        else:\n",
    "            self.insert()\n",
    "            \n",
    "    def insert(self):\n",
    "        print(\"inserting in to database:\",self.data)\n",
    "\n",
    "class Product(DB):\n",
    "    pass\n",
    "\n",
    "class Category(DB):\n",
    "    pass\n",
    "\n",
    "p1 = Product(name=\"p1\",cost=2000)\n",
    "p1.insert()\n",
    "c1=Category(name=\"Electronics@#$\")\n",
    "# before going to insert data in to database, I want to validate Category name, if it has special symbols then dont insert it.\n",
    "c1.insert()"
   ]
  },
  {
   "cell_type": "code",
   "execution_count": 18,
   "metadata": {},
   "outputs": [
    {
     "name": "stdout",
     "output_type": "stream",
     "text": [
      "inserting in to database: {'name': 'p1', 'cost': 2000}\n",
      "not a valid name\n"
     ]
    }
   ],
   "source": [
    "class DB:\n",
    "    def __init__(self, **data):# constructor. used to add attributes to the data object. assign values to the attributes.\n",
    "        self.data = data\n",
    "        \n",
    "    def validate(self):\n",
    "        if not self.data.get(\"name\").isalnum():\n",
    "            print(\"not a valid name\")\n",
    "        else:\n",
    "            self.insert()\n",
    "            \n",
    "    def insert(self):\n",
    "        print(\"inserting in to database:\",self.data)\n",
    "\n",
    "class Product(DB):\n",
    "    pass\n",
    "\n",
    "class Category(DB):\n",
    "    pass\n",
    "\n",
    "p1 = Product(name=\"p1\",cost=2000)\n",
    "p1.insert()\n",
    "c1=Category(name=\"Electronics@#$\")\n",
    "# before going to insert data in to database, I want to validate Category name, if it has special symbols then dont insert it.\n",
    "c1.validate()"
   ]
  },
  {
   "cell_type": "code",
   "execution_count": 19,
   "metadata": {},
   "outputs": [
    {
     "name": "stdout",
     "output_type": "stream",
     "text": [
      "inserting in to database: {'name': 'p1', 'cost': 2000}\n",
      "not a valid name\n"
     ]
    }
   ],
   "source": [
    "class DB:\n",
    "    def __init__(self, **data):# constructor. used to add attributes to the data object. assign values to the attributes.\n",
    "        self.data = data\n",
    "            \n",
    "    def insert(self):\n",
    "        print(\"inserting in to database:\",self.data)\n",
    "\n",
    "class Product(DB):\n",
    "    pass\n",
    "\n",
    "class Category(DB):\n",
    "    def validate(self):\n",
    "        if not self.data.get(\"name\").isalnum():\n",
    "            print(\"not a valid name\")\n",
    "        else:\n",
    "            self.insert()\n",
    "\n",
    "p1 = Product(name=\"p1\",cost=2000)\n",
    "p1.insert()\n",
    "c1=Category(name=\"Electronics@#$\")\n",
    "# before going to insert data in to database, I want to validate Category name, if it has special symbols then dont insert it.\n",
    "c1.validate()"
   ]
  },
  {
   "cell_type": "code",
   "execution_count": 20,
   "metadata": {},
   "outputs": [
    {
     "name": "stdout",
     "output_type": "stream",
     "text": [
      "inserting in to database: {'name': 'p1', 'cost': 2000}\n",
      "not a valid name\n"
     ]
    }
   ],
   "source": [
    "class DB:\n",
    "    def __init__(self, **data):# constructor. used to add attributes to the data object. assign values to the attributes.\n",
    "        self.data = data\n",
    "            \n",
    "    def insert(self):\n",
    "        print(\"inserting in to database:\",self.data)\n",
    "\n",
    "class Product(DB):\n",
    "    pass\n",
    "\n",
    "class Category(DB):\n",
    "    def validate_insert(self):\n",
    "        if not self.data.get(\"name\").isalnum():\n",
    "            print(\"not a valid name\")\n",
    "        else:\n",
    "            self.insert()\n",
    "\n",
    "p1 = Product(name=\"p1\",cost=2000)\n",
    "p1.insert()\n",
    "c1=Category(name=\"Electronics@#$\")\n",
    "# before going to insert data in to database, I want to validate Category name, if it has special symbols then dont insert it.\n",
    "c1.validate_insert()"
   ]
  },
  {
   "cell_type": "code",
   "execution_count": 21,
   "metadata": {},
   "outputs": [
    {
     "name": "stdout",
     "output_type": "stream",
     "text": [
      "inserting in to database: {'name': 'p1', 'cost': 2000}\n",
      "inserting in to database: {'name': 'Accounts@#$'}\n"
     ]
    }
   ],
   "source": [
    "class DB:\n",
    "    def __init__(self, **data):# constructor. used to add attributes to the data object. assign values to the attributes.\n",
    "        self.data = data\n",
    "            \n",
    "    def insert(self):\n",
    "        print(\"inserting in to database:\",self.data)\n",
    "\n",
    "class Product(DB):\n",
    "    pass\n",
    "\n",
    "class Category(DB):\n",
    "    def validate_insert(self):\n",
    "        if not self.data.get(\"name\").isalnum():\n",
    "            print(\"not a valid name\")\n",
    "        else:\n",
    "            self.insert()\n",
    "\n",
    "p1 = Product(name=\"p1\",cost=2000)\n",
    "p1.insert()\n",
    "c1 = Category(name=\"Accounts@#$\")\n",
    "c1.insert()\n"
   ]
  },
  {
   "cell_type": "code",
   "execution_count": 22,
   "metadata": {},
   "outputs": [
    {
     "name": "stdout",
     "output_type": "stream",
     "text": [
      "inserting in to database: {'name': 'p1', 'cost': 2000}\n",
      "not a valid name\n"
     ]
    }
   ],
   "source": [
    "class DB:\n",
    "    def __init__(self, **data):# constructor. used to add attributes to the data object. assign values to the attributes.\n",
    "        self.data = data\n",
    "            \n",
    "    def insert(self):\n",
    "        print(\"inserting in to database:\",self.data)\n",
    "\n",
    "class Product(DB):\n",
    "    pass\n",
    "\n",
    "class Category(DB):\n",
    "    def insert(self):\n",
    "        if not self.data.get(\"name\").isalnum():\n",
    "            print(\"not a valid name\")\n",
    "        else:\n",
    "            self.insert()\n",
    "\n",
    "p1 = Product(name=\"p1\",cost=2000)\n",
    "p1.insert()\n",
    "c1 = Category(name=\"Accounts@#$\")\n",
    "c1.insert()\n"
   ]
  },
  {
   "cell_type": "code",
   "execution_count": null,
   "metadata": {},
   "outputs": [],
   "source": [
    "class DB:\n",
    "    def __init__(self, **data):# constructor. used to add attributes to the data object. assign values to the attributes.\n",
    "        self.data = data\n",
    "            \n",
    "    def insert(self):\n",
    "        print(\"inserting in to database:\",self.data)\n",
    "\n",
    "class Product(DB):\n",
    "    pass\n",
    "\n",
    "class Category(DB):\n",
    "    def insert(self):\n",
    "        if not self.data.get(\"name\").isalnum():\n",
    "            print(\"not a valid name\")\n",
    "        else:\n",
    "            self.insert()# it calls the same insert method and it's become a infinite recursion\n",
    "\n",
    "p1 = Product(name=\"p1\",cost=2000)\n",
    "p1.insert()\n",
    "c1 = Category(name=\"Accounts\")\n",
    "c1.insert()\n"
   ]
  },
  {
   "cell_type": "code",
   "execution_count": 23,
   "metadata": {},
   "outputs": [
    {
     "name": "stdout",
     "output_type": "stream",
     "text": [
      "inserting in to database: {'name': 'p1', 'cost': 2000}\n",
      "inserting in to database: {'name': 'Accounts'}\n"
     ]
    }
   ],
   "source": [
    "class DB:\n",
    "    def __init__(self, **data):# constructor. used to add attributes to the data object. assign values to the attributes.\n",
    "        self.data = data\n",
    "            \n",
    "    def insert(self):\n",
    "        print(\"inserting in to database:\",self.data)\n",
    "\n",
    "class Product(DB):\n",
    "    pass\n",
    "\n",
    "class Category(DB):\n",
    "    def insert(self):\n",
    "        if not self.data.get(\"name\").isalnum():\n",
    "            print(\"not a valid name\")\n",
    "        else:\n",
    "            #self.insert()# it calls the same insert method and it's become a infinite recursion\n",
    "            DB.insert(self)\n",
    "            \n",
    "\n",
    "p1 = Product(name=\"p1\",cost=2000)\n",
    "p1.insert()\n",
    "c1 = Category(name=\"Accounts\")\n",
    "c1.insert()\n"
   ]
  },
  {
   "cell_type": "code",
   "execution_count": 24,
   "metadata": {},
   "outputs": [
    {
     "name": "stdout",
     "output_type": "stream",
     "text": [
      "inserting in to database: {'name': 'p1', 'cost': 2000}\n",
      "not a valid name\n"
     ]
    }
   ],
   "source": [
    "class DB:\n",
    "    def __init__(self, **data):# constructor. used to add attributes to the data object. assign values to the attributes.\n",
    "        self.data = data\n",
    "            \n",
    "    def insert(self):\n",
    "        print(\"inserting in to database:\",self.data)\n",
    "\n",
    "class Product(DB):\n",
    "    pass\n",
    "\n",
    "class Category(DB):\n",
    "    def insert(self):\n",
    "        if not self.data.get(\"name\").isalnum():\n",
    "            print(\"not a valid name\")\n",
    "        else:\n",
    "            #self.insert()# it calls the same insert method and it's become a infinite recursion\n",
    "            DB.insert(self)\n",
    "            \n",
    "\n",
    "p1 = Product(name=\"p1\",cost=2000)\n",
    "p1.insert()\n",
    "c1 = Category(name=\"Account#$%s\")\n",
    "c1.insert()\n"
   ]
  },
  {
   "cell_type": "code",
   "execution_count": 25,
   "metadata": {},
   "outputs": [
    {
     "name": "stdout",
     "output_type": "stream",
     "text": [
      "inserting in to database: {'name': 'p1', 'cost': 2000}\n",
      "not a valid name\n"
     ]
    }
   ],
   "source": [
    "class DB:\n",
    "    def __init__(self, **data):# constructor. used to add attributes to the data object. assign values to the attributes.\n",
    "        self.data = data\n",
    "            \n",
    "    def insert(self):\n",
    "        print(\"inserting in to database:\",self.data)\n",
    "\n",
    "class Product(DB):\n",
    "    pass\n",
    "\n",
    "class Category(DB):\n",
    "    def insert(self):# method overriding\n",
    "        if not self.data.get(\"name\").isalnum():\n",
    "            print(\"not a valid name\")\n",
    "        else:\n",
    "            #self.insert()# it calls the same insert method and it's become a infinite recursion\n",
    "            #DB.insert(self)\n",
    "            super(Category,self).insert()\n",
    "            \n",
    "\n",
    "p1 = Product(name=\"p1\",cost=2000)\n",
    "p1.insert()\n",
    "c1 = Category(name=\"Account#$%s\")\n",
    "c1.insert()# abstraction\n"
   ]
  },
  {
   "cell_type": "code",
   "execution_count": 1,
   "metadata": {},
   "outputs": [],
   "source": [
    "#sales.py module written by some third party people. pypy.org to install\n",
    "# pip install sales"
   ]
  },
  {
   "cell_type": "code",
   "execution_count": 2,
   "metadata": {},
   "outputs": [
    {
     "name": "stdout",
     "output_type": "stream",
     "text": [
      "['C:\\\\Users\\\\Lenovo\\\\batch79', 'c:\\\\python38\\\\python38.zip', 'c:\\\\python38\\\\DLLs', 'c:\\\\python38\\\\lib', 'c:\\\\python38', '', 'C:\\\\Users\\\\Lenovo\\\\AppData\\\\Roaming\\\\Python\\\\Python38\\\\site-packages', 'c:\\\\python38\\\\lib\\\\site-packages', 'c:\\\\python38\\\\lib\\\\site-packages\\\\win32', 'c:\\\\python38\\\\lib\\\\site-packages\\\\win32\\\\lib', 'c:\\\\python38\\\\lib\\\\site-packages\\\\Pythonwin', 'c:\\\\python38\\\\lib\\\\site-packages\\\\IPython\\\\extensions', 'C:\\\\Users\\\\Lenovo\\\\.ipython']\n"
     ]
    }
   ],
   "source": [
    "import sys\n",
    "print(sys.path)"
   ]
  },
  {
   "cell_type": "code",
   "execution_count": 3,
   "metadata": {},
   "outputs": [
    {
     "data": {
      "text/plain": [
       "('cust1', 'hyderabad')"
      ]
     },
     "execution_count": 3,
     "metadata": {},
     "output_type": "execute_result"
    }
   ],
   "source": [
    "#salse.py  v1\n",
    "class Customer:\n",
    "    def __init__(self, name, address):\n",
    "        self.name=name\n",
    "        self.address=address\n",
    "        \n",
    "    def get(self):\n",
    "        return self.name, self.address\n",
    "#app.py\n",
    "#from sales import Customer\n",
    "cust1 = Customer(\"cust1\",\"hyderabad\")\n",
    "cust1.get()"
   ]
  },
  {
   "cell_type": "code",
   "execution_count": null,
   "metadata": {},
   "outputs": [],
   "source": [
    "#site-packages/salse.py  v1\n",
    "class Customer:\n",
    "    def __init__(self, name, address):\n",
    "        self.name=name\n",
    "        self.address=address\n",
    "        \n",
    "    def get(self):\n",
    "        return self.name, self.address\n",
    "#myproject/app.py\n",
    "\n",
    "# two extra fields, phone and email\n",
    "# they need phone and email in get method also\n",
    "#from sales import Customer\n",
    "cust1 = Customer(\"cust1\",\"hyderabad\")\n",
    "cust1.get()"
   ]
  },
  {
   "cell_type": "code",
   "execution_count": 4,
   "metadata": {},
   "outputs": [
    {
     "data": {
      "text/plain": [
       "('cust1', 'hyderabad', 9676622023, 'samba@gmail.com')"
      ]
     },
     "execution_count": 4,
     "metadata": {},
     "output_type": "execute_result"
    }
   ],
   "source": [
    "#site-packages/salse.py  v1\n",
    "class Customer:\n",
    "    def __init__(self, name, address, phone, email):\n",
    "        self.name=name\n",
    "        self.address=address\n",
    "        self.phone=phone\n",
    "        self.email=email\n",
    "        \n",
    "    def get(self):\n",
    "        return self.name, self.address, self.phone, self.email\n",
    "#myproject/app.py\n",
    "\n",
    "# two extra fields, phone and email\n",
    "# they need phone and email in get method also\n",
    "#from sales import Customer\n",
    "cust1 = Customer(\"cust1\",\"hyderabad\",9676622023,\"samba@gmail.com\")\n",
    "cust1.get()"
   ]
  },
  {
   "cell_type": "code",
   "execution_count": 6,
   "metadata": {},
   "outputs": [
    {
     "name": "stdout",
     "output_type": "stream",
     "text": [
      "['cust1', 'hyderabad', 9676622023, 'email@gmail.com']\n"
     ]
    }
   ],
   "source": [
    "# code maintenance\n",
    "# sales module developer released one more version v2. that vesion has some extra methods, which you need your project.\n",
    "# pip install sales==v2. It will replace your phone and mobile code.\n",
    "# the above approach is not feasible in long run.\n",
    "#site-packages/salse.py  v1\n",
    "class Customer:\n",
    "    def __init__(self, name, address):\n",
    "        self.name=name\n",
    "        self.address=address\n",
    "        \n",
    "    def get(self):\n",
    "        return [self.name, self.address]\n",
    "#myproject/app.py\n",
    "\n",
    "# two extra fields, phone and email\n",
    "# they need phone and email in get method also\n",
    "#from sales import Customer as SalesCustomer\n",
    "#class Customer(SalesCustomer)\n",
    "class MyCustomer(Customer):\n",
    "    def __init__(self, name, address, phone, email):\n",
    "        self.phone = phone\n",
    "        self.email = email\n",
    "        super(MyCustomer, self).__init__(name, address)\n",
    "        \n",
    "    def get(self):\n",
    "        data = super(MyCustomer, self).get()\n",
    "        data.extend([self.phone, self.email])\n",
    "        return data\n",
    "cust1 = MyCustomer(\"cust1\",\"hyderabad\",9676622023,\"email@gmail.com\")\n",
    "print(cust1.get())"
   ]
  },
  {
   "cell_type": "code",
   "execution_count": 9,
   "metadata": {},
   "outputs": [
    {
     "name": "stdout",
     "output_type": "stream",
     "text": [
      "{'phone': 9676622023, 'email': 'email@gmail.com', 'name': 'cust1', 'address': 'hyderabad'}\n"
     ]
    }
   ],
   "source": [
    "class Customer:\n",
    "    def __init__(self, name, address, phone=None, email=None, **context):\n",
    "        self.phone = phone\n",
    "        self.email = email\n",
    "        self.name=name\n",
    "        self.address=address\n",
    "        self.context=context\n",
    "    def get(self):\n",
    "        return self.__dict__\n",
    "cust1 = MyCustomer(\"cust1\",\"hyderabad\",9676622023,\"email@gmail.com\")\n",
    "print(cust1.__dict__)\n",
    "    "
   ]
  },
  {
   "cell_type": "code",
   "execution_count": 11,
   "metadata": {},
   "outputs": [
    {
     "name": "stdout",
     "output_type": "stream",
     "text": [
      "{'phone': 9676622023, 'email': 'email@gmail.com', 'name': 'cust1', 'address': 'hyderabad', 'context': {}}\n",
      "<__main__.Customer object at 0x000002FC0BF88730>\n"
     ]
    }
   ],
   "source": [
    "class Customer:\n",
    "    def __init__(self, name, address, phone=None, email=None, **context):\n",
    "        self.phone = phone\n",
    "        self.email = email\n",
    "        self.name=name\n",
    "        self.address=address\n",
    "        self.context=context\n",
    "    def get(self):\n",
    "        return self.__dict__\n",
    "cust1 = Customer(\"cust1\",\"hyderabad\",9676622023,\"email@gmail.com\")\n",
    "print(cust1.__dict__)\n",
    "print(cust1)"
   ]
  },
  {
   "cell_type": "code",
   "execution_count": 12,
   "metadata": {},
   "outputs": [
    {
     "name": "stdout",
     "output_type": "stream",
     "text": [
      "{'phone': 9676622023, 'email': 'email@gmail.com', 'name': 'cust1', 'address': 'hyderabad', 'context': {}}\n"
     ]
    }
   ],
   "source": [
    "class Customer:\n",
    "    def __init__(self, name, address, phone=None, email=None, **context):\n",
    "        self.phone = phone\n",
    "        self.email = email\n",
    "        self.name=name\n",
    "        self.address=address\n",
    "        self.context=context\n",
    "    def get(self):\n",
    "        return self.__dict__\n",
    "cust1 = Customer(\"cust1\",\"hyderabad\",9676622023,\"email@gmail.com\")\n",
    "print(cust1.get())"
   ]
  },
  {
   "cell_type": "code",
   "execution_count": 13,
   "metadata": {},
   "outputs": [
    {
     "name": "stdout",
     "output_type": "stream",
     "text": [
      "{'phone': 9676622023, 'email': 'email@gmail.com', 'name': 'cust1', 'address': 'hyderabad', 'context': {}}\n",
      "{'phone': None, 'email': None, 'name': 'cust2', 'address': 'hyderabad', 'context': {}}\n",
      "{'phone': 9676622024, 'email': None, 'name': 'cust3', 'address': 'hyderabad', 'context': {}}\n",
      "{'phone': None, 'email': None, 'name': 'cust4', 'address': 'hyderabad', 'context': {'pan': 'safsdfsd', 'adhar': 'sdfds'}}\n"
     ]
    }
   ],
   "source": [
    "class Customer:\n",
    "    #method overloading.\n",
    "    def __init__(self, name, address, phone=None, email=None, **context):\n",
    "        self.phone = phone\n",
    "        self.email = email\n",
    "        self.name=name\n",
    "        self.address=address\n",
    "        self.context=context\n",
    "    def get(self):\n",
    "        return self.__dict__\n",
    "cust1 = Customer(\"cust1\",\"hyderabad\",9676622023,\"email@gmail.com\")\n",
    "print(cust1.get())\n",
    "cust2 = Customer(\"cust2\",\"hyderabad\")\n",
    "print(cust2.get())\n",
    "cust3 = Customer(\"cust3\",\"hyderabad\",9676622024)\n",
    "print(cust3.get())\n",
    "cust4 = Customer(\"cust4\",\"hyderabad\",pan=\"safsdfsd\",adhar=\"sdfds\")\n",
    "print(cust4.get())"
   ]
  },
  {
   "cell_type": "code",
   "execution_count": 14,
   "metadata": {},
   "outputs": [
    {
     "name": "stdout",
     "output_type": "stream",
     "text": [
      "(1+2j)\n",
      "30\n",
      "pythonprogram\n"
     ]
    }
   ],
   "source": [
    "# operator overloading\n",
    "print(1+2j)\n",
    "print(10+20)\n",
    "print(\"python\"+\"program\")"
   ]
  },
  {
   "cell_type": "code",
   "execution_count": 15,
   "metadata": {},
   "outputs": [
    {
     "name": "stdout",
     "output_type": "stream",
     "text": [
      "True\n",
      "False\n"
     ]
    }
   ],
   "source": [
    "print(100>20)\n",
    "print(\"100\">\"20\")"
   ]
  },
  {
   "cell_type": "code",
   "execution_count": 16,
   "metadata": {},
   "outputs": [
    {
     "name": "stdout",
     "output_type": "stream",
     "text": [
      "<class 'int'>\n",
      "<class 'str'>\n",
      "<class '__main__.Customer'>\n"
     ]
    }
   ],
   "source": [
    "a=10#It will call \"int\" calss constructor, a refers to int calss data object\n",
    "s=\"python\"# It will call \"str\" class constructor, s refres to the \"str\" class data object\n",
    "class Customer:\n",
    "    def __init__(self, name, age):\n",
    "        self.name=name\n",
    "        self.age=age\n",
    "        \n",
    "jay=Customer(\"Jayaram\", 5)# It will call \"Customer\" class constructor, jay refers to Customer class data object\n",
    "vedha=Customer(\"Vedhanvesh\", 4)# It will call \"Customer\" class constructor, vedha refers to Customer class data object\n",
    "print(type(a))\n",
    "print(type(s))\n",
    "print(type(jay))"
   ]
  },
  {
   "cell_type": "code",
   "execution_count": 17,
   "metadata": {},
   "outputs": [
    {
     "name": "stdout",
     "output_type": "stream",
     "text": [
      "30\n",
      "pythonprogram\n"
     ]
    },
    {
     "ename": "TypeError",
     "evalue": "unsupported operand type(s) for +: 'Customer' and 'Customer'",
     "output_type": "error",
     "traceback": [
      "\u001b[1;31m---------------------------------------------------------------------------\u001b[0m",
      "\u001b[1;31mTypeError\u001b[0m                                 Traceback (most recent call last)",
      "\u001b[1;32m<ipython-input-17-a7962e2f5112>\u001b[0m in \u001b[0;36m<module>\u001b[1;34m\u001b[0m\n\u001b[0;32m     12\u001b[0m \u001b[0mprint\u001b[0m\u001b[1;33m(\u001b[0m\u001b[0ma\u001b[0m\u001b[1;33m+\u001b[0m\u001b[0mb\u001b[0m\u001b[1;33m)\u001b[0m\u001b[1;33m\u001b[0m\u001b[1;33m\u001b[0m\u001b[0m\n\u001b[0;32m     13\u001b[0m \u001b[0mprint\u001b[0m\u001b[1;33m(\u001b[0m\u001b[0ms\u001b[0m\u001b[1;33m+\u001b[0m\u001b[0ms1\u001b[0m\u001b[1;33m)\u001b[0m\u001b[1;33m\u001b[0m\u001b[1;33m\u001b[0m\u001b[0m\n\u001b[1;32m---> 14\u001b[1;33m \u001b[0mprint\u001b[0m\u001b[1;33m(\u001b[0m\u001b[0mjay\u001b[0m\u001b[1;33m+\u001b[0m\u001b[0mvedha\u001b[0m\u001b[1;33m)\u001b[0m\u001b[1;33m\u001b[0m\u001b[1;33m\u001b[0m\u001b[0m\n\u001b[0m",
      "\u001b[1;31mTypeError\u001b[0m: unsupported operand type(s) for +: 'Customer' and 'Customer'"
     ]
    }
   ],
   "source": [
    "a=10#It will call \"int\" calss constructor, a refers to int calss data object\n",
    "b=20\n",
    "s=\"python\"# It will call \"str\" class constructor, s refres to the \"str\" class data object\n",
    "s1=\"program\"\n",
    "class Customer:\n",
    "    def __init__(self, name, age):\n",
    "        self.name=name\n",
    "        self.age=age\n",
    "        \n",
    "jay=Customer(\"Jayaram\", 5)# It will call \"Customer\" class constructor, jay refers to Customer class data object\n",
    "vedha=Customer(\"Vedhanvesh\", 4)# It will call \"Customer\" class constructor, vedha refers to Customer class data object\n",
    "print(a+b)# __add__ method already defined in \"int\" class. it has a summation code\n",
    "print(s+s1)# __add__ method already defined in \"str\" class. it has a concatenation code\n",
    "print(jay+vedha)# __add__ method not defined."
   ]
  },
  {
   "cell_type": "code",
   "execution_count": 18,
   "metadata": {},
   "outputs": [
    {
     "name": "stdout",
     "output_type": "stream",
     "text": [
      "30\n",
      "pythonprogram\n",
      "20\n"
     ]
    }
   ],
   "source": [
    "a=10#It will call \"int\" calss constructor, a refers to int calss data object\n",
    "b=20\n",
    "s=\"python\"# It will call \"str\" class constructor, s refres to the \"str\" class data object\n",
    "s1=\"program\"\n",
    "class Customer:\n",
    "    def __init__(self, name, age):\n",
    "        self.name=name\n",
    "        self.age=age\n",
    "    def __add__(self1, self2):\n",
    "        return 20\n",
    "        \n",
    "        \n",
    "jay=Customer(\"Jayaram\", 5)# It will call \"Customer\" class constructor, jay refers to Customer class data object\n",
    "vedha=Customer(\"Vedhanvesh\", 4)# It will call \"Customer\" class constructor, vedha refers to Customer class data object\n",
    "print(a+b)# __add__ method already defined in \"int\" class. it has a summation code\n",
    "print(s+s1)# __add__ method already defined in \"str\" class. it has a concatenation code\n",
    "print(jay+vedha)# __add__ method defined in \"Customer\" class. It's returning 20"
   ]
  },
  {
   "cell_type": "code",
   "execution_count": 19,
   "metadata": {},
   "outputs": [
    {
     "name": "stdout",
     "output_type": "stream",
     "text": [
      "30\n",
      "30\n"
     ]
    }
   ],
   "source": [
    "a=10\n",
    "b=20\n",
    "print(a.__add__(b))\n",
    "print(a+b)"
   ]
  },
  {
   "cell_type": "code",
   "execution_count": 20,
   "metadata": {},
   "outputs": [
    {
     "name": "stdout",
     "output_type": "stream",
     "text": [
      "30\n",
      "pythonprogram\n",
      "JayaramVedhanvesh\n"
     ]
    }
   ],
   "source": [
    "a=10#It will call \"int\" calss constructor, a refers to int calss data object\n",
    "b=20\n",
    "s=\"python\"# It will call \"str\" class constructor, s refres to the \"str\" class data object\n",
    "s1=\"program\"\n",
    "class Customer:\n",
    "    def __init__(self, name, age):\n",
    "        self.name=name\n",
    "        self.age=age\n",
    "    def __add__(self1, self2):\n",
    "        return self1.name+self2.name\n",
    "        \n",
    "        \n",
    "jay=Customer(\"Jayaram\", 5)# It will call \"Customer\" class constructor, jay refers to Customer class data object\n",
    "vedha=Customer(\"Vedhanvesh\", 4)# It will call \"Customer\" class constructor, vedha refers to Customer class data object\n",
    "print(a+b)# __add__ method already defined in \"int\" class. it has a summation code\n",
    "print(s+s1)# __add__ method already defined in \"str\" class. it has a concatenation code\n",
    "print(jay+vedha)# __add__ method defined in \"Customer\" class. It's returning 20"
   ]
  },
  {
   "cell_type": "code",
   "execution_count": 21,
   "metadata": {},
   "outputs": [
    {
     "name": "stdout",
     "output_type": "stream",
     "text": [
      "['__abs__', '__add__', '__and__', '__bool__', '__ceil__', '__class__', '__delattr__', '__dir__', '__divmod__', '__doc__', '__eq__', '__float__', '__floor__', '__floordiv__', '__format__', '__ge__', '__getattribute__', '__getnewargs__', '__gt__', '__hash__', '__index__', '__init__', '__init_subclass__', '__int__', '__invert__', '__le__', '__lshift__', '__lt__', '__mod__', '__mul__', '__ne__', '__neg__', '__new__', '__or__', '__pos__', '__pow__', '__radd__', '__rand__', '__rdivmod__', '__reduce__', '__reduce_ex__', '__repr__', '__rfloordiv__', '__rlshift__', '__rmod__', '__rmul__', '__ror__', '__round__', '__rpow__', '__rrshift__', '__rshift__', '__rsub__', '__rtruediv__', '__rxor__', '__setattr__', '__sizeof__', '__str__', '__sub__', '__subclasshook__', '__truediv__', '__trunc__', '__xor__', 'as_integer_ratio', 'bit_length', 'conjugate', 'denominator', 'from_bytes', 'imag', 'numerator', 'real', 'to_bytes']\n"
     ]
    }
   ],
   "source": [
    "a=10\n",
    "print(dir(a))"
   ]
  },
  {
   "cell_type": "code",
   "execution_count": 22,
   "metadata": {},
   "outputs": [
    {
     "name": "stdout",
     "output_type": "stream",
     "text": [
      "30\n",
      "pythonprogram\n",
      "JayaramVedhanvesh\n",
      "<class '__main__.Customer'>\n"
     ]
    }
   ],
   "source": [
    "a=10#It will call \"int\" calss constructor, a refers to int calss data object\n",
    "b=20\n",
    "s=\"python\"# It will call \"str\" class constructor, s refres to the \"str\" class data object\n",
    "s1=\"program\"\n",
    "class Customer:\n",
    "    def __init__(self, name, age):\n",
    "        self.name=name\n",
    "        self.age=age\n",
    "    def __add__(self1, self2):\n",
    "        return self1.name+self2.name\n",
    "        \n",
    "        \n",
    "jay=Customer(\"Jayaram\", 5)# It will call \"Customer\" class constructor, jay refers to Customer class data object\n",
    "vedha=Customer(\"Vedhanvesh\", 4)# It will call \"Customer\" class constructor, vedha refers to Customer class data object\n",
    "print(a+b)# __add__ method already defined in \"int\" class. it has a summation code\n",
    "print(s+s1)# __add__ method already defined in \"str\" class. it has a concatenation code\n",
    "print(jay+vedha)# __add__ method defined in \"Customer\" class. It's returning 20\n",
    "print(Customer)#if we print any object, It will call __str__ method of that class. we are not defined __str__ method in Customer\n",
    "# how it's printing customer object.."
   ]
  },
  {
   "cell_type": "code",
   "execution_count": null,
   "metadata": {},
   "outputs": [],
   "source": [
    "a=10#It will call \"int\" calss constructor, a refers to int calss data object\n",
    "b=20\n",
    "s=\"python\"# It will call \"str\" class constructor, s refres to the \"str\" class data object\n",
    "s1=\"program\"\n",
    "class Customer:\n",
    "    def __init__(self, name, age):\n",
    "        self.name=name\n",
    "        self.age=age\n",
    "    def __add__(self1, self2):\n",
    "        return self1.name+self2.name\n",
    "        \n",
    "        \n",
    "jay=Customer(\"Jayaram\", 5)# It will call \"Customer\" class constructor, jay refers to Customer class data object\n",
    "vedha=Customer(\"Vedhanvesh\", 4)# It will call \"Customer\" class constructor, vedha refers to Customer class data object\n",
    "print(a+b)# __add__ method already defined in \"int\" class. it has a summation code\n",
    "print(s+s1)# __add__ method already defined in \"str\" class. it has a concatenation code\n",
    "print(jay+vedha)# __add__ method defined in \"Customer\" class. It's returning 20\n",
    "print(Customer)#if we print any object, It will call __str__ method of that class. we are not defined __str__ method in Customer\n",
    "# how it's printing customer object? If the method not defined in class, but we are able to call means, it's defined\n",
    "# in parent class. Do we have a parent class for Customer here?. YES, what is that class? OBJECT.\n",
    "#object is the parent class for each class defined in project. "
   ]
  },
  {
   "cell_type": "code",
   "execution_count": 23,
   "metadata": {},
   "outputs": [
    {
     "name": "stdout",
     "output_type": "stream",
     "text": [
      "30\n",
      "pythonprogram\n",
      "JayaramVedhanvesh\n",
      "<class '__main__.Customer'>\n"
     ]
    }
   ],
   "source": [
    "a=10#It will call \"int\" calss constructor, a refers to int calss data object\n",
    "b=20\n",
    "s=\"python\"# It will call \"str\" class constructor, s refres to the \"str\" class data object\n",
    "s1=\"program\"\n",
    "class Customer(object):\n",
    "    def __init__(self, name, age):\n",
    "        self.name=name\n",
    "        self.age=age\n",
    "    def __add__(self1, self2):\n",
    "        return self1.name+self2.name\n",
    "        \n",
    "        \n",
    "jay=Customer(\"Jayaram\", 5)# It will call \"Customer\" class constructor, jay refers to Customer class data object\n",
    "vedha=Customer(\"Vedhanvesh\", 4)# It will call \"Customer\" class constructor, vedha refers to Customer class data object\n",
    "print(a+b)# __add__ method already defined in \"int\" class. it has a summation code\n",
    "print(s+s1)# __add__ method already defined in \"str\" class. it has a concatenation code\n",
    "print(jay+vedha)# __add__ method defined in \"Customer\" class. It's returning 20\n",
    "print(Customer)#if we print any object, It will call __str__ method of that class. we are not defined __str__ method in Customer\n",
    "# how it's printing customer object? If the method not defined in class, but we are able to call means, it's defined\n",
    "# in parent class. Do we have a parent class for Customer here?. YES, what is that class? OBJECT.\n",
    "#object is the parent class for each class defined in project. "
   ]
  },
  {
   "cell_type": "code",
   "execution_count": null,
   "metadata": {},
   "outputs": [],
   "source": [
    "a=10#It will call \"int\" calss constructor, a refers to int calss data object\n",
    "b=20\n",
    "s=\"python\"# It will call \"str\" class constructor, s refres to the \"str\" class data object\n",
    "s1=\"program\"\n",
    "class Customer:\n",
    "    def __init__(self, name, age):\n",
    "        self.name=name\n",
    "        self.age=age\n",
    "    def __add__(self1, self2):\n",
    "        return self1.name+self2.name\n",
    "        \n",
    "        \n",
    "jay=Customer(\"Jayaram\", 5)# It will call \"Customer\" class constructor, jay refers to Customer class data object\n",
    "vedha=Customer(\"Vedhanvesh\", 4)# It will call \"Customer\" class constructor, vedha refers to Customer class data object\n",
    "print(a+b)# __add__ method already defined in \"int\" class. it has a summation code\n",
    "print(s+s1)# __add__ method already defined in \"str\" class. it has a concatenation code\n",
    "print(jay+vedha)# __add__ method defined in \"Customer\" class. It's returning 20\n",
    "print(Customer)#if we print any object, It will call __str__ method of that class. we are not defined __str__ method in Customer\n",
    "# how it's printing customer object? If the method not defined in class, but we are able to call means, it's defined\n",
    "# in parent class. Do we have a parent class for Customer here?. YES, what is that class? OBJECT.\n",
    "#object is the parent class for each class defined in project. \n",
    "# So the __str__ defined in object class. Can we overide it?\n"
   ]
  },
  {
   "cell_type": "code",
   "execution_count": 24,
   "metadata": {},
   "outputs": [
    {
     "name": "stdout",
     "output_type": "stream",
     "text": [
      "30\n",
      "pythonprogram\n",
      "JayaramVedhanvesh\n",
      "<class '__main__.Customer'>\n"
     ]
    }
   ],
   "source": [
    "a=10#It will call \"int\" calss constructor, a refers to int calss data object\n",
    "b=20\n",
    "s=\"python\"# It will call \"str\" class constructor, s refres to the \"str\" class data object\n",
    "s1=\"program\"\n",
    "class Customer:\n",
    "    def __init__(self, name, age):\n",
    "        self.name=name\n",
    "        self.age=age\n",
    "    def __add__(self1, self2):\n",
    "        return self1.name+self2.name\n",
    "    \n",
    "    def __str__(self):\n",
    "        return \"%s,%s\"%(self.name,self.age)\n",
    "        \n",
    "        \n",
    "jay=Customer(\"Jayaram\", 5)# It will call \"Customer\" class constructor, jay refers to Customer class data object\n",
    "vedha=Customer(\"Vedhanvesh\", 4)# It will call \"Customer\" class constructor, vedha refers to Customer class data object\n",
    "print(a+b)# __add__ method already defined in \"int\" class. it has a summation code\n",
    "print(s+s1)# __add__ method already defined in \"str\" class. it has a concatenation code\n",
    "print(jay+vedha)# __add__ method defined in \"Customer\" class. It's returning 20\n",
    "print(Customer)#if we print any object, It will call __str__ method of that class. we are not defined __str__ method in Customer\n",
    "# how it's printing customer object? If the method not defined in class, but we are able to call means, it's defined\n",
    "# in parent class. Do we have a parent class for Customer here?. YES, what is that class? OBJECT.\n",
    "#object is the parent class for each class defined in project. \n",
    "# So the __str__ defined in object class. Can we overide it?\n"
   ]
  },
  {
   "cell_type": "code",
   "execution_count": 27,
   "metadata": {},
   "outputs": [
    {
     "name": "stdout",
     "output_type": "stream",
     "text": [
      "30\n",
      "pythonprogram\n",
      "JayaramVedhanvesh\n",
      "Jayaram,5\n"
     ]
    }
   ],
   "source": [
    "a=10#It will call \"int\" calss constructor, a refers to int calss data object\n",
    "b=20\n",
    "s=\"python\"# It will call \"str\" class constructor, s refres to the \"str\" class data object\n",
    "s1=\"program\"\n",
    "class Customer:\n",
    "    def __init__(self, name, age):\n",
    "        self.name=name\n",
    "        self.age=age\n",
    "    def __add__(self1, self2):\n",
    "        return self1.name+self2.name\n",
    "    \n",
    "    def __str__(self):\n",
    "        return \"%s,%s\"%(self.name,self.age)\n",
    "    \n",
    "    \n",
    "        \n",
    "jay=Customer(\"Jayaram\", 5)# It will call \"Customer\" class constructor, jay refers to Customer class data object\n",
    "vedha=Customer(\"Vedhanvesh\", 4)# It will call \"Customer\" class constructor, vedha refers to Customer class data object\n",
    "print(a+b)# __add__ method already defined in \"int\" class. it has a summation code\n",
    "print(s+s1)# __add__ method already defined in \"str\" class. it has a concatenation code\n",
    "print(jay+vedha)# __add__ method defined in \"Customer\" class. It's returning 20\n",
    "print(jay)#if we print any object, It will call __str__ method of that class. we are not defined __str__ method in Customer\n",
    "# how it's printing customer object? If the method not defined in class, but we are able to call means, it's defined\n",
    "# in parent class. Do we have a parent class for Customer here?. YES, what is that class? OBJECT.\n",
    "#object is the parent class for each class defined in project. \n",
    "# So the __str__ defined in object class. Can we overide it?\n"
   ]
  },
  {
   "cell_type": "code",
   "execution_count": 28,
   "metadata": {},
   "outputs": [
    {
     "name": "stdout",
     "output_type": "stream",
     "text": [
      "30\n",
      "pythonprogram\n",
      "JayaramVedhanvesh\n",
      "Jayaram,5\n"
     ]
    },
    {
     "ename": "TypeError",
     "evalue": "'Customer' object is not iterable",
     "output_type": "error",
     "traceback": [
      "\u001b[1;31m---------------------------------------------------------------------------\u001b[0m",
      "\u001b[1;31mTypeError\u001b[0m                                 Traceback (most recent call last)",
      "\u001b[1;32m<ipython-input-28-c3d03bb8f72c>\u001b[0m in \u001b[0;36m<module>\u001b[1;34m\u001b[0m\n\u001b[0;32m     26\u001b[0m \u001b[1;31m# So the __str__ defined in object class. Can we overide it?\u001b[0m\u001b[1;33m\u001b[0m\u001b[1;33m\u001b[0m\u001b[1;33m\u001b[0m\u001b[0m\n\u001b[0;32m     27\u001b[0m \u001b[1;33m\u001b[0m\u001b[0m\n\u001b[1;32m---> 28\u001b[1;33m \u001b[1;32mfor\u001b[0m \u001b[0mi\u001b[0m \u001b[1;32min\u001b[0m \u001b[0mjay\u001b[0m\u001b[1;33m:\u001b[0m\u001b[1;33m\u001b[0m\u001b[1;33m\u001b[0m\u001b[0m\n\u001b[0m\u001b[0;32m     29\u001b[0m     \u001b[0mprint\u001b[0m\u001b[1;33m(\u001b[0m\u001b[0mi\u001b[0m\u001b[1;33m)\u001b[0m\u001b[1;33m\u001b[0m\u001b[1;33m\u001b[0m\u001b[0m\n",
      "\u001b[1;31mTypeError\u001b[0m: 'Customer' object is not iterable"
     ]
    }
   ],
   "source": [
    "a=10#It will call \"int\" calss constructor, a refers to int calss data object\n",
    "b=20\n",
    "s=\"python\"# It will call \"str\" class constructor, s refres to the \"str\" class data object\n",
    "s1=\"program\"\n",
    "class Customer:\n",
    "    def __init__(self, name, age):\n",
    "        self.name=name\n",
    "        self.age=age\n",
    "    def __add__(self1, self2):\n",
    "        return self1.name+self2.name\n",
    "    \n",
    "    def __str__(self):\n",
    "        return \"%s,%s\"%(self.name,self.age)\n",
    "    \n",
    "    \n",
    "        \n",
    "jay=Customer(\"Jayaram\", 5)# It will call \"Customer\" class constructor, jay refers to Customer class data object\n",
    "vedha=Customer(\"Vedhanvesh\", 4)# It will call \"Customer\" class constructor, vedha refers to Customer class data object\n",
    "print(a+b)# __add__ method already defined in \"int\" class. it has a summation code\n",
    "print(s+s1)# __add__ method already defined in \"str\" class. it has a concatenation code\n",
    "print(jay+vedha)# __add__ method defined in \"Customer\" class. It's returning 20\n",
    "print(jay)#if we print any object, It will call __str__ method of that class. we are not defined __str__ method in Customer\n",
    "# how it's printing customer object? If the method not defined in class, but we are able to call means, it's defined\n",
    "# in parent class. Do we have a parent class for Customer here?. YES, what is that class? OBJECT.\n",
    "#object is the parent class for each class defined in project. \n",
    "# So the __str__ defined in object class. Can we overide it?\n",
    "\n",
    "for i in jay:\n",
    "    print(i)"
   ]
  },
  {
   "cell_type": "code",
   "execution_count": 1,
   "metadata": {},
   "outputs": [],
   "source": [
    "class Emp:\n",
    "    def __init__(self, name):\n",
    "        self.name=name\n",
    "e1=Emp(\"employee1\")   \n",
    "\"\"\"\n",
    "1. it will call object.__new__(). this method returns data object. data_object\n",
    "2. byusing the data object it will call the construction. data_object.__init__\n",
    "\"\"\""
   ]
  },
  {
   "cell_type": "code",
   "execution_count": 3,
   "metadata": {},
   "outputs": [
    {
     "name": "stdout",
     "output_type": "stream",
     "text": [
      "this is new\n",
      "\n"
     ]
    }
   ],
   "source": [
    "class Emp:\n",
    "    def __new__(cls, *args, **kwargs):\n",
    "        print(\"this is new\")\n",
    "        return None\n",
    "        \n",
    "    def __init__(self, name):\n",
    "        print(\"this is constructor\")\n",
    "        self.name=name\n",
    "e1=Emp(\"employee1\")   \n",
    "\"\"\"\n",
    "1. it will call object.__new__(). this method returns data object. data_object\n",
    "2. byusing the data object it will call the construction. data_object.__init__\n",
    "\"\"\"\n",
    "print()"
   ]
  },
  {
   "cell_type": "code",
   "execution_count": 4,
   "metadata": {},
   "outputs": [
    {
     "name": "stdout",
     "output_type": "stream",
     "text": [
      "this is new\n",
      "this is constructor\n",
      "\n"
     ]
    }
   ],
   "source": [
    "class Emp:\n",
    "    def __new__(cls, *args, **kwargs):\n",
    "        print(\"this is new\")\n",
    "        return object.__new__(cls)\n",
    "        \n",
    "    def __init__(self, name):\n",
    "        print(\"this is constructor\")\n",
    "        self.name=name\n",
    "e1=Emp(\"employee1\")   \n",
    "\"\"\"\n",
    "1. it will call object.__new__(). this method returns data object. data_object\n",
    "2. byusing the data object it will call the construction. data_object.__init__\n",
    "\"\"\"\n",
    "print()"
   ]
  },
  {
   "cell_type": "code",
   "execution_count": 7,
   "metadata": {},
   "outputs": [
    {
     "name": "stdout",
     "output_type": "stream",
     "text": [
      "this is new\n",
      "this is constructor\n",
      "\n"
     ]
    }
   ],
   "source": [
    "class Emp:\n",
    "    def __new__(cls, *x, **y):\n",
    "        print(\"this is new\")\n",
    "        return object.__new__(cls)\n",
    "        \n",
    "    def __init__(self, name):\n",
    "        print(\"this is constructor\")\n",
    "        self.name=name\n",
    "e1=Emp(\"employee1\")   \n",
    "\"\"\"\n",
    "1. it will call object.__new__(). this method returns data object. data_object\n",
    "2. byusing the data object it will call the construction. data_object.__init__\n",
    "\"\"\"\n",
    "print()"
   ]
  },
  {
   "cell_type": "code",
   "execution_count": 11,
   "metadata": {},
   "outputs": [
    {
     "name": "stdout",
     "output_type": "stream",
     "text": [
      "1\n",
      "<__main__.Emp object at 0x0000018FB78C0940>\n",
      "2\n",
      "<__main__.Emp object at 0x0000018FB78C08E0>\n",
      "3\n",
      "<__main__.Emp object at 0x0000018FB78C0460>\n",
      "4\n",
      "<__main__.Emp object at 0x0000018FB78C03D0>\n",
      "object count exceeded\n",
      "None\n",
      "object count exceeded\n",
      "None\n",
      "object count exceeded\n",
      "None\n",
      "object count exceeded\n",
      "None\n",
      "object count exceeded\n",
      "None\n",
      "object count exceeded\n",
      "None\n"
     ]
    }
   ],
   "source": [
    "class Emp:\n",
    "    obj_count =  0\n",
    "    max_obj_count = 4\n",
    "    def __new__(cls, *x, **y):\n",
    "        if cls.obj_count>=cls.max_obj_count:\n",
    "            print(\"object count exceeded\")\n",
    "        else:\n",
    "            cls.obj_count = cls.obj_count+1\n",
    "            print(cls.obj_count)\n",
    "            return object.__new__(cls)\n",
    "    \n",
    "\n",
    "    def __init__(self, name):\n",
    "        self.name=name\n",
    " \n",
    "for i in range(10):\n",
    "    e=Emp(\"Employee\"+str(i))\n",
    "    print(e)"
   ]
  },
  {
   "cell_type": "code",
   "execution_count": 12,
   "metadata": {},
   "outputs": [
    {
     "name": "stdout",
     "output_type": "stream",
     "text": [
      "1\n",
      "<__main__.Emp object at 0x0000018FB761D340>\n",
      "object count exceeded\n",
      "None\n",
      "object count exceeded\n",
      "None\n",
      "object count exceeded\n",
      "None\n",
      "object count exceeded\n",
      "None\n",
      "object count exceeded\n",
      "None\n",
      "object count exceeded\n",
      "None\n",
      "object count exceeded\n",
      "None\n",
      "object count exceeded\n",
      "None\n",
      "object count exceeded\n",
      "None\n"
     ]
    }
   ],
   "source": [
    "# singleton. restrict the class to create only one object\n",
    "class Emp:\n",
    "    obj_count =  0\n",
    "    max_obj_count = 1\n",
    "    def __new__(cls, *x, **y):\n",
    "        if cls.obj_count>=cls.max_obj_count:\n",
    "            print(\"object count exceeded\")\n",
    "        else:\n",
    "            cls.obj_count = cls.obj_count+1\n",
    "            print(cls.obj_count)\n",
    "            return object.__new__(cls)\n",
    "    \n",
    "\n",
    "    def __init__(self, name):\n",
    "        self.name=name\n",
    " \n",
    "for i in range(10):\n",
    "    e=Emp(\"Employee\"+str(i))\n",
    "    print(e)"
   ]
  },
  {
   "cell_type": "code",
   "execution_count": 14,
   "metadata": {},
   "outputs": [
    {
     "name": "stdout",
     "output_type": "stream",
     "text": [
      "<__main__.Emp object at 0x0000018FB7BB2790>\n",
      "<__main__.Emp object at 0x0000018FB7BB2790>\n",
      "<__main__.Emp object at 0x0000018FB7BB2790>\n",
      "<__main__.Emp object at 0x0000018FB7BB2790>\n",
      "<__main__.Emp object at 0x0000018FB7BB2790>\n",
      "<__main__.Emp object at 0x0000018FB7BB2790>\n",
      "<__main__.Emp object at 0x0000018FB7BB2790>\n",
      "<__main__.Emp object at 0x0000018FB7BB2790>\n",
      "<__main__.Emp object at 0x0000018FB7BB2790>\n",
      "<__main__.Emp object at 0x0000018FB7BB2790>\n"
     ]
    }
   ],
   "source": [
    "# singleton. restrict the class to create only one object\n",
    "class Emp:\n",
    "    obj = \"\"\n",
    "    def __new__(cls, *x, **y):\n",
    "        if cls.obj:\n",
    "            return cls.obj\n",
    "        cls.obj = object.__new__(cls)\n",
    "        return cls.obj\n",
    "    \n",
    "\n",
    "    def __init__(self, name):\n",
    "        self.name=name\n",
    " \n",
    "for i in range(10):\n",
    "    e=Emp(\"Employee\"+str(i))\n",
    "    print(e)"
   ]
  },
  {
   "cell_type": "code",
   "execution_count": 15,
   "metadata": {},
   "outputs": [
    {
     "name": "stdout",
     "output_type": "stream",
     "text": [
      "<__main__.Emp object at 0x0000018FB7BB2610>\n",
      "<__main__.Emp object at 0x0000018FB7BB2610>\n",
      "<__main__.Emp object at 0x0000018FB7BB2610>\n",
      "<__main__.Emp object at 0x0000018FB7BB2610>\n",
      "<__main__.Emp object at 0x0000018FB7BB2610>\n",
      "<__main__.Emp object at 0x0000018FB7BB2610>\n",
      "<__main__.Emp object at 0x0000018FB7BB2610>\n",
      "<__main__.Emp object at 0x0000018FB7BB2610>\n",
      "<__main__.Emp object at 0x0000018FB7BB2610>\n",
      "<__main__.Emp object at 0x0000018FB7BB2610>\n"
     ]
    }
   ],
   "source": [
    "# singleton. restrict the class to create only one object\n",
    "class Emp(object):\n",
    "    obj = \"\"\n",
    "    def __new__(cls, *x, **y):\n",
    "        if cls.obj:\n",
    "            return cls.obj\n",
    "        cls.obj = object.__new__(cls)\n",
    "        return cls.obj\n",
    "    \n",
    "\n",
    "    def __init__(self, name):\n",
    "        self.name=name\n",
    " \n",
    "for i in range(10):\n",
    "    e=Emp(\"Employee\"+str(i))\n",
    "    print(e)"
   ]
  },
  {
   "cell_type": "code",
   "execution_count": 17,
   "metadata": {},
   "outputs": [
    {
     "name": "stdout",
     "output_type": "stream",
     "text": [
      "<__main__.Emp object at 0x0000018FB78EB040>\n",
      "<__main__.Emp object at 0x0000018FB78EB040>\n",
      "<__main__.Emp object at 0x0000018FB78EB040>\n",
      "<__main__.Emp object at 0x0000018FB78EB040>\n",
      "<__main__.Emp object at 0x0000018FB78EB040>\n",
      "<__main__.Emp object at 0x0000018FB78EB040>\n",
      "<__main__.Emp object at 0x0000018FB78EB040>\n",
      "<__main__.Emp object at 0x0000018FB78EB040>\n",
      "<__main__.Emp object at 0x0000018FB78EB040>\n",
      "<__main__.Emp object at 0x0000018FB78EB040>\n"
     ]
    }
   ],
   "source": [
    "# singleton. restrict the class to create only one object\n",
    "class Emp(object):\n",
    "    obj = \"\"\n",
    "    def __new__(cls, *x, **y):\n",
    "        if cls.obj:\n",
    "            return cls.obj\n",
    "        cls.obj = super(Emp,cls).__new__(cls)\n",
    "        return cls.obj\n",
    "    \n",
    "\n",
    "    def __init__(self, name):\n",
    "        self.name=name\n",
    " \n",
    "for i in range(10):\n",
    "    e=Emp(\"Employee\"+str(i))\n",
    "    print(e)"
   ]
  },
  {
   "cell_type": "code",
   "execution_count": 19,
   "metadata": {},
   "outputs": [
    {
     "name": "stdout",
     "output_type": "stream",
     "text": [
      "guduru Jayaram\n",
      "guduru Vedhanvesh\n"
     ]
    }
   ],
   "source": [
    "class Emp:\n",
    "    def __init__(self, fn, ln):\n",
    "        self.ln=ln\n",
    "        self.fn=fn\n",
    "        self.name=self.ln+\" \"+self.fn\n",
    "        \n",
    "jay=Emp(\"Jayaram\", \"guduru\")\n",
    "vedha = Emp(\"Vedhanvesh\", \"guduru\")\n",
    "print(jay.name)\n",
    "print(vedha.name)"
   ]
  },
  {
   "cell_type": "code",
   "execution_count": 20,
   "metadata": {},
   "outputs": [
    {
     "name": "stdout",
     "output_type": "stream",
     "text": [
      "guduru Jayaram\n",
      "guduru Vedhanvesh\n",
      "guduru Jayaram\n"
     ]
    }
   ],
   "source": [
    "class Emp:\n",
    "    def __init__(self, fn, ln):\n",
    "        self.ln=ln\n",
    "        self.fn=fn\n",
    "        self.name=self.ln+\" \"+self.fn\n",
    "        \n",
    "jay=Emp(\"Jayaram\", \"guduru\")\n",
    "vedha = Emp(\"Vedhanvesh\", \"guduru\")\n",
    "print(jay.name)\n",
    "print(vedha.name)\n",
    "jay.ln=\"GUDURU\"\n",
    "print(jay.name)"
   ]
  },
  {
   "cell_type": "code",
   "execution_count": 21,
   "metadata": {},
   "outputs": [
    {
     "name": "stdout",
     "output_type": "stream",
     "text": [
      "guduru Jayaram\n",
      "guduru Vedhanvesh\n",
      "GUDURU Jayaram\n"
     ]
    }
   ],
   "source": [
    "class Emp:\n",
    "    def __init__(self, fn, ln):\n",
    "        self.ln=ln\n",
    "        self.fn=fn\n",
    "        #self.name=self.ln+\" \"+self.fn\n",
    "    def get_name(self):\n",
    "        return self.ln+\" \"+self.fn\n",
    "        \n",
    "jay=Emp(\"Jayaram\", \"guduru\")\n",
    "vedha = Emp(\"Vedhanvesh\", \"guduru\")\n",
    "print(jay.get_name())\n",
    "print(vedha.get_name())\n",
    "jay.ln=\"GUDURU\"\n",
    "print(jay.get_name())"
   ]
  },
  {
   "cell_type": "code",
   "execution_count": 22,
   "metadata": {},
   "outputs": [
    {
     "name": "stdout",
     "output_type": "stream",
     "text": [
      "guduru Jayaram\n",
      "guduru Vedhanvesh\n",
      "GUDURU Jayaram\n"
     ]
    }
   ],
   "source": [
    "class Emp:\n",
    "    def __init__(self, fn, ln):\n",
    "        self.ln=ln\n",
    "        self.fn=fn\n",
    "        #self.name=self.ln+\" \"+self.fn\n",
    "    def name(self):\n",
    "        return self.ln+\" \"+self.fn\n",
    "        \n",
    "jay=Emp(\"Jayaram\", \"guduru\")\n",
    "vedha = Emp(\"Vedhanvesh\", \"guduru\")\n",
    "print(jay.name())\n",
    "print(vedha.name())\n",
    "jay.ln=\"GUDURU\"\n",
    "print(jay.name())"
   ]
  },
  {
   "cell_type": "code",
   "execution_count": 23,
   "metadata": {},
   "outputs": [
    {
     "name": "stdout",
     "output_type": "stream",
     "text": [
      "guduru Jayaram\n",
      "guduru Vedhanvesh\n",
      "GUDURU Jayaram\n",
      "Jayaram GUDURU <bound method Emp.name of <__main__.Emp object at 0x0000018FB78C0A30>>\n"
     ]
    }
   ],
   "source": [
    "class Emp:\n",
    "    def __init__(self, fn, ln):\n",
    "        self.ln=ln\n",
    "        self.fn=fn\n",
    "        #self.name=self.ln+\" \"+self.fn\n",
    "    def name(self):\n",
    "        return self.ln+\" \"+self.fn\n",
    "        \n",
    "jay=Emp(\"Jayaram\", \"guduru\")\n",
    "vedha = Emp(\"Vedhanvesh\", \"guduru\")\n",
    "print(jay.name())\n",
    "print(vedha.name())\n",
    "jay.ln=\"GUDURU\"\n",
    "print(jay.name())\n",
    "print(jay.fn, jay.ln, jay.name)"
   ]
  },
  {
   "cell_type": "code",
   "execution_count": 27,
   "metadata": {},
   "outputs": [
    {
     "name": "stdout",
     "output_type": "stream",
     "text": [
      "Jayaram guduru\n",
      "Jayaram guduru\n",
      "Jayaram GUDURU Jayaram guduru\n"
     ]
    }
   ],
   "source": [
    "class Emp:\n",
    "    def __init__(self, fn, ln):\n",
    "        self.ln=ln\n",
    "        self.fn=fn\n",
    "        self.name=self.fn+\" \"+self.ln\n",
    "        \n",
    "#     @property\n",
    "#     def name(self):\n",
    "#         return self.fn+\" \"+self.ln\n",
    "        \n",
    "jay=Emp(\"Jayaram\", \"guduru\")\n",
    "print(jay.name)\n",
    "jay.ln=\"GUDURU\"\n",
    "print(jay.name)\n",
    "print(jay.fn, jay.ln, jay.name)"
   ]
  },
  {
   "cell_type": "code",
   "execution_count": 28,
   "metadata": {},
   "outputs": [
    {
     "name": "stdout",
     "output_type": "stream",
     "text": [
      "Jayaram guduru\n",
      "Jayaram GUDURU\n",
      "Jayaram GUDURU Jayaram GUDURU\n"
     ]
    }
   ],
   "source": [
    "class Emp:\n",
    "    def __init__(self, fn, ln):\n",
    "        self.ln=ln\n",
    "        self.fn=fn\n",
    "        #self.name=self.fn+\" \"+self.ln\n",
    "        \n",
    "    def name(self):\n",
    "        return self.fn+\" \"+self.ln\n",
    "        \n",
    "jay=Emp(\"Jayaram\", \"guduru\")\n",
    "print(jay.name())\n",
    "jay.ln=\"GUDURU\"\n",
    "print(jay.name())\n",
    "print(jay.fn, jay.ln, jay.name())"
   ]
  },
  {
   "cell_type": "code",
   "execution_count": 29,
   "metadata": {},
   "outputs": [
    {
     "name": "stdout",
     "output_type": "stream",
     "text": [
      "<bound method Emp.name of <__main__.Emp object at 0x0000018FB78C0250>>\n",
      "<bound method Emp.name of <__main__.Emp object at 0x0000018FB78C0250>>\n",
      "Jayaram GUDURU <bound method Emp.name of <__main__.Emp object at 0x0000018FB78C0250>>\n"
     ]
    }
   ],
   "source": [
    "class Emp:\n",
    "    def __init__(self, fn, ln):\n",
    "        self.ln=ln\n",
    "        self.fn=fn\n",
    "        #self.name=self.fn+\" \"+self.ln\n",
    "        \n",
    "    def name(self):\n",
    "        return self.fn+\" \"+self.ln\n",
    "        \n",
    "jay=Emp(\"Jayaram\", \"guduru\")\n",
    "print(jay.name)\n",
    "jay.ln=\"GUDURU\"\n",
    "print(jay.name)\n",
    "print(jay.fn, jay.ln, jay.name)"
   ]
  },
  {
   "cell_type": "code",
   "execution_count": 30,
   "metadata": {},
   "outputs": [
    {
     "name": "stdout",
     "output_type": "stream",
     "text": [
      "calling name\n",
      "Jayaram guduru\n",
      "calling name\n",
      "Jayaram GUDURU\n",
      "calling name\n",
      "Jayaram GUDURU Jayaram GUDURU\n"
     ]
    }
   ],
   "source": [
    "class Emp:\n",
    "    def __init__(self, fn, ln):\n",
    "        self.ln=ln\n",
    "        self.fn=fn\n",
    "        #self.name=self.fn+\" \"+self.ln\n",
    "      \n",
    "    @property\n",
    "    def name(self):\n",
    "        print(\"calling name\")\n",
    "        return self.fn+\" \"+self.ln\n",
    "        \n",
    "jay=Emp(\"Jayaram\", \"guduru\")\n",
    "print(jay.name)\n",
    "jay.ln=\"GUDURU\"\n",
    "print(jay.name)\n",
    "print(jay.fn, jay.ln, jay.name)"
   ]
  },
  {
   "cell_type": "code",
   "execution_count": 31,
   "metadata": {},
   "outputs": [
    {
     "name": "stdout",
     "output_type": "stream",
     "text": [
      "<bound method Emp.name of <__main__.Emp object at 0x0000018FB78C0820>>\n",
      "<bound method Emp.name of <__main__.Emp object at 0x0000018FB78C0820>>\n",
      "Jayaram GUDURU <bound method Emp.name of <__main__.Emp object at 0x0000018FB78C0820>>\n"
     ]
    }
   ],
   "source": [
    "class Emp:\n",
    "    def __init__(self, fn, ln):\n",
    "        self.ln=ln\n",
    "        self.fn=fn\n",
    "        #self.name=self.fn+\" \"+self.ln\n",
    "      \n",
    "    #@property\n",
    "    def name(self):\n",
    "        print(\"calling name\")\n",
    "        return self.fn+\" \"+self.ln\n",
    "        \n",
    "jay=Emp(\"Jayaram\", \"guduru\")\n",
    "print(jay.name)\n",
    "jay.ln=\"GUDURU\"\n",
    "print(jay.name)\n",
    "print(jay.fn, jay.ln, jay.name)"
   ]
  },
  {
   "cell_type": "code",
   "execution_count": 33,
   "metadata": {},
   "outputs": [],
   "source": [
    "class Emp:\n",
    "    def __init__(self, fn):\n",
    "        print(\"assigning fn\")\n",
    "        self.fn=fn\n",
    "        print(\"done\")\n",
    "        \n",
    "    def __setattr__(self, attribute, vlaue):\n",
    "        print(\"calling set attr\")\n",
    "        super(Emp, self).__setattr__(attribute, value)\n",
    "        "
   ]
  },
  {
   "cell_type": "code",
   "execution_count": 32,
   "metadata": {},
   "outputs": [
    {
     "name": "stdout",
     "output_type": "stream",
     "text": [
      "['__class__', '__delattr__', '__dict__', '__dir__', '__doc__', '__eq__', '__format__', '__ge__', '__getattribute__', '__gt__', '__hash__', '__init__', '__init_subclass__', '__le__', '__lt__', '__module__', '__ne__', '__new__', '__reduce__', '__reduce_ex__', '__repr__', '__setattr__', '__sizeof__', '__str__', '__subclasshook__', '__weakref__', 'name']\n"
     ]
    }
   ],
   "source": [
    "print(dir(Emp))"
   ]
  },
  {
   "cell_type": "code",
   "execution_count": 35,
   "metadata": {},
   "outputs": [
    {
     "name": "stdout",
     "output_type": "stream",
     "text": [
      "assigning fn\n",
      "calling set attr\n",
      "done\n"
     ]
    }
   ],
   "source": [
    "class Emp:\n",
    "    def __init__(self, fn):\n",
    "        print(\"assigning fn\")\n",
    "        self.fn=fn\n",
    "        print(\"done\")\n",
    "        \n",
    "    def __setattr__(self, attribute, value):\n",
    "        print(\"calling set attr\")\n",
    "        super(Emp, self).__setattr__(attribute, value)\n",
    "e1=Emp(\"jayaram\")"
   ]
  },
  {
   "cell_type": "code",
   "execution_count": 36,
   "metadata": {},
   "outputs": [
    {
     "name": "stdout",
     "output_type": "stream",
     "text": [
      "assigning fn\n",
      "calling set attr\n",
      "done\n"
     ]
    }
   ],
   "source": [
    "class Emp:\n",
    "    def __init__(self, fn):\n",
    "        print(\"assigning fn\")\n",
    "        self.fn=fn\n",
    "        print(\"done\")\n",
    "        \n",
    "    def __setattr__(self, attribute, value):\n",
    "        print(\"calling set attr\")\n",
    "        super(Emp, self).__setattr__(attribute, value)\n",
    "        \n",
    "    def __getattribute__(self, attribute):\n",
    "        print(\"calling getter\")\n",
    "        return self.attribute\n",
    "        \n",
    "    def get(self):\n",
    "        return self.fn\n",
    "e1=Emp(\"jayaram\")\n"
   ]
  },
  {
   "cell_type": "code",
   "execution_count": null,
   "metadata": {},
   "outputs": [
    {
     "name": "stdout",
     "output_type": "stream",
     "text": [
      "assigning fn\n",
      "calling set attr\n",
      "done\n",
      "calling getter\n",
      "calling getter\n",
      "calling getter\n",
      "calling getter\n",
      "calling getter\n",
      "calling getter\n",
      "calling getter\n",
      "calling getter\n",
      "calling getter\n",
      "calling getter\n",
      "calling getter\n",
      "calling getter\n",
      "calling getter\n",
      "calling getter\n",
      "calling getter\n",
      "calling getter\n",
      "calling getter\n",
      "calling getter\n",
      "calling getter\n",
      "calling getter\n",
      "calling getter\n",
      "calling getter\n",
      "calling getter\n",
      "calling getter\n",
      "calling getter\n",
      "calling getter\n",
      "calling getter\n",
      "calling getter\n",
      "calling getter\n",
      "calling getter\n",
      "calling getter\n",
      "calling getter\n",
      "calling getter\n",
      "calling getter\n",
      "calling getter\n",
      "calling getter\n",
      "calling getter\n",
      "calling getter\n",
      "calling getter\n",
      "calling getter\n",
      "calling getter\n",
      "calling getter\n",
      "calling getter\n",
      "calling getter\n",
      "calling getter\n",
      "calling getter\n",
      "calling getter\n",
      "calling getter\n",
      "calling getter\n",
      "calling getter\n",
      "calling getter\n",
      "calling getter\n",
      "calling getter\n",
      "calling getter\n",
      "calling getter\n",
      "calling getter\n",
      "calling getter\n",
      "calling getter\n",
      "calling getter\n",
      "calling getter\n",
      "calling getter\n",
      "calling getter\n",
      "calling getter\n",
      "calling getter\n",
      "calling getter\n",
      "calling getter\n",
      "calling getter\n",
      "calling getter\n",
      "calling getter\n",
      "calling getter\n",
      "calling getter\n",
      "calling getter\n",
      "calling getter\n",
      "calling getter\n",
      "calling getter\n",
      "calling getter\n",
      "calling getter\n",
      "calling getter\n",
      "calling getter\n",
      "calling getter\n",
      "calling getter\n",
      "calling getter\n",
      "calling getter\n",
      "calling getter\n",
      "calling getter\n",
      "calling getter\n",
      "calling getter\n",
      "calling getter\n",
      "calling getter\n",
      "calling getter\n",
      "calling getter\n",
      "calling getter\n",
      "calling getter\n",
      "calling getter\n",
      "calling getter\n",
      "calling getter\n",
      "calling getter\n",
      "calling getter\n",
      "calling getter\n",
      "calling getter\n",
      "calling getter\n",
      "calling getter\n",
      "calling getter\n",
      "calling getter\n",
      "calling getter\n",
      "calling getter\n",
      "calling getter\n",
      "calling getter\n",
      "calling getter\n",
      "calling getter\n",
      "calling getter\n",
      "calling getter\n",
      "calling getter\n",
      "calling getter\n",
      "calling getter\n",
      "calling getter\n",
      "calling getter\n",
      "calling getter\n",
      "calling getter\n",
      "calling getter\n",
      "calling getter\n",
      "calling getter\n",
      "calling getter\n",
      "calling getter\n",
      "calling getter\n",
      "calling getter\n",
      "calling getter\n",
      "calling getter\n",
      "calling getter\n",
      "calling getter\n",
      "calling getter\n",
      "calling getter\n",
      "calling getter\n",
      "calling getter\n",
      "calling getter\n",
      "calling getter\n",
      "calling getter\n",
      "calling getter\n",
      "calling getter\n",
      "calling getter\n",
      "calling getter\n",
      "calling getter\n",
      "calling getter\n",
      "calling getter\n",
      "calling getter\n",
      "calling getter\n",
      "calling getter\n",
      "calling getter\n",
      "calling getter\n",
      "calling getter\n",
      "calling getter\n",
      "calling getter\n",
      "calling getter\n",
      "calling getter\n",
      "calling getter\n",
      "calling getter\n",
      "calling getter\n",
      "calling getter\n",
      "calling getter\n",
      "calling getter\n",
      "calling getter\n",
      "calling getter\n",
      "calling getter\n",
      "calling getter\n",
      "calling getter\n",
      "calling getter\n",
      "calling getter\n",
      "calling getter\n",
      "calling getter\n",
      "calling getter\n",
      "calling getter\n",
      "calling getter\n",
      "calling getter\n",
      "calling getter\n",
      "calling getter\n",
      "calling getter\n",
      "calling getter\n",
      "calling getter\n",
      "calling getter\n",
      "calling getter\n",
      "calling getter\n",
      "calling getter\n",
      "calling getter\n",
      "calling getter\n",
      "calling getter\n",
      "calling getter\n",
      "calling getter\n",
      "calling getter\n",
      "calling getter\n",
      "calling getter\n",
      "calling getter\n",
      "calling getter\n",
      "calling getter\n",
      "calling getter\n",
      "calling getter\n",
      "calling getter\n",
      "calling getter\n",
      "calling getter\n",
      "calling getter\n",
      "calling getter\n",
      "calling getter\n",
      "calling getter\n",
      "calling getter\n",
      "calling getter\n",
      "calling getter\n",
      "calling getter\n",
      "calling getter\n",
      "calling getter\n",
      "calling getter\n",
      "calling getter\n",
      "calling getter\n",
      "calling getter\n",
      "calling getter\n",
      "calling getter\n",
      "calling getter\n",
      "calling getter\n",
      "calling getter\n",
      "calling getter\n",
      "calling getter\n",
      "calling getter\n",
      "calling getter\n",
      "calling getter\n",
      "calling getter\n",
      "calling getter\n",
      "calling getter\n",
      "calling getter\n",
      "calling getter\n",
      "calling getter\n",
      "calling getter\n",
      "calling getter\n",
      "calling getter\n",
      "calling getter\n",
      "calling getter\n",
      "calling getter\n",
      "calling getter\n",
      "calling getter\n",
      "calling getter\n",
      "calling getter\n",
      "calling getter\n",
      "calling getter\n",
      "calling getter\n",
      "calling getter\n",
      "calling getter\n",
      "calling getter\n",
      "calling getter\n",
      "calling getter\n",
      "calling getter\n",
      "calling getter\n",
      "calling getter\n",
      "calling getter\n",
      "calling getter\n",
      "calling getter\n",
      "calling getter\n",
      "calling getter\n",
      "calling getter\n",
      "calling getter\n",
      "calling getter\n",
      "calling getter\n",
      "calling getter\n",
      "calling getter\n",
      "calling getter\n",
      "calling getter\n",
      "calling getter\n",
      "calling getter\n",
      "calling getter\n",
      "calling getter\n",
      "calling getter\n",
      "calling getter\n",
      "calling getter\n",
      "calling getter\n",
      "calling getter\n",
      "calling getter\n",
      "calling getter\n",
      "calling getter\n",
      "calling getter\n",
      "calling getter\n",
      "calling getter\n",
      "calling getter\n",
      "calling getter\n",
      "calling getter\n",
      "calling getter\n",
      "calling getter\n",
      "calling getter\n",
      "calling getter\n",
      "calling getter\n",
      "calling getter\n",
      "calling getter\n",
      "calling getter\n",
      "calling getter\n",
      "calling getter\n",
      "calling getter\n",
      "calling getter\n",
      "calling getter\n",
      "calling getter\n",
      "calling getter\n",
      "calling getter\n",
      "calling getter\n",
      "calling getter\n",
      "calling getter\n",
      "calling getter\n",
      "calling getter\n",
      "calling getter\n",
      "calling getter\n",
      "calling getter\n",
      "calling getter\n",
      "calling getter\n",
      "calling getter\n",
      "calling getter\n",
      "calling getter\n",
      "calling getter\n",
      "calling getter\n",
      "calling getter\n",
      "calling getter\n",
      "calling getter\n",
      "calling getter\n",
      "calling getter\n",
      "calling getter\n",
      "calling getter\n",
      "calling getter\n",
      "calling getter\n",
      "calling getter\n",
      "calling getter\n",
      "calling getter\n",
      "calling getter\n",
      "calling getter\n",
      "calling getter\n",
      "calling getter\n",
      "calling getter\n",
      "calling getter\n",
      "calling getter\n",
      "calling getter\n",
      "calling getter\n",
      "calling getter\n",
      "calling getter\n",
      "calling getter\n",
      "calling getter\n",
      "calling getter\n",
      "calling getter\n",
      "calling getter\n",
      "calling getter\n",
      "calling getter\n",
      "calling getter\n",
      "calling getter\n",
      "calling getter\n",
      "calling getter\n",
      "calling getter\n",
      "calling getter\n",
      "calling getter\n",
      "calling getter\n",
      "calling getter\n",
      "calling getter\n",
      "calling getter\n",
      "calling getter\n",
      "calling getter\n",
      "calling getter\n",
      "calling getter\n",
      "calling getter\n",
      "calling getter\n",
      "calling getter\n",
      "calling getter\n",
      "calling getter\n",
      "calling getter\n",
      "calling getter\n",
      "calling getter\n",
      "calling getter\n",
      "calling getter\n",
      "calling getter\n",
      "calling getter\n",
      "calling getter\n",
      "calling getter\n",
      "calling getter\n",
      "calling getter\n",
      "calling getter\n",
      "calling getter\n",
      "calling getter\n",
      "calling getter\n",
      "calling getter\n",
      "calling getter\n",
      "calling getter\n",
      "calling getter\n",
      "calling getter\n",
      "calling getter\n",
      "calling getter\n",
      "calling getter\n",
      "calling getter\n",
      "calling getter\n",
      "calling getter\n",
      "calling getter\n",
      "calling getter\n",
      "calling getter\n",
      "calling getter\n",
      "calling getter\n",
      "calling getter\n",
      "calling getter\n",
      "calling getter\n",
      "calling getter\n",
      "calling getter\n",
      "calling getter\n",
      "calling getter\n",
      "calling getter\n",
      "calling getter\n",
      "calling getter\n",
      "calling getter\n",
      "calling getter\n",
      "calling getter\n",
      "calling getter\n",
      "calling getter\n",
      "calling getter\n",
      "calling getter\n",
      "calling getter\n",
      "calling getter\n",
      "calling getter\n",
      "calling getter\n",
      "calling getter\n",
      "calling getter\n",
      "calling getter\n",
      "calling getter\n",
      "calling getter\n",
      "calling getter\n",
      "calling getter\n",
      "calling getter\n",
      "calling getter\n",
      "calling getter\n",
      "calling getter\n",
      "calling getter\n",
      "calling getter\n",
      "calling getter\n",
      "calling getter\n",
      "calling getter\n",
      "calling getter\n",
      "calling getter\n",
      "calling getter\n",
      "calling getter\n",
      "calling getter\n",
      "calling getter\n",
      "calling getter\n",
      "calling getter\n",
      "calling getter\n",
      "calling getter\n",
      "calling getter\n",
      "calling getter\n",
      "calling getter\n",
      "calling getter\n",
      "calling getter\n",
      "calling getter\n",
      "calling getter\n",
      "calling getter\n",
      "calling getter\n",
      "calling getter\n",
      "calling getter\n",
      "calling getter\n",
      "calling getter\n",
      "calling getter\n",
      "calling getter\n",
      "calling getter\n",
      "calling getter\n",
      "calling getter\n",
      "calling getter\n",
      "calling getter\n",
      "calling getter\n",
      "calling getter\n",
      "calling getter\n",
      "calling getter\n",
      "calling getter\n",
      "calling getter\n",
      "calling getter\n",
      "calling getter\n",
      "calling getter\n",
      "calling getter\n",
      "calling getter\n",
      "calling getter\n",
      "calling getter\n",
      "calling getter\n",
      "calling getter\n",
      "calling getter\n",
      "calling getter\n",
      "calling getter\n",
      "calling getter\n",
      "calling getter\n",
      "calling getter\n",
      "calling getter\n",
      "calling getter\n",
      "calling getter\n",
      "calling getter\n",
      "calling getter\n",
      "calling getter\n",
      "calling getter\n",
      "calling getter\n",
      "calling getter\n",
      "calling getter\n",
      "calling getter\n",
      "calling getter\n",
      "calling getter\n",
      "calling getter\n",
      "calling getter\n",
      "calling getter\n",
      "calling getter\n",
      "calling getter\n",
      "calling getter\n",
      "calling getter\n",
      "calling getter\n",
      "calling getter\n",
      "calling getter\n",
      "calling getter\n",
      "calling getter\n",
      "calling getter\n",
      "calling getter\n",
      "calling getter\n",
      "calling getter\n",
      "calling getter\n",
      "calling getter\n",
      "calling getter\n",
      "calling getter\n",
      "calling getter\n",
      "calling getter\n",
      "calling getter\n",
      "calling getter\n",
      "calling getter\n",
      "calling getter\n",
      "calling getter\n",
      "calling getter\n",
      "calling getter\n",
      "calling getter\n",
      "calling getter\n",
      "calling getter\n",
      "calling getter\n",
      "calling getter\n",
      "calling getter\n",
      "calling getter\n",
      "calling getter\n",
      "calling getter\n",
      "calling getter\n",
      "calling getter\n",
      "calling getter\n",
      "calling getter\n",
      "calling getter\n",
      "calling getter\n",
      "calling getter\n",
      "calling getter\n",
      "calling getter\n",
      "calling getter\n",
      "calling getter\n",
      "calling getter\n",
      "calling getter\n",
      "calling getter\n",
      "calling getter\n",
      "calling getter\n",
      "calling getter\n",
      "calling getter\n",
      "calling getter\n",
      "calling getter\n",
      "calling getter\n",
      "calling getter\n",
      "calling getter\n",
      "calling getter\n",
      "calling getter\n",
      "calling getter\n",
      "calling getter\n",
      "calling getter\n",
      "calling getter\n",
      "calling getter\n",
      "calling getter\n",
      "calling getter\n",
      "calling getter\n",
      "calling getter\n",
      "calling getter\n",
      "calling getter\n",
      "calling getter\n",
      "calling getter\n",
      "calling getter\n",
      "calling getter\n",
      "calling getter\n",
      "calling getter\n",
      "calling getter\n",
      "calling getter\n",
      "calling getter\n",
      "calling getter\n",
      "calling getter\n",
      "calling getter\n",
      "calling getter\n",
      "calling getter\n",
      "calling getter\n",
      "calling getter\n",
      "calling getter\n",
      "calling getter\n",
      "calling getter\n",
      "calling getter\n",
      "calling getter\n",
      "calling getter\n",
      "calling getter\n",
      "calling getter\n",
      "calling getter\n",
      "calling getter\n",
      "calling getter\n",
      "calling getter\n",
      "calling getter\n",
      "calling getter\n",
      "calling getter\n",
      "calling getter\n",
      "calling getter\n",
      "calling getter\n",
      "calling getter\n",
      "calling getter\n",
      "calling getter\n",
      "calling getter\n",
      "calling getter\n",
      "calling getter\n",
      "calling getter\n",
      "calling getter\n",
      "calling getter\n",
      "calling getter\n",
      "calling getter\n",
      "calling getter\n",
      "calling getter\n",
      "calling getter\n",
      "calling getter\n",
      "calling getter\n",
      "calling getter\n",
      "calling getter\n",
      "calling getter\n",
      "calling getter\n",
      "calling getter\n",
      "calling getter\n",
      "calling getter\n",
      "calling getter\n",
      "calling getter\n",
      "calling getter\n",
      "calling getter\n",
      "calling getter\n",
      "calling getter\n",
      "calling getter\n",
      "calling getter\n",
      "calling getter\n",
      "calling getter\n",
      "calling getter\n",
      "calling getter\n",
      "calling getter\n",
      "calling getter\n",
      "calling getter\n",
      "calling getter\n",
      "calling getter\n",
      "calling getter\n",
      "calling getter\n",
      "calling getter\n",
      "calling getter\n",
      "calling getter\n",
      "calling getter\n",
      "calling getter\n",
      "calling getter\n",
      "calling getter\n",
      "calling getter\n",
      "calling getter\n",
      "calling getter\n",
      "calling getter\n",
      "calling getter\n",
      "calling getter\n",
      "calling getter\n",
      "calling getter\n",
      "calling getter\n",
      "calling getter\n",
      "calling getter\n",
      "calling getter\n",
      "calling getter\n",
      "calling getter\n",
      "calling getter\n",
      "calling getter\n",
      "calling getter\n",
      "calling getter\n",
      "calling getter\n",
      "calling getter\n",
      "calling getter\n",
      "calling getter\n",
      "calling getter\n",
      "calling getter\n",
      "calling getter\n",
      "calling getter\n",
      "calling getter\n",
      "calling getter\n",
      "calling getter\n",
      "calling getter\n",
      "calling getter\n",
      "calling getter\n",
      "calling getter\n",
      "calling getter\n",
      "calling getter\n",
      "calling getter\n",
      "calling getter\n",
      "calling getter\n",
      "calling getter\n",
      "calling getter\n",
      "calling getter\n",
      "calling getter\n",
      "calling getter\n",
      "calling getter\n",
      "calling getter\n",
      "calling getter\n",
      "calling getter\n",
      "calling getter\n",
      "calling getter\n",
      "calling getter\n",
      "calling getter\n",
      "calling getter\n",
      "calling getter\n",
      "calling getter\n",
      "calling getter\n",
      "calling getter\n",
      "calling getter\n",
      "calling getter\n",
      "calling getter\n",
      "calling getter\n",
      "calling getter\n",
      "calling getter\n",
      "calling getter\n",
      "calling getter\n",
      "calling getter\n",
      "calling getter\n",
      "calling getter\n",
      "calling getter\n",
      "calling getter\n",
      "calling getter\n",
      "calling getter\n",
      "calling getter\n",
      "calling getter\n",
      "calling getter\n",
      "calling getter\n",
      "calling getter\n",
      "calling getter\n",
      "calling getter\n",
      "calling getter\n",
      "calling getter\n",
      "calling getter\n",
      "calling getter\n",
      "calling getter\n",
      "calling getter\n",
      "calling getter\n",
      "calling getter\n",
      "calling getter\n",
      "calling getter\n",
      "calling getter\n",
      "calling getter\n",
      "calling getter\n",
      "calling getter\n",
      "calling getter\n",
      "calling getter\n",
      "calling getter\n",
      "calling getter\n",
      "calling getter\n",
      "calling getter\n",
      "calling getter\n",
      "calling getter\n",
      "calling getter\n",
      "calling getter\n",
      "calling getter\n",
      "calling getter\n",
      "calling getter\n",
      "calling getter\n",
      "calling getter\n",
      "calling getter\n",
      "calling getter\n",
      "calling getter\n",
      "calling getter\n",
      "calling getter\n",
      "calling getter\n",
      "calling getter\n",
      "calling getter\n",
      "calling getter\n",
      "calling getter\n",
      "calling getter\n",
      "calling getter\n",
      "calling getter\n",
      "calling getter\n",
      "calling getter\n",
      "calling getter\n",
      "calling getter\n",
      "calling getter\n",
      "calling getter\n",
      "calling getter\n",
      "calling getter\n",
      "calling getter\n",
      "calling getter\n",
      "calling getter\n",
      "calling getter\n",
      "calling getter\n",
      "calling getter\n",
      "calling getter\n",
      "calling getter\n",
      "calling getter\n",
      "calling getter\n",
      "calling getter\n",
      "calling getter\n",
      "calling getter\n",
      "calling getter\n",
      "calling getter\n",
      "calling getter\n",
      "calling getter\n",
      "calling getter\n",
      "calling getter\n",
      "calling getter\n",
      "calling getter\n",
      "calling getter\n",
      "calling getter\n",
      "calling getter\n",
      "calling getter\n",
      "calling getter\n",
      "calling getter\n",
      "calling getter\n",
      "calling getter\n",
      "calling getter\n",
      "calling getter\n",
      "calling getter\n",
      "calling getter\n",
      "calling getter\n",
      "calling getter\n",
      "calling getter\n",
      "calling getter\n",
      "calling getter\n",
      "calling getter\n",
      "calling getter\n",
      "calling getter\n",
      "calling getter\n",
      "calling getter\n",
      "calling getter\n",
      "calling getter\n",
      "calling getter\n",
      "calling getter\n",
      "calling getter\n",
      "calling getter\n",
      "calling getter\n",
      "calling getter\n",
      "calling getter\n",
      "calling getter\n",
      "calling getter\n",
      "calling getter\n",
      "calling getter\n",
      "calling getter\n",
      "calling getter\n",
      "calling getter\n",
      "calling getter\n",
      "calling getter\n",
      "calling getter\n",
      "calling getter\n",
      "calling getter\n",
      "calling getter\n",
      "calling getter\n",
      "calling getter\n",
      "calling getter\n",
      "calling getter\n",
      "calling getter\n",
      "calling getter\n",
      "calling getter\n",
      "calling getter\n",
      "calling getter\n",
      "calling getter\n",
      "calling getter\n",
      "calling getter\n",
      "calling getter\n",
      "calling getter\n",
      "calling getter\n",
      "calling getter\n",
      "calling getter\n",
      "calling getter\n",
      "calling getter\n",
      "calling getter\n",
      "calling getter\n",
      "calling getter\n",
      "calling getter\n",
      "calling getter\n",
      "calling getter\n",
      "calling getter\n",
      "calling getter\n",
      "calling getter\n",
      "calling getter\n",
      "calling getter\n",
      "calling getter\n",
      "calling getter\n",
      "calling getter\n",
      "calling getter\n",
      "calling getter\n",
      "calling getter\n",
      "calling getter\n",
      "calling getter\n",
      "calling getter\n",
      "calling getter\n",
      "calling getter\n",
      "calling getter\n",
      "calling getter\n",
      "calling getter\n",
      "calling getter\n",
      "calling getter\n",
      "calling getter\n",
      "calling getter\n",
      "calling getter\n",
      "calling getter\n",
      "calling getter\n",
      "calling getter\n",
      "calling getter\n",
      "calling getter\n",
      "calling getter\n",
      "calling getter\n",
      "calling getter\n",
      "calling getter\n",
      "calling getter\n",
      "calling getter\n",
      "calling getter\n",
      "calling getter\n",
      "calling getter\n",
      "calling getter\n",
      "calling getter\n",
      "calling getter\n",
      "calling getter\n",
      "calling getter\n",
      "calling getter\n",
      "calling getter\n",
      "calling getter\n",
      "calling getter\n",
      "calling getter\n",
      "calling getter\n",
      "calling getter\n",
      "calling getter\n",
      "calling getter\n",
      "calling getter\n",
      "calling getter\n",
      "calling getter\n",
      "calling getter\n",
      "calling getter\n",
      "calling getter\n",
      "calling getter\n",
      "calling getter\n",
      "calling getter\n",
      "calling getter\n",
      "calling getter\n",
      "calling getter\n",
      "calling getter\n",
      "calling getter\n",
      "calling getter\n",
      "calling getter\n",
      "calling getter\n",
      "calling getter\n",
      "calling getter\n",
      "calling getter\n",
      "calling getter\n",
      "calling getter\n",
      "calling getter\n",
      "calling getter\n",
      "calling getter\n",
      "calling getter\n",
      "calling getter\n",
      "calling getter\n",
      "calling getter\n",
      "calling getter\n",
      "calling getter\n",
      "calling getter\n",
      "calling getter\n",
      "calling getter\n",
      "calling getter\n",
      "calling getter\n",
      "calling getter\n",
      "calling getter\n",
      "calling getter\n",
      "calling getter\n",
      "calling getter\n",
      "calling getter\n",
      "calling getter\n",
      "calling getter\n",
      "calling getter\n",
      "calling getter\n",
      "calling getter\n",
      "calling getter\n",
      "calling getter\n",
      "calling getter\n",
      "calling getter\n",
      "calling getter\n",
      "calling getter\n",
      "calling getter\n",
      "calling getter\n",
      "calling getter\n",
      "calling getter\n",
      "calling getter\n",
      "calling getter\n",
      "calling getter\n",
      "calling getter\n",
      "calling getter\n",
      "calling getter\n",
      "calling getter\n",
      "calling getter\n",
      "calling getter\n",
      "calling getter\n",
      "calling getter\n",
      "calling getter\n",
      "calling getter\n",
      "calling getter\n",
      "calling getter\n",
      "calling getter\n",
      "calling getter\n",
      "calling getter\n",
      "calling getter\n",
      "calling getter\n",
      "calling getter\n",
      "calling getter\n",
      "calling getter\n",
      "calling getter\n",
      "calling getter\n",
      "calling getter\n",
      "calling getter\n",
      "calling getter\n",
      "calling getter\n",
      "calling getter\n",
      "calling getter\n",
      "calling getter\n",
      "calling getter\n",
      "calling getter\n",
      "calling getter\n",
      "calling getter\n",
      "calling getter\n",
      "calling getter\n",
      "calling getter\n",
      "calling getter\n",
      "calling getter\n",
      "calling getter\n",
      "calling getter\n",
      "calling getter\n",
      "calling getter\n",
      "calling getter\n",
      "calling getter\n",
      "calling getter\n",
      "calling getter\n",
      "calling getter\n",
      "calling getter\n",
      "calling getter\n",
      "calling getter\n",
      "calling getter\n",
      "calling getter\n",
      "calling getter\n",
      "calling getter\n",
      "calling getter\n",
      "calling getter\n",
      "calling getter\n",
      "calling getter\n",
      "calling getter\n",
      "calling getter\n",
      "calling getter\n",
      "calling getter\n",
      "calling getter\n",
      "calling getter\n",
      "calling getter\n",
      "calling getter\n",
      "calling getter\n",
      "calling getter\n",
      "calling getter\n",
      "calling getter\n",
      "calling getter\n",
      "calling getter\n",
      "calling getter\n",
      "calling getter\n",
      "calling getter\n",
      "calling getter\n",
      "calling getter\n",
      "calling getter\n",
      "calling getter\n",
      "calling getter\n",
      "calling getter\n",
      "calling getter\n",
      "calling getter\n",
      "calling getter\n",
      "calling getter\n",
      "calling getter\n",
      "calling getter\n",
      "calling getter\n",
      "calling getter\n",
      "calling getter\n",
      "calling getter\n",
      "calling getter\n",
      "calling getter\n",
      "calling getter\n",
      "calling getter\n",
      "calling getter\n",
      "calling getter\n",
      "calling getter\n",
      "calling getter\n",
      "calling getter\n",
      "calling getter\n",
      "calling getter\n",
      "calling getter\n",
      "calling getter\n",
      "calling getter\n",
      "calling getter\n",
      "calling getter\n",
      "calling getter\n",
      "calling getter\n",
      "calling getter\n",
      "calling getter\n",
      "calling getter\n",
      "calling getter\n",
      "calling getter\n",
      "calling getter\n",
      "calling getter\n",
      "calling getter\n",
      "calling getter\n",
      "calling getter\n",
      "calling getter\n",
      "calling getter\n",
      "calling getter\n",
      "calling getter\n",
      "calling getter\n",
      "calling getter\n",
      "calling getter\n",
      "calling getter\n",
      "calling getter\n",
      "calling getter\n",
      "calling getter\n",
      "calling getter\n",
      "calling getter\n",
      "calling getter\n",
      "calling getter\n",
      "calling getter\n",
      "calling getter\n",
      "calling getter\n",
      "calling getter\n",
      "calling getter\n",
      "calling getter\n",
      "calling getter\n",
      "calling getter\n",
      "calling getter\n",
      "calling getter\n",
      "calling getter\n",
      "calling getter\n",
      "calling getter\n",
      "calling getter\n",
      "calling getter\n",
      "calling getter\n",
      "calling getter\n",
      "calling getter\n",
      "calling getter\n",
      "calling getter\n",
      "calling getter\n",
      "calling getter\n",
      "calling getter\n",
      "calling getter\n",
      "calling getter\n",
      "calling getter\n",
      "calling getter\n",
      "calling getter\n",
      "calling getter\n",
      "calling getter\n",
      "calling getter\n",
      "calling getter\n",
      "calling getter\n",
      "calling getter\n",
      "calling getter\n",
      "calling getter\n",
      "calling getter\n",
      "calling getter\n",
      "calling getter\n",
      "calling getter\n",
      "calling getter\n",
      "calling getter\n",
      "calling getter\n",
      "calling getter\n",
      "calling getter\n",
      "calling getter\n",
      "calling getter\n",
      "calling getter\n",
      "calling getter\n",
      "calling getter\n",
      "calling getter\n",
      "calling getter\n",
      "calling getter\n",
      "calling getter\n",
      "calling getter\n",
      "calling getter\n",
      "calling getter\n",
      "calling getter\n",
      "calling getter\n",
      "calling getter\n",
      "calling getter\n",
      "calling getter\n",
      "calling getter\n",
      "calling getter\n",
      "calling getter\n",
      "calling getter\n",
      "calling getter\n",
      "calling getter\n",
      "calling getter\n",
      "calling getter\n",
      "calling getter\n",
      "calling getter\n",
      "calling getter\n",
      "calling getter\n",
      "calling getter\n",
      "calling getter\n",
      "calling getter\n",
      "calling getter\n",
      "calling getter\n",
      "calling getter\n",
      "calling getter\n",
      "calling getter\n",
      "calling getter\n",
      "calling getter\n",
      "calling getter\n",
      "calling getter\n",
      "calling getter\n",
      "calling getter\n",
      "calling getter\n",
      "calling getter\n",
      "calling getter\n",
      "calling getter\n",
      "calling getter\n",
      "calling getter\n",
      "calling getter\n",
      "calling getter\n",
      "calling getter\n",
      "calling getter\n",
      "calling getter\n",
      "calling getter\n",
      "calling getter\n",
      "calling getter\n",
      "calling getter\n",
      "calling getter\n",
      "calling getter\n",
      "calling getter\n",
      "calling getter\n",
      "calling getter\n",
      "calling getter\n",
      "calling getter\n",
      "calling getter\n",
      "calling getter\n",
      "calling getter\n",
      "calling getter\n",
      "calling getter\n",
      "calling getter\n",
      "calling getter\n",
      "calling getter\n",
      "calling getter\n",
      "calling getter\n",
      "calling getter\n",
      "calling getter\n",
      "calling getter\n",
      "calling getter\n",
      "calling getter\n",
      "calling getter\n",
      "calling getter\n",
      "calling getter\n",
      "calling getter\n",
      "calling getter\n",
      "calling getter\n",
      "calling getter\n",
      "calling getter\n",
      "calling getter\n",
      "calling getter\n",
      "calling getter\n",
      "calling getter\n",
      "calling getter\n",
      "calling getter\n",
      "calling getter\n",
      "calling getter\n",
      "calling getter\n",
      "calling getter\n",
      "calling getter\n",
      "calling getter\n",
      "calling getter\n",
      "calling getter\n",
      "calling getter\n",
      "calling getter\n",
      "calling getter\n",
      "calling getter\n",
      "calling getter\n",
      "calling getter\n",
      "calling getter\n",
      "calling getter\n",
      "calling getter\n",
      "calling getter\n",
      "calling getter\n",
      "calling getter\n",
      "calling getter\n",
      "calling getter\n",
      "calling getter\n",
      "calling getter\n",
      "calling getter\n",
      "calling getter\n",
      "calling getter\n",
      "calling getter\n",
      "calling getter\n",
      "calling getter\n",
      "calling getter\n",
      "calling getter\n",
      "calling getter\n",
      "calling getter\n",
      "calling getter\n",
      "calling getter\n",
      "calling getter\n",
      "calling getter\n",
      "calling getter\n",
      "calling getter\n",
      "calling getter\n",
      "calling getter\n",
      "calling getter\n",
      "calling getter\n",
      "calling getter\n",
      "calling getter\n",
      "calling getter\n",
      "calling getter\n",
      "calling getter\n",
      "calling getter\n",
      "calling getter\n",
      "calling getter\n",
      "calling getter\n",
      "calling getter\n",
      "calling getter\n",
      "calling getter\n",
      "calling getter\n",
      "calling getter\n",
      "calling getter\n",
      "calling getter\n",
      "calling getter\n",
      "calling getter\n",
      "calling getter\n",
      "calling getter\n",
      "calling getter\n",
      "calling getter\n",
      "calling getter\n",
      "calling getter\n",
      "calling getter\n",
      "calling getter\n",
      "calling getter\n",
      "calling getter\n",
      "calling getter\n",
      "calling getter\n",
      "calling getter\n",
      "calling getter\n",
      "calling getter\n",
      "calling getter\n",
      "calling getter\n",
      "calling getter\n",
      "calling getter\n",
      "calling getter\n",
      "calling getter\n",
      "calling getter\n",
      "calling getter\n",
      "calling getter\n",
      "calling getter\n",
      "calling getter\n",
      "calling getter\n",
      "calling getter\n",
      "calling getter\n",
      "calling getter\n",
      "calling getter\n",
      "calling getter\n",
      "calling getter\n",
      "calling getter\n",
      "calling getter\n",
      "calling getter\n",
      "calling getter\n",
      "calling getter\n",
      "calling getter\n",
      "calling getter\n",
      "calling getter\n",
      "calling getter\n",
      "calling getter\n",
      "calling getter\n",
      "calling getter\n",
      "calling getter\n",
      "calling getter\n",
      "calling getter\n",
      "calling getter\n",
      "calling getter\n",
      "calling getter\n",
      "calling getter\n",
      "calling getter\n",
      "calling getter\n",
      "calling getter\n",
      "calling getter\n",
      "calling getter\n",
      "calling getter\n",
      "calling getter\n",
      "calling getter\n",
      "calling getter\n",
      "calling getter\n",
      "calling getter\n",
      "calling getter\n",
      "calling getter\n",
      "calling getter\n",
      "calling getter\n",
      "calling getter\n",
      "calling getter\n",
      "calling getter\n",
      "calling getter\n",
      "calling getter\n",
      "calling getter\n",
      "calling getter\n",
      "calling getter\n",
      "calling getter\n",
      "calling getter\n",
      "calling getter\n",
      "calling getter\n",
      "calling getter\n",
      "calling getter\n",
      "calling getter\n",
      "calling getter\n",
      "calling getter\n",
      "calling getter\n",
      "calling getter\n",
      "calling getter\n",
      "calling getter\n",
      "calling getter\n",
      "calling getter\n",
      "calling getter\n",
      "calling getter\n",
      "calling getter\n",
      "calling getter\n",
      "calling getter\n",
      "calling getter\n",
      "calling getter\n",
      "calling getter\n",
      "calling getter\n",
      "calling getter\n",
      "calling getter\n",
      "calling getter\n",
      "calling getter\n",
      "calling getter\n",
      "calling getter\n",
      "calling getter\n",
      "calling getter\n",
      "calling getter\n",
      "calling getter\n",
      "calling getter\n",
      "calling getter\n",
      "calling getter\n",
      "calling getter\n",
      "calling getter\n",
      "calling getter\n",
      "calling getter\n",
      "calling getter\n",
      "calling getter\n",
      "calling getter\n",
      "calling getter\n",
      "calling getter\n",
      "calling getter\n",
      "calling getter\n",
      "calling getter\n",
      "calling getter\n",
      "calling getter\n",
      "calling getter\n",
      "calling getter\n",
      "calling getter\n",
      "calling getter\n",
      "calling getter\n",
      "calling getter\n",
      "calling getter\n",
      "calling getter\n",
      "calling getter\n",
      "calling getter\n",
      "calling getter\n",
      "calling getter\n",
      "calling getter\n",
      "calling getter\n",
      "calling getter\n",
      "calling getter\n",
      "calling getter\n",
      "calling getter\n",
      "calling getter\n",
      "calling getter\n",
      "calling getter\n",
      "calling getter\n",
      "calling getter\n",
      "calling getter\n",
      "calling getter\n",
      "calling getter\n",
      "calling getter\n",
      "calling getter\n",
      "calling getter\n",
      "calling getter\n",
      "calling getter\n",
      "calling getter\n",
      "calling getter\n",
      "calling getter\n",
      "calling getter\n",
      "calling getter\n",
      "calling getter\n",
      "calling getter\n",
      "calling getter\n",
      "calling getter\n",
      "calling getter\n",
      "calling getter\n",
      "calling getter\n",
      "calling getter\n",
      "calling getter\n",
      "calling getter\n",
      "calling getter\n",
      "calling getter\n",
      "calling getter\n",
      "calling getter\n",
      "calling getter\n",
      "calling getter\n",
      "calling getter\n",
      "calling getter\n",
      "calling getter\n",
      "calling getter\n",
      "calling getter\n",
      "calling getter\n",
      "calling getter\n",
      "calling getter\n",
      "calling getter\n",
      "calling getter\n",
      "calling getter\n",
      "calling getter\n",
      "calling getter\n",
      "calling getter\n",
      "calling getter\n",
      "calling getter\n",
      "calling getter\n",
      "calling getter\n",
      "calling getter\n",
      "calling getter\n",
      "calling getter\n",
      "calling getter\n",
      "calling getter\n",
      "calling getter\n",
      "calling getter\n",
      "calling getter\n",
      "calling getter\n",
      "calling getter\n",
      "calling getter\n",
      "calling getter\n",
      "calling getter\n",
      "calling getter\n",
      "calling getter\n",
      "calling getter\n",
      "calling getter\n",
      "calling getter\n",
      "calling getter\n",
      "calling getter\n",
      "calling getter\n",
      "calling getter\n",
      "calling getter\n",
      "calling getter\n",
      "calling getter\n",
      "calling getter\n",
      "calling getter\n",
      "calling getter\n",
      "calling getter\n",
      "calling getter\n",
      "calling getter\n",
      "calling getter\n",
      "calling getter\n",
      "calling getter\n",
      "calling getter\n"
     ]
    }
   ],
   "source": [
    "class Emp:\n",
    "    def __init__(self, fn):\n",
    "        print(\"assigning fn\")\n",
    "        self.fn=fn\n",
    "        print(\"done\")\n",
    "        \n",
    "    def __setattr__(self, attribute, value):\n",
    "        print(\"calling set attr\")\n",
    "        super(Emp, self).__setattr__(attribute, value)\n",
    "        \n",
    "    def __getattribute__(self, attribute):\n",
    "        print(\"calling getter\")\n",
    "        return self.attribute\n",
    "        \n",
    "    def get(self):\n",
    "        return self.fn\n",
    "e1=Emp(\"jayaram\")\n",
    "print(e1.get())"
   ]
  },
  {
   "cell_type": "code",
   "execution_count": 2,
   "metadata": {},
   "outputs": [
    {
     "name": "stdout",
     "output_type": "stream",
     "text": [
      "assigning fn\n",
      "calling set attr\n",
      "done\n",
      "calling getter\n",
      "calling getter\n",
      "jayaram\n"
     ]
    }
   ],
   "source": [
    "class Emp:\n",
    "    def __init__(self, fn):\n",
    "        print(\"assigning fn\")\n",
    "        self.fn=fn\n",
    "        print(\"done\")\n",
    "        \n",
    "    def __setattr__(self, attribute, value):\n",
    "        print(\"calling set attr\")\n",
    "        super(Emp, self).__setattr__(attribute, value)\n",
    "        \n",
    "    def __getattribute__(self, attribute):\n",
    "        print(\"calling getter\")\n",
    "        return super(Emp, self).__getattribute__(attribute)\n",
    "        \n",
    "    def get(self):\n",
    "        return self.fn\n",
    "e1=Emp(\"jayaram\")\n",
    "print(e1.get())"
   ]
  },
  {
   "cell_type": "code",
   "execution_count": 3,
   "metadata": {},
   "outputs": [
    {
     "name": "stdout",
     "output_type": "stream",
     "text": [
      "jayaram\n"
     ]
    }
   ],
   "source": [
    "class Emp:\n",
    "    def __init__(self, fn):\n",
    "        self.fn=fn\n",
    "        \n",
    "    def __setattr__(self, attribute, value):\n",
    "        super(Emp, self).__setattr__(attribute, value)\n",
    "        \n",
    "    def __getattribute__(self, attribute):\n",
    "        return super(Emp, self).__getattribute__(attribute)\n",
    "        \n",
    "    def get(self):\n",
    "        return self.fn\n",
    "e1=Emp(\"jayaram\")\n",
    "print(e1.get())"
   ]
  },
  {
   "cell_type": "code",
   "execution_count": 4,
   "metadata": {},
   "outputs": [
    {
     "name": "stdout",
     "output_type": "stream",
     "text": [
      "('jayaram', 'guduru')\n"
     ]
    }
   ],
   "source": [
    "class Emp:\n",
    "    def __init__(self, fn, ln):\n",
    "        self.fn=fn\n",
    "        self.ln=ln\n",
    "        \n",
    "    def __setattr__(self, attribute, value):\n",
    "        self.name = self.fn+ \" \" + self.ln\n",
    "        super(Emp, self).__setattr__(attribute, value)\n",
    "        \n",
    "    def __getattribute__(self, attribute):\n",
    "        return super(Emp, self).__getattribute__(attribute)\n",
    "        \n",
    "    def get(self):\n",
    "        return self.fn, self.ln\n",
    "e1=Emp(\"jayaram\", \"guduru\")\n",
    "print(e1.get())"
   ]
  },
  {
   "cell_type": "code",
   "execution_count": 6,
   "metadata": {},
   "outputs": [
    {
     "name": "stdout",
     "output_type": "stream",
     "text": [
      "('jayaram', 'guduru')\n"
     ]
    }
   ],
   "source": [
    "class Emp:\n",
    "    def __init__(self, fn, ln):\n",
    "        self.fn=fn\n",
    "        self.ln=ln\n",
    "        \n",
    "    def __setattr__(self, attribute, value):\n",
    "        super(Emp, self).__setattr__(attribute, value)\n",
    "        if hasattr(self, \"fn\") and hasattr(self, \"ln\"):\n",
    "            super(Emp, self).__setattr__(\"name\", self.fn+\" \"+self.ln)\n",
    "        \n",
    "    def __getattribute__(self, attribute):\n",
    "        return super(Emp, self).__getattribute__(attribute)\n",
    "        \n",
    "    def get(self):\n",
    "        return self.fn, self.ln\n",
    "e1=Emp(\"jayaram\", \"guduru\")\n",
    "print(e1.get())"
   ]
  },
  {
   "cell_type": "code",
   "execution_count": 7,
   "metadata": {},
   "outputs": [
    {
     "name": "stdout",
     "output_type": "stream",
     "text": [
      "('jayaram', 'guduru')\n",
      "jayaram GUDURU\n"
     ]
    }
   ],
   "source": [
    "class Emp:\n",
    "    def __init__(self, fn, ln):\n",
    "        self.fn=fn\n",
    "        self.ln=ln\n",
    "        \n",
    "    def __setattr__(self, attribute, value):\n",
    "        super(Emp, self).__setattr__(attribute, value)\n",
    "        if hasattr(self, \"fn\") and hasattr(self, \"ln\"):\n",
    "            super(Emp, self).__setattr__(\"name\", self.fn+\" \"+self.ln)\n",
    "        \n",
    "    def __getattribute__(self, attribute):\n",
    "        return super(Emp, self).__getattribute__(attribute)\n",
    "        \n",
    "    def get(self):\n",
    "        return self.fn, self.ln\n",
    "e1=Emp(\"jayaram\", \"guduru\")\n",
    "print(e1.get())\n",
    "e1.ln=\"GUDURU\"\n",
    "print(e1.name)"
   ]
  },
  {
   "cell_type": "code",
   "execution_count": 8,
   "metadata": {},
   "outputs": [
    {
     "name": "stdout",
     "output_type": "stream",
     "text": [
      "('jayaram', 'guduru', 'jayaram guduru')\n",
      "jayaram GUDURU\n"
     ]
    }
   ],
   "source": [
    "class Emp:\n",
    "    def __init__(self, fn, ln):\n",
    "        self.fn=fn\n",
    "        self.ln=ln\n",
    "        \n",
    "    @property\n",
    "    def name(self):\n",
    "        return self.fn+ \" \"+self.ln\n",
    "        \n",
    "    def get(self):\n",
    "        return self.fn, self.ln, self.name\n",
    "e1=Emp(\"jayaram\", \"guduru\")\n",
    "print(e1.get())\n",
    "e1.ln=\"GUDURU\"\n",
    "print(e1.name)"
   ]
  },
  {
   "cell_type": "code",
   "execution_count": 9,
   "metadata": {},
   "outputs": [
    {
     "name": "stdout",
     "output_type": "stream",
     "text": [
      "('jayaram', 'guduru', 'jayaram guduru')\n",
      "jayaram GUDURU\n"
     ]
    },
    {
     "ename": "AttributeError",
     "evalue": "can't set attribute",
     "output_type": "error",
     "traceback": [
      "\u001b[1;31m---------------------------------------------------------------------------\u001b[0m",
      "\u001b[1;31mAttributeError\u001b[0m                            Traceback (most recent call last)",
      "\u001b[1;32m<ipython-input-9-122cc582acb2>\u001b[0m in \u001b[0;36m<module>\u001b[1;34m\u001b[0m\n\u001b[0;32m     14\u001b[0m \u001b[0me1\u001b[0m\u001b[1;33m.\u001b[0m\u001b[0mln\u001b[0m\u001b[1;33m=\u001b[0m\u001b[1;34m\"GUDURU\"\u001b[0m\u001b[1;33m\u001b[0m\u001b[1;33m\u001b[0m\u001b[0m\n\u001b[0;32m     15\u001b[0m \u001b[0mprint\u001b[0m\u001b[1;33m(\u001b[0m\u001b[0me1\u001b[0m\u001b[1;33m.\u001b[0m\u001b[0mname\u001b[0m\u001b[1;33m)\u001b[0m\u001b[1;33m\u001b[0m\u001b[1;33m\u001b[0m\u001b[0m\n\u001b[1;32m---> 16\u001b[1;33m \u001b[0me1\u001b[0m\u001b[1;33m.\u001b[0m\u001b[0mname\u001b[0m\u001b[1;33m=\u001b[0m\u001b[1;34m\"JAYARAM GUDURU\"\u001b[0m\u001b[1;33m\u001b[0m\u001b[1;33m\u001b[0m\u001b[0m\n\u001b[0m",
      "\u001b[1;31mAttributeError\u001b[0m: can't set attribute"
     ]
    }
   ],
   "source": [
    "class Emp:\n",
    "    def __init__(self, fn, ln):\n",
    "        self.fn=fn\n",
    "        self.ln=ln\n",
    "        \n",
    "    @property\n",
    "    def name(self):\n",
    "        return self.fn+ \" \"+self.ln\n",
    "        \n",
    "    def get(self):\n",
    "        return self.fn, self.ln, self.name\n",
    "e1=Emp(\"jayaram\", \"guduru\")\n",
    "print(e1.get())\n",
    "e1.ln=\"GUDURU\"\n",
    "print(e1.name)\n",
    "e1.name=\"JAYARAM GUDURU\""
   ]
  },
  {
   "cell_type": "code",
   "execution_count": null,
   "metadata": {},
   "outputs": [],
   "source": [
    "class Emp:\n",
    "    def __init__(self, fn, ln):\n",
    "        self.fn=fn\n",
    "        self.ln=ln\n",
    "        \n",
    "    @property\n",
    "    def name(self):\n",
    "        return self.fn+ \" \"+self.ln\n",
    "        \n",
    "    def get(self):\n",
    "        return self.fn, self.ln, self.name\n",
    "e1=Emp(\"jayaram\", \"guduru\")\n",
    "print(e1.get())\n",
    "e1.ln=\"GUDURU\"\n",
    "\n",
    "print(e1.name)\n",
    "e1.name=\"JAYARAM GUDURU\""
   ]
  },
  {
   "cell_type": "code",
   "execution_count": null,
   "metadata": {},
   "outputs": [],
   "source": [
    "# secured attributes\n"
   ]
  }
 ],
 "metadata": {
  "kernelspec": {
   "display_name": "Python 3",
   "language": "python",
   "name": "python3"
  },
  "language_info": {
   "codemirror_mode": {
    "name": "ipython",
    "version": 3
   },
   "file_extension": ".py",
   "mimetype": "text/x-python",
   "name": "python",
   "nbconvert_exporter": "python",
   "pygments_lexer": "ipython3",
   "version": "3.8.3"
  }
 },
 "nbformat": 4,
 "nbformat_minor": 4
}
