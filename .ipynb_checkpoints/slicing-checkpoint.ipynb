{
 "cells": [
  {
   "cell_type": "code",
   "execution_count": 1,
   "metadata": {},
   "outputs": [],
   "source": [
    "# string/list/tuple/array/dataframe traversing"
   ]
  },
  {
   "cell_type": "code",
   "execution_count": 2,
   "metadata": {},
   "outputs": [
    {
     "name": "stdout",
     "output_type": "stream",
     "text": [
      "g g\n",
      "t t\n",
      "y y\n"
     ]
    }
   ],
   "source": [
    "#indexing\n",
    "t=\"01234567890123\"\n",
    "s=\"python program\"\n",
    "m=\"43210987654321\"\n",
    "print(s[10],s[-4])\n",
    "print(s[2],s[-12])\n",
    "print(s[1],s[-13])\n"
   ]
  },
  {
   "cell_type": "code",
   "execution_count": 3,
   "metadata": {},
   "outputs": [
    {
     "name": "stdout",
     "output_type": "stream",
     "text": [
      "pyt\n"
     ]
    }
   ],
   "source": [
    "t=\"01234567890123\"\n",
    "s=\"python program\"\n",
    "m=\"43210987654321\"\n",
    "print(s[0]+s[1]+s[2])"
   ]
  },
  {
   "cell_type": "code",
   "execution_count": 4,
   "metadata": {},
   "outputs": [
    {
     "name": "stdout",
     "output_type": "stream",
     "text": [
      "pyt\n",
      "pyt\n"
     ]
    }
   ],
   "source": [
    "t=\"01234567890123\"\n",
    "s=\"python program\"\n",
    "m=\"43210987654321\"\n",
    "print(s[0]+s[1]+s[2])\n",
    "print(s[0:3])"
   ]
  },
  {
   "cell_type": "code",
   "execution_count": 5,
   "metadata": {},
   "outputs": [
    {
     "name": "stdout",
     "output_type": "stream",
     "text": [
      "python prog\n"
     ]
    }
   ],
   "source": [
    "t=\"01234567890123\"\n",
    "s=\"python program\"\n",
    "m=\"43210987654321\"\n",
    "print(s[0:11])"
   ]
  },
  {
   "cell_type": "code",
   "execution_count": 6,
   "metadata": {},
   "outputs": [
    {
     "name": "stdout",
     "output_type": "stream",
     "text": [
      "\n"
     ]
    }
   ],
   "source": [
    "t=\"01234567890123\"\n",
    "s=\"python program\"\n",
    "m=\"43210987654321\"\n",
    "print(s[11:0])"
   ]
  },
  {
   "cell_type": "code",
   "execution_count": 7,
   "metadata": {},
   "outputs": [
    {
     "name": "stdout",
     "output_type": "stream",
     "text": [
      "python prog\n"
     ]
    }
   ],
   "source": [
    "t=\"01234567890123\"\n",
    "s=\"python program\"\n",
    "m=\"43210987654321\"\n",
    "print(s[0:11:1])"
   ]
  },
  {
   "cell_type": "code",
   "execution_count": 8,
   "metadata": {},
   "outputs": [
    {
     "name": "stdout",
     "output_type": "stream",
     "text": [
      "pto rg\n"
     ]
    }
   ],
   "source": [
    "t=\"01234567890123\"\n",
    "s=\"python program\"\n",
    "m=\"43210987654321\"\n",
    "print(s[0:11:2])"
   ]
  },
  {
   "cell_type": "code",
   "execution_count": 9,
   "metadata": {},
   "outputs": [
    {
     "name": "stdout",
     "output_type": "stream",
     "text": [
      "n pro\n"
     ]
    }
   ],
   "source": [
    "t=\"01234567890123\"\n",
    "s=\"python program\"\n",
    "m=\"43210987654321\"\n",
    "print(s[5:10])# default third slicing value :+1"
   ]
  },
  {
   "cell_type": "code",
   "execution_count": 10,
   "metadata": {},
   "outputs": [
    {
     "name": "stdout",
     "output_type": "stream",
     "text": [
      "\n"
     ]
    }
   ],
   "source": [
    "t=\"01234567890123\"\n",
    "s=\"python program\"\n",
    "m=\"43210987654321\"\n",
    "print(s[5:10:-1])# third slicing value -1. it will start from n and traverse towards left, we dont find index 10. so it's empty"
   ]
  },
  {
   "cell_type": "code",
   "execution_count": 11,
   "metadata": {},
   "outputs": [
    {
     "name": "stdout",
     "output_type": "stream",
     "text": [
      "gorp \n"
     ]
    }
   ],
   "source": [
    "t=\"01234567890123\"\n",
    "s=\"python program\"\n",
    "m=\"43210987654321\"\n",
    "print(s[10:5:-1])"
   ]
  },
  {
   "cell_type": "code",
   "execution_count": 12,
   "metadata": {},
   "outputs": [
    {
     "name": "stdout",
     "output_type": "stream",
     "text": [
      "\n"
     ]
    }
   ],
   "source": [
    "t=\"01234567890123\"\n",
    "s=\"python program\"\n",
    "m=\"43210987654321\"\n",
    "print(s[-2:-10])# third slicing value: +1. default. we have not given third slicing value. it will goes toward right side.\n",
    "# we dont get -10 index."
   ]
  },
  {
   "cell_type": "code",
   "execution_count": 13,
   "metadata": {},
   "outputs": [
    {
     "name": "stdout",
     "output_type": "stream",
     "text": [
      "on progr\n"
     ]
    }
   ],
   "source": [
    "t=\"01234567890123\"\n",
    "s=\"python program\"\n",
    "m=\"43210987654321\"\n",
    "print(s[-10:-2])# third slicing value: +1. default. we have not given third slicing value. it will goes toward right side.\n",
    "# if we strat from -10(o) towards rightside will get -2 index."
   ]
  },
  {
   "cell_type": "code",
   "execution_count": null,
   "metadata": {},
   "outputs": [],
   "source": [
    "t=\"01234567890123\"\n",
    "s=\"python program\"\n",
    "m=\"43210987654321\"\n",
    "print(s[-10:-2:-1])# third slicing value: -1. default. we have not given third slicing value. it will goes toward right side.\n",
    "# if we strat from -10(o) towards rightside will get -2 index."
   ]
  }
 ],
 "metadata": {
  "kernelspec": {
   "display_name": "Python 3",
   "language": "python",
   "name": "python3"
  },
  "language_info": {
   "codemirror_mode": {
    "name": "ipython",
    "version": 3
   },
   "file_extension": ".py",
   "mimetype": "text/x-python",
   "name": "python",
   "nbconvert_exporter": "python",
   "pygments_lexer": "ipython3",
   "version": "3.8.3"
  }
 },
 "nbformat": 4,
 "nbformat_minor": 4
}
