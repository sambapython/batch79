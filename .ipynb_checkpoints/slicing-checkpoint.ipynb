{
 "cells": [
  {
   "cell_type": "code",
   "execution_count": 1,
   "metadata": {},
   "outputs": [],
   "source": [
    "# string/list/tuple/array/dataframe traversing"
   ]
  },
  {
   "cell_type": "code",
   "execution_count": 2,
   "metadata": {},
   "outputs": [
    {
     "name": "stdout",
     "output_type": "stream",
     "text": [
      "g g\n",
      "t t\n",
      "y y\n"
     ]
    }
   ],
   "source": [
    "#indexing\n",
    "t=\"01234567890123\"\n",
    "s=\"python program\"\n",
    "m=\"43210987654321\"\n",
    "print(s[10],s[-4])\n",
    "print(s[2],s[-12])\n",
    "print(s[1],s[-13])\n"
   ]
  },
  {
   "cell_type": "code",
   "execution_count": 3,
   "metadata": {},
   "outputs": [
    {
     "name": "stdout",
     "output_type": "stream",
     "text": [
      "pyt\n"
     ]
    }
   ],
   "source": [
    "t=\"01234567890123\"\n",
    "s=\"python program\"\n",
    "m=\"43210987654321\"\n",
    "print(s[0]+s[1]+s[2])"
   ]
  },
  {
   "cell_type": "code",
   "execution_count": 4,
   "metadata": {},
   "outputs": [
    {
     "name": "stdout",
     "output_type": "stream",
     "text": [
      "pyt\n",
      "pyt\n"
     ]
    }
   ],
   "source": [
    "t=\"01234567890123\"\n",
    "s=\"python program\"\n",
    "m=\"43210987654321\"\n",
    "print(s[0]+s[1]+s[2])\n",
    "print(s[0:3])# default third slicing value is +1"
   ]
  },
  {
   "cell_type": "code",
   "execution_count": 5,
   "metadata": {},
   "outputs": [
    {
     "name": "stdout",
     "output_type": "stream",
     "text": [
      "python prog\n"
     ]
    }
   ],
   "source": [
    "t=\"01234567890123\"\n",
    "s=\"python program\"\n",
    "m=\"43210987654321\"\n",
    "print(s[0:11])"
   ]
  },
  {
   "cell_type": "code",
   "execution_count": 6,
   "metadata": {},
   "outputs": [
    {
     "name": "stdout",
     "output_type": "stream",
     "text": [
      "\n"
     ]
    }
   ],
   "source": [
    "t=\"01234567890123\"\n",
    "s=\"python program\"\n",
    "m=\"43210987654321\"\n",
    "print(s[11:0])# the slicing starts at \"r\", it will move towards right side(third slicing value is positive+1). We will not\n",
    "# get zero index. the range is not possible."
   ]
  },
  {
   "cell_type": "code",
   "execution_count": 7,
   "metadata": {},
   "outputs": [
    {
     "name": "stdout",
     "output_type": "stream",
     "text": [
      "python prog\n"
     ]
    }
   ],
   "source": [
    "t=\"01234567890123\"\n",
    "s=\"python program\"\n",
    "m=\"43210987654321\"\n",
    "print(s[0:11:1])"
   ]
  },
  {
   "cell_type": "code",
   "execution_count": 8,
   "metadata": {},
   "outputs": [
    {
     "name": "stdout",
     "output_type": "stream",
     "text": [
      "pto rg\n"
     ]
    }
   ],
   "source": [
    "t=\"01234567890123\"\n",
    "s=\"python program\"\n",
    "m=\"43210987654321\"\n",
    "print(s[0:11:2])"
   ]
  },
  {
   "cell_type": "code",
   "execution_count": 9,
   "metadata": {},
   "outputs": [
    {
     "name": "stdout",
     "output_type": "stream",
     "text": [
      "n pro\n"
     ]
    }
   ],
   "source": [
    "t=\"01234567890123\"\n",
    "s=\"python program\"\n",
    "m=\"43210987654321\"\n",
    "print(s[5:10])# default third slicing value :+1"
   ]
  },
  {
   "cell_type": "code",
   "execution_count": 10,
   "metadata": {},
   "outputs": [
    {
     "name": "stdout",
     "output_type": "stream",
     "text": [
      "\n"
     ]
    }
   ],
   "source": [
    "t=\"01234567890123\"\n",
    "s=\"python program\"\n",
    "m=\"43210987654321\"\n",
    "print(s[5:10:-1])# third slicing value -1. it will start from n and traverse towards left, we dont find index 10. so it's empty"
   ]
  },
  {
   "cell_type": "code",
   "execution_count": 11,
   "metadata": {},
   "outputs": [
    {
     "name": "stdout",
     "output_type": "stream",
     "text": [
      "gorp \n"
     ]
    }
   ],
   "source": [
    "t=\"01234567890123\"\n",
    "s=\"python program\"\n",
    "m=\"43210987654321\"\n",
    "print(s[10:5:-1])"
   ]
  },
  {
   "cell_type": "code",
   "execution_count": 12,
   "metadata": {},
   "outputs": [
    {
     "name": "stdout",
     "output_type": "stream",
     "text": [
      "\n"
     ]
    }
   ],
   "source": [
    "t=\"01234567890123\"\n",
    "s=\"python program\"\n",
    "m=\"43210987654321\"\n",
    "print(s[-2:-10])# third slicing value: +1. default. we have not given third slicing value. it will goes toward right side.\n",
    "# we dont get -10 index."
   ]
  },
  {
   "cell_type": "code",
   "execution_count": 13,
   "metadata": {},
   "outputs": [
    {
     "name": "stdout",
     "output_type": "stream",
     "text": [
      "on progr\n"
     ]
    }
   ],
   "source": [
    "t=\"01234567890123\"\n",
    "s=\"python program\"\n",
    "m=\"43210987654321\"\n",
    "print(s[-10:-2])# third slicing value: +1. default. we have not given third slicing value. it will goes toward right side.\n",
    "# if we strat from -10(o) towards rightside will get -2 index."
   ]
  },
  {
   "cell_type": "code",
   "execution_count": 14,
   "metadata": {},
   "outputs": [
    {
     "name": "stdout",
     "output_type": "stream",
     "text": [
      "\n"
     ]
    }
   ],
   "source": [
    "t=\"01234567890123\"\n",
    "s=\"python program\"\n",
    "m=\"43210987654321\"\n",
    "print(s[-10:-2:-1])# third slicing value: -1. it will goes toward left side.\n",
    "# if we strat from -10(o) towards left side we will not get -2 index. the range is not possible"
   ]
  },
  {
   "cell_type": "code",
   "execution_count": null,
   "metadata": {},
   "outputs": [],
   "source": [
    "t=\"01234567890123\"\n",
    "s=\"python program\"\n",
    "m=\"43210987654321\"\n",
    "print(s[-10:-2:-1])# third slicing value: -1. it will goes toward left side.\n",
    "# if we strat from -10(o) towards left side we will not get -2 index. the range is not possible"
   ]
  },
  {
   "cell_type": "code",
   "execution_count": 1,
   "metadata": {},
   "outputs": [
    {
     "name": "stdout",
     "output_type": "stream",
     "text": [
      "\n"
     ]
    }
   ],
   "source": [
    "t=\"01234567890123\"\n",
    "s=\"python program\"\n",
    "m=\"43210987654321\"\n",
    "print(s[-2:-10])# default third slicing value: +1"
   ]
  },
  {
   "cell_type": "code",
   "execution_count": 2,
   "metadata": {},
   "outputs": [
    {
     "name": "stdout",
     "output_type": "stream",
     "text": [
      "argorp n\n"
     ]
    }
   ],
   "source": [
    "t=\"01234567890123\"\n",
    "s=\"python program\"\n",
    "m=\"43210987654321\"\n",
    "print(s[-2:-10:-1])"
   ]
  },
  {
   "cell_type": "code",
   "execution_count": 3,
   "metadata": {},
   "outputs": [
    {
     "name": "stdout",
     "output_type": "stream",
     "text": [
      "npor\n"
     ]
    }
   ],
   "source": [
    "t=\"01234567890123\"\n",
    "s=\"python program\"\n",
    "m=\"43210987654321\"\n",
    "print(s[5:13:2])"
   ]
  },
  {
   "cell_type": "code",
   "execution_count": 4,
   "metadata": {},
   "outputs": [
    {
     "name": "stdout",
     "output_type": "stream",
     "text": [
      "n pro\n"
     ]
    }
   ],
   "source": [
    "t=\"01234567890123\"\n",
    "s=\"python program\"\n",
    "m=\"43210987654321\"\n",
    "print(s[5:10])"
   ]
  },
  {
   "cell_type": "code",
   "execution_count": 5,
   "metadata": {},
   "outputs": [
    {
     "name": "stdout",
     "output_type": "stream",
     "text": [
      "n program\n"
     ]
    }
   ],
   "source": [
    "t=\"01234567890123\"\n",
    "s=\"python program\"\n",
    "m=\"43210987654321\"\n",
    "print(s[5:])#strats at 'n', move towards end of right(third slicing value is +1)"
   ]
  },
  {
   "cell_type": "code",
   "execution_count": 6,
   "metadata": {},
   "outputs": [
    {
     "name": "stdout",
     "output_type": "stream",
     "text": [
      "nohtyp\n"
     ]
    }
   ],
   "source": [
    "t=\"01234567890123\"\n",
    "s=\"python program\"\n",
    "m=\"43210987654321\"\n",
    "print(s[5::-1])#strats at 'n', move towards end of left(third slicing value is -1)"
   ]
  },
  {
   "cell_type": "code",
   "execution_count": 7,
   "metadata": {},
   "outputs": [
    {
     "name": "stdout",
     "output_type": "stream",
     "text": [
      "pytho\n"
     ]
    }
   ],
   "source": [
    "t=\"01234567890123\"\n",
    "s=\"python program\"\n",
    "m=\"43210987654321\"\n",
    "print(s[:5])#strats at 'p' index:0, move towards right(third slicing value is +1) up to 4th index."
   ]
  },
  {
   "cell_type": "code",
   "execution_count": 8,
   "metadata": {},
   "outputs": [
    {
     "name": "stdout",
     "output_type": "stream",
     "text": [
      "margorp \n"
     ]
    }
   ],
   "source": [
    "t=\"01234567890123\"\n",
    "s=\"python program\"\n",
    "m=\"43210987654321\"\n",
    "print(s[:5:-1])#strats at 'm' index:13 last index, move towards leftside(third slicing value is -1) up to 6th index."
   ]
  },
  {
   "cell_type": "code",
   "execution_count": 9,
   "metadata": {},
   "outputs": [
    {
     "name": "stdout",
     "output_type": "stream",
     "text": [
      "python program\n"
     ]
    }
   ],
   "source": [
    "t=\"01234567890123\"\n",
    "s=\"python program\"\n",
    "m=\"43210987654321\"\n",
    "print(s[:])"
   ]
  },
  {
   "cell_type": "code",
   "execution_count": 10,
   "metadata": {},
   "outputs": [
    {
     "name": "stdout",
     "output_type": "stream",
     "text": [
      "margorp nohtyp\n"
     ]
    }
   ],
   "source": [
    "t=\"01234567890123\"\n",
    "s=\"python program\"\n",
    "m=\"43210987654321\"\n",
    "print(s[::-1])"
   ]
  },
  {
   "cell_type": "code",
   "execution_count": 11,
   "metadata": {},
   "outputs": [
    {
     "name": "stdout",
     "output_type": "stream",
     "text": [
      "pto rga\n"
     ]
    }
   ],
   "source": [
    "t=\"01234567890123\"\n",
    "s=\"python program\"\n",
    "m=\"43210987654321\"\n",
    "print(s[::2])"
   ]
  },
  {
   "cell_type": "code",
   "execution_count": 12,
   "metadata": {},
   "outputs": [
    {
     "name": "stdout",
     "output_type": "stream",
     "text": [
      "mropnhy\n"
     ]
    }
   ],
   "source": [
    "t=\"01234567890123\"\n",
    "s=\"python program\"\n",
    "m=\"43210987654321\"\n",
    "print(s[::-2])"
   ]
  },
  {
   "cell_type": "code",
   "execution_count": 13,
   "metadata": {},
   "outputs": [
    {
     "ename": "IndexError",
     "evalue": "string index out of range",
     "output_type": "error",
     "traceback": [
      "\u001b[1;31m---------------------------------------------------------------------------\u001b[0m",
      "\u001b[1;31mIndexError\u001b[0m                                Traceback (most recent call last)",
      "\u001b[1;32m<ipython-input-13-301303fa37e1>\u001b[0m in \u001b[0;36m<module>\u001b[1;34m\u001b[0m\n\u001b[0;32m      2\u001b[0m \u001b[0ms\u001b[0m\u001b[1;33m=\u001b[0m\u001b[1;34m\"python program\"\u001b[0m\u001b[1;33m\u001b[0m\u001b[1;33m\u001b[0m\u001b[0m\n\u001b[0;32m      3\u001b[0m \u001b[0mm\u001b[0m\u001b[1;33m=\u001b[0m\u001b[1;34m\"43210987654321\"\u001b[0m\u001b[1;33m\u001b[0m\u001b[1;33m\u001b[0m\u001b[0m\n\u001b[1;32m----> 4\u001b[1;33m \u001b[0mprint\u001b[0m\u001b[1;33m(\u001b[0m\u001b[0ms\u001b[0m\u001b[1;33m[\u001b[0m\u001b[1;36m14\u001b[0m\u001b[1;33m]\u001b[0m\u001b[1;33m)\u001b[0m\u001b[1;33m\u001b[0m\u001b[1;33m\u001b[0m\u001b[0m\n\u001b[0m",
      "\u001b[1;31mIndexError\u001b[0m: string index out of range"
     ]
    }
   ],
   "source": [
    "t=\"01234567890123\"\n",
    "s=\"python program\"\n",
    "m=\"43210987654321\"\n",
    "print(s[14])"
   ]
  },
  {
   "cell_type": "code",
   "execution_count": 14,
   "metadata": {},
   "outputs": [
    {
     "name": "stdout",
     "output_type": "stream",
     "text": [
      "p\n"
     ]
    }
   ],
   "source": [
    "t=\"01234567890123\"\n",
    "s=\"python program\"\n",
    "m=\"43210987654321\"\n",
    "print(s[-14])"
   ]
  },
  {
   "cell_type": "code",
   "execution_count": 15,
   "metadata": {},
   "outputs": [
    {
     "ename": "IndexError",
     "evalue": "string index out of range",
     "output_type": "error",
     "traceback": [
      "\u001b[1;31m---------------------------------------------------------------------------\u001b[0m",
      "\u001b[1;31mIndexError\u001b[0m                                Traceback (most recent call last)",
      "\u001b[1;32m<ipython-input-15-67745ccd987d>\u001b[0m in \u001b[0;36m<module>\u001b[1;34m\u001b[0m\n\u001b[0;32m      2\u001b[0m \u001b[0ms\u001b[0m\u001b[1;33m=\u001b[0m\u001b[1;34m\"python program\"\u001b[0m\u001b[1;33m\u001b[0m\u001b[1;33m\u001b[0m\u001b[0m\n\u001b[0;32m      3\u001b[0m \u001b[0mm\u001b[0m\u001b[1;33m=\u001b[0m\u001b[1;34m\"43210987654321\"\u001b[0m\u001b[1;33m\u001b[0m\u001b[1;33m\u001b[0m\u001b[0m\n\u001b[1;32m----> 4\u001b[1;33m \u001b[0mprint\u001b[0m\u001b[1;33m(\u001b[0m\u001b[0ms\u001b[0m\u001b[1;33m[\u001b[0m\u001b[1;33m-\u001b[0m\u001b[1;36m15\u001b[0m\u001b[1;33m]\u001b[0m\u001b[1;33m)\u001b[0m\u001b[1;33m\u001b[0m\u001b[1;33m\u001b[0m\u001b[0m\n\u001b[0m",
      "\u001b[1;31mIndexError\u001b[0m: string index out of range"
     ]
    }
   ],
   "source": [
    "t=\"01234567890123\"\n",
    "s=\"python program\"\n",
    "m=\"43210987654321\"\n",
    "print(s[-15])"
   ]
  },
  {
   "cell_type": "code",
   "execution_count": 16,
   "metadata": {},
   "outputs": [
    {
     "name": "stdout",
     "output_type": "stream",
     "text": [
      "thon pro\n"
     ]
    }
   ],
   "source": [
    "t=\"01234567890123\"\n",
    "s=\"python program\"\n",
    "m=\"43210987654321\"\n",
    "print(s[2:10])"
   ]
  },
  {
   "cell_type": "code",
   "execution_count": 17,
   "metadata": {},
   "outputs": [
    {
     "name": "stdout",
     "output_type": "stream",
     "text": [
      "thon program\n"
     ]
    }
   ],
   "source": [
    "t=\"01234567890123\"\n",
    "s=\"python program\"\n",
    "m=\"43210987654321\"\n",
    "print(s[2:20])"
   ]
  },
  {
   "cell_type": "code",
   "execution_count": 18,
   "metadata": {},
   "outputs": [
    {
     "name": "stdout",
     "output_type": "stream",
     "text": [
      "\n"
     ]
    }
   ],
   "source": [
    "t=\"01234567890123\"\n",
    "s=\"python program\"\n",
    "m=\"43210987654321\"\n",
    "print(s[20:40])"
   ]
  },
  {
   "cell_type": "code",
   "execution_count": 19,
   "metadata": {},
   "outputs": [
    {
     "name": "stdout",
     "output_type": "stream",
     "text": [
      "\n"
     ]
    }
   ],
   "source": [
    "t=\"01234567890123\"\n",
    "s=\"python program\"\n",
    "m=\"43210987654321\"\n",
    "print(s[14:])# slicing"
   ]
  },
  {
   "cell_type": "code",
   "execution_count": 20,
   "metadata": {},
   "outputs": [
    {
     "ename": "IndexError",
     "evalue": "string index out of range",
     "output_type": "error",
     "traceback": [
      "\u001b[1;31m---------------------------------------------------------------------------\u001b[0m",
      "\u001b[1;31mIndexError\u001b[0m                                Traceback (most recent call last)",
      "\u001b[1;32m<ipython-input-20-301303fa37e1>\u001b[0m in \u001b[0;36m<module>\u001b[1;34m\u001b[0m\n\u001b[0;32m      2\u001b[0m \u001b[0ms\u001b[0m\u001b[1;33m=\u001b[0m\u001b[1;34m\"python program\"\u001b[0m\u001b[1;33m\u001b[0m\u001b[1;33m\u001b[0m\u001b[0m\n\u001b[0;32m      3\u001b[0m \u001b[0mm\u001b[0m\u001b[1;33m=\u001b[0m\u001b[1;34m\"43210987654321\"\u001b[0m\u001b[1;33m\u001b[0m\u001b[1;33m\u001b[0m\u001b[0m\n\u001b[1;32m----> 4\u001b[1;33m \u001b[0mprint\u001b[0m\u001b[1;33m(\u001b[0m\u001b[0ms\u001b[0m\u001b[1;33m[\u001b[0m\u001b[1;36m14\u001b[0m\u001b[1;33m]\u001b[0m\u001b[1;33m)\u001b[0m\u001b[1;33m\u001b[0m\u001b[1;33m\u001b[0m\u001b[0m\n\u001b[0m",
      "\u001b[1;31mIndexError\u001b[0m: string index out of range"
     ]
    }
   ],
   "source": [
    "t=\"01234567890123\"\n",
    "s=\"python program\"\n",
    "m=\"43210987654321\"\n",
    "print(s[14])# indexing"
   ]
  },
  {
   "cell_type": "code",
   "execution_count": 21,
   "metadata": {},
   "outputs": [
    {
     "name": "stdout",
     "output_type": "stream",
     "text": [
      "^%$987^$%654$#,321\n"
     ]
    }
   ],
   "source": [
    "s=\"123,#$456%$^789$%^\"\n",
    "print(s[::-1])"
   ]
  },
  {
   "cell_type": "code",
   "execution_count": 22,
   "metadata": {},
   "outputs": [
    {
     "name": "stdout",
     "output_type": "stream",
     "text": [
      "1\n",
      "2\n",
      "3\n",
      ",\n",
      "#\n",
      "$\n",
      "4\n",
      "5\n",
      "6\n",
      "%\n",
      "$\n",
      "^\n",
      "7\n",
      "8\n",
      "9\n",
      "$\n",
      "%\n",
      "^\n"
     ]
    }
   ],
   "source": [
    "s=\"123,#$456%$^789$%^\"\n",
    "for i in s:\n",
    "    print(i)"
   ]
  },
  {
   "cell_type": "code",
   "execution_count": 24,
   "metadata": {},
   "outputs": [
    {
     "name": "stdout",
     "output_type": "stream",
     "text": [
      "123\n",
      "not a number\n",
      "\n",
      "not a number\n",
      "\n",
      "not a number\n",
      "456\n",
      "not a number\n",
      "\n",
      "not a number\n",
      "\n",
      "not a number\n",
      "789\n",
      "not a number\n",
      "\n",
      "not a number\n",
      "\n",
      "not a number\n"
     ]
    }
   ],
   "source": [
    "s=\"123,#$456%$^789$%^\"\n",
    "sub=\"\"\n",
    "for i in s:\n",
    "    if ord(i) in range(ord(\"0\"),ord(\"9\")+1):\n",
    "        sub=sub+i\n",
    "    else:\n",
    "        print(sub)\n",
    "        sub=\"\"\n",
    "        print(\"not a number\")\n",
    "        "
   ]
  },
  {
   "cell_type": "code",
   "execution_count": 25,
   "metadata": {},
   "outputs": [
    {
     "name": "stdout",
     "output_type": "stream",
     "text": [
      "321,#$654%$^987$%^\n"
     ]
    }
   ],
   "source": [
    "s=\"123,#$456%$^789$%^\"\n",
    "sub=\"\"\n",
    "res=\"\"\n",
    "for i in s:\n",
    "    if ord(i) in range(ord(\"0\"),ord(\"9\")+1):\n",
    "        sub=sub+i\n",
    "    else:\n",
    "        res=res+sub[::-1]+i\n",
    "        sub=\"\"\n",
    "print(res)\n",
    "        "
   ]
  },
  {
   "cell_type": "code",
   "execution_count": null,
   "metadata": {},
   "outputs": [],
   "source": [
    "s=\"abc123def456ghi789\"\n",
    "res=\"cba123fed456ihg789\"\n"
   ]
  }
 ],
 "metadata": {
  "kernelspec": {
   "display_name": "Python 3",
   "language": "python",
   "name": "python3"
  },
  "language_info": {
   "codemirror_mode": {
    "name": "ipython",
    "version": 3
   },
   "file_extension": ".py",
   "mimetype": "text/x-python",
   "name": "python",
   "nbconvert_exporter": "python",
   "pygments_lexer": "ipython3",
   "version": "3.8.3"
  }
 },
 "nbformat": 4,
 "nbformat_minor": 4
}
