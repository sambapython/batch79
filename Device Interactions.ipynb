{
 "cells": [
  {
   "cell_type": "code",
   "execution_count": 1,
   "metadata": {},
   "outputs": [],
   "source": [
    "#pip install requests\n",
    "import requests"
   ]
  },
  {
   "cell_type": "code",
   "execution_count": 2,
   "metadata": {},
   "outputs": [],
   "source": [
    "base_url = \"https://reqres.in/\"\n",
    "user_url = \"/\".join([base_url,\"api/users?page=2\"])\n",
    "resp = requests.get(user_url)"
   ]
  },
  {
   "cell_type": "code",
   "execution_count": 3,
   "metadata": {},
   "outputs": [
    {
     "name": "stdout",
     "output_type": "stream",
     "text": [
      "<Response [404]>\n"
     ]
    }
   ],
   "source": [
    "print(resp)"
   ]
  },
  {
   "cell_type": "code",
   "execution_count": 5,
   "metadata": {},
   "outputs": [
    {
     "name": "stdout",
     "output_type": "stream",
     "text": [
      "https://reqres.in/api/users?page=2\n"
     ]
    }
   ],
   "source": [
    "base_url = \"https://reqres.in\"\n",
    "user_url = \"/\".join([base_url,\"api/users?page=2\"])\n",
    "print(user_url)"
   ]
  },
  {
   "cell_type": "code",
   "execution_count": 6,
   "metadata": {},
   "outputs": [
    {
     "name": "stdout",
     "output_type": "stream",
     "text": [
      "https://reqres.in/api/users?page=2\n"
     ]
    }
   ],
   "source": [
    "base_url = \"https://reqres.in\"\n",
    "user_url = \"/\".join([base_url,\"api/users?page=2\"])\n",
    "print(user_url)\n",
    "resp = requests.get(user_url)"
   ]
  },
  {
   "cell_type": "code",
   "execution_count": 7,
   "metadata": {},
   "outputs": [
    {
     "name": "stdout",
     "output_type": "stream",
     "text": [
      "<Response [200]>\n"
     ]
    }
   ],
   "source": [
    "print(resp)"
   ]
  },
  {
   "cell_type": "code",
   "execution_count": 8,
   "metadata": {},
   "outputs": [
    {
     "name": "stdout",
     "output_type": "stream",
     "text": [
      "{'page': 2, 'per_page': 6, 'total': 12, 'total_pages': 2, 'data': [{'id': 7, 'email': 'michael.lawson@reqres.in', 'first_name': 'Michael', 'last_name': 'Lawson', 'avatar': 'https://reqres.in/img/faces/7-image.jpg'}, {'id': 8, 'email': 'lindsay.ferguson@reqres.in', 'first_name': 'Lindsay', 'last_name': 'Ferguson', 'avatar': 'https://reqres.in/img/faces/8-image.jpg'}, {'id': 9, 'email': 'tobias.funke@reqres.in', 'first_name': 'Tobias', 'last_name': 'Funke', 'avatar': 'https://reqres.in/img/faces/9-image.jpg'}, {'id': 10, 'email': 'byron.fields@reqres.in', 'first_name': 'Byron', 'last_name': 'Fields', 'avatar': 'https://reqres.in/img/faces/10-image.jpg'}, {'id': 11, 'email': 'george.edwards@reqres.in', 'first_name': 'George', 'last_name': 'Edwards', 'avatar': 'https://reqres.in/img/faces/11-image.jpg'}, {'id': 12, 'email': 'rachel.howell@reqres.in', 'first_name': 'Rachel', 'last_name': 'Howell', 'avatar': 'https://reqres.in/img/faces/12-image.jpg'}], 'support': {'url': 'https://reqres.in/#support-heading', 'text': 'To keep ReqRes free, contributions towards server costs are appreciated!'}}\n"
     ]
    }
   ],
   "source": [
    "print(resp.json())"
   ]
  },
  {
   "cell_type": "code",
   "execution_count": 9,
   "metadata": {},
   "outputs": [],
   "source": [
    "data = resp.json()"
   ]
  },
  {
   "cell_type": "code",
   "execution_count": 11,
   "metadata": {},
   "outputs": [
    {
     "name": "stdout",
     "output_type": "stream",
     "text": [
      "{'page': 2, 'per_page': 6, 'total': 12, 'total_pages': 2, 'data': [{'id': 7, 'email': 'michael.lawson@reqres.in', 'first_name': 'Michael', 'last_name': 'Lawson', 'avatar': 'https://reqres.in/img/faces/7-image.jpg'}, {'id': 8, 'email': 'lindsay.ferguson@reqres.in', 'first_name': 'Lindsay', 'last_name': 'Ferguson', 'avatar': 'https://reqres.in/img/faces/8-image.jpg'}, {'id': 9, 'email': 'tobias.funke@reqres.in', 'first_name': 'Tobias', 'last_name': 'Funke', 'avatar': 'https://reqres.in/img/faces/9-image.jpg'}, {'id': 10, 'email': 'byron.fields@reqres.in', 'first_name': 'Byron', 'last_name': 'Fields', 'avatar': 'https://reqres.in/img/faces/10-image.jpg'}, {'id': 11, 'email': 'george.edwards@reqres.in', 'first_name': 'George', 'last_name': 'Edwards', 'avatar': 'https://reqres.in/img/faces/11-image.jpg'}, {'id': 12, 'email': 'rachel.howell@reqres.in', 'first_name': 'Rachel', 'last_name': 'Howell', 'avatar': 'https://reqres.in/img/faces/12-image.jpg'}], 'support': {'url': 'https://reqres.in/#support-heading', 'text': 'To keep ReqRes free, contributions towards server costs are appreciated!'}} <class 'dict'>\n"
     ]
    }
   ],
   "source": [
    "print(data, type(data))"
   ]
  },
  {
   "cell_type": "code",
   "execution_count": 13,
   "metadata": {},
   "outputs": [
    {
     "name": "stdout",
     "output_type": "stream",
     "text": [
      "[{'id': 7, 'email': 'michael.lawson@reqres.in', 'first_name': 'Michael', 'last_name': 'Lawson', 'avatar': 'https://reqres.in/img/faces/7-image.jpg'}, {'id': 8, 'email': 'lindsay.ferguson@reqres.in', 'first_name': 'Lindsay', 'last_name': 'Ferguson', 'avatar': 'https://reqres.in/img/faces/8-image.jpg'}, {'id': 9, 'email': 'tobias.funke@reqres.in', 'first_name': 'Tobias', 'last_name': 'Funke', 'avatar': 'https://reqres.in/img/faces/9-image.jpg'}, {'id': 10, 'email': 'byron.fields@reqres.in', 'first_name': 'Byron', 'last_name': 'Fields', 'avatar': 'https://reqres.in/img/faces/10-image.jpg'}, {'id': 11, 'email': 'george.edwards@reqres.in', 'first_name': 'George', 'last_name': 'Edwards', 'avatar': 'https://reqres.in/img/faces/11-image.jpg'}, {'id': 12, 'email': 'rachel.howell@reqres.in', 'first_name': 'Rachel', 'last_name': 'Howell', 'avatar': 'https://reqres.in/img/faces/12-image.jpg'}]\n"
     ]
    }
   ],
   "source": [
    "print(data.get(\"data\"))"
   ]
  },
  {
   "cell_type": "code",
   "execution_count": 14,
   "metadata": {},
   "outputs": [
    {
     "name": "stdout",
     "output_type": "stream",
     "text": [
      "michael.lawson@reqres.in\n",
      "lindsay.ferguson@reqres.in\n",
      "tobias.funke@reqres.in\n",
      "byron.fields@reqres.in\n",
      "george.edwards@reqres.in\n",
      "rachel.howell@reqres.in\n"
     ]
    }
   ],
   "source": [
    "for person in data.get(\"data\"):\n",
    "    print(person.get(\"email\"))"
   ]
  },
  {
   "cell_type": "code",
   "execution_count": 15,
   "metadata": {},
   "outputs": [],
   "source": [
    "base_url = \"https://reqres.in\"\n",
    "user_url = \"/\".join([base_url,\"api/users?page=3\"])\n",
    "resp = requests.get(user_url)\n",
    "for person in resp.json().get(\"data\"):\n",
    "    print(person.get(\"email\"))"
   ]
  },
  {
   "cell_type": "code",
   "execution_count": 16,
   "metadata": {},
   "outputs": [
    {
     "name": "stdout",
     "output_type": "stream",
     "text": [
      "george.bluth@reqres.in\n",
      "janet.weaver@reqres.in\n",
      "emma.wong@reqres.in\n",
      "eve.holt@reqres.in\n",
      "charles.morris@reqres.in\n",
      "tracey.ramos@reqres.in\n"
     ]
    }
   ],
   "source": [
    "base_url = \"https://reqres.in\"\n",
    "user_url = \"/\".join([base_url,\"api/users?page=1\"])\n",
    "resp = requests.get(user_url)\n",
    "for person in resp.json().get(\"data\"):\n",
    "    print(person.get(\"email\"))"
   ]
  },
  {
   "cell_type": "code",
   "execution_count": 18,
   "metadata": {},
   "outputs": [
    {
     "name": "stdout",
     "output_type": "stream",
     "text": [
      "PAGE 1 DETAILS..............\n",
      "george.bluth@reqres.in\n",
      "janet.weaver@reqres.in\n",
      "emma.wong@reqres.in\n",
      "eve.holt@reqres.in\n",
      "charles.morris@reqres.in\n",
      "tracey.ramos@reqres.in\n",
      "PAGE 2 DETAILS..............\n",
      "michael.lawson@reqres.in\n",
      "lindsay.ferguson@reqres.in\n",
      "tobias.funke@reqres.in\n",
      "byron.fields@reqres.in\n",
      "george.edwards@reqres.in\n",
      "rachel.howell@reqres.in\n",
      "PAGE 3 DETAILS..............\n",
      "PAGE 4 DETAILS..............\n",
      "PAGE 5 DETAILS..............\n",
      "PAGE 6 DETAILS..............\n",
      "PAGE 7 DETAILS..............\n",
      "PAGE 8 DETAILS..............\n",
      "PAGE 9 DETAILS..............\n"
     ]
    }
   ],
   "source": [
    "base_url = \"https://reqres.in\"\n",
    "for i in range(1,10):\n",
    "    print(f\"PAGE {i} DETAILS..............\")\n",
    "    user_url = \"/\".join([base_url,f\"api/users?page={i}\"])\n",
    "    resp = requests.get(user_url)\n",
    "    for person in resp.json().get(\"data\"):\n",
    "        print(person.get(\"email\"))"
   ]
  },
  {
   "cell_type": "code",
   "execution_count": 20,
   "metadata": {},
   "outputs": [],
   "source": [
    "post_user_url=\"/\".join([base_url, \"api/users/\"])\n",
    "data = {\n",
    "    \"name\": \"samba\",\n",
    "    \"job\": \"software developer\"\n",
    "}\n",
    "resp = requests.post(post_user_url, json=data)"
   ]
  },
  {
   "cell_type": "code",
   "execution_count": 21,
   "metadata": {},
   "outputs": [
    {
     "name": "stdout",
     "output_type": "stream",
     "text": [
      "<Response [201]>\n"
     ]
    }
   ],
   "source": [
    "print(resp)"
   ]
  },
  {
   "cell_type": "code",
   "execution_count": 22,
   "metadata": {},
   "outputs": [
    {
     "data": {
      "text/plain": [
       "{'name': 'samba',\n",
       " 'job': 'software developer',\n",
       " 'id': '251',\n",
       " 'createdAt': '2021-11-11T03:35:25.008Z'}"
      ]
     },
     "execution_count": 22,
     "metadata": {},
     "output_type": "execute_result"
    }
   ],
   "source": [
    "resp.json()"
   ]
  },
  {
   "cell_type": "code",
   "execution_count": 23,
   "metadata": {},
   "outputs": [
    {
     "name": "stdout",
     "output_type": "stream",
     "text": [
      "<Response [200]>\n"
     ]
    }
   ],
   "source": [
    "single_user_url = \"/\".join([base_url, \"api/users/2\"])\n",
    "resp = requests.get(single_user_url)\n",
    "print(resp)"
   ]
  },
  {
   "cell_type": "code",
   "execution_count": 24,
   "metadata": {},
   "outputs": [
    {
     "data": {
      "text/plain": [
       "{'data': {'id': 2,\n",
       "  'email': 'janet.weaver@reqres.in',\n",
       "  'first_name': 'Janet',\n",
       "  'last_name': 'Weaver',\n",
       "  'avatar': 'https://reqres.in/img/faces/2-image.jpg'},\n",
       " 'support': {'url': 'https://reqres.in/#support-heading',\n",
       "  'text': 'To keep ReqRes free, contributions towards server costs are appreciated!'}}"
      ]
     },
     "execution_count": 24,
     "metadata": {},
     "output_type": "execute_result"
    }
   ],
   "source": [
    "resp.json()"
   ]
  },
  {
   "cell_type": "code",
   "execution_count": 25,
   "metadata": {},
   "outputs": [
    {
     "name": "stdout",
     "output_type": "stream",
     "text": [
      "<Response [200]>\n",
      "{'name': 'JANET WEAVER', 'updatedAt': '2021-11-11T03:38:22.590Z'}\n",
      "<Response [200]>\n",
      "{'data': {'id': 2, 'email': 'janet.weaver@reqres.in', 'first_name': 'Janet', 'last_name': 'Weaver', 'avatar': 'https://reqres.in/img/faces/2-image.jpg'}, 'support': {'url': 'https://reqres.in/#support-heading', 'text': 'To keep ReqRes free, contributions towards server costs are appreciated!'}}\n"
     ]
    }
   ],
   "source": [
    "single_user_url = \"/\".join([base_url, \"api/users/2\"])\n",
    "resp = requests.put(single_user_url, json={\"name\":\"JANET WEAVER\"})\n",
    "print(resp)\n",
    "print(resp.json())\n",
    "resp = requests.get(single_user_url)\n",
    "print(resp)\n",
    "print(resp.json())"
   ]
  },
  {
   "cell_type": "code",
   "execution_count": 27,
   "metadata": {},
   "outputs": [
    {
     "name": "stdout",
     "output_type": "stream",
     "text": [
      "https://api.github.com/orgs/khyaathitrainings47/repos\n",
      "<Response [404]>\n"
     ]
    }
   ],
   "source": [
    "org=\"khyaathitrainings47\"\n",
    "base_url = \"https://api.github.com\"\n",
    "repos_url = \"/\".join([base_url, f\"orgs/{org}/repos\"])\n",
    "print(repos_url)\n",
    "resp = requests.get(repos_url)\n",
    "print(resp)"
   ]
  },
  {
   "cell_type": "code",
   "execution_count": 28,
   "metadata": {},
   "outputs": [
    {
     "name": "stdout",
     "output_type": "stream",
     "text": [
      "https://api.github.com/orgs/orgkhyaathi47/repos\n",
      "<Response [200]>\n"
     ]
    }
   ],
   "source": [
    "org = \"orgkhyaathi47\"\n",
    "base_url = \"https://api.github.com\"\n",
    "repos_url = \"/\".join([base_url, f\"orgs/{org}/repos\"])\n",
    "print(repos_url)\n",
    "resp = requests.get(repos_url)\n",
    "print(resp)"
   ]
  },
  {
   "cell_type": "code",
   "execution_count": 29,
   "metadata": {},
   "outputs": [
    {
     "data": {
      "text/plain": [
       "[]"
      ]
     },
     "execution_count": 29,
     "metadata": {},
     "output_type": "execute_result"
    }
   ],
   "source": [
    "resp.json()"
   ]
  },
  {
   "cell_type": "code",
   "execution_count": 30,
   "metadata": {},
   "outputs": [
    {
     "name": "stdout",
     "output_type": "stream",
     "text": [
      "https://api.github.com/orgs/orgkhyaathi47/repos\n",
      "<Response [200]>\n",
      "[]\n"
     ]
    }
   ],
   "source": [
    "org = \"orgkhyaathi47\"\n",
    "base_url = \"https://api.github.com\"\n",
    "repos_url = \"/\".join([base_url, f\"orgs/{org}/repos\"])\n",
    "print(repos_url)\n",
    "resp = requests.get(repos_url)\n",
    "print(resp)\n",
    "print(resp.json())"
   ]
  },
  {
   "cell_type": "code",
   "execution_count": 31,
   "metadata": {},
   "outputs": [
    {
     "name": "stdout",
     "output_type": "stream",
     "text": [
      "https://api.github.com/orgs/orgkhyaathi47/repos\n",
      "<Response [200]>\n",
      "[{'id': 426862211, 'node_id': 'R_kgDOGXFmgw', 'name': 'repo2', 'full_name': 'orgkhyaathi47/repo2', 'private': False, 'owner': {'login': 'orgkhyaathi47', 'id': 94094734, 'node_id': 'O_kgDOBZvFjg', 'avatar_url': 'https://avatars.githubusercontent.com/u/94094734?v=4', 'gravatar_id': '', 'url': 'https://api.github.com/users/orgkhyaathi47', 'html_url': 'https://github.com/orgkhyaathi47', 'followers_url': 'https://api.github.com/users/orgkhyaathi47/followers', 'following_url': 'https://api.github.com/users/orgkhyaathi47/following{/other_user}', 'gists_url': 'https://api.github.com/users/orgkhyaathi47/gists{/gist_id}', 'starred_url': 'https://api.github.com/users/orgkhyaathi47/starred{/owner}{/repo}', 'subscriptions_url': 'https://api.github.com/users/orgkhyaathi47/subscriptions', 'organizations_url': 'https://api.github.com/users/orgkhyaathi47/orgs', 'repos_url': 'https://api.github.com/users/orgkhyaathi47/repos', 'events_url': 'https://api.github.com/users/orgkhyaathi47/events{/privacy}', 'received_events_url': 'https://api.github.com/users/orgkhyaathi47/received_events', 'type': 'Organization', 'site_admin': False}, 'html_url': 'https://github.com/orgkhyaathi47/repo2', 'description': None, 'fork': False, 'url': 'https://api.github.com/repos/orgkhyaathi47/repo2', 'forks_url': 'https://api.github.com/repos/orgkhyaathi47/repo2/forks', 'keys_url': 'https://api.github.com/repos/orgkhyaathi47/repo2/keys{/key_id}', 'collaborators_url': 'https://api.github.com/repos/orgkhyaathi47/repo2/collaborators{/collaborator}', 'teams_url': 'https://api.github.com/repos/orgkhyaathi47/repo2/teams', 'hooks_url': 'https://api.github.com/repos/orgkhyaathi47/repo2/hooks', 'issue_events_url': 'https://api.github.com/repos/orgkhyaathi47/repo2/issues/events{/number}', 'events_url': 'https://api.github.com/repos/orgkhyaathi47/repo2/events', 'assignees_url': 'https://api.github.com/repos/orgkhyaathi47/repo2/assignees{/user}', 'branches_url': 'https://api.github.com/repos/orgkhyaathi47/repo2/branches{/branch}', 'tags_url': 'https://api.github.com/repos/orgkhyaathi47/repo2/tags', 'blobs_url': 'https://api.github.com/repos/orgkhyaathi47/repo2/git/blobs{/sha}', 'git_tags_url': 'https://api.github.com/repos/orgkhyaathi47/repo2/git/tags{/sha}', 'git_refs_url': 'https://api.github.com/repos/orgkhyaathi47/repo2/git/refs{/sha}', 'trees_url': 'https://api.github.com/repos/orgkhyaathi47/repo2/git/trees{/sha}', 'statuses_url': 'https://api.github.com/repos/orgkhyaathi47/repo2/statuses/{sha}', 'languages_url': 'https://api.github.com/repos/orgkhyaathi47/repo2/languages', 'stargazers_url': 'https://api.github.com/repos/orgkhyaathi47/repo2/stargazers', 'contributors_url': 'https://api.github.com/repos/orgkhyaathi47/repo2/contributors', 'subscribers_url': 'https://api.github.com/repos/orgkhyaathi47/repo2/subscribers', 'subscription_url': 'https://api.github.com/repos/orgkhyaathi47/repo2/subscription', 'commits_url': 'https://api.github.com/repos/orgkhyaathi47/repo2/commits{/sha}', 'git_commits_url': 'https://api.github.com/repos/orgkhyaathi47/repo2/git/commits{/sha}', 'comments_url': 'https://api.github.com/repos/orgkhyaathi47/repo2/comments{/number}', 'issue_comment_url': 'https://api.github.com/repos/orgkhyaathi47/repo2/issues/comments{/number}', 'contents_url': 'https://api.github.com/repos/orgkhyaathi47/repo2/contents/{+path}', 'compare_url': 'https://api.github.com/repos/orgkhyaathi47/repo2/compare/{base}...{head}', 'merges_url': 'https://api.github.com/repos/orgkhyaathi47/repo2/merges', 'archive_url': 'https://api.github.com/repos/orgkhyaathi47/repo2/{archive_format}{/ref}', 'downloads_url': 'https://api.github.com/repos/orgkhyaathi47/repo2/downloads', 'issues_url': 'https://api.github.com/repos/orgkhyaathi47/repo2/issues{/number}', 'pulls_url': 'https://api.github.com/repos/orgkhyaathi47/repo2/pulls{/number}', 'milestones_url': 'https://api.github.com/repos/orgkhyaathi47/repo2/milestones{/number}', 'notifications_url': 'https://api.github.com/repos/orgkhyaathi47/repo2/notifications{?since,all,participating}', 'labels_url': 'https://api.github.com/repos/orgkhyaathi47/repo2/labels{/name}', 'releases_url': 'https://api.github.com/repos/orgkhyaathi47/repo2/releases{/id}', 'deployments_url': 'https://api.github.com/repos/orgkhyaathi47/repo2/deployments', 'created_at': '2021-11-11T03:48:34Z', 'updated_at': '2021-11-11T03:48:34Z', 'pushed_at': '2021-11-11T03:48:35Z', 'git_url': 'git://github.com/orgkhyaathi47/repo2.git', 'ssh_url': 'git@github.com:orgkhyaathi47/repo2.git', 'clone_url': 'https://github.com/orgkhyaathi47/repo2.git', 'svn_url': 'https://github.com/orgkhyaathi47/repo2', 'homepage': None, 'size': 0, 'stargazers_count': 0, 'watchers_count': 0, 'language': None, 'has_issues': True, 'has_projects': True, 'has_downloads': True, 'has_wiki': True, 'has_pages': False, 'forks_count': 0, 'mirror_url': None, 'archived': False, 'disabled': False, 'open_issues_count': 0, 'license': None, 'allow_forking': True, 'is_template': False, 'topics': [], 'visibility': 'public', 'forks': 0, 'open_issues': 0, 'watchers': 0, 'default_branch': 'main', 'permissions': {'admin': False, 'maintain': False, 'push': False, 'triage': False, 'pull': True}}]\n"
     ]
    }
   ],
   "source": [
    "org = \"orgkhyaathi47\"\n",
    "base_url = \"https://api.github.com\"\n",
    "repos_url = \"/\".join([base_url, f\"orgs/{org}/repos\"])\n",
    "print(repos_url)\n",
    "resp = requests.get(repos_url)\n",
    "print(resp)\n",
    "print(resp.json())"
   ]
  },
  {
   "cell_type": "code",
   "execution_count": 32,
   "metadata": {},
   "outputs": [
    {
     "name": "stdout",
     "output_type": "stream",
     "text": [
      "https://api.github.com/orgs/orgkhyaathi47/repos\n",
      "<Response [401]>\n",
      "{'message': 'Requires authentication', 'documentation_url': 'https://docs.github.com/rest/reference/repos#create-an-organization-repository'}\n"
     ]
    }
   ],
   "source": [
    "org = \"orgkhyaathi47\"\n",
    "base_url = \"https://api.github.com\"\n",
    "repos_url = \"/\".join([base_url, f\"orgs/{org}/repos\"])\n",
    "print(repos_url)\n",
    "resp = requests.post(repos_url,json={\"name\":\"repo3\"},auth=('khyaathitrainings47',\"\"))\n",
    "print(resp)\n",
    "print(resp.json())"
   ]
  },
  {
   "cell_type": "code",
   "execution_count": 1,
   "metadata": {},
   "outputs": [
    {
     "ename": "ModuleNotFoundError",
     "evalue": "No module named 'praramiko'",
     "output_type": "error",
     "traceback": [
      "\u001b[1;31m---------------------------------------------------------------------------\u001b[0m",
      "\u001b[1;31mModuleNotFoundError\u001b[0m                       Traceback (most recent call last)",
      "\u001b[1;32m<ipython-input-1-d99abeea8123>\u001b[0m in \u001b[0;36m<module>\u001b[1;34m\u001b[0m\n\u001b[0;32m      1\u001b[0m \u001b[1;31m# to connect to AWS, AZURE, google cloud, any device.\u001b[0m\u001b[1;33m\u001b[0m\u001b[1;33m\u001b[0m\u001b[1;33m\u001b[0m\u001b[0m\n\u001b[1;32m----> 2\u001b[1;33m \u001b[1;32mimport\u001b[0m \u001b[0mpraramiko\u001b[0m\u001b[1;33m\u001b[0m\u001b[1;33m\u001b[0m\u001b[0m\n\u001b[0m",
      "\u001b[1;31mModuleNotFoundError\u001b[0m: No module named 'praramiko'"
     ]
    }
   ],
   "source": [
    "# to connect to AWS, AZURE, google cloud, any device.\n",
    "import praramiko\n",
    "# to connect to ssh service.\n"
   ]
  },
  {
   "cell_type": "code",
   "execution_count": 2,
   "metadata": {},
   "outputs": [],
   "source": [
    "import os"
   ]
  },
  {
   "cell_type": "code",
   "execution_count": 3,
   "metadata": {},
   "outputs": [
    {
     "name": "stdout",
     "output_type": "stream",
     "text": [
      "['DirEntry', 'F_OK', 'MutableMapping', 'O_APPEND', 'O_BINARY', 'O_CREAT', 'O_EXCL', 'O_NOINHERIT', 'O_RANDOM', 'O_RDONLY', 'O_RDWR', 'O_SEQUENTIAL', 'O_SHORT_LIVED', 'O_TEMPORARY', 'O_TEXT', 'O_TRUNC', 'O_WRONLY', 'P_DETACH', 'P_NOWAIT', 'P_NOWAITO', 'P_OVERLAY', 'P_WAIT', 'PathLike', 'R_OK', 'SEEK_CUR', 'SEEK_END', 'SEEK_SET', 'TMP_MAX', 'W_OK', 'X_OK', '_AddedDllDirectory', '_Environ', '__all__', '__builtins__', '__cached__', '__doc__', '__file__', '__loader__', '__name__', '__package__', '__spec__', '_check_methods', '_execvpe', '_exists', '_exit', '_fspath', '_get_exports_list', '_putenv', '_unsetenv', '_wrap_close', 'abc', 'abort', 'access', 'add_dll_directory', 'altsep', 'chdir', 'chmod', 'close', 'closerange', 'cpu_count', 'curdir', 'defpath', 'device_encoding', 'devnull', 'dup', 'dup2', 'environ', 'error', 'execl', 'execle', 'execlp', 'execlpe', 'execv', 'execve', 'execvp', 'execvpe', 'extsep', 'fdopen', 'fsdecode', 'fsencode', 'fspath', 'fstat', 'fsync', 'ftruncate', 'get_exec_path', 'get_handle_inheritable', 'get_inheritable', 'get_terminal_size', 'getcwd', 'getcwdb', 'getenv', 'getlogin', 'getpid', 'getppid', 'isatty', 'kill', 'linesep', 'link', 'listdir', 'lseek', 'lstat', 'makedirs', 'mkdir', 'name', 'open', 'pardir', 'path', 'pathsep', 'pipe', 'popen', 'putenv', 'read', 'readlink', 'remove', 'removedirs', 'rename', 'renames', 'replace', 'rmdir', 'scandir', 'sep', 'set_handle_inheritable', 'set_inheritable', 'spawnl', 'spawnle', 'spawnv', 'spawnve', 'st', 'startfile', 'stat', 'stat_result', 'statvfs_result', 'strerror', 'supports_bytes_environ', 'supports_dir_fd', 'supports_effective_ids', 'supports_fd', 'supports_follow_symlinks', 'symlink', 'sys', 'system', 'terminal_size', 'times', 'times_result', 'truncate', 'umask', 'uname_result', 'unlink', 'urandom', 'utime', 'waitpid', 'walk', 'write']\n"
     ]
    }
   ],
   "source": [
    "print(dir(os))"
   ]
  },
  {
   "cell_type": "code",
   "execution_count": 4,
   "metadata": {},
   "outputs": [],
   "source": [
    "os.system?"
   ]
  },
  {
   "cell_type": "code",
   "execution_count": 5,
   "metadata": {},
   "outputs": [
    {
     "data": {
      "text/plain": [
       "0"
      ]
     },
     "execution_count": 5,
     "metadata": {},
     "output_type": "execute_result"
    }
   ],
   "source": [
    "os.system(\"mkdir f2\")"
   ]
  },
  {
   "cell_type": "code",
   "execution_count": 6,
   "metadata": {},
   "outputs": [
    {
     "data": {
      "text/plain": [
       "0"
      ]
     },
     "execution_count": 6,
     "metadata": {},
     "output_type": "execute_result"
    }
   ],
   "source": [
    "os.system(\"dir\")"
   ]
  },
  {
   "cell_type": "code",
   "execution_count": 8,
   "metadata": {},
   "outputs": [],
   "source": [
    "import subprocess"
   ]
  },
  {
   "cell_type": "code",
   "execution_count": 9,
   "metadata": {},
   "outputs": [
    {
     "ename": "FileNotFoundError",
     "evalue": "[WinError 2] The system cannot find the file specified",
     "output_type": "error",
     "traceback": [
      "\u001b[1;31m---------------------------------------------------------------------------\u001b[0m",
      "\u001b[1;31mFileNotFoundError\u001b[0m                         Traceback (most recent call last)",
      "\u001b[1;32m<ipython-input-9-97e265ae19ab>\u001b[0m in \u001b[0;36m<module>\u001b[1;34m\u001b[0m\n\u001b[1;32m----> 1\u001b[1;33m \u001b[0mresult\u001b[0m \u001b[1;33m=\u001b[0m \u001b[0msubprocess\u001b[0m\u001b[1;33m.\u001b[0m\u001b[0mcheck_output\u001b[0m\u001b[1;33m(\u001b[0m\u001b[1;33m[\u001b[0m\u001b[1;34m\"dir\"\u001b[0m\u001b[1;33m]\u001b[0m\u001b[1;33m)\u001b[0m\u001b[1;33m\u001b[0m\u001b[1;33m\u001b[0m\u001b[0m\n\u001b[0m",
      "\u001b[1;32mc:\\python38\\lib\\subprocess.py\u001b[0m in \u001b[0;36mcheck_output\u001b[1;34m(timeout, *popenargs, **kwargs)\u001b[0m\n\u001b[0;32m    409\u001b[0m         \u001b[0mkwargs\u001b[0m\u001b[1;33m[\u001b[0m\u001b[1;34m'input'\u001b[0m\u001b[1;33m]\u001b[0m \u001b[1;33m=\u001b[0m \u001b[1;34m''\u001b[0m \u001b[1;32mif\u001b[0m \u001b[0mkwargs\u001b[0m\u001b[1;33m.\u001b[0m\u001b[0mget\u001b[0m\u001b[1;33m(\u001b[0m\u001b[1;34m'universal_newlines'\u001b[0m\u001b[1;33m,\u001b[0m \u001b[1;32mFalse\u001b[0m\u001b[1;33m)\u001b[0m \u001b[1;32melse\u001b[0m \u001b[1;34mb''\u001b[0m\u001b[1;33m\u001b[0m\u001b[1;33m\u001b[0m\u001b[0m\n\u001b[0;32m    410\u001b[0m \u001b[1;33m\u001b[0m\u001b[0m\n\u001b[1;32m--> 411\u001b[1;33m     return run(*popenargs, stdout=PIPE, timeout=timeout, check=True,\n\u001b[0m\u001b[0;32m    412\u001b[0m                **kwargs).stdout\n\u001b[0;32m    413\u001b[0m \u001b[1;33m\u001b[0m\u001b[0m\n",
      "\u001b[1;32mc:\\python38\\lib\\subprocess.py\u001b[0m in \u001b[0;36mrun\u001b[1;34m(input, capture_output, timeout, check, *popenargs, **kwargs)\u001b[0m\n\u001b[0;32m    487\u001b[0m         \u001b[0mkwargs\u001b[0m\u001b[1;33m[\u001b[0m\u001b[1;34m'stderr'\u001b[0m\u001b[1;33m]\u001b[0m \u001b[1;33m=\u001b[0m \u001b[0mPIPE\u001b[0m\u001b[1;33m\u001b[0m\u001b[1;33m\u001b[0m\u001b[0m\n\u001b[0;32m    488\u001b[0m \u001b[1;33m\u001b[0m\u001b[0m\n\u001b[1;32m--> 489\u001b[1;33m     \u001b[1;32mwith\u001b[0m \u001b[0mPopen\u001b[0m\u001b[1;33m(\u001b[0m\u001b[1;33m*\u001b[0m\u001b[0mpopenargs\u001b[0m\u001b[1;33m,\u001b[0m \u001b[1;33m**\u001b[0m\u001b[0mkwargs\u001b[0m\u001b[1;33m)\u001b[0m \u001b[1;32mas\u001b[0m \u001b[0mprocess\u001b[0m\u001b[1;33m:\u001b[0m\u001b[1;33m\u001b[0m\u001b[1;33m\u001b[0m\u001b[0m\n\u001b[0m\u001b[0;32m    490\u001b[0m         \u001b[1;32mtry\u001b[0m\u001b[1;33m:\u001b[0m\u001b[1;33m\u001b[0m\u001b[1;33m\u001b[0m\u001b[0m\n\u001b[0;32m    491\u001b[0m             \u001b[0mstdout\u001b[0m\u001b[1;33m,\u001b[0m \u001b[0mstderr\u001b[0m \u001b[1;33m=\u001b[0m \u001b[0mprocess\u001b[0m\u001b[1;33m.\u001b[0m\u001b[0mcommunicate\u001b[0m\u001b[1;33m(\u001b[0m\u001b[0minput\u001b[0m\u001b[1;33m,\u001b[0m \u001b[0mtimeout\u001b[0m\u001b[1;33m=\u001b[0m\u001b[0mtimeout\u001b[0m\u001b[1;33m)\u001b[0m\u001b[1;33m\u001b[0m\u001b[1;33m\u001b[0m\u001b[0m\n",
      "\u001b[1;32mc:\\python38\\lib\\subprocess.py\u001b[0m in \u001b[0;36m__init__\u001b[1;34m(self, args, bufsize, executable, stdin, stdout, stderr, preexec_fn, close_fds, shell, cwd, env, universal_newlines, startupinfo, creationflags, restore_signals, start_new_session, pass_fds, encoding, errors, text)\u001b[0m\n\u001b[0;32m    852\u001b[0m                             encoding=encoding, errors=errors)\n\u001b[0;32m    853\u001b[0m \u001b[1;33m\u001b[0m\u001b[0m\n\u001b[1;32m--> 854\u001b[1;33m             self._execute_child(args, executable, preexec_fn, close_fds,\n\u001b[0m\u001b[0;32m    855\u001b[0m                                 \u001b[0mpass_fds\u001b[0m\u001b[1;33m,\u001b[0m \u001b[0mcwd\u001b[0m\u001b[1;33m,\u001b[0m \u001b[0menv\u001b[0m\u001b[1;33m,\u001b[0m\u001b[1;33m\u001b[0m\u001b[1;33m\u001b[0m\u001b[0m\n\u001b[0;32m    856\u001b[0m                                 \u001b[0mstartupinfo\u001b[0m\u001b[1;33m,\u001b[0m \u001b[0mcreationflags\u001b[0m\u001b[1;33m,\u001b[0m \u001b[0mshell\u001b[0m\u001b[1;33m,\u001b[0m\u001b[1;33m\u001b[0m\u001b[1;33m\u001b[0m\u001b[0m\n",
      "\u001b[1;32mc:\\python38\\lib\\subprocess.py\u001b[0m in \u001b[0;36m_execute_child\u001b[1;34m(self, args, executable, preexec_fn, close_fds, pass_fds, cwd, env, startupinfo, creationflags, shell, p2cread, p2cwrite, c2pread, c2pwrite, errread, errwrite, unused_restore_signals, unused_start_new_session)\u001b[0m\n\u001b[0;32m   1305\u001b[0m             \u001b[1;31m# Start the process\u001b[0m\u001b[1;33m\u001b[0m\u001b[1;33m\u001b[0m\u001b[1;33m\u001b[0m\u001b[0m\n\u001b[0;32m   1306\u001b[0m             \u001b[1;32mtry\u001b[0m\u001b[1;33m:\u001b[0m\u001b[1;33m\u001b[0m\u001b[1;33m\u001b[0m\u001b[0m\n\u001b[1;32m-> 1307\u001b[1;33m                 hp, ht, pid, tid = _winapi.CreateProcess(executable, args,\n\u001b[0m\u001b[0;32m   1308\u001b[0m                                          \u001b[1;31m# no special security\u001b[0m\u001b[1;33m\u001b[0m\u001b[1;33m\u001b[0m\u001b[1;33m\u001b[0m\u001b[0m\n\u001b[0;32m   1309\u001b[0m                                          \u001b[1;32mNone\u001b[0m\u001b[1;33m,\u001b[0m \u001b[1;32mNone\u001b[0m\u001b[1;33m,\u001b[0m\u001b[1;33m\u001b[0m\u001b[1;33m\u001b[0m\u001b[0m\n",
      "\u001b[1;31mFileNotFoundError\u001b[0m: [WinError 2] The system cannot find the file specified"
     ]
    }
   ],
   "source": [
    "result = subprocess.check_output([\"dir\"])"
   ]
  },
  {
   "cell_type": "code",
   "execution_count": 10,
   "metadata": {},
   "outputs": [
    {
     "ename": "FileNotFoundError",
     "evalue": "[WinError 2] The system cannot find the file specified",
     "output_type": "error",
     "traceback": [
      "\u001b[1;31m---------------------------------------------------------------------------\u001b[0m",
      "\u001b[1;31mFileNotFoundError\u001b[0m                         Traceback (most recent call last)",
      "\u001b[1;32m<ipython-input-10-e16fc72614ac>\u001b[0m in \u001b[0;36m<module>\u001b[1;34m\u001b[0m\n\u001b[1;32m----> 1\u001b[1;33m \u001b[0mresult\u001b[0m \u001b[1;33m=\u001b[0m \u001b[0msubprocess\u001b[0m\u001b[1;33m.\u001b[0m\u001b[0mcheck_output\u001b[0m\u001b[1;33m(\u001b[0m\u001b[1;33m[\u001b[0m\u001b[1;34m\"dir\"\u001b[0m\u001b[1;33m,\u001b[0m \u001b[1;34m\".\"\u001b[0m\u001b[1;33m]\u001b[0m\u001b[1;33m)\u001b[0m\u001b[1;33m\u001b[0m\u001b[1;33m\u001b[0m\u001b[0m\n\u001b[0m",
      "\u001b[1;32mc:\\python38\\lib\\subprocess.py\u001b[0m in \u001b[0;36mcheck_output\u001b[1;34m(timeout, *popenargs, **kwargs)\u001b[0m\n\u001b[0;32m    409\u001b[0m         \u001b[0mkwargs\u001b[0m\u001b[1;33m[\u001b[0m\u001b[1;34m'input'\u001b[0m\u001b[1;33m]\u001b[0m \u001b[1;33m=\u001b[0m \u001b[1;34m''\u001b[0m \u001b[1;32mif\u001b[0m \u001b[0mkwargs\u001b[0m\u001b[1;33m.\u001b[0m\u001b[0mget\u001b[0m\u001b[1;33m(\u001b[0m\u001b[1;34m'universal_newlines'\u001b[0m\u001b[1;33m,\u001b[0m \u001b[1;32mFalse\u001b[0m\u001b[1;33m)\u001b[0m \u001b[1;32melse\u001b[0m \u001b[1;34mb''\u001b[0m\u001b[1;33m\u001b[0m\u001b[1;33m\u001b[0m\u001b[0m\n\u001b[0;32m    410\u001b[0m \u001b[1;33m\u001b[0m\u001b[0m\n\u001b[1;32m--> 411\u001b[1;33m     return run(*popenargs, stdout=PIPE, timeout=timeout, check=True,\n\u001b[0m\u001b[0;32m    412\u001b[0m                **kwargs).stdout\n\u001b[0;32m    413\u001b[0m \u001b[1;33m\u001b[0m\u001b[0m\n",
      "\u001b[1;32mc:\\python38\\lib\\subprocess.py\u001b[0m in \u001b[0;36mrun\u001b[1;34m(input, capture_output, timeout, check, *popenargs, **kwargs)\u001b[0m\n\u001b[0;32m    487\u001b[0m         \u001b[0mkwargs\u001b[0m\u001b[1;33m[\u001b[0m\u001b[1;34m'stderr'\u001b[0m\u001b[1;33m]\u001b[0m \u001b[1;33m=\u001b[0m \u001b[0mPIPE\u001b[0m\u001b[1;33m\u001b[0m\u001b[1;33m\u001b[0m\u001b[0m\n\u001b[0;32m    488\u001b[0m \u001b[1;33m\u001b[0m\u001b[0m\n\u001b[1;32m--> 489\u001b[1;33m     \u001b[1;32mwith\u001b[0m \u001b[0mPopen\u001b[0m\u001b[1;33m(\u001b[0m\u001b[1;33m*\u001b[0m\u001b[0mpopenargs\u001b[0m\u001b[1;33m,\u001b[0m \u001b[1;33m**\u001b[0m\u001b[0mkwargs\u001b[0m\u001b[1;33m)\u001b[0m \u001b[1;32mas\u001b[0m \u001b[0mprocess\u001b[0m\u001b[1;33m:\u001b[0m\u001b[1;33m\u001b[0m\u001b[1;33m\u001b[0m\u001b[0m\n\u001b[0m\u001b[0;32m    490\u001b[0m         \u001b[1;32mtry\u001b[0m\u001b[1;33m:\u001b[0m\u001b[1;33m\u001b[0m\u001b[1;33m\u001b[0m\u001b[0m\n\u001b[0;32m    491\u001b[0m             \u001b[0mstdout\u001b[0m\u001b[1;33m,\u001b[0m \u001b[0mstderr\u001b[0m \u001b[1;33m=\u001b[0m \u001b[0mprocess\u001b[0m\u001b[1;33m.\u001b[0m\u001b[0mcommunicate\u001b[0m\u001b[1;33m(\u001b[0m\u001b[0minput\u001b[0m\u001b[1;33m,\u001b[0m \u001b[0mtimeout\u001b[0m\u001b[1;33m=\u001b[0m\u001b[0mtimeout\u001b[0m\u001b[1;33m)\u001b[0m\u001b[1;33m\u001b[0m\u001b[1;33m\u001b[0m\u001b[0m\n",
      "\u001b[1;32mc:\\python38\\lib\\subprocess.py\u001b[0m in \u001b[0;36m__init__\u001b[1;34m(self, args, bufsize, executable, stdin, stdout, stderr, preexec_fn, close_fds, shell, cwd, env, universal_newlines, startupinfo, creationflags, restore_signals, start_new_session, pass_fds, encoding, errors, text)\u001b[0m\n\u001b[0;32m    852\u001b[0m                             encoding=encoding, errors=errors)\n\u001b[0;32m    853\u001b[0m \u001b[1;33m\u001b[0m\u001b[0m\n\u001b[1;32m--> 854\u001b[1;33m             self._execute_child(args, executable, preexec_fn, close_fds,\n\u001b[0m\u001b[0;32m    855\u001b[0m                                 \u001b[0mpass_fds\u001b[0m\u001b[1;33m,\u001b[0m \u001b[0mcwd\u001b[0m\u001b[1;33m,\u001b[0m \u001b[0menv\u001b[0m\u001b[1;33m,\u001b[0m\u001b[1;33m\u001b[0m\u001b[1;33m\u001b[0m\u001b[0m\n\u001b[0;32m    856\u001b[0m                                 \u001b[0mstartupinfo\u001b[0m\u001b[1;33m,\u001b[0m \u001b[0mcreationflags\u001b[0m\u001b[1;33m,\u001b[0m \u001b[0mshell\u001b[0m\u001b[1;33m,\u001b[0m\u001b[1;33m\u001b[0m\u001b[1;33m\u001b[0m\u001b[0m\n",
      "\u001b[1;32mc:\\python38\\lib\\subprocess.py\u001b[0m in \u001b[0;36m_execute_child\u001b[1;34m(self, args, executable, preexec_fn, close_fds, pass_fds, cwd, env, startupinfo, creationflags, shell, p2cread, p2cwrite, c2pread, c2pwrite, errread, errwrite, unused_restore_signals, unused_start_new_session)\u001b[0m\n\u001b[0;32m   1305\u001b[0m             \u001b[1;31m# Start the process\u001b[0m\u001b[1;33m\u001b[0m\u001b[1;33m\u001b[0m\u001b[1;33m\u001b[0m\u001b[0m\n\u001b[0;32m   1306\u001b[0m             \u001b[1;32mtry\u001b[0m\u001b[1;33m:\u001b[0m\u001b[1;33m\u001b[0m\u001b[1;33m\u001b[0m\u001b[0m\n\u001b[1;32m-> 1307\u001b[1;33m                 hp, ht, pid, tid = _winapi.CreateProcess(executable, args,\n\u001b[0m\u001b[0;32m   1308\u001b[0m                                          \u001b[1;31m# no special security\u001b[0m\u001b[1;33m\u001b[0m\u001b[1;33m\u001b[0m\u001b[1;33m\u001b[0m\u001b[0m\n\u001b[0;32m   1309\u001b[0m                                          \u001b[1;32mNone\u001b[0m\u001b[1;33m,\u001b[0m \u001b[1;32mNone\u001b[0m\u001b[1;33m,\u001b[0m\u001b[1;33m\u001b[0m\u001b[1;33m\u001b[0m\u001b[0m\n",
      "\u001b[1;31mFileNotFoundError\u001b[0m: [WinError 2] The system cannot find the file specified"
     ]
    }
   ],
   "source": [
    "result = subprocess.check_output([\"dir\", \".\"])"
   ]
  },
  {
   "cell_type": "code",
   "execution_count": null,
   "metadata": {},
   "outputs": [],
   "source": [
    "#conect to SSH service\n",
    "import paramiko as pmk\n",
    "import re\n",
    "ssh = pmk.SSHClient()\n",
    "ssh.set_missing_host_key_policy(pmk.AutoAddPolicy())\n",
    "ssh.connect(\"192.168.5.64\",username=\"\",password=\"\")\n",
    "ssh.exec_command(\"mkdir mydear\")\n",
    "sftp = ssh.open_sftp()\n",
    "sftp.put(\"local.py\",\"./mydear/local.py\")\n",
    "ssh.exec_command(\"python ./mydear/local.py\")\n",
    "stdin,stdout,stderr=ssh.exec_command(\"ls -l\")\n",
    "print ssh.exec_command(\"ls -l\")\n",
    "print stdout.readlines()\n",
    "\n",
    "\n",
    "pwd = \"echo pwd| sudo -S\"\n",
    "stdin,stdout,stderr = ssh.exec_command(\"echo pwd| sudo -S ls /proc\")\n",
    "data = stdout.read()\n",
    "ls_folders=re.findall(\".+[a-z]$\",data,re.M)\n",
    "f = open(\"System information.txt\",'w')\n",
    "try:\n",
    "\tfor folder in ls_folders:\n",
    "\t\tmessage=\"\"\"\n",
    "\t\t\t\t..................................................................\n",
    "\t\t\t\t\t\t\t\t\t{0}:Information\n",
    "\t\t\t\t..................................................................\n",
    "\t\t\t\t\"\"\".format(folder)\n",
    "\t\tstdin,stdout,stderr  = ssh.exec_command(\"{0} cat /proc/{1}\".format(pwd,folder))\n",
    "\t\tf.write(message+\"\\n\")\n",
    "\t\tf.writelines(stdout.readlines())\n",
    "\t\tprint \"written {0} folder info\".format(folder)\n",
    "except Exception as err:\n",
    "\tprint err\n",
    "finally:\n",
    "\tf.close()\n",
    "\n",
    "\n",
    "ssh.close()"
   ]
  },
  {
   "cell_type": "code",
   "execution_count": null,
   "metadata": {},
   "outputs": [],
   "source": [
    "# fabric is the new module written on top of paramiko"
   ]
  }
 ],
 "metadata": {
  "kernelspec": {
   "display_name": "Python 3",
   "language": "python",
   "name": "python3"
  },
  "language_info": {
   "codemirror_mode": {
    "name": "ipython",
    "version": 3
   },
   "file_extension": ".py",
   "mimetype": "text/x-python",
   "name": "python",
   "nbconvert_exporter": "python",
   "pygments_lexer": "ipython3",
   "version": "3.8.3"
  }
 },
 "nbformat": 4,
 "nbformat_minor": 4
}
