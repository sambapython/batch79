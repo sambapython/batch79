{
 "cells": [
  {
   "cell_type": "code",
   "execution_count": 1,
   "metadata": {},
   "outputs": [
    {
     "name": "stdout",
     "output_type": "stream",
     "text": [
      "\n",
      "id,name,email,phone\n",
      "1,Hameer,HaMee12@gmail.com,9676620345\n",
      "2,Vamshi,vaMS45@yahoo.co.in,9867234578\n",
      "3,Prathima,PraThim62@tcs.corp.in,8467652437\n",
      "4,Anil,anil@gmail.com,7654937890\n"
     ]
    }
   ],
   "source": [
    "s=\"\"\"\n",
    "id,name,email,phone\n",
    "1,Hameer,HaMee12@gmail.com,9676620345\n",
    "2,Vamshi,vaMS45@yahoo.co.in,9867234578\n",
    "3,Prathima,PraThim62@tcs.corp.in,8467652437\n",
    "4,Anil,anil@gmail.com,7654937890\n",
    "\"\"\"\n",
    "for i in s.splitlines():\n",
    "    print(i)"
   ]
  },
  {
   "cell_type": "code",
   "execution_count": 2,
   "metadata": {
    "scrolled": true
   },
   "outputs": [
    {
     "name": "stdout",
     "output_type": "stream",
     "text": [
      "['id', 'name', 'email', 'phone']\n",
      "['1', 'Hameer', 'HaMee12@gmail.com', '9676620345']\n",
      "['2', 'Vamshi', 'vaMS45@yahoo.co.in', '9867234578']\n",
      "['3', 'Prathima', 'PraThim62@tcs.corp.in', '8467652437']\n",
      "['4', 'Anil', 'anil@gmail.com', '7654937890']\n"
     ]
    }
   ],
   "source": [
    "s=\"\"\"\n",
    "id,name,email,phone\n",
    "1,Hameer,HaMee12@gmail.com,9676620345\n",
    "2,Vamshi,vaMS45@yahoo.co.in,9867234578\n",
    "3,Prathima,PraThim62@tcs.corp.in,8467652437\n",
    "4,Anil,anil@gmail.com,7654937890\n",
    "\"\"\"\n",
    "for i in s.splitlines():\n",
    "    if i:\n",
    "        print(i.split(\",\"))"
   ]
  },
  {
   "cell_type": "code",
   "execution_count": 3,
   "metadata": {},
   "outputs": [
    {
     "name": "stdout",
     "output_type": "stream",
     "text": [
      "email\n",
      "HaMee12@gmail.com\n",
      "vaMS45@yahoo.co.in\n",
      "PraThim62@tcs.corp.in\n",
      "anil@gmail.com\n"
     ]
    }
   ],
   "source": [
    "s=\"\"\"\n",
    "id,name,email,phone\n",
    "1,Hameer,HaMee12@gmail.com,9676620345\n",
    "2,Vamshi,vaMS45@yahoo.co.in,9867234578\n",
    "3,Prathima,PraThim62@tcs.corp.in,8467652437\n",
    "4,Anil,anil@gmail.com,7654937890\n",
    "\"\"\"\n",
    "for i in s.splitlines():\n",
    "    if i:\n",
    "        print(i.split(\",\")[2])"
   ]
  },
  {
   "cell_type": "code",
   "execution_count": 4,
   "metadata": {},
   "outputs": [
    {
     "name": "stdout",
     "output_type": "stream",
     "text": [
      "phone\n",
      "9676620345\n",
      "9867234578\n",
      "8467652437\n",
      "7654937890\n"
     ]
    }
   ],
   "source": [
    "s=\"\"\"\n",
    "id,name,email,phone\n",
    "1,Hameer,HaMee12@gmail.com,9676620345\n",
    "2,Vamshi,vaMS45@yahoo.co.in,9867234578\n",
    "3,Prathima,PraThim62@tcs.corp.in,8467652437\n",
    "4,Anil,anil@gmail.com,7654937890\n",
    "\"\"\"\n",
    "for i in s.splitlines():\n",
    "    if i:\n",
    "        print(i.split(\",\")[3])"
   ]
  },
  {
   "cell_type": "code",
   "execution_count": 5,
   "metadata": {},
   "outputs": [
    {
     "name": "stdout",
     "output_type": "stream",
     "text": [
      "9676620345\n",
      "vaMS45@yahoo.co.in\n",
      "8467652437\n",
      "7654937890\n"
     ]
    }
   ],
   "source": [
    "s=\"\"\"\n",
    "1,Hameer,HaMee12@gmail.com,9676620345\n",
    "9867234578,2,Vamshi,vaMS45@yahoo.co.in\n",
    "PraThim62@tcs.corp.in,3,Prathima,8467652437\n",
    "Anil,4,anil@gmail.com,7654937890\n",
    "\"\"\"\n",
    "for i in s.splitlines():\n",
    "    if i:\n",
    "        print(i.split(\",\")[3])"
   ]
  },
  {
   "cell_type": "code",
   "execution_count": 6,
   "metadata": {},
   "outputs": [
    {
     "name": "stdout",
     "output_type": "stream",
     "text": [
      "HaMee12@gmail.com\n",
      "Vamshi\n",
      "Prathima\n",
      "anil@gmail.com\n"
     ]
    }
   ],
   "source": [
    "s=\"\"\"\n",
    "1,Hameer,HaMee12@gmail.com,9676620345\n",
    "9867234578,2,Vamshi,vaMS45@yahoo.co.in\n",
    "PraThim62@tcs.corp.in,3,Prathima,8467652437\n",
    "Anil,4,anil@gmail.com,7654937890\n",
    "\"\"\"\n",
    "for i in s.splitlines():\n",
    "    if i:\n",
    "        print(i.split(\",\")[2])"
   ]
  },
  {
   "cell_type": "code",
   "execution_count": null,
   "metadata": {},
   "outputs": [],
   "source": []
  }
 ],
 "metadata": {
  "kernelspec": {
   "display_name": "Python 3",
   "language": "python",
   "name": "python3"
  },
  "language_info": {
   "codemirror_mode": {
    "name": "ipython",
    "version": 3
   },
   "file_extension": ".py",
   "mimetype": "text/x-python",
   "name": "python",
   "nbconvert_exporter": "python",
   "pygments_lexer": "ipython3",
   "version": "3.8.3"
  }
 },
 "nbformat": 4,
 "nbformat_minor": 4
}
