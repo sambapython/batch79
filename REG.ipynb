{
 "cells": [
  {
   "cell_type": "code",
   "execution_count": 1,
   "metadata": {},
   "outputs": [
    {
     "name": "stdout",
     "output_type": "stream",
     "text": [
      "\n",
      "id,name,email,phone\n",
      "1,Hameer,HaMee12@gmail.com,9676620345\n",
      "2,Vamshi,vaMS45@yahoo.co.in,9867234578\n",
      "3,Prathima,PraThim62@tcs.corp.in,8467652437\n",
      "4,Anil,anil@gmail.com,7654937890\n"
     ]
    }
   ],
   "source": [
    "s=\"\"\"\n",
    "id,name,email,phone\n",
    "1,Hameer,HaMee12@gmail.com,9676620345\n",
    "2,Vamshi,vaMS45@yahoo.co.in,9867234578\n",
    "3,Prathima,PraThim62@tcs.corp.in,8467652437\n",
    "4,Anil,anil@gmail.com,7654937890\n",
    "\"\"\"\n",
    "for i in s.splitlines():\n",
    "    print(i)"
   ]
  },
  {
   "cell_type": "code",
   "execution_count": 2,
   "metadata": {
    "scrolled": true
   },
   "outputs": [
    {
     "name": "stdout",
     "output_type": "stream",
     "text": [
      "['id', 'name', 'email', 'phone']\n",
      "['1', 'Hameer', 'HaMee12@gmail.com', '9676620345']\n",
      "['2', 'Vamshi', 'vaMS45@yahoo.co.in', '9867234578']\n",
      "['3', 'Prathima', 'PraThim62@tcs.corp.in', '8467652437']\n",
      "['4', 'Anil', 'anil@gmail.com', '7654937890']\n"
     ]
    }
   ],
   "source": [
    "s=\"\"\"\n",
    "id,name,email,phone\n",
    "1,Hameer,HaMee12@gmail.com,9676620345\n",
    "2,Vamshi,vaMS45@yahoo.co.in,9867234578\n",
    "3,Prathima,PraThim62@tcs.corp.in,8467652437\n",
    "4,Anil,anil@gmail.com,7654937890\n",
    "\"\"\"\n",
    "for i in s.splitlines():\n",
    "    if i:\n",
    "        print(i.split(\",\"))"
   ]
  },
  {
   "cell_type": "code",
   "execution_count": 3,
   "metadata": {},
   "outputs": [
    {
     "name": "stdout",
     "output_type": "stream",
     "text": [
      "email\n",
      "HaMee12@gmail.com\n",
      "vaMS45@yahoo.co.in\n",
      "PraThim62@tcs.corp.in\n",
      "anil@gmail.com\n"
     ]
    }
   ],
   "source": [
    "s=\"\"\"\n",
    "id,name,email,phone\n",
    "1,Hameer,HaMee12@gmail.com,9676620345\n",
    "2,Vamshi,vaMS45@yahoo.co.in,9867234578\n",
    "3,Prathima,PraThim62@tcs.corp.in,8467652437\n",
    "4,Anil,anil@gmail.com,7654937890\n",
    "\"\"\"\n",
    "for i in s.splitlines():\n",
    "    if i:\n",
    "        print(i.split(\",\")[2])"
   ]
  },
  {
   "cell_type": "code",
   "execution_count": 4,
   "metadata": {},
   "outputs": [
    {
     "name": "stdout",
     "output_type": "stream",
     "text": [
      "phone\n",
      "9676620345\n",
      "9867234578\n",
      "8467652437\n",
      "7654937890\n"
     ]
    }
   ],
   "source": [
    "s=\"\"\"\n",
    "id,name,email,phone\n",
    "1,Hameer,HaMee12@gmail.com,9676620345\n",
    "2,Vamshi,vaMS45@yahoo.co.in,9867234578\n",
    "3,Prathima,PraThim62@tcs.corp.in,8467652437\n",
    "4,Anil,anil@gmail.com,7654937890\n",
    "\"\"\"\n",
    "for i in s.splitlines():\n",
    "    if i:\n",
    "        print(i.split(\",\")[3])"
   ]
  },
  {
   "cell_type": "code",
   "execution_count": 5,
   "metadata": {},
   "outputs": [
    {
     "name": "stdout",
     "output_type": "stream",
     "text": [
      "9676620345\n",
      "vaMS45@yahoo.co.in\n",
      "8467652437\n",
      "7654937890\n"
     ]
    }
   ],
   "source": [
    "s=\"\"\"\n",
    "1,Hameer,HaMee12@gmail.com,9676620345\n",
    "9867234578,2,Vamshi,vaMS45@yahoo.co.in\n",
    "PraThim62@tcs.corp.in,3,Prathima,8467652437\n",
    "Anil,4,anil@gmail.com,7654937890\n",
    "\"\"\"\n",
    "for i in s.splitlines():\n",
    "    if i:\n",
    "        print(i.split(\",\")[3])"
   ]
  },
  {
   "cell_type": "code",
   "execution_count": 6,
   "metadata": {},
   "outputs": [
    {
     "name": "stdout",
     "output_type": "stream",
     "text": [
      "HaMee12@gmail.com\n",
      "Vamshi\n",
      "Prathima\n",
      "anil@gmail.com\n"
     ]
    }
   ],
   "source": [
    "s=\"\"\"\n",
    "1,Hameer,HaMee12@gmail.com,9676620345\n",
    "9867234578,2,Vamshi,vaMS45@yahoo.co.in\n",
    "PraThim62@tcs.corp.in,3,Prathima,8467652437\n",
    "Anil,4,anil@gmail.com,7654937890\n",
    "\"\"\"\n",
    "for i in s.splitlines():\n",
    "    if i:\n",
    "        print(i.split(\",\")[2])"
   ]
  },
  {
   "cell_type": "code",
   "execution_count": 2,
   "metadata": {},
   "outputs": [
    {
     "name": "stdout",
     "output_type": "stream",
     "text": [
      "['1', '1', '2', '9', '6', '7', '6', '6', '2', '0', '3', '4', '5', '9', '8', '6', '7', '2', '3', '4', '5', '7', '8', '2', '4', '5', '6', '2', '3', '8', '4', '6', '7', '6', '5', '2', '4', '3', '7', '4', '7', '6', '5', '4', '9', '3', '7', '8', '9', '0']\n"
     ]
    }
   ],
   "source": [
    "import re\n",
    "data=\"\"\"\n",
    "1,Hameer,HaMee12@gmail.com,9676620345\n",
    "9867234578,2,Vamshi,vaMS45@yahoo.co.in\n",
    "PraThim62@tcs.corp.in,3,Prathima,8467652437\n",
    "Anil,4,anil@gmail.com,7654937890\n",
    "\"\"\"\n",
    "print(re.findall(\"[0-9]\",data))"
   ]
  },
  {
   "cell_type": "code",
   "execution_count": 3,
   "metadata": {},
   "outputs": [
    {
     "name": "stdout",
     "output_type": "stream",
     "text": [
      "['a', 'm', 'e', 'e', 'r', 'a', 'e', 'e', 'g', 'm', 'a', 'i', 'l', 'c', 'o', 'm', 'a', 'm', 's', 'h', 'i', 'v', 'a', 'y', 'a', 'h', 'o', 'o', 'c', 'o', 'i', 'n', 'r', 'a', 'h', 'i', 'm', 't', 'c', 's', 'c', 'o', 'r', 'p', 'i', 'n', 'r', 'a', 't', 'h', 'i', 'm', 'a', 'n', 'i', 'l', 'a', 'n', 'i', 'l', 'g', 'm', 'a', 'i', 'l', 'c', 'o', 'm']\n"
     ]
    }
   ],
   "source": [
    "import re\n",
    "data=\"\"\"\n",
    "1,Hameer,HaMee12@gmail.com,9676620345\n",
    "9867234578,2,Vamshi,vaMS45@yahoo.co.in\n",
    "PraThim62@tcs.corp.in,3,Prathima,8467652437\n",
    "Anil,4,anil@gmail.com,7654937890\n",
    "\"\"\"\n",
    "print(re.findall(\"[a-z]\",data))"
   ]
  },
  {
   "cell_type": "code",
   "execution_count": 4,
   "metadata": {},
   "outputs": [
    {
     "name": "stdout",
     "output_type": "stream",
     "text": [
      "['\\n', ',', 'H', 'a', 'm', 'e', 'e', 'r', ',', 'H', 'a', 'M', 'e', 'e', '@', 'g', 'm', 'a', 'i', 'l', '.', 'c', 'o', 'm', ',', '\\n', ',', ',', 'V', 'a', 'm', 's', 'h', 'i', ',', 'v', 'a', 'M', 'S', '@', 'y', 'a', 'h', 'o', 'o', '.', 'c', 'o', '.', 'i', 'n', '\\n', 'P', 'r', 'a', 'T', 'h', 'i', 'm', '@', 't', 'c', 's', '.', 'c', 'o', 'r', 'p', '.', 'i', 'n', ',', ',', 'P', 'r', 'a', 't', 'h', 'i', 'm', 'a', ',', '\\n', 'A', 'n', 'i', 'l', ',', ',', 'a', 'n', 'i', 'l', '@', 'g', 'm', 'a', 'i', 'l', '.', 'c', 'o', 'm', ',', '\\n']\n"
     ]
    }
   ],
   "source": [
    "import re\n",
    "data=\"\"\"\n",
    "1,Hameer,HaMee12@gmail.com,9676620345\n",
    "9867234578,2,Vamshi,vaMS45@yahoo.co.in\n",
    "PraThim62@tcs.corp.in,3,Prathima,8467652437\n",
    "Anil,4,anil@gmail.com,7654937890\n",
    "\"\"\"\n",
    "print(re.findall(\"[^0-9]\",data))"
   ]
  },
  {
   "cell_type": "code",
   "execution_count": 5,
   "metadata": {},
   "outputs": [
    {
     "name": "stdout",
     "output_type": "stream",
     "text": [
      "['a', 'm', 'e', 'e', 'r', 'a', 'e', 'e', 'g', 'm', 'a', 'i', 'l', 'c', 'o', 'm', 'a', 'm', 's', 'h', 'i', 'v', 'a', 'y', 'a', 'h', 'o', 'o', 'c', 'o', 'i', 'n', 'r', 'a', 'h', 'i', 'm', 't', 'c', 's', 'c', 'o', 'r', 'p', 'i', 'n', 'r', 'a', 't', 'h', 'i', 'm', 'a', 'n', 'i', 'l', 'a', 'n', 'i', 'l', 'g', 'm', 'a', 'i', 'l', 'c', 'o', 'm']\n"
     ]
    }
   ],
   "source": [
    "import re\n",
    "data=\"\"\"\n",
    "1,Hameer,HaMee12@gmail.com,9676620345\n",
    "9867234578,2,Vamshi,vaMS45@yahoo.co.in\n",
    "PraThim62@tcs.corp.in,3,Prathima,8467652437\n",
    "Anil,4,anil@gmail.com,7654937890\n",
    "\"\"\"\n",
    "print(re.findall(\"[a-z]\",data))"
   ]
  },
  {
   "cell_type": "code",
   "execution_count": 6,
   "metadata": {},
   "outputs": [
    {
     "name": "stdout",
     "output_type": "stream",
     "text": [
      "['H', 'a', 'm', 'e', 'e', 'r', 'H', 'a', 'M', 'e', 'e', 'g', 'm', 'a', 'i', 'l', 'c', 'o', 'm', 'V', 'a', 'm', 's', 'h', 'i', 'v', 'a', 'M', 'S', 'y', 'a', 'h', 'o', 'o', 'c', 'o', 'i', 'n', 'P', 'r', 'a', 'T', 'h', 'i', 'm', 't', 'c', 's', 'c', 'o', 'r', 'p', 'i', 'n', 'P', 'r', 'a', 't', 'h', 'i', 'm', 'a', 'A', 'n', 'i', 'l', 'a', 'n', 'i', 'l', 'g', 'm', 'a', 'i', 'l', 'c', 'o', 'm']\n"
     ]
    }
   ],
   "source": [
    "import re\n",
    "data=\"\"\"\n",
    "1,Hameer,HaMee12@gmail.com,9676620345\n",
    "9867234578,2,Vamshi,vaMS45@yahoo.co.in\n",
    "PraThim62@tcs.corp.in,3,Prathima,8467652437\n",
    "Anil,4,anil@gmail.com,7654937890\n",
    "\"\"\"\n",
    "print(re.findall(\"[a-zA-Z]\",data))"
   ]
  },
  {
   "cell_type": "code",
   "execution_count": 7,
   "metadata": {},
   "outputs": [
    {
     "name": "stdout",
     "output_type": "stream",
     "text": [
      "['H', 'a', 'm', 'e', 'e', 'r', 'H', 'a', 'M', 'e', 'e', 'g', 'm', 'a', 'i', 'l', 'c', 'o', 'm', 'V', 'a', 'm', 's', 'h', 'i', 'v', 'a', 'M', 'S', 'y', 'a', 'h', 'o', 'o', 'c', 'o', 'i', 'n', 'P', 'r', 'a', 'T', 'h', 'i', 'm', 't', 'c', 's', 'c', 'o', 'r', 'p', 'i', 'n', 'P', 'r', 'a', 't', 'h', 'i', 'm', 'a', 'A', 'n', 'i', 'l', 'a', 'n', 'i', 'l', 'g', 'm', 'a', 'i', 'l', 'c', 'o', 'm']\n"
     ]
    }
   ],
   "source": [
    "import re\n",
    "data=\"\"\"\n",
    "1,Hameer,HaMee12@gmail.com,9676620345\n",
    "9867234578,2,Vamshi,vaMS45@yahoo.co.in\n",
    "PraThim62@tcs.corp.in,3,Prathima,8467652437\n",
    "Anil,4,anil@gmail.com,7654937890\n",
    "\"\"\"\n",
    "print(re.findall(\"[a-z]\",data,re.I))"
   ]
  },
  {
   "cell_type": "code",
   "execution_count": 8,
   "metadata": {},
   "outputs": [
    {
     "name": "stdout",
     "output_type": "stream",
     "text": [
      "['1', '1', '2', '9', '6', '7', '6', '6', '2', '0', '3', '4', '5', '9', '8', '6', '7', '2', '3', '4', '5', '7', '8', '2', '4', '5', '6', '2', '3', '8', '4', '6', '7', '6', '5', '2', '4', '3', '7', '4', '7', '6', '5', '4', '9', '3', '7', '8', '9', '0']\n"
     ]
    }
   ],
   "source": [
    "import re\n",
    "data=\"\"\"\n",
    "1,Hameer,HaMee12@gmail.com,9676620345\n",
    "9867234578,2,Vamshi,vaMS45@yahoo.co.in\n",
    "PraThim62@tcs.corp.in,3,Prathima,8467652437\n",
    "Anil,4,anil@gmail.com,7654937890\n",
    "\"\"\"\n",
    "print(re.findall(\"[0-9]\",data))"
   ]
  },
  {
   "cell_type": "code",
   "execution_count": 9,
   "metadata": {},
   "outputs": [
    {
     "name": "stdout",
     "output_type": "stream",
     "text": [
      "['12', '96', '76', '62', '03', '45', '98', '67', '23', '45', '78', '45', '62', '84', '67', '65', '24', '37', '76', '54', '93', '78', '90']\n"
     ]
    }
   ],
   "source": [
    "import re\n",
    "data=\"\"\"\n",
    "1,Hameer,HaMee12@gmail.com,9676620345\n",
    "9867234578,2,Vamshi,vaMS45@yahoo.co.in\n",
    "PraThim62@tcs.corp.in,3,Prathima,8467652437\n",
    "Anil,4,anil@gmail.com,7654937890\n",
    "\"\"\"\n",
    "print(re.findall(\"[0-9][0-9]\",data))"
   ]
  },
  {
   "cell_type": "code",
   "execution_count": 10,
   "metadata": {},
   "outputs": [
    {
     "name": "stdout",
     "output_type": "stream",
     "text": [
      "['967', '662', '034', '986', '723', '457', '846', '765', '243', '765', '493', '789']\n"
     ]
    }
   ],
   "source": [
    "import re\n",
    "data=\"\"\"\n",
    "1,Hameer,HaMee12@gmail.com,9676620345\n",
    "9867234578,2,Vamshi,vaMS45@yahoo.co.in\n",
    "PraThim62@tcs.corp.in,3,Prathima,8467652437\n",
    "Anil,4,anil@gmail.com,7654937890\n",
    "\"\"\"\n",
    "print(re.findall(\"[0-9][0-9][0-9]\",data))"
   ]
  },
  {
   "cell_type": "code",
   "execution_count": 11,
   "metadata": {},
   "outputs": [
    {
     "name": "stdout",
     "output_type": "stream",
     "text": [
      "['9676620345', '9867234578', '8467652437', '7654937890']\n"
     ]
    }
   ],
   "source": [
    "import re\n",
    "data=\"\"\"\n",
    "1,Hameer,HaMee12@gmail.com,9676620345\n",
    "9867234578,2,Vamshi,vaMS45@yahoo.co.in\n",
    "PraThim62@tcs.corp.in,3,Prathima,8467652437\n",
    "Anil,4,anil@gmail.com,7654937890\n",
    "\"\"\"\n",
    "print(re.findall(\"[0-9]{10}\",data))"
   ]
  },
  {
   "cell_type": "code",
   "execution_count": 12,
   "metadata": {},
   "outputs": [
    {
     "name": "stdout",
     "output_type": "stream",
     "text": [
      "['12', '9676620345', '9867234578', '45', '62', '8467652437', '7654937890']\n"
     ]
    }
   ],
   "source": [
    "import re\n",
    "data=\"\"\"\n",
    "1,Hameer,HaMee12@gmail.com,9676620345\n",
    "9867234578,2,Vamshi,vaMS45@yahoo.co.in\n",
    "PraThim62@tcs.corp.in,3,Prathima,8467652437\n",
    "Anil,4,anil@gmail.com,7654937890\n",
    "\"\"\"\n",
    "print(re.findall(\"[0-9]{2,10}\",data))"
   ]
  },
  {
   "cell_type": "code",
   "execution_count": 13,
   "metadata": {},
   "outputs": [
    {
     "name": "stdout",
     "output_type": "stream",
     "text": [
      "['12', '9676620345', '234', '567', '9867234578', '45', '62', '890', '8467652437', '123', '7654937890']\n"
     ]
    }
   ],
   "source": [
    "import re\n",
    "data=\"\"\"\n",
    "1,Hameer,HaMee12@gmail.com,9676620345,234\n",
    "567,9867234578,2,Vamshi,vaMS45@yahoo.co.in\n",
    "PraThim62@tcs.corp.in,3,890,Prathima,8467652437\n",
    "Anil,4,anil@gmail.com,123,7654937890\n",
    "\"\"\"\n",
    "print(re.findall(\"[0-9]{2,10}\",data))"
   ]
  },
  {
   "cell_type": "code",
   "execution_count": 14,
   "metadata": {},
   "outputs": [
    {
     "name": "stdout",
     "output_type": "stream",
     "text": [
      "['12', '9676620345', '234', '567', '9867234578', '45', '62', '890', '8467652437', '123', '7654937890']\n"
     ]
    }
   ],
   "source": [
    "import re\n",
    "data=\"\"\"\n",
    "1,Hameer,HaMee12@gmail.com,9676620345,234\n",
    "567,9867234578,2,Vamshi,vaMS45@yahoo.co.in\n",
    "PraThim62@tcs.corp.in,3,890,Prathima,8467652437\n",
    "Anil,4,anil@gmail.com,123,7654937890\n",
    "\"\"\"\n",
    "print(re.findall(\"[0-9]{2,}\",data))"
   ]
  },
  {
   "cell_type": "code",
   "execution_count": 15,
   "metadata": {},
   "outputs": [
    {
     "name": "stdout",
     "output_type": "stream",
     "text": [
      "['1', '12', '9676620345', '234', '567', '9867234578', '2', '45', '62', '3', '890', '8467652437', '4', '123', '7654937890']\n"
     ]
    }
   ],
   "source": [
    "import re\n",
    "data=\"\"\"\n",
    "1,Hameer,HaMee12@gmail.com,9676620345,234\n",
    "567,9867234578,2,Vamshi,vaMS45@yahoo.co.in\n",
    "PraThim62@tcs.corp.in,3,890,Prathima,8467652437\n",
    "Anil,4,anil@gmail.com,123,7654937890\n",
    "\"\"\"\n",
    "print(re.findall(\"[0-9]{1,}\",data))"
   ]
  },
  {
   "cell_type": "code",
   "execution_count": 16,
   "metadata": {},
   "outputs": [
    {
     "name": "stdout",
     "output_type": "stream",
     "text": [
      "['1', '12', '9676620345', '234', '567', '9867234578', '2', '45', '62', '3', '890', '8467652437', '4', '123', '7654937890']\n"
     ]
    }
   ],
   "source": [
    "import re\n",
    "data=\"\"\"\n",
    "1,Hameer,HaMee12@gmail.com,9676620345,234\n",
    "567,9867234578,2,Vamshi,vaMS45@yahoo.co.in\n",
    "PraThim62@tcs.corp.in,3,890,Prathima,8467652437\n",
    "Anil,4,anil@gmail.com,123,7654937890\n",
    "\"\"\"\n",
    "print(re.findall(\"[0-9]+\",data))"
   ]
  },
  {
   "cell_type": "code",
   "execution_count": 17,
   "metadata": {},
   "outputs": [
    {
     "name": "stdout",
     "output_type": "stream",
     "text": [
      "['', '1', '', '', '', '', '', '', '', '', '', '', '', '', '', '1', '2', '', '', '', '', '', '', '', '', '', '', '', '9', '6', '7', '6', '6', '2', '0', '3', '4', '5', '', '2', '3', '4', '', '5', '6', '7', '', '9', '8', '6', '7', '2', '3', '4', '5', '7', '8', '', '2', '', '', '', '', '', '', '', '', '', '', '', '', '4', '5', '', '', '', '', '', '', '', '', '', '', '', '', '', '', '', '', '', '', '', '', '6', '2', '', '', '', '', '', '', '', '', '', '', '', '', '', '3', '', '8', '9', '0', '', '', '', '', '', '', '', '', '', '', '8', '4', '6', '7', '6', '5', '2', '4', '3', '7', '', '', '', '', '', '', '4', '', '', '', '', '', '', '', '', '', '', '', '', '', '', '', '', '1', '2', '3', '', '7', '6', '5', '4', '9', '3', '7', '8', '9', '0', '', '']\n"
     ]
    }
   ],
   "source": [
    "import re\n",
    "data=\"\"\"\n",
    "1,Hameer,HaMee12@gmail.com,9676620345,234\n",
    "567,9867234578,2,Vamshi,vaMS45@yahoo.co.in\n",
    "PraThim62@tcs.corp.in,3,890,Prathima,8467652437\n",
    "Anil,4,anil@gmail.com,123,7654937890\n",
    "\"\"\"\n",
    "print(re.findall(\"[0-9]{0,1}\",data))"
   ]
  },
  {
   "cell_type": "code",
   "execution_count": 18,
   "metadata": {},
   "outputs": [
    {
     "name": "stdout",
     "output_type": "stream",
     "text": [
      "['', '1', '', '', '', '', '', '', '', '', '', '', '', '', '', '1', '2', '', '', '', '', '', '', '', '', '', '', '', '9', '6', '7', '6', '6', '2', '0', '3', '4', '5', '', '2', '3', '4', '', '5', '6', '7', '', '9', '8', '6', '7', '2', '3', '4', '5', '7', '8', '', '2', '', '', '', '', '', '', '', '', '', '', '', '', '4', '5', '', '', '', '', '', '', '', '', '', '', '', '', '', '', '', '', '', '', '', '', '6', '2', '', '', '', '', '', '', '', '', '', '', '', '', '', '3', '', '8', '9', '0', '', '', '', '', '', '', '', '', '', '', '8', '4', '6', '7', '6', '5', '2', '4', '3', '7', '', '', '', '', '', '', '4', '', '', '', '', '', '', '', '', '', '', '', '', '', '', '', '', '1', '2', '3', '', '7', '6', '5', '4', '9', '3', '7', '8', '9', '0', '', '']\n"
     ]
    }
   ],
   "source": [
    "import re\n",
    "data=\"\"\"\n",
    "1,Hameer,HaMee12@gmail.com,9676620345,234\n",
    "567,9867234578,2,Vamshi,vaMS45@yahoo.co.in\n",
    "PraThim62@tcs.corp.in,3,890,Prathima,8467652437\n",
    "Anil,4,anil@gmail.com,123,7654937890\n",
    "\"\"\"\n",
    "print(re.findall(\"[0-9]?\",data))"
   ]
  },
  {
   "cell_type": "code",
   "execution_count": 19,
   "metadata": {},
   "outputs": [
    {
     "name": "stdout",
     "output_type": "stream",
     "text": [
      "['', '1', '', '', '', '', '', '', '', '', '', '', '', '', '', '12', '', '', '', '', '', '', '', '', '', '', '', '9676620345', '', '234', '', '567', '', '9867234578', '', '2', '', '', '', '', '', '', '', '', '', '', '', '', '45', '', '', '', '', '', '', '', '', '', '', '', '', '', '', '', '', '', '', '', '', '62', '', '', '', '', '', '', '', '', '', '', '', '', '', '3', '', '890', '', '', '', '', '', '', '', '', '', '', '8467652437', '', '', '', '', '', '', '4', '', '', '', '', '', '', '', '', '', '', '', '', '', '', '', '', '123', '', '7654937890', '', '']\n"
     ]
    }
   ],
   "source": [
    "import re\n",
    "data=\"\"\"\n",
    "1,Hameer,HaMee12@gmail.com,9676620345,234\n",
    "567,9867234578,2,Vamshi,vaMS45@yahoo.co.in\n",
    "PraThim62@tcs.corp.in,3,890,Prathima,8467652437\n",
    "Anil,4,anil@gmail.com,123,7654937890\n",
    "\"\"\"\n",
    "print(re.findall(\"[0-9]{0,}\",data))"
   ]
  },
  {
   "cell_type": "code",
   "execution_count": 20,
   "metadata": {},
   "outputs": [
    {
     "name": "stdout",
     "output_type": "stream",
     "text": [
      "['', '1', '', '', '', '', '', '', '', '', '', '', '', '', '', '12', '', '', '', '', '', '', '', '', '', '', '', '9676620345', '', '234', '', '567', '', '9867234578', '', '2', '', '', '', '', '', '', '', '', '', '', '', '', '45', '', '', '', '', '', '', '', '', '', '', '', '', '', '', '', '', '', '', '', '', '62', '', '', '', '', '', '', '', '', '', '', '', '', '', '3', '', '890', '', '', '', '', '', '', '', '', '', '', '8467652437', '', '', '', '', '', '', '4', '', '', '', '', '', '', '', '', '', '', '', '', '', '', '', '', '123', '', '7654937890', '', '']\n"
     ]
    }
   ],
   "source": [
    "import re\n",
    "data=\"\"\"\n",
    "1,Hameer,HaMee12@gmail.com,9676620345,234\n",
    "567,9867234578,2,Vamshi,vaMS45@yahoo.co.in\n",
    "PraThim62@tcs.corp.in,3,890,Prathima,8467652437\n",
    "Anil,4,anil@gmail.com,123,7654937890\n",
    "\"\"\"\n",
    "print(re.findall(\"[0-9]*\",data))"
   ]
  },
  {
   "cell_type": "code",
   "execution_count": 21,
   "metadata": {},
   "outputs": [
    {
     "name": "stdout",
     "output_type": "stream",
     "text": [
      "['1', 'a', 'm', 'e', 'e', 'r', 'a', 'e', 'e', '1', '2', 'g', 'm', 'a', 'i', 'l', 'c', 'o', 'm', '9', '6', '7', '6', '6', '2', '0', '3', '4', '5', '2', '3', '4', '5', '6', '7', '9', '8', '6', '7', '2', '3', '4', '5', '7', '8', '2', 'a', 'm', 's', 'h', 'i', 'v', 'a', '4', '5', 'y', 'a', 'h', 'o', 'o', 'c', 'o', 'i', 'n', 'r', 'a', 'h', 'i', 'm', '6', '2', 't', 'c', 's', 'c', 'o', 'r', 'p', 'i', 'n', '3', '8', '9', '0', 'r', 'a', 't', 'h', 'i', 'm', 'a', '8', '4', '6', '7', '6', '5', '2', '4', '3', '7', 'n', 'i', 'l', '4', 'a', 'n', 'i', 'l', 'g', 'm', 'a', 'i', 'l', 'c', 'o', 'm', '1', '2', '3', '7', '6', '5', '4', '9', '3', '7', '8', '9', '0']\n"
     ]
    }
   ],
   "source": [
    "import re\n",
    "data=\"\"\"\n",
    "1,Hameer,HaMee12@gmail.com,9676620345,234\n",
    "567,9867234578,2,Vamshi,vaMS45@yahoo.co.in\n",
    "PraThim62@tcs.corp.in,3,890,Prathima,8467652437\n",
    "Anil,4,anil@gmail.com,123,7654937890\n",
    "\"\"\"\n",
    "print(re.findall(\"[a-z0-9]\",data))"
   ]
  },
  {
   "cell_type": "code",
   "execution_count": 22,
   "metadata": {},
   "outputs": [
    {
     "name": "stdout",
     "output_type": "stream",
     "text": [
      "['e1', 'm6']\n"
     ]
    }
   ],
   "source": [
    "import re\n",
    "data=\"\"\"\n",
    "1,Hameer,HaMee12@gmail.com,9676620345,234\n",
    "567,9867234578,2,Vamshi,vaMS45@yahoo.co.in\n",
    "PraThim62@tcs.corp.in,3,890,Prathima,8467652437\n",
    "Anil,4,anil@gmail.com,123,7654937890\n",
    "\"\"\"\n",
    "print(re.findall(\"[a-z][0-9]\",data))"
   ]
  },
  {
   "cell_type": "code",
   "execution_count": 23,
   "metadata": {},
   "outputs": [
    {
     "name": "stdout",
     "output_type": "stream",
     "text": [
      "['2@', '5@', '2@', 'l@']\n"
     ]
    }
   ],
   "source": [
    "import re\n",
    "data=\"\"\"\n",
    "1,Hameer,HaMee12@gmail.com,9676620345,234\n",
    "567,9867234578,2,Vamshi,vaMS45@yahoo.co.in\n",
    "PraThim_62@tcs.corp.in,3,890,Prathima,8467652437\n",
    "Anil,4,anil@gmail.com,123,7654937890\n",
    "\"\"\"\n",
    "print(re.findall(\"[a-z0-9_]@\",data,re.I))"
   ]
  },
  {
   "cell_type": "code",
   "execution_count": 24,
   "metadata": {},
   "outputs": [
    {
     "name": "stdout",
     "output_type": "stream",
     "text": [
      "['HaMee12@', 'vaMS45@', 'PraThim_62@', 'anil@']\n"
     ]
    }
   ],
   "source": [
    "import re\n",
    "data=\"\"\"\n",
    "1,Hameer,HaMee12@gmail.com,9676620345,234\n",
    "567,9867234578,2,Vamshi,vaMS45@yahoo.co.in\n",
    "PraThim_62@tcs.corp.in,3,890,Prathima,8467652437\n",
    "Anil,4,anil@gmail.com,123,7654937890\n",
    "\"\"\"\n",
    "print(re.findall(\"[a-z0-9_]+@\",data,re.I))"
   ]
  },
  {
   "cell_type": "code",
   "execution_count": 25,
   "metadata": {},
   "outputs": [
    {
     "name": "stdout",
     "output_type": "stream",
     "text": [
      "['1,Hameer,HaMee12@', '567,9867234578,2,Vamshi,vaMS45@', 'PraThim_62@', 'Anil,4,anil@']\n"
     ]
    }
   ],
   "source": [
    "import re\n",
    "data=\"\"\"\n",
    "1,Hameer,HaMee12@gmail.com,9676620345,234\n",
    "567,9867234578,2,Vamshi,vaMS45@yahoo.co.in\n",
    "PraThim_62@tcs.corp.in,3,890,Prathima,8467652437\n",
    "Anil,4,anil@gmail.com,123,7654937890\n",
    "\"\"\"\n",
    "print(re.findall(\"[a-z0-9_,]+@\",data,re.I))"
   ]
  },
  {
   "cell_type": "code",
   "execution_count": 26,
   "metadata": {},
   "outputs": [
    {
     "name": "stdout",
     "output_type": "stream",
     "text": [
      "['HaMee12@', 'vaMS45@', 'PraThim_62@', 'anil@']\n"
     ]
    }
   ],
   "source": [
    "import re\n",
    "data=\"\"\"\n",
    "1,Hameer,HaMee12@gmail.com,9676620345,234\n",
    "567,9867234578,2,Vamshi,vaMS45@yahoo.co.in\n",
    "PraThim_62@tcs.corp.in,3,890,Prathima,8467652437\n",
    "Anil,4,anil@gmail.com,123,7654937890\n",
    "\"\"\"\n",
    "print(re.findall(\"[a-z0-9_]+@\",data,re.I))"
   ]
  },
  {
   "cell_type": "code",
   "execution_count": 27,
   "metadata": {},
   "outputs": [
    {
     "name": "stdout",
     "output_type": "stream",
     "text": [
      "['HaMee12@gmail', 'vaMS45@yahoo', 'PraThim_62@tcs', 'anil@gmail']\n"
     ]
    }
   ],
   "source": [
    "import re\n",
    "data=\"\"\"\n",
    "1,Hameer,HaMee12@gmail.com,9676620345,234\n",
    "567,9867234578,2,Vamshi,vaMS45@yahoo.co.in\n",
    "PraThim_62@tcs.corp.in,3,890,Prathima,8467652437\n",
    "Anil,4,anil@gmail.com,123,7654937890\n",
    "\"\"\"\n",
    "print(re.findall(\"[a-z0-9_]+@[a-z]+\",data,re.I))"
   ]
  },
  {
   "cell_type": "code",
   "execution_count": 28,
   "metadata": {},
   "outputs": [
    {
     "name": "stdout",
     "output_type": "stream",
     "text": [
      "['1', ',', 'H', 'a', 'm', 'e', 'e', 'r', ',', 'H', 'a', 'M', 'e', 'e', '1', '2', '@', 'g', 'm', 'a', 'i', 'l', '.', 'c', 'o', 'm', ',', '9', '6', '7', '6', '6', '2', '0', '3', '4', '5', ',', '2', '3', '4', '5', '6', '7', ',', '9', '8', '6', '7', '2', '3', '4', '5', '7', '8', ',', '2', ',', 'V', 'a', 'm', 's', 'h', 'i', ',', 'v', 'a', 'M', 'S', '4', '5', '@', 'y', 'a', 'h', 'o', 'o', '.', 'c', 'o', '.', 'i', 'n', 'P', 'r', 'a', 'T', 'h', 'i', 'm', '_', '6', '2', '@', 't', 'c', 's', '.', 'c', 'o', 'r', 'p', '.', 'i', 'n', ',', '3', ',', '8', '9', '0', ',', 'P', 'r', 'a', 't', 'h', 'i', 'm', 'a', ',', '8', '4', '6', '7', '6', '5', '2', '4', '3', '7', 'A', 'n', 'i', 'l', ',', '4', ',', 'a', 'n', 'i', 'l', '@', 'g', 'm', 'a', 'i', 'l', '.', 'c', 'o', 'm', ',', '1', '2', '3', ',', '7', '6', '5', '4', '9', '3', '7', '8', '9', '0']\n"
     ]
    }
   ],
   "source": [
    "import re\n",
    "data=\"\"\"\n",
    "1,Hameer,HaMee12@gmail.com,9676620345,234\n",
    "567,9867234578,2,Vamshi,vaMS45@yahoo.co.in\n",
    "PraThim_62@tcs.corp.in,3,890,Prathima,8467652437\n",
    "Anil,4,anil@gmail.com,123,7654937890\n",
    "\"\"\"\n",
    "print(re.findall(\".\",data,re.I))"
   ]
  },
  {
   "cell_type": "code",
   "execution_count": 29,
   "metadata": {},
   "outputs": [
    {
     "name": "stdout",
     "output_type": "stream",
     "text": [
      "['1', ',', 'H', 'a', 'm', 'e', 'e', 'r', ',', 'H', 'a', 'M', 'e', 'e', '1', '2', '@', 'g', 'm', 'a', 'i', 'l', '.', 'c', 'o', 'm', ',', '9', '6', '7', '6', '6', '2', '0', '3', '4', '5', ',', '2', '3', '4', '5', '6', '7', ',', '9', '8', '6', '7', '2', '3', '4', '5', '7', '8', ',', '2', ',', 'V', 'a', 'm', 's', 'h', 'i', ',', 'v', 'a', 'M', 'S', '4', '5', '@', 'y', 'a', 'h', 'o', 'o', '.', 'c', 'o', '.', 'i', 'n', 'P', 'r', 'a', 'T', 'h', 'i', 'm', '_', '6', '2', '@', 't', 'c', 's', '.', 'c', 'o', 'r', 'p', '.', 'i', 'n', ',', '3', ',', '8', '9', '0', ',', 'P', 'r', 'a', 't', 'h', 'i', 'm', 'a', ',', '8', '4', '6', '7', '6', '5', '2', '4', '3', '7', 'A', 'n', 'i', 'l', ',', '4', ',', 'a', 'n', 'i', 'l', '@', 'g', 'm', 'a', 'i', 'l', '.', 'c', 'o', 'm', ',', '1', '2', '3', ',', '7', '6', '5', '4', '9', '3', '7', '8', '9', '0']\n"
     ]
    }
   ],
   "source": [
    "import re\n",
    "data=\"\"\"\n",
    "1,Hameer,HaMee12@gmail.com,9676620345,234\n",
    "567,9867234578,2,Vamshi,vaMS45@yahoo.co.in\n",
    "PraThim_62@tcs.corp.in,3,890,Prathima,8467652437\n",
    "Anil,4,anil@gmail.com,123,7654937890\n",
    "\"\"\"\n",
    "print(re.findall(\".\",data))"
   ]
  },
  {
   "cell_type": "code",
   "execution_count": 30,
   "metadata": {},
   "outputs": [
    {
     "name": "stdout",
     "output_type": "stream",
     "text": [
      "['.', '.', '.', '.', '.', '.']\n"
     ]
    }
   ],
   "source": [
    "import re\n",
    "data=\"\"\"\n",
    "1,Hameer,HaMee12@gmail.com,9676620345,234\n",
    "567,9867234578,2,Vamshi,vaMS45@yahoo.co.in\n",
    "PraThim_62@tcs.corp.in,3,890,Prathima,8467652437\n",
    "Anil,4,anil@gmail.com,123,7654937890\n",
    "\"\"\"\n",
    "print(re.findall(\"[.]\",data,re.I))"
   ]
  },
  {
   "cell_type": "code",
   "execution_count": 31,
   "metadata": {},
   "outputs": [
    {
     "name": "stdout",
     "output_type": "stream",
     "text": [
      "['.', '.', '.', '.', '.', '.']\n"
     ]
    }
   ],
   "source": [
    "import re\n",
    "data=\"\"\"\n",
    "1,Hameer,HaMee12@gmail.com,9676620345,234\n",
    "567,9867234578,2,Vamshi,vaMS45@yahoo.co.in\n",
    "PraThim_62@tcs.corp.in,3,890,Prathima,8467652437\n",
    "Anil,4,anil@gmail.com,123,7654937890\n",
    "\"\"\"\n",
    "print(re.findall(\"\\.\",data,re.I))"
   ]
  },
  {
   "cell_type": "code",
   "execution_count": 32,
   "metadata": {},
   "outputs": [
    {
     "name": "stdout",
     "output_type": "stream",
     "text": [
      "['HaMee12@gmail.', 'vaMS45@yahoo.', 'PraThim_62@tcs.', 'anil@gmail.']\n"
     ]
    }
   ],
   "source": [
    "import re\n",
    "data=\"\"\"\n",
    "1,Hameer,HaMee12@gmail.com,9676620345,234\n",
    "567,9867234578,2,Vamshi,vaMS45@yahoo.co.in\n",
    "PraThim_62@tcs.corp.in,3,890,Prathima,8467652437\n",
    "Anil,4,anil@gmail.com,123,7654937890\n",
    "\"\"\"\n",
    "print(re.findall(\"[a-z0-9_]+@[a-z]+\\.\",data,re.I))"
   ]
  },
  {
   "cell_type": "code",
   "execution_count": 33,
   "metadata": {},
   "outputs": [
    {
     "name": "stdout",
     "output_type": "stream",
     "text": [
      "['HaMee12@gmail.com', 'vaMS45@yahoo.co.in', 'PraThim_62@tcs.corp.in', 'anil@gmail.com']\n"
     ]
    }
   ],
   "source": [
    "import re\n",
    "data=\"\"\"\n",
    "1,Hameer,HaMee12@gmail.com,9676620345,234\n",
    "567,9867234578,2,Vamshi,vaMS45@yahoo.co.in\n",
    "PraThim_62@tcs.corp.in,3,890,Prathima,8467652437\n",
    "Anil,4,anil@gmail.com,123,7654937890\n",
    "\"\"\"\n",
    "print(re.findall(\"[a-z0-9_]+@[a-z]+\\.[a-z.]+\",data,re.I))"
   ]
  },
  {
   "cell_type": "code",
   "execution_count": 34,
   "metadata": {},
   "outputs": [
    {
     "name": "stdout",
     "output_type": "stream",
     "text": [
      "['HaMee12@gmail.com', 'vaMS45@yahoo.co', 'PraThim_62@tcs.corp', 'anil@gmail.com']\n"
     ]
    }
   ],
   "source": [
    "import re\n",
    "data=\"\"\"\n",
    "1,Hameer,HaMee12@gmail.com,9676620345,234\n",
    "567,9867234578,2,Vamshi,vaMS45@yahoo.co.in\n",
    "PraThim_62@tcs.corp.in,3,890,Prathima,8467652437\n",
    "Anil,4,anil@gmail.com,123,7654937890\n",
    "\"\"\"\n",
    "print(re.findall(\"[a-z0-9_]+@[a-z]+\\.[a-z]+\",data,re.I))"
   ]
  },
  {
   "cell_type": "code",
   "execution_count": 37,
   "metadata": {},
   "outputs": [
    {
     "name": "stdout",
     "output_type": "stream",
     "text": [
      "[]\n"
     ]
    }
   ],
   "source": [
    "import re\n",
    "data=\"\"\"\n",
    "1,Hameer,HaMee12@gmail.com,9676620345,234\n",
    "567,9867234578,2,Vamshi,vaMS45@yahoo.co.in\n",
    "PraThim_62@tcs.corp.in,3,890,Prathima,8467652437\n",
    "Anil,4,anil@gmail.com,123,7654937890\n",
    "\"\"\"\n",
    "print(re.findall(\"^[a-z0-9_]+@[a-z]+\\.[a-z]+\",data,re.I))"
   ]
  },
  {
   "cell_type": "code",
   "execution_count": 38,
   "metadata": {},
   "outputs": [
    {
     "name": "stdout",
     "output_type": "stream",
     "text": [
      "['PraThim_62@tcs.corp']\n"
     ]
    }
   ],
   "source": [
    "import re\n",
    "data=\"\"\"\n",
    "1,Hameer,HaMee12@gmail.com,9676620345,234\n",
    "567,9867234578,2,Vamshi,vaMS45@yahoo.co.in\n",
    "PraThim_62@tcs.corp.in,3,890,Prathima,8467652437\n",
    "Anil,4,anil@gmail.com,123,7654937890\n",
    "\"\"\"\n",
    "print(re.findall(\"^[a-z0-9_]+@[a-z]+\\.[a-z]+\",data,re.I|re.M))"
   ]
  },
  {
   "cell_type": "code",
   "execution_count": 39,
   "metadata": {},
   "outputs": [
    {
     "name": "stdout",
     "output_type": "stream",
     "text": [
      "[]\n"
     ]
    }
   ],
   "source": [
    "import re\n",
    "data=\"\"\"\n",
    "1,Hameer,HaMee12@gmail.com,9676620345,234\n",
    "567,9867234578,2,Vamshi,vaMS45@yahoo.co.in\n",
    "PraThim_62@tcs.corp.in,3,890,Prathima,8467652437\n",
    "Anil,4,anil@gmail.com,123,7654937890\n",
    "\"\"\"\n",
    "print(re.findall(\"[a-z0-9_]+@[a-z]+\\.[a-z]+$\",data,re.I))"
   ]
  },
  {
   "cell_type": "code",
   "execution_count": 40,
   "metadata": {},
   "outputs": [
    {
     "name": "stdout",
     "output_type": "stream",
     "text": [
      "[]\n"
     ]
    }
   ],
   "source": [
    "import re\n",
    "data=\"\"\"\n",
    "1,Hameer,HaMee12@gmail.com,9676620345,234\n",
    "567,9867234578,2,Vamshi,vaMS45@yahoo.co.in\n",
    "PraThim_62@tcs.corp.in,3,890,Prathima,8467652437\n",
    "Anil,4,anil@gmail.com,123,7654937890\n",
    "\"\"\"\n",
    "print(re.findall(\"[a-z0-9_]+@[a-z]+\\.[a-z]+$\",data,re.I|re.M))"
   ]
  },
  {
   "cell_type": "code",
   "execution_count": 41,
   "metadata": {},
   "outputs": [
    {
     "name": "stdout",
     "output_type": "stream",
     "text": [
      "['vaMS45@yahoo.co.in']\n"
     ]
    }
   ],
   "source": [
    "import re\n",
    "data=\"\"\"\n",
    "1,Hameer,HaMee12@gmail.com,9676620345,234\n",
    "567,9867234578,2,Vamshi,vaMS45@yahoo.co.in\n",
    "PraThim_62@tcs.corp.in,3,890,Prathima,8467652437\n",
    "Anil,4,anil@gmail.com,123,7654937890\n",
    "\"\"\"\n",
    "print(re.findall(\"[a-z0-9_]+@[a-z]+\\.[a-z.]+$\",data,re.I|re.M))"
   ]
  },
  {
   "cell_type": "code",
   "execution_count": 42,
   "metadata": {},
   "outputs": [
    {
     "name": "stdout",
     "output_type": "stream",
     "text": [
      "<callable_iterator object at 0x000001A2A5A6C850>\n"
     ]
    }
   ],
   "source": [
    "import re\n",
    "data=\"\"\"\n",
    "1,Hameer,HaMee12@gmail.com,9676620345,234\n",
    "567,9867234578,2,Vamshi,vaMS45@yahoo.co.in\n",
    "PraThim_62@tcs.corp.in,3,890,Prathima,8467652437\n",
    "Anil,4,anil@gmail.com,123,7654937890\n",
    "\"\"\"\n",
    "print(re.finditer(\"[a-z0-9_]+@[a-z]+\\.[a-z.]+\",data,re.I|re.M))"
   ]
  },
  {
   "cell_type": "code",
   "execution_count": 43,
   "metadata": {},
   "outputs": [
    {
     "name": "stdout",
     "output_type": "stream",
     "text": [
      "<re.Match object; span=(10, 27), match='HaMee12@gmail.com'>\n",
      "<re.Match object; span=(67, 85), match='vaMS45@yahoo.co.in'>\n",
      "<re.Match object; span=(86, 108), match='PraThim_62@tcs.corp.in'>\n",
      "<re.Match object; span=(142, 156), match='anil@gmail.com'>\n"
     ]
    }
   ],
   "source": [
    "import re\n",
    "data=\"\"\"\n",
    "1,Hameer,HaMee12@gmail.com,9676620345,234\n",
    "567,9867234578,2,Vamshi,vaMS45@yahoo.co.in\n",
    "PraThim_62@tcs.corp.in,3,890,Prathima,8467652437\n",
    "Anil,4,anil@gmail.com,123,7654937890\n",
    "\"\"\"\n",
    "for email in re.finditer(\"[a-z0-9_]+@[a-z]+\\.[a-z.]+\",data,re.I|re.M):\n",
    "    print(email)"
   ]
  },
  {
   "cell_type": "code",
   "execution_count": 46,
   "metadata": {},
   "outputs": [
    {
     "name": "stdout",
     "output_type": "stream",
     "text": [
      "HaMee12@gmail.com\n",
      "vaMS45@yahoo.co.in\n",
      "PraThim_62@tcs.corp.in\n",
      "anil@gmail.com\n"
     ]
    }
   ],
   "source": [
    "import re\n",
    "data=\"\"\"\n",
    "1,Hameer,HaMee12@gmail.com,9676620345,234\n",
    "567,9867234578,2,Vamshi,vaMS45@yahoo.co.in\n",
    "PraThim_62@tcs.corp.in,3,890,Prathima,8467652437\n",
    "Anil,4,anil@gmail.com,123,7654937890\n",
    "\"\"\"\n",
    "for email in re.finditer(\"[a-z0-9_]+@[a-z]+\\.[a-z.]+\",data,re.I|re.M):\n",
    "    print(email.group(0))"
   ]
  },
  {
   "cell_type": "code",
   "execution_count": 51,
   "metadata": {},
   "outputs": [
    {
     "name": "stdout",
     "output_type": "stream",
     "text": [
      "\n",
      "1,Hameer,HaM,9676620345,234\n",
      "567,9867234578,2,Vamshi,vaMS\n",
      "PraT,3,890,Prathima,8467652437\n",
      "Anil,4,,123,7654937890\n",
      "\n"
     ]
    }
   ],
   "source": [
    "import re\n",
    "data=\"\"\"\n",
    "1,Hameer,HaMee12@gmail.com,9676620345,234\n",
    "567,9867234578,2,Vamshi,vaMS45@yahoo.co.in\n",
    "PraThim_62@tcs.corp.in,3,890,Prathima,8467652437\n",
    "Anil,4,anil@gmail.com,123,7654937890\n",
    "\"\"\"\n",
    "res = re.sub(\"[a-z0-9_]+@[a-z]+\\.[a-z.]+\",'', data)\n",
    "print(res)"
   ]
  },
  {
   "cell_type": "code",
   "execution_count": 52,
   "metadata": {},
   "outputs": [],
   "source": [
    "f=open(\"data.txt\",\"r\")\n",
    "data = f.read()\n",
    "f.close()\n",
    "res = re.sub(\"[a-z0-9_]+@[a-z]+\\.[a-z.]+\",'', data)\n",
    "f=open(\"data_no_emails.txt\",\"w\")\n",
    "f.write(res)\n",
    "f.close()"
   ]
  },
  {
   "cell_type": "code",
   "execution_count": 55,
   "metadata": {},
   "outputs": [
    {
     "name": "stdout",
     "output_type": "stream",
     "text": [
      "['HaMee12@gmail.com', 'vaMS45@yahoo.co.in', 'PraThim_62@tcs.corp.in', 'anil@gmail.com']\n"
     ]
    }
   ],
   "source": [
    "import re\n",
    "data=\"\"\"\n",
    "1,Hameer,HaMee12@gmail.com,9676620345,234\n",
    "567,9867234578,2,Vamshi,vaMS45@yahoo.co.in\n",
    "PraThim_62@tcs.corp.in,3,890,Prathima,8467652437\n",
    "Anil,4,anil@gmail.com,123,7654937890\n",
    "\"\"\"\n",
    "print(re.findall(\"\\w+@[a-z]+\\.[a-z.]+\",data,re.I|re.M))"
   ]
  },
  {
   "cell_type": "code",
   "execution_count": 56,
   "metadata": {},
   "outputs": [
    {
     "name": "stdout",
     "output_type": "stream",
     "text": [
      "['1', '12', '9676620345', '234', '567', '9867234578', '2', '45', '62', '3', '890', '8467652437', '4', '123', '7654937890']\n"
     ]
    }
   ],
   "source": [
    "import re\n",
    "data=\"\"\"\n",
    "1,Hameer,HaMee12@gmail.com,9676620345,234\n",
    "567,9867234578,2,Vamshi,vaMS45@yahoo.co.in\n",
    "PraThim_62@tcs.corp.in,3,890,Prathima,8467652437\n",
    "Anil,4,anil@gmail.com,123,7654937890\n",
    "\"\"\"\n",
    "print(re.findall(\"\\d+\",data,re.I|re.M))"
   ]
  },
  {
   "cell_type": "code",
   "execution_count": null,
   "metadata": {},
   "outputs": [],
   "source": []
  }
 ],
 "metadata": {
  "kernelspec": {
   "display_name": "Python 3",
   "language": "python",
   "name": "python3"
  },
  "language_info": {
   "codemirror_mode": {
    "name": "ipython",
    "version": 3
   },
   "file_extension": ".py",
   "mimetype": "text/x-python",
   "name": "python",
   "nbconvert_exporter": "python",
   "pygments_lexer": "ipython3",
   "version": "3.8.3"
  }
 },
 "nbformat": 4,
 "nbformat_minor": 4
}
