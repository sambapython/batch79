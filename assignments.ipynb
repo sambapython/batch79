{
 "cells": [
  {
   "cell_type": "code",
   "execution_count": 1,
   "metadata": {},
   "outputs": [
    {
     "name": "stdout",
     "output_type": "stream",
     "text": [
      "enter number:10\n",
      "10\n"
     ]
    }
   ],
   "source": [
    "value = input(\"enter number:\")\n",
    "print(value)"
   ]
  },
  {
   "cell_type": "code",
   "execution_count": 2,
   "metadata": {},
   "outputs": [
    {
     "name": "stdout",
     "output_type": "stream",
     "text": [
      "enter number:12\n",
      "12\n"
     ]
    }
   ],
   "source": [
    "value = input(\"enter number:\")\n",
    "print(value)"
   ]
  },
  {
   "cell_type": "code",
   "execution_count": 4,
   "metadata": {},
   "outputs": [
    {
     "name": "stdout",
     "output_type": "stream",
     "text": [
      "enter number:10\n",
      "ten\n"
     ]
    }
   ],
   "source": [
    "value = input(\"enter number:\")\n",
    "var = value==\"10\" and \"ten\"\n",
    "print(var)"
   ]
  },
  {
   "cell_type": "code",
   "execution_count": 5,
   "metadata": {},
   "outputs": [
    {
     "name": "stdout",
     "output_type": "stream",
     "text": [
      "enter number:12\n",
      "False\n"
     ]
    }
   ],
   "source": [
    "value = input(\"enter number:\")\n",
    "var = value==\"10\" and \"ten\"\n",
    "print(var)"
   ]
  },
  {
   "cell_type": "code",
   "execution_count": 7,
   "metadata": {},
   "outputs": [
    {
     "name": "stdout",
     "output_type": "stream",
     "text": [
      "enter number:10\n",
      "not ten\n"
     ]
    }
   ],
   "source": [
    "value = input(\"enter number:\")\n",
    "var = \"ten\" and \"not ten\" \n",
    "print(var)"
   ]
  },
  {
   "cell_type": "code",
   "execution_count": 8,
   "metadata": {},
   "outputs": [
    {
     "name": "stdout",
     "output_type": "stream",
     "text": [
      "enter number:10\n",
      "ten\n"
     ]
    }
   ],
   "source": [
    "value = input(\"enter number:\")\n",
    "var = (\"ten\" and \"not ten\" ) and (value==\"10\" and \"ten\")\n",
    "print(var)"
   ]
  },
  {
   "cell_type": "code",
   "execution_count": 9,
   "metadata": {},
   "outputs": [
    {
     "name": "stdout",
     "output_type": "stream",
     "text": [
      "enter number:12\n",
      "False\n"
     ]
    }
   ],
   "source": [
    "value = input(\"enter number:\")\n",
    "var = (\"ten\" and \"not ten\" ) and (value==\"10\" and \"ten\")\n",
    "print(var)"
   ]
  },
  {
   "cell_type": "code",
   "execution_count": 10,
   "metadata": {},
   "outputs": [
    {
     "name": "stdout",
     "output_type": "stream",
     "text": [
      "enter number:10\n",
      "ten\n"
     ]
    }
   ],
   "source": [
    "value = input(\"enter number:\")\n",
    "var = \"not ten\" and value==\"10\" and \"ten\"\n",
    "print(var)"
   ]
  },
  {
   "cell_type": "code",
   "execution_count": 11,
   "metadata": {},
   "outputs": [
    {
     "name": "stdout",
     "output_type": "stream",
     "text": [
      "enter number:12\n",
      "False\n"
     ]
    }
   ],
   "source": [
    "value = input(\"enter number:\")\n",
    "var = \"not ten\" and value==\"10\" and \"ten\"\n",
    "print(var)"
   ]
  },
  {
   "cell_type": "code",
   "execution_count": 12,
   "metadata": {},
   "outputs": [
    {
     "name": "stdout",
     "output_type": "stream",
     "text": [
      "enter number:10\n",
      "not ten\n"
     ]
    }
   ],
   "source": [
    "value = input(\"enter number:\")\n",
    "var = \"not ten\" or value==\"10\" and \"ten\"\n",
    "print(var)"
   ]
  },
  {
   "cell_type": "code",
   "execution_count": 13,
   "metadata": {},
   "outputs": [
    {
     "name": "stdout",
     "output_type": "stream",
     "text": [
      "enter number:12\n",
      "ten\n"
     ]
    }
   ],
   "source": [
    "value = input(\"enter number:\")\n",
    "var = value==\"10\" or \"not test\" and \"ten\"\n",
    "print(var)"
   ]
  },
  {
   "cell_type": "code",
   "execution_count": 14,
   "metadata": {},
   "outputs": [
    {
     "name": "stdout",
     "output_type": "stream",
     "text": [
      "enter number:12\n",
      "not ten\n"
     ]
    }
   ],
   "source": [
    "value = input(\"enter number:\")\n",
    "var = value==\"10\" or \"not ten\"\n",
    "print(var)"
   ]
  },
  {
   "cell_type": "code",
   "execution_count": 15,
   "metadata": {},
   "outputs": [
    {
     "name": "stdout",
     "output_type": "stream",
     "text": [
      "enter number:10\n",
      "True\n"
     ]
    }
   ],
   "source": [
    "value = input(\"enter number:\")\n",
    "var = value==\"10\" or \"not ten\"\n",
    "print(var)"
   ]
  },
  {
   "cell_type": "code",
   "execution_count": 16,
   "metadata": {},
   "outputs": [
    {
     "name": "stdout",
     "output_type": "stream",
     "text": [
      "enter number:10\n",
      "ten\n",
      "not ten\n"
     ]
    }
   ],
   "source": [
    "value = input(\"enter number:\")\n",
    "var = value == \"10\" and \"ten\"\n",
    "print(var)\n",
    "var1 = var== \"ten\" and \"not ten\"\n",
    "print(var1)"
   ]
  },
  {
   "cell_type": "code",
   "execution_count": 17,
   "metadata": {},
   "outputs": [
    {
     "name": "stdout",
     "output_type": "stream",
     "text": [
      "enter number:12\n",
      "False\n",
      "False\n"
     ]
    }
   ],
   "source": []
  },
  {
   "cell_type": "code",
   "execution_count": 6,
   "metadata": {},
   "outputs": [
    {
     "name": "stdout",
     "output_type": "stream",
     "text": [
      "The hyderabadbanglore temperature in hyderabadbanglore was too high yesterday.hyderabad\n"
     ]
    }
   ],
   "source": [
    "actual_string = \"The hyderabad temperature in hyderabad was too high yesterday.hyderabad\"\n",
    "source = \"hyderabad\"\n",
    "destination = \"banglore\"\n",
    "res=\"\"\n",
    "sub=\"\"\n",
    "for i in actual_string:\n",
    "    if i == \" \":\n",
    "        if sub == source:\n",
    "            res = res+destination\n",
    "        sub=\"\"\n",
    "        res = res+\" \"\n",
    "    else:\n",
    "        sub = sub+i\n",
    "        res=res+i\n",
    "        \n",
    "print(res)"
   ]
  },
  {
   "cell_type": "code",
   "execution_count": 12,
   "metadata": {},
   "outputs": [
    {
     "name": "stdout",
     "output_type": "stream",
     "text": [
      "The banglore temperature in banglore was too high yesterday banglore\n"
     ]
    }
   ],
   "source": [
    "actual_string = \"The hyderabad temperature in hyderabad was too high yesterday hyderabad\"\n",
    "source = \"hyderabad\"\n",
    "destination = \"banglore\"\n",
    "res=\"\"\n",
    "sub=\"\"\n",
    "for i in actual_string:\n",
    "    if i == \" \":\n",
    "        if sub == source:\n",
    "            res = res[:-1*len(source)]\n",
    "            res = res+destination\n",
    "        sub=\"\"\n",
    "        res = res+\" \"\n",
    "    else:\n",
    "        sub = sub+i\n",
    "        res=res+i\n",
    "if sub==source:\n",
    "    res = res[:-1*len(source)]\n",
    "    res=res+destination\n",
    "else:\n",
    "    res=res+sub    \n",
    "print(res)"
   ]
  },
  {
   "cell_type": "code",
   "execution_count": 9,
   "metadata": {},
   "outputs": [
    {
     "data": {
      "text/plain": [
       "'abcdefgh'"
      ]
     },
     "execution_count": 9,
     "metadata": {},
     "output_type": "execute_result"
    }
   ],
   "source": [
    "s=\"abcdefghijkl\"\n",
    "s[:-4]\n"
   ]
  },
  {
   "cell_type": "code",
   "execution_count": 14,
   "metadata": {},
   "outputs": [
    {
     "data": {
      "text/plain": [
       "'The banglore temperature in banglore was too high yesterday banglore'"
      ]
     },
     "execution_count": 14,
     "metadata": {},
     "output_type": "execute_result"
    }
   ],
   "source": [
    "actual_string.replace(\"hyderabad\",\"banglore\")"
   ]
  },
  {
   "cell_type": "code",
   "execution_count": 1,
   "metadata": {},
   "outputs": [
    {
     "name": "stdout",
     "output_type": "stream",
     "text": [
      "it contains only special chars\n"
     ]
    }
   ],
   "source": [
    "s=\"!@$###%$^&^\"\n",
    "print(\"it contains only special chars\")"
   ]
  },
  {
   "cell_type": "code",
   "execution_count": 2,
   "metadata": {},
   "outputs": [
    {
     "name": "stdout",
     "output_type": "stream",
     "text": [
      "it contains other chars also\n"
     ]
    }
   ],
   "source": [
    "s=\"!@$###%$^&^a1\"\n",
    "print(\"it contains other chars also\")"
   ]
  },
  {
   "cell_type": "code",
   "execution_count": 3,
   "metadata": {},
   "outputs": [
    {
     "name": "stdout",
     "output_type": "stream",
     "text": [
      "False\n"
     ]
    }
   ],
   "source": [
    "s=\"sdf sdfds\"\n",
    "print(s.isalnum())"
   ]
  },
  {
   "cell_type": "code",
   "execution_count": 5,
   "metadata": {},
   "outputs": [
    {
     "name": "stdout",
     "output_type": "stream",
     "text": [
      "False\n"
     ]
    }
   ],
   "source": [
    "s=\"sdf sdfds\"\n",
    "print(s.isalpha())"
   ]
  },
  {
   "cell_type": "code",
   "execution_count": 7,
   "metadata": {},
   "outputs": [
    {
     "name": "stdout",
     "output_type": "stream",
     "text": [
      "Contains\n"
     ]
    }
   ],
   "source": [
    "s=\"asfdsad12312!\"\n",
    "print(\"Not\" if s.isalnum() else \"Contains\")"
   ]
  },
  {
   "cell_type": "code",
   "execution_count": 8,
   "metadata": {},
   "outputs": [
    {
     "name": "stdout",
     "output_type": "stream",
     "text": [
      "it contains only special chars\n"
     ]
    }
   ],
   "source": [
    "s=\"!@#$@#%#$%\"\n",
    "for i in s:\n",
    "    if i.isalnum():\n",
    "        print(\"It contains other chars\")\n",
    "        break\n",
    "else:\n",
    "    print(\"it contains only special chars\")"
   ]
  },
  {
   "cell_type": "code",
   "execution_count": 9,
   "metadata": {},
   "outputs": [
    {
     "name": "stdout",
     "output_type": "stream",
     "text": [
      "It contains other chars\n"
     ]
    }
   ],
   "source": [
    "s=\"!@#$@#%#$%qwer\"\n",
    "for i in s:\n",
    "    if i.isalnum():\n",
    "        print(\"It contains other chars\")\n",
    "        break\n",
    "else:\n",
    "    print(\"it contains only special chars\")"
   ]
  },
  {
   "cell_type": "code",
   "execution_count": 10,
   "metadata": {},
   "outputs": [
    {
     "name": "stdout",
     "output_type": "stream",
     "text": [
      "it contains other chars\n"
     ]
    }
   ],
   "source": [
    "import re\n",
    "s=\"!@#$@#%#$%qwer\"\n",
    "if re.search(\"[a-z0-9]\",s):\n",
    "    print(\"it contains other chars\")\n",
    "else:\n",
    "    print(\"it contains only special chars\")"
   ]
  },
  {
   "cell_type": "code",
   "execution_count": 11,
   "metadata": {},
   "outputs": [
    {
     "name": "stdout",
     "output_type": "stream",
     "text": [
      "it contains only special chars\n"
     ]
    }
   ],
   "source": [
    "import re\n",
    "s=\"!@#$@#%#$%\"\n",
    "if re.search(\"[a-z0-9]\",s):\n",
    "    print(\"it contains other chars\")\n",
    "else:\n",
    "    print(\"it contains only special chars\")"
   ]
  },
  {
   "cell_type": "code",
   "execution_count": null,
   "metadata": {},
   "outputs": [],
   "source": []
  }
 ],
 "metadata": {
  "kernelspec": {
   "display_name": "Python 3",
   "language": "python",
   "name": "python3"
  },
  "language_info": {
   "codemirror_mode": {
    "name": "ipython",
    "version": 3
   },
   "file_extension": ".py",
   "mimetype": "text/x-python",
   "name": "python",
   "nbconvert_exporter": "python",
   "pygments_lexer": "ipython3",
   "version": "3.8.3"
  }
 },
 "nbformat": 4,
 "nbformat_minor": 4
}
