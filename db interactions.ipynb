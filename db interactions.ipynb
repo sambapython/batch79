{
 "cells": [
  {
   "cell_type": "code",
   "execution_count": 1,
   "metadata": {},
   "outputs": [],
   "source": [
    "import sqlite3"
   ]
  },
  {
   "cell_type": "code",
   "execution_count": 2,
   "metadata": {},
   "outputs": [],
   "source": [
    "con = sqlite3.connect(\"db1\")"
   ]
  },
  {
   "cell_type": "code",
   "execution_count": 3,
   "metadata": {},
   "outputs": [
    {
     "data": {
      "text/plain": [
       "<sqlite3.Cursor at 0x147cf7338f0>"
      ]
     },
     "execution_count": 3,
     "metadata": {},
     "output_type": "execute_result"
    }
   ],
   "source": [
    "query = \"create table person(id int, name varchar(250))\"\n",
    "con.execute(query)# DDL query commint not required"
   ]
  },
  {
   "cell_type": "code",
   "execution_count": 5,
   "metadata": {},
   "outputs": [
    {
     "data": {
      "text/plain": [
       "<sqlite3.Cursor at 0x147ceb79110>"
      ]
     },
     "execution_count": 5,
     "metadata": {},
     "output_type": "execute_result"
    }
   ],
   "source": [
    "query = \"insert into person(id, name) values(1, 'jayaram')\"\n",
    "con.execute(query)# DM query need a commmit"
   ]
  },
  {
   "cell_type": "code",
   "execution_count": 6,
   "metadata": {},
   "outputs": [],
   "source": [
    "con.commit()"
   ]
  },
  {
   "cell_type": "code",
   "execution_count": 7,
   "metadata": {},
   "outputs": [
    {
     "name": "stdout",
     "output_type": "stream",
     "text": [
      "insert into person(id, name) values(2,'Beth Luna')\n"
     ]
    }
   ],
   "source": [
    "import names\n",
    "for i in range(2,101):\n",
    "    query = f\"insert into person(id, name) values({i},'{names.get_full_name()}')\"\n",
    "    print(query)\n",
    "    break"
   ]
  },
  {
   "cell_type": "code",
   "execution_count": 8,
   "metadata": {},
   "outputs": [],
   "source": [
    "import names\n",
    "for i in range(2,101):\n",
    "    query = f\"insert into person(id, name) values({i},'{names.get_full_name()}')\"\n",
    "    con.execute(query)\n",
    "con.commit()"
   ]
  },
  {
   "cell_type": "code",
   "execution_count": 9,
   "metadata": {},
   "outputs": [
    {
     "data": {
      "text/plain": [
       "<sqlite3.Cursor at 0x147ceb8cea0>"
      ]
     },
     "execution_count": 9,
     "metadata": {},
     "output_type": "execute_result"
    }
   ],
   "source": [
    "query = \"select * from person\"\n",
    "cur = con.cursor()\n",
    "cur.execute(query)"
   ]
  },
  {
   "cell_type": "code",
   "execution_count": 10,
   "metadata": {},
   "outputs": [
    {
     "data": {
      "text/plain": [
       "[(1, 'jayaram'),\n",
       " (2, 'Betty Freeland'),\n",
       " (3, 'Henry Cavanaugh'),\n",
       " (4, 'Scott Fields'),\n",
       " (5, 'Lance Heinsohn'),\n",
       " (6, 'Patty Hawes'),\n",
       " (7, 'Patricia Cox'),\n",
       " (8, 'Daniela Taylor'),\n",
       " (9, 'Tony Mattson'),\n",
       " (10, 'Gustavo Howard'),\n",
       " (11, 'Carla Gales'),\n",
       " (12, 'Clyde Swanson'),\n",
       " (13, 'Kathleen Foreman'),\n",
       " (14, 'Brian Green'),\n",
       " (15, 'Antoinette Pinson'),\n",
       " (16, 'Celeste Keller'),\n",
       " (17, 'Shari Gooden'),\n",
       " (18, 'Jeffery Fite'),\n",
       " (19, 'Carmela Turner'),\n",
       " (20, 'Helen Blackburn'),\n",
       " (21, 'Olive Corbin'),\n",
       " (22, 'Angela Mcrae'),\n",
       " (23, 'Carolyn Reese'),\n",
       " (24, 'David Lunford'),\n",
       " (25, 'Thomas Kim'),\n",
       " (26, 'Daniel Foglesong'),\n",
       " (27, 'Cynthia Raab'),\n",
       " (28, 'Elaine Phillips'),\n",
       " (29, 'Charles Caffey'),\n",
       " (30, 'Teddy Garrison'),\n",
       " (31, 'William Seals'),\n",
       " (32, 'Roberto Findley'),\n",
       " (33, 'Clifton Cox'),\n",
       " (34, 'Wanda Laue'),\n",
       " (35, 'Mary Sanchez'),\n",
       " (36, 'Leonard Murphy'),\n",
       " (37, 'Bryan Leung'),\n",
       " (38, 'Terry Anthony'),\n",
       " (39, 'Carl Smith'),\n",
       " (40, 'Robert Reed'),\n",
       " (41, 'Roseanna Vaughn'),\n",
       " (42, 'Eleanor Costa'),\n",
       " (43, 'Joseph Stavis'),\n",
       " (44, 'Eugene Pearson'),\n",
       " (45, 'William Lapage'),\n",
       " (46, 'Jane Johnston'),\n",
       " (47, 'Anthony Ventura'),\n",
       " (48, 'Daniel Barker'),\n",
       " (49, 'David Littlefield'),\n",
       " (50, 'Joyce Swan'),\n",
       " (51, 'Paul Johnson'),\n",
       " (52, 'Edna Cancel'),\n",
       " (53, 'Jeffrey Lopez'),\n",
       " (54, 'Elaine Cunningham'),\n",
       " (55, 'Randy Kasten'),\n",
       " (56, 'Daisy Robertson'),\n",
       " (57, 'Tania Malcolm'),\n",
       " (58, 'Gilbert Halpin'),\n",
       " (59, 'Kathleen Diaz'),\n",
       " (60, 'Dorothy Blake'),\n",
       " (61, 'Omer Lee'),\n",
       " (62, 'Audrey Lee'),\n",
       " (63, 'William Boyd'),\n",
       " (64, 'Mario Mckenney'),\n",
       " (65, 'Bonnie Podbielski'),\n",
       " (66, 'Terry Neely'),\n",
       " (67, 'Amelia Seaman'),\n",
       " (68, 'Jack Mushrush'),\n",
       " (69, 'Joan Beam'),\n",
       " (70, 'Nelson Mcevoy'),\n",
       " (71, 'Howard Edwards'),\n",
       " (72, 'Tom Harsh'),\n",
       " (73, 'Charles Vera'),\n",
       " (74, 'Kaye Pritchard'),\n",
       " (75, 'Dora Cade'),\n",
       " (76, 'Joseph Shepard'),\n",
       " (77, 'Marcella Haines'),\n",
       " (78, 'Christopher Dawson'),\n",
       " (79, 'Andrea Elgin'),\n",
       " (80, 'Heather Peralta'),\n",
       " (81, 'Bryan Mullins'),\n",
       " (82, 'Jenine Moffitt'),\n",
       " (83, 'Brett Hough'),\n",
       " (84, 'Forrest Spooner'),\n",
       " (85, 'Candace Harwell'),\n",
       " (86, 'Matthew Brown'),\n",
       " (87, 'Richard Cohen'),\n",
       " (88, 'Gladys Shores'),\n",
       " (89, 'Jamie Vogler'),\n",
       " (90, 'Julie Hill'),\n",
       " (91, 'Michael Legros'),\n",
       " (92, 'Jerry Murphy'),\n",
       " (93, 'Stephen Hazelton'),\n",
       " (94, 'Marion Simmons'),\n",
       " (95, 'Estella Pedersen'),\n",
       " (96, 'Larry Schumann'),\n",
       " (97, 'Jeremy Colone'),\n",
       " (98, 'Patricia Lucero'),\n",
       " (99, 'Tommie Brown'),\n",
       " (100, 'Sean Miller')]"
      ]
     },
     "execution_count": 10,
     "metadata": {},
     "output_type": "execute_result"
    }
   ],
   "source": [
    "cur.fetchall()"
   ]
  },
  {
   "cell_type": "code",
   "execution_count": 11,
   "metadata": {},
   "outputs": [
    {
     "data": {
      "text/plain": [
       "[]"
      ]
     },
     "execution_count": 11,
     "metadata": {},
     "output_type": "execute_result"
    }
   ],
   "source": [
    "cur.fetchall()"
   ]
  },
  {
   "cell_type": "code",
   "execution_count": 12,
   "metadata": {},
   "outputs": [
    {
     "name": "stdout",
     "output_type": "stream",
     "text": [
      "[(1, 'jayaram'), (2, 'Betty Freeland'), (3, 'Henry Cavanaugh'), (4, 'Scott Fields'), (5, 'Lance Heinsohn'), (6, 'Patty Hawes'), (7, 'Patricia Cox'), (8, 'Daniela Taylor'), (9, 'Tony Mattson'), (10, 'Gustavo Howard'), (11, 'Carla Gales'), (12, 'Clyde Swanson'), (13, 'Kathleen Foreman'), (14, 'Brian Green'), (15, 'Antoinette Pinson'), (16, 'Celeste Keller'), (17, 'Shari Gooden'), (18, 'Jeffery Fite'), (19, 'Carmela Turner'), (20, 'Helen Blackburn'), (21, 'Olive Corbin'), (22, 'Angela Mcrae'), (23, 'Carolyn Reese'), (24, 'David Lunford'), (25, 'Thomas Kim'), (26, 'Daniel Foglesong'), (27, 'Cynthia Raab'), (28, 'Elaine Phillips'), (29, 'Charles Caffey'), (30, 'Teddy Garrison'), (31, 'William Seals'), (32, 'Roberto Findley'), (33, 'Clifton Cox'), (34, 'Wanda Laue'), (35, 'Mary Sanchez'), (36, 'Leonard Murphy'), (37, 'Bryan Leung'), (38, 'Terry Anthony'), (39, 'Carl Smith'), (40, 'Robert Reed'), (41, 'Roseanna Vaughn'), (42, 'Eleanor Costa'), (43, 'Joseph Stavis'), (44, 'Eugene Pearson'), (45, 'William Lapage'), (46, 'Jane Johnston'), (47, 'Anthony Ventura'), (48, 'Daniel Barker'), (49, 'David Littlefield'), (50, 'Joyce Swan'), (51, 'Paul Johnson'), (52, 'Edna Cancel'), (53, 'Jeffrey Lopez'), (54, 'Elaine Cunningham'), (55, 'Randy Kasten'), (56, 'Daisy Robertson'), (57, 'Tania Malcolm'), (58, 'Gilbert Halpin'), (59, 'Kathleen Diaz'), (60, 'Dorothy Blake'), (61, 'Omer Lee'), (62, 'Audrey Lee'), (63, 'William Boyd'), (64, 'Mario Mckenney'), (65, 'Bonnie Podbielski'), (66, 'Terry Neely'), (67, 'Amelia Seaman'), (68, 'Jack Mushrush'), (69, 'Joan Beam'), (70, 'Nelson Mcevoy'), (71, 'Howard Edwards'), (72, 'Tom Harsh'), (73, 'Charles Vera'), (74, 'Kaye Pritchard'), (75, 'Dora Cade'), (76, 'Joseph Shepard'), (77, 'Marcella Haines'), (78, 'Christopher Dawson'), (79, 'Andrea Elgin'), (80, 'Heather Peralta'), (81, 'Bryan Mullins'), (82, 'Jenine Moffitt'), (83, 'Brett Hough'), (84, 'Forrest Spooner'), (85, 'Candace Harwell'), (86, 'Matthew Brown'), (87, 'Richard Cohen'), (88, 'Gladys Shores'), (89, 'Jamie Vogler'), (90, 'Julie Hill'), (91, 'Michael Legros'), (92, 'Jerry Murphy'), (93, 'Stephen Hazelton'), (94, 'Marion Simmons'), (95, 'Estella Pedersen'), (96, 'Larry Schumann'), (97, 'Jeremy Colone'), (98, 'Patricia Lucero'), (99, 'Tommie Brown'), (100, 'Sean Miller')]\n"
     ]
    }
   ],
   "source": [
    "query = \"select * from person\"\n",
    "cur = con.cursor()\n",
    "cur.execute(query)\n",
    "data = cur.fetchall()\n",
    "print(data)"
   ]
  },
  {
   "cell_type": "code",
   "execution_count": 16,
   "metadata": {},
   "outputs": [
    {
     "name": "stdout",
     "output_type": "stream",
     "text": [
      "[(5, 'Lance Heinsohn'), (36, 'Leonard Murphy'), (96, 'Larry Schumann')]\n"
     ]
    }
   ],
   "source": [
    "query = \"select * from person where name like 'L%'\"\n",
    "cur = con.cursor()\n",
    "cur.execute(query)\n",
    "data = cur.fetchall()\n",
    "print(data)"
   ]
  },
  {
   "cell_type": "code",
   "execution_count": 20,
   "metadata": {},
   "outputs": [
    {
     "name": "stdout",
     "output_type": "stream",
     "text": [
      "[]\n"
     ]
    }
   ],
   "source": [
    "query = \"select * from person where name like 'L>%'\"\n",
    "cur = con.cursor()\n",
    "cur.execute(query)\n",
    "data = cur.fetchall()\n",
    "print(data)"
   ]
  },
  {
   "cell_type": "code",
   "execution_count": 19,
   "metadata": {},
   "outputs": [
    {
     "name": "stdout",
     "output_type": "stream",
     "text": [
      "[]\n"
     ]
    }
   ],
   "source": [
    "query = \"select * from person where name like '[%'\"\n",
    "cur = con.cursor()\n",
    "cur.execute(query)\n",
    "data = cur.fetchall()\n",
    "print(data)"
   ]
  },
  {
   "cell_type": "code",
   "execution_count": 21,
   "metadata": {},
   "outputs": [
    {
     "name": "stdout",
     "output_type": "stream",
     "text": [
      "[(5050,)]\n"
     ]
    }
   ],
   "source": [
    "query = \"select sum(id) from person\"\n",
    "cur.execute(query)\n",
    "data = cur.fetchall()\n",
    "print(data)"
   ]
  },
  {
   "cell_type": "code",
   "execution_count": 22,
   "metadata": {},
   "outputs": [],
   "source": [
    "query = \"update person set name='JAYARAM' where id=1\"\n",
    "cur.execute(query)\n",
    "con.commit()"
   ]
  },
  {
   "cell_type": "code",
   "execution_count": 24,
   "metadata": {},
   "outputs": [],
   "source": [
    "con.close()"
   ]
  },
  {
   "cell_type": "code",
   "execution_count": 26,
   "metadata": {},
   "outputs": [],
   "source": [
    "import psycopg2\n",
    "con = psycopg2.connect(\"dbname=batch79 user=postgres password=root\")\n",
    "cur = con.cursor()"
   ]
  },
  {
   "cell_type": "code",
   "execution_count": 1,
   "metadata": {},
   "outputs": [],
   "source": [
    "import psycopg2\n",
    "con = psycopg2.connect(\"dbname=batch79 user=postgres password=root\")\n",
    "cur = con.cursor()\n",
    "query=\"create table person(id int, name varchar(250))\"\n",
    "cur.execute(query)\n",
    "import names\n",
    "for i in range(1,51):\n",
    "    query = f\"insert into person(id, name) values({i},'{names.get_full_name()}')\"\n",
    "    cur.execute(query)\n",
    "con.commit()"
   ]
  },
  {
   "cell_type": "code",
   "execution_count": null,
   "metadata": {},
   "outputs": [],
   "source": []
  }
 ],
 "metadata": {
  "kernelspec": {
   "display_name": "Python 3",
   "language": "python",
   "name": "python3"
  },
  "language_info": {
   "codemirror_mode": {
    "name": "ipython",
    "version": 3
   },
   "file_extension": ".py",
   "mimetype": "text/x-python",
   "name": "python",
   "nbconvert_exporter": "python",
   "pygments_lexer": "ipython3",
   "version": "3.8.3"
  }
 },
 "nbformat": 4,
 "nbformat_minor": 4
}
