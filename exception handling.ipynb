{
 "cells": [
  {
   "cell_type": "code",
   "execution_count": 1,
   "metadata": {},
   "outputs": [
    {
     "ename": "SyntaxError",
     "evalue": "EOL while scanning string literal (<ipython-input-1-fb685085f3dc>, line 2)",
     "output_type": "error",
     "traceback": [
      "\u001b[1;36m  File \u001b[1;32m\"<ipython-input-1-fb685085f3dc>\"\u001b[1;36m, line \u001b[1;32m2\u001b[0m\n\u001b[1;33m    print(\"dsf\u001b[0m\n\u001b[1;37m              ^\u001b[0m\n\u001b[1;31mSyntaxError\u001b[0m\u001b[1;31m:\u001b[0m EOL while scanning string literal\n"
     ]
    }
   ],
   "source": [
    "print(\"hello\")\n",
    "print(\"dsf\n",
    "a=10\n",
    "b=20\n",
    "#compile time error.."
   ]
  },
  {
   "cell_type": "code",
   "execution_count": 2,
   "metadata": {},
   "outputs": [
    {
     "name": "stdout",
     "output_type": "stream",
     "text": [
      "hello\n",
      "dsf\n"
     ]
    }
   ],
   "source": [
    "print(\"hello\")\n",
    "print(\"dsf\")\n",
    "a=10\n",
    "b=20"
   ]
  },
  {
   "cell_type": "code",
   "execution_count": 3,
   "metadata": {},
   "outputs": [
    {
     "name": "stdout",
     "output_type": "stream",
     "text": [
      "hello\n",
      "dsf\n"
     ]
    },
    {
     "ename": "ZeroDivisionError",
     "evalue": "division by zero",
     "output_type": "error",
     "traceback": [
      "\u001b[1;31m---------------------------------------------------------------------------\u001b[0m",
      "\u001b[1;31mZeroDivisionError\u001b[0m                         Traceback (most recent call last)",
      "\u001b[1;32m<ipython-input-3-f44feb825900>\u001b[0m in \u001b[0;36m<module>\u001b[1;34m\u001b[0m\n\u001b[0;32m      1\u001b[0m \u001b[0mprint\u001b[0m\u001b[1;33m(\u001b[0m\u001b[1;34m\"hello\"\u001b[0m\u001b[1;33m)\u001b[0m\u001b[1;33m\u001b[0m\u001b[1;33m\u001b[0m\u001b[0m\n\u001b[0;32m      2\u001b[0m \u001b[0mprint\u001b[0m\u001b[1;33m(\u001b[0m\u001b[1;34m\"dsf\"\u001b[0m\u001b[1;33m)\u001b[0m\u001b[1;33m\u001b[0m\u001b[1;33m\u001b[0m\u001b[0m\n\u001b[1;32m----> 3\u001b[1;33m \u001b[0mprint\u001b[0m\u001b[1;33m(\u001b[0m\u001b[1;36m1\u001b[0m\u001b[1;33m/\u001b[0m\u001b[1;36m0\u001b[0m\u001b[1;33m)\u001b[0m\u001b[1;33m\u001b[0m\u001b[1;33m\u001b[0m\u001b[0m\n\u001b[0m\u001b[0;32m      4\u001b[0m \u001b[0ma\u001b[0m\u001b[1;33m=\u001b[0m\u001b[1;36m10\u001b[0m\u001b[1;33m\u001b[0m\u001b[1;33m\u001b[0m\u001b[0m\n\u001b[0;32m      5\u001b[0m \u001b[0mb\u001b[0m\u001b[1;33m=\u001b[0m\u001b[1;36m20\u001b[0m\u001b[1;33m\u001b[0m\u001b[1;33m\u001b[0m\u001b[0m\n",
      "\u001b[1;31mZeroDivisionError\u001b[0m: division by zero"
     ]
    }
   ],
   "source": [
    "print(\"hello\")\n",
    "print(\"dsf\")\n",
    "print(1/0)\n",
    "a=10\n",
    "b=20"
   ]
  },
  {
   "cell_type": "code",
   "execution_count": 4,
   "metadata": {},
   "outputs": [
    {
     "name": "stdout",
     "output_type": "stream",
     "text": [
      "start\n",
      "enter a value:10\n",
      "enter b value:5\n",
      "befor conversion a=10, b=5\n",
      "after conversion a=10, b=5\n",
      "result=2.0\n",
      "end\n"
     ]
    }
   ],
   "source": [
    "print(\"start\")\n",
    "a=input(\"enter a value:\")\n",
    "b=input(\"enter b value:\")\n",
    "print(f\"befor conversion a={a}, b={b}\")\n",
    "a=int(a)\n",
    "b=int(b)\n",
    "print(f\"after conversion a={a}, b={b}\")\n",
    "res=a/b\n",
    "print(f\"result={res}\")\n",
    "print(\"end\")"
   ]
  },
  {
   "cell_type": "code",
   "execution_count": 5,
   "metadata": {},
   "outputs": [
    {
     "name": "stdout",
     "output_type": "stream",
     "text": [
      "start\n",
      "enter a value:10\n",
      "enter b value:0\n",
      "befor conversion a=10, b=0\n",
      "after conversion a=10, b=0\n"
     ]
    },
    {
     "ename": "ZeroDivisionError",
     "evalue": "division by zero",
     "output_type": "error",
     "traceback": [
      "\u001b[1;31m---------------------------------------------------------------------------\u001b[0m",
      "\u001b[1;31mZeroDivisionError\u001b[0m                         Traceback (most recent call last)",
      "\u001b[1;32m<ipython-input-5-548a664635df>\u001b[0m in \u001b[0;36m<module>\u001b[1;34m\u001b[0m\n\u001b[0;32m      6\u001b[0m \u001b[0mb\u001b[0m\u001b[1;33m=\u001b[0m\u001b[0mint\u001b[0m\u001b[1;33m(\u001b[0m\u001b[0mb\u001b[0m\u001b[1;33m)\u001b[0m\u001b[1;33m\u001b[0m\u001b[1;33m\u001b[0m\u001b[0m\n\u001b[0;32m      7\u001b[0m \u001b[0mprint\u001b[0m\u001b[1;33m(\u001b[0m\u001b[1;34mf\"after conversion a={a}, b={b}\"\u001b[0m\u001b[1;33m)\u001b[0m\u001b[1;33m\u001b[0m\u001b[1;33m\u001b[0m\u001b[0m\n\u001b[1;32m----> 8\u001b[1;33m \u001b[0mres\u001b[0m\u001b[1;33m=\u001b[0m\u001b[0ma\u001b[0m\u001b[1;33m/\u001b[0m\u001b[0mb\u001b[0m\u001b[1;33m\u001b[0m\u001b[1;33m\u001b[0m\u001b[0m\n\u001b[0m\u001b[0;32m      9\u001b[0m \u001b[0mprint\u001b[0m\u001b[1;33m(\u001b[0m\u001b[1;34mf\"result={res}\"\u001b[0m\u001b[1;33m)\u001b[0m\u001b[1;33m\u001b[0m\u001b[1;33m\u001b[0m\u001b[0m\n\u001b[0;32m     10\u001b[0m \u001b[0mprint\u001b[0m\u001b[1;33m(\u001b[0m\u001b[1;34m\"end\"\u001b[0m\u001b[1;33m)\u001b[0m\u001b[1;33m\u001b[0m\u001b[1;33m\u001b[0m\u001b[0m\n",
      "\u001b[1;31mZeroDivisionError\u001b[0m: division by zero"
     ]
    }
   ],
   "source": [
    "print(\"start\")\n",
    "a=input(\"enter a value:\")\n",
    "b=input(\"enter b value:\")\n",
    "print(f\"befor conversion a={a}, b={b}\")\n",
    "a=int(a)\n",
    "b=int(b)\n",
    "print(f\"after conversion a={a}, b={b}\")\n",
    "res=a/b\n",
    "print(f\"result={res}\")\n",
    "print(\"end\")"
   ]
  },
  {
   "cell_type": "code",
   "execution_count": 6,
   "metadata": {},
   "outputs": [
    {
     "name": "stdout",
     "output_type": "stream",
     "text": [
      "start\n",
      "enter a value:we\n",
      "enter b value:34\n",
      "befor conversion a=we, b=34\n"
     ]
    },
    {
     "ename": "ValueError",
     "evalue": "invalid literal for int() with base 10: 'we'",
     "output_type": "error",
     "traceback": [
      "\u001b[1;31m---------------------------------------------------------------------------\u001b[0m",
      "\u001b[1;31mValueError\u001b[0m                                Traceback (most recent call last)",
      "\u001b[1;32m<ipython-input-6-548a664635df>\u001b[0m in \u001b[0;36m<module>\u001b[1;34m\u001b[0m\n\u001b[0;32m      3\u001b[0m \u001b[0mb\u001b[0m\u001b[1;33m=\u001b[0m\u001b[0minput\u001b[0m\u001b[1;33m(\u001b[0m\u001b[1;34m\"enter b value:\"\u001b[0m\u001b[1;33m)\u001b[0m\u001b[1;33m\u001b[0m\u001b[1;33m\u001b[0m\u001b[0m\n\u001b[0;32m      4\u001b[0m \u001b[0mprint\u001b[0m\u001b[1;33m(\u001b[0m\u001b[1;34mf\"befor conversion a={a}, b={b}\"\u001b[0m\u001b[1;33m)\u001b[0m\u001b[1;33m\u001b[0m\u001b[1;33m\u001b[0m\u001b[0m\n\u001b[1;32m----> 5\u001b[1;33m \u001b[0ma\u001b[0m\u001b[1;33m=\u001b[0m\u001b[0mint\u001b[0m\u001b[1;33m(\u001b[0m\u001b[0ma\u001b[0m\u001b[1;33m)\u001b[0m\u001b[1;33m\u001b[0m\u001b[1;33m\u001b[0m\u001b[0m\n\u001b[0m\u001b[0;32m      6\u001b[0m \u001b[0mb\u001b[0m\u001b[1;33m=\u001b[0m\u001b[0mint\u001b[0m\u001b[1;33m(\u001b[0m\u001b[0mb\u001b[0m\u001b[1;33m)\u001b[0m\u001b[1;33m\u001b[0m\u001b[1;33m\u001b[0m\u001b[0m\n\u001b[0;32m      7\u001b[0m \u001b[0mprint\u001b[0m\u001b[1;33m(\u001b[0m\u001b[1;34mf\"after conversion a={a}, b={b}\"\u001b[0m\u001b[1;33m)\u001b[0m\u001b[1;33m\u001b[0m\u001b[1;33m\u001b[0m\u001b[0m\n",
      "\u001b[1;31mValueError\u001b[0m: invalid literal for int() with base 10: 'we'"
     ]
    }
   ],
   "source": [
    "print(\"start\")\n",
    "a=input(\"enter a value:\")\n",
    "b=input(\"enter b value:\")\n",
    "print(f\"befor conversion a={a}, b={b}\")\n",
    "a=int(a)\n",
    "b=int(b)\n",
    "print(f\"after conversion a={a}, b={b}\")\n",
    "res=a/b\n",
    "print(f\"result={res}\")\n",
    "print(\"end\")"
   ]
  },
  {
   "cell_type": "code",
   "execution_count": 7,
   "metadata": {},
   "outputs": [
    {
     "name": "stdout",
     "output_type": "stream",
     "text": [
      "start\n",
      "enter a value:1.2\n",
      "enter b value:3.4\n",
      "befor conversion a=1.2, b=3.4\n"
     ]
    },
    {
     "ename": "ValueError",
     "evalue": "invalid literal for int() with base 10: '1.2'",
     "output_type": "error",
     "traceback": [
      "\u001b[1;31m---------------------------------------------------------------------------\u001b[0m",
      "\u001b[1;31mValueError\u001b[0m                                Traceback (most recent call last)",
      "\u001b[1;32m<ipython-input-7-548a664635df>\u001b[0m in \u001b[0;36m<module>\u001b[1;34m\u001b[0m\n\u001b[0;32m      3\u001b[0m \u001b[0mb\u001b[0m\u001b[1;33m=\u001b[0m\u001b[0minput\u001b[0m\u001b[1;33m(\u001b[0m\u001b[1;34m\"enter b value:\"\u001b[0m\u001b[1;33m)\u001b[0m\u001b[1;33m\u001b[0m\u001b[1;33m\u001b[0m\u001b[0m\n\u001b[0;32m      4\u001b[0m \u001b[0mprint\u001b[0m\u001b[1;33m(\u001b[0m\u001b[1;34mf\"befor conversion a={a}, b={b}\"\u001b[0m\u001b[1;33m)\u001b[0m\u001b[1;33m\u001b[0m\u001b[1;33m\u001b[0m\u001b[0m\n\u001b[1;32m----> 5\u001b[1;33m \u001b[0ma\u001b[0m\u001b[1;33m=\u001b[0m\u001b[0mint\u001b[0m\u001b[1;33m(\u001b[0m\u001b[0ma\u001b[0m\u001b[1;33m)\u001b[0m\u001b[1;33m\u001b[0m\u001b[1;33m\u001b[0m\u001b[0m\n\u001b[0m\u001b[0;32m      6\u001b[0m \u001b[0mb\u001b[0m\u001b[1;33m=\u001b[0m\u001b[0mint\u001b[0m\u001b[1;33m(\u001b[0m\u001b[0mb\u001b[0m\u001b[1;33m)\u001b[0m\u001b[1;33m\u001b[0m\u001b[1;33m\u001b[0m\u001b[0m\n\u001b[0;32m      7\u001b[0m \u001b[0mprint\u001b[0m\u001b[1;33m(\u001b[0m\u001b[1;34mf\"after conversion a={a}, b={b}\"\u001b[0m\u001b[1;33m)\u001b[0m\u001b[1;33m\u001b[0m\u001b[1;33m\u001b[0m\u001b[0m\n",
      "\u001b[1;31mValueError\u001b[0m: invalid literal for int() with base 10: '1.2'"
     ]
    }
   ],
   "source": [
    "print(\"start\")\n",
    "a=input(\"enter a value:\")\n",
    "b=input(\"enter b value:\")\n",
    "print(f\"befor conversion a={a}, b={b}\")\n",
    "a=int(a)\n",
    "b=int(b)\n",
    "print(f\"after conversion a={a}, b={b}\")\n",
    "res=a/b\n",
    "print(f\"result={res}\")\n",
    "print(\"end\")"
   ]
  },
  {
   "cell_type": "code",
   "execution_count": 8,
   "metadata": {},
   "outputs": [
    {
     "name": "stdout",
     "output_type": "stream",
     "text": [
      "start\n",
      "enter a value:1.2\n",
      "enter b value:3.4\n",
      "befor conversion a=1.2, b=3.4\n",
      "after conversion a=1.2, b=3.4\n",
      "result=0.35294117647058826\n",
      "end\n"
     ]
    }
   ],
   "source": [
    "print(\"start\")\n",
    "a=input(\"enter a value:\")\n",
    "b=input(\"enter b value:\")\n",
    "print(f\"befor conversion a={a}, b={b}\")\n",
    "a=float(a)\n",
    "b=float(b)\n",
    "print(f\"after conversion a={a}, b={b}\")\n",
    "res=a/b\n",
    "print(f\"result={res}\")\n",
    "print(\"end\")"
   ]
  },
  {
   "cell_type": "code",
   "execution_count": 9,
   "metadata": {},
   "outputs": [
    {
     "name": "stdout",
     "output_type": "stream",
     "text": [
      "start\n",
      "enter a value:1\n",
      "enter b value:2\n",
      "befor conversion a=1, b=2\n",
      "after conversion a=1.0, b=2.0\n",
      "result=0.5\n",
      "end\n"
     ]
    }
   ],
   "source": [
    "print(\"start\")\n",
    "a=input(\"enter a value:\")\n",
    "b=input(\"enter b value:\")\n",
    "print(f\"befor conversion a={a}, b={b}\")\n",
    "a=float(a)\n",
    "b=float(b)\n",
    "print(f\"after conversion a={a}, b={b}\")\n",
    "res=a/b\n",
    "print(f\"result={res}\")\n",
    "print(\"end\")"
   ]
  },
  {
   "cell_type": "code",
   "execution_count": 10,
   "metadata": {},
   "outputs": [
    {
     "name": "stdout",
     "output_type": "stream",
     "text": [
      "start\n",
      "enter a value:qwe\n",
      "enter b value:23\n",
      "befor conversion a=qwe, b=23\n"
     ]
    },
    {
     "ename": "ValueError",
     "evalue": "could not convert string to float: 'qwe'",
     "output_type": "error",
     "traceback": [
      "\u001b[1;31m---------------------------------------------------------------------------\u001b[0m",
      "\u001b[1;31mValueError\u001b[0m                                Traceback (most recent call last)",
      "\u001b[1;32m<ipython-input-10-b770841a9c01>\u001b[0m in \u001b[0;36m<module>\u001b[1;34m\u001b[0m\n\u001b[0;32m      3\u001b[0m \u001b[0mb\u001b[0m\u001b[1;33m=\u001b[0m\u001b[0minput\u001b[0m\u001b[1;33m(\u001b[0m\u001b[1;34m\"enter b value:\"\u001b[0m\u001b[1;33m)\u001b[0m\u001b[1;33m\u001b[0m\u001b[1;33m\u001b[0m\u001b[0m\n\u001b[0;32m      4\u001b[0m \u001b[0mprint\u001b[0m\u001b[1;33m(\u001b[0m\u001b[1;34mf\"befor conversion a={a}, b={b}\"\u001b[0m\u001b[1;33m)\u001b[0m\u001b[1;33m\u001b[0m\u001b[1;33m\u001b[0m\u001b[0m\n\u001b[1;32m----> 5\u001b[1;33m \u001b[0ma\u001b[0m\u001b[1;33m=\u001b[0m\u001b[0mfloat\u001b[0m\u001b[1;33m(\u001b[0m\u001b[0ma\u001b[0m\u001b[1;33m)\u001b[0m\u001b[1;33m\u001b[0m\u001b[1;33m\u001b[0m\u001b[0m\n\u001b[0m\u001b[0;32m      6\u001b[0m \u001b[0mb\u001b[0m\u001b[1;33m=\u001b[0m\u001b[0mfloat\u001b[0m\u001b[1;33m(\u001b[0m\u001b[0mb\u001b[0m\u001b[1;33m)\u001b[0m\u001b[1;33m\u001b[0m\u001b[1;33m\u001b[0m\u001b[0m\n\u001b[0;32m      7\u001b[0m \u001b[0mprint\u001b[0m\u001b[1;33m(\u001b[0m\u001b[1;34mf\"after conversion a={a}, b={b}\"\u001b[0m\u001b[1;33m)\u001b[0m\u001b[1;33m\u001b[0m\u001b[1;33m\u001b[0m\u001b[0m\n",
      "\u001b[1;31mValueError\u001b[0m: could not convert string to float: 'qwe'"
     ]
    }
   ],
   "source": [
    "print(\"start\")\n",
    "a=input(\"enter a value:\")\n",
    "b=input(\"enter b value:\")\n",
    "print(f\"befor conversion a={a}, b={b}\")\n",
    "a=float(a)\n",
    "b=float(b)\n",
    "print(f\"after conversion a={a}, b={b}\")\n",
    "res=a/b\n",
    "print(f\"result={res}\")\n",
    "print(\"end\")"
   ]
  },
  {
   "cell_type": "code",
   "execution_count": 11,
   "metadata": {},
   "outputs": [
    {
     "name": "stdout",
     "output_type": "stream",
     "text": [
      "start\n",
      "enter a value:23\n",
      "enter b value:0\n",
      "befor conversion a=23, b=0\n",
      "after conversion a=23.0, b=0.0\n"
     ]
    },
    {
     "ename": "ZeroDivisionError",
     "evalue": "float division by zero",
     "output_type": "error",
     "traceback": [
      "\u001b[1;31m---------------------------------------------------------------------------\u001b[0m",
      "\u001b[1;31mZeroDivisionError\u001b[0m                         Traceback (most recent call last)",
      "\u001b[1;32m<ipython-input-11-b770841a9c01>\u001b[0m in \u001b[0;36m<module>\u001b[1;34m\u001b[0m\n\u001b[0;32m      6\u001b[0m \u001b[0mb\u001b[0m\u001b[1;33m=\u001b[0m\u001b[0mfloat\u001b[0m\u001b[1;33m(\u001b[0m\u001b[0mb\u001b[0m\u001b[1;33m)\u001b[0m\u001b[1;33m\u001b[0m\u001b[1;33m\u001b[0m\u001b[0m\n\u001b[0;32m      7\u001b[0m \u001b[0mprint\u001b[0m\u001b[1;33m(\u001b[0m\u001b[1;34mf\"after conversion a={a}, b={b}\"\u001b[0m\u001b[1;33m)\u001b[0m\u001b[1;33m\u001b[0m\u001b[1;33m\u001b[0m\u001b[0m\n\u001b[1;32m----> 8\u001b[1;33m \u001b[0mres\u001b[0m\u001b[1;33m=\u001b[0m\u001b[0ma\u001b[0m\u001b[1;33m/\u001b[0m\u001b[0mb\u001b[0m\u001b[1;33m\u001b[0m\u001b[1;33m\u001b[0m\u001b[0m\n\u001b[0m\u001b[0;32m      9\u001b[0m \u001b[0mprint\u001b[0m\u001b[1;33m(\u001b[0m\u001b[1;34mf\"result={res}\"\u001b[0m\u001b[1;33m)\u001b[0m\u001b[1;33m\u001b[0m\u001b[1;33m\u001b[0m\u001b[0m\n\u001b[0;32m     10\u001b[0m \u001b[0mprint\u001b[0m\u001b[1;33m(\u001b[0m\u001b[1;34m\"end\"\u001b[0m\u001b[1;33m)\u001b[0m\u001b[1;33m\u001b[0m\u001b[1;33m\u001b[0m\u001b[0m\n",
      "\u001b[1;31mZeroDivisionError\u001b[0m: float division by zero"
     ]
    }
   ],
   "source": [
    "print(\"start\")\n",
    "a=input(\"enter a value:\")\n",
    "b=input(\"enter b value:\")\n",
    "print(f\"befor conversion a={a}, b={b}\")\n",
    "a=float(a)\n",
    "b=float(b)\n",
    "print(f\"after conversion a={a}, b={b}\")\n",
    "res=a/b\n",
    "print(f\"result={res}\")\n",
    "print(\"end\")"
   ]
  },
  {
   "cell_type": "code",
   "execution_count": 12,
   "metadata": {},
   "outputs": [
    {
     "name": "stdout",
     "output_type": "stream",
     "text": [
      "start\n",
      "enter a value:12\n",
      "enter b value:6\n",
      "befor conversion a=12, b=6\n",
      "after conversion a=12.0, b=6.0\n",
      "result=2.0\n",
      "end\n"
     ]
    }
   ],
   "source": [
    "try:\n",
    "    print(\"start\")\n",
    "    a=input(\"enter a value:\")\n",
    "    b=input(\"enter b value:\")\n",
    "    print(f\"befor conversion a={a}, b={b}\")\n",
    "    a=float(a)\n",
    "    b=float(b)\n",
    "    print(f\"after conversion a={a}, b={b}\")\n",
    "    res=a/b\n",
    "    print(f\"result={res}\")\n",
    "    print(\"end\")\n",
    "except:\n",
    "    print(\"some issue..\")"
   ]
  },
  {
   "cell_type": "code",
   "execution_count": 13,
   "metadata": {},
   "outputs": [
    {
     "name": "stdout",
     "output_type": "stream",
     "text": [
      "start\n",
      "enter a value:12\n",
      "enter b value:6\n",
      "befor conversion a=12, b=6\n",
      "after conversion a=12.0, b=6.0\n",
      "result=2.0\n",
      "end\n"
     ]
    }
   ],
   "source": [
    "print(\"start\")\n",
    "a=input(\"enter a value:\")\n",
    "b=input(\"enter b value:\")\n",
    "print(f\"befor conversion a={a}, b={b}\")\n",
    "try:\n",
    "    a=float(a)\n",
    "    b=float(b)\n",
    "    print(f\"after conversion a={a}, b={b}\")\n",
    "    res=a/b\n",
    "    print(f\"result={res}\")\n",
    "except:\n",
    "    print(\"some issue..\")\n",
    "print(\"end\")"
   ]
  },
  {
   "cell_type": "code",
   "execution_count": 14,
   "metadata": {},
   "outputs": [
    {
     "name": "stdout",
     "output_type": "stream",
     "text": [
      "start\n",
      "enter a value:12\n",
      "enter b value:0\n",
      "befor conversion a=12, b=0\n",
      "after conversion a=12.0, b=0.0\n",
      "some issue..\n",
      "end\n"
     ]
    }
   ],
   "source": [
    "print(\"start\")\n",
    "a=input(\"enter a value:\")\n",
    "b=input(\"enter b value:\")\n",
    "print(f\"befor conversion a={a}, b={b}\")\n",
    "try:\n",
    "    a=float(a)\n",
    "    b=float(b)\n",
    "    print(f\"after conversion a={a}, b={b}\")\n",
    "    res=a/b\n",
    "    print(f\"result={res}\")\n",
    "except:\n",
    "    print(\"some issue..\")\n",
    "print(\"end\")"
   ]
  },
  {
   "cell_type": "code",
   "execution_count": 15,
   "metadata": {},
   "outputs": [
    {
     "name": "stdout",
     "output_type": "stream",
     "text": [
      "start\n",
      "enter a value:wew\n",
      "enter b value:23\n",
      "befor conversion a=wew, b=23\n",
      "some issue..\n",
      "end\n"
     ]
    }
   ],
   "source": [
    "print(\"start\")\n",
    "a=input(\"enter a value:\")\n",
    "b=input(\"enter b value:\")\n",
    "print(f\"befor conversion a={a}, b={b}\")\n",
    "try:\n",
    "    a=float(a)\n",
    "    b=float(b)\n",
    "    print(f\"after conversion a={a}, b={b}\")\n",
    "    res=a/b\n",
    "    print(f\"result={res}\")\n",
    "except:\n",
    "    print(\"some issue..\")\n",
    "print(\"end\")"
   ]
  },
  {
   "cell_type": "code",
   "execution_count": 16,
   "metadata": {},
   "outputs": [
    {
     "name": "stdout",
     "output_type": "stream",
     "text": [
      "start\n",
      "enter a value:12\n",
      "enter b value:6\n",
      "befor conversion a=12, b=6\n",
      "after conversion a=12.0, b=6.0\n",
      "result=2.0\n",
      "end\n"
     ]
    }
   ],
   "source": [
    "print(\"start\")\n",
    "a=input(\"enter a value:\")\n",
    "b=input(\"enter b value:\")\n",
    "print(f\"befor conversion a={a}, b={b}\")\n",
    "try:\n",
    "    a=float(a)\n",
    "    b=float(b)\n",
    "    print(f\"after conversion a={a}, b={b}\")\n",
    "    res=a/b\n",
    "    print(f\"result={res}\")\n",
    "except Exception as err:\n",
    "    print(err)\n",
    "    print(\"some issue..\")\n",
    "print(\"end\")"
   ]
  },
  {
   "cell_type": "code",
   "execution_count": 17,
   "metadata": {},
   "outputs": [
    {
     "name": "stdout",
     "output_type": "stream",
     "text": [
      "start\n",
      "enter a value:12\n",
      "enter b value:0\n",
      "befor conversion a=12, b=0\n",
      "after conversion a=12.0, b=0.0\n",
      "********************\n",
      "float division by zero\n",
      "some issue..\n",
      "********************\n",
      "end\n"
     ]
    }
   ],
   "source": [
    "print(\"start\")\n",
    "a=input(\"enter a value:\")\n",
    "b=input(\"enter b value:\")\n",
    "print(f\"befor conversion a={a}, b={b}\")\n",
    "try:\n",
    "    a=float(a)\n",
    "    b=float(b)\n",
    "    print(f\"after conversion a={a}, b={b}\")\n",
    "    res=a/b\n",
    "    print(f\"result={res}\")\n",
    "except Exception as err:\n",
    "    print(\"*\"*20)\n",
    "    print(err)\n",
    "    print(\"some issue..\")\n",
    "    print(\"*\"*20)\n",
    "print(\"end\")"
   ]
  },
  {
   "cell_type": "code",
   "execution_count": 18,
   "metadata": {},
   "outputs": [
    {
     "name": "stdout",
     "output_type": "stream",
     "text": [
      "start\n",
      "enter a value:eewqqw\n",
      "enter b value:qwe\n",
      "befor conversion a=eewqqw, b=qwe\n",
      "********************\n",
      "could not convert string to float: 'eewqqw'\n",
      "some issue..\n",
      "********************\n",
      "end\n"
     ]
    }
   ],
   "source": [
    "print(\"start\")\n",
    "a=input(\"enter a value:\")\n",
    "b=input(\"enter b value:\")\n",
    "print(f\"befor conversion a={a}, b={b}\")\n",
    "try:\n",
    "    a=float(a)\n",
    "    b=float(b)\n",
    "    print(f\"after conversion a={a}, b={b}\")\n",
    "    res=a/b\n",
    "    print(f\"result={res}\")\n",
    "except Exception as err:\n",
    "    print(\"*\"*20)\n",
    "    print(err)\n",
    "    print(\"some issue..\")\n",
    "    print(\"*\"*20)\n",
    "print(\"end\")"
   ]
  },
  {
   "cell_type": "code",
   "execution_count": 19,
   "metadata": {},
   "outputs": [
    {
     "name": "stdout",
     "output_type": "stream",
     "text": [
      "start\n",
      "enter a value:12\n",
      "enter b value:6\n",
      "befor conversion a=12, b=6\n",
      "after conversion a=12.0, b=6.0\n",
      "result=2.0\n",
      "end\n"
     ]
    }
   ],
   "source": [
    "print(\"start\")\n",
    "a=input(\"enter a value:\")\n",
    "b=input(\"enter b value:\")\n",
    "print(f\"befor conversion a={a}, b={b}\")\n",
    "try:\n",
    "    a=float(a)\n",
    "    b=float(b)\n",
    "    print(f\"after conversion a={a}, b={b}\")\n",
    "    res=a/b\n",
    "    print(f\"result={res}\")\n",
    "except ZeroDivisionError as err:\n",
    "    print(\"*\"*20)\n",
    "    print(\"not expected b value 0\")\n",
    "    print(\"*\"*20)\n",
    "    \n",
    "except ValueError as err:\n",
    "    print(\"*\"*20)\n",
    "    print(\"expecting only alphabets..\")\n",
    "    print(\"*\"*20)\n",
    "    \n",
    "except Exception as err:\n",
    "    print(\"*\"*20)\n",
    "    print(err)\n",
    "    print(\"some issue..\")\n",
    "    print(\"*\"*20)\n",
    "print(\"end\")"
   ]
  },
  {
   "cell_type": "code",
   "execution_count": 20,
   "metadata": {},
   "outputs": [
    {
     "name": "stdout",
     "output_type": "stream",
     "text": [
      "start\n",
      "enter a value:12\n",
      "enter b value:0\n",
      "befor conversion a=12, b=0\n",
      "after conversion a=12.0, b=0.0\n",
      "********************\n",
      "not expected b value 0\n",
      "********************\n",
      "end\n"
     ]
    }
   ],
   "source": [
    "print(\"start\")\n",
    "a=input(\"enter a value:\")\n",
    "b=input(\"enter b value:\")\n",
    "print(f\"befor conversion a={a}, b={b}\")\n",
    "try:\n",
    "    a=float(a)\n",
    "    b=float(b)\n",
    "    print(f\"after conversion a={a}, b={b}\")\n",
    "    res=a/b\n",
    "    print(f\"result={res}\")\n",
    "except ZeroDivisionError as err:\n",
    "    print(\"*\"*20)\n",
    "    print(\"not expected b value 0\")\n",
    "    print(\"*\"*20)\n",
    "    \n",
    "except ValueError as err:\n",
    "    print(\"*\"*20)\n",
    "    print(\"expecting only alphabets..\")\n",
    "    print(\"*\"*20)\n",
    "    \n",
    "except Exception as err:\n",
    "    print(\"*\"*20)\n",
    "    print(err)\n",
    "    print(\"some issue..\")\n",
    "    print(\"*\"*20)\n",
    "print(\"end\")"
   ]
  },
  {
   "cell_type": "code",
   "execution_count": 22,
   "metadata": {},
   "outputs": [
    {
     "name": "stdout",
     "output_type": "stream",
     "text": [
      "start\n",
      "enter a value:qwer\n",
      "enter b value:wer\n",
      "befor conversion a=qwer, b=wer\n",
      "********************\n",
      "expecting only numbers..\n",
      "********************\n",
      "end\n"
     ]
    }
   ],
   "source": [
    "print(\"start\")\n",
    "a=input(\"enter a value:\")\n",
    "b=input(\"enter b value:\")\n",
    "print(f\"befor conversion a={a}, b={b}\")\n",
    "try:\n",
    "    a=float(a)\n",
    "    b=float(b)\n",
    "    print(f\"after conversion a={a}, b={b}\")\n",
    "    res=a/b\n",
    "    print(f\"result={res}\")\n",
    "except ZeroDivisionError as err:\n",
    "    print(\"*\"*20)\n",
    "    print(\"not expected b value 0\")\n",
    "    print(\"*\"*20)\n",
    "    \n",
    "except ValueError as err:\n",
    "    print(\"*\"*20)\n",
    "    print(\"expecting only numbers..\")\n",
    "    print(\"*\"*20)\n",
    "    \n",
    "except Exception as err:\n",
    "    print(\"*\"*20)\n",
    "    print(err)\n",
    "    print(\"some issue..\")\n",
    "    print(\"*\"*20)\n",
    "print(\"end\")"
   ]
  },
  {
   "cell_type": "code",
   "execution_count": 23,
   "metadata": {},
   "outputs": [
    {
     "name": "stdout",
     "output_type": "stream",
     "text": [
      "start\n",
      "enter a value:13\n",
      "enter b value:12\n",
      "befor conversion a=13, b=12\n",
      "********************\n",
      "No access for b value 12\n",
      "some issue..\n",
      "********************\n",
      "end\n"
     ]
    }
   ],
   "source": [
    "print(\"start\")\n",
    "class RolebaseAccessError(Exception):\n",
    "    pass\n",
    "    \n",
    "a=input(\"enter a value:\")\n",
    "b=input(\"enter b value:\")\n",
    "print(f\"befor conversion a={a}, b={b}\")\n",
    "try:\n",
    "    a=float(a)\n",
    "    b=float(b)\n",
    "    if b==12:\n",
    "        raise RolebaseAccessError(\"No access for b value 12\")\n",
    "    print(f\"after conversion a={a}, b={b}\")\n",
    "    res=a/b\n",
    "    print(f\"result={res}\")\n",
    "except ZeroDivisionError as err:\n",
    "    print(\"*\"*20)\n",
    "    print(\"not expected b value 0\")\n",
    "    print(\"*\"*20)\n",
    "    \n",
    "except ValueError as err:\n",
    "    print(\"*\"*20)\n",
    "    print(\"expecting only numbers..\")\n",
    "    print(\"*\"*20)\n",
    "    \n",
    "except Exception as err:\n",
    "    print(\"*\"*20)\n",
    "    print(err)\n",
    "    print(\"some issue..\")\n",
    "    print(\"*\"*20)\n",
    "print(\"end\")"
   ]
  },
  {
   "cell_type": "code",
   "execution_count": 24,
   "metadata": {},
   "outputs": [
    {
     "name": "stdout",
     "output_type": "stream",
     "text": [
      "start\n",
      "enter a value:12\n",
      "enter b value:45\n",
      "befor conversion a=12, b=45\n",
      "after conversion a=12.0, b=45.0\n",
      "result=0.26666666666666666\n",
      "end\n"
     ]
    }
   ],
   "source": [
    "print(\"start\")\n",
    "class RolebaseAccessError(Exception):\n",
    "    pass\n",
    "    \n",
    "a=input(\"enter a value:\")\n",
    "b=input(\"enter b value:\")\n",
    "print(f\"befor conversion a={a}, b={b}\")\n",
    "try:\n",
    "    a=float(a)\n",
    "    b=float(b)\n",
    "    if b==12:\n",
    "        raise RolebaseAccessError(\"No access for b value 12\")\n",
    "    print(f\"after conversion a={a}, b={b}\")\n",
    "    res=a/b\n",
    "    print(f\"result={res}\")\n",
    "except ZeroDivisionError as err:\n",
    "    print(\"*\"*20)\n",
    "    print(\"not expected b value 0\")\n",
    "    print(\"*\"*20)\n",
    "    \n",
    "except ValueError as err:\n",
    "    print(\"*\"*20)\n",
    "    print(\"expecting only numbers..\")\n",
    "    print(\"*\"*20)\n",
    "    \n",
    "except RolebaseAccessError(Exception):\n",
    "    print(\"Don't have an access to work with b=12\")\n",
    "    \n",
    "except Exception as err:\n",
    "    print(\"*\"*20)\n",
    "    print(err)\n",
    "    print(\"some issue..\")\n",
    "    print(\"*\"*20)\n",
    "print(\"end\")"
   ]
  },
  {
   "cell_type": "code",
   "execution_count": 26,
   "metadata": {},
   "outputs": [
    {
     "name": "stdout",
     "output_type": "stream",
     "text": [
      "start\n",
      "enter a value:12\n",
      "enter b value:12\n",
      "befor conversion a=12, b=12\n",
      "Don't have an access to work with b=12\n",
      "end\n"
     ]
    }
   ],
   "source": [
    "print(\"start\")\n",
    "class RolebaseAccessError(Exception):\n",
    "    pass\n",
    "    \n",
    "a=input(\"enter a value:\")\n",
    "b=input(\"enter b value:\")\n",
    "print(f\"befor conversion a={a}, b={b}\")\n",
    "try:\n",
    "    a=float(a)\n",
    "    b=float(b)\n",
    "    if b==12:\n",
    "        raise RolebaseAccessError(\"No access for b value 12\")\n",
    "    print(f\"after conversion a={a}, b={b}\")\n",
    "    res=a/b\n",
    "    print(f\"result={res}\")\n",
    "except ZeroDivisionError as err:\n",
    "    print(\"*\"*20)\n",
    "    print(\"not expected b value 0\")\n",
    "    print(\"*\"*20)\n",
    "    \n",
    "except ValueError as err:\n",
    "    print(\"*\"*20)\n",
    "    print(\"expecting only numbers..\")\n",
    "    print(\"*\"*20)\n",
    "    \n",
    "except RolebaseAccessError as err:\n",
    "    print(\"Don't have an access to work with b=12\")\n",
    "    \n",
    "except Exception as err:\n",
    "    print(\"*\"*20)\n",
    "    print(err)\n",
    "    print(\"some issue..\")\n",
    "    print(\"*\"*20)\n",
    "print(\"end\")"
   ]
  },
  {
   "cell_type": "code",
   "execution_count": 27,
   "metadata": {},
   "outputs": [
    {
     "ename": "SyntaxError",
     "evalue": "EOL while scanning string literal (<ipython-input-27-2f2b5d351fcb>, line 3)",
     "output_type": "error",
     "traceback": [
      "\u001b[1;36m  File \u001b[1;32m\"<ipython-input-27-2f2b5d351fcb>\"\u001b[1;36m, line \u001b[1;32m3\u001b[0m\n\u001b[1;33m    print(\"try\u001b[0m\n\u001b[1;37m              ^\u001b[0m\n\u001b[1;31mSyntaxError\u001b[0m\u001b[1;31m:\u001b[0m EOL while scanning string literal\n"
     ]
    }
   ],
   "source": [
    "print(\"started\")\n",
    "try:\n",
    "    print(\"try\n",
    "except Exception as err:\n",
    "    print(\"Exception as err\")\n",
    "    print(err)\n",
    "except:\n",
    "    print(\"except\")\n",
    "    "
   ]
  },
  {
   "cell_type": "code",
   "execution_count": 31,
   "metadata": {},
   "outputs": [
    {
     "name": "stdout",
     "output_type": "stream",
     "text": [
      "main block\n",
      "try\n",
      "else\n",
      "finally\n",
      "main block\n"
     ]
    }
   ],
   "source": [
    "print(\"main block\")\n",
    "try:\n",
    "    print(\"try\")\n",
    "except:\n",
    "    print(\"except\")\n",
    "else:\n",
    "    print(\"else\")\n",
    "finally:\n",
    "    print(\"finally\")\n",
    "print(\"main block\")"
   ]
  },
  {
   "cell_type": "code",
   "execution_count": 33,
   "metadata": {},
   "outputs": [
    {
     "name": "stdout",
     "output_type": "stream",
     "text": [
      "main block\n",
      "try\n",
      "except\n",
      "finally\n",
      "main block\n"
     ]
    }
   ],
   "source": [
    "print(\"main block\")\n",
    "try:\n",
    "    print(\"try\")\n",
    "    print(1/0)\n",
    "except:\n",
    "    print(\"except\")\n",
    "else:\n",
    "    print(\"else\")\n",
    "finally:\n",
    "    print(\"finally\")\n",
    "print(\"main block\")"
   ]
  },
  {
   "cell_type": "code",
   "execution_count": 34,
   "metadata": {},
   "outputs": [
    {
     "name": "stdout",
     "output_type": "stream",
     "text": [
      "main block\n",
      "try\n",
      "except\n",
      "finally\n",
      "main block\n"
     ]
    }
   ],
   "source": [
    "print(\"main block\")\n",
    "try:\n",
    "    print(\"try\")\n",
    "    print(1/0)\n",
    "except:\n",
    "    print(\"except\")\n",
    "else:\n",
    "    print(\"else\")\n",
    "print(\"finally\")\n",
    "print(\"main block\")"
   ]
  },
  {
   "cell_type": "code",
   "execution_count": 35,
   "metadata": {},
   "outputs": [
    {
     "name": "stdout",
     "output_type": "stream",
     "text": [
      "main block\n",
      "try\n"
     ]
    },
    {
     "ename": "ZeroDivisionError",
     "evalue": "division by zero",
     "output_type": "error",
     "traceback": [
      "\u001b[1;31m---------------------------------------------------------------------------\u001b[0m",
      "\u001b[1;31mZeroDivisionError\u001b[0m                         Traceback (most recent call last)",
      "\u001b[1;32m<ipython-input-35-489c9f73a096>\u001b[0m in \u001b[0;36m<module>\u001b[1;34m\u001b[0m\n\u001b[0;32m      2\u001b[0m \u001b[1;32mtry\u001b[0m\u001b[1;33m:\u001b[0m\u001b[1;33m\u001b[0m\u001b[1;33m\u001b[0m\u001b[0m\n\u001b[0;32m      3\u001b[0m     \u001b[0mprint\u001b[0m\u001b[1;33m(\u001b[0m\u001b[1;34m\"try\"\u001b[0m\u001b[1;33m)\u001b[0m\u001b[1;33m\u001b[0m\u001b[1;33m\u001b[0m\u001b[0m\n\u001b[1;32m----> 4\u001b[1;33m     \u001b[0mprint\u001b[0m\u001b[1;33m(\u001b[0m\u001b[1;36m1\u001b[0m\u001b[1;33m/\u001b[0m\u001b[1;36m0\u001b[0m\u001b[1;33m)\u001b[0m\u001b[1;33m\u001b[0m\u001b[1;33m\u001b[0m\u001b[0m\n\u001b[0m\u001b[0;32m      5\u001b[0m \u001b[1;32mexcept\u001b[0m \u001b[0mValueError\u001b[0m \u001b[1;32mas\u001b[0m \u001b[0merr\u001b[0m\u001b[1;33m:\u001b[0m\u001b[1;33m\u001b[0m\u001b[1;33m\u001b[0m\u001b[0m\n\u001b[0;32m      6\u001b[0m     \u001b[0mprint\u001b[0m\u001b[1;33m(\u001b[0m\u001b[1;34m\"except\"\u001b[0m\u001b[1;33m)\u001b[0m\u001b[1;33m\u001b[0m\u001b[1;33m\u001b[0m\u001b[0m\n",
      "\u001b[1;31mZeroDivisionError\u001b[0m: division by zero"
     ]
    }
   ],
   "source": [
    "print(\"main block\")\n",
    "try:\n",
    "    print(\"try\")\n",
    "    print(1/0)\n",
    "except ValueError as err:\n",
    "    print(\"except\")\n",
    "else:\n",
    "    print(\"else\")\n",
    "print(\"finally\")\n",
    "print(\"main block\")"
   ]
  },
  {
   "cell_type": "code",
   "execution_count": 36,
   "metadata": {},
   "outputs": [
    {
     "name": "stdout",
     "output_type": "stream",
     "text": [
      "main block\n",
      "try\n",
      "finally\n"
     ]
    },
    {
     "ename": "ZeroDivisionError",
     "evalue": "division by zero",
     "output_type": "error",
     "traceback": [
      "\u001b[1;31m---------------------------------------------------------------------------\u001b[0m",
      "\u001b[1;31mZeroDivisionError\u001b[0m                         Traceback (most recent call last)",
      "\u001b[1;32m<ipython-input-36-290e16886c44>\u001b[0m in \u001b[0;36m<module>\u001b[1;34m\u001b[0m\n\u001b[0;32m      2\u001b[0m \u001b[1;32mtry\u001b[0m\u001b[1;33m:\u001b[0m\u001b[1;33m\u001b[0m\u001b[1;33m\u001b[0m\u001b[0m\n\u001b[0;32m      3\u001b[0m     \u001b[0mprint\u001b[0m\u001b[1;33m(\u001b[0m\u001b[1;34m\"try\"\u001b[0m\u001b[1;33m)\u001b[0m\u001b[1;33m\u001b[0m\u001b[1;33m\u001b[0m\u001b[0m\n\u001b[1;32m----> 4\u001b[1;33m     \u001b[0mprint\u001b[0m\u001b[1;33m(\u001b[0m\u001b[1;36m1\u001b[0m\u001b[1;33m/\u001b[0m\u001b[1;36m0\u001b[0m\u001b[1;33m)\u001b[0m\u001b[1;33m\u001b[0m\u001b[1;33m\u001b[0m\u001b[0m\n\u001b[0m\u001b[0;32m      5\u001b[0m \u001b[1;32mexcept\u001b[0m \u001b[0mValueError\u001b[0m \u001b[1;32mas\u001b[0m \u001b[0merr\u001b[0m\u001b[1;33m:\u001b[0m\u001b[1;33m\u001b[0m\u001b[1;33m\u001b[0m\u001b[0m\n\u001b[0;32m      6\u001b[0m     \u001b[0mprint\u001b[0m\u001b[1;33m(\u001b[0m\u001b[1;34m\"except\"\u001b[0m\u001b[1;33m)\u001b[0m\u001b[1;33m\u001b[0m\u001b[1;33m\u001b[0m\u001b[0m\n",
      "\u001b[1;31mZeroDivisionError\u001b[0m: division by zero"
     ]
    }
   ],
   "source": [
    "print(\"main block\")\n",
    "try:\n",
    "    print(\"try\")\n",
    "    print(1/0)\n",
    "except ValueError as err:\n",
    "    print(\"except\")\n",
    "else:\n",
    "    print(\"else\")\n",
    "finally:\n",
    "    print(\"finally\")\n",
    "print(\"main block\")"
   ]
  },
  {
   "cell_type": "code",
   "execution_count": 37,
   "metadata": {},
   "outputs": [
    {
     "name": "stdout",
     "output_type": "stream",
     "text": [
      "res= 30\n"
     ]
    }
   ],
   "source": [
    "def fun():\n",
    "    try:\n",
    "        return 10\n",
    "    except:\n",
    "        return 20\n",
    "    finally:\n",
    "        return 30\n",
    "    return 40\n",
    "res=fun()\n",
    "print(\"res=\",res)"
   ]
  },
  {
   "cell_type": "code",
   "execution_count": 38,
   "metadata": {},
   "outputs": [
    {
     "name": "stdout",
     "output_type": "stream",
     "text": [
      "res= 30\n"
     ]
    }
   ],
   "source": [
    "def fun():\n",
    "    try:\n",
    "        print(1/0)\n",
    "        return 10\n",
    "    except:\n",
    "        return 20\n",
    "    finally:\n",
    "        return 30\n",
    "    return 40\n",
    "res=fun()\n",
    "print(\"res=\",res)"
   ]
  },
  {
   "cell_type": "code",
   "execution_count": 40,
   "metadata": {},
   "outputs": [
    {
     "name": "stdout",
     "output_type": "stream",
     "text": [
      "0\n",
      "iteration ended\n",
      "finally..\n",
      "main for\n",
      "1\n",
      "iteration ended\n",
      "finally..\n",
      "main for\n",
      "2\n",
      "iteration ended\n",
      "finally..\n",
      "main for\n",
      "3\n",
      "iteration ended\n",
      "finally..\n",
      "main for\n",
      "4\n",
      "iteration ended\n",
      "finally..\n",
      "main for\n",
      "5\n",
      "finally..\n"
     ]
    }
   ],
   "source": [
    "for i in range(10):\n",
    "    try:\n",
    "        print(i)\n",
    "        if i==5:\n",
    "            break\n",
    "        print(\"iteration ended\")\n",
    "    except:\n",
    "        print(\"except\")\n",
    "    finally:\n",
    "        print(\"finally..\")\n",
    "    print(\"main for\")"
   ]
  },
  {
   "cell_type": "code",
   "execution_count": 41,
   "metadata": {},
   "outputs": [
    {
     "name": "stdout",
     "output_type": "stream",
     "text": [
      "hello\n"
     ]
    },
    {
     "ename": "ZeroDivisionError",
     "evalue": "division by zero",
     "output_type": "error",
     "traceback": [
      "\u001b[1;31m---------------------------------------------------------------------------\u001b[0m",
      "\u001b[1;31mZeroDivisionError\u001b[0m                         Traceback (most recent call last)",
      "\u001b[1;32m<ipython-input-41-0148e1f65535>\u001b[0m in \u001b[0;36m<module>\u001b[1;34m\u001b[0m\n\u001b[0;32m      1\u001b[0m \u001b[1;32mtry\u001b[0m\u001b[1;33m:\u001b[0m\u001b[1;33m\u001b[0m\u001b[1;33m\u001b[0m\u001b[0m\n\u001b[1;32m----> 2\u001b[1;33m     \u001b[0mprint\u001b[0m\u001b[1;33m(\u001b[0m\u001b[1;36m1\u001b[0m\u001b[1;33m/\u001b[0m\u001b[1;36m0\u001b[0m\u001b[1;33m)\u001b[0m\u001b[1;33m\u001b[0m\u001b[1;33m\u001b[0m\u001b[0m\n\u001b[0m\u001b[0;32m      3\u001b[0m \u001b[1;32mfinally\u001b[0m\u001b[1;33m:\u001b[0m\u001b[1;33m\u001b[0m\u001b[1;33m\u001b[0m\u001b[0m\n\u001b[0;32m      4\u001b[0m     \u001b[0mprint\u001b[0m\u001b[1;33m(\u001b[0m\u001b[1;34m\"hello\"\u001b[0m\u001b[1;33m)\u001b[0m\u001b[1;33m\u001b[0m\u001b[1;33m\u001b[0m\u001b[0m\n",
      "\u001b[1;31mZeroDivisionError\u001b[0m: division by zero"
     ]
    }
   ],
   "source": [
    "try:\n",
    "    print(1/0)\n",
    "finally:\n",
    "    print(\"hello\")"
   ]
  },
  {
   "cell_type": "code",
   "execution_count": null,
   "metadata": {},
   "outputs": [],
   "source": []
  }
 ],
 "metadata": {
  "kernelspec": {
   "display_name": "Python 3",
   "language": "python",
   "name": "python3"
  },
  "language_info": {
   "codemirror_mode": {
    "name": "ipython",
    "version": 3
   },
   "file_extension": ".py",
   "mimetype": "text/x-python",
   "name": "python",
   "nbconvert_exporter": "python",
   "pygments_lexer": "ipython3",
   "version": "3.8.3"
  }
 },
 "nbformat": 4,
 "nbformat_minor": 4
}
