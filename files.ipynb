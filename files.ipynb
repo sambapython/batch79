{
 "cells": [
  {
   "cell_type": "code",
   "execution_count": 1,
   "metadata": {},
   "outputs": [
    {
     "ename": "FileNotFoundError",
     "evalue": "[Errno 2] No such file or directory: 'data.csv'",
     "output_type": "error",
     "traceback": [
      "\u001b[1;31m---------------------------------------------------------------------------\u001b[0m",
      "\u001b[1;31mFileNotFoundError\u001b[0m                         Traceback (most recent call last)",
      "\u001b[1;32m<ipython-input-1-6deb796596a8>\u001b[0m in \u001b[0;36m<module>\u001b[1;34m\u001b[0m\n\u001b[1;32m----> 1\u001b[1;33m \u001b[0mf\u001b[0m\u001b[1;33m=\u001b[0m\u001b[0mopen\u001b[0m\u001b[1;33m(\u001b[0m\u001b[1;34m\"data.csv\"\u001b[0m\u001b[1;33m)\u001b[0m\u001b[1;33m\u001b[0m\u001b[1;33m\u001b[0m\u001b[0m\n\u001b[0m",
      "\u001b[1;31mFileNotFoundError\u001b[0m: [Errno 2] No such file or directory: 'data.csv'"
     ]
    }
   ],
   "source": [
    "f=open(\"data.csv\")"
   ]
  },
  {
   "cell_type": "code",
   "execution_count": 2,
   "metadata": {},
   "outputs": [],
   "source": [
    "f=open(\"modules/data.csv\")"
   ]
  },
  {
   "cell_type": "code",
   "execution_count": 3,
   "metadata": {},
   "outputs": [],
   "source": [
    "data = f.read()"
   ]
  },
  {
   "cell_type": "code",
   "execution_count": 4,
   "metadata": {},
   "outputs": [
    {
     "name": "stdout",
     "output_type": "stream",
     "text": [
      "id,name\n",
      "1,sai\n",
      "2,jay\n",
      "3,vedha\n"
     ]
    }
   ],
   "source": [
    "print(data)"
   ]
  },
  {
   "cell_type": "code",
   "execution_count": 5,
   "metadata": {},
   "outputs": [],
   "source": [
    "f=open(\"compile.png\")"
   ]
  },
  {
   "cell_type": "code",
   "execution_count": 6,
   "metadata": {},
   "outputs": [
    {
     "ename": "UnicodeDecodeError",
     "evalue": "'charmap' codec can't decode byte 0x8f in position 57: character maps to <undefined>",
     "output_type": "error",
     "traceback": [
      "\u001b[1;31m---------------------------------------------------------------------------\u001b[0m",
      "\u001b[1;31mUnicodeDecodeError\u001b[0m                        Traceback (most recent call last)",
      "\u001b[1;32m<ipython-input-6-8b6bd07fc666>\u001b[0m in \u001b[0;36m<module>\u001b[1;34m\u001b[0m\n\u001b[1;32m----> 1\u001b[1;33m \u001b[0mdata\u001b[0m\u001b[1;33m=\u001b[0m\u001b[0mf\u001b[0m\u001b[1;33m.\u001b[0m\u001b[0mread\u001b[0m\u001b[1;33m(\u001b[0m\u001b[1;33m)\u001b[0m\u001b[1;33m\u001b[0m\u001b[1;33m\u001b[0m\u001b[0m\n\u001b[0m",
      "\u001b[1;32mc:\\python38\\lib\\encodings\\cp1252.py\u001b[0m in \u001b[0;36mdecode\u001b[1;34m(self, input, final)\u001b[0m\n\u001b[0;32m     21\u001b[0m \u001b[1;32mclass\u001b[0m \u001b[0mIncrementalDecoder\u001b[0m\u001b[1;33m(\u001b[0m\u001b[0mcodecs\u001b[0m\u001b[1;33m.\u001b[0m\u001b[0mIncrementalDecoder\u001b[0m\u001b[1;33m)\u001b[0m\u001b[1;33m:\u001b[0m\u001b[1;33m\u001b[0m\u001b[1;33m\u001b[0m\u001b[0m\n\u001b[0;32m     22\u001b[0m     \u001b[1;32mdef\u001b[0m \u001b[0mdecode\u001b[0m\u001b[1;33m(\u001b[0m\u001b[0mself\u001b[0m\u001b[1;33m,\u001b[0m \u001b[0minput\u001b[0m\u001b[1;33m,\u001b[0m \u001b[0mfinal\u001b[0m\u001b[1;33m=\u001b[0m\u001b[1;32mFalse\u001b[0m\u001b[1;33m)\u001b[0m\u001b[1;33m:\u001b[0m\u001b[1;33m\u001b[0m\u001b[1;33m\u001b[0m\u001b[0m\n\u001b[1;32m---> 23\u001b[1;33m         \u001b[1;32mreturn\u001b[0m \u001b[0mcodecs\u001b[0m\u001b[1;33m.\u001b[0m\u001b[0mcharmap_decode\u001b[0m\u001b[1;33m(\u001b[0m\u001b[0minput\u001b[0m\u001b[1;33m,\u001b[0m\u001b[0mself\u001b[0m\u001b[1;33m.\u001b[0m\u001b[0merrors\u001b[0m\u001b[1;33m,\u001b[0m\u001b[0mdecoding_table\u001b[0m\u001b[1;33m)\u001b[0m\u001b[1;33m[\u001b[0m\u001b[1;36m0\u001b[0m\u001b[1;33m]\u001b[0m\u001b[1;33m\u001b[0m\u001b[1;33m\u001b[0m\u001b[0m\n\u001b[0m\u001b[0;32m     24\u001b[0m \u001b[1;33m\u001b[0m\u001b[0m\n\u001b[0;32m     25\u001b[0m \u001b[1;32mclass\u001b[0m \u001b[0mStreamWriter\u001b[0m\u001b[1;33m(\u001b[0m\u001b[0mCodec\u001b[0m\u001b[1;33m,\u001b[0m\u001b[0mcodecs\u001b[0m\u001b[1;33m.\u001b[0m\u001b[0mStreamWriter\u001b[0m\u001b[1;33m)\u001b[0m\u001b[1;33m:\u001b[0m\u001b[1;33m\u001b[0m\u001b[1;33m\u001b[0m\u001b[0m\n",
      "\u001b[1;31mUnicodeDecodeError\u001b[0m: 'charmap' codec can't decode byte 0x8f in position 57: character maps to <undefined>"
     ]
    }
   ],
   "source": [
    "data=f.read()"
   ]
  },
  {
   "cell_type": "code",
   "execution_count": 7,
   "metadata": {},
   "outputs": [],
   "source": [
    "f=open(\"compile.png\",\"rb\")"
   ]
  },
  {
   "cell_type": "code",
   "execution_count": 8,
   "metadata": {},
   "outputs": [],
   "source": [
    "data=f.read()"
   ]
  },
  {
   "cell_type": "code",
   "execution_count": 9,
   "metadata": {},
   "outputs": [
    {
     "name": "stdout",
     "output_type": "stream",
     "text": [
      "b'\\x89PNG\\r\\n\\x1a\\n\\x00\\x00\\x00\\rIHDR\\x00\\x00\\x05@\\x00\\x00\\x02k\\x08\\x02\\x00\\x00\\x00\\xae\\xa8\\xae\\x17\\x00\\x00\\x00\\x01sRGB\\x00\\xae\\xce\\x1c\\xe9\\x00\\x00\\x00\\x04gAMA\\x00\\x00\\xb1\\x8f\\x0b\\xfca\\x05\\x00\\x00\\x00\\tpHYs\\x00\\x00\\x0e\\xc3\\x00\\x00\\x0e\\xc3\\x01\\xc7o\\xa8d\\x00\\x00\"\\x03IDATx^\\xed\\xdd\\xd9a\\xdc8\\x16\\x05\\xd0\\x8e\\xcb\\x01)\\x1eG\\xe3d:\\x98\\x19\\x82\\x0b\\x16\\x92(\\x95\\xdc\\x92\\xad+\\x9d\\xf31C\\x82\\x0f\\x0f K\\xb6x\\xbd\\xb4\\xff\\xf9\\x1f\\x00\\x00\\x00\\xf0\\xe9\\t\\xf0\\x00\\x00\\x00\\x10@\\x80\\x07\\x00\\x00\\x80\\x00\\x02<\\x00\\x00\\x00\\x04\\x10\\xe0\\x01\\x00\\x00 \\x80\\x00\\x0f\\x00\\x00\\x00\\x01\\x04x\\x00\\x00\\x00\\x08 \\xc0\\x03\\x00\\x00@\\x00\\x01\\x1e\\x00\\x00\\x00\\x02\\x08\\xf0\\x00\\x00\\x00\\x10@\\x80\\x07\\x00\\x00\\x80\\x00\\x02<\\x00\\x00\\x00\\x04\\x10\\xe0\\x01\\x00\\x00 \\x80\\x00\\x0f\\x00\\x00\\x00\\x01\\x04x\\x00\\x00\\x00\\x08 \\xc0\\x03\\x00\\x00@\\x00\\x01\\x1e\\x00\\x00\\x00\\x02\\x08\\xf0\\x00\\x00\\x00\\x10@\\x80\\x07\\x00\\x00\\x80\\x00\\x02<\\x00\\x00\\x00\\x04\\x10\\xe0\\x01\\x00\\x00 \\x80\\x00\\x0f\\x00\\x00\\x00\\x01\\x04x\\x00\\x00\\x00\\x08 \\xc0\\x03\\x00\\x00@\\x00\\x01\\x1e\\x00\\x00\\x00\\x02\\x08\\xf0\\x00\\x00\\x00\\x10@\\x80\\x07\\x00\\x00\\x80\\x00\\x02<\\x00\\x00\\x00\\x04\\x10\\xe0\\x01\\x00\\x00 \\x80\\x00\\x0f\\x00\\x00\\x00\\x01\\x04x\\x00\\x00\\x00\\x08 \\xc0\\x03\\x00\\x00@\\x00\\x01\\x1e\\x00\\x00\\x00\\x02\\x08\\xf0\\x00\\x00\\x00\\x10@\\x80\\x07\\x00\\x00\\x80\\x00\\x02<\\x00\\x00\\x00\\x04\\x10\\xe0\\x01\\x00\\x00 \\x80\\x00\\x0f\\x00\\x00\\x00\\x01\\x04x\\x00\\x00\\x00\\x08 \\xc0\\x03\\x00\\x00@\\x00\\x01\\x1e\\x00\\x00\\x00\\x02\\x08\\xf0\\x00\\x00\\x00\\x10@\\x80\\x07\\x00\\x00\\x80\\x00\\x02<\\x00\\x00\\x00\\x04\\x10\\xe0\\x01\\x00\\x00 \\x80\\x00\\x0f\\x00\\x00\\x00\\x01\\x04x\\x00\\x00\\x00\\x08 \\xc0\\x03\\x00\\x00@\\x00\\x01\\x1e\\x00\\x00\\x00\\x02\\x08\\xf0\\x00\\x00\\x00\\x10@\\x80\\x07\\x00\\x00\\x80\\x00\\x02<\\x00\\x00\\x00\\x04\\x10\\xe0\\x01\\x00\\x00 \\x80\\x00\\x0f\\x00\\x00\\x00\\x01\\x04x\\x00\\x00\\x00\\x08 \\xc0\\x03\\x00\\x00@\\x00\\x01\\x1e\\x00\\x00\\x00\\x02\\x08\\xf0\\x00\\x00\\x00\\x10@\\x80\\x07\\x00\\x00\\x80\\x00\\x02<\\x00\\x00\\x00\\x04\\x10\\xe0\\x01\\x00\\x00 \\x80\\x00\\x0f\\x00\\x00\\x00\\x01\\x04x\\x00\\x00\\x00\\x08 \\xc0\\x03\\x00\\x00@\\x00\\x01\\x1e\\x00\\x00\\x00\\x02\\x08\\xf0\\x00\\x00\\x00\\x10@\\x80\\x07\\x00\\x00\\x80\\x00\\x02<\\x00\\x00\\x00\\x04\\x10\\xe0\\x01\\x00\\x00 \\x80\\x00\\x0f\\x00\\xfc\\x19\\xff\\xfe\\xfc\\xf1\\xcf\\xcb\\xaf\\xfd$\\xc2\\xaf\\x97\\x7f\\xde\\xb6\\xe3e\\xc2\\x8f\\x9f\\xff\\xee\\'\\xff\\xcd;\\xb6\\x9a{\\xf3\\r\\x02\\xf0W\\t\\xf0\\x00\\x90\\xe1#\\xb2\\xd6GG\\xea\\xb1\\xfft\\xb5rk\\x1f\\x1fV\\x9f\\xd4o\\xe6\\xcd\\xcf|\\x99\\x10\\x1b\\xe0\\xfb\\x1b\\x07\\xe0s\\x12\\xe0\\x01 \\xc3\\x9b\\xc3\\xe4\\x13>I\\x80\\xff\\xb4\\xde\\xfc\\xcc\\xdf1u\\xbfc\\xab\\xb9\\x8f\\xf8\\xa2\\x02\\xe0\\xe3\\x08\\xf0\\x00_\\\\~\\x02)\\xa9\\xaf\\xf8\\xf6\\xbf7x\\xffQ\\x1e\\x8fg\\xb1_\\xbc\\x8e\\xec\\xc9\\xb94Xm\\x8f\\xb2\\xab;?\\xdd\\xf5\\x93\\xfb\\xb9\\x95/=\\xb6\\xe9\\xfb\\xb5\\xeec\\xbdm[]\\xfbO\\xeb\\xcbP\\xbf\\xd7\\xdd\\xa9\\xe1p\\xed\\xa6\\xbc\\xedq\\x19\\\\\\xe6\\xd6\\x85\\xf6[X\\xd5\\x9e\\xa7\\x9a\\xfb\\xcd\\xf4\\xc7\\x93\\xb5\\xfa\\xe1\\xf5\\xa1]v\\xdd\\xcf;\\xa6\\xbd\\xb5\\xd5\\xa4\\xbe\\xb9-(\\x83\\xf3\\x0f\\xa8\\x98\\xdc\\xecl\\xe26\\xbe\\x1d\\xaf\\x13\\xb6+e\\xf8\\xa8\\xe9\\x8f\\x01xo\\x02<\\xc0\\x17T\\xde\\xbb\\x8fW\\xe8\\xfe\\x05\\xfd)\\xf5\\xa5\\xfc\\xbf{\\x97Vo\\xbe\\x81/\\xeb\\xeeI\\x94\\xb1\\xf6Q\\x97\\xa3\\xed\\x7f\\x8b.I\\x95\\xc3Z\\xd8\\xf7\\x19\\x03YUJ\\xba\\xc5\\xc6\\xaa\\xe5\\xe2km\\xabq\\xe6\\xb4\\xbe\\x1dO6\\xb4*U\\xfb\\xe4\\xe5\\xb8\\x1c\\xad\\r\\x8f\\xf2\\xeed[\\xa8?\\xeeN\\xee6\\xdf\\xcd\\x9dll<>\\xf5i\\xbbj-\\xab\\xb7m\\xfb\\xb6\\xd5d\\xe9\\xeaQ\\xc3\\xda\\xa5oR\\xf5\\x83\\xdd\\xf1lb\\x19o=\\x96\\x0b\\xc7N\\xca\\x85r|\\xfc?\\x00\\x1fC\\x80\\x87\\xf7w\\xfb\\x92\\xf4H\\xf7\\x0e\\xf4Y|\\xc2-\\xf1\\xbb\\xfe\\xe6\\x17\\xe4\\xbb\\xb4\\xf2\\xd5x\\xb8\\xf9(\\x1f\\x7f\\xba-m=\\xcc]7\\rN}g\\xd3\\xa7m\\xab\\xb1bZ\\xdf\\xd6+%]M\\xef\\xb4\\xa9\\xc5\\xd8\\xaf\\xeb8\\\\\\x18N\\xc6\\x95\\xba\\xc9m7\\xfd:cy\\x7f{G\\xfd\\xb4\\xcd\\xa1o\\xb79My\\xb5\\xd5l\\xe9j\\xd6\\xf0t\\xe12o\\xb1\\x8c\\xd5\\x8a\\xeex6\\xf1A\\xc32\\xfb\\xc7\\x0f\\xf1\\x1d\\xe0c\\t\\xf0\\xbc\\xdd\\xf0\\r\\x9b\\xdd\\xfa\\xe6\\xb2?\\x96r\\xdc^p\\x9ep\\xf7H\\xfb\\x86\\xff\\xdd\\x9b\\xbb\\xddm\\x89\\xf7Q^\\x80w\\xc7\\x97I7\\xd4\\xbet\\x96\\xc1\\xe53(\\x1f\\xdd1^\\xcb\\xeags\\xaai\\x9fY\\x19::\\xf5\\xc7\\x93\\xb5\\xfa\\xe1\\xcf\\xf5g\\x80\\xfb\\xa1\\xf3\\xa4\\xee\\xdam\\xbb\\xafg\\xfc(W\\xcb\\xd0\\xe5\\xc3\\x1a\\x1e\\xda>\\xa1\\x8c\\xb5\\xa9\\xdd\\xac\\xf1BuZj6}\\xda\\xb6\\x1a+\\xa6\\xf5\\xc3z\\xa5\\xaa87\\xbb\\xf6\\x1f\\xa6-j\\xffa\\xa1\\xe1\\xa4M\\x197\\xd3]\\xe8\\xbb\\x8e\\xe5\\'\\xebnN{XN\\xaf\\x9b|r\\xdb\\xb3V\\xb3\\xa5\\xabY\\xc3\\xd3=^w2N\\xed\\x8eg\\x13\\x1f6,\\xf3\\xbb\\xab\\x00|\\x00\\x01\\x9e\\xb7;}\\xc3\\xe6\\xa2{\\x07z\\xce\\'|\\xa4>\\xe5\\x8fR\\xbe:\\x8eG\\xeb\\xcf\\x00\\xf7f\\r\\xd7\\x99\\xe7\\xe2\\xc5uK__\\xff\\x0cw\\xd7\\xa1\\xf3\\x83\\xde\\x8e\\xdbQ\\xd1=\\xd2\\xf1Bu\\xea;\\x9b>m[\\x8d\\x15\\xd3\\xfa\\xd3z\\xab\\xcb\\xd8\\xb5\\xe8\\xbc\\xfb\\xdaq\\xb80\\x9c\\xb4&\\xa7\\xc9u\\xee\\xb0\\xce\\xb4\\xbc\\x9a\\xb69\\xf4\\xed6\\xe7V\\xc7\\x9cY\\xab\\xd9\\xd2\\xd5\\xac\\xe1\\xe9\\xc2uo\\xe3\\xee\\xba\\xe3\\xd9\\xc4\\x07\\r\\xd7\\x93\\xf2\\xdfMh\\xd7\\x01xw\\x02<o7|\\xc3NP\\xde7v\\xc7kE7\\xd4^5\\x96\\xc1\\xe5\\xc6\\xca\\x0b\\xcc1^\\xcb\\xea\\r\\x9fj\\x867\\x97\\xda\\xa9?\\x9e\\xac\\xd5\\x0f\\xdf\\xff\\x86g\\xd7\\xa4\\x94>\\xf8\\xaf\\x10m\\x97\\xf7\\x93a\\xedv\\xf2T\\xb7\\xe9\\x96\\xda\\x85S\\x97\\xf5p\\xbah7\\xedr{\\xdf\\xd6\\xf0\\xacV\\xc3\\xa3\\\\,\\x15\\xdb\\xe3\\x1a.L\\x1e\\xf8ir\\x9d;\\xac3\\x96\\xf7\\x9f\\xc5Q?ms\\xe8\\xdbmNS^m5[\\xba\\x9a5\\x1c\\x0f\\x9be\\xf0\\xb4\\xa5o\\xe0\\xee\\xa6\\xcbX{R\\xcbQWT\\x0e\\xf7\\xe3\\xf1\\xf9.\\x17\\x8e9\\xe7Ofw^\\xaa\\x9d\\x97\\tu\\xc9i\\xdbj\\xec?\\xad?\\xafW\\x8c\\xc5E\\xa9j3\\xca\\xd1\\xba\\x9b\\xa3\\xa8[k\\x98;\\x9c<\\xb8\\x93\\xbb\\xcdt\\xc7}I\\xaf\\xdb\\xd5\\xd0\\xb2z~\\xdb\\xb3V\\xb3\\xa5\\xabY\\xc3rx\\x0c\\xaf\\xed/]\\xba\\x1b\\xec\\x8f\\xa7\\x13[\\xcd\\xba\\xe6e|\\xd8\\t\\x00\\xefN\\x80\\xff`\\xdb\\xb7\\xb7\\xd5\\xe9\\xdbYw\\xa5~;\\xed\\xc6Zy\\x19ls\\xdb7\\xd1\\xf5\\xa8\\xfcR\\xf7Q|\\xb3\\xd6m\\xc3\\xce\\xf3S\\xda\\xf0S\\x7f&\\xb6|#o5\\x7fW\\xbf\\x97\\xd7\\x7f\\xe7p<\\xeeN\\xf6\\x16\\xdbx\\x7f\\xb27:\\xde]\\x1e\\x1d\\x9f\\xfa\\xb4]\\xb5\\x96M7qX\\xb4o\\xb8+\\xd7k\\xe9\\xcb\\x8f\\xee\\xa4\\x1e>\\xd1m\\xb6\\xa5\\xb5~\\xaf\\xe9N\\xba\\xe6\\xf7\\x8bv\\x054\\xcb\\xa3=}\\xd6\\xe7O\\xf4\\xfe\\t\\x0e\\'m\\xca\\xe9)\\xb7\\x0b}\\xd7\\xb1\\xfcd\\xdd\\xcdi\\x0f\\xcb\\xe9u\\x93On{\\xd6j\\xb6t5k\\xb8\\xb8\\xae\\xbe\\xb8\\x1d\\xfc\\xea\\xce\\x0fi\\xd3\\x9e\\xed\\xfeDJ\\xd9~\\xbe\\xfc|\\xbdM\\xe8\\x9e\\xe7\\xa2\\x7fz\\xc7\\xf4\\xc7\\x9fG\\xd7u\\xfd\\x05\\xc0\\xbdz\\xde\\xb6\\x1a\\xfaO\\xeb\\xdbzu\\x9d\\xc5\\xb8\\x83\\xe2\\xe8\\xd6\\xed\\xb7\\x9b\\xd0V\\x1f\\x16\\x1aN\\xdaJ\\xdbp\\x9d\\xde\\x16k%\\xe3q\\xbf|Q\\x97k\\xc3/\\xbf\\x96\\xe3\\xb6\\x8dC+x\\xbc\\xed\\x07\\xad\\xda\\x85\\xe2\\xba\\xc4\\x13\\xcf\\xa1\\x94\\\\&Nn\\xf6\\xc1\\xc4\\xbaP\\xf7\\x95\\xd0w)So\\xf6\\x07\\xc0\\xbb\\x10\\xe0?T\\xf9\\x86v|\\x13\\x1b\\xff\\x84\\xe7\\xf8\\x9dq\\xb5~o\\xee\\xbf\\xfd\\xed\\'\\xb3o\\xa2\\xdbw\\xd0z\\xe5f\\xad\\xd7\\xbe\\x9f^\\xa7<\\xdaC\\xab\\\\\\x96\\xedO\\xee\\x96\\xe8[\\xffe\\xfd\\x167e\\xa3\\xfd\\xc8R\\xb1\\xedu\\xb80\\x9c\\xb4&\\xa7\\xc9u\\xee\\xb0\\xceX\\xde?\\x88\\xa3~\\xda\\xa6\\xe9\\x1a\\x8e\\xd57\\xc5\\xb5v\\xa9,oT\\xdb\\xf5~\\xda\\xeb\\xddf[:\\x8d\\xb7\\x0b\\xaf-Z\\x8e\\x86\\x99\\x14\\xdd\\'\\xb1\\x9b>\\xe1\\xe1\\xc2p\\xd2\\x9a\\x9c&\\xd7\\xb9\\xc3:\\xd3\\xf2j\\xda\\xe6\\xd0\\xb7\\xdb\\x9c[\\x1dsf\\xadfKW\\xb3\\x86\\xe3as\\xdd\\x12\\xbc\\xcd\\xab_\\x94\\x00\\xf0\\xe9\\x08\\xf0\\x1f\\xe9\\xc1\\xfbeym\\x18\\xafM_^\\xc7\\x0b\\xedEv\\xec~]\\xab\\xcc\\xeb\\xdfy\\xdb\\xcc\\xdd\\xfd\\x94\\xbb=\\x9c\\xc6k\\xa7W\\x97\\xf8\\x0c\\xae\\x9b:\\xdfx\\xbd\\xbd\\xe1>\\x87\\x936\\xe5\\xfa,\\xf6\\xd3\\xbe\\xebX~\\xb2\\xee\\xe6\\xb4\\x87\\xe5\\xf4\\xf2\\xe4\\xba\\x92q\\xd1I\\xf1\\xdew\\xa9[\\xca\\xcb\\xc9\\xe4\\x0ef\\xdd\\xba\\x8ab6\\xdeM?J\\xa6\\x8b\\xaeg\\xf5\\x9e\\xd9\\x94\\x07z<\\x90\\xc9/\\x9c\\xed\\x97\\x87\\x879\\x9c\\xb4\\x0fe{\\xc4\\xdd\\x84\\xd6\\xba\\xf5\\xec\\x8e\\xfb\\x92^\\xb7\\xab\\xa1e\\xf5\\xfc\\xb6g\\xadfKW\\xb3\\x86k\\xcb\\x9b\\x99\\xd7-\\xc1\\x9b\\x94\\xaf\\xb2\\xe3+\\x0e\\x002\\x08\\xf0\\x1f\\xe9\\xfe\\xa5\\xf3\\xb0\\xbd\\xda\\xd6\\x17\\xd0\\xf2.\\xda\\xbfH\\xd4\\x17\\x8b\\xf1\\r\\xa3\\xf5\\x1c\\'\\\\\\xd7:\\xfaw\\xc6\\x8a\\xeb\\x94\\xd9\\x1eN\\xe3u\\xe2\\xabK|\\x06\\xe7\\x9b:?\\xd1\\xd3\\xfd\\xd4\\x0b\\xc3Ikr\\x9a\\\\\\xe7\\x0e\\xebL\\xcb\\xabi\\x9b\\xa6k8V\\xdf\\x15\\xef\\x83{\\x8aY\\xea\\xd7\\x93q\\xd2+\\xddf[:\\x8d\\xf7\\xcbo\\x87\\xf3E\\x0f\\xcb\\xe0\\xcd\\xe8\\xf7U\\x1e\\xe9\\xe9\\xc7KyD\\xbb:6>\\xfa\\xe1\\xa4=\\xd1m\\xb8No\\x8f\\xb9\\x7f\\xe8\\xe3\\x07\\xd0\\x96/\\xearm\\xf8\\xb3\\xfd\\x19\\xe0u\\xf8\\xa6\\xf8vK\\xf0\\xbc\\xf2\\x05\\xd4~d\\x00@\\x02\\x01\\xfe#\\x8do\\xcd\\x13G\\xd1\\xf9E\\xa2\\xbe\\xb1\\x8e\\x17\\xda\\x8b\\xec\\xd8\\xfd\\xba\\xd6\\xabo&\\xafO9\\x16;\\x8d\\xd7=\\xbc\\xba\\xc4\\xa7P\\xee\\xf3x\\xbb\\x0f\\xfa\\r\\xcfs\\x93\\xba\\x97r\\xe1\\xa6c\\x19}y\\xf9\\xb1\\x95-\\'//C\\x94~\\xa2[)\\xb9\\xdb\\xd2zrL(\\'m\\xf5W\\x16=\\x8c+\\xf2\\x9e<[\\x00\\x80oD\\x80\\xffP]\"Z\\x8e[\\xec\\xe9\\xd5\\xf7\\xefiL*]\\xb6\\xf1\\xb5\\xe4\\x18o\\xc3\\xab\\xebZ}\\x8f[\\xf7S\\xee\\xf6\\xd0U\\x0e{\\x98.\\xd1\\xb7\\xfe\\xfb\\xb6=\\x17uOe\\x83\\xbb\\xb6\\xcfRW\\x1f\\xe9pR\\xca\\xdbg\\xf0g~\\xc3\\xb3k2\\xec\\xa5\\\\\\xb8{\\xb6\\xeb\\x9e\\xfa\\x1dtS\\x9e\\xec6\\xdd\\xd2\\xdan3.\\xfdh\\xd1nR7\\xca\\xfb\\x1a?M\\x00\\x00\\xbe4\\x01\\xfe\\x83\\xb5Dt\\x93{v\\xb7\\x89g(\\xaf\\xe3\\xdd\\x7f\\xf1u\\x1d\\x1c^\\xdco\\xd6jC\\xc5\\xb8\\x85\\xe2f\\xcad\\x0f\\xad\\xf2\\xa9?\\x13[\\xba\\\\\\x97\\xfb\\n\\xca\\xfd\\xcaK|\\x1a\\xbe \\x01\\x00\\xbe\\x11\\x01\\x1e\\xdeD^\\x02\\x00\\x00\\xfe\\x0e\\x01\\x1e\\xdeD\\x80\\x07\\x00\\x00\\xfe\\x0e\\x01\\x1e\\x00\\x00\\x00\\x02\\x08\\xf0\\x00\\x00\\x00\\x10@\\x80\\x07\\x00\\x00\\x80\\x00\\x02<\\x00\\x00\\x00\\x04\\x10\\xe0\\x01\\x00\\x00 \\x80\\x00\\x0f\\x00\\x00\\x00\\x01\\x04x\\x00\\x00\\x00\\x08 \\xc0\\x03\\x00\\x00@\\x00\\x01\\x1e\\x00\\x00\\x00\\x02\\x08\\xf0\\x00\\x00\\x00\\x10@\\x80\\x07\\x00\\x00\\x80\\x00\\x02<\\x00\\x00\\x00\\x04\\x10\\xe0\\x01\\x00\\x00 \\x80\\x00\\x0f\\x00\\x00\\x00\\x01\\x04x\\x00\\x00\\x00\\x08 \\xc0\\x03\\x00\\x00@\\x00\\x01\\x1e\\x00\\x00\\x00\\x02\\x08\\xf0\\x00\\x00\\x00\\x10@\\x80\\x07\\x00\\x00\\x80\\x00\\x02<\\x00\\x00\\x00\\x04\\x10\\xe0\\x01\\x00\\x00 \\x80\\x00\\x0f\\x00\\x00\\x00\\x01\\x04x\\x00\\x00\\x00\\x08 \\xc0\\x03\\x00\\x00@\\x00\\x01\\x1e\\x00\\x00\\x00\\x02\\x08\\xf0\\x00\\x00\\x00\\x10@\\x80\\x07\\x00\\x00\\x80\\x00\\x02<\\x00\\x00\\x00\\x04\\x10\\xe0\\x01\\x00\\x00 \\x80\\x00\\x0f\\x00\\x00\\x00\\x01\\x04x\\x00\\x00\\x00\\x08 \\xc0\\x03\\x00\\x00@\\x00\\x01\\x1e\\x00\\x00\\x00\\x02\\x08\\xf0\\x00\\x00\\x00\\x10@\\x80\\x07\\x00\\x00\\x80\\x00\\x02<\\x00\\x00\\x00\\x04\\x10\\xe0\\x01\\x00\\x00 \\x80\\x00\\x0f\\x00\\x00\\x00\\x01\\x04x\\x00\\x00\\x00\\x08 \\xc0\\x03\\x00\\x00@\\x00\\x01\\x1e\\x00\\x00\\x00\\x02\\x08\\xf0\\x00\\x00\\x00\\x10@\\x80\\x07\\x00\\x00\\x80\\x00\\x02<\\x00\\x00\\x00\\x04\\x10\\xe0\\x01\\x00\\x00 \\x80\\x00\\x0f\\x00\\x00\\x00\\x01\\x04x\\x00\\x00\\x00\\x08 \\xc0\\x03\\x00\\x00@\\x00\\x01\\x1e\\x00\\x00\\x00\\x02\\x08\\xf0\\x00\\x00\\x00\\x10@\\x80\\x07\\x00\\x00\\x80\\x00\\x02<\\x00\\x00\\x00\\x04\\x10\\xe0\\x01\\x00\\x00 \\x80\\x00\\x0f\\x00\\x00\\x00\\x01\\x04\\xf8\\xcf\\xe8\\xd7\\xcb?\\xff\\xbc\\xfc\\xdaO\\xde\\xe6\\xdf\\x9f?\\xfe)~\\xfc\\xfcw\\x1f\\xf9H\\xcbF\\xff\\xccB\\'\\x7fk]\\x00\\x00\\x80\\xbfG\\x80\\xff\\x10%\\x81\\xff\\x87\\x84\\xf9j\\x80/1\\xfd\\xb6\\xe0?D\\xff\\xdf\\x11\\x18\\xe0\\xa7\\x8f\\x0e\\x00\\x00\\xe0s\\x13\\xe0?\\xa3\\xff\\x14\\xe0\\xffd\\xa2\\x16\\xe0\\x01\\x00\\x00\\xfe\\x14\\x01\\xfe?8\\xfe\\xb8\\xfa\\xe2\\x14\\t\\xfb\\x04\\xdeU\\x9dB\\xe7re\\x19)\\xb5\\xa7\\xab\\xfd\\xf4\\xcb*\\xdd\\xf9\\xd8q\\xb8\\xb0O\\xef\\xc7j\\xc75\\xfe\\xfe\\xdc\\x96]\\x06O\\xdb\\xd8F\\xb6\\xe3\\xd3\\x86W\\xad\\xe5\\xda\\xa4\\x95\\xdc\\xaeuj>\\xdbo_\\xbf\\x9c\\xdc\\xd5\\xbfy\\xddk\\x9f\\xber\\xd8\\n\\x00\\x00\\xc0\\xe7\\'\\xc0\\xff\\xb6\\x12\\x0e\\x8f\\x10\\xf8\\xebe\\x8c\\x83\\xe5\\xda\\x96%\\xb7 \\xb9\\x0e^lyr\\x9f\\xb9\\x9e\\xec\\x95mz\\xd7\\xb9\\x14\\xf4\\xc7\\xb7]\\x97\\x99m\\'}\\xcb\\xfed\\x8b\\xb5u\\xfeze?\\xdd\\x8e\\xbb\\x93\\xf1\\xbe\\xc6\\xb1\\xb5O\\x7f\\xd2\\xaf\\xb5\\x8fo\\r\\xfb\\x93\\xbd\\xe8\\x99\\xfa\\xae\\xa6+y\\xfb\\xba\\xe7\\x9a\\xe3\\x18\\x00\\x00 \\x88\\x00\\xff\\xbb\\xfaPx\\xd1.\\xaeArRw\\xca\\x92\\xcb\\xa4\\x9b\\xc0\\xd9t\\xe5\\xd3\\x14\\xdaz\\\\\\x8b\\xea\\xb5S\\xfb\\xa1n8\\xb9\\xee\\xe3\\xd4\\xb3\\xb6,\\xe3u\\xe1\\xc5p\\xe1f\\xc2\\x93\\xf5\\xaf\\xb5ys\\x9fK\\'\\x00\\x00\\x80\\x14\\x02\\xfc\\xef\\xea2\\xe1\\xd5r\\xb1\\xa5\\xc4\\x12\\x19\\x8bK\\xf95\\x95\\xee\\xa7\\xfd\\xf4c\\xf6f\\x1f\\x9d\\xa6\\xd0~W\\xc3&\\x16u\\xd2\\xe9\\xc2\\xd0l89w\\xb8\\x8c\\xd4\\xe5\\xc6]\\xae\\xda\\x85q\\xc2z\\xfad}\\xed\\xff\\x1f\\xd7\\xad\\xf5\\x97\\r\\x01\\x00\\x00\\xa4\\x10\\xe0\\x7f\\xd7)R\\x8e\\xee.^\\xc7NY\\xb2\\xa5\\xccV\\xdaO\\xea\\xca\\xa7)\\xb4\\xf5\\xb8\\x16\\xd5k}\\xd3\\xc5P7\\x9c\\x9c\\n\\x17\\xa7\\x9e\\xb5\\xe5tC\\x93\\tO\\xd6\\xcf\\xfa\\xbfu\\xddZ\\xff`\\x06\\x00\\x00\\xc0\\xe7&\\xc0\\xff\\xb6%\\x14\\xd6T8\\xff;\\xf0\\xcd59\\x96\\x91\\xda\\xa3\\x9c\\xb4v7\\x01\\xbe\\x1c\\x1e\\xc7}\\xf1`)j\\xe3k\\xffc\\xc9n\\xcaiw\\xe5J=\\x1dNN\\x85E\\x19\\xeav|\\xbb\\xfd\\xde\\xac\\xe8Q}[\\xb2\\xdd\\xce\\xef\\xac{\\xd7g:\\x01\\x00\\x00\\xe0\\x93\\x13\\xe0\\xff\\x83-I\\x16\\xe7D\\xd8\\x92o9:\\x9c\\xb2\\xf0\\x1e2k\\xc5\\x907\\xebY\\xbd\\xbc\\xfe\\xb7\\xd7\\x8f\\xd1c\\xe9\\x9b\\x85\\x87\\xa1n\\xf96\\xde\\xb7_\\x0cYw89\\x15n\\xda]\\xbf\\xfcZ\\x8e[\\xdbv\\xa1\\xd8\\xc7\\xb7~u\\x1b}\\xb7\\x07\\xf5\\xeb\\xf5E\\x7f;\\xad\\xfc\\xf9u\\xd7\\xeb\\x8b\\xbb>\\xad\\x01\\x00\\x00@\\x02\\x01\\xfe/\\x1aC\\xe6\\xd7\\xf4\\x1d\\xee\\x11\\x00\\x00\\xe0O\\x10\\xe0\\xff\"\\x01\\x1e\\x00\\x00\\x80g\\t\\xf0\\x7f\\x91\\x00\\x0f\\x00\\x00\\xc0\\xb3\\x04x\\x00\\x00\\x00\\x08 \\xc0\\x03\\x00\\x00@\\x00\\x01\\x1e\\x00\\x00\\x00\\x02\\x08\\xf0\\x00\\x00\\x00\\x10@\\x80\\x07\\x00\\x00\\x80\\x00\\x02<\\x00\\x00\\x00\\x04\\x10\\xe0\\x01\\x00\\x00 \\x80\\x00\\x0f\\x00\\x00\\x00\\x01\\x04x\\x00\\x00\\x00\\x08 \\xc0\\x03\\x00\\x00@\\x00\\x01\\x1e\\x00\\x00\\x00\\x02\\x08\\xf0\\x00\\x00\\x00\\x10@\\x80\\x07\\x00\\x00\\x80\\x00\\x02<\\x00\\x00\\x00\\x04\\x10\\xe0\\x01\\x00\\x00 \\x80\\x00\\x0f\\x00\\x00\\x00\\x01\\x04x\\x00\\x00\\x00\\x08 \\xc0\\x03\\x00\\x00@\\x00\\x01\\x1e\\x00\\x00\\x00\\x02\\x08\\xf0\\x00\\x00\\x00\\x10@\\x80\\x07\\x00\\x00\\x80\\x00\\x02<\\x00\\x00\\x00\\x04\\x10\\xe0\\x01\\x00\\x00 \\x80\\x00\\x0f\\x00\\x00\\x00\\x01\\x04x\\x00\\x00\\x00\\x08 \\xc0\\x03\\x00\\x00@\\x00\\x01\\x1e\\x00\\x00\\x00\\x02\\x08\\xf0\\x00\\x00\\x00\\x10@\\x80\\x07\\x00\\x00\\x80\\x00\\x02<\\x00\\x00\\x00\\x04\\x10\\xe0\\x01\\x00\\x00 \\x80\\x00\\x0f\\x00\\x00\\x00\\x01\\x04x\\x00\\x00\\x00\\x08 \\xc0\\x03\\x00\\x00@\\x00\\x01\\x1e\\x00\\x00\\x00\\x02\\x08\\xf0\\x00\\x00\\x00\\x10@\\x80\\x07\\x00\\x00\\x80\\x00\\x02<\\x00\\x00\\x00\\x04\\x10\\xe0\\x01\\x00\\x00 \\x80\\x00\\x0f\\x00\\x00\\x00\\x01\\x04x\\x00\\x00\\x00\\x08 \\xc0\\x03\\x00\\x00@\\x00\\x01\\x1e\\x00\\xde\\xc5\\xbf?\\x7f\\xfc\\xf3\\xf2k?\\xf9s~\\xbd\\xfc\\xf3\\xe3\\xe7\\xbf\\xfb\\xc9\\xdfv\\xb3\\x99\\xbf\\xf4X\\x00\\xe0+\\x12\\xe0\\x01\\xe0]\\x04\\x07\\xf8w\\xdb\\xba\\x00\\x0f\\x00\\x1fI\\x80\\x07\\x80w!\\xc0\\x0b\\xf0\\x00\\xf0\\xb1\\x04x\\x00\\xbe\\xbd\\x921w{\\xd4\\xbc\\x8e\\xecAtI\\xa8\\x9bkh~P\\xd0\\xb5\\xbb\\t\\xb3\\xdb\\xc4\\xfd\\xa4\\xcb\\xc0\\xf3\\x86\\xad\\xdf\\x8f\\x9f?\\xfb\\xcc|\\xbb\\xd0\\xdaq);\\x06\\xbb\\xa2ef?\\xe5\\xe8\\xd4\\x8d\\xbd~\\xfb\\xad\\xf8\\xb4\\x99\\xcd\\xfd\\xc4r\\xde\\xee\\xb9\\xd4\\x9c\\xe7\\x01\\x00\\x17\\x02<\\x00\\xdf\\\\\\xc9\\x92Gz\\xfc\\xf5R\\x8e\\xb6\\xff-\\xbad\\xb9\\xe5\\xd4\\xfdd\\xcc\\x9f\\x9b\\xa1`=\\xd9+\\xfa\\xe2\\xbb\\xa8Z\\xc6Z\\xb3\\xa5\\xfa\\x95\\x15\\xfb\\x1eex8\\xb9Yh\\xad\\x19.\\xb4\\xd56\\xe7\\x1d\\x1c\\r\\xbb&\\xe5\\xf0M\\x9b9\\x0c\\x13\\xd7\\x93u\\xe6d\\xaf\\x00\\xc0\\x03\\x02<\\x00\\xdf[\\x9f$\\xafJ\\xb6\\xdc\\xae\\xb6\\xa3b\\x99u\\x97T\\xbbFG\\xc59\\x9d^g\\xce:O\\xc6\\'\\xeb\\xcc\\x17Z\\x0e\\xba\\t\\xa5\\xac\\x9f_\\x9cZ6\\xed\\xc2X\\xf2\\xeaf\\x9aYE\\xdb\\xd5tu\\x00`$\\xc0\\x03\\xf0\\xbd\\xddd\\xce5R6w1\\xf3\\xa9\\xa4\\xba\\x9e\\x8e\\xbdV\\xa7\\x99\\xb3\\xce\\x93\\xf1\\xa3\\xf1\\xae\\x8eO\\x17:Mh\\x95u\\x1f\\xe3J\\xa7N\\xdb\\x857n\\xa69\\xf5n\\x13\\x8e\\x0b\\xa7\\x02\\x00`J\\x80\\x07\\xf8\\x1a>e\\n\\xba\\x89s\\x9f\\xcf)\\x82.\\xfa\\x91\\xf6\\\\\\xc7\\'\\xfcTR]+^\\xffdf\\x9d\\'\\xe3\\x93u\\xe6\\x0b-\\x15\\xb7\\x17\\xda\\xf80\\xb5/o\\x17\\xde\\xb8\\x99f^\\xb1]9]\\x07\\x00\\xe6\\x04x\\xf8\\x8e\\xfa\\xf7\\xf3\\xa7\\xdc\\xbc\\x94\\x7f&\\x9f|{\\x7f\\xc8\\xdbb\\xd0\\x1f\\nM\\x19\\x1fM\\xf9\\x01qls\\xfd\\xeb\\xdf\\xdd\\x8f\\x90r\\xb8\\x1f\\x8f\\xcf\\xec\\xe6\\xd6J\\xc1\\xf0\\x97\\xbd\\xaf\\x87\\x13m\\xc1K\\x8f\\xbb\\x15KyWr\\xb7\\xe6\\xa0\\xb5\\x1f\\xb5\\xfe\\xc3\\xcc\\xae\\xbc\\x1cv%o\\xd9L5\\x8c\\x0e\\x0b\\xed\\x97\\xee7\\x07\\x00\\\\\\t\\xf0\\xf0]to\\xd9\\xfd\\xfb\\xf9s\\xda\\xcb\\xfa\\x9f\\xd0o\\xf5)\\x7fv{\\x9f\\xd5\\x98\\xaf^\\xf3\\xb6\\xea\\xdf\\x96\\xf2\\xd1\\x1cA\\xb2~\\xe5\\x95/\\xc2\\xfd\\xfc\\xe7\\xcb\\xfe\\xa4\\xc6gvskK\\xc1\\x8f\\x9f\\xbfj\\xab\\xfe\\xf9\\xb6\\x05\\x8a\\x9bgR\\x17\\\\\\xff{\\xed{\\xc1|\\xc5\\xd6o\\xfd\\x1d\\xec\\xd6\\xf0v\\xa1\\xd2|\\xe8S\\xd5\\xd1c\\xde6\\xa3\\x96<u\\xfb\\xd3\\xcdl\\xd6\\xa1\\xfb\\xc7\\xb2O\\x1d\\x86\\x00\\x809\\x01\\x1e\\xbe\\xa3\\xf1u\\xfe\\t\\xfd\\xcb\\xfa\\'\\xf4\\xc9\\xb7\\xf7\\x87l\\xf9\\xaaK^\\xeb\\x13\\x19?\\xebR\\xd3g\\xa9\\xc5\\xf1\\xe4\\xb6$\\xb5\\xb9\\xfb\\xe2\\xe8\\xae\\x1f\\x97\\'S\\xda\\xf03\\xff\\xc2\\x19\\xdf\\xdb\\x9b\\x7f2\\x02\\x80oM\\x80\\xff\\xeb\\xca\\x1b\\xad\\x97\\x97\\xdd\\xb7\\x8da\\xcfF\\xa3epy@5\\xa1-\\xe3\\xb5\\xac>\\xb8SM{\\xa0\\xfd{\\xf2\\xf8\\xce|\\xbbV?|\\xfbo;/n\\'\\x96\\xc1\\xfb\\x7f,z\\xb5]\\xdeO\\x86}\\xb4\\x93nx\\xdem\\xba\\xbd\\x9b]=\\xb3h7\\xed\\xe6V\\x13lw\\xb0o~=Y\\xef\\xac\\xbf\\xdf2\\xda\\x15\\xd4\\xc70\\xad\\xaa\\xca\\xf5cl\\xfb7\\xc6\\xda\\n\\x8b\\xee\\xa4\\x9f]f\\r\\'\\x8f\\x96\\xe0;\\xea\\xbf*\\x00\\x80W\\t\\xf0\\x7fAysm\\xef+\\xe3\\xd97\\xb7\\xbc\\xca}\\xc7w\\xfa\\xb7E\\xa3\\xf1\\xb8;\\xd9[l\\xe3\\xfd\\xc9\\xde\\xa8\\x7fQ\\x9e\\x1d\\x9f\\xfa\\xb4]u1\\xec\\xd0\\xf7\\xeeO\\xd6\\xc3\\xa3\\xbao\\xbe+\\xd7\\xf7\\xa1\\x7f\\x7f\\xbe\\xfc\\xe8N\\xeaa7k\\xd6\\xad\\x8c\\xdfmo\\xad\\xdfk\\xba\\x93\\xae\\xf9\\xfd\\xa2]A\\xac\\xd3=,\\x8fe{(\\xed\\xb1\\xf5\\x15Cu99\\x1egQ\\xe7\\x1e\\xbaG\\xbf;?\\xb1c\\xcal\\x17\\xaf.\\xc1wt\\xfd\\xc2\\x02\\x00\\x1e\\x11\\xe0\\xff\\x82\\xf1\\xfd\\xf6\\xfc\\x16\\xfc\\xad}\\xcfW\\xfa\\xeb\\x1b\\xec,\\x1a\\x8d\\x17\\x86\\x93\\xd6\\xe44\\xb9=\\xd3~\\x9d\\xb1\\xfc.VM\\xdb\\x1cN\\x05\\xadb\\xbcp\\x9d\\xd8\\x16_*\\xcbo\\xae_\\xa7\\xd5\\x8ai\\xb7\\xd3\\xea\\xb3\\xf1v\\xe1\\xb5E\\xcb\\xd103\\xd0\\xf5\\xa1t7W\\x8e\\x86\\x82\\xcb\\xc9\\xc9\\xf6\\x84\\x0e\\xf5AV\\xad\\xfd\\xe6\\xe8w\\x1a\\xaf\\x13_]\\x02\\x00\\x80\\xd7\\x08\\xf0\\xefby3]\\xdeD\\xcb{k\\xffV:\\xbe\\xc7\\x96\\xb7\\xd7\\xbb\\xbfz\\xba\\xbd\\xf5\\x9e\\xe7\\xae\\xfa\\x17\\xde\\xe1E\\xfb\\xc1\\x9fO^t\\xd3\\xea\\xd5\\x07\\xad\\xf6\\x93\\xee\\x05}=\\xfa\\xb9\\xad\\xb0^\\xeff\\x1f\\xf5\\xb7\\r;\\xcfOi\\xc3\\xdf\\xf5\\xaf\\xcb\\xb6\\'\\x7f(\\x1fo\\x7f\\xcb\\xe5Q\\xac\\xe7\\xf5\\xa0\\x18N\\xda\\x94a\\xb8\\xbf\\xd0w\\x1d\\xcbO\\xd6\\xdd\\x9c\\xf6\\xb0\\x9c\\xfe\\xd6&o&\\xb6\\xb1_/K\\xddR^N\\x86Y]\\xefI\\xb7\\xd3\\xea\\xb3\\xf1n\\xfaQ2]t=\\xab\\xf7\\x9fh\\xbc\\x9d\\xf6P\\x8e+\\xd7\\xdb\\xadg\\xa7\\xa9W\\xe7\\x07{\\x9dr,w\\x1a\\xaf\\xbbxu\\t\\x00\\x00^#\\xc0\\xbf\\x8b\\xf2fZ_\\xfb\\xd7\\x93\\xf5=\\xb5\\x7f\\xe5-\\xa3]A{\\x8f\\x1d\\xe6v3Z\\x9b\\xf1dV\\x7f\\x18\\xbb\\xaf\\x1e\\xb5j\\xa5\\xf5={\\xed\\xda\\xf5-\\xa7\\xfb\\x95\\xe5x=\\xea\\xd7-]\\x8e\\xcb\\x87\\xeb\\x94G{h\\x95\\xed\\xce^]\\xe2\\x0b\\xe9ouSn\\xb8\\x1fY*\\xb6\\xfb\\x1f.\\x0c\\'\\xad\\xc9ir\\x9d;\\xac3-\\xaf\\xa6m\\x0e\\xe7\\x89\\xb5b\\xbcp\\x9d\\xb8\\xd8\\x06\\xf7\\xaf\\xa6\\xa5~=\\x19\\'\\x1dg\\x93n\\xb3\\xedMw\\xf5\\xfa\\xa2\\x87e\\xf0f4A\\xb9\\xf9\\xfaC\\xa8\\x9c\\x1c\\xb7~\\\\\\x1an\\xecZ\\xd0\\xcen\\x94\\xc7r\\x14L~P\\xef\\x97\\xbb\\xcam\\xd9\\xee\\xe4\\xe8\\x00\\x00\\xc0\\xef\\x10\\xe0\\xdfEy1\\xed^\\x8c\\xb7\\xa0\\xb0\\x1d\\xec\\xe3}\\xc5X=\\x9e\\xd5\\xa9\\xa7\\x96\\xb3\\x0bu\\xb8*\\xd7\\x87\\x99oo\\xb5\\x1c\\x8d\\xe3c\\xbfu^\\xbf\\xeae\\x13\\xf7S\\xee\\xf6p\\x1a\\xaf\\x9d^]\\xe2K)\\xcf\\xeb\\xb8\\xbd\\xc7\\xd1hx^\\xc3I{\\xe6\\xeb\\xdc~Bk\\xddzv\\xc7}I\\xaf\\xdb\\xd5\\xd0\\xb2ZG\\x8f\\x86]\\x97rX\\xf7U\\xda\\xdct/\\xa3//?\\xb6\\xb2\\xe5\\xe4\\xe5e\\x88\\xd2\\xa7\\xed\\xddu+%w\\xdb\\x9b\\xedj\\xf1\\xca\\xa2\\x87q\\xc5$\\xcb\\xce\\xdf\\xf2\\x8fumC\\xed\\x83=\\xce7\\xed\\xb9\\x1d\\xda\\xf5z\\xad|\\n\\xbb\\xbe\\xbeU>\\xf3/\\x9c\\x01\\x00\\xf0,\\x01\\xfe]\\x94\\xb7\\xd2\\xee\\xcd\\xb8\\xbc\\xd4n\\xa7\\xc7\\x85\\xa1`\\xac\\x1e\\xcfJ\\xc4X_j[\\x8fM-\\x9b\\xd4\\xf7JI\\xf7z\\xfc\\xe6V\\xe3\\x84\\xeb\\x12G\\xff\\xceXq\\x9d2\\xdb\\xc3i\\xbcN|u\\x89/\\xa6\\xddo\\xbd\\xcd\\xf2hv\\xed\\xd6\\x87\\x8fl8iOr\\x1b\\xae\\xd3\\xdb\\xe3\\xed\\x1fv\\x7f|~\\xdcu\\xb96|\\xfbo;/^\\xdfd)\\xb9\\x99\\xb8\\xcd\\xecw\\xd3M\\x19\\xb67\\xef6\\xdd\\xde\\xdan3.\\xfdh\\xd1nR7\\xfa\\x85\\x94\\x1b\\xfc\\x927\\x06\\x00\\xf0\\x8d\\x08\\xf0\\xefb\\xcc\\x18\\xe5M\\xf9\\xc8\\r\\xdb\\x95\\xf1\\xfa\\xa3\\xb3:\\xf5\\xd4rv\\xa1[\\xea\\xe2xa\\x7fs\\xabc\\xe2f<+\\xce\\r/^\\x9fr,v\\x1a\\xaf{xu\\t\\xa6<;n\\\\\\x7fP\\xf2%\\xf8\\xf1\\x0e\\x00\\xdf\\x8b\\x00\\xff.\\xca+T\\xfd\\xcd\\xber\\xb2\\x1f\\xeeg\\xa7\\xdf\\xd3\\xbb\\x16\\xb4\\x8b5\\xc1n\\x13\\x8f\\x0b\\xdd\\x94Y\\xfdU\\xad\\x9c\\xb5\\xea\\xde\\xe9\\xd7\\x92c\\xfc\\xf4\\xaa_N\\xdb\\x8cr\\xd4\\xf7\\xb8u?\\xe5n\\x0f]\\xe5\\xb0\\x87W\\x97`\\xa6<\\xba\\xee\\xe3\\x83\\xc5\\xe9\\x075\\xc1\\xc6\\x1f\\xe1~\\xbc\\x03\\xc0\\xf7\"\\xc0\\xbf\\x8b\\xed\\x15\\xaa\\xbc\"\\xaf\\x86\\xb7\\xa9r\\xedvh\\xcf\\xaa\\xe3\\xeb\\xd7\\xd2\\xa3\\xc5\\xd6\\xda\\xb0\\xa5\\xe1\\x87\\xf5\\xabn\\xd2Xw\\x18\\xea\\xeb\\xf8\\xba\\xfd\\xfdR\\x19\\xbc\\xddp7\\xb9\\r\\x15\\xa7=,n\\xa6L\\xf6\\xd0*\\xfdu\\xd9wQ\\x9e\\xdb\\xf0\\xf1\\x01_\\xc8\\xf8#\\xdc\\x8fw\\x00\\xf8^\\x04\\xf8w\\xf1\\xf0\\x15\\xea\\x12\\x87\\x01\\xf8\\\\\\xba_0<~\\xbe\\xde~b\\xaf\\xbf\\xf2\\xb8\\xff\"\\xe2\\xf83z\\xa9\\xb9\\xfc\\xeab\\xd7\\xebT\\xba;\\xcdX\\xae,#\\xcf,\\xf4\\xe1\\xff\\x10\\xe9\\xe4\\xee\\x96\\x83\\xe5\\xff\\xeb\\xac\\xa5\\xa26?w\\x00\\x00>\\x94\\x00\\xff.\\xb6W\\xa2\\xfd\\xe4d|\\x1f\\x02\\xe0\\xb3\\xd9\\xffu\\xc1E\\xcd\\xac\\xdb\\xe1M\\x9c\\xee\\x7fN\\xef\\xaa\\x0f\\xeb\\xac\\xfe\\xfavR\\x8ef\\xdf\\t\\x86\\x85\\xda\\x94\\xc9Bc\\xa7an7\\xa3\\xb5\\x19Of\\xf5\\x87\\xfbE\\xb7Y}\\x87\\xeedo\\x06\\x00\\xfc\\t\\x02\\xfc\\xbb(\\xef0\\xa7\\xb7\\xa0\\xc3\\xcd\\x0b\\x12\\x00\\x9fT\\xfb\\xe9|\\xfc\\x89}\\xf9\\xb9\\xfc\\x12{o~\\xea?\\x0f\\x1d\\xd3\\xca\\xf8\\xb9\\xf6p\\x9aSW\\xba_h\\xac\\x1e\\xcf\\xea\\xd4S\\xcb\\xd9\\x85:\\xdc\\x8c\\x8b\\xeeW\\x87Y\\xc3I+\\x07\\x00\\xfe\\x04\\x01\\x1e\\x80\\xef\\xae\\x84\\xd2\\xa6\\x05\\xd8\\x96M\\xbb\\xac{\\\\\\x18\\x0b6\\xe7@\\xdb\\xd5\\x1ck\\x9c#\\xf3\\xb9\\xcf\\x18\\xa1\\xcb\\xd1P0V\\x8fgu\\x93\\xd3mL\\xea;\\xc7\\xd4\\xber\\x985\\x9c\\x9c\\x17\\x02\\x00>\\x96\\x00\\x0f\\xc0\\xf7\\xd6\\xa7\\xd0\\x16O\\xe7Yw\\xbb2^\\xdf\\x9d\\x07\\xaf\\x11\\xf9\\x1ayOs\\xba)w\\x0b=:\\xabSO-g\\x17\\xae\\xbb[l%C\\xe1\\xfc\\xe4z7\\x00\\xc0G\\x12\\xe0\\x01\\xf8\\xde\\xba\\x14Z\\x0e\\xf7\\xe3\\x07Y\\xb7\\\\*n\\xa2\\xebz\\xe9\\x18/\\'\\xe7\\x84<\\xb6-\\xb6n{\\xdd8e\\xbb4,t-\\xb8\\xdb\\xe4:\\xf1f\\x1b\\xb3\\xfa\\xdeZ\\xfe\\xa3\\xaf\\x1bf\\r\\'\\xdd\\xa3\\x03\\x00\\xfe\\x00\\x01\\x1e\\x80\\xefn\\xcd\\xed\\xc5\\x8f\\x9f?_\\xf6D\\xfa(\\xeb\\x96k\\xd3\\xe4Z\\x9bu\\x7f\\\\\\xbe\\x1b\\xbbL\\xdb\\x16\\xaa\\x15\\xc3\\xe5\\x9b\\x85\\xb6\\xa1\\xbd\\xf7\\x83M\\xdem\\xe3Q}sYt\\x985\\x9c\\x94E\\xbaB\\x00\\xe0\\x83\\t\\xf0\\x00\\xf0F\\xef\\x19\\\\\\xc7P}\"!\\x03\\x00\\x1d\\x01\\x1e\\x00\\xde\\xe6]c\\xf5\\xa3\\x00/\\xbf\\x03\\x00=\\x01\\x1e\\x00\\xde\\xe4}c\\xf5\\x83\\x00/\\xbf\\x03\\x00\\x03\\x01\\x1e\\x00\\x00\\x00\\x02\\x08\\xf0\\x00\\x00\\x00\\x10@\\x80\\x07\\x00\\x00\\x80\\x00\\x02<\\x00\\x00\\x00\\x04\\x10\\xe0\\x01\\x00\\x00 \\x80\\x00\\x0f\\x00\\x00\\x00\\x01\\x04x\\x00\\x00\\x00\\x08 \\xc0\\x03\\x00\\x00@\\x00\\x01\\x1e\\x00\\x00\\x00\\x02\\x08\\xf0\\x00\\x00\\x00\\x10@\\x80\\x07\\x00\\x00\\x80\\x00\\x02<\\x00\\x00\\x00\\x04\\x10\\xe0\\x01\\x00\\x00 \\x80\\x00\\x0f\\x00\\x00\\x00\\x01\\x04x\\x00\\x00\\x00\\x08 \\xc0\\x03\\x00\\x00@\\x00\\x01\\x1e\\x00\\x00\\x00\\x02\\x08\\xf0\\x00\\x00\\x00\\x10@\\x80\\x07\\x00\\x00\\x80\\x00\\x02<\\x00\\x00\\x00\\x04\\x10\\xe0\\x01\\x00\\x00 \\x80\\x00\\x0f\\x00\\x00\\x00\\x01\\x04x\\x00\\x00\\x00\\x08 \\xc0\\x03\\x00\\x00@\\x00\\x01\\x1e\\x00\\x00\\x00\\x02\\x08\\xf0\\x00\\x00\\x00\\x10@\\x80\\x07\\x00\\x00\\x80\\x00\\x02<\\x00\\x00\\x00\\x04\\x10\\xe0\\x01\\x00\\x00 \\x80\\x00\\x0f\\x00\\x00\\x00\\x01\\x04x\\x00\\x00\\x00\\x08 \\xc0\\x03\\x00\\x00@\\x00\\x01\\x1e\\x00\\x00\\x00\\x02\\x08\\xf0\\x00\\x00\\x00\\x10@\\x80\\x07\\x00\\x00\\x80\\x00\\x02<\\x00\\x00\\x00\\x04\\x10\\xe0\\x01\\x00\\x00 \\x80\\x00\\x0f\\x00\\x00\\x00\\x01\\x04x\\x00\\x00\\x00\\x08 \\xc0\\x03\\x00\\x00@\\x00\\x01\\x1e\\x00\\x00\\x00\\x02\\x08\\xf0\\x00\\x00\\x00\\x10@\\x80\\x07\\x00\\x00\\x80\\x00\\x02<\\x00\\x00\\x00\\x04\\x10\\xe0\\x01\\x00\\x00 \\x80\\x00\\x0f\\x00\\x00\\x00\\x01\\x04x\\x00\\x00\\x00\\x08 \\xc0\\x03\\x00\\x00@\\x00\\x01\\x1e\\x00\\x00\\x00\\x02\\x08\\xf0\\x00\\x00\\x00\\x10@\\x80\\x07\\x00\\x00\\x80\\x00\\x02<\\x00\\x00\\x00\\x04\\x10\\xe0\\x01\\x00\\x00 \\x80\\x00\\x0f\\x00\\x00\\x00\\x01\\x04x\\x00\\x00\\x00\\x08 \\xc0\\x03\\x00\\x00@\\x00\\x01\\x1e\\x00\\x00\\x00\\x02\\x08\\xf0\\x00\\x00\\x00\\x10@\\x80\\x07\\x00\\x00\\x80\\x00\\x02<\\x00\\x00\\x00\\x04\\x10\\xe0\\x01\\x00\\x00 \\x80\\x00\\x0f\\x00\\x00\\x00\\x01\\x04x\\x00\\x00\\x00\\x08 \\xc0\\x03\\x00\\x00@\\x00\\x01\\x1e\\x00\\x00\\x00\\x02\\x08\\xf0\\x00\\x00\\x00\\x10@\\x80\\x07\\x00\\x00\\x80\\x00\\x02<\\x00\\x00\\x00\\x04\\x10\\xe0\\x01\\x00\\x00 \\x80\\x00\\x0f\\x00\\x00\\x00\\x01\\x04x\\x00\\x00\\x00\\x08 \\xc0\\x03\\x00\\x00@\\x00\\x01\\x1e\\x00\\x00\\x00\\x02\\x08\\xf0\\x00\\x00\\x00\\x10@\\x80\\x07\\x00\\x00\\x80\\x00\\x02<\\x00\\x00\\x00\\x04\\x10\\xe0\\x01\\x00\\x00 \\x80\\x00\\x0f\\x00\\x00\\x00\\x01\\x04x\\x00\\x00\\x00\\x08 \\xc0\\x03\\x00\\x00@\\x00\\x01\\x1e\\x00\\x00\\x00\\x02\\x08\\xf0\\x00\\x00\\x00\\x10@\\x80\\x07\\x00\\x00\\x80\\x00\\x02<\\x00\\x00\\x00\\x04\\x10\\xe0\\x01\\x00\\x00 \\x80\\x00\\x0f\\x00\\x00\\x00\\x01\\x04x\\x00\\x00\\x00\\x08 \\xc0\\x03\\x00\\x00@\\x00\\x01\\x1e\\x00\\x00\\x00\\x02\\x08\\xf0\\x00\\x00\\x00\\x10@\\x80\\x07\\x00\\x00\\x80\\x00\\x02<\\x00\\x00\\x00\\x04\\x10\\xe0\\x01\\x00\\x00 \\x80\\x00\\x0f\\x00\\x00\\x00\\x01\\x04x\\x00\\x00\\x00\\x08 \\xc0\\x03\\x00\\x00@\\x00\\x01\\x1e\\x00\\x00\\x00\\x02\\x08\\xf0\\x00\\x00\\x00\\x10@\\x80\\x07\\x00\\x00\\x80\\x00\\x02<\\x00\\x00\\x00\\x04\\x10\\xe0\\x01\\x00\\x00 \\x80\\x00\\x0f\\x00\\x00\\x00\\x01\\x04x\\x00\\x00\\x00\\x08 \\xc0\\x03\\x00\\x00@\\x00\\x01\\x1e\\x00\\x00\\x00\\x02\\x08\\xf0\\x00\\x00\\x00\\x10@\\x80\\x07\\x00\\x00\\x80\\x00\\x02<\\x00\\x00\\x00\\x04\\x10\\xe0\\x01\\x00\\x00 \\x80\\x00\\x0f\\x00\\x00\\x00\\x01\\x04x\\x00\\x00\\x00\\x08 \\xc0\\x03\\x00\\x00@\\x00\\x01\\x1e\\x00\\x00\\x00\\x02\\x08\\xf0\\x00\\x00\\x00\\x10@\\x80\\x07\\x00\\x00\\x80\\x00\\x02<\\x00\\x00\\x00\\x04\\x10\\xe0\\x01\\x00\\x00 \\x80\\x00\\x0f\\x00\\x00\\x00\\x01\\x04x\\x00\\x00\\x00\\x08 \\xc0\\x03\\x00\\x00@\\x00\\x01\\x1e\\x00\\x00\\x00\\x02\\x08\\xf0\\x00\\x00\\x00\\x10@\\x80\\x07\\x00\\x00\\x80\\x00\\x02<\\x00\\x00\\x00\\x04\\x10\\xe0\\x01\\x00\\x00 \\x80\\x00\\x0f\\x00\\x00\\x00\\x01\\x04x\\x00\\x00\\x00\\x08 \\xc0\\x03\\x00\\x00@\\x00\\x01\\x1e\\x00\\x00\\x00\\x02\\x08\\xf0\\x00\\x00\\x00\\x10@\\x80\\x07\\x00\\x00\\x80\\x00\\x02<\\x00\\x00\\x00\\x04\\x10\\xe0\\x01\\x00\\x00 \\x80\\x00\\x0f\\x00\\x00\\x00\\x01\\x04x\\x00\\x00\\x00\\x08 \\xc0\\x03\\x00\\x00@\\x00\\x01\\x1e\\x00\\x00\\x00\\x02\\x08\\xf0\\x00\\x00\\x00\\x10@\\x80\\x07\\x00\\x00\\x80\\x00\\x02<\\x00\\x00\\x00\\x04\\x10\\xe0\\x01\\x00\\x00 \\x80\\x00\\x0f\\x00\\x00\\x00\\x01\\x04x\\x00\\x00\\x00\\x08 \\xc0\\x03\\x00\\x00@\\x00\\x01\\x1e\\x00\\x00\\x00\\x02\\x08\\xf0\\x00\\x00\\x00\\x10@\\x80\\x07\\x00\\x00\\x80\\x00\\x02<\\x00\\x00\\x00\\x04\\x10\\xe0\\x01\\x00\\x00 \\x80\\x00\\x0f\\x00\\x00\\x00\\x01\\x04x\\x00\\x00\\x00\\x08 \\xc0\\x03\\x00\\x00@\\x00\\x01\\x1e\\x00\\x00\\x00\\x02\\x08\\xf0\\x00\\x00\\x00\\x10@\\x80\\x07\\x00\\x00\\x80\\x00\\x02<\\x00\\x00\\x00\\x04\\x10\\xe0\\x01\\x00\\x00 \\x80\\x00\\x0f\\x00\\x00\\x00\\x01\\x04x\\x00\\x00\\x00\\x08 \\xc0\\x03\\x00\\x00@\\x00\\x01\\x1e\\x00\\x00\\x00\\x02\\x08\\xf0\\x00\\x00\\x00\\x10@\\x80\\x07\\x00\\x00\\x80\\x00\\x02<\\x00\\x00\\x00\\x04\\x10\\xe0\\x01\\x00\\x00 \\x80\\x00\\x0f\\x00\\x00\\x00\\x01\\x04x\\x00\\x00\\x00\\x08 \\xc0\\x03\\x00\\x00@\\x00\\x01\\x1e\\x00\\x00\\x00\\x02\\x08\\xf0\\x00\\x00\\x00\\x10@\\x80\\x07\\x00\\x00\\x80\\x00\\x02<\\x00\\x00\\x00\\x04\\x10\\xe0\\x01\\x00\\x00 \\x80\\x00\\x0f\\x00\\x00\\x00\\x01\\x04x\\x00\\x00\\x00\\x08 \\xc0\\x03\\x00\\x00@\\x00\\x01\\x1e\\x00\\x00\\x00\\x02\\x08\\xf0\\x00\\x00\\x00\\x10@\\x80\\x07\\x00\\x00\\x80\\x00\\x02<\\x00\\x00\\x00\\x04\\x10\\xe0\\x01\\x00\\x00 \\x80\\x00\\x0f\\x00\\x00\\x00\\x01\\x04x\\x00\\x00\\x00\\x08 \\xc0\\x03\\x00\\x00@\\x00\\x01\\x1e\\x00\\x00\\x00\\x02\\x08\\xf0\\x00\\x00\\x00\\x10@\\x80\\x07\\x00\\x00\\x80\\x00\\x02<\\x00\\x00\\x00\\x04\\x10\\xe0\\x01\\x00\\x00 \\x80\\x00\\x0f\\x00\\x00\\x00\\x01\\x04x\\x00\\x00\\x00\\x08 \\xc0\\x03\\x00\\x00@\\x00\\x01\\x1e\\x00\\x00\\x00\\x02\\x08\\xf0\\x00\\x00\\x00\\x10@\\x80\\x07\\x00\\x00\\x80\\x00\\x02<\\x00\\x00\\x00\\x04\\x10\\xe0\\x01\\x00\\x00 \\x80\\x00\\x0f\\x00\\x00\\x00\\x01\\x04x\\x00\\x00\\x00\\x08 \\xc0\\x03\\x00\\x00@\\x00\\x01\\x1e\\x00\\x00\\x00\\x02\\x08\\xf0\\x00\\x00\\x00\\x10@\\x80\\x07\\x00\\x00\\x80\\x00\\x02<\\x00\\x00\\x00\\x04\\x10\\xe0\\x01\\x00\\x00 \\x80\\x00\\x0f\\x00\\x00\\x00\\x01\\x04x\\x00\\x00\\x00\\x08 \\xc0\\x03\\x00\\x00@\\x00\\x01\\x1e\\x00\\x00\\x00\\x02\\x08\\xf0\\x00\\x00\\x00\\x10@\\x80\\x07\\x00\\x00\\x80\\x00\\x02<\\x00\\x00\\x00\\x04\\x10\\xe0\\x01\\x00\\x00 \\x80\\x00\\x0f\\x00\\x00\\x00\\x01\\x04x\\x00\\x00\\x00\\x08 \\xc0\\x03\\x00\\x00@\\x00\\x01\\x1e\\x00\\x00\\x00\\x02\\x08\\xf0\\x00\\x00\\x00\\x10@\\x80\\x07\\x00\\x00\\x80\\x00\\x02<\\x00\\x00\\x00\\x04\\x10\\xe0\\x01\\x00\\x00 \\x80\\x00\\x0f\\x00\\x00\\x00\\x01\\x04x\\x00\\x00\\x00\\x08 \\xc0\\x03\\x00\\x00@\\x00\\x01\\x1e\\x00\\x00\\x00\\x02\\x08\\xf0\\x00\\x00\\x00\\x10@\\x80\\x07\\x00\\x00\\x80\\x00\\x02<\\x00\\x00\\x00\\x04\\x10\\xe0\\x01\\x00\\x00 \\x80\\x00\\x0f\\x00\\x00\\x00\\x01\\x04x\\x00\\x00\\x00\\x08 \\xc0\\x03\\x00\\x00@\\x00\\x01\\x1e\\x00\\x00\\x00\\x02\\x08\\xf0\\x00\\x00\\x00\\x10@\\x80\\x07\\x00\\x00\\x80\\x00\\x02<\\x00\\x00\\x00\\x04\\x10\\xe0\\x01\\x00\\x00 \\x80\\x00\\x0f\\x00\\x00\\x00\\x01\\x04x\\x00\\x00\\x00\\x08 \\xc0\\x03\\x00\\x00@\\x00\\x01\\x1e\\x00\\x00\\x00\\x02\\x08\\xf0\\x00\\x00\\x00\\x10@\\x80\\x07\\x00\\x00\\x80\\x00\\x02<\\x00\\x00\\x00\\x04\\x10\\xe0\\x01\\x00\\x00 \\x80\\x00\\x0f\\x00\\x00\\x00\\x01\\x04x\\x00\\x00\\x00\\x08 \\xc0\\x03\\x00\\x00@\\x00\\x01\\x1e\\x00\\x00\\x00\\x02\\x08\\xf0\\x00\\x00\\x00\\x10@\\x80\\x07\\x00\\x00\\x80\\x00\\x02<\\x00\\x00\\x00\\x04\\x10\\xe0\\x01\\x00\\x00 \\x80\\x00\\x0f\\x00\\x00\\x00\\x01\\x04x\\x00\\x00\\x00\\x08 \\xc0\\x03\\x00\\x00@\\x00\\x01\\x1e\\x00\\x00\\x00\\x02\\x08\\xf0\\x00\\x00\\x00\\x10@\\x80\\x07\\x00\\x00\\x80\\x00\\x02<\\x00\\x00\\x00\\x04\\x10\\xe0\\x01\\x00\\x00 \\x80\\x00\\x0f\\x00\\x00\\x00\\x01\\x04x\\x00\\x00\\x00\\x08 \\xc0\\x03\\x00\\x00@\\x00\\x01\\x1e\\x00\\x00\\x00\\x02\\x08\\xf0\\x00\\x00\\x00\\x10@\\x80\\x07\\x00\\x00\\x80\\x00\\x02<\\x00\\x00\\x00\\x04\\x10\\xe0\\x01\\x00\\x00 \\x80\\x00\\x0f\\x00\\x00\\x00\\x01\\x04x\\x00\\x00\\x00\\x08 \\xc0\\x03\\x00\\x00@\\x00\\x01\\x1e\\x00\\x00\\x00\\x02\\x08\\xf0\\x00\\x00\\x00\\x10@\\x80\\x07\\x00\\x00\\x80\\x00\\x02<\\x00\\x00\\x00\\x04\\x10\\xe0\\x01\\x00\\x00 \\x80\\x00\\x0f\\x00\\x00\\x00\\x01\\x04x\\x00\\x00\\x00\\x08 \\xc0\\x03\\x00\\x00@\\x00\\x01\\x1e\\x00\\x00\\x00\\x02\\x08\\xf0\\x00\\x00\\x00\\x10@\\x80\\x07\\x00\\x00\\x80\\x00\\x02<\\x00\\x00\\x00\\x04\\x10\\xe0\\x01\\x00\\x00 \\x80\\x00\\x0f\\x00\\x00\\x00\\x01\\x04x\\x00\\x00\\x00\\x08 \\xc0\\x03\\x00\\x00@\\x00\\x01\\x1e\\x00\\x00\\x00\\x02\\x08\\xf0\\x00\\x00\\x00\\x10@\\x80\\x07\\x00\\x00\\x80\\x00\\x02<\\x00\\x00\\x00\\x04\\x10\\xe0\\x01\\x00\\x00 \\x80\\x00\\x0f\\x00\\x00\\x00\\x01\\x04x\\x00\\x00\\x00\\x08 \\xc0\\x03\\x00\\x00@\\x00\\x01\\x1e\\x00\\x00\\x00\\x02\\x08\\xf0\\x00\\x00\\x00\\x10@\\x80\\x07\\x00\\x00\\x80\\x00\\x02<\\x00\\x00\\x00\\x04\\x10\\xe0\\x01\\x00\\x00 \\x80\\x00\\x0f\\x00\\x00\\x00\\x01\\x04x\\x00\\x00\\x00\\x08 \\xc0\\x03\\x00\\x00@\\x00\\x01\\x1e\\x00\\x00\\x00\\x02\\x08\\xf0\\x00\\x00\\x00\\x10@\\x80\\x07\\x00\\x00\\x80\\x00\\x02<\\x00\\x00\\x00\\x04\\x10\\xe0\\x01\\x00\\x00 \\x80\\x00\\x0f\\x00\\x00\\x00\\x01\\x04x\\x00\\x00\\x00\\x08 \\xc0\\x03\\x00\\x00@\\x00\\x01\\x1e\\x00\\x00\\x00\\x02\\x08\\xf0\\x00\\x00\\x00\\x10@\\x80\\x07\\x00\\x00\\x80\\x00\\x02<\\x00\\x00\\x00\\x04\\x10\\xe0\\x01\\x00\\x00 \\x80\\x00\\x0f\\x00\\x00\\x00\\x01\\x04x\\x00\\x00\\x00\\x08 \\xc0\\x03\\x00\\x00@\\x00\\x01\\x1e\\x00\\x00\\x00\\x02\\x08\\xf0\\x00\\x00\\x00\\x10@\\x80\\x07\\x00\\x00\\x80\\x00\\x02<\\x00\\x00\\x00\\x04\\x10\\xe0\\x01\\x00\\x00 \\x80\\x00\\x0f\\x00\\x00\\x00\\x01\\x04x\\x00\\x00\\x00\\x08 \\xc0\\x03\\x00\\x00@\\x00\\x01\\x1e\\x00\\x00\\x00\\x02\\x08\\xf0\\x00\\x00\\x00\\x10@\\x80\\x07\\x00\\x00\\x80\\x00\\x02<\\x00\\x00\\x00\\x04\\x10\\xe0\\x01\\x00\\x00 \\x80\\x00\\x0f\\x00\\x00\\x00\\x01\\x04x\\x00\\x00\\x00\\x08 \\xc0\\x03\\x00\\x00@\\x00\\x01\\x1e\\x00\\x00\\x00\\x02\\x08\\xf0\\x00\\x00\\x00\\x10@\\x80\\x07\\x00\\x00\\x80\\x00\\x02<\\x00\\x00\\x00\\x04\\x10\\xe0\\x01\\x00\\x00 \\x80\\x00\\x0f\\x00\\x00\\x00\\x01\\x04x\\x00\\x00\\x00\\x08 \\xc0\\x03\\x00\\x00@\\x00\\x01\\x1e\\x00\\x00\\x00\\x02\\x08\\xf0\\x00\\x00\\x00\\x10@\\x80\\x07\\x00\\x00\\x80\\x00\\x02<\\x00\\x00\\x00\\x04\\x10\\xe0\\x01\\x00\\x00 \\x80\\x00\\x0f\\x00\\x00\\x00\\x01\\x04x\\x00\\x00\\x00\\x08 \\xc0\\x03\\x00\\x00@\\x00\\x01\\x1e\\x00\\x00\\x00\\x02\\x08\\xf0\\x00\\x00\\x00\\x10@\\x80\\x07\\x00\\x00\\x80\\x00\\x02<\\x00\\x00\\x00\\x04\\x10\\xe0\\x01\\x00\\x00 \\x80\\x00\\x0f\\x00\\x00\\x00\\x01\\x04x\\x00\\x00\\x00\\x08 \\xc0\\x03\\x00\\x00@\\x00\\x01\\x1e\\x00\\x00\\x00\\x02\\x08\\xf0\\x00\\x00\\x00\\x10@\\x80\\x07\\x00\\x00\\x80\\x00\\x02<\\x00\\x00\\x00\\x04\\x10\\xe0\\x01\\x00\\x00 \\x80\\x00\\x0f\\x00\\x00\\x00\\x01\\x04x\\x00\\x00\\x00\\x08 \\xc0\\x03\\x00\\x00@\\x00\\x01\\x1e\\x00\\x00\\x00\\x02\\x08\\xf0\\x00\\x00\\x00\\x10@\\x80\\x07\\x00\\x00\\x80\\x00\\x02<\\x00\\x00\\x00\\x04\\x10\\xe0\\x01\\x00\\x00 \\x80\\x00\\x0f\\x00\\x00\\x00\\x01\\x04x\\x00\\x00\\x00\\x08 \\xc0\\x03\\x00\\x00@\\x00\\x01\\x1e\\x00\\x00\\x00\\x02\\x08\\xf0\\x00\\x00\\x00\\x10@\\x80\\x07\\x00\\x00\\x80\\x00\\x02<\\x00\\x00\\x00\\x04\\x10\\xe0\\x01\\x00\\x00 \\x80\\x00\\x0f\\x00\\x00\\x00\\x01\\x04x\\x00\\x00\\x00\\x08 \\xc0\\x03\\x00\\x00@\\x00\\x01\\x1e\\x00\\x00\\x00\\x02\\x08\\xf0\\x00\\x00\\x00\\x10@\\x80\\x07\\x00\\x00\\x80\\x00\\x02<\\x00\\x00\\x00\\x04\\x10\\xe0\\x01\\x00\\x00 \\x80\\x00\\x0f\\x00\\x00\\x00\\x01\\x04x\\x00\\x00\\x00\\x08 \\xc0\\x03\\x00\\x00\\xc0\\xa7\\xf7\\xbf\\xff\\xfd\\x1fvZB\\xe5\\xac\\x87FC\\x00\\x00\\x00\\x00IEND\\xaeB`\\x82'\n"
     ]
    }
   ],
   "source": [
    "print(data)"
   ]
  },
  {
   "cell_type": "code",
   "execution_count": 10,
   "metadata": {},
   "outputs": [],
   "source": [
    "#R & D: open a file which is 4 times greater than your ram size and read it"
   ]
  },
  {
   "cell_type": "code",
   "execution_count": 11,
   "metadata": {},
   "outputs": [
    {
     "ename": "FileNotFoundError",
     "evalue": "[Errno 2] No such file or directory: 'give the file path which is 4 times greater than your ram size'",
     "output_type": "error",
     "traceback": [
      "\u001b[1;31m---------------------------------------------------------------------------\u001b[0m",
      "\u001b[1;31mFileNotFoundError\u001b[0m                         Traceback (most recent call last)",
      "\u001b[1;32m<ipython-input-11-0c5d01ab1da9>\u001b[0m in \u001b[0;36m<module>\u001b[1;34m\u001b[0m\n\u001b[1;32m----> 1\u001b[1;33m \u001b[0mf\u001b[0m\u001b[1;33m=\u001b[0m\u001b[0mopen\u001b[0m\u001b[1;33m(\u001b[0m\u001b[1;34m\"give the file path which is 4 times greater than your ram size\"\u001b[0m\u001b[1;33m,\u001b[0m \u001b[1;34m\"rb\"\u001b[0m\u001b[1;33m)\u001b[0m\u001b[1;33m\u001b[0m\u001b[1;33m\u001b[0m\u001b[0m\n\u001b[0m\u001b[0;32m      2\u001b[0m \u001b[0mdata\u001b[0m\u001b[1;33m=\u001b[0m\u001b[0mf\u001b[0m\u001b[1;33m.\u001b[0m\u001b[0mread\u001b[0m\u001b[1;33m(\u001b[0m\u001b[1;33m)\u001b[0m\u001b[1;33m\u001b[0m\u001b[1;33m\u001b[0m\u001b[0m\n",
      "\u001b[1;31mFileNotFoundError\u001b[0m: [Errno 2] No such file or directory: 'give the file path which is 4 times greater than your ram size'"
     ]
    }
   ],
   "source": [
    "f=open(\"give the file path which is 4 times greater than your ram size\", \"rb\")\n",
    "data=f.read()"
   ]
  },
  {
   "cell_type": "code",
   "execution_count": 1,
   "metadata": {},
   "outputs": [],
   "source": [
    "f=open(\"data.txt\",\"w\")# file not available in a specified path. It will create a new file."
   ]
  },
  {
   "cell_type": "code",
   "execution_count": 2,
   "metadata": {},
   "outputs": [
    {
     "data": {
      "text/plain": [
       "37"
      ]
     },
     "execution_count": 2,
     "metadata": {},
     "output_type": "execute_result"
    }
   ],
   "source": [
    "f.write(\"Newzeland payed will, but pak has win\")"
   ]
  },
  {
   "cell_type": "code",
   "execution_count": 3,
   "metadata": {},
   "outputs": [],
   "source": [
    "f.flush()"
   ]
  },
  {
   "cell_type": "code",
   "execution_count": 4,
   "metadata": {},
   "outputs": [
    {
     "data": {
      "text/plain": [
       "9"
      ]
     },
     "execution_count": 4,
     "metadata": {},
     "output_type": "execute_result"
    }
   ],
   "source": [
    "f.write(\"something\")"
   ]
  },
  {
   "cell_type": "code",
   "execution_count": 5,
   "metadata": {},
   "outputs": [],
   "source": [
    "f.close()"
   ]
  },
  {
   "cell_type": "code",
   "execution_count": 6,
   "metadata": {},
   "outputs": [
    {
     "ename": "ValueError",
     "evalue": "I/O operation on closed file.",
     "output_type": "error",
     "traceback": [
      "\u001b[1;31m---------------------------------------------------------------------------\u001b[0m",
      "\u001b[1;31mValueError\u001b[0m                                Traceback (most recent call last)",
      "\u001b[1;32m<ipython-input-6-4afd446a08bc>\u001b[0m in \u001b[0;36m<module>\u001b[1;34m\u001b[0m\n\u001b[1;32m----> 1\u001b[1;33m \u001b[0mf\u001b[0m\u001b[1;33m.\u001b[0m\u001b[0mwrite\u001b[0m\u001b[1;33m(\u001b[0m\u001b[1;34m\"sdfsdfs\"\u001b[0m\u001b[1;33m)\u001b[0m\u001b[1;33m\u001b[0m\u001b[1;33m\u001b[0m\u001b[0m\n\u001b[0m",
      "\u001b[1;31mValueError\u001b[0m: I/O operation on closed file."
     ]
    }
   ],
   "source": [
    "f.write(\"sdfsdfs\")"
   ]
  },
  {
   "cell_type": "code",
   "execution_count": 7,
   "metadata": {},
   "outputs": [
    {
     "name": "stdout",
     "output_type": "stream",
     "text": [
      "['_CHUNK_SIZE', '__class__', '__del__', '__delattr__', '__dict__', '__dir__', '__doc__', '__enter__', '__eq__', '__exit__', '__format__', '__ge__', '__getattribute__', '__gt__', '__hash__', '__init__', '__init_subclass__', '__iter__', '__le__', '__lt__', '__ne__', '__new__', '__next__', '__reduce__', '__reduce_ex__', '__repr__', '__setattr__', '__sizeof__', '__str__', '__subclasshook__', '_checkClosed', '_checkReadable', '_checkSeekable', '_checkWritable', '_finalizing', 'buffer', 'close', 'closed', 'detach', 'encoding', 'errors', 'fileno', 'flush', 'isatty', 'line_buffering', 'mode', 'name', 'newlines', 'read', 'readable', 'readline', 'readlines', 'reconfigure', 'seek', 'seekable', 'tell', 'truncate', 'writable', 'write', 'write_through', 'writelines']\n"
     ]
    }
   ],
   "source": [
    "print(dir(f))"
   ]
  },
  {
   "cell_type": "code",
   "execution_count": 8,
   "metadata": {},
   "outputs": [
    {
     "data": {
      "text/plain": [
       "'data.txt'"
      ]
     },
     "execution_count": 8,
     "metadata": {},
     "output_type": "execute_result"
    }
   ],
   "source": [
    "f.name"
   ]
  },
  {
   "cell_type": "code",
   "execution_count": 11,
   "metadata": {},
   "outputs": [
    {
     "data": {
      "text/plain": [
       "<_io.BufferedWriter name='data.txt'>"
      ]
     },
     "execution_count": 11,
     "metadata": {},
     "output_type": "execute_result"
    }
   ],
   "source": [
    "f.buffer"
   ]
  },
  {
   "cell_type": "code",
   "execution_count": 12,
   "metadata": {},
   "outputs": [
    {
     "data": {
      "text/plain": [
       "'w'"
      ]
     },
     "execution_count": 12,
     "metadata": {},
     "output_type": "execute_result"
    }
   ],
   "source": [
    "f.mode"
   ]
  },
  {
   "cell_type": "code",
   "execution_count": 13,
   "metadata": {},
   "outputs": [],
   "source": [
    "f=open(\"data.txt\")"
   ]
  },
  {
   "cell_type": "code",
   "execution_count": 14,
   "metadata": {},
   "outputs": [
    {
     "name": "stdout",
     "output_type": "stream",
     "text": [
      "['_CHUNK_SIZE', '__class__', '__del__', '__delattr__', '__dict__', '__dir__', '__doc__', '__enter__', '__eq__', '__exit__', '__format__', '__ge__', '__getattribute__', '__gt__', '__hash__', '__init__', '__init_subclass__', '__iter__', '__le__', '__lt__', '__ne__', '__new__', '__next__', '__reduce__', '__reduce_ex__', '__repr__', '__setattr__', '__sizeof__', '__str__', '__subclasshook__', '_checkClosed', '_checkReadable', '_checkSeekable', '_checkWritable', '_finalizing', 'buffer', 'close', 'closed', 'detach', 'encoding', 'errors', 'fileno', 'flush', 'isatty', 'line_buffering', 'mode', 'name', 'newlines', 'read', 'readable', 'readline', 'readlines', 'reconfigure', 'seek', 'seekable', 'tell', 'truncate', 'writable', 'write', 'write_through', 'writelines']\n"
     ]
    }
   ],
   "source": [
    "print(dir(f))"
   ]
  },
  {
   "cell_type": "code",
   "execution_count": 16,
   "metadata": {},
   "outputs": [
    {
     "data": {
      "text/plain": [
       "4"
      ]
     },
     "execution_count": 16,
     "metadata": {},
     "output_type": "execute_result"
    }
   ],
   "source": [
    "f.fileno()"
   ]
  },
  {
   "cell_type": "code",
   "execution_count": 17,
   "metadata": {},
   "outputs": [
    {
     "name": "stdout",
     "output_type": "stream",
     "text": [
      "Help on built-in function fileno:\n",
      "\n",
      "fileno() method of _io.TextIOWrapper instance\n",
      "    Returns underlying file descriptor if one exists.\n",
      "    \n",
      "    OSError is raised if the IO object does not use a file descriptor.\n",
      "\n"
     ]
    }
   ],
   "source": [
    "help(f.fileno)"
   ]
  },
  {
   "cell_type": "code",
   "execution_count": 18,
   "metadata": {},
   "outputs": [],
   "source": [
    "import os"
   ]
  },
  {
   "cell_type": "code",
   "execution_count": 20,
   "metadata": {},
   "outputs": [
    {
     "name": "stdout",
     "output_type": "stream",
     "text": [
      "['DirEntry', 'F_OK', 'MutableMapping', 'O_APPEND', 'O_BINARY', 'O_CREAT', 'O_EXCL', 'O_NOINHERIT', 'O_RANDOM', 'O_RDONLY', 'O_RDWR', 'O_SEQUENTIAL', 'O_SHORT_LIVED', 'O_TEMPORARY', 'O_TEXT', 'O_TRUNC', 'O_WRONLY', 'P_DETACH', 'P_NOWAIT', 'P_NOWAITO', 'P_OVERLAY', 'P_WAIT', 'PathLike', 'R_OK', 'SEEK_CUR', 'SEEK_END', 'SEEK_SET', 'TMP_MAX', 'W_OK', 'X_OK', '_AddedDllDirectory', '_Environ', '__all__', '__builtins__', '__cached__', '__doc__', '__file__', '__loader__', '__name__', '__package__', '__spec__', '_check_methods', '_execvpe', '_exists', '_exit', '_fspath', '_get_exports_list', '_putenv', '_unsetenv', '_wrap_close', 'abc', 'abort', 'access', 'add_dll_directory', 'altsep', 'chdir', 'chmod', 'close', 'closerange', 'cpu_count', 'curdir', 'defpath', 'device_encoding', 'devnull', 'dup', 'dup2', 'environ', 'error', 'execl', 'execle', 'execlp', 'execlpe', 'execv', 'execve', 'execvp', 'execvpe', 'extsep', 'fdopen', 'fsdecode', 'fsencode', 'fspath', 'fstat', 'fsync', 'ftruncate', 'get_exec_path', 'get_handle_inheritable', 'get_inheritable', 'get_terminal_size', 'getcwd', 'getcwdb', 'getenv', 'getlogin', 'getpid', 'getppid', 'isatty', 'kill', 'linesep', 'link', 'listdir', 'lseek', 'lstat', 'makedirs', 'mkdir', 'name', 'open', 'pardir', 'path', 'pathsep', 'pipe', 'popen', 'putenv', 'read', 'readlink', 'remove', 'removedirs', 'rename', 'renames', 'replace', 'rmdir', 'scandir', 'sep', 'set_handle_inheritable', 'set_inheritable', 'spawnl', 'spawnle', 'spawnv', 'spawnve', 'st', 'startfile', 'stat', 'stat_result', 'statvfs_result', 'strerror', 'supports_bytes_environ', 'supports_dir_fd', 'supports_effective_ids', 'supports_fd', 'supports_follow_symlinks', 'symlink', 'sys', 'system', 'terminal_size', 'times', 'times_result', 'truncate', 'umask', 'uname_result', 'unlink', 'urandom', 'utime', 'waitpid', 'walk', 'write']\n"
     ]
    }
   ],
   "source": [
    "print(dir(os))"
   ]
  },
  {
   "cell_type": "code",
   "execution_count": 21,
   "metadata": {},
   "outputs": [],
   "source": [
    "f=open(\"data.txt\",\"w\")# the file available in specified path. It's removed the previous data, given a fresh file.\n",
    "#NOTE: Dont practice file concept on your important files."
   ]
  },
  {
   "cell_type": "code",
   "execution_count": 22,
   "metadata": {},
   "outputs": [
    {
     "name": "stdout",
     "output_type": "stream",
     "text": [
      "[\"Today's Google doodle celebrates the life and legacy of Otto Wichterle, a Czech chemist\", 'who invented the soft contact lens, on his 108th birrthday. Wichterle was born on this day in 1913 in Prostejov,', ' the Czech Republic (then, Austria-Hungary).As a lover of science from his youth, Wichterle went on to earn his', ' doctorate in organic chemistry in 1936 from the Prague Institute of Chemical Technology (ICT). He taught as a', ' professor at his alma mater during the 1950s while developing an absorbent and transparent gel for eye implants.']\n"
     ]
    }
   ],
   "source": [
    "data=[\"Today's Google doodle celebrates the life and legacy of Otto Wichterle, a Czech chemist\",\n",
    "      \"who invented the soft contact lens, on his 108th birrthday. Wichterle was born on this day in 1913 in Prostejov,\",\n",
    "      \" the Czech Republic (then, Austria-Hungary).As a lover of science from his youth, Wichterle went on to earn his\",\n",
    "      \" doctorate in organic chemistry in 1936 from the Prague Institute of Chemical Technology (ICT). He taught as a\",\n",
    "      \" professor at his alma mater during the 1950s while developing an absorbent and transparent gel for eye implants.\"\n",
    "     ]\n",
    "print(data)\n",
    "\n"
   ]
  },
  {
   "cell_type": "code",
   "execution_count": 23,
   "metadata": {},
   "outputs": [
    {
     "ename": "TypeError",
     "evalue": "write() argument must be str, not list",
     "output_type": "error",
     "traceback": [
      "\u001b[1;31m---------------------------------------------------------------------------\u001b[0m",
      "\u001b[1;31mTypeError\u001b[0m                                 Traceback (most recent call last)",
      "\u001b[1;32m<ipython-input-23-163c3df09055>\u001b[0m in \u001b[0;36m<module>\u001b[1;34m\u001b[0m\n\u001b[1;32m----> 1\u001b[1;33m \u001b[0mf\u001b[0m\u001b[1;33m.\u001b[0m\u001b[0mwrite\u001b[0m\u001b[1;33m(\u001b[0m\u001b[0mdata\u001b[0m\u001b[1;33m)\u001b[0m\u001b[1;33m\u001b[0m\u001b[1;33m\u001b[0m\u001b[0m\n\u001b[0m",
      "\u001b[1;31mTypeError\u001b[0m: write() argument must be str, not list"
     ]
    }
   ],
   "source": [
    "f.write(data)"
   ]
  },
  {
   "cell_type": "code",
   "execution_count": 24,
   "metadata": {},
   "outputs": [],
   "source": [
    "f=open(\"data.txt\",\"w\")\n",
    "data=[\"Today's Google doodle celebrates the life and legacy of Otto Wichterle, a Czech chemist\",\n",
    "      \"who invented the soft contact lens, on his 108th birrthday. Wichterle was born on this day in 1913 in Prostejov,\",\n",
    "      \" the Czech Republic (then, Austria-Hungary).As a lover of science from his youth, Wichterle went on to earn his\",\n",
    "      \" doctorate in organic chemistry in 1936 from the Prague Institute of Chemical Technology (ICT). He taught as a\",\n",
    "      \" professor at his alma mater during the 1950s while developing an absorbent and transparent gel for eye implants.\"\n",
    "     ]\n",
    "f.writelines(data)\n",
    "f.close()"
   ]
  },
  {
   "cell_type": "code",
   "execution_count": 25,
   "metadata": {},
   "outputs": [],
   "source": [
    "f=open(\"data.txt\",\"w\")\n",
    "data=[\"Today's Google doodle celebrates the life and legacy of Otto Wichterle, a Czech chemist\\n\",\n",
    "      \"who invented the soft contact lens, on his 108th birrthday. Wichterle was born on this day in 1913 in Prostejov,\\n\",\n",
    "      \" the Czech Republic (then, Austria-Hungary).As a lover of science from his youth, Wichterle went on to earn his\\n\",\n",
    "      \" doctorate in organic chemistry in 1936 from the Prague Institute of Chemical Technology (ICT). He taught as a\\n\",\n",
    "      \" professor at his alma mater during the 1950s while developing an absorbent and transparent gel for eye implants.\\n\"\n",
    "     ]\n",
    "f.writelines(data)\n",
    "f.close()"
   ]
  },
  {
   "cell_type": "code",
   "execution_count": 26,
   "metadata": {},
   "outputs": [],
   "source": [
    "f=open(\"data.txt\",\"a\")\n",
    "data=[\"Happy birthday, Otto Wichterle - thanks for helping the world see eye to eye.\\n\"]\n",
    "f.writelines(data)\n",
    "f.close()"
   ]
  },
  {
   "cell_type": "code",
   "execution_count": 27,
   "metadata": {},
   "outputs": [],
   "source": [
    "f=open(\"python architecture.png\",\"rb\")\n",
    "data=f.read()\n",
    "f.close()\n",
    "f=open(\"biggile.png\",\"wb\")\n",
    "f.write(data)\n",
    "f.write(data)\n",
    "f.close()\n"
   ]
  },
  {
   "cell_type": "code",
   "execution_count": 28,
   "metadata": {},
   "outputs": [],
   "source": [
    "f=open(\"python architecture.png\",\"rb\")\n",
    "data=f.read()\n",
    "f.close()\n",
    "f=open(\"biggile.png\",\"wb\")\n",
    "for i in range(10):\n",
    "    f.write(data)\n",
    "f.close()\n"
   ]
  },
  {
   "cell_type": "code",
   "execution_count": null,
   "metadata": {},
   "outputs": [],
   "source": [
    "f=open(\"python architecture.png\",\"rb\")\n",
    "data=f.read()\n",
    "f.close()\n",
    "f=open(\"biggile.png\",\"wb\")\n",
    "for i in range(10000000):\n",
    "    f.write(data)\n",
    "f.close()"
   ]
  },
  {
   "cell_type": "code",
   "execution_count": 29,
   "metadata": {},
   "outputs": [
    {
     "data": {
      "text/plain": [
       "48.63739013671875"
      ]
     },
     "execution_count": 29,
     "metadata": {},
     "output_type": "execute_result"
    }
   ],
   "source": [
    "51000000/(1024*1024)"
   ]
  },
  {
   "cell_type": "code",
   "execution_count": null,
   "metadata": {},
   "outputs": [],
   "source": [
    "f=open(\"python architecture.png\",\"rb\")\n",
    "data=f.read()\n",
    "f.close()\n",
    "f=open(\"biggile.png\",\"wb\")\n",
    "for i in range(10000000):\n",
    "    f.write(data)# it will write in to cache. you should have 48 GB cache in your machine.\n",
    "f.close()"
   ]
  },
  {
   "cell_type": "code",
   "execution_count": null,
   "metadata": {},
   "outputs": [],
   "source": [
    "f=open(\"python architecture.png\",\"rb\")\n",
    "data=f.read()\n",
    "f.close()\n",
    "f=open(\"biggile.png\",\"wb\")\n",
    "for i in range(10000000):\n",
    "    f.write(data)# it will store 51 KB data in to cache\n",
    "    f.flush()# it will remove data from cache(RAM) and add in to actual file(HDD).\n",
    "f.close()"
   ]
  },
  {
   "cell_type": "code",
   "execution_count": 33,
   "metadata": {},
   "outputs": [],
   "source": [
    "import names\n",
    "import random\n",
    "f=open(\"data.csv\",\"w\")\n",
    "f.write(\"id,name,salary\\n\")\n",
    "for i in range(100):\n",
    "    row = \"%s,%s,%s\\n\"%(i, names.get_full_name(),random.randint(2000000,3000000))\n",
    "    f.write(row)\n",
    "    f.flush()\n",
    "f.close()"
   ]
  },
  {
   "cell_type": "code",
   "execution_count": 34,
   "metadata": {},
   "outputs": [
    {
     "ename": "TypeError",
     "evalue": "write() argument must be str, not list",
     "output_type": "error",
     "traceback": [
      "\u001b[1;31m---------------------------------------------------------------------------\u001b[0m",
      "\u001b[1;31mTypeError\u001b[0m                                 Traceback (most recent call last)",
      "\u001b[1;32m<ipython-input-34-e88fedc5c2c2>\u001b[0m in \u001b[0;36m<module>\u001b[1;34m\u001b[0m\n\u001b[0;32m      1\u001b[0m \u001b[0mdata\u001b[0m \u001b[1;33m=\u001b[0m \u001b[1;33m[\u001b[0m\u001b[1;33m{\u001b[0m\u001b[1;34m\"name\"\u001b[0m\u001b[1;33m:\u001b[0m\u001b[1;34m\"jay\"\u001b[0m\u001b[1;33m,\u001b[0m\u001b[1;34m\"age\"\u001b[0m\u001b[1;33m:\u001b[0m\u001b[1;36m5\u001b[0m\u001b[1;33m,\u001b[0m\u001b[1;34m\"weight\"\u001b[0m\u001b[1;33m:\u001b[0m\u001b[1;36m18\u001b[0m\u001b[1;33m}\u001b[0m\u001b[1;33m,\u001b[0m\u001b[1;33m{\u001b[0m\u001b[1;34m\"name\"\u001b[0m\u001b[1;33m:\u001b[0m\u001b[1;34m\"vedha\"\u001b[0m\u001b[1;33m,\u001b[0m\u001b[1;34m\"age\"\u001b[0m\u001b[1;33m:\u001b[0m\u001b[1;36m4\u001b[0m\u001b[1;33m,\u001b[0m\u001b[1;34m\"weight\"\u001b[0m\u001b[1;33m:\u001b[0m\u001b[1;36m14\u001b[0m\u001b[1;33m}\u001b[0m\u001b[1;33m]\u001b[0m\u001b[1;33m\u001b[0m\u001b[1;33m\u001b[0m\u001b[0m\n\u001b[0;32m      2\u001b[0m \u001b[0mf\u001b[0m\u001b[1;33m=\u001b[0m\u001b[0mopen\u001b[0m\u001b[1;33m(\u001b[0m\u001b[1;34m\"personinfo.txt\"\u001b[0m\u001b[1;33m,\u001b[0m\u001b[1;34m\"w\"\u001b[0m\u001b[1;33m)\u001b[0m\u001b[1;33m\u001b[0m\u001b[1;33m\u001b[0m\u001b[0m\n\u001b[1;32m----> 3\u001b[1;33m \u001b[0mf\u001b[0m\u001b[1;33m.\u001b[0m\u001b[0mwrite\u001b[0m\u001b[1;33m(\u001b[0m\u001b[0mdata\u001b[0m\u001b[1;33m)\u001b[0m\u001b[1;33m\u001b[0m\u001b[1;33m\u001b[0m\u001b[0m\n\u001b[0m\u001b[0;32m      4\u001b[0m \u001b[0mf\u001b[0m\u001b[1;33m.\u001b[0m\u001b[0mclose\u001b[0m\u001b[1;33m(\u001b[0m\u001b[1;33m)\u001b[0m\u001b[1;33m\u001b[0m\u001b[1;33m\u001b[0m\u001b[0m\n",
      "\u001b[1;31mTypeError\u001b[0m: write() argument must be str, not list"
     ]
    }
   ],
   "source": [
    "data = [{\"name\":\"jay\",\"age\":5,\"weight\":18},{\"name\":\"vedha\",\"age\":4,\"weight\":14}]\n",
    "f=open(\"personinfo.txt\",\"w\")\n",
    "f.write(data)\n",
    "f.close()"
   ]
  },
  {
   "cell_type": "code",
   "execution_count": 35,
   "metadata": {},
   "outputs": [
    {
     "ename": "TypeError",
     "evalue": "write() argument must be str, not dict",
     "output_type": "error",
     "traceback": [
      "\u001b[1;31m---------------------------------------------------------------------------\u001b[0m",
      "\u001b[1;31mTypeError\u001b[0m                                 Traceback (most recent call last)",
      "\u001b[1;32m<ipython-input-35-6458e0cde794>\u001b[0m in \u001b[0;36m<module>\u001b[1;34m\u001b[0m\n\u001b[0;32m      1\u001b[0m \u001b[0mdata\u001b[0m \u001b[1;33m=\u001b[0m \u001b[1;33m[\u001b[0m\u001b[1;33m{\u001b[0m\u001b[1;34m\"name\"\u001b[0m\u001b[1;33m:\u001b[0m\u001b[1;34m\"jay\"\u001b[0m\u001b[1;33m,\u001b[0m\u001b[1;34m\"age\"\u001b[0m\u001b[1;33m:\u001b[0m\u001b[1;36m5\u001b[0m\u001b[1;33m,\u001b[0m\u001b[1;34m\"weight\"\u001b[0m\u001b[1;33m:\u001b[0m\u001b[1;36m18\u001b[0m\u001b[1;33m}\u001b[0m\u001b[1;33m,\u001b[0m\u001b[1;33m{\u001b[0m\u001b[1;34m\"name\"\u001b[0m\u001b[1;33m:\u001b[0m\u001b[1;34m\"vedha\"\u001b[0m\u001b[1;33m,\u001b[0m\u001b[1;34m\"age\"\u001b[0m\u001b[1;33m:\u001b[0m\u001b[1;36m4\u001b[0m\u001b[1;33m,\u001b[0m\u001b[1;34m\"weight\"\u001b[0m\u001b[1;33m:\u001b[0m\u001b[1;36m14\u001b[0m\u001b[1;33m}\u001b[0m\u001b[1;33m]\u001b[0m\u001b[1;33m\u001b[0m\u001b[1;33m\u001b[0m\u001b[0m\n\u001b[0;32m      2\u001b[0m \u001b[0mf\u001b[0m\u001b[1;33m=\u001b[0m\u001b[0mopen\u001b[0m\u001b[1;33m(\u001b[0m\u001b[1;34m\"personinfo.txt\"\u001b[0m\u001b[1;33m,\u001b[0m\u001b[1;34m\"w\"\u001b[0m\u001b[1;33m)\u001b[0m\u001b[1;33m\u001b[0m\u001b[1;33m\u001b[0m\u001b[0m\n\u001b[1;32m----> 3\u001b[1;33m \u001b[0mf\u001b[0m\u001b[1;33m.\u001b[0m\u001b[0mwritelines\u001b[0m\u001b[1;33m(\u001b[0m\u001b[0mdata\u001b[0m\u001b[1;33m)\u001b[0m\u001b[1;33m\u001b[0m\u001b[1;33m\u001b[0m\u001b[0m\n\u001b[0m\u001b[0;32m      4\u001b[0m \u001b[0mf\u001b[0m\u001b[1;33m.\u001b[0m\u001b[0mclose\u001b[0m\u001b[1;33m(\u001b[0m\u001b[1;33m)\u001b[0m\u001b[1;33m\u001b[0m\u001b[1;33m\u001b[0m\u001b[0m\n",
      "\u001b[1;31mTypeError\u001b[0m: write() argument must be str, not dict"
     ]
    }
   ],
   "source": [
    "data = [{\"name\":\"jay\",\"age\":5,\"weight\":18},{\"name\":\"vedha\",\"age\":4,\"weight\":14}]\n",
    "f=open(\"personinfo.txt\",\"w\")\n",
    "f.writelines(data)\n",
    "f.close()"
   ]
  },
  {
   "cell_type": "code",
   "execution_count": 36,
   "metadata": {},
   "outputs": [],
   "source": [
    "data = [{\"name\":\"jay\",\"age\":5,\"weight\":18},{\"name\":\"vedha\",\"age\":4,\"weight\":14}]\n",
    "f=open(\"personinfo.txt\",\"w\")\n",
    "f.write(str(data))\n",
    "f.close()"
   ]
  },
  {
   "cell_type": "code",
   "execution_count": 37,
   "metadata": {},
   "outputs": [
    {
     "name": "stdout",
     "output_type": "stream",
     "text": [
      "[{'name': 'jay', 'age': 5, 'weight': 18}, {'name': 'vedha', 'age': 4, 'weight': 14}]\n"
     ]
    }
   ],
   "source": [
    "f=open(\"personinfo.txt\",\"r\")\n",
    "data=f.read()\n",
    "print(data)\n",
    "f.close()"
   ]
  },
  {
   "cell_type": "code",
   "execution_count": 38,
   "metadata": {},
   "outputs": [
    {
     "name": "stdout",
     "output_type": "stream",
     "text": [
      "<class 'str'>\n"
     ]
    }
   ],
   "source": [
    "print(type(data))"
   ]
  },
  {
   "cell_type": "code",
   "execution_count": 39,
   "metadata": {},
   "outputs": [
    {
     "name": "stdout",
     "output_type": "stream",
     "text": [
      "[\n"
     ]
    }
   ],
   "source": [
    "for i in data:\n",
    "    print(i)\n",
    "    break"
   ]
  },
  {
   "cell_type": "code",
   "execution_count": 40,
   "metadata": {},
   "outputs": [
    {
     "ename": "JSONDecodeError",
     "evalue": "Expecting property name enclosed in double quotes: line 1 column 3 (char 2)",
     "output_type": "error",
     "traceback": [
      "\u001b[1;31m---------------------------------------------------------------------------\u001b[0m",
      "\u001b[1;31mJSONDecodeError\u001b[0m                           Traceback (most recent call last)",
      "\u001b[1;32m<ipython-input-40-a1ee25898ed9>\u001b[0m in \u001b[0;36m<module>\u001b[1;34m\u001b[0m\n\u001b[0;32m      1\u001b[0m \u001b[1;32mimport\u001b[0m \u001b[0mjson\u001b[0m\u001b[1;33m\u001b[0m\u001b[1;33m\u001b[0m\u001b[0m\n\u001b[1;32m----> 2\u001b[1;33m \u001b[0mdata1\u001b[0m\u001b[1;33m=\u001b[0m\u001b[0mjson\u001b[0m\u001b[1;33m.\u001b[0m\u001b[0mloads\u001b[0m\u001b[1;33m(\u001b[0m\u001b[0mdata\u001b[0m\u001b[1;33m)\u001b[0m\u001b[1;33m\u001b[0m\u001b[1;33m\u001b[0m\u001b[0m\n\u001b[0m",
      "\u001b[1;32mc:\\python38\\lib\\json\\__init__.py\u001b[0m in \u001b[0;36mloads\u001b[1;34m(s, cls, object_hook, parse_float, parse_int, parse_constant, object_pairs_hook, **kw)\u001b[0m\n\u001b[0;32m    355\u001b[0m             \u001b[0mparse_int\u001b[0m \u001b[1;32mis\u001b[0m \u001b[1;32mNone\u001b[0m \u001b[1;32mand\u001b[0m \u001b[0mparse_float\u001b[0m \u001b[1;32mis\u001b[0m \u001b[1;32mNone\u001b[0m \u001b[1;32mand\u001b[0m\u001b[1;33m\u001b[0m\u001b[1;33m\u001b[0m\u001b[0m\n\u001b[0;32m    356\u001b[0m             parse_constant is None and object_pairs_hook is None and not kw):\n\u001b[1;32m--> 357\u001b[1;33m         \u001b[1;32mreturn\u001b[0m \u001b[0m_default_decoder\u001b[0m\u001b[1;33m.\u001b[0m\u001b[0mdecode\u001b[0m\u001b[1;33m(\u001b[0m\u001b[0ms\u001b[0m\u001b[1;33m)\u001b[0m\u001b[1;33m\u001b[0m\u001b[1;33m\u001b[0m\u001b[0m\n\u001b[0m\u001b[0;32m    358\u001b[0m     \u001b[1;32mif\u001b[0m \u001b[0mcls\u001b[0m \u001b[1;32mis\u001b[0m \u001b[1;32mNone\u001b[0m\u001b[1;33m:\u001b[0m\u001b[1;33m\u001b[0m\u001b[1;33m\u001b[0m\u001b[0m\n\u001b[0;32m    359\u001b[0m         \u001b[0mcls\u001b[0m \u001b[1;33m=\u001b[0m \u001b[0mJSONDecoder\u001b[0m\u001b[1;33m\u001b[0m\u001b[1;33m\u001b[0m\u001b[0m\n",
      "\u001b[1;32mc:\\python38\\lib\\json\\decoder.py\u001b[0m in \u001b[0;36mdecode\u001b[1;34m(self, s, _w)\u001b[0m\n\u001b[0;32m    335\u001b[0m \u001b[1;33m\u001b[0m\u001b[0m\n\u001b[0;32m    336\u001b[0m         \"\"\"\n\u001b[1;32m--> 337\u001b[1;33m         \u001b[0mobj\u001b[0m\u001b[1;33m,\u001b[0m \u001b[0mend\u001b[0m \u001b[1;33m=\u001b[0m \u001b[0mself\u001b[0m\u001b[1;33m.\u001b[0m\u001b[0mraw_decode\u001b[0m\u001b[1;33m(\u001b[0m\u001b[0ms\u001b[0m\u001b[1;33m,\u001b[0m \u001b[0midx\u001b[0m\u001b[1;33m=\u001b[0m\u001b[0m_w\u001b[0m\u001b[1;33m(\u001b[0m\u001b[0ms\u001b[0m\u001b[1;33m,\u001b[0m \u001b[1;36m0\u001b[0m\u001b[1;33m)\u001b[0m\u001b[1;33m.\u001b[0m\u001b[0mend\u001b[0m\u001b[1;33m(\u001b[0m\u001b[1;33m)\u001b[0m\u001b[1;33m)\u001b[0m\u001b[1;33m\u001b[0m\u001b[1;33m\u001b[0m\u001b[0m\n\u001b[0m\u001b[0;32m    338\u001b[0m         \u001b[0mend\u001b[0m \u001b[1;33m=\u001b[0m \u001b[0m_w\u001b[0m\u001b[1;33m(\u001b[0m\u001b[0ms\u001b[0m\u001b[1;33m,\u001b[0m \u001b[0mend\u001b[0m\u001b[1;33m)\u001b[0m\u001b[1;33m.\u001b[0m\u001b[0mend\u001b[0m\u001b[1;33m(\u001b[0m\u001b[1;33m)\u001b[0m\u001b[1;33m\u001b[0m\u001b[1;33m\u001b[0m\u001b[0m\n\u001b[0;32m    339\u001b[0m         \u001b[1;32mif\u001b[0m \u001b[0mend\u001b[0m \u001b[1;33m!=\u001b[0m \u001b[0mlen\u001b[0m\u001b[1;33m(\u001b[0m\u001b[0ms\u001b[0m\u001b[1;33m)\u001b[0m\u001b[1;33m:\u001b[0m\u001b[1;33m\u001b[0m\u001b[1;33m\u001b[0m\u001b[0m\n",
      "\u001b[1;32mc:\\python38\\lib\\json\\decoder.py\u001b[0m in \u001b[0;36mraw_decode\u001b[1;34m(self, s, idx)\u001b[0m\n\u001b[0;32m    351\u001b[0m         \"\"\"\n\u001b[0;32m    352\u001b[0m         \u001b[1;32mtry\u001b[0m\u001b[1;33m:\u001b[0m\u001b[1;33m\u001b[0m\u001b[1;33m\u001b[0m\u001b[0m\n\u001b[1;32m--> 353\u001b[1;33m             \u001b[0mobj\u001b[0m\u001b[1;33m,\u001b[0m \u001b[0mend\u001b[0m \u001b[1;33m=\u001b[0m \u001b[0mself\u001b[0m\u001b[1;33m.\u001b[0m\u001b[0mscan_once\u001b[0m\u001b[1;33m(\u001b[0m\u001b[0ms\u001b[0m\u001b[1;33m,\u001b[0m \u001b[0midx\u001b[0m\u001b[1;33m)\u001b[0m\u001b[1;33m\u001b[0m\u001b[1;33m\u001b[0m\u001b[0m\n\u001b[0m\u001b[0;32m    354\u001b[0m         \u001b[1;32mexcept\u001b[0m \u001b[0mStopIteration\u001b[0m \u001b[1;32mas\u001b[0m \u001b[0merr\u001b[0m\u001b[1;33m:\u001b[0m\u001b[1;33m\u001b[0m\u001b[1;33m\u001b[0m\u001b[0m\n\u001b[0;32m    355\u001b[0m             \u001b[1;32mraise\u001b[0m \u001b[0mJSONDecodeError\u001b[0m\u001b[1;33m(\u001b[0m\u001b[1;34m\"Expecting value\"\u001b[0m\u001b[1;33m,\u001b[0m \u001b[0ms\u001b[0m\u001b[1;33m,\u001b[0m \u001b[0merr\u001b[0m\u001b[1;33m.\u001b[0m\u001b[0mvalue\u001b[0m\u001b[1;33m)\u001b[0m \u001b[1;32mfrom\u001b[0m \u001b[1;32mNone\u001b[0m\u001b[1;33m\u001b[0m\u001b[1;33m\u001b[0m\u001b[0m\n",
      "\u001b[1;31mJSONDecodeError\u001b[0m: Expecting property name enclosed in double quotes: line 1 column 3 (char 2)"
     ]
    }
   ],
   "source": [
    "import json\n",
    "data1=json.loads(data)"
   ]
  },
  {
   "cell_type": "code",
   "execution_count": 41,
   "metadata": {},
   "outputs": [],
   "source": [
    "import json\n",
    "data1=json.loads(data.replace(\"'\",'\"'))"
   ]
  },
  {
   "cell_type": "code",
   "execution_count": 42,
   "metadata": {},
   "outputs": [
    {
     "name": "stdout",
     "output_type": "stream",
     "text": [
      "[{'name': 'jay', 'age': 5, 'weight': 18}, {'name': 'vedha', 'age': 4, 'weight': 14}] <class 'list'>\n"
     ]
    }
   ],
   "source": [
    "print(data1, type(data1))"
   ]
  },
  {
   "cell_type": "code",
   "execution_count": 45,
   "metadata": {},
   "outputs": [],
   "source": [
    "import pickle\n",
    "data = [{\"name\":\"jay\",\"age\":5,\"weight\":18},{\"name\":\"vedha\",\"age\":4,\"weight\":14}]\n",
    "f=open(\"data1.txt\",\"wb\")\n",
    "pickle.dump(data, f)\n",
    "f.close()"
   ]
  },
  {
   "cell_type": "code",
   "execution_count": 46,
   "metadata": {},
   "outputs": [
    {
     "name": "stdout",
     "output_type": "stream",
     "text": [
      "€\u0004•?\u0000\u0000\u0000\u0000\u0000\u0000\u0000]”(}”(Œ\u0004name”Œ\u0003jay”Œ\u0003age”K\u0005Œ\u0006weight”K\u0012u}”(h\u0002Œ\u0005vedha”h\u0004K\u0004h\u0005K\u000eue.\n"
     ]
    }
   ],
   "source": [
    "f=open(\"data1.txt\",\"r\")\n",
    "print(f.read())\n",
    "f.close()"
   ]
  },
  {
   "cell_type": "code",
   "execution_count": 48,
   "metadata": {},
   "outputs": [
    {
     "name": "stdout",
     "output_type": "stream",
     "text": [
      "[{'name': 'jay', 'age': 5, 'weight': 18}, {'name': 'vedha', 'age': 4, 'weight': 14}] <class 'list'>\n"
     ]
    }
   ],
   "source": [
    "f=open(\"data1.txt\",\"rb\")\n",
    "dat = pickle.load(f)\n",
    "print(dat, type(dat))"
   ]
  },
  {
   "cell_type": "code",
   "execution_count": 49,
   "metadata": {},
   "outputs": [],
   "source": [
    "data = [{\"name\":\"jay\",\"age\":5,\"weight\":18},{\"name\":\"vedha\",\"age\":4,\"weight\":14}]\n",
    "import json\n",
    "f=open(\"data.json\",\"w\")\n",
    "json.dump(data,f)\n",
    "f.close()"
   ]
  },
  {
   "cell_type": "code",
   "execution_count": 50,
   "metadata": {},
   "outputs": [
    {
     "name": "stdout",
     "output_type": "stream",
     "text": [
      "[{'name': 'jay', 'age': 5, 'weight': 18}, {'name': 'vedha', 'age': 4, 'weight': 14}] <class 'list'>\n"
     ]
    }
   ],
   "source": [
    "f=open(\"data.json\",\"r\")\n",
    "data = json.load(f)\n",
    "f.close()\n",
    "print(data, type(data))"
   ]
  },
  {
   "cell_type": "code",
   "execution_count": 51,
   "metadata": {},
   "outputs": [],
   "source": [
    "data = [{\"name\":\"jay\",\"age\":5,\"weight\":18},{\"name\":\"vedha\",\"age\":4,\"weight\":14}]\n",
    "import yaml\n",
    "f=open(\"data.yaml\",\"w\")\n",
    "yaml.dump(data,f)\n",
    "f.close()"
   ]
  },
  {
   "cell_type": "code",
   "execution_count": 52,
   "metadata": {},
   "outputs": [
    {
     "name": "stdout",
     "output_type": "stream",
     "text": [
      "[{'name': 'jay', 'age': 5, 'weight': 18}, {'name': 'vedha', 'age': 4, 'weight': 14}] <class 'list'>\n"
     ]
    },
    {
     "name": "stderr",
     "output_type": "stream",
     "text": [
      "<ipython-input-52-0f4d2a3b9267>:2: YAMLLoadWarning: calling yaml.load() without Loader=... is deprecated, as the default Loader is unsafe. Please read https://msg.pyyaml.org/load for full details.\n",
      "  data = yaml.load(f)\n"
     ]
    }
   ],
   "source": [
    "f=open(\"data.json\",\"r\")\n",
    "data = yaml.load(f)\n",
    "f.close()\n",
    "print(data, type(data))"
   ]
  },
  {
   "cell_type": "code",
   "execution_count": 1,
   "metadata": {},
   "outputs": [],
   "source": [
    "# computer vision.\n",
    "#open cv"
   ]
  },
  {
   "cell_type": "code",
   "execution_count": 2,
   "metadata": {},
   "outputs": [
    {
     "name": "stdout",
     "output_type": "stream",
     "text": [
      "Today's Google doodle celebrates the life and legacy of Otto Wichterle, a Czech chemist\n",
      "who invented the soft contact lens, on his 108th birrthday. Wichterle was born on this day in 1913 in Prostejov,\n",
      " the Czech Republic (then, Austria-Hungary).As a lover of science from his youth, Wichterle went on to earn his\n",
      " doctorate in organic chemistry in 1936 from the Prague Institute of Chemical Technology (ICT). He taught as a\n",
      " professor at his alma mater during the 1950s while developing an absorbent and transparent gel for eye implants.\n",
      "Happy birthday, Otto Wichterle - thanks for helping the world see eye to eye.\n",
      "\n"
     ]
    }
   ],
   "source": [
    "f=open(\"data.txt\",\"r\")\n",
    "data = f.read()\n",
    "print(data)"
   ]
  },
  {
   "cell_type": "code",
   "execution_count": 3,
   "metadata": {},
   "outputs": [
    {
     "name": "stdout",
     "output_type": "stream",
     "text": [
      "Today's Google doodle celebrates the life and legacy of Otto Wichterle, a Czech chemist\n",
      "\n"
     ]
    }
   ],
   "source": [
    "f=open(\"data.txt\",\"r\")\n",
    "data = f.readline()\n",
    "print(data)"
   ]
  },
  {
   "cell_type": "code",
   "execution_count": 4,
   "metadata": {},
   "outputs": [
    {
     "name": "stdout",
     "output_type": "stream",
     "text": [
      "who invented the soft contact lens, on his 108th birrthday. Wichterle was born on this day in 1913 in Prostejov,\n",
      "\n"
     ]
    }
   ],
   "source": [
    "data = f.readline()\n",
    "print(data)"
   ]
  },
  {
   "cell_type": "code",
   "execution_count": 6,
   "metadata": {},
   "outputs": [
    {
     "name": "stdout",
     "output_type": "stream",
     "text": [
      " doctorate in organic chemistry in 1936 from the Prague Institute of Chemical Technology (ICT). He taught as a\n",
      "\n"
     ]
    }
   ],
   "source": [
    "data = f.readline()\n",
    "print(data)"
   ]
  },
  {
   "cell_type": "code",
   "execution_count": 7,
   "metadata": {},
   "outputs": [
    {
     "name": "stdout",
     "output_type": "stream",
     "text": [
      " professor at his alma mater during the 1950s while developing an absorbent and transparent gel for eye implants.\n",
      "\n"
     ]
    }
   ],
   "source": [
    "data = f.readline()\n",
    "print(data)"
   ]
  },
  {
   "cell_type": "code",
   "execution_count": 8,
   "metadata": {},
   "outputs": [
    {
     "name": "stdout",
     "output_type": "stream",
     "text": [
      "Happy birthday, Otto Wichterle - thanks for helping the world see eye to eye.\n",
      "\n"
     ]
    }
   ],
   "source": [
    "data = f.readline()\n",
    "print(data)"
   ]
  },
  {
   "cell_type": "code",
   "execution_count": 9,
   "metadata": {},
   "outputs": [
    {
     "name": "stdout",
     "output_type": "stream",
     "text": [
      "\n"
     ]
    }
   ],
   "source": [
    "data = f.readline()\n",
    "print(data)"
   ]
  },
  {
   "cell_type": "code",
   "execution_count": 10,
   "metadata": {},
   "outputs": [
    {
     "name": "stdout",
     "output_type": "stream",
     "text": [
      "\n"
     ]
    }
   ],
   "source": [
    "data = f.readline()\n",
    "print(data)"
   ]
  },
  {
   "cell_type": "code",
   "execution_count": 11,
   "metadata": {},
   "outputs": [
    {
     "name": "stdout",
     "output_type": "stream",
     "text": [
      "Today's Google doodle celebrates the life and legacy of Otto Wichterle, a Czech chemist\n",
      "\n",
      "who invented the soft contact lens, on his 108th birrthday. Wichterle was born on this day in 1913 in Prostejov,\n",
      "\n",
      " the Czech Republic (then, Austria-Hungary).As a lover of science from his youth, Wichterle went on to earn his\n",
      "\n",
      " doctorate in organic chemistry in 1936 from the Prague Institute of Chemical Technology (ICT). He taught as a\n",
      "\n",
      " professor at his alma mater during the 1950s while developing an absorbent and transparent gel for eye implants.\n",
      "\n",
      "Happy birthday, Otto Wichterle - thanks for helping the world see eye to eye.\n",
      "\n",
      "\n"
     ]
    }
   ],
   "source": [
    "f=open(\"data.txt\",\"r\")\n",
    "data = True\n",
    "while data:\n",
    "    data = f.readline()\n",
    "    print(data)\n",
    "f.close()\n"
   ]
  },
  {
   "cell_type": "code",
   "execution_count": 12,
   "metadata": {},
   "outputs": [
    {
     "name": "stdout",
     "output_type": "stream",
     "text": [
      "Today's Google doodle celebrates the life and legacy of Otto Wichterle, a Czech chemist\n",
      "\n",
      "who invented the soft contact lens, on his 108th birrthday. Wichterle was born on this day in 1913 in Prostejov,\n",
      "\n",
      " the Czech Republic (then, Austria-Hungary).As a lover of science from his youth, Wichterle went on to earn his\n",
      "\n",
      " doctorate in organic chemistry in 1936 from the Prague Institute of Chemical Technology (ICT). He taught as a\n",
      "\n",
      " professor at his alma mater during the 1950s while developing an absorbent and transparent gel for eye implants.\n",
      "\n",
      "Happy birthday, Otto Wichterle - thanks for helping the world see eye to eye.\n",
      "\n"
     ]
    }
   ],
   "source": [
    "f=open(\"data.txt\",\"r\")\n",
    "for line in f:\n",
    "    print(line)\n",
    "f.close()"
   ]
  },
  {
   "cell_type": "code",
   "execution_count": 13,
   "metadata": {},
   "outputs": [
    {
     "name": "stdout",
     "output_type": "stream",
     "text": [
      "******************************\n",
      "Today's Google doodl\n",
      "******************************\n",
      "e celebrates the lif\n",
      "******************************\n",
      "e and legacy of Otto\n",
      "******************************\n",
      " Wichterle, a Czech \n",
      "******************************\n",
      "chemist\n",
      "who invented\n",
      "******************************\n",
      " the soft contact le\n",
      "******************************\n",
      "ns, on his 108th bir\n",
      "******************************\n",
      "rthday. Wichterle wa\n",
      "******************************\n",
      "s born on this day i\n",
      "******************************\n",
      "n 1913 in Prostejov,\n",
      "******************************\n",
      "\n",
      " the Czech Republic\n",
      "******************************\n",
      " (then, Austria-Hung\n",
      "******************************\n",
      "ary).As a lover of s\n",
      "******************************\n",
      "cience from his yout\n",
      "******************************\n",
      "h, Wichterle went on\n",
      "******************************\n",
      " to earn his\n",
      " doctor\n",
      "******************************\n",
      "ate in organic chemi\n",
      "******************************\n",
      "stry in 1936 from th\n",
      "******************************\n",
      "e Prague Institute o\n",
      "******************************\n",
      "f Chemical Technolog\n",
      "******************************\n",
      "y (ICT). He taught a\n",
      "******************************\n",
      "s a\n",
      " professor at hi\n",
      "******************************\n",
      "s alma mater during \n",
      "******************************\n",
      "the 1950s while deve\n",
      "******************************\n",
      "loping an absorbent \n",
      "******************************\n",
      "and transparent gel \n",
      "******************************\n",
      "for eye implants.\n",
      "Ha\n",
      "******************************\n",
      "ppy birthday, Otto W\n",
      "******************************\n",
      "ichterle - thanks fo\n",
      "******************************\n",
      "r helping the world \n",
      "******************************\n",
      "see eye to eye.\n",
      "\n",
      "******************************\n",
      "\n"
     ]
    }
   ],
   "source": [
    "f=open(\"data.txt\",\"r\")\n",
    "data = True\n",
    "while data:\n",
    "    data = f.read(20)\n",
    "    print(\"*\"*30)\n",
    "    print(data)\n",
    "f.close()\n"
   ]
  },
  {
   "cell_type": "code",
   "execution_count": 14,
   "metadata": {},
   "outputs": [
    {
     "name": "stdout",
     "output_type": "stream",
     "text": [
      "\n"
     ]
    }
   ],
   "source": [
    "f=open(\"data.txt\",\"r\")\n",
    "data = f.read()\n",
    "data1 = f.read()\n",
    "print(data1)"
   ]
  },
  {
   "cell_type": "code",
   "execution_count": 16,
   "metadata": {},
   "outputs": [
    {
     "name": "stdout",
     "output_type": "stream",
     "text": [
      "0\n",
      "622\n",
      "622\n",
      "\n"
     ]
    }
   ],
   "source": [
    "f=open(\"data.txt\",\"r\")\n",
    "print(f.tell())\n",
    "data = f.read()\n",
    "print(f.tell())\n",
    "data1 = f.read()\n",
    "print(f.tell())\n",
    "print(data1)"
   ]
  },
  {
   "cell_type": "code",
   "execution_count": 17,
   "metadata": {},
   "outputs": [
    {
     "name": "stdout",
     "output_type": "stream",
     "text": [
      "0\n",
      "622\n",
      "0\n",
      "Today's Google doodle celebrates the life and legacy of Otto Wichterle, a Czech chemist\n",
      "who invented the soft contact lens, on his 108th birrthday. Wichterle was born on this day in 1913 in Prostejov,\n",
      " the Czech Republic (then, Austria-Hungary).As a lover of science from his youth, Wichterle went on to earn his\n",
      " doctorate in organic chemistry in 1936 from the Prague Institute of Chemical Technology (ICT). He taught as a\n",
      " professor at his alma mater during the 1950s while developing an absorbent and transparent gel for eye implants.\n",
      "Happy birthday, Otto Wichterle - thanks for helping the world see eye to eye.\n",
      "\n",
      "622\n"
     ]
    }
   ],
   "source": [
    "f=open(\"data.txt\",\"r\")\n",
    "print(f.tell())\n",
    "data = f.read()\n",
    "print(f.tell())\n",
    "f.seek(0)\n",
    "print(f.tell())\n",
    "data1 = f.read()\n",
    "print(data1)\n",
    "print(f.tell())"
   ]
  },
  {
   "cell_type": "code",
   "execution_count": 18,
   "metadata": {},
   "outputs": [
    {
     "name": "stdout",
     "output_type": "stream",
     "text": [
      "0\n",
      "622\n",
      "50\n",
      "cy of Otto Wichterle, a Czech chemist\n",
      "who invented the soft contact lens, on his 108th birrthday. Wichterle was born on this day in 1913 in Prostejov,\n",
      " the Czech Republic (then, Austria-Hungary).As a lover of science from his youth, Wichterle went on to earn his\n",
      " doctorate in organic chemistry in 1936 from the Prague Institute of Chemical Technology (ICT). He taught as a\n",
      " professor at his alma mater during the 1950s while developing an absorbent and transparent gel for eye implants.\n",
      "Happy birthday, Otto Wichterle - thanks for helping the world see eye to eye.\n",
      "\n",
      "622\n"
     ]
    }
   ],
   "source": [
    "f=open(\"data.txt\",\"r\")\n",
    "print(f.tell())\n",
    "data = f.read()\n",
    "print(f.tell())\n",
    "f.seek(50)\n",
    "print(f.tell())\n",
    "data1 = f.read()\n",
    "print(data1)\n",
    "print(f.tell())"
   ]
  },
  {
   "cell_type": "code",
   "execution_count": null,
   "metadata": {},
   "outputs": [],
   "source": []
  }
 ],
 "metadata": {
  "kernelspec": {
   "display_name": "Python 3",
   "language": "python",
   "name": "python3"
  },
  "language_info": {
   "codemirror_mode": {
    "name": "ipython",
    "version": 3
   },
   "file_extension": ".py",
   "mimetype": "text/x-python",
   "name": "python",
   "nbconvert_exporter": "python",
   "pygments_lexer": "ipython3",
   "version": "3.8.3"
  }
 },
 "nbformat": 4,
 "nbformat_minor": 4
}
