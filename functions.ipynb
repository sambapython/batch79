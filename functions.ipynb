{
 "cells": [
  {
   "cell_type": "code",
   "execution_count": 1,
   "metadata": {},
   "outputs": [],
   "source": [
    "# reducing the number of lines of code in perticular place\n",
    "# functions also used to reduce the number of lines of code, in different places of my program\n"
   ]
  },
  {
   "cell_type": "code",
   "execution_count": null,
   "metadata": {},
   "outputs": [],
   "source": [
    "print(\"started\")\n",
    "def addnumbers():\n",
    "    print(\"this is function\")\n",
    "print(\"ended\")"
   ]
  },
  {
   "cell_type": "code",
   "execution_count": null,
   "metadata": {},
   "outputs": [],
   "source": [
    "print(\"started\")\n",
    "def add_numbers():\n",
    "    print(\"this is function\")\n",
    "print(\"ended\")"
   ]
  },
  {
   "cell_type": "code",
   "execution_count": 2,
   "metadata": {},
   "outputs": [
    {
     "name": "stdout",
     "output_type": "stream",
     "text": [
      "started\n",
      "ended\n"
     ]
    }
   ],
   "source": [
    "print(\"started\")\n",
    "def add_numbers():\n",
    "    print(\"this is function\")\n",
    "print(\"ended\")"
   ]
  },
  {
   "cell_type": "code",
   "execution_count": 3,
   "metadata": {},
   "outputs": [
    {
     "name": "stdout",
     "output_type": "stream",
     "text": [
      "started\n",
      "ended\n"
     ]
    }
   ],
   "source": [
    "print(\"started\")\n",
    "def add_numbers():\n",
    "    print(\"function started\")\n",
    "    print(\"this is function\")\n",
    "    print(\"function ended\")\n",
    "print(\"ended\")"
   ]
  },
  {
   "cell_type": "code",
   "execution_count": 4,
   "metadata": {},
   "outputs": [
    {
     "name": "stdout",
     "output_type": "stream",
     "text": [
      "started\n",
      "ended\n",
      "function started\n",
      "this is function\n",
      "function ended\n"
     ]
    }
   ],
   "source": [
    "print(\"started\")\n",
    "def add_numbers():# signature\n",
    "    #body\n",
    "    print(\"function started\")\n",
    "    print(\"this is function\")\n",
    "    print(\"function ended\")\n",
    "print(\"ended\")\n",
    "add_numbers()# call"
   ]
  },
  {
   "cell_type": "code",
   "execution_count": 5,
   "metadata": {},
   "outputs": [
    {
     "name": "stdout",
     "output_type": "stream",
     "text": [
      "started\n",
      "ended\n",
      "function started\n",
      "this is function\n",
      "function ended\n",
      "hello\n",
      "function started\n",
      "this is function\n",
      "function ended\n",
      "hi\n",
      "function started\n",
      "this is function\n",
      "function ended\n"
     ]
    }
   ],
   "source": [
    "print(\"started\")\n",
    "def add_numbers():# signature\n",
    "    #body\n",
    "    print(\"function started\")\n",
    "    print(\"this is function\")\n",
    "    print(\"function ended\")\n",
    "print(\"ended\")\n",
    "add_numbers()# call\n",
    "print(\"hello\")\n",
    "add_numbers()# call\n",
    "print(\"hi\")\n",
    "add_numbers()# call"
   ]
  },
  {
   "cell_type": "code",
   "execution_count": 6,
   "metadata": {},
   "outputs": [
    {
     "name": "stdout",
     "output_type": "stream",
     "text": [
      "started\n",
      "ended\n",
      "x=10,y=20\n"
     ]
    }
   ],
   "source": [
    "print(\"started\")\n",
    "def add_numbers(x,y):# x,y are parameters\n",
    "    print(f\"x={x},y={y}\")\n",
    "print(\"ended\")\n",
    "add_numbers(10,20) # 10,20 are arguments"
   ]
  },
  {
   "cell_type": "code",
   "execution_count": 7,
   "metadata": {},
   "outputs": [
    {
     "name": "stdout",
     "output_type": "stream",
     "text": [
      "started\n",
      "ended\n",
      "x=10,y=20\n",
      "x=100,y=200\n",
      "x=1,y=2\n",
      "x=123,y=456\n"
     ]
    }
   ],
   "source": [
    "print(\"started\")\n",
    "def add_numbers(x,y):# x,y are parameters\n",
    "    print(f\"x={x},y={y}\")\n",
    "print(\"ended\")\n",
    "add_numbers(10,20) # 10,20 are arguments\n",
    "add_numbers(100,200)\n",
    "add_numbers(1,2)\n",
    "add_numbers(123,456)"
   ]
  },
  {
   "cell_type": "code",
   "execution_count": 8,
   "metadata": {},
   "outputs": [
    {
     "name": "stdout",
     "output_type": "stream",
     "text": [
      "started\n",
      "ended\n"
     ]
    },
    {
     "ename": "TypeError",
     "evalue": "add_numbers() missing 1 required positional argument: 'z'",
     "output_type": "error",
     "traceback": [
      "\u001b[1;31m---------------------------------------------------------------------------\u001b[0m",
      "\u001b[1;31mTypeError\u001b[0m                                 Traceback (most recent call last)",
      "\u001b[1;32m<ipython-input-8-5d7986fb00fa>\u001b[0m in \u001b[0;36m<module>\u001b[1;34m\u001b[0m\n\u001b[0;32m      3\u001b[0m     \u001b[0mprint\u001b[0m\u001b[1;33m(\u001b[0m\u001b[1;34mf\"x={x},y={y},z={z}\"\u001b[0m\u001b[1;33m)\u001b[0m\u001b[1;33m\u001b[0m\u001b[1;33m\u001b[0m\u001b[0m\n\u001b[0;32m      4\u001b[0m \u001b[0mprint\u001b[0m\u001b[1;33m(\u001b[0m\u001b[1;34m\"ended\"\u001b[0m\u001b[1;33m)\u001b[0m\u001b[1;33m\u001b[0m\u001b[1;33m\u001b[0m\u001b[0m\n\u001b[1;32m----> 5\u001b[1;33m \u001b[0madd_numbers\u001b[0m\u001b[1;33m(\u001b[0m\u001b[1;36m10\u001b[0m\u001b[1;33m,\u001b[0m\u001b[1;36m20\u001b[0m\u001b[1;33m)\u001b[0m \u001b[1;31m# 10,20 are positional arguments\u001b[0m\u001b[1;33m\u001b[0m\u001b[1;33m\u001b[0m\u001b[0m\n\u001b[0m",
      "\u001b[1;31mTypeError\u001b[0m: add_numbers() missing 1 required positional argument: 'z'"
     ]
    }
   ],
   "source": [
    "print(\"started\")\n",
    "def add_numbers(x,y,z):# x,y are parameters\n",
    "    print(f\"x={x},y={y},z={z}\")\n",
    "print(\"ended\")\n",
    "add_numbers(10,20) # 10,20 are positional arguments"
   ]
  },
  {
   "cell_type": "code",
   "execution_count": 9,
   "metadata": {},
   "outputs": [
    {
     "name": "stdout",
     "output_type": "stream",
     "text": [
      "started\n",
      "ended\n",
      "x=10,y=20,z=30\n"
     ]
    }
   ],
   "source": [
    "print(\"started\")\n",
    "def add_numbers(x,y,z):# x,y are parameters\n",
    "    print(f\"x={x},y={y},z={z}\")\n",
    "print(\"ended\")\n",
    "add_numbers(10,20,30) # 10,20 are positional arguments"
   ]
  },
  {
   "cell_type": "code",
   "execution_count": 10,
   "metadata": {},
   "outputs": [
    {
     "name": "stdout",
     "output_type": "stream",
     "text": [
      "started\n",
      "ended\n"
     ]
    },
    {
     "ename": "TypeError",
     "evalue": "add_numbers() takes 2 positional arguments but 3 were given",
     "output_type": "error",
     "traceback": [
      "\u001b[1;31m---------------------------------------------------------------------------\u001b[0m",
      "\u001b[1;31mTypeError\u001b[0m                                 Traceback (most recent call last)",
      "\u001b[1;32m<ipython-input-10-7d70324dd52b>\u001b[0m in \u001b[0;36m<module>\u001b[1;34m\u001b[0m\n\u001b[0;32m      3\u001b[0m     \u001b[0mprint\u001b[0m\u001b[1;33m(\u001b[0m\u001b[1;34mf\"x={x},y={y}\"\u001b[0m\u001b[1;33m)\u001b[0m\u001b[1;33m\u001b[0m\u001b[1;33m\u001b[0m\u001b[0m\n\u001b[0;32m      4\u001b[0m \u001b[0mprint\u001b[0m\u001b[1;33m(\u001b[0m\u001b[1;34m\"ended\"\u001b[0m\u001b[1;33m)\u001b[0m\u001b[1;33m\u001b[0m\u001b[1;33m\u001b[0m\u001b[0m\n\u001b[1;32m----> 5\u001b[1;33m \u001b[0madd_numbers\u001b[0m\u001b[1;33m(\u001b[0m\u001b[1;36m10\u001b[0m\u001b[1;33m,\u001b[0m\u001b[1;36m20\u001b[0m\u001b[1;33m,\u001b[0m\u001b[1;36m30\u001b[0m\u001b[1;33m)\u001b[0m \u001b[1;31m# 10,20 are positional arguments\u001b[0m\u001b[1;33m\u001b[0m\u001b[1;33m\u001b[0m\u001b[0m\n\u001b[0m",
      "\u001b[1;31mTypeError\u001b[0m: add_numbers() takes 2 positional arguments but 3 were given"
     ]
    }
   ],
   "source": [
    "print(\"started\")\n",
    "def add_numbers(x,y):# x,y are parameters\n",
    "    print(f\"x={x},y={y}\")\n",
    "print(\"ended\")\n",
    "add_numbers(10,20,30) # 10,20 are positional arguments"
   ]
  },
  {
   "cell_type": "code",
   "execution_count": 12,
   "metadata": {},
   "outputs": [
    {
     "name": "stdout",
     "output_type": "stream",
     "text": [
      "started\n",
      "ended\n",
      "x=10,y=20\n",
      "result= 30\n"
     ]
    }
   ],
   "source": [
    "print(\"started\")\n",
    "def add_numbers(x,y):\n",
    "    print(f\"x={x},y={y}\")\n",
    "    res=x+y\n",
    "    print(\"result=\",res)\n",
    "print(\"ended\")\n",
    "add_numbers(10,20)"
   ]
  },
  {
   "cell_type": "code",
   "execution_count": 14,
   "metadata": {},
   "outputs": [
    {
     "name": "stdout",
     "output_type": "stream",
     "text": [
      "x=10, y=20\n",
      "summation: 30\n",
      "x=10, y=20\n",
      "substraction: -10\n",
      "x=10, y=20\n",
      "multiplication: 200\n"
     ]
    }
   ],
   "source": [
    "# summation: add_numbers,  substraction: sub_numbers, multiplication, mul_numbers\n",
    "def add_numbers(x,y):\n",
    "    print(f\"x={x}, y={y}\")\n",
    "    res=x+y\n",
    "    print(\"summation:\",res)\n",
    "def sub_numbers(x,y):\n",
    "    print(f\"x={x}, y={y}\")\n",
    "    res=x-y\n",
    "    print(\"substraction:\",res)\n",
    "def mul_numbers(x,y):\n",
    "    print(f\"x={x}, y={y}\")\n",
    "    res=x*y\n",
    "    print(\"multiplication:\",res)\n",
    "add_numbers(10,20)\n",
    "sub_numbers(10,20)\n",
    "mul_numbers(10,20)"
   ]
  },
  {
   "cell_type": "code",
   "execution_count": 15,
   "metadata": {},
   "outputs": [
    {
     "name": "stdout",
     "output_type": "stream",
     "text": [
      "x=10, y=20\n",
      "summation: 30\n",
      "x=10, y=20\n",
      "substraction: -10\n",
      "x=10, y=20\n",
      "multiplication: 200\n",
      "x=1, y=20\n",
      "summation: 21\n",
      "x=1, y=20\n",
      "substraction: -19\n",
      "x=1, y=20\n",
      "multiplication: 20\n",
      "x=100, y=20\n",
      "summation: 120\n",
      "x=100, y=20\n",
      "substraction: 80\n",
      "x=100, y=20\n",
      "multiplication: 2000\n",
      "x=10, y=200\n",
      "summation: 210\n",
      "x=10, y=200\n",
      "substraction: -190\n",
      "x=10, y=200\n",
      "multiplication: 2000\n",
      "x=1, y=2\n",
      "summation: 3\n",
      "x=1, y=2\n",
      "substraction: -1\n",
      "x=1, y=2\n",
      "multiplication: 2\n"
     ]
    }
   ],
   "source": [
    "# summation: add_numbers,  substraction: sub_numbers, multiplication, mul_numbers\n",
    "def add_numbers(x,y):\n",
    "    print(f\"x={x}, y={y}\")\n",
    "    res=x+y\n",
    "    print(\"summation:\",res)\n",
    "def sub_numbers(x,y):\n",
    "    print(f\"x={x}, y={y}\")\n",
    "    res=x-y\n",
    "    print(\"substraction:\",res)\n",
    "def mul_numbers(x,y):\n",
    "    print(f\"x={x}, y={y}\")\n",
    "    res=x*y\n",
    "    print(\"multiplication:\",res)\n",
    "add_numbers(10,20)\n",
    "sub_numbers(10,20)\n",
    "mul_numbers(10,20)\n",
    "add_numbers(1,20)\n",
    "sub_numbers(1,20)\n",
    "mul_numbers(1,20)\n",
    "add_numbers(100,20)\n",
    "sub_numbers(100,20)\n",
    "mul_numbers(100,20)\n",
    "add_numbers(10,200)\n",
    "sub_numbers(10,200)\n",
    "mul_numbers(10,200)\n",
    "add_numbers(1,2)\n",
    "sub_numbers(1,2)\n",
    "mul_numbers(1,2)"
   ]
  },
  {
   "cell_type": "code",
   "execution_count": 1,
   "metadata": {},
   "outputs": [
    {
     "name": "stdout",
     "output_type": "stream",
     "text": [
      "a=10,b=20,c=30,d=40,e=50\n",
      "result= 150\n"
     ]
    }
   ],
   "source": [
    "def add(a,b,c,d,e):\n",
    "    print(f\"a={a},b={b},c={c},d={d},e={e}\")\n",
    "    res = a+b+c+d+e\n",
    "    print(\"result=\",res)\n",
    "add(10,20,30,40,50)"
   ]
  },
  {
   "cell_type": "code",
   "execution_count": 2,
   "metadata": {},
   "outputs": [
    {
     "name": "stdout",
     "output_type": "stream",
     "text": [
      "a=10,b=20,c=30,d=40,e=50\n",
      "result= 150\n"
     ]
    },
    {
     "ename": "TypeError",
     "evalue": "add() missing 2 required positional arguments: 'd' and 'e'",
     "output_type": "error",
     "traceback": [
      "\u001b[1;31m---------------------------------------------------------------------------\u001b[0m",
      "\u001b[1;31mTypeError\u001b[0m                                 Traceback (most recent call last)",
      "\u001b[1;32m<ipython-input-2-bbcb87a264f5>\u001b[0m in \u001b[0;36m<module>\u001b[1;34m\u001b[0m\n\u001b[0;32m      4\u001b[0m     \u001b[0mprint\u001b[0m\u001b[1;33m(\u001b[0m\u001b[1;34m\"result=\"\u001b[0m\u001b[1;33m,\u001b[0m\u001b[0mres\u001b[0m\u001b[1;33m)\u001b[0m\u001b[1;33m\u001b[0m\u001b[1;33m\u001b[0m\u001b[0m\n\u001b[0;32m      5\u001b[0m \u001b[0madd\u001b[0m\u001b[1;33m(\u001b[0m\u001b[1;36m10\u001b[0m\u001b[1;33m,\u001b[0m\u001b[1;36m20\u001b[0m\u001b[1;33m,\u001b[0m\u001b[1;36m30\u001b[0m\u001b[1;33m,\u001b[0m\u001b[1;36m40\u001b[0m\u001b[1;33m,\u001b[0m\u001b[1;36m50\u001b[0m\u001b[1;33m)\u001b[0m\u001b[1;33m\u001b[0m\u001b[1;33m\u001b[0m\u001b[0m\n\u001b[1;32m----> 6\u001b[1;33m \u001b[0madd\u001b[0m\u001b[1;33m(\u001b[0m\u001b[1;36m100\u001b[0m\u001b[1;33m,\u001b[0m\u001b[1;36m200\u001b[0m\u001b[1;33m,\u001b[0m\u001b[1;36m300\u001b[0m\u001b[1;33m)\u001b[0m\u001b[1;33m\u001b[0m\u001b[1;33m\u001b[0m\u001b[0m\n\u001b[0m",
      "\u001b[1;31mTypeError\u001b[0m: add() missing 2 required positional arguments: 'd' and 'e'"
     ]
    }
   ],
   "source": [
    "def add(a,b,c,d,e):\n",
    "    print(f\"a={a},b={b},c={c},d={d},e={e}\")\n",
    "    res = a+b+c+d+e\n",
    "    print(\"result=\",res)\n",
    "add(10,20,30,40,50)\n",
    "add(100,200,300)"
   ]
  },
  {
   "cell_type": "code",
   "execution_count": 3,
   "metadata": {},
   "outputs": [
    {
     "name": "stdout",
     "output_type": "stream",
     "text": [
      "a=10,b=20,c=30,d=40,e=50\n",
      "result= 150\n",
      "a=100,b=200,c=300,d=0,e=0\n",
      "result= 600\n"
     ]
    }
   ],
   "source": [
    "def add(a,b,c,d=0,e=0):# default arguments\n",
    "    \"\"\"\n",
    "    a,b,c: int/float are mandatory\n",
    "    d,3:int/float are optional: default value for d=0, e=0\n",
    "    \"\"\"\n",
    "    print(f\"a={a},b={b},c={c},d={d},e={e}\")\n",
    "    res = a+b+c+d+e\n",
    "    print(\"result=\",res)\n",
    "add(10,20,30,40,50)\n",
    "add(100,200,300)"
   ]
  },
  {
   "cell_type": "code",
   "execution_count": 4,
   "metadata": {},
   "outputs": [
    {
     "name": "stdout",
     "output_type": "stream",
     "text": [
      "a=10,b=20,c=30,d=40,e=50\n",
      "result= 150\n",
      "a=100,b=200,c=300,d=0,e=0\n",
      "result= 600\n"
     ]
    }
   ],
   "source": [
    "def add(a,b,c,d=0,e=0):# default arguments\n",
    "    \"\"\"\n",
    "    a,b,c: int/float are mandatory\n",
    "    d,3:int/float are optional: default value for d=0, e=0\n",
    "    \"\"\"\n",
    "    print(f\"a={a},b={b},c={c},d={d},e={e}\")\n",
    "    res = a+b+c+d+e\n",
    "    print(\"result=\",res)\n",
    "add(10,20,30,40,50)\n",
    "add(100,200,300)"
   ]
  },
  {
   "cell_type": "code",
   "execution_count": 5,
   "metadata": {},
   "outputs": [
    {
     "name": "stdout",
     "output_type": "stream",
     "text": [
      "() <class 'tuple'>\n",
      "(10,) <class 'tuple'>\n",
      "(10, 20) <class 'tuple'>\n",
      "(10, 20, 30) <class 'tuple'>\n",
      "(10, 20, 30, 40, 50, 60, 70, 80, 80, 90) <class 'tuple'>\n"
     ]
    }
   ],
   "source": [
    "def add(*numbers): #*args\n",
    "    print(numbers, type(numbers))\n",
    "add()\n",
    "add(10)\n",
    "add(10,20)\n",
    "add(10,20,30)\n",
    "add(10,20,30,40,50,60,70,80,80,90)"
   ]
  },
  {
   "cell_type": "code",
   "execution_count": 6,
   "metadata": {},
   "outputs": [
    {
     "name": "stdout",
     "output_type": "stream",
     "text": [
      "() <class 'tuple'>\n",
      "0\n",
      "(10,) <class 'tuple'>\n",
      "10\n",
      "(10, 20) <class 'tuple'>\n",
      "30\n",
      "(10, 20, 30) <class 'tuple'>\n",
      "60\n",
      "(10, 20, 30, 40, 50, 60, 70, 80, 80, 90) <class 'tuple'>\n",
      "530\n"
     ]
    }
   ],
   "source": [
    "def add(*numbers): #*args\n",
    "    print(numbers, type(numbers))\n",
    "    print(sum(numbers))\n",
    "add()\n",
    "add(10)\n",
    "add(10,20)\n",
    "add(10,20,30)\n",
    "add(10,20,30,40,50,60,70,80,80,90)"
   ]
  },
  {
   "cell_type": "code",
   "execution_count": 7,
   "metadata": {},
   "outputs": [
    {
     "name": "stdout",
     "output_type": "stream",
     "text": [
      "result: 0\n",
      "result: 10\n",
      "result: 30\n",
      "result: 60\n",
      "result: 530\n"
     ]
    }
   ],
   "source": [
    "def add(*numbers): #*args\n",
    "    res=0\n",
    "    for i in numbers:\n",
    "        res=res+i\n",
    "    print(\"result:\",res)\n",
    "add()\n",
    "add(10)\n",
    "add(10,20)\n",
    "add(10,20,30)\n",
    "add(10,20,30,40,50,60,70,80,80,90)"
   ]
  },
  {
   "cell_type": "code",
   "execution_count": 8,
   "metadata": {},
   "outputs": [
    {
     "name": "stdout",
     "output_type": "stream",
     "text": [
      "result: 0\n",
      "i= 10\n",
      "result: 10\n",
      "i= 10\n",
      "i= 20\n",
      "result: 30\n",
      "i= 10\n",
      "i= 20\n",
      "i= 30\n",
      "result: 60\n",
      "i= 10\n",
      "i= 20\n",
      "i= 30\n",
      "i= 40\n",
      "i= 50\n",
      "i= 60\n",
      "i= 70\n",
      "i= 80\n",
      "i= 80\n",
      "i= 90\n",
      "result: 530\n"
     ]
    }
   ],
   "source": [
    "def add(*numbers): #*args\n",
    "    res=0\n",
    "    for i in numbers:\n",
    "        print(\"i=\",i)\n",
    "        res=res+i\n",
    "    print(\"result:\",res)\n",
    "add()\n",
    "add(10)\n",
    "add(10,20)\n",
    "add(10,20,30)\n",
    "add(10,20,30,40,50,60,70,80,80,90)"
   ]
  },
  {
   "cell_type": "code",
   "execution_count": 10,
   "metadata": {},
   "outputs": [
    {
     "name": "stdout",
     "output_type": "stream",
     "text": [
      "a=10,b=20,c=30,d=40,e=50\n",
      "result= 150\n",
      "a=100,b=200,c=300,d=0,e=0\n",
      "result= 600\n",
      "a=0,b=0,c=0,d=0,e=0\n",
      "result= 0\n",
      "a=10,b=0,c=0,d=0,e=0\n",
      "result= 10\n",
      "a=10,b=20,c=0,d=0,e=0\n",
      "result= 30\n"
     ]
    }
   ],
   "source": [
    "def add(a=0,b=0,c=0,d=0,e=0):# default arguments\n",
    "    \"\"\"\n",
    "    a,b,c,d,e:int/float are optional: default values are 0\n",
    "    \"\"\"\n",
    "    print(f\"a={a},b={b},c={c},d={d},e={e}\")\n",
    "    res = a+b+c+d+e\n",
    "    print(\"result=\",res)\n",
    "add(10,20,30,40,50)\n",
    "add(100,200,300)\n",
    "add()\n",
    "add(10)\n",
    "add(10,20)"
   ]
  },
  {
   "cell_type": "code",
   "execution_count": 11,
   "metadata": {},
   "outputs": [
    {
     "name": "stdout",
     "output_type": "stream",
     "text": [
      "the details of person: Name:Jayaram, Phone:9676622023, Adhar:None, Pan Card:None, Pass Port:None\n",
      "the details of person: Name:sai, Phone:9676622024, Adhar:ADHAR_1234, Pan Card:None, Pass Port:None\n",
      "the details of person: Name:Dhana, Phone:9676622025, Adhar:passport_12234, Pan Card:None, Pass Port:None\n"
     ]
    }
   ],
   "source": [
    "def person(name,phone,adhar=None,pan=None,passport=None):\n",
    "    print(f\"the details of person: Name:{name}, Phone:{phone}, Adhar:{adhar}, Pan Card:{pan}, Pass Port:{passport}\")\n",
    "person(\"Jayaram\",\"9676622023\")\n",
    "person(\"sai\",\"9676622024\",\"ADHAR_1234\")\n",
    "person(\"Dhana\",\"9676622025\",\"passport_12234\")"
   ]
  },
  {
   "cell_type": "code",
   "execution_count": 12,
   "metadata": {},
   "outputs": [
    {
     "name": "stdout",
     "output_type": "stream",
     "text": [
      "the details of person: Name:Jayaram, Phone:9676622023, Adhar:None, Pan Card:None, Pass Port:None\n",
      "the details of person: Name:sai, Phone:9676622024, Adhar:ADHAR_1234, Pan Card:None, Pass Port:None\n",
      "the details of person: Name:Dhana, Phone:9676622025, Adhar:None, Pan Card:None, Pass Port:passport_12234\n"
     ]
    }
   ],
   "source": [
    "def person(name,phone,adhar=None,pan=None,passport=None):\n",
    "    print(f\"the details of person: Name:{name}, Phone:{phone}, Adhar:{adhar}, Pan Card:{pan}, Pass Port:{passport}\")\n",
    "person(\"Jayaram\",\"9676622023\")\n",
    "person(\"sai\",\"9676622024\",\"ADHAR_1234\")\n",
    "person(\"Dhana\",\"9676622025\",None,None,\"passport_12234\")"
   ]
  },
  {
   "cell_type": "code",
   "execution_count": 13,
   "metadata": {},
   "outputs": [],
   "source": [
    "import pandas as pd"
   ]
  },
  {
   "cell_type": "code",
   "execution_count": 14,
   "metadata": {},
   "outputs": [],
   "source": [
    "pd.read_csv?"
   ]
  },
  {
   "cell_type": "code",
   "execution_count": 15,
   "metadata": {},
   "outputs": [
    {
     "name": "stdout",
     "output_type": "stream",
     "text": [
      "the details of person: Name:Jayaram, Phone:9676622023, Adhar:None, Pan Card:None, Pass Port:None\n",
      "the details of person: Name:sai, Phone:9676622024, Adhar:ADHAR_1234, Pan Card:None, Pass Port:None\n",
      "the details of person: Name:Dhana, Phone:9676622025, Adhar:None, Pan Card:None, Pass Port:passport_12234\n"
     ]
    }
   ],
   "source": [
    "def person(name,phone,adhar=None,pan=None,passport=None):\n",
    "    print(f\"the details of person: Name:{name}, Phone:{phone}, Adhar:{adhar}, Pan Card:{pan}, Pass Port:{passport}\")\n",
    "person(\"Jayaram\",\"9676622023\")# position arguments\n",
    "person(\"sai\",\"9676622024\",\"ADHAR_1234\")#positional arguments\n",
    "person(\"Dhana\",\"9676622025\",passport=\"passport_12234\")# both(positional, keyword arguments)\n"
   ]
  },
  {
   "cell_type": "code",
   "execution_count": 16,
   "metadata": {},
   "outputs": [
    {
     "name": "stdout",
     "output_type": "stream",
     "text": [
      "the details of person: Name:Jayaram, Phone:9676622023, Adhar:None, Pan Card:None, Pass Port:None\n",
      "the details of person: Name:sai, Phone:9676622024, Adhar:ADHAR_1234, Pan Card:None, Pass Port:None\n",
      "the details of person: Name:Dhana, Phone:9676622025, Adhar:None, Pan Card:None, Pass Port:passport_12234\n",
      "the details of person: Name:Vedha, Phone:9676622023, Adhar:None, Pan Card:pan_1234, Pass Port:None\n"
     ]
    }
   ],
   "source": [
    "def person(name,phone,adhar=None,pan=None,passport=None):\n",
    "    print(f\"the details of person: Name:{name}, Phone:{phone}, Adhar:{adhar}, Pan Card:{pan}, Pass Port:{passport}\")\n",
    "person(\"Jayaram\",\"9676622023\")# position arguments\n",
    "person(\"sai\",\"9676622024\",\"ADHAR_1234\")#positional arguments\n",
    "person(\"Dhana\",\"9676622025\",passport=\"passport_12234\")# both(positional, keyword arguments)\n",
    "person(phone=\"9676622023\",name=\"Vedha\",pan=\"pan_1234\")# keyword arguments"
   ]
  },
  {
   "cell_type": "code",
   "execution_count": 17,
   "metadata": {},
   "outputs": [
    {
     "ename": "TypeError",
     "evalue": "person() got multiple values for argument 'name'",
     "output_type": "error",
     "traceback": [
      "\u001b[1;31m---------------------------------------------------------------------------\u001b[0m",
      "\u001b[1;31mTypeError\u001b[0m                                 Traceback (most recent call last)",
      "\u001b[1;32m<ipython-input-17-e566747117c2>\u001b[0m in \u001b[0;36m<module>\u001b[1;34m\u001b[0m\n\u001b[0;32m      1\u001b[0m \u001b[1;32mdef\u001b[0m \u001b[0mperson\u001b[0m\u001b[1;33m(\u001b[0m\u001b[0mname\u001b[0m\u001b[1;33m,\u001b[0m\u001b[0mphone\u001b[0m\u001b[1;33m,\u001b[0m\u001b[0madhar\u001b[0m\u001b[1;33m=\u001b[0m\u001b[1;32mNone\u001b[0m\u001b[1;33m,\u001b[0m\u001b[0mpan\u001b[0m\u001b[1;33m=\u001b[0m\u001b[1;32mNone\u001b[0m\u001b[1;33m,\u001b[0m\u001b[0mpassport\u001b[0m\u001b[1;33m=\u001b[0m\u001b[1;32mNone\u001b[0m\u001b[1;33m)\u001b[0m\u001b[1;33m:\u001b[0m\u001b[1;33m\u001b[0m\u001b[1;33m\u001b[0m\u001b[0m\n\u001b[0;32m      2\u001b[0m     \u001b[0mprint\u001b[0m\u001b[1;33m(\u001b[0m\u001b[1;34mf\"the details of person: Name:{name}, Phone:{phone}, Adhar:{adhar}, Pan Card:{pan}, Pass Port:{passport}\"\u001b[0m\u001b[1;33m)\u001b[0m\u001b[1;33m\u001b[0m\u001b[1;33m\u001b[0m\u001b[0m\n\u001b[1;32m----> 3\u001b[1;33m \u001b[0mperson\u001b[0m\u001b[1;33m(\u001b[0m\u001b[1;34m\"Jayaram\"\u001b[0m\u001b[1;33m,\u001b[0m\u001b[1;34m\"9676622023\"\u001b[0m\u001b[1;33m,\u001b[0m\u001b[0mname\u001b[0m\u001b[1;33m=\u001b[0m\u001b[1;34m\"JAYARAM\"\u001b[0m\u001b[1;33m)\u001b[0m\u001b[1;33m\u001b[0m\u001b[1;33m\u001b[0m\u001b[0m\n\u001b[0m",
      "\u001b[1;31mTypeError\u001b[0m: person() got multiple values for argument 'name'"
     ]
    }
   ],
   "source": [
    "def person(name,phone,adhar=None,pan=None,passport=None):\n",
    "    print(f\"the details of person: Name:{name}, Phone:{phone}, Adhar:{adhar}, Pan Card:{pan}, Pass Port:{passport}\")\n",
    "person(\"Jayaram\",\"9676622023\",name=\"JAYARAM\")"
   ]
  },
  {
   "cell_type": "code",
   "execution_count": 18,
   "metadata": {},
   "outputs": [
    {
     "ename": "TypeError",
     "evalue": "person() missing 1 required positional argument: 'name'",
     "output_type": "error",
     "traceback": [
      "\u001b[1;31m---------------------------------------------------------------------------\u001b[0m",
      "\u001b[1;31mTypeError\u001b[0m                                 Traceback (most recent call last)",
      "\u001b[1;32m<ipython-input-18-78c7c0bdc383>\u001b[0m in \u001b[0;36m<module>\u001b[1;34m\u001b[0m\n\u001b[0;32m      1\u001b[0m \u001b[1;32mdef\u001b[0m \u001b[0mperson\u001b[0m\u001b[1;33m(\u001b[0m\u001b[0mname\u001b[0m\u001b[1;33m,\u001b[0m\u001b[0mphone\u001b[0m\u001b[1;33m,\u001b[0m\u001b[0madhar\u001b[0m\u001b[1;33m=\u001b[0m\u001b[1;32mNone\u001b[0m\u001b[1;33m,\u001b[0m\u001b[0mpan\u001b[0m\u001b[1;33m=\u001b[0m\u001b[1;32mNone\u001b[0m\u001b[1;33m,\u001b[0m\u001b[0mpassport\u001b[0m\u001b[1;33m=\u001b[0m\u001b[1;32mNone\u001b[0m\u001b[1;33m)\u001b[0m\u001b[1;33m:\u001b[0m\u001b[1;33m\u001b[0m\u001b[1;33m\u001b[0m\u001b[0m\n\u001b[0;32m      2\u001b[0m     \u001b[0mprint\u001b[0m\u001b[1;33m(\u001b[0m\u001b[1;34mf\"the details of person: Name:{name}, Phone:{phone}, Adhar:{adhar}, Pan Card:{pan}, Pass Port:{passport}\"\u001b[0m\u001b[1;33m)\u001b[0m\u001b[1;33m\u001b[0m\u001b[1;33m\u001b[0m\u001b[0m\n\u001b[1;32m----> 3\u001b[1;33m \u001b[0mperson\u001b[0m\u001b[1;33m(\u001b[0m\u001b[0mpan\u001b[0m\u001b[1;33m=\u001b[0m\u001b[1;34m\"pan_1234\"\u001b[0m\u001b[1;33m,\u001b[0m\u001b[0mphone\u001b[0m\u001b[1;33m=\u001b[0m\u001b[1;34m\"9676622023\"\u001b[0m\u001b[1;33m)\u001b[0m\u001b[1;33m\u001b[0m\u001b[1;33m\u001b[0m\u001b[0m\n\u001b[0m",
      "\u001b[1;31mTypeError\u001b[0m: person() missing 1 required positional argument: 'name'"
     ]
    }
   ],
   "source": [
    "def person(name,phone,adhar=None,pan=None,passport=None):\n",
    "    print(f\"the details of person: Name:{name}, Phone:{phone}, Adhar:{adhar}, Pan Card:{pan}, Pass Port:{passport}\")\n",
    "person(pan=\"pan_1234\",phone=\"9676622023\")"
   ]
  },
  {
   "cell_type": "code",
   "execution_count": 19,
   "metadata": {},
   "outputs": [
    {
     "name": "stdout",
     "output_type": "stream",
     "text": [
      "the details of person: Name:Jay, Phone:9676622023, Adhar:None, Pan Card:pan_1234, Pass Port:None\n"
     ]
    }
   ],
   "source": [
    "def person(name,phone,adhar=None,pan=None,passport=None):\n",
    "    print(f\"the details of person: Name:{name}, Phone:{phone}, Adhar:{adhar}, Pan Card:{pan}, Pass Port:{passport}\")\n",
    "person(pan=\"pan_1234\",phone=\"9676622023\",name=\"Jay\")"
   ]
  },
  {
   "cell_type": "code",
   "execution_count": 20,
   "metadata": {},
   "outputs": [
    {
     "ename": "TypeError",
     "evalue": "person() got an unexpected keyword argument 'city_id'",
     "output_type": "error",
     "traceback": [
      "\u001b[1;31m---------------------------------------------------------------------------\u001b[0m",
      "\u001b[1;31mTypeError\u001b[0m                                 Traceback (most recent call last)",
      "\u001b[1;32m<ipython-input-20-133ee0419d1d>\u001b[0m in \u001b[0;36m<module>\u001b[1;34m\u001b[0m\n\u001b[0;32m      1\u001b[0m \u001b[1;32mdef\u001b[0m \u001b[0mperson\u001b[0m\u001b[1;33m(\u001b[0m\u001b[0mname\u001b[0m\u001b[1;33m,\u001b[0m\u001b[0mphone\u001b[0m\u001b[1;33m,\u001b[0m\u001b[0madhar\u001b[0m\u001b[1;33m=\u001b[0m\u001b[1;32mNone\u001b[0m\u001b[1;33m,\u001b[0m\u001b[0mpan\u001b[0m\u001b[1;33m=\u001b[0m\u001b[1;32mNone\u001b[0m\u001b[1;33m,\u001b[0m\u001b[0mpassport\u001b[0m\u001b[1;33m=\u001b[0m\u001b[1;32mNone\u001b[0m\u001b[1;33m)\u001b[0m\u001b[1;33m:\u001b[0m\u001b[1;33m\u001b[0m\u001b[1;33m\u001b[0m\u001b[0m\n\u001b[0;32m      2\u001b[0m     \u001b[0mprint\u001b[0m\u001b[1;33m(\u001b[0m\u001b[1;34mf\"the details of person: Name:{name}, Phone:{phone}, Adhar:{adhar}, Pan Card:{pan}, Pass Port:{passport}\"\u001b[0m\u001b[1;33m)\u001b[0m\u001b[1;33m\u001b[0m\u001b[1;33m\u001b[0m\u001b[0m\n\u001b[1;32m----> 3\u001b[1;33m \u001b[0mperson\u001b[0m\u001b[1;33m(\u001b[0m\u001b[0mpan\u001b[0m\u001b[1;33m=\u001b[0m\u001b[1;34m\"pan_1234\"\u001b[0m\u001b[1;33m,\u001b[0m\u001b[0mphone\u001b[0m\u001b[1;33m=\u001b[0m\u001b[1;34m\"9676622023\"\u001b[0m\u001b[1;33m,\u001b[0m\u001b[0mname\u001b[0m\u001b[1;33m=\u001b[0m\u001b[1;34m\"Jay\"\u001b[0m\u001b[1;33m,\u001b[0m\u001b[0mcity_id\u001b[0m\u001b[1;33m=\u001b[0m\u001b[1;36m234\u001b[0m\u001b[1;33m)\u001b[0m\u001b[1;33m\u001b[0m\u001b[1;33m\u001b[0m\u001b[0m\n\u001b[0m",
      "\u001b[1;31mTypeError\u001b[0m: person() got an unexpected keyword argument 'city_id'"
     ]
    }
   ],
   "source": [
    "def person(name,phone,adhar=None,pan=None,passport=None):\n",
    "    print(f\"the details of person: Name:{name}, Phone:{phone}, Adhar:{adhar}, Pan Card:{pan}, Pass Port:{passport}\")\n",
    "person(pan=\"pan_1234\",phone=\"9676622023\",name=\"Jay\",city_id=234)"
   ]
  },
  {
   "cell_type": "code",
   "execution_count": 22,
   "metadata": {},
   "outputs": [
    {
     "name": "stdout",
     "output_type": "stream",
     "text": [
      "the details of person: Name:Jay, Phone:9676622023, Adhar:None, Pan Card:pan_1234, Pass Port:None\n",
      "context: {'city_id': 234, 'person_id': 25}\n"
     ]
    }
   ],
   "source": [
    "def person(name,phone,adhar=None,pan=None,passport=None,**context):# **kwargs\n",
    "    print(f\"the details of person: Name:{name}, Phone:{phone}, Adhar:{adhar}, Pan Card:{pan}, Pass Port:{passport}\")\n",
    "    print(\"context:\",context)\n",
    "person(pan=\"pan_1234\",phone=\"9676622023\",name=\"Jay\",city_id=234,person_id=25)"
   ]
  },
  {
   "cell_type": "code",
   "execution_count": null,
   "metadata": {},
   "outputs": [],
   "source": [
    "def person(name,phone,adhar=None,pan=None,passport=None,**context):# **kwargs\n",
    "    print(f\"the details of person: Name:{name}, Phone:{phone}, Adhar:{adhar}, Pan Card:{pan}, Pass Port:{passport}\")\n",
    "    print(\"context:\",context)\n",
    "person(pan=\"pan_1234\",phone=\"9676622023\",name=\"Jay\",city_id=234,person_id=25)"
   ]
  },
  {
   "cell_type": "code",
   "execution_count": 24,
   "metadata": {},
   "outputs": [
    {
     "name": "stdout",
     "output_type": "stream",
     "text": [
      "a=10,b=20,data=(30, 40, 50, 60), context={'x': 100, 'y': 200}\n"
     ]
    }
   ],
   "source": [
    "def add(a,b=0,*data, **context):\n",
    "    print(f\"a={a},b={b},data={data}, context={context}\")\n",
    "add(10,20,30,40,50,60,x=100,y=200)"
   ]
  },
  {
   "cell_type": "code",
   "execution_count": 25,
   "metadata": {},
   "outputs": [
    {
     "name": "stdout",
     "output_type": "stream",
     "text": [
      "a=10,b=20,data=(30, 40, 50, 60), context={}\n"
     ]
    }
   ],
   "source": [
    "def add(a,b=0,*data, **context):\n",
    "    print(f\"a={a},b={b},data={data}, context={context}\")\n",
    "add(10,20,30,40,50,60)"
   ]
  },
  {
   "cell_type": "code",
   "execution_count": 26,
   "metadata": {},
   "outputs": [
    {
     "name": "stdout",
     "output_type": "stream",
     "text": [
      "a=10,b=20,data=(), context={}\n"
     ]
    }
   ],
   "source": [
    "def add(a,b=0,*data, **context):\n",
    "    print(f\"a={a},b={b},data={data}, context={context}\")\n",
    "add(10,20)"
   ]
  },
  {
   "cell_type": "code",
   "execution_count": 27,
   "metadata": {},
   "outputs": [
    {
     "name": "stdout",
     "output_type": "stream",
     "text": [
      "a=10,b=0,data=(20,), context={}\n"
     ]
    }
   ],
   "source": [
    "def add(a,*data,b=0, **context):\n",
    "    print(f\"a={a},b={b},data={data}, context={context}\")\n",
    "add(10,20)"
   ]
  },
  {
   "cell_type": "code",
   "execution_count": 28,
   "metadata": {},
   "outputs": [
    {
     "name": "stdout",
     "output_type": "stream",
     "text": [
      "a=10,b=0,data=(20, 30, 40, 50, 60, 70, 80, 80), context={}\n"
     ]
    }
   ],
   "source": [
    "def add(a,*data,b=0, **context):\n",
    "    print(f\"a={a},b={b},data={data}, context={context}\")\n",
    "add(10,20,30,40,50,60,70,80,80)"
   ]
  },
  {
   "cell_type": "code",
   "execution_count": 29,
   "metadata": {},
   "outputs": [
    {
     "name": "stdout",
     "output_type": "stream",
     "text": [
      "a=10,b=400,data=(20, 30, 40, 50, 60, 70, 80, 80), context={}\n"
     ]
    }
   ],
   "source": [
    "def add(a,*data,b=0, **context):\n",
    "    print(f\"a={a},b={b},data={data}, context={context}\")\n",
    "add(10,20,30,40,50,60,70,80,80,b=400)"
   ]
  },
  {
   "cell_type": "code",
   "execution_count": 30,
   "metadata": {},
   "outputs": [
    {
     "ename": "SyntaxError",
     "evalue": "invalid syntax (<ipython-input-30-727f965bf6f0>, line 1)",
     "output_type": "error",
     "traceback": [
      "\u001b[1;36m  File \u001b[1;32m\"<ipython-input-30-727f965bf6f0>\"\u001b[1;36m, line \u001b[1;32m1\u001b[0m\n\u001b[1;33m    def add(a,*data,**context,b=0):\u001b[0m\n\u001b[1;37m                              ^\u001b[0m\n\u001b[1;31mSyntaxError\u001b[0m\u001b[1;31m:\u001b[0m invalid syntax\n"
     ]
    }
   ],
   "source": [
    "def add(a,*data,**context,b=0):\n",
    "    print(f\"a={a},b={b},data={data}, context={context}\")\n",
    "add(10,20,30,40,50,60,70,80,80,b=400)"
   ]
  },
  {
   "cell_type": "code",
   "execution_count": null,
   "metadata": {},
   "outputs": [],
   "source": [
    "def add(a,*data,**context,b=0):\n",
    "    print(f\"a={a},b={b},data={data}, context={context}\")\n",
    "add(10,20,30,40,50,60,70,80,80,b=400)"
   ]
  },
  {
   "cell_type": "code",
   "execution_count": 31,
   "metadata": {},
   "outputs": [
    {
     "ename": "SyntaxError",
     "evalue": "non-default argument follows default argument (<ipython-input-31-8bd66c8f8ac5>, line 1)",
     "output_type": "error",
     "traceback": [
      "\u001b[1;36m  File \u001b[1;32m\"<ipython-input-31-8bd66c8f8ac5>\"\u001b[1;36m, line \u001b[1;32m1\u001b[0m\n\u001b[1;33m    def add(x=0,y):\u001b[0m\n\u001b[1;37m            ^\u001b[0m\n\u001b[1;31mSyntaxError\u001b[0m\u001b[1;31m:\u001b[0m non-default argument follows default argument\n"
     ]
    }
   ],
   "source": [
    "def add(x=0,y):\n",
    "    print(x,y)\n",
    "add(10,20)"
   ]
  },
  {
   "cell_type": "code",
   "execution_count": 32,
   "metadata": {},
   "outputs": [
    {
     "ename": "SyntaxError",
     "evalue": "non-default argument follows default argument (<ipython-input-32-26fdcb96bb0b>, line 1)",
     "output_type": "error",
     "traceback": [
      "\u001b[1;36m  File \u001b[1;32m\"<ipython-input-32-26fdcb96bb0b>\"\u001b[1;36m, line \u001b[1;32m1\u001b[0m\n\u001b[1;33m    def add(x=0,y):\u001b[0m\n\u001b[1;37m            ^\u001b[0m\n\u001b[1;31mSyntaxError\u001b[0m\u001b[1;31m:\u001b[0m non-default argument follows default argument\n"
     ]
    }
   ],
   "source": [
    "def add(x=0,y):\n",
    "    print(x,y)\n",
    "add(y=20)"
   ]
  },
  {
   "cell_type": "code",
   "execution_count": 33,
   "metadata": {},
   "outputs": [
    {
     "ename": "SyntaxError",
     "evalue": "positional argument follows keyword argument (<ipython-input-33-e4dc9326e110>, line 3)",
     "output_type": "error",
     "traceback": [
      "\u001b[1;36m  File \u001b[1;32m\"<ipython-input-33-e4dc9326e110>\"\u001b[1;36m, line \u001b[1;32m3\u001b[0m\n\u001b[1;33m    add(b=10,20,30,40,50,60)\u001b[0m\n\u001b[1;37m             ^\u001b[0m\n\u001b[1;31mSyntaxError\u001b[0m\u001b[1;31m:\u001b[0m positional argument follows keyword argument\n"
     ]
    }
   ],
   "source": [
    "def add(a,b=0,*data, **context):\n",
    "    print(f\"a={a},b={b},data={data}, context={context}\")\n",
    "add(b=10,20,30,40,50,60)"
   ]
  },
  {
   "cell_type": "code",
   "execution_count": 34,
   "metadata": {},
   "outputs": [
    {
     "name": "stdout",
     "output_type": "stream",
     "text": [
      "a=10,b=20,data=(), context={}\n"
     ]
    }
   ],
   "source": [
    "def add(a,b=0,*data, **context):\n",
    "    print(f\"a={a},b={b},data={data}, context={context}\")\n",
    "add(a=10,b=20)"
   ]
  },
  {
   "cell_type": "code",
   "execution_count": 35,
   "metadata": {},
   "outputs": [
    {
     "name": "stdout",
     "output_type": "stream",
     "text": [
      "a=10,b=20,data=(), context={'data': (1, 2, 3, 4)}\n"
     ]
    }
   ],
   "source": [
    "def add(a,b=0,*data, **context):\n",
    "    print(f\"a={a},b={b},data={data}, context={context}\")\n",
    "add(a=10,b=20,data=(1,2,3,4))"
   ]
  },
  {
   "cell_type": "code",
   "execution_count": 36,
   "metadata": {},
   "outputs": [
    {
     "ename": "SyntaxError",
     "evalue": "invalid syntax (<ipython-input-36-0a5921b14092>, line 3)",
     "output_type": "error",
     "traceback": [
      "\u001b[1;36m  File \u001b[1;32m\"<ipython-input-36-0a5921b14092>\"\u001b[1;36m, line \u001b[1;32m3\u001b[0m\n\u001b[1;33m    add(a=10,b=20,*data=(1,2,3,4))\u001b[0m\n\u001b[1;37m                       ^\u001b[0m\n\u001b[1;31mSyntaxError\u001b[0m\u001b[1;31m:\u001b[0m invalid syntax\n"
     ]
    }
   ],
   "source": [
    "def add(a,b=0,*data, **context):\n",
    "    print(f\"a={a},b={b},data={data}, context={context}\")\n",
    "add(a=10,b=20,*data=(1,2,3,4))"
   ]
  },
  {
   "cell_type": "code",
   "execution_count": 37,
   "metadata": {},
   "outputs": [
    {
     "name": "stdout",
     "output_type": "stream",
     "text": [
      "a=[10, 20, 30, 40],b=0,data=(), context={}\n"
     ]
    }
   ],
   "source": [
    "l=[10,20,30,40]\n",
    "def add(a,b=0,*data, **context):\n",
    "    print(f\"a={a},b={b},data={data}, context={context}\")\n",
    "add(l)"
   ]
  },
  {
   "cell_type": "code",
   "execution_count": 38,
   "metadata": {},
   "outputs": [
    {
     "name": "stdout",
     "output_type": "stream",
     "text": [
      "a=10,b=20,data=(30, 40), context={}\n"
     ]
    }
   ],
   "source": [
    "l=[10,20,30,40]\n",
    "def add(a,b=0,*data, **context):\n",
    "    print(f\"a={a},b={b},data={data}, context={context}\")\n",
    "add(*l)"
   ]
  },
  {
   "cell_type": "code",
   "execution_count": 39,
   "metadata": {},
   "outputs": [
    {
     "name": "stdout",
     "output_type": "stream",
     "text": [
      "a=20,b=40,data=(), context={'c': 50, 'd': 70}\n"
     ]
    }
   ],
   "source": [
    "l=[10,20,30,40]\n",
    "def add(a,b=0,*data, **context):\n",
    "    print(f\"a={a},b={b},data={data}, context={context}\")\n",
    "d={\"a\":20,\"b\":40,\"c\":50,\"d\":70}\n",
    "add(**d)#add(a=2-,b=40,c=50,d=70)"
   ]
  },
  {
   "cell_type": "code",
   "execution_count": 1,
   "metadata": {},
   "outputs": [
    {
     "name": "stdout",
     "output_type": "stream",
     "text": [
      "before function definition:x=1000,y=2000,z=3000\n",
      "before function call:x=1000,y=2000,z=3000\n",
      "inside function definition:x=1000,y=200,z=123\n",
      "after function call:x=1000,y=2000,z=3000\n"
     ]
    }
   ],
   "source": [
    "x=1000\n",
    "y=2000\n",
    "z=3000\n",
    "print(f\"before function definition:x={x},y={y},z={z}\")\n",
    "def fun(z):\n",
    "    y=200\n",
    "    print(f\"inside function definition:x={x},y={y},z={z}\")\n",
    "print(f\"before function call:x={x},y={y},z={z}\")\n",
    "fun(123)\n",
    "print(f\"after function call:x={x},y={y},z={z}\")"
   ]
  },
  {
   "cell_type": "code",
   "execution_count": 3,
   "metadata": {},
   "outputs": [
    {
     "name": "stdout",
     "output_type": "stream",
     "text": [
      "before function definition:x=1000,y=2000,z=3000\n",
      "before function call:x=1000,y=2000,z=3000\n",
      "inside function definition:x=1000,y=567,z=123\n",
      "after function call:x=1000,y=567,z=3000\n"
     ]
    }
   ],
   "source": [
    "x=1000\n",
    "y=2000\n",
    "z=3000\n",
    "print(f\"before function definition:x={x},y={y},z={z}\")\n",
    "def fun(z):\n",
    "    global y\n",
    "    y=567\n",
    "    print(f\"inside function definition:x={x},y={y},z={z}\")\n",
    "print(f\"before function call:x={x},y={y},z={z}\")\n",
    "fun(123)\n",
    "print(f\"after function call:x={x},y={y},z={z}\")"
   ]
  },
  {
   "cell_type": "code",
   "execution_count": 4,
   "metadata": {},
   "outputs": [
    {
     "name": "stdout",
     "output_type": "stream",
     "text": [
      "30\n"
     ]
    }
   ],
   "source": [
    "def add(x,y):\n",
    "    print(x+y)\n",
    "add(10,20)"
   ]
  },
  {
   "cell_type": "code",
   "execution_count": 5,
   "metadata": {},
   "outputs": [
    {
     "name": "stdout",
     "output_type": "stream",
     "text": [
      "<function add at 0x000002879E77E310>\n",
      "30\n"
     ]
    }
   ],
   "source": [
    "def add(x,y):\n",
    "    print(x+y)\n",
    "print(add)# am I calling add function?: NO: I am printing the reference of add function object\n",
    "add(10,20)"
   ]
  },
  {
   "cell_type": "code",
   "execution_count": 6,
   "metadata": {},
   "outputs": [
    {
     "name": "stdout",
     "output_type": "stream",
     "text": [
      "<function add at 0x000002879E77E5E0> 2781502498272 <class 'function'>\n",
      "30\n"
     ]
    }
   ],
   "source": [
    "def add(x,y):\n",
    "    print(x+y)\n",
    "print(add, id(add), type(add))# am I calling add function?: NO: I am printing the reference of add function object\n",
    "add(10,20)"
   ]
  },
  {
   "cell_type": "code",
   "execution_count": 7,
   "metadata": {},
   "outputs": [
    {
     "ename": "TypeError",
     "evalue": "add() takes 0 positional arguments but 2 were given",
     "output_type": "error",
     "traceback": [
      "\u001b[1;31m---------------------------------------------------------------------------\u001b[0m",
      "\u001b[1;31mTypeError\u001b[0m                                 Traceback (most recent call last)",
      "\u001b[1;32m<ipython-input-7-6c5fc658044d>\u001b[0m in \u001b[0;36m<module>\u001b[1;34m\u001b[0m\n\u001b[0;32m      1\u001b[0m \u001b[1;32mdef\u001b[0m \u001b[0madd\u001b[0m\u001b[1;33m(\u001b[0m\u001b[1;33m)\u001b[0m\u001b[1;33m:\u001b[0m\u001b[1;33m\u001b[0m\u001b[1;33m\u001b[0m\u001b[0m\n\u001b[0;32m      2\u001b[0m     \u001b[0mprint\u001b[0m\u001b[1;33m(\u001b[0m\u001b[1;34m\"hello\"\u001b[0m\u001b[1;33m)\u001b[0m\u001b[1;33m\u001b[0m\u001b[1;33m\u001b[0m\u001b[0m\n\u001b[1;32m----> 3\u001b[1;33m \u001b[0madd\u001b[0m\u001b[1;33m(\u001b[0m\u001b[1;36m10\u001b[0m\u001b[1;33m,\u001b[0m\u001b[1;36m20\u001b[0m\u001b[1;33m)\u001b[0m\u001b[1;33m\u001b[0m\u001b[1;33m\u001b[0m\u001b[0m\n\u001b[0m",
      "\u001b[1;31mTypeError\u001b[0m: add() takes 0 positional arguments but 2 were given"
     ]
    }
   ],
   "source": [
    "def add():\n",
    "    print(\"hello\")\n",
    "add(10,20)"
   ]
  },
  {
   "cell_type": "code",
   "execution_count": 8,
   "metadata": {},
   "outputs": [
    {
     "ename": "TypeError",
     "evalue": "add() got an unexpected keyword argument 'z'",
     "output_type": "error",
     "traceback": [
      "\u001b[1;31m---------------------------------------------------------------------------\u001b[0m",
      "\u001b[1;31mTypeError\u001b[0m                                 Traceback (most recent call last)",
      "\u001b[1;32m<ipython-input-8-ef5fde0d9cba>\u001b[0m in \u001b[0;36m<module>\u001b[1;34m\u001b[0m\n\u001b[0;32m      1\u001b[0m \u001b[1;32mdef\u001b[0m \u001b[0madd\u001b[0m\u001b[1;33m(\u001b[0m\u001b[0mx\u001b[0m\u001b[1;33m,\u001b[0m\u001b[0my\u001b[0m\u001b[1;33m)\u001b[0m\u001b[1;33m:\u001b[0m\u001b[1;33m\u001b[0m\u001b[1;33m\u001b[0m\u001b[0m\n\u001b[0;32m      2\u001b[0m     \u001b[0mprint\u001b[0m\u001b[1;33m(\u001b[0m\u001b[1;34m\"hello\"\u001b[0m\u001b[1;33m)\u001b[0m\u001b[1;33m\u001b[0m\u001b[1;33m\u001b[0m\u001b[0m\n\u001b[1;32m----> 3\u001b[1;33m \u001b[0madd\u001b[0m\u001b[1;33m(\u001b[0m\u001b[0mz\u001b[0m\u001b[1;33m=\u001b[0m\u001b[1;36m30\u001b[0m\u001b[1;33m)\u001b[0m\u001b[1;33m\u001b[0m\u001b[1;33m\u001b[0m\u001b[0m\n\u001b[0m",
      "\u001b[1;31mTypeError\u001b[0m: add() got an unexpected keyword argument 'z'"
     ]
    }
   ],
   "source": [
    "def add(x,y):\n",
    "    print(\"hello\")\n",
    "add(z=30)"
   ]
  },
  {
   "cell_type": "code",
   "execution_count": 9,
   "metadata": {},
   "outputs": [
    {
     "name": "stdout",
     "output_type": "stream",
     "text": [
      "hello\n"
     ]
    }
   ],
   "source": [
    "def add(x,y):\n",
    "    print(\"hello\")\n",
    "add(x=30,y=40)"
   ]
  },
  {
   "cell_type": "code",
   "execution_count": 10,
   "metadata": {},
   "outputs": [],
   "source": [
    "def fun():\n",
    "    print(\"hello\")"
   ]
  },
  {
   "cell_type": "code",
   "execution_count": 11,
   "metadata": {},
   "outputs": [
    {
     "name": "stdout",
     "output_type": "stream",
     "text": [
      "hi\n"
     ]
    }
   ],
   "source": [
    "def fun():\n",
    "    print(\"hello\")\n",
    "print(\"hi\")"
   ]
  },
  {
   "cell_type": "code",
   "execution_count": 12,
   "metadata": {},
   "outputs": [
    {
     "name": "stdout",
     "output_type": "stream",
     "text": [
      "hi\n",
      "hello\n"
     ]
    }
   ],
   "source": [
    "def fun():\n",
    "    print(\"hello\")\n",
    "print(\"hi\")\n",
    "fun()"
   ]
  },
  {
   "cell_type": "code",
   "execution_count": 13,
   "metadata": {},
   "outputs": [
    {
     "name": "stdout",
     "output_type": "stream",
     "text": [
      "[1, 2, 3]\n",
      "[1000, 2, 3]\n"
     ]
    }
   ],
   "source": [
    "l=[1,2,3]\n",
    "print(l)\n",
    "def fun(x):\n",
    "    x[0]=1000\n",
    "fun(l)\n",
    "print(l)"
   ]
  },
  {
   "cell_type": "code",
   "execution_count": 14,
   "metadata": {},
   "outputs": [
    {
     "name": "stdout",
     "output_type": "stream",
     "text": [
      "3000\n",
      "3000\n"
     ]
    }
   ],
   "source": [
    "l=[1,2,3]\n",
    "x=3000\n",
    "print(x)\n",
    "def fun(y):\n",
    "    y=1000\n",
    "fun(x)\n",
    "print(x)"
   ]
  },
  {
   "cell_type": "code",
   "execution_count": 15,
   "metadata": {},
   "outputs": [
    {
     "name": "stdout",
     "output_type": "stream",
     "text": [
      "1000 2781502407600\n",
      "1000 2781502409840\n"
     ]
    }
   ],
   "source": [
    "a=1000\n",
    "b=1000\n",
    "print(a,id(a))\n",
    "print(b,id(b))"
   ]
  },
  {
   "cell_type": "code",
   "execution_count": 16,
   "metadata": {},
   "outputs": [
    {
     "name": "stdout",
     "output_type": "stream",
     "text": [
      "1000 2781502409968\n",
      "1000 2781502409968\n"
     ]
    }
   ],
   "source": [
    "a=1000\n",
    "b=a\n",
    "print(a,id(a))\n",
    "print(b,id(b))"
   ]
  },
  {
   "cell_type": "code",
   "execution_count": 17,
   "metadata": {},
   "outputs": [
    {
     "name": "stdout",
     "output_type": "stream",
     "text": [
      "1000 2781502409712\n",
      "1000 2781502409712\n"
     ]
    }
   ],
   "source": [
    "a=1000\n",
    "print(a,id(a))\n",
    "def fun(b):# b=1000 or b=a:   b=a is going to assign here\n",
    "    print(b,id(b))\n",
    "fun(a)"
   ]
  },
  {
   "cell_type": "code",
   "execution_count": 18,
   "metadata": {},
   "outputs": [
    {
     "name": "stdout",
     "output_type": "stream",
     "text": [
      "1000 2781502410000\n",
      "1000 2781502410224\n"
     ]
    }
   ],
   "source": [
    "a=1000\n",
    "print(a,id(a))\n",
    "def fun(b):# b=1000  is going to assign here\n",
    "    print(b,id(b))\n",
    "fun(1000)"
   ]
  },
  {
   "cell_type": "code",
   "execution_count": null,
   "metadata": {},
   "outputs": [],
   "source": [
    "a=1000\n",
    "b=2000\n",
    "c=3000\n",
    "def add(x,y):\n",
    "    global z\n",
    "    z=x+y\n",
    "    c=4000\n",
    "    print(f\"inside a={a} b={b}, c={c}, x={x}, y={y}, z={z}\")\n",
    "add(a,b)\n",
    "print(f\"after call a={a} b={b}, c={c}, x={x}, y={y}, z={z}\")\n",
    "add(a,c)\n",
    "print(f\"after call a={a} b={b}, c={c}, x={x}, y={y}, z={z}\")\n",
    "add(b,c)"
   ]
  },
  {
   "cell_type": "code",
   "execution_count": 1,
   "metadata": {},
   "outputs": [
    {
     "name": "stdout",
     "output_type": "stream",
     "text": [
      "1000 1585632024304\n",
      "2000 1585632024336\n",
      "1000 1585632024304\n",
      "2000 1585632024336\n"
     ]
    }
   ],
   "source": [
    "a=1000\n",
    "b=2000\n",
    "print(a,id(a))\n",
    "print(b,id(b))\n",
    "def fun(x,y):# x=a\n",
    "    print(x,id(x))\n",
    "    print(y, id(y))\n",
    "fun(a,b)"
   ]
  },
  {
   "cell_type": "code",
   "execution_count": 2,
   "metadata": {},
   "outputs": [],
   "source": [
    "def add(x,y):\n",
    "    res=x+y\n",
    "add(10,20)  "
   ]
  },
  {
   "cell_type": "code",
   "execution_count": 3,
   "metadata": {},
   "outputs": [
    {
     "name": "stdout",
     "output_type": "stream",
     "text": [
      "res1= None\n"
     ]
    }
   ],
   "source": [
    "def add(x,y):\n",
    "    res=x+y\n",
    "res1 = add(10,20)  \n",
    "print(\"res1=\",res1)"
   ]
  },
  {
   "cell_type": "code",
   "execution_count": 4,
   "metadata": {},
   "outputs": [
    {
     "name": "stdout",
     "output_type": "stream",
     "text": [
      "res= 30\n",
      "res1= None\n"
     ]
    }
   ],
   "source": [
    "def add(x,y):\n",
    "    res=x+y\n",
    "    print(\"res=\",res)\n",
    "res1 = add(10,20)  \n",
    "print(\"res1=\",res1)"
   ]
  },
  {
   "cell_type": "code",
   "execution_count": 5,
   "metadata": {},
   "outputs": [
    {
     "name": "stdout",
     "output_type": "stream",
     "text": [
      "result= None\n"
     ]
    }
   ],
   "source": [
    "def calc(x,y):\n",
    "    res1=x+y\n",
    "    res2=x-y\n",
    "    res3=x*y\n",
    "    res4=x/y\n",
    "result = calc(10,20)  \n",
    "print(\"result=\",result)"
   ]
  },
  {
   "cell_type": "code",
   "execution_count": 6,
   "metadata": {},
   "outputs": [
    {
     "name": "stdout",
     "output_type": "stream",
     "text": [
      "result= None\n"
     ]
    }
   ],
   "source": [
    "def calc(x,y):\n",
    "    res1=x+y\n",
    "    res2=x-y\n",
    "    res3=x*y\n",
    "    res4=x/y\n",
    "    #return None\n",
    "result = calc(10,20)  \n",
    "print(\"result=\",result)"
   ]
  },
  {
   "cell_type": "code",
   "execution_count": 7,
   "metadata": {},
   "outputs": [
    {
     "name": "stdout",
     "output_type": "stream",
     "text": [
      "result= HELLO\n"
     ]
    }
   ],
   "source": [
    "def calc(x,y):\n",
    "    res1=x+y\n",
    "    res2=x-y\n",
    "    res3=x*y\n",
    "    res4=x/y\n",
    "    return \"HELLO\"\n",
    "result = calc(10,20)  \n",
    "print(\"result=\",result)"
   ]
  },
  {
   "cell_type": "code",
   "execution_count": 8,
   "metadata": {},
   "outputs": [
    {
     "name": "stdout",
     "output_type": "stream",
     "text": [
      "result= 200\n"
     ]
    }
   ],
   "source": [
    "def calc(x,y):\n",
    "    res1=x+y\n",
    "    res2=x-y\n",
    "    res3=x*y\n",
    "    res4=x/y\n",
    "    return 200\n",
    "result = calc(10,20)  \n",
    "print(\"result=\",result)"
   ]
  },
  {
   "cell_type": "code",
   "execution_count": 9,
   "metadata": {},
   "outputs": [
    {
     "name": "stdout",
     "output_type": "stream",
     "text": [
      "result= 30\n"
     ]
    }
   ],
   "source": [
    "def calc(x,y):\n",
    "    res1=x+y\n",
    "    res2=x-y\n",
    "    res3=x*y\n",
    "    res4=x/y\n",
    "    return res1\n",
    "result = calc(10,20)  \n",
    "print(\"result=\",result)"
   ]
  },
  {
   "cell_type": "code",
   "execution_count": 10,
   "metadata": {},
   "outputs": [
    {
     "name": "stdout",
     "output_type": "stream",
     "text": [
      "result= -10\n"
     ]
    }
   ],
   "source": [
    "def calc(x,y):\n",
    "    res1=x+y\n",
    "    res2=x-y\n",
    "    res3=x*y\n",
    "    res4=x/y\n",
    "    return res2\n",
    "result = calc(10,20)  \n",
    "print(\"result=\",result)"
   ]
  },
  {
   "cell_type": "code",
   "execution_count": 11,
   "metadata": {},
   "outputs": [
    {
     "name": "stdout",
     "output_type": "stream",
     "text": [
      "result= (30, -10, 200, 0.5)\n"
     ]
    }
   ],
   "source": [
    "def calc(x,y):\n",
    "    res1=x+y\n",
    "    res2=x-y\n",
    "    res3=x*y\n",
    "    res4=x/y\n",
    "    return res1,res2,res3,res4\n",
    "result = calc(10,20)  \n",
    "print(\"result=\",result)"
   ]
  },
  {
   "cell_type": "code",
   "execution_count": 12,
   "metadata": {},
   "outputs": [
    {
     "name": "stdout",
     "output_type": "stream",
     "text": [
      "result= [30, -10, 200, 0.5]\n"
     ]
    }
   ],
   "source": [
    "def calc(x,y):\n",
    "    res1=x+y\n",
    "    res2=x-y\n",
    "    res3=x*y\n",
    "    res4=x/y\n",
    "    return [res1,res2,res3,res4]\n",
    "result = calc(10,20)  \n",
    "print(\"result=\",result)"
   ]
  },
  {
   "cell_type": "code",
   "execution_count": 13,
   "metadata": {},
   "outputs": [
    {
     "name": "stdout",
     "output_type": "stream",
     "text": [
      "result= {'Result': [30, -10, 200, 0.5]}\n"
     ]
    }
   ],
   "source": [
    "def calc(x,y):\n",
    "    res1=x+y\n",
    "    res2=x-y\n",
    "    res3=x*y\n",
    "    res4=x/y\n",
    "    return {\"Result\":[res1,res2,res3,res4]}\n",
    "result = calc(10,20)  \n",
    "print(\"result=\",result)"
   ]
  },
  {
   "cell_type": "code",
   "execution_count": 14,
   "metadata": {},
   "outputs": [
    {
     "name": "stdout",
     "output_type": "stream",
     "text": [
      "hyderabad\n",
      "result= 10\n"
     ]
    }
   ],
   "source": [
    "def fun():\n",
    "    print(\"hyderabad\")\n",
    "    return 10\n",
    "    print(\"banglore\")\n",
    "    return 20\n",
    "    print(\"mumbai\")\n",
    "    return 30\n",
    "res=fun()\n",
    "print(\"result=\",res)"
   ]
  },
  {
   "cell_type": "code",
   "execution_count": 15,
   "metadata": {},
   "outputs": [
    {
     "name": "stdout",
     "output_type": "stream",
     "text": [
      "hyderabad\n",
      "banglore\n",
      "result= 20\n"
     ]
    }
   ],
   "source": [
    "def fun():\n",
    "    print(\"hyderabad\")\n",
    "    if False:\n",
    "        return 10\n",
    "    print(\"banglore\")\n",
    "    return 20\n",
    "    print(\"mumbai\")\n",
    "    return 30\n",
    "res=fun()\n",
    "print(\"result=\",res)"
   ]
  },
  {
   "cell_type": "code",
   "execution_count": 16,
   "metadata": {},
   "outputs": [
    {
     "name": "stdout",
     "output_type": "stream",
     "text": [
      "hyderabad\n",
      "banglore\n",
      "mumbai\n",
      "result= 30\n"
     ]
    }
   ],
   "source": [
    "def fun():\n",
    "    print(\"hyderabad\")\n",
    "    if False:\n",
    "        return 10\n",
    "    print(\"banglore\")\n",
    "    if 1>2:\n",
    "        return 20\n",
    "    print(\"mumbai\")\n",
    "    return 30\n",
    "res=fun()\n",
    "print(\"result=\",res)"
   ]
  },
  {
   "cell_type": "code",
   "execution_count": 17,
   "metadata": {},
   "outputs": [
    {
     "name": "stdout",
     "output_type": "stream",
     "text": [
      "EVEN\n",
      "ODD\n"
     ]
    }
   ],
   "source": [
    "def get_even_odd(number):\n",
    "    if number%2==0:\n",
    "        return \"EVEN\"\n",
    "    else:\n",
    "        return \"ODD\"\n",
    "print(get_even_odd(10))\n",
    "print(get_even_odd(11))"
   ]
  },
  {
   "cell_type": "code",
   "execution_count": 18,
   "metadata": {},
   "outputs": [
    {
     "name": "stdout",
     "output_type": "stream",
     "text": [
      "EVEN\n",
      "ODD\n"
     ]
    }
   ],
   "source": [
    "def get_even_odd(number):\n",
    "    return \"EVEN\" if number%2==0 else \"ODD\"\n",
    "print(get_even_odd(10))\n",
    "print(get_even_odd(11))"
   ]
  },
  {
   "cell_type": "code",
   "execution_count": 19,
   "metadata": {},
   "outputs": [
    {
     "name": "stdout",
     "output_type": "stream",
     "text": [
      "True\n",
      "False\n"
     ]
    }
   ],
   "source": [
    "def check_even(number):\n",
    "    return True if number%2==0 else False\n",
    "print(check_even(10))\n",
    "print(check_even(11))"
   ]
  },
  {
   "cell_type": "code",
   "execution_count": 20,
   "metadata": {},
   "outputs": [
    {
     "name": "stdout",
     "output_type": "stream",
     "text": [
      "True\n",
      "False\n"
     ]
    }
   ],
   "source": [
    "def check_even(number):\n",
    "    return number%2==0\n",
    "print(check_even(10))\n",
    "print(check_even(11))"
   ]
  },
  {
   "cell_type": "code",
   "execution_count": null,
   "metadata": {},
   "outputs": [],
   "source": [
    "# WAP to check given number is positive or negative\n",
    "# WAP to check given string contains atleast one character or not."
   ]
  },
  {
   "cell_type": "code",
   "execution_count": 21,
   "metadata": {},
   "outputs": [
    {
     "name": "stdout",
     "output_type": "stream",
     "text": [
      "result= <generator object fun at 0x00000171304520B0>\n"
     ]
    }
   ],
   "source": [
    "def fun():\n",
    "    print(\"hyderabad\")\n",
    "    yield 10\n",
    "    print(\"banglore\")\n",
    "    yield 20\n",
    "    print(\"mumbai\")\n",
    "    yield 30\n",
    "res=fun()\n",
    "print(\"result=\",res)"
   ]
  },
  {
   "cell_type": "code",
   "execution_count": 22,
   "metadata": {},
   "outputs": [],
   "source": [
    "# fundemental programtical rule is. if you call a function, it hast to execute the statements of the function.\n",
    "#does it hapennning in above?"
   ]
  },
  {
   "cell_type": "code",
   "execution_count": 23,
   "metadata": {},
   "outputs": [
    {
     "name": "stdout",
     "output_type": "stream",
     "text": [
      "result= <generator object fun at 0x00000171304524A0>\n",
      "h1\n",
      "hyderabad\n",
      "res1= 10\n"
     ]
    }
   ],
   "source": [
    "def fun():\n",
    "    print(\"h1\")\n",
    "    print(\"hyderabad\")\n",
    "    yield 10\n",
    "    print(\"banglore\")\n",
    "    yield 20\n",
    "    print(\"h2\")\n",
    "    print(\"h3\")\n",
    "    print(\"mumbai\")\n",
    "    yield 30\n",
    "res=fun()\n",
    "print(\"result=\",res)\n",
    "res1=next(res)\n",
    "print(\"res1=\",res1)"
   ]
  },
  {
   "cell_type": "code",
   "execution_count": 25,
   "metadata": {},
   "outputs": [
    {
     "name": "stdout",
     "output_type": "stream",
     "text": [
      "result= <generator object fun at 0x00000171304522E0>\n",
      "h1\n",
      "hyderabad\n",
      "res1= 10\n",
      "banglore\n",
      "res2= 20\n"
     ]
    }
   ],
   "source": [
    "def fun():\n",
    "    print(\"h1\")\n",
    "    print(\"hyderabad\")\n",
    "    yield 10\n",
    "    print(\"banglore\")\n",
    "    yield 20\n",
    "    print(\"h2\")\n",
    "    print(\"h3\")\n",
    "    print(\"mumbai\")\n",
    "    yield 30\n",
    "res=fun()\n",
    "print(\"result=\",res)\n",
    "res1=next(res)\n",
    "print(\"res1=\",res1)\n",
    "res2=next(res)\n",
    "print(\"res2=\",res2)"
   ]
  },
  {
   "cell_type": "code",
   "execution_count": 26,
   "metadata": {},
   "outputs": [
    {
     "name": "stdout",
     "output_type": "stream",
     "text": [
      "result= <generator object fun at 0x0000017130452900>\n",
      "h1\n",
      "hyderabad\n",
      "res1= 10\n",
      "banglore\n",
      "res2= 20\n",
      "h2\n",
      "h3\n",
      "mumbai\n",
      "res3= 30\n"
     ]
    }
   ],
   "source": [
    "def fun():\n",
    "    print(\"h1\")\n",
    "    print(\"hyderabad\")\n",
    "    yield 10\n",
    "    print(\"banglore\")\n",
    "    yield 20\n",
    "    print(\"h2\")\n",
    "    print(\"h3\")\n",
    "    print(\"mumbai\")\n",
    "    yield 30\n",
    "res=fun()\n",
    "print(\"result=\",res)\n",
    "res1=next(res)\n",
    "print(\"res1=\",res1)\n",
    "res2=next(res)\n",
    "print(\"res2=\",res2)\n",
    "res3=next(res)\n",
    "print(\"res3=\",res3)"
   ]
  },
  {
   "cell_type": "code",
   "execution_count": 27,
   "metadata": {},
   "outputs": [
    {
     "name": "stdout",
     "output_type": "stream",
     "text": [
      "result= <generator object fun at 0x0000017130452C10>\n",
      "h1\n",
      "hyderabad\n",
      "res1= 10\n",
      "banglore\n",
      "res2= 20\n",
      "h2\n",
      "h3\n",
      "mumbai\n",
      "res3= 30\n"
     ]
    },
    {
     "ename": "StopIteration",
     "evalue": "",
     "output_type": "error",
     "traceback": [
      "\u001b[1;31m---------------------------------------------------------------------------\u001b[0m",
      "\u001b[1;31mStopIteration\u001b[0m                             Traceback (most recent call last)",
      "\u001b[1;32m<ipython-input-27-6156cbb27c37>\u001b[0m in \u001b[0;36m<module>\u001b[1;34m\u001b[0m\n\u001b[0;32m     17\u001b[0m \u001b[0mres3\u001b[0m\u001b[1;33m=\u001b[0m\u001b[0mnext\u001b[0m\u001b[1;33m(\u001b[0m\u001b[0mres\u001b[0m\u001b[1;33m)\u001b[0m\u001b[1;33m\u001b[0m\u001b[1;33m\u001b[0m\u001b[0m\n\u001b[0;32m     18\u001b[0m \u001b[0mprint\u001b[0m\u001b[1;33m(\u001b[0m\u001b[1;34m\"res3=\"\u001b[0m\u001b[1;33m,\u001b[0m\u001b[0mres3\u001b[0m\u001b[1;33m)\u001b[0m\u001b[1;33m\u001b[0m\u001b[1;33m\u001b[0m\u001b[0m\n\u001b[1;32m---> 19\u001b[1;33m \u001b[0mres4\u001b[0m\u001b[1;33m=\u001b[0m\u001b[0mnext\u001b[0m\u001b[1;33m(\u001b[0m\u001b[0mres\u001b[0m\u001b[1;33m)\u001b[0m\u001b[1;33m\u001b[0m\u001b[1;33m\u001b[0m\u001b[0m\n\u001b[0m\u001b[0;32m     20\u001b[0m \u001b[0mprint\u001b[0m\u001b[1;33m(\u001b[0m\u001b[1;34m\"res4=\"\u001b[0m\u001b[1;33m,\u001b[0m\u001b[0mres\u001b[0m\u001b[1;33m)\u001b[0m\u001b[1;33m\u001b[0m\u001b[1;33m\u001b[0m\u001b[0m\n",
      "\u001b[1;31mStopIteration\u001b[0m: "
     ]
    }
   ],
   "source": [
    "def fun():\n",
    "    print(\"h1\")\n",
    "    print(\"hyderabad\")\n",
    "    yield 10\n",
    "    print(\"banglore\")\n",
    "    yield 20\n",
    "    print(\"h2\")\n",
    "    print(\"h3\")\n",
    "    print(\"mumbai\")\n",
    "    yield 30\n",
    "res=fun()\n",
    "print(\"result=\",res)\n",
    "res1=next(res)\n",
    "print(\"res1=\",res1)\n",
    "res2=next(res)\n",
    "print(\"res2=\",res2)\n",
    "res3=next(res)\n",
    "print(\"res3=\",res3)\n",
    "res4=next(res)\n",
    "print(\"res4=\",res)"
   ]
  },
  {
   "cell_type": "code",
   "execution_count": 28,
   "metadata": {},
   "outputs": [
    {
     "name": "stdout",
     "output_type": "stream",
     "text": [
      "res= <generator object fun at 0x00000171303893C0>\n",
      "h1\n",
      "hyderabad\n",
      "iteration started.\n",
      "i= 10\n",
      "iteration ended.\n",
      "banglore\n",
      "iteration started.\n",
      "i= 20\n",
      "iteration ended.\n",
      "h2\n",
      "h3\n",
      "mumbai\n",
      "iteration started.\n",
      "i= 30\n",
      "iteration ended.\n",
      "DONE\n"
     ]
    }
   ],
   "source": [
    "def fun():\n",
    "    print(\"h1\")\n",
    "    print(\"hyderabad\")\n",
    "    yield 10\n",
    "    print(\"banglore\")\n",
    "    yield 20\n",
    "    print(\"h2\")\n",
    "    print(\"h3\")\n",
    "    print(\"mumbai\")\n",
    "    yield 30\n",
    "res=fun()\n",
    "print(\"res=\",res)\n",
    "for i in res:\n",
    "    print(\"iteration started.\")\n",
    "    print(\"i=\",i)\n",
    "    print(\"iteration ended.\")\n",
    "print(\"DONE\")"
   ]
  },
  {
   "cell_type": "code",
   "execution_count": 29,
   "metadata": {},
   "outputs": [
    {
     "name": "stdout",
     "output_type": "stream",
     "text": [
      "res= <generator object fun at 0x00000171303896D0>\n",
      "h1\n",
      "hyderabad\n",
      "iteration 1 started\n",
      "i= 10\n",
      "iteration 1 ended\n",
      "banglore\n",
      "iteration 2 started\n",
      "i= 20\n",
      "iteration 2 ended\n",
      "h2\n",
      "h3\n",
      "mumbai\n",
      "iteration 3 started\n",
      "i= 30\n",
      "iteration 3 ended\n",
      "DONE\n"
     ]
    }
   ],
   "source": [
    "def fun():\n",
    "    print(\"h1\")\n",
    "    print(\"hyderabad\")\n",
    "    yield 10\n",
    "    print(\"banglore\")\n",
    "    yield 20\n",
    "    print(\"h2\")\n",
    "    print(\"h3\")\n",
    "    print(\"mumbai\")\n",
    "    yield 30\n",
    "res=fun()\n",
    "print(\"res=\",res)\n",
    "c=1\n",
    "for i in res:#next(res): i=10, next(res):i=20, next(res): i=30, next(res): STOP ITERATION ERROR\n",
    "    print(\"iteration %s started\"%c)\n",
    "    print(\"i=\",i)\n",
    "    print(\"iteration %s ended\" % c)\n",
    "    c=c+1\n",
    "print(\"DONE\")"
   ]
  },
  {
   "cell_type": "code",
   "execution_count": 1,
   "metadata": {},
   "outputs": [
    {
     "name": "stdout",
     "output_type": "stream",
     "text": [
      "30\n",
      "-10\n",
      "200\n"
     ]
    }
   ],
   "source": [
    "# developer has to test each function\n",
    "# he has to write unittest cases\n",
    "# the tester has to write test cases for each functionality\n",
    "# the automation developer has to write automation test cases\n",
    "def add(x,y):# DEV:10, tester:30 test cases \n",
    "    return x+y\n",
    "def sub(x,y):# DEV:10, tester:30 test cases \n",
    "    return x-y\n",
    "def mul(x,y):# DEV:10, tester:30 test cases \n",
    "    return x*y\n",
    "print(add(10,20))\n",
    "print(sub(10,20))\n",
    "print(mul(10,20))"
   ]
  },
  {
   "cell_type": "code",
   "execution_count": 3,
   "metadata": {},
   "outputs": [
    {
     "name": "stdout",
     "output_type": "stream",
     "text": [
      "x=10, y=20\n",
      "result= 30\n",
      "x=10, y=20\n",
      "result= -10\n",
      "x=10, y=20\n",
      "result=200\n"
     ]
    }
   ],
   "source": [
    "#x=10, y=20, result=value\n",
    "def add(x,y):\n",
    "    print(f\"x={x}, y={y}\")\n",
    "    return \"result= %s\"%(x+y)\n",
    "def sub(x,y):\n",
    "    print(f\"x={x}, y={y}\")\n",
    "    return \"result= %s\" %(x-y)\n",
    "def mul(x,y):\n",
    "    print(f\"x={x}, y={y}\")\n",
    "    return \"result=%s\" %(x*y)\n",
    "print(add(10,20))\n",
    "print(sub(10,20))\n",
    "print(mul(10,20))"
   ]
  },
  {
   "cell_type": "code",
   "execution_count": null,
   "metadata": {},
   "outputs": [],
   "source": [
    "#x=10, y=20, result=value\n",
    "def print_values(x,y):\n",
    "    print(f\"x={x}, y={y}\")\n",
    "    \n",
    "def add(x,y):\n",
    "    print_values(x,y)\n",
    "    return \"result= %s\"%(x+y)\n",
    "def sub(x,y):\n",
    "    print_values(x,y)\n",
    "    return \"result= %s\" %(x-y)\n",
    "def mul(x,y):\n",
    "    print_values(x,y)\n",
    "    return \"result=%s\" %(x*y)\n",
    "print(add(10,20))\n",
    "print(sub(10,20))\n",
    "print(mul(10,20))"
   ]
  },
  {
   "cell_type": "code",
   "execution_count": 4,
   "metadata": {},
   "outputs": [
    {
     "name": "stdout",
     "output_type": "stream",
     "text": [
      "2000\n"
     ]
    }
   ],
   "source": [
    "def add(x,y):\n",
    "    return x+y\n",
    "a=2000\n",
    "# a and add both are references.\n",
    "b=a\n",
    "print(b)"
   ]
  },
  {
   "cell_type": "code",
   "execution_count": 5,
   "metadata": {},
   "outputs": [
    {
     "name": "stdout",
     "output_type": "stream",
     "text": [
      "2000\n"
     ]
    }
   ],
   "source": [
    "def add(x,y):\n",
    "    return x+y\n",
    "a=2000\n",
    "# a and add both are references.\n",
    "b=a\n",
    "# able to asssign a reference to b reference..\n",
    "print(b)\n",
    "# like the above I can assign add to some other referecnes.\n",
    "add1=add"
   ]
  },
  {
   "cell_type": "code",
   "execution_count": 6,
   "metadata": {},
   "outputs": [
    {
     "name": "stdout",
     "output_type": "stream",
     "text": [
      "2000\n"
     ]
    }
   ],
   "source": [
    "def add(x,y):\n",
    "    return x+y\n",
    "a=2000\n",
    "# a and add both are references.\n",
    "b=a\n",
    "# able to asssign a reference to b reference.. a and b are refereing the same object\n",
    "print(b)\n",
    "# like the above I can assign add to some other referecnes.\n",
    "add1=add # add and add1 referingthe same object"
   ]
  },
  {
   "cell_type": "code",
   "execution_count": 7,
   "metadata": {},
   "outputs": [
    {
     "name": "stdout",
     "output_type": "stream",
     "text": [
      "2000\n",
      "30 30\n"
     ]
    }
   ],
   "source": [
    "def add(x,y):\n",
    "    return x+y\n",
    "a=2000\n",
    "# a and add both are references.\n",
    "b=a\n",
    "# able to asssign a reference to b reference.. a and b are refereing the same object\n",
    "print(b)\n",
    "# like the above I can assign add to some other referecnes.\n",
    "add1=add # add and add1 referingthe same object\n",
    "res=add(10,20)\n",
    "res1=add(10,20)\n",
    "print(res, res1)"
   ]
  },
  {
   "cell_type": "code",
   "execution_count": 8,
   "metadata": {},
   "outputs": [
    {
     "name": "stdout",
     "output_type": "stream",
     "text": [
      "2000\n",
      "30 30\n",
      "2200\n"
     ]
    }
   ],
   "source": [
    "def add(x,y):\n",
    "    return x+y\n",
    "def take_fun(fun_para):\n",
    "    print(fun_para)\n",
    "a=2000\n",
    "# a and add both are references.\n",
    "b=a\n",
    "# able to asssign a reference to b reference.. a and b are refereing the same object\n",
    "print(b)\n",
    "# like the above I can assign add to some other referecnes.\n",
    "add1=add # add and add1 referingthe same object\n",
    "res=add(10,20)\n",
    "res1=add(10,20)\n",
    "print(res, res1)\n",
    "res2=add(a,200)\n",
    "print(res2)"
   ]
  },
  {
   "cell_type": "code",
   "execution_count": 9,
   "metadata": {},
   "outputs": [
    {
     "name": "stdout",
     "output_type": "stream",
     "text": [
      "2000\n",
      "30 30\n",
      "2200\n",
      "<function add at 0x00000204F408EDC0>\n"
     ]
    }
   ],
   "source": [
    "def add(x,y):\n",
    "    return x+y\n",
    "def take_fun(fun_para):\n",
    "    print(fun_para)\n",
    "a=2000\n",
    "# a and add both are references.\n",
    "b=a\n",
    "# able to asssign a reference to b reference.. a and b are refereing the same object\n",
    "print(b)\n",
    "# like the above I can assign add to some other referecnes.\n",
    "add1=add # add and add1 referingthe same object\n",
    "res=add(10,20)\n",
    "res1=add(10,20)\n",
    "print(res, res1)\n",
    "res2=add(a,200)\n",
    "print(res2)\n",
    "take_fun(add)"
   ]
  },
  {
   "cell_type": "code",
   "execution_count": 10,
   "metadata": {},
   "outputs": [
    {
     "name": "stdout",
     "output_type": "stream",
     "text": [
      "2000\n",
      "30 30\n",
      "2200\n",
      "<function add at 0x00000204F408E790>\n",
      "res3= 30\n"
     ]
    }
   ],
   "source": [
    "def add(x,y):\n",
    "    return x+y\n",
    "def take_fun(fun_para):\n",
    "    print(fun_para)\n",
    "    res3=fun_para(10,20)\n",
    "    print(\"res3=\",res3)\n",
    "a=2000\n",
    "# a and add both are references.\n",
    "b=a\n",
    "# able to asssign a reference to b reference.. a and b are refereing the same object\n",
    "print(b)\n",
    "# like the above I can assign add to some other referecnes.\n",
    "add1=add # add and add1 referingthe same object\n",
    "res=add(10,20)\n",
    "res1=add(10,20)\n",
    "print(res, res1)\n",
    "res2=add(a,200)\n",
    "print(res2)\n",
    "take_fun(add)"
   ]
  },
  {
   "cell_type": "code",
   "execution_count": 11,
   "metadata": {},
   "outputs": [
    {
     "name": "stdout",
     "output_type": "stream",
     "text": [
      "<function add at 0x00000204F408E280>\n",
      "res3= 30\n"
     ]
    }
   ],
   "source": [
    "def add(x,y):\n",
    "    return x+y\n",
    "def take_fun(fun_para):\n",
    "    print(fun_para)\n",
    "    res3=fun_para(10,20)\n",
    "    print(\"res3=\",res3)\n",
    "take_fun(add)"
   ]
  },
  {
   "cell_type": "code",
   "execution_count": 12,
   "metadata": {},
   "outputs": [
    {
     "name": "stdout",
     "output_type": "stream",
     "text": [
      "this is outer\n"
     ]
    }
   ],
   "source": [
    "def outer():\n",
    "    print(\"this is outer\")\n",
    "    def inner(x,y):\n",
    "        print(\"this is inner\")\n",
    "        print(f\"x={x}, y={y}\")\n",
    "outer()"
   ]
  },
  {
   "cell_type": "code",
   "execution_count": 13,
   "metadata": {},
   "outputs": [
    {
     "name": "stdout",
     "output_type": "stream",
     "text": [
      "this is outer\n",
      "this is inner\n",
      "x=10, y=20\n"
     ]
    }
   ],
   "source": [
    "def outer():\n",
    "    print(\"this is outer\")\n",
    "    def inner(x,y):\n",
    "        print(\"this is inner\")\n",
    "        print(f\"x={x}, y={y}\")\n",
    "    inner(10,20)# in which function this statment is?: outer\n",
    "outer()"
   ]
  },
  {
   "cell_type": "code",
   "execution_count": null,
   "metadata": {},
   "outputs": [],
   "source": [
    "def outer():\n",
    "    print(\"this is outer\")\n",
    "    def inner(x,y):\n",
    "        print(\"this is inner\")\n",
    "        print(f\"x={x}, y={y}\")\n",
    "    #inner(10,20)# in which function this statment is?: outer\n",
    "outer()\n",
    "# would like to call inner here. How can I call it?"
   ]
  },
  {
   "cell_type": "code",
   "execution_count": 14,
   "metadata": {},
   "outputs": [
    {
     "ename": "NameError",
     "evalue": "name 'inner' is not defined",
     "output_type": "error",
     "traceback": [
      "\u001b[1;31m---------------------------------------------------------------------------\u001b[0m",
      "\u001b[1;31mNameError\u001b[0m                                 Traceback (most recent call last)",
      "\u001b[1;32m<ipython-input-14-62cd268fc3f4>\u001b[0m in \u001b[0;36m<module>\u001b[1;34m\u001b[0m\n\u001b[0;32m      5\u001b[0m         \u001b[0mprint\u001b[0m\u001b[1;33m(\u001b[0m\u001b[1;34mf\"x={x}, y={y}\"\u001b[0m\u001b[1;33m)\u001b[0m\u001b[1;33m\u001b[0m\u001b[1;33m\u001b[0m\u001b[0m\n\u001b[0;32m      6\u001b[0m     \u001b[1;31m#inner(10,20)# in which function this statment is?: outer\u001b[0m\u001b[1;33m\u001b[0m\u001b[1;33m\u001b[0m\u001b[1;33m\u001b[0m\u001b[0m\n\u001b[1;32m----> 7\u001b[1;33m \u001b[0mouter\u001b[0m\u001b[1;33m(\u001b[0m\u001b[0minner\u001b[0m\u001b[1;33m(\u001b[0m\u001b[1;33m)\u001b[0m\u001b[1;33m)\u001b[0m\u001b[1;33m\u001b[0m\u001b[1;33m\u001b[0m\u001b[0m\n\u001b[0m\u001b[0;32m      8\u001b[0m \u001b[1;31m# would like to call inner here. How can I call it?\u001b[0m\u001b[1;33m\u001b[0m\u001b[1;33m\u001b[0m\u001b[1;33m\u001b[0m\u001b[0m\n",
      "\u001b[1;31mNameError\u001b[0m: name 'inner' is not defined"
     ]
    }
   ],
   "source": [
    "def outer():\n",
    "    print(\"this is outer\")\n",
    "    def inner(x,y):\n",
    "        print(\"this is inner\")\n",
    "        print(f\"x={x}, y={y}\")\n",
    "    #inner(10,20)# in which function this statment is?: outer\n",
    "outer(inner())\n",
    "# would like to call inner here. How can I call it?"
   ]
  },
  {
   "cell_type": "code",
   "execution_count": 15,
   "metadata": {},
   "outputs": [
    {
     "ename": "NameError",
     "evalue": "name 'inner' is not defined",
     "output_type": "error",
     "traceback": [
      "\u001b[1;31m---------------------------------------------------------------------------\u001b[0m",
      "\u001b[1;31mNameError\u001b[0m                                 Traceback (most recent call last)",
      "\u001b[1;32m<ipython-input-15-5688c89b1540>\u001b[0m in \u001b[0;36m<module>\u001b[1;34m\u001b[0m\n\u001b[0;32m      5\u001b[0m         \u001b[0mprint\u001b[0m\u001b[1;33m(\u001b[0m\u001b[1;34mf\"x={x}, y={y}\"\u001b[0m\u001b[1;33m)\u001b[0m\u001b[1;33m\u001b[0m\u001b[1;33m\u001b[0m\u001b[0m\n\u001b[0;32m      6\u001b[0m     \u001b[1;31m#inner(10,20)# in which function this statment is?: outer\u001b[0m\u001b[1;33m\u001b[0m\u001b[1;33m\u001b[0m\u001b[1;33m\u001b[0m\u001b[0m\n\u001b[1;32m----> 7\u001b[1;33m \u001b[0minner\u001b[0m\u001b[1;33m(\u001b[0m\u001b[1;33m)\u001b[0m\u001b[1;33m\u001b[0m\u001b[1;33m\u001b[0m\u001b[0m\n\u001b[0m\u001b[0;32m      8\u001b[0m \u001b[1;31m# would like to call inner here. How can I call it?\u001b[0m\u001b[1;33m\u001b[0m\u001b[1;33m\u001b[0m\u001b[1;33m\u001b[0m\u001b[0m\n",
      "\u001b[1;31mNameError\u001b[0m: name 'inner' is not defined"
     ]
    }
   ],
   "source": [
    "def outer():\n",
    "    print(\"this is outer\")\n",
    "    def inner(x,y):\n",
    "        print(\"this is inner\")\n",
    "        print(f\"x={x}, y={y}\")\n",
    "    #inner(10,20)# in which function this statment is?: outer\n",
    "inner()\n",
    "# would like to call inner here. How can I call it?"
   ]
  },
  {
   "cell_type": "code",
   "execution_count": 16,
   "metadata": {},
   "outputs": [
    {
     "name": "stdout",
     "output_type": "stream",
     "text": [
      "value: 30\n"
     ]
    }
   ],
   "source": [
    "def fun(x,y):\n",
    "    res=x+y\n",
    "    return res\n",
    "value=fun(10,20)\n",
    "print(\"value:\", value)\n"
   ]
  },
  {
   "cell_type": "code",
   "execution_count": 17,
   "metadata": {},
   "outputs": [
    {
     "name": "stdout",
     "output_type": "stream",
     "text": [
      "this is outer\n",
      "this is inner\n",
      "x=10, y=20\n"
     ]
    }
   ],
   "source": [
    "def outer():\n",
    "    print(\"this is outer\")\n",
    "    def inner(x,y):\n",
    "        print(\"this is inner\")\n",
    "        print(f\"x={x}, y={y}\")\n",
    "    return inner\n",
    "    #inner(10,20)# in which function this statment is?: outer\n",
    "inner_fun_ref = outer()\n",
    "# would like to call inner here. How can I call it?\n",
    "inner_fun_ref(10,20)"
   ]
  },
  {
   "cell_type": "code",
   "execution_count": 18,
   "metadata": {},
   "outputs": [
    {
     "name": "stdout",
     "output_type": "stream",
     "text": [
      "this is outer\n",
      "this is inner\n",
      "x=10, y=20\n"
     ]
    }
   ],
   "source": [
    "# outer is a closure\n",
    "def outer():\n",
    "    print(\"this is outer\")\n",
    "    def inner(x,y):\n",
    "        print(\"this is inner\")\n",
    "        print(f\"x={x}, y={y}\")\n",
    "    return inner\n",
    "inner_fun_ref = outer()\n",
    "inner_fun_ref(10,20)"
   ]
  },
  {
   "cell_type": "code",
   "execution_count": 19,
   "metadata": {},
   "outputs": [
    {
     "name": "stdout",
     "output_type": "stream",
     "text": [
      "x=10, y=20\n",
      "result= 30\n"
     ]
    }
   ],
   "source": [
    "# outer is a closure\n",
    "def add(x,y):\n",
    "    return x+y\n",
    "def outer(fun_ref):\n",
    "    def inner(x,y):\n",
    "        print(f\"x={x}, y={y}\")\n",
    "        res=fun_ref(x,y)\n",
    "        print(\"result=\",res)\n",
    "    return inner\n",
    "inner_fun_ref = outer(add)\n",
    "inner_fun_ref(10,20)"
   ]
  },
  {
   "cell_type": "code",
   "execution_count": 20,
   "metadata": {},
   "outputs": [
    {
     "name": "stdout",
     "output_type": "stream",
     "text": [
      "30\n"
     ]
    }
   ],
   "source": [
    "# outer is a closure\n",
    "def add(x,y):\n",
    "    return x+y\n",
    "def outer(fun_ref):\n",
    "    def inner(x,y):\n",
    "        print(f\"x={x}, y={y}\")\n",
    "        res=fun_ref(x,y)\n",
    "        print(\"result=\",res)\n",
    "    return inner\n",
    "print(add(10,20))"
   ]
  },
  {
   "cell_type": "code",
   "execution_count": 21,
   "metadata": {},
   "outputs": [
    {
     "name": "stdout",
     "output_type": "stream",
     "text": [
      "x=10, y=20\n",
      "result= 30\n",
      "None\n"
     ]
    }
   ],
   "source": [
    "# outer is a closure\n",
    "def outer(fun_ref):\n",
    "    def inner(x,y):\n",
    "        print(f\"x={x}, y={y}\")\n",
    "        res=fun_ref(x,y)\n",
    "        print(\"result=\",res)\n",
    "    return inner\n",
    "@outer\n",
    "def add(x,y):\n",
    "    return x+y\n",
    "print(add(10,20))# it will check whether any decorators are added on top of this fun. if there is any decorators added then\n",
    "# it will follow below two steps\n",
    "#1. call the decorator with function reference: inner_ref=outer(add)\n",
    "#2. take the return value of the outer and calls functon using add function arguments: inner_ref(10,20)"
   ]
  },
  {
   "cell_type": "code",
   "execution_count": 22,
   "metadata": {},
   "outputs": [
    {
     "ename": "TypeError",
     "evalue": "'int' object is not callable",
     "output_type": "error",
     "traceback": [
      "\u001b[1;31m---------------------------------------------------------------------------\u001b[0m",
      "\u001b[1;31mTypeError\u001b[0m                                 Traceback (most recent call last)",
      "\u001b[1;32m<ipython-input-22-8c9cbf5c333e>\u001b[0m in \u001b[0;36m<module>\u001b[1;34m\u001b[0m\n\u001b[0;32m      9\u001b[0m \u001b[1;32mdef\u001b[0m \u001b[0madd\u001b[0m\u001b[1;33m(\u001b[0m\u001b[0mx\u001b[0m\u001b[1;33m,\u001b[0m\u001b[0my\u001b[0m\u001b[1;33m)\u001b[0m\u001b[1;33m:\u001b[0m\u001b[1;33m\u001b[0m\u001b[1;33m\u001b[0m\u001b[0m\n\u001b[0;32m     10\u001b[0m     \u001b[1;32mreturn\u001b[0m \u001b[0mx\u001b[0m\u001b[1;33m+\u001b[0m\u001b[0my\u001b[0m\u001b[1;33m\u001b[0m\u001b[1;33m\u001b[0m\u001b[0m\n\u001b[1;32m---> 11\u001b[1;33m \u001b[0mprint\u001b[0m\u001b[1;33m(\u001b[0m\u001b[0madd\u001b[0m\u001b[1;33m(\u001b[0m\u001b[1;36m10\u001b[0m\u001b[1;33m,\u001b[0m\u001b[1;36m20\u001b[0m\u001b[1;33m)\u001b[0m\u001b[1;33m)\u001b[0m\u001b[1;31m# it will check whether any decorators are added on top of this fun. if there is any decorators added then\u001b[0m\u001b[1;33m\u001b[0m\u001b[1;33m\u001b[0m\u001b[0m\n\u001b[0m\u001b[0;32m     12\u001b[0m \u001b[1;31m# it will follow below two steps\u001b[0m\u001b[1;33m\u001b[0m\u001b[1;33m\u001b[0m\u001b[1;33m\u001b[0m\u001b[0m\n\u001b[0;32m     13\u001b[0m \u001b[1;31m#1. call the decorator with function reference: inner_ref=outer(add)\u001b[0m\u001b[1;33m\u001b[0m\u001b[1;33m\u001b[0m\u001b[1;33m\u001b[0m\u001b[0m\n",
      "\u001b[1;31mTypeError\u001b[0m: 'int' object is not callable"
     ]
    }
   ],
   "source": [
    "# outer is a closure\n",
    "def outer(fun_ref):\n",
    "    def inner(x,y):\n",
    "        print(f\"x={x}, y={y}\")\n",
    "        res=fun_ref(x,y)\n",
    "        print(\"result=\",res)\n",
    "    return 20\n",
    "@outer\n",
    "def add(x,y):\n",
    "    return x+y\n",
    "print(add(10,20))# it will check whether any decorators are added on top of this fun. if there is any decorators added then\n",
    "# it will follow below two steps\n",
    "#1. call the decorator with function reference: inner_ref=outer(add)\n",
    "#2. take the return value of the outer and calls functon using add function arguments: inner_ref(10,20)"
   ]
  },
  {
   "cell_type": "code",
   "execution_count": 23,
   "metadata": {},
   "outputs": [
    {
     "name": "stdout",
     "output_type": "stream",
     "text": [
      "30\n",
      "-10\n",
      "200\n"
     ]
    }
   ],
   "source": [
    "def outer(fun_ref):\n",
    "    def inner(x,y):\n",
    "        print(f\"x={x}, y={y}\")\n",
    "        res=fun_ref(x,y)\n",
    "        print(\"result=\",res)\n",
    "    return inner\n",
    "    \n",
    "def add(x,y):\n",
    "    return x+y\n",
    "def sub(x,y):\n",
    "    return x-y\n",
    "def mul(x,y):\n",
    "    return x*y\n",
    "print(add(10,20))\n",
    "print(sub(10,20))\n",
    "print(mul(10,20))"
   ]
  },
  {
   "cell_type": "code",
   "execution_count": 24,
   "metadata": {},
   "outputs": [
    {
     "name": "stdout",
     "output_type": "stream",
     "text": [
      "x=10, y=20\n",
      "result= 30\n",
      "None\n",
      "x=10, y=20\n",
      "result= -10\n",
      "None\n",
      "x=10, y=20\n",
      "result= 200\n",
      "None\n"
     ]
    }
   ],
   "source": [
    "def outer(fun_ref):\n",
    "    def inner(x,y):\n",
    "        print(f\"x={x}, y={y}\")\n",
    "        res=fun_ref(x,y)\n",
    "        print(\"result=\",res)\n",
    "    return inner\n",
    "@outer   \n",
    "def add(x,y):\n",
    "    return x+y\n",
    "@outer  \n",
    "def sub(x,y):\n",
    "    return x-y\n",
    "\n",
    "@outer  \n",
    "def mul(x,y):\n",
    "    return x*y\n",
    "print(add(10,20))\n",
    "print(sub(10,20))\n",
    "print(mul(10,20))"
   ]
  },
  {
   "cell_type": "code",
   "execution_count": 25,
   "metadata": {},
   "outputs": [
    {
     "name": "stdout",
     "output_type": "stream",
     "text": [
      "this is outer\n",
      "this is outer\n",
      "this is outer\n"
     ]
    }
   ],
   "source": [
    "def outer(fun_ref):\n",
    "    def inner(x,y):\n",
    "        print(f\"x={x}, y={y}\")\n",
    "        res=fun_ref(x,y)\n",
    "        print(\"result=\",res)\n",
    "    return inner\n",
    "@outer   \n",
    "def add(x,y):\n",
    "    return x+y\n",
    "@outer  \n",
    "def sub(x,y):\n",
    "    return x-y\n",
    "\n",
    "@outer  \n",
    "def mul(x,y):\n",
    "    return x*y"
   ]
  },
  {
   "cell_type": "code",
   "execution_count": 27,
   "metadata": {},
   "outputs": [
    {
     "name": "stdout",
     "output_type": "stream",
     "text": [
      "hello\n"
     ]
    },
    {
     "ename": "UnboundLocalError",
     "evalue": "local variable 'x' referenced before assignment",
     "output_type": "error",
     "traceback": [
      "\u001b[1;31m---------------------------------------------------------------------------\u001b[0m",
      "\u001b[1;31mUnboundLocalError\u001b[0m                         Traceback (most recent call last)",
      "\u001b[1;32m<ipython-input-27-201efc71f47e>\u001b[0m in \u001b[0;36m<module>\u001b[1;34m\u001b[0m\n\u001b[0;32m      5\u001b[0m     \u001b[0mx\u001b[0m\u001b[1;33m=\u001b[0m\u001b[1;36m10000\u001b[0m\u001b[1;33m\u001b[0m\u001b[1;33m\u001b[0m\u001b[0m\n\u001b[0;32m      6\u001b[0m     \u001b[0mprint\u001b[0m\u001b[1;33m(\u001b[0m\u001b[0mx\u001b[0m\u001b[1;33m)\u001b[0m\u001b[1;33m\u001b[0m\u001b[1;33m\u001b[0m\u001b[0m\n\u001b[1;32m----> 7\u001b[1;33m \u001b[0mfun2\u001b[0m\u001b[1;33m(\u001b[0m\u001b[1;33m)\u001b[0m\u001b[1;33m\u001b[0m\u001b[1;33m\u001b[0m\u001b[0m\n\u001b[0m",
      "\u001b[1;32m<ipython-input-27-201efc71f47e>\u001b[0m in \u001b[0;36mfun2\u001b[1;34m()\u001b[0m\n\u001b[0;32m      2\u001b[0m \u001b[0mx\u001b[0m\u001b[1;33m=\u001b[0m\u001b[1;36m100\u001b[0m\u001b[1;33m\u001b[0m\u001b[1;33m\u001b[0m\u001b[0m\n\u001b[0;32m      3\u001b[0m \u001b[1;32mdef\u001b[0m \u001b[0mfun2\u001b[0m\u001b[1;33m(\u001b[0m\u001b[1;33m)\u001b[0m\u001b[1;33m:\u001b[0m\u001b[1;33m\u001b[0m\u001b[1;33m\u001b[0m\u001b[0m\n\u001b[1;32m----> 4\u001b[1;33m     \u001b[0mprint\u001b[0m\u001b[1;33m(\u001b[0m\u001b[0mx\u001b[0m\u001b[1;33m)\u001b[0m\u001b[1;33m\u001b[0m\u001b[1;33m\u001b[0m\u001b[0m\n\u001b[0m\u001b[0;32m      5\u001b[0m     \u001b[0mx\u001b[0m\u001b[1;33m=\u001b[0m\u001b[1;36m10000\u001b[0m\u001b[1;33m\u001b[0m\u001b[1;33m\u001b[0m\u001b[0m\n\u001b[0;32m      6\u001b[0m     \u001b[0mprint\u001b[0m\u001b[1;33m(\u001b[0m\u001b[0mx\u001b[0m\u001b[1;33m)\u001b[0m\u001b[1;33m\u001b[0m\u001b[1;33m\u001b[0m\u001b[0m\n",
      "\u001b[1;31mUnboundLocalError\u001b[0m: local variable 'x' referenced before assignment"
     ]
    }
   ],
   "source": [
    "print(\"hello\")\n",
    "x=100\n",
    "def fun2():\n",
    "    print(x)\n",
    "    x=10000\n",
    "    print(x)\n",
    "fun2()"
   ]
  },
  {
   "cell_type": "code",
   "execution_count": 28,
   "metadata": {},
   "outputs": [
    {
     "name": "stdout",
     "output_type": "stream",
     "text": [
      "hello\n",
      "100\n"
     ]
    }
   ],
   "source": [
    "print(\"hello\")\n",
    "x=100\n",
    "def fun2():\n",
    "    print(x)\n",
    "fun2()"
   ]
  },
  {
   "cell_type": "code",
   "execution_count": 29,
   "metadata": {},
   "outputs": [
    {
     "name": "stdout",
     "output_type": "stream",
     "text": [
      "hello\n",
      "1000\n"
     ]
    }
   ],
   "source": [
    "print(\"hello\")\n",
    "x=100\n",
    "def fun2():\n",
    "    x=1000\n",
    "    print(x)\n",
    "fun2()"
   ]
  },
  {
   "cell_type": "code",
   "execution_count": 30,
   "metadata": {},
   "outputs": [
    {
     "name": "stdout",
     "output_type": "stream",
     "text": [
      "hello\n"
     ]
    },
    {
     "ename": "UnboundLocalError",
     "evalue": "local variable 'x' referenced before assignment",
     "output_type": "error",
     "traceback": [
      "\u001b[1;31m---------------------------------------------------------------------------\u001b[0m",
      "\u001b[1;31mUnboundLocalError\u001b[0m                         Traceback (most recent call last)",
      "\u001b[1;32m<ipython-input-30-271c959e3f1c>\u001b[0m in \u001b[0;36m<module>\u001b[1;34m\u001b[0m\n\u001b[0;32m      4\u001b[0m     \u001b[0mprint\u001b[0m\u001b[1;33m(\u001b[0m\u001b[0mx\u001b[0m\u001b[1;33m)\u001b[0m\u001b[1;33m\u001b[0m\u001b[1;33m\u001b[0m\u001b[0m\n\u001b[0;32m      5\u001b[0m     \u001b[0mx\u001b[0m\u001b[1;33m=\u001b[0m\u001b[1;36m1000\u001b[0m\u001b[1;33m\u001b[0m\u001b[1;33m\u001b[0m\u001b[0m\n\u001b[1;32m----> 6\u001b[1;33m \u001b[0mfun2\u001b[0m\u001b[1;33m(\u001b[0m\u001b[1;33m)\u001b[0m\u001b[1;33m\u001b[0m\u001b[1;33m\u001b[0m\u001b[0m\n\u001b[0m",
      "\u001b[1;32m<ipython-input-30-271c959e3f1c>\u001b[0m in \u001b[0;36mfun2\u001b[1;34m()\u001b[0m\n\u001b[0;32m      2\u001b[0m \u001b[0mx\u001b[0m\u001b[1;33m=\u001b[0m\u001b[1;36m100\u001b[0m\u001b[1;33m\u001b[0m\u001b[1;33m\u001b[0m\u001b[0m\n\u001b[0;32m      3\u001b[0m \u001b[1;32mdef\u001b[0m \u001b[0mfun2\u001b[0m\u001b[1;33m(\u001b[0m\u001b[1;33m)\u001b[0m\u001b[1;33m:\u001b[0m\u001b[1;33m\u001b[0m\u001b[1;33m\u001b[0m\u001b[0m\n\u001b[1;32m----> 4\u001b[1;33m     \u001b[0mprint\u001b[0m\u001b[1;33m(\u001b[0m\u001b[0mx\u001b[0m\u001b[1;33m)\u001b[0m\u001b[1;33m\u001b[0m\u001b[1;33m\u001b[0m\u001b[0m\n\u001b[0m\u001b[0;32m      5\u001b[0m     \u001b[0mx\u001b[0m\u001b[1;33m=\u001b[0m\u001b[1;36m1000\u001b[0m\u001b[1;33m\u001b[0m\u001b[1;33m\u001b[0m\u001b[0m\n\u001b[0;32m      6\u001b[0m \u001b[0mfun2\u001b[0m\u001b[1;33m(\u001b[0m\u001b[1;33m)\u001b[0m\u001b[1;33m\u001b[0m\u001b[1;33m\u001b[0m\u001b[0m\n",
      "\u001b[1;31mUnboundLocalError\u001b[0m: local variable 'x' referenced before assignment"
     ]
    }
   ],
   "source": [
    "print(\"hello\")\n",
    "x=100\n",
    "def fun2():\n",
    "    print(x)\n",
    "    x=1000\n",
    "fun2()"
   ]
  },
  {
   "cell_type": "code",
   "execution_count": null,
   "metadata": {},
   "outputs": [],
   "source": []
  }
 ],
 "metadata": {
  "kernelspec": {
   "display_name": "Python 3",
   "language": "python",
   "name": "python3"
  },
  "language_info": {
   "codemirror_mode": {
    "name": "ipython",
    "version": 3
   },
   "file_extension": ".py",
   "mimetype": "text/x-python",
   "name": "python",
   "nbconvert_exporter": "python",
   "pygments_lexer": "ipython3",
   "version": "3.8.3"
  }
 },
 "nbformat": 4,
 "nbformat_minor": 4
}
