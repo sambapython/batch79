{
 "cells": [
  {
   "cell_type": "code",
   "execution_count": 2,
   "metadata": {},
   "outputs": [
    {
     "name": "stdout",
     "output_type": "stream",
     "text": [
      "11\n",
      "45\n",
      "24\n",
      "68\n",
      "35\n",
      "79\n"
     ]
    }
   ],
   "source": [
    "l=[11,45,24,68,35,79]\n",
    "print(l[0])\n",
    "print(l[1])\n",
    "print(l[2])\n",
    "print(l[3])\n",
    "print(l[4])\n",
    "print(l[5])"
   ]
  },
  {
   "cell_type": "code",
   "execution_count": 6,
   "metadata": {},
   "outputs": [
    {
     "name": "stdout",
     "output_type": "stream",
     "text": [
      "11\n",
      "hello\n",
      "END\n",
      "45\n",
      "hello\n",
      "END\n",
      "24\n",
      "hello\n",
      "END\n",
      "68\n",
      "hello\n",
      "END\n",
      "35\n",
      "hello\n",
      "END\n",
      "79\n",
      "hello\n",
      "END\n",
      "ENDDDD\n",
      "hyd\n"
     ]
    }
   ],
   "source": [
    "l=[11,45,24,68,35,79]\n",
    "for number in l:#number=79\n",
    "    print(number)\n",
    "    print(\"hello\")\n",
    "    \n",
    "    print(\"END\")\n",
    "print(\"ENDDDD\")\n",
    "print(\"hyd\")"
   ]
  },
  {
   "cell_type": "code",
   "execution_count": 7,
   "metadata": {},
   "outputs": [
    {
     "name": "stdout",
     "output_type": "stream",
     "text": [
      "p\n",
      "hello\n",
      "END\n",
      "y\n",
      "hello\n",
      "END\n",
      "t\n",
      "hello\n",
      "END\n",
      "h\n",
      "hello\n",
      "END\n",
      "o\n",
      "hello\n",
      "END\n",
      "n\n",
      "hello\n",
      "END\n",
      "ENDDDD\n",
      "hyd\n"
     ]
    }
   ],
   "source": [
    "l=\"python\"\n",
    "for number in l:\n",
    "    print(number)\n",
    "    print(\"hello\")\n",
    "    \n",
    "    print(\"END\")\n",
    "print(\"ENDDDD\")\n",
    "print(\"hyd\")"
   ]
  },
  {
   "cell_type": "code",
   "execution_count": 8,
   "metadata": {},
   "outputs": [
    {
     "name": "stdout",
     "output_type": "stream",
     "text": [
      "name\n",
      "hello\n",
      "END\n",
      "age\n",
      "hello\n",
      "END\n",
      "ENDDDD\n",
      "hyd\n"
     ]
    }
   ],
   "source": [
    "l={\"name\":\"jay\",\"age\":3}\n",
    "for number in l:\n",
    "    print(number)\n",
    "    print(\"hello\")\n",
    "    \n",
    "    print(\"END\")\n",
    "print(\"ENDDDD\")\n",
    "print(\"hyd\")"
   ]
  },
  {
   "cell_type": "code",
   "execution_count": 1,
   "metadata": {},
   "outputs": [
    {
     "name": "stdout",
     "output_type": "stream",
     "text": [
      "started\n",
      "0\n",
      "ended\n"
     ]
    }
   ],
   "source": [
    "print(\"started\")\n",
    "i=0\n",
    "if i<10:# True\n",
    "    print(i)\n",
    "    i=i+1#1\n",
    "print(\"ended\")"
   ]
  },
  {
   "cell_type": "code",
   "execution_count": 3,
   "metadata": {},
   "outputs": [
    {
     "name": "stdout",
     "output_type": "stream",
     "text": [
      "started\n",
      "0\n",
      "1\n",
      "2\n",
      "ended\n"
     ]
    }
   ],
   "source": [
    "print(\"started\")\n",
    "i=0\n",
    "while i<3:#0<3: True, 1<3:True, 2<3:True, 3<3: False\n",
    "    print(i)\n",
    "    i=i+1#0+1:1, 1+1:2, 2+1:3\n",
    "print(\"ended\")"
   ]
  },
  {
   "cell_type": "code",
   "execution_count": 4,
   "metadata": {},
   "outputs": [
    {
     "name": "stdout",
     "output_type": "stream",
     "text": [
      "started\n",
      "ended\n"
     ]
    }
   ],
   "source": [
    "print(\"started\")\n",
    "i=10\n",
    "while i<3:\n",
    "    print(i)\n",
    "    i=i+1\n",
    "print(\"ended\")"
   ]
  },
  {
   "cell_type": "code",
   "execution_count": null,
   "metadata": {},
   "outputs": [],
   "source": [
    "print(\"started\")\n",
    "i=0\n",
    "while i<3:#0<3: True, -1<3:True, -2<3:true, -3<3: True, -4<3:True.....\n",
    "    print(i)\n",
    "    i=i-1:#0-1:-1,-1-1:-2, -2-1:-3, -4\n",
    "print(\"ended\")"
   ]
  },
  {
   "cell_type": "code",
   "execution_count": 5,
   "metadata": {},
   "outputs": [],
   "source": [
    "s=10**10000"
   ]
  },
  {
   "cell_type": "code",
   "execution_count": 6,
   "metadata": {},
   "outputs": [],
   "source": [
    "s=10**1000000"
   ]
  },
  {
   "cell_type": "code",
   "execution_count": null,
   "metadata": {},
   "outputs": [],
   "source": [
    "s=10**100000000000"
   ]
  },
  {
   "cell_type": "code",
   "execution_count": null,
   "metadata": {},
   "outputs": [],
   "source": [
    "print(s)"
   ]
  },
  {
   "cell_type": "code",
   "execution_count": 1,
   "metadata": {},
   "outputs": [
    {
     "name": "stdout",
     "output_type": "stream",
     "text": [
      "started\n",
      "hello\n",
      "hello\n",
      "hello\n",
      "hello\n",
      "hello\n",
      "hello\n",
      "i= n\n",
      "ended\n"
     ]
    }
   ],
   "source": [
    "print(\"started\")\n",
    "for i in \"python\":#i=\n",
    "    print(\"hello\")\n",
    "print(\"i=\",i)\n",
    "print(\"ended\")"
   ]
  },
  {
   "cell_type": "code",
   "execution_count": 3,
   "metadata": {},
   "outputs": [
    {
     "name": "stdout",
     "output_type": "stream",
     "text": [
      "12:Even\n",
      "13:ODD\n",
      "15:ODD\n",
      "14:Even\n",
      "16:Even\n"
     ]
    }
   ],
   "source": [
    "l=[12,13,15,14,16]\n",
    "for number in l:\n",
    "    print(f\"{number}:Even\" if number%2==0 else f\"{number}:ODD\")"
   ]
  },
  {
   "cell_type": "code",
   "execution_count": null,
   "metadata": {},
   "outputs": [],
   "source": [
    "l=[12,-30,45,67,-36,-89,45,67]"
   ]
  },
  {
   "cell_type": "code",
   "execution_count": 4,
   "metadata": {},
   "outputs": [],
   "source": [
    "l=[1,34,25,26,29,27]\n",
    "# wap to print number of even numbers and number of odd numbers"
   ]
  },
  {
   "cell_type": "code",
   "execution_count": 5,
   "metadata": {},
   "outputs": [
    {
     "name": "stdout",
     "output_type": "stream",
     "text": [
      "Evens: 2\n",
      "Odds: 4\n"
     ]
    }
   ],
   "source": [
    "l=[1,34,25,26,29,27]\n",
    "even_count=0\n",
    "odd_count=0\n",
    "for i in l:#i=1,i=34, i=25, i=26, i=29, i=27.\n",
    "    if i%2==0:#1==0: False, 0==0: True, 1==0:False, 0==0:true, 1==0:False, 1==0:False\n",
    "        even_count=even_count+1#0+1:1, 1+1:2\n",
    "    else:\n",
    "        odd_count = odd_count+1#0+1:1, 1+1:2,2+1:3, 3+1:4\n",
    "print(\"Evens:\",even_count)\n",
    "print(\"Odds:\", odd_count)"
   ]
  },
  {
   "cell_type": "code",
   "execution_count": 6,
   "metadata": {},
   "outputs": [
    {
     "name": "stdout",
     "output_type": "stream",
     "text": [
      "Evens: 0\n",
      "Odds: 4\n"
     ]
    }
   ],
   "source": [
    "#wap to decide the list contains evens or not?\n",
    "l=[1,3,5,7]\n",
    "even_count=0\n",
    "odd_count=0\n",
    "for i in l:#i=1,i=34, i=25, i=26, i=29, i=27.\n",
    "    if i%2==0:#1==0: False, 0==0: True, 1==0:False, 0==0:true, 1==0:False, 1==0:False\n",
    "        even_count=even_count+1#0+1:1, 1+1:2\n",
    "    else:\n",
    "        odd_count = odd_count+1#0+1:1, 1+1:2,2+1:3, 3+1:4\n",
    "print(\"Evens:\",even_count)\n",
    "print(\"Odds:\", odd_count)"
   ]
  },
  {
   "cell_type": "code",
   "execution_count": 7,
   "metadata": {},
   "outputs": [
    {
     "name": "stdout",
     "output_type": "stream",
     "text": [
      "Evens: 3\n",
      "Odds: 0\n"
     ]
    }
   ],
   "source": [
    "#wap to decide the list contains evens or not?\n",
    "l=[12,14,16]\n",
    "even_count=0\n",
    "odd_count=0\n",
    "for i in l:#i=1,i=34, i=25, i=26, i=29, i=27.\n",
    "    if i%2==0:#1==0: False, 0==0: True, 1==0:False, 0==0:true, 1==0:False, 1==0:False\n",
    "        even_count=even_count+1#0+1:1, 1+1:2\n",
    "    else:\n",
    "        odd_count = odd_count+1#0+1:1, 1+1:2,2+1:3, 3+1:4\n",
    "print(\"Evens:\",even_count)\n",
    "print(\"Odds:\", odd_count)"
   ]
  },
  {
   "cell_type": "code",
   "execution_count": 8,
   "metadata": {},
   "outputs": [
    {
     "name": "stdout",
     "output_type": "stream",
     "text": [
      "there is evens\n"
     ]
    }
   ],
   "source": [
    "#wap to decide the list contains evens or not?\n",
    "l=[12,14,16]\n",
    "even_count=0\n",
    "odd_count=0\n",
    "for i in l:\n",
    "    if i%2==0:\n",
    "        even_count=even_count+1\n",
    "    else:\n",
    "        odd_count = odd_count+1\n",
    "if even_count==0:\n",
    "    print(\"No evens\")\n",
    "else:\n",
    "    print(\"there is evens\")"
   ]
  },
  {
   "cell_type": "code",
   "execution_count": 9,
   "metadata": {},
   "outputs": [
    {
     "name": "stdout",
     "output_type": "stream",
     "text": [
      "there is evens\n"
     ]
    }
   ],
   "source": [
    "#wap to decide the list contains evens or not?\n",
    "l=[1,2,3,4,5]\n",
    "even_count=0\n",
    "odd_count=0\n",
    "for i in l:\n",
    "    if i%2==0:\n",
    "        even_count=even_count+1\n",
    "    else:\n",
    "        odd_count = odd_count+1\n",
    "if even_count==0:\n",
    "    print(\"No evens\")\n",
    "else:\n",
    "    print(\"there is evens\")"
   ]
  },
  {
   "cell_type": "code",
   "execution_count": 10,
   "metadata": {},
   "outputs": [
    {
     "name": "stdout",
     "output_type": "stream",
     "text": [
      "No evens\n"
     ]
    }
   ],
   "source": [
    "#wap to decide the list contains evens or not?\n",
    "l=[1,3,5,7]\n",
    "even_count=0\n",
    "odd_count=0\n",
    "for i in l:.\n",
    "    if i%2==0:\n",
    "        even_count=even_count+1\n",
    "    else:\n",
    "        odd_count = odd_count+1\n",
    "if even_count==0:\n",
    "    print(\"No evens\")\n",
    "else:\n",
    "    print(\"there is evens\")"
   ]
  },
  {
   "cell_type": "code",
   "execution_count": 12,
   "metadata": {},
   "outputs": [
    {
     "name": "stdout",
     "output_type": "stream",
     "text": [
      "No evens\n"
     ]
    }
   ],
   "source": [
    "#wap to decide the list contains evens or not?\n",
    "l=[1,3,5,7]\n",
    "even_count=0\n",
    "for i in l:\n",
    "    if i%2==0:\n",
    "        even_count=even_count+1\n",
    "if even_count==0:\n",
    "    print(\"No evens\")\n",
    "else:\n",
    "    print(\"there is evens\")"
   ]
  },
  {
   "cell_type": "code",
   "execution_count": 13,
   "metadata": {},
   "outputs": [
    {
     "name": "stdout",
     "output_type": "stream",
     "text": [
      "i= 1\n",
      "i= 2\n",
      "i= 3\n",
      "i= 6\n",
      "i= 5\n",
      "i= 7\n",
      "i= 256\n",
      "there is evens\n"
     ]
    }
   ],
   "source": [
    "#wap to decide the list contains evens or not?\n",
    "l=[1,2,3,6,5,7,256]\n",
    "even_count=0\n",
    "for i in l:\n",
    "    print(\"i=\",i)\n",
    "    if i%2==0:\n",
    "        even_count=even_count+1\n",
    "if even_count==0:\n",
    "    print(\"No evens\")\n",
    "else:\n",
    "    print(\"there is evens\")"
   ]
  },
  {
   "cell_type": "code",
   "execution_count": 14,
   "metadata": {},
   "outputs": [
    {
     "name": "stdout",
     "output_type": "stream",
     "text": [
      "started\n",
      "1\n",
      "2\n",
      "3\n",
      "4\n"
     ]
    }
   ],
   "source": [
    "#break\n",
    "print(\"started\")\n",
    "for i in range(1,5):\n",
    "    print(i)"
   ]
  },
  {
   "cell_type": "code",
   "execution_count": 15,
   "metadata": {},
   "outputs": [
    {
     "name": "stdout",
     "output_type": "stream",
     "text": [
      "started\n",
      "1\n",
      "6\n",
      "11\n",
      "16\n",
      "21\n",
      "26\n",
      "31\n",
      "36\n",
      "41\n",
      "46\n"
     ]
    }
   ],
   "source": [
    "#break\n",
    "print(\"started\")\n",
    "for i in range(1,50,5):\n",
    "    print(i)"
   ]
  },
  {
   "cell_type": "code",
   "execution_count": 16,
   "metadata": {},
   "outputs": [
    {
     "name": "stdout",
     "output_type": "stream",
     "text": [
      "started\n",
      "hello\n",
      "ended\n"
     ]
    }
   ],
   "source": [
    "#break\n",
    "print(\"started\")\n",
    "for i in [1,2,3,4]:\n",
    "    print(\"hello\")\n",
    "    break\n",
    "print(\"ended\")"
   ]
  },
  {
   "cell_type": "code",
   "execution_count": 17,
   "metadata": {},
   "outputs": [
    {
     "name": "stdout",
     "output_type": "stream",
     "text": [
      "started\n",
      "hello\n",
      "hello\n",
      "hello\n",
      "hello\n",
      "ended\n"
     ]
    }
   ],
   "source": [
    "#break\n",
    "print(\"started\")\n",
    "for i in [1,2,3,4]:\n",
    "    print(\"hello\")\n",
    "    #break\n",
    "print(\"ended\")"
   ]
  },
  {
   "cell_type": "code",
   "execution_count": 18,
   "metadata": {},
   "outputs": [
    {
     "name": "stdout",
     "output_type": "stream",
     "text": [
      "started\n",
      "hello\n",
      "i= 1\n",
      "hello\n",
      "i= 2\n",
      "hello\n",
      "ended\n"
     ]
    }
   ],
   "source": [
    "#break\n",
    "print(\"started\")\n",
    "for i in [1,2,3,4]:\n",
    "    print(\"hello\")\n",
    "    if i==3:\n",
    "        break\n",
    "    print(\"i=\",i)\n",
    "print(\"ended\")"
   ]
  },
  {
   "cell_type": "code",
   "execution_count": null,
   "metadata": {},
   "outputs": [],
   "source": []
  }
 ],
 "metadata": {
  "kernelspec": {
   "display_name": "Python 3",
   "language": "python",
   "name": "python3"
  },
  "language_info": {
   "codemirror_mode": {
    "name": "ipython",
    "version": 3
   },
   "file_extension": ".py",
   "mimetype": "text/x-python",
   "name": "python",
   "nbconvert_exporter": "python",
   "pygments_lexer": "ipython3",
   "version": "3.8.3"
  }
 },
 "nbformat": 4,
 "nbformat_minor": 4
}
