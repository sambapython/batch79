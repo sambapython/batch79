{
 "cells": [
  {
   "cell_type": "code",
   "execution_count": 1,
   "metadata": {},
   "outputs": [
    {
     "name": "stdout",
     "output_type": "stream",
     "text": [
      "sdfdsf\n"
     ]
    }
   ],
   "source": [
    "print(\"sdfdsf\")"
   ]
  },
  {
   "cell_type": "code",
   "execution_count": 2,
   "metadata": {},
   "outputs": [],
   "source": [
    "a=200"
   ]
  },
  {
   "cell_type": "code",
   "execution_count": 3,
   "metadata": {},
   "outputs": [
    {
     "name": "stdout",
     "output_type": "stream",
     "text": [
      "We are talking about jayaram, he is 3 ears old, he has 17.54 kg weight and 2.79 Feet height.\n"
     ]
    }
   ],
   "source": [
    "name=\"Jayaram\"\n",
    "age=3\n",
    "weight=17.542352\n",
    "height=2.78653\n",
    "print(\"We are talking about jayaram, he is 3 ears old, he has 17.54 kg weight and 2.79 Feet height.\")"
   ]
  },
  {
   "cell_type": "code",
   "execution_count": 4,
   "metadata": {},
   "outputs": [
    {
     "name": "stdout",
     "output_type": "stream",
     "text": [
      "name\n"
     ]
    }
   ],
   "source": [
    "name=\"jayaram\"\n",
    "print(\"name\")"
   ]
  },
  {
   "cell_type": "code",
   "execution_count": 5,
   "metadata": {},
   "outputs": [
    {
     "name": "stdout",
     "output_type": "stream",
     "text": [
      "name jayaram\n"
     ]
    }
   ],
   "source": [
    "name=\"jayaram\"\n",
    "print(\"name\",name)"
   ]
  },
  {
   "cell_type": "code",
   "execution_count": 6,
   "metadata": {},
   "outputs": [
    {
     "name": "stdout",
     "output_type": "stream",
     "text": [
      "apple 10\n"
     ]
    }
   ],
   "source": [
    "name_product=\"apple\"\n",
    "cost=10\n",
    "print(name_product, cost)"
   ]
  },
  {
   "cell_type": "code",
   "execution_count": 7,
   "metadata": {},
   "outputs": [
    {
     "name": "stdout",
     "output_type": "stream",
     "text": [
      "apple 10 red 34\n"
     ]
    }
   ],
   "source": [
    "name_product=\"apple\"\n",
    "cost=10\n",
    "discount=34\n",
    "color=\"red\"\n",
    "print(name_product, cost, color, discount)"
   ]
  },
  {
   "cell_type": "code",
   "execution_count": 8,
   "metadata": {},
   "outputs": [
    {
     "name": "stdout",
     "output_type": "stream",
     "text": [
      "apple==>10==>red==>34\n"
     ]
    }
   ],
   "source": [
    "name_product=\"apple\"\n",
    "cost=10\n",
    "discount=34\n",
    "color=\"red\"\n",
    "print(name_product, cost, color, discount,sep=\"==>\")"
   ]
  },
  {
   "cell_type": "code",
   "execution_count": 9,
   "metadata": {},
   "outputs": [
    {
     "name": "stdout",
     "output_type": "stream",
     "text": [
      "appleABC10ABCredABC34\n"
     ]
    }
   ],
   "source": [
    "name_product=\"apple\"\n",
    "cost=10\n",
    "discount=34\n",
    "color=\"red\"\n",
    "print(name_product, cost, color, discount,sep=\"ABC\")"
   ]
  },
  {
   "cell_type": "code",
   "execution_count": 10,
   "metadata": {},
   "outputs": [
    {
     "name": "stdout",
     "output_type": "stream",
     "text": [
      "there are heavy rains in hyderabad\n",
      "Not only in Hyderabad, all over telangana\n",
      "But we should not stop learning..\n"
     ]
    }
   ],
   "source": [
    "print(\"there are heavy rains in hyderabad\")\n",
    "print(\"Not only in Hyderabad, all over telangana\")\n",
    "print(\"But we should not stop learning..\")"
   ]
  },
  {
   "cell_type": "code",
   "execution_count": 11,
   "metadata": {},
   "outputs": [
    {
     "name": "stdout",
     "output_type": "stream",
     "text": [
      "there are heavy rains in hyderabad. Not only in Hyderabad, all over telangana. But we should not stop learning..\n"
     ]
    }
   ],
   "source": [
    "print(\"there are heavy rains in hyderabad. Not only in Hyderabad, all over telangana. But we should not stop learning..\")"
   ]
  },
  {
   "cell_type": "code",
   "execution_count": 12,
   "metadata": {},
   "outputs": [
    {
     "name": "stdout",
     "output_type": "stream",
     "text": [
      "there are heavy rains in hyderabad Not only in Hyderabad, all over telangana But we should not stop learning..\n"
     ]
    }
   ],
   "source": [
    "print(\"there are heavy rains in hyderabad\", end=\" \")\n",
    "print(\"Not only in Hyderabad, all over telangana\",end=\" \")\n",
    "print(\"But we should not stop learning..\")"
   ]
  },
  {
   "cell_type": "code",
   "execution_count": 13,
   "metadata": {},
   "outputs": [
    {
     "name": "stdout",
     "output_type": "stream",
     "text": [
      "there are heavy rains in hyderabad. Not only in Hyderabad, all over telangana. But we should not stop learning..\n"
     ]
    }
   ],
   "source": [
    "print(\"there are heavy rains in hyderabad. Not only in Hyderabad, all over telangana. But we should not stop learning..\")"
   ]
  },
  {
   "cell_type": "code",
   "execution_count": 14,
   "metadata": {},
   "outputs": [
    {
     "name": "stdout",
     "output_type": "stream",
     "text": [
      "there are heavy rains in hyderabad.\n",
      " Not only in Hyderabad, all over telangana.\n",
      " But we should not stop learning..\n"
     ]
    }
   ],
   "source": [
    "print(\"there are heavy rains in hyderabad.\\n Not only in Hyderabad, all over telangana.\\n But we should not stop learning..\")"
   ]
  },
  {
   "cell_type": "code",
   "execution_count": 15,
   "metadata": {},
   "outputs": [
    {
     "name": "stdout",
     "output_type": "stream",
     "text": [
      "\n",
      "\n"
     ]
    }
   ],
   "source": [
    "print(\"\\n\")"
   ]
  },
  {
   "cell_type": "code",
   "execution_count": 16,
   "metadata": {},
   "outputs": [
    {
     "name": "stdout",
     "output_type": "stream",
     "text": [
      "1\n"
     ]
    }
   ],
   "source": [
    "s=\"\\n\"\n",
    "print(len(s))"
   ]
  },
  {
   "cell_type": "code",
   "execution_count": 18,
   "metadata": {},
   "outputs": [
    {
     "name": "stdout",
     "output_type": "stream",
     "text": [
      "1\n"
     ]
    }
   ],
   "source": [
    "print(len(\"\\n\"))"
   ]
  },
  {
   "cell_type": "code",
   "execution_count": 19,
   "metadata": {},
   "outputs": [
    {
     "name": "stdout",
     "output_type": "stream",
     "text": [
      "sdfsdfsd\n",
      "sdfsdfsdf\tsdfsdfsd\\ssdfsdfsdf\bsdfsdfsd\n"
     ]
    }
   ],
   "source": [
    "print(\"sdfsdfsd\\nsdfsdfsdf\\tsdfsdfsd\\ssdfsdfsdf\\bsdfsdfsd\")"
   ]
  },
  {
   "cell_type": "code",
   "execution_count": 20,
   "metadata": {},
   "outputs": [
    {
     "name": "stdout",
     "output_type": "stream",
     "text": [
      "\b\n"
     ]
    }
   ],
   "source": [
    "print(\"\\b\")"
   ]
  },
  {
   "cell_type": "code",
   "execution_count": 21,
   "metadata": {},
   "outputs": [
    {
     "name": "stdout",
     "output_type": "stream",
     "text": [
      "sdfsdf\n",
      "sdfdsf\n",
      "sdfsd\tsfdsf\n",
      "sdfds\tsdfdsfnsdfsdf\tsdfdsfsd\n",
      "sdfsdf\t\n"
     ]
    }
   ],
   "source": [
    "s=\"sdfsdf\\nsdfdsf\\nsdfsd\\tsfdsf\\nsdfds\\tsdfdsfnsdfsdf\\tsdfdsfsd\\nsdfsdf\\t\"\n",
    "print(s)"
   ]
  },
  {
   "cell_type": "code",
   "execution_count": 22,
   "metadata": {},
   "outputs": [
    {
     "name": "stdout",
     "output_type": "stream",
     "text": [
      "sdfsdf\\nsdfdsf\\nsdfsd\\tsfdsf\\nsdfds\\tsdfdsfnsdfsdf\\tsdfdsfsd\\nsdfsdf\\t\n"
     ]
    }
   ],
   "source": [
    "s=\"sdfsdf\\\\nsdfdsf\\\\nsdfsd\\\\tsfdsf\\\\nsdfds\\\\tsdfdsfnsdfsdf\\\\tsdfdsfsd\\\\nsdfsdf\\\\t\"\n",
    "print(s)"
   ]
  },
  {
   "cell_type": "code",
   "execution_count": 24,
   "metadata": {},
   "outputs": [
    {
     "name": "stdout",
     "output_type": "stream",
     "text": [
      "2\n"
     ]
    }
   ],
   "source": [
    "print(len(\"\\\\n\"))"
   ]
  },
  {
   "cell_type": "code",
   "execution_count": 25,
   "metadata": {},
   "outputs": [
    {
     "name": "stdout",
     "output_type": "stream",
     "text": [
      "sdfsdf\n",
      "sdfdsf\n",
      "sdfsd\tsfdsf\n",
      "sdfds\tsdfdsfnsdfsdf\tsdfdsfsd\n",
      "sdfsdf\t\n"
     ]
    }
   ],
   "source": [
    "s='sdfsdf\\nsdfdsf\\nsdfsd\\tsfdsf\\nsdfds\\tsdfdsfnsdfsdf\\tsdfdsfsd\\nsdfsdf\\t'\n",
    "print(s)"
   ]
  },
  {
   "cell_type": "code",
   "execution_count": 26,
   "metadata": {},
   "outputs": [
    {
     "name": "stdout",
     "output_type": "stream",
     "text": [
      "sdfsdf\\nsdfdsf\\nsdfsd\\tsfdsf\\nsdfds\\tsdfdsfnsdfsdf\\tsdfdsfsd\\nsdfsdf\\t\n"
     ]
    }
   ],
   "source": [
    "s=r\"sdfsdf\\nsdfdsf\\nsdfsd\\tsfdsf\\nsdfds\\tsdfdsfnsdfsdf\\tsdfdsfsd\\nsdfsdf\\t\"\n",
    "print(s)"
   ]
  },
  {
   "cell_type": "code",
   "execution_count": 27,
   "metadata": {},
   "outputs": [
    {
     "name": "stdout",
     "output_type": "stream",
     "text": [
      "<class 'str'> <class 'str'>\n"
     ]
    }
   ],
   "source": [
    "s=\"python\"\n",
    "s1=r\"python\"\n",
    "print(type(s), type(s1))"
   ]
  },
  {
   "cell_type": "code",
   "execution_count": null,
   "metadata": {},
   "outputs": [],
   "source": [
    "s=\"sdfsdf\\nsdfdsf\\nsdfsd\\tsfdsf\\nsdfds\\tsdfdsfnsdfsdf\\tsdfdsfsd\\nsdfsdf\\t\"\n",
    "print(s)"
   ]
  },
  {
   "cell_type": "code",
   "execution_count": 28,
   "metadata": {},
   "outputs": [
    {
     "name": "stdout",
     "output_type": "stream",
     "text": [
      "there are heavy rains in 'hyderabad'.\n",
      " Not only in Hyderabad, all over telangana.\n",
      " But we should not stop learning..\n"
     ]
    }
   ],
   "source": [
    "print(\"there are heavy rains in 'hyderabad'.\\n Not only in Hyderabad, all over telangana.\\n But we should not stop learning..\")"
   ]
  },
  {
   "cell_type": "code",
   "execution_count": 29,
   "metadata": {},
   "outputs": [
    {
     "name": "stdout",
     "output_type": "stream",
     "text": [
      "there are heavy rains in hyderabad.\n",
      " Not only in Hyderabad, all over \"telangana\".\n",
      " But we should not stop learning..\n"
     ]
    }
   ],
   "source": [
    "print('there are heavy rains in hyderabad.\\n Not only in Hyderabad, all over \"telangana\".\\n But we should not stop learning..')"
   ]
  },
  {
   "cell_type": "code",
   "execution_count": 30,
   "metadata": {},
   "outputs": [
    {
     "ename": "SyntaxError",
     "evalue": "invalid syntax (<ipython-input-30-4f8b45d6b440>, line 1)",
     "output_type": "error",
     "traceback": [
      "\u001b[1;36m  File \u001b[1;32m\"<ipython-input-30-4f8b45d6b440>\"\u001b[1;36m, line \u001b[1;32m1\u001b[0m\n\u001b[1;33m    print(\"there are heavy rains in 'hyderabad'.\\n Not only in Hyderabad, all over \"telangana\".\\n But we should not stop learning..\")\u001b[0m\n\u001b[1;37m                                                                                    ^\u001b[0m\n\u001b[1;31mSyntaxError\u001b[0m\u001b[1;31m:\u001b[0m invalid syntax\n"
     ]
    }
   ],
   "source": [
    "print(\"there are heavy rains in 'hyderabad'.\\n Not only in Hyderabad, all over \"telangana\".\\n But we should not stop learning..\")"
   ]
  },
  {
   "cell_type": "code",
   "execution_count": 31,
   "metadata": {},
   "outputs": [
    {
     "ename": "SyntaxError",
     "evalue": "invalid syntax (<ipython-input-31-26afdebc9ab3>, line 2)",
     "output_type": "error",
     "traceback": [
      "\u001b[1;36m  File \u001b[1;32m\"<ipython-input-31-26afdebc9ab3>\"\u001b[1;36m, line \u001b[1;32m2\u001b[0m\n\u001b[1;33m    print(\"name\"name)\u001b[0m\n\u001b[1;37m                ^\u001b[0m\n\u001b[1;31mSyntaxError\u001b[0m\u001b[1;31m:\u001b[0m invalid syntax\n"
     ]
    }
   ],
   "source": [
    "name=\"jayaram\"\n",
    "print(\"name\"name)"
   ]
  },
  {
   "cell_type": "code",
   "execution_count": 32,
   "metadata": {},
   "outputs": [
    {
     "name": "stdout",
     "output_type": "stream",
     "text": [
      "name jayaram\n"
     ]
    }
   ],
   "source": [
    "name=\"jayaram\"\n",
    "print(\"name\",name)"
   ]
  },
  {
   "cell_type": "code",
   "execution_count": 33,
   "metadata": {},
   "outputs": [
    {
     "name": "stdout",
     "output_type": "stream",
     "text": [
      "there are heavy rains in 'hyderabad'.\n",
      " Not only in Hyderabad, all over \"telangana\".\n",
      " But we should not stop learning..\n"
     ]
    }
   ],
   "source": [
    "print(\"there are heavy rains in 'hyderabad'.\\n Not only in Hyderabad, all over \\\"telangana\\\".\\n But we should not stop learning..\")"
   ]
  },
  {
   "cell_type": "code",
   "execution_count": 34,
   "metadata": {},
   "outputs": [
    {
     "name": "stdout",
     "output_type": "stream",
     "text": [
      "We are talking about  Jayaram , he is  3  ears old, he has  17.542352  kg weight and  2.78653  Feet height.\n"
     ]
    }
   ],
   "source": [
    "name=\"Jayaram\"\n",
    "age=3\n",
    "weight=17.542352\n",
    "height=2.78653\n",
    "print(\"We are talking about \",name,\", he is \",age,\" ears old, he has \",weight,\" kg weight and \",height,\" Feet height.\")"
   ]
  },
  {
   "cell_type": "code",
   "execution_count": 35,
   "metadata": {},
   "outputs": [
    {
     "name": "stdout",
     "output_type": "stream",
     "text": [
      "('We are talking about ', 'Jayaram', ', he is ', 3, ' ears old, he has ', 17.542352, ' kg weight and ', 2.78653, ' Feet height.') <class 'tuple'>\n"
     ]
    }
   ],
   "source": [
    "name=\"Jayaram\"\n",
    "age=3\n",
    "weight=17.542352\n",
    "height=2.78653\n",
    "s=\"We are talking about \",name,\", he is \",age,\" ears old, he has \",weight,\" kg weight and \",height,\" Feet height.\"\n",
    "print(s, type(s))"
   ]
  },
  {
   "cell_type": "code",
   "execution_count": 38,
   "metadata": {},
   "outputs": [
    {
     "name": "stdout",
     "output_type": "stream",
     "text": [
      "We are talking about name. he is age ears old, he has weight kg weight and height Feet height.\n"
     ]
    }
   ],
   "source": [
    "name=\"Jayaram\"\n",
    "age=3\n",
    "weight=17.542352\n",
    "height=2.78653\n",
    "s=\"We are talking about name. he is age ears old, he has weight kg weight and height Feet height.\"\n",
    "print(s)"
   ]
  },
  {
   "cell_type": "code",
   "execution_count": 39,
   "metadata": {},
   "outputs": [
    {
     "name": "stdout",
     "output_type": "stream",
     "text": [
      "We are talking about {name}. he is {age} ears old, he has {weight} kg weight and {height} Feet height.\n"
     ]
    }
   ],
   "source": [
    "name=\"Jayaram\"\n",
    "age=3\n",
    "weight=17.542352\n",
    "height=2.78653\n",
    "s=\"We are talking about {name}. he is {age} ears old, he has {weight} kg weight and {height} Feet height.\"\n",
    "print(s)"
   ]
  },
  {
   "cell_type": "code",
   "execution_count": 40,
   "metadata": {},
   "outputs": [
    {
     "name": "stdout",
     "output_type": "stream",
     "text": [
      "We are talking about Jayaram. he is 3 ears old, he has 17.542352 kg weight and 2.78653 Feet height.\n"
     ]
    }
   ],
   "source": [
    "name=\"Jayaram\"\n",
    "age=3\n",
    "weight=17.542352\n",
    "height=2.78653\n",
    "#template string\n",
    "s=f\"We are talking about {name}. he is {age} ears old, he has {weight} kg weight and {height} Feet height.\"\n",
    "print(s)"
   ]
  },
  {
   "cell_type": "code",
   "execution_count": 41,
   "metadata": {},
   "outputs": [
    {
     "name": "stdout",
     "output_type": "stream",
     "text": [
      "30\n"
     ]
    }
   ],
   "source": [
    "s=f\"{10+20}\"\n",
    "print(s)"
   ]
  },
  {
   "cell_type": "code",
   "execution_count": 42,
   "metadata": {},
   "outputs": [
    {
     "name": "stdout",
     "output_type": "stream",
     "text": [
      "We are talking about Jayaram. he is 3 ears old, he has 17.54 kg weight and 2.79 Feet height.\n"
     ]
    }
   ],
   "source": [
    "name=\"Jayaram\"\n",
    "age=3\n",
    "weight=17.542352\n",
    "height=2.78653\n",
    "#template string\n",
    "s=f\"We are talking about {name}. he is {age} ears old, he has {round(weight,2)} kg weight and {round(height,2)} Feet height.\"\n",
    "print(s)"
   ]
  },
  {
   "cell_type": "code",
   "execution_count": 43,
   "metadata": {},
   "outputs": [
    {
     "data": {
      "text/plain": [
       "10.223"
      ]
     },
     "execution_count": 43,
     "metadata": {},
     "output_type": "execute_result"
    }
   ],
   "source": [
    "round(10.2233423423,3)"
   ]
  },
  {
   "cell_type": "code",
   "execution_count": 44,
   "metadata": {},
   "outputs": [
    {
     "data": {
      "text/plain": [
       "10"
      ]
     },
     "execution_count": 44,
     "metadata": {},
     "output_type": "execute_result"
    }
   ],
   "source": [
    "round(10.2233423423)"
   ]
  },
  {
   "cell_type": "code",
   "execution_count": 45,
   "metadata": {},
   "outputs": [
    {
     "data": {
      "text/plain": [
       "11"
      ]
     },
     "execution_count": 45,
     "metadata": {},
     "output_type": "execute_result"
    }
   ],
   "source": [
    "round(10.52233423423)"
   ]
  },
  {
   "cell_type": "code",
   "execution_count": 46,
   "metadata": {},
   "outputs": [],
   "source": [
    "round?"
   ]
  },
  {
   "cell_type": "code",
   "execution_count": 47,
   "metadata": {},
   "outputs": [
    {
     "name": "stdout",
     "output_type": "stream",
     "text": [
      "We are talking about Jayaram. he is 3 ears old, he has 17.54 kg weight and 2.79 Feet height.\n"
     ]
    }
   ],
   "source": [
    "name=\"Jayaram\"\n",
    "age=3\n",
    "weight=17.542352\n",
    "height=2.78653\n",
    "#template string\n",
    "s=f\"We are talking about {name}. he is {age} ears old, he has {round(weight,2)} kg weight and {round(height,2)} Feet height.\"\n",
    "print(s)\n",
    "# strugling for localization"
   ]
  },
  {
   "cell_type": "code",
   "execution_count": null,
   "metadata": {},
   "outputs": [],
   "source": [
    "name=\"Jayaram\"\n",
    "age=3\n",
    "weight=17.542352\n",
    "height=2.78653\n",
    "#format specifiers\n",
    "s=\"We are talking about %s. he is %s ears old, he has %s kg weight and %s Feet height.\",\n",
    "print(s)\n",
    "# strugling for localization"
   ]
  },
  {
   "cell_type": "code",
   "execution_count": 48,
   "metadata": {},
   "outputs": [
    {
     "name": "stdout",
     "output_type": "stream",
     "text": [
      "%s,%s apple 10\n"
     ]
    }
   ],
   "source": [
    "name=\"apple\"\n",
    "cost=10\n",
    "print(\"%s,%s\",name,cost)"
   ]
  },
  {
   "cell_type": "code",
   "execution_count": 49,
   "metadata": {},
   "outputs": [
    {
     "name": "stdout",
     "output_type": "stream",
     "text": [
      "apple,10\n"
     ]
    }
   ],
   "source": [
    "name=\"apple\"\n",
    "cost=10\n",
    "print(\"%s,%s\"%(name,cost))"
   ]
  },
  {
   "cell_type": "code",
   "execution_count": 50,
   "metadata": {},
   "outputs": [
    {
     "ename": "TypeError",
     "evalue": "not all arguments converted during string formatting",
     "output_type": "error",
     "traceback": [
      "\u001b[1;31m---------------------------------------------------------------------------\u001b[0m",
      "\u001b[1;31mTypeError\u001b[0m                                 Traceback (most recent call last)",
      "\u001b[1;32m<ipython-input-50-85a7a9c6ffc2>\u001b[0m in \u001b[0;36m<module>\u001b[1;34m\u001b[0m\n\u001b[0;32m      2\u001b[0m \u001b[0mcost\u001b[0m\u001b[1;33m=\u001b[0m\u001b[1;36m10\u001b[0m\u001b[1;33m\u001b[0m\u001b[1;33m\u001b[0m\u001b[0m\n\u001b[0;32m      3\u001b[0m \u001b[0mdis\u001b[0m\u001b[1;33m=\u001b[0m\u001b[1;36m23\u001b[0m\u001b[1;33m\u001b[0m\u001b[1;33m\u001b[0m\u001b[0m\n\u001b[1;32m----> 4\u001b[1;33m \u001b[0mprint\u001b[0m\u001b[1;33m(\u001b[0m\u001b[1;34m\"%s,%s\"\u001b[0m\u001b[1;33m%\u001b[0m\u001b[1;33m(\u001b[0m\u001b[0mname\u001b[0m\u001b[1;33m,\u001b[0m\u001b[0mcost\u001b[0m\u001b[1;33m,\u001b[0m\u001b[0mdis\u001b[0m\u001b[1;33m)\u001b[0m\u001b[1;33m)\u001b[0m\u001b[1;33m\u001b[0m\u001b[1;33m\u001b[0m\u001b[0m\n\u001b[0m",
      "\u001b[1;31mTypeError\u001b[0m: not all arguments converted during string formatting"
     ]
    }
   ],
   "source": [
    "name=\"apple\"\n",
    "cost=10\n",
    "dis=23\n",
    "print(\"%s,%s\"%(name,cost,dis))"
   ]
  },
  {
   "cell_type": "code",
   "execution_count": 51,
   "metadata": {},
   "outputs": [
    {
     "ename": "TypeError",
     "evalue": "not enough arguments for format string",
     "output_type": "error",
     "traceback": [
      "\u001b[1;31m---------------------------------------------------------------------------\u001b[0m",
      "\u001b[1;31mTypeError\u001b[0m                                 Traceback (most recent call last)",
      "\u001b[1;32m<ipython-input-51-cdb6dff6978e>\u001b[0m in \u001b[0;36m<module>\u001b[1;34m\u001b[0m\n\u001b[0;32m      2\u001b[0m \u001b[0mcost\u001b[0m\u001b[1;33m=\u001b[0m\u001b[1;36m10\u001b[0m\u001b[1;33m\u001b[0m\u001b[1;33m\u001b[0m\u001b[0m\n\u001b[0;32m      3\u001b[0m \u001b[0mdis\u001b[0m\u001b[1;33m=\u001b[0m\u001b[1;36m23\u001b[0m\u001b[1;33m\u001b[0m\u001b[1;33m\u001b[0m\u001b[0m\n\u001b[1;32m----> 4\u001b[1;33m \u001b[0mprint\u001b[0m\u001b[1;33m(\u001b[0m\u001b[1;34m\"%s,%s,%s,%s\"\u001b[0m\u001b[1;33m%\u001b[0m\u001b[1;33m(\u001b[0m\u001b[0mname\u001b[0m\u001b[1;33m,\u001b[0m\u001b[0mcost\u001b[0m\u001b[1;33m,\u001b[0m\u001b[0mdis\u001b[0m\u001b[1;33m)\u001b[0m\u001b[1;33m)\u001b[0m\u001b[1;33m\u001b[0m\u001b[1;33m\u001b[0m\u001b[0m\n\u001b[0m",
      "\u001b[1;31mTypeError\u001b[0m: not enough arguments for format string"
     ]
    }
   ],
   "source": [
    "name=\"apple\"\n",
    "cost=10\n",
    "dis=23\n",
    "print(\"%s,%s,%s,%s\"%(name,cost,dis))"
   ]
  },
  {
   "cell_type": "code",
   "execution_count": 52,
   "metadata": {},
   "outputs": [
    {
     "name": "stdout",
     "output_type": "stream",
     "text": [
      "apple,10,23\n"
     ]
    }
   ],
   "source": [
    "name=\"apple\"\n",
    "cost=10\n",
    "dis=23\n",
    "print(\"%s,%s,%s\"%(name,cost,dis))"
   ]
  },
  {
   "cell_type": "code",
   "execution_count": 57,
   "metadata": {},
   "outputs": [
    {
     "name": "stdout",
     "output_type": "stream",
     "text": [
      "We are talking about Jayaram. he is 3 years old, he has 17.542352 kg weight and 2.78653 Feet height.\n"
     ]
    }
   ],
   "source": [
    "name=\"Jayaram\"\n",
    "age=3\n",
    "weight=17.542352\n",
    "height=2.78653\n",
    "#format specifiers\n",
    "s=\"We are talking about %s. he is %s years old, he has %s kg weight and %s Feet height.\"%(name, age, weight, height)\n",
    "print(s)"
   ]
  },
  {
   "cell_type": "code",
   "execution_count": 58,
   "metadata": {},
   "outputs": [
    {
     "name": "stdout",
     "output_type": "stream",
     "text": [
      "We are talking about 3. he is Jayaram years old, he has 17.542352 kg weight and 2.78653 Feet height.\n"
     ]
    }
   ],
   "source": [
    "name=\"Jayaram\"\n",
    "age=3\n",
    "weight=17.542352\n",
    "height=2.78653\n",
    "#format specifiers\n",
    "s=\"We are talking about %s. he is %s years old, he has %s kg weight and %s Feet height.\"%(age,name, weight, height)\n",
    "print(s)"
   ]
  },
  {
   "cell_type": "code",
   "execution_count": 59,
   "metadata": {},
   "outputs": [
    {
     "name": "stdout",
     "output_type": "stream",
     "text": [
      "We are talking about Jayaram. he is 3 years old, he has 17.542352 kg weight and 2.78653 Feet height.\n"
     ]
    }
   ],
   "source": [
    "name=\"Jayaram\"\n",
    "age=3\n",
    "weight=17.542352\n",
    "height=2.78653\n",
    "#format specifiers\n",
    "s=\"We are talking about %s. he is %s years old, he has %s kg weight and %s Feet height.\"%(name, age, weight, height)\n",
    "print(s)"
   ]
  },
  {
   "cell_type": "code",
   "execution_count": 60,
   "metadata": {},
   "outputs": [
    {
     "name": "stdout",
     "output_type": "stream",
     "text": [
      "We are talking about Jayaram. he is 3 years old, he has 17 kg weight and 2 Feet height.\n"
     ]
    }
   ],
   "source": [
    "name=\"Jayaram\"\n",
    "age=3\n",
    "weight=17.542352\n",
    "height=2.78653\n",
    "#format specifiers\n",
    "s=\"We are talking about %s. he is %d years old, he has %d kg weight and %d Feet height.\"%(name, age, weight, height)\n",
    "print(s)"
   ]
  },
  {
   "cell_type": "code",
   "execution_count": 61,
   "metadata": {},
   "outputs": [
    {
     "name": "stdout",
     "output_type": "stream",
     "text": [
      "We are talking about Jayaram. he is 3 years old, he has 17.542352 kg weight and 2.786530 Feet height.\n"
     ]
    }
   ],
   "source": [
    "name=\"Jayaram\"\n",
    "age=3\n",
    "weight=17.542352\n",
    "height=2.78653\n",
    "#format specifiers\n",
    "s=\"We are talking about %s. he is %d years old, he has %f kg weight and %f Feet height.\"%(name, age, weight, height)\n",
    "print(s)"
   ]
  },
  {
   "cell_type": "code",
   "execution_count": 62,
   "metadata": {},
   "outputs": [
    {
     "name": "stdout",
     "output_type": "stream",
     "text": [
      "We are talking about Jayaram. he is 3 years old, he has 17.54 kg weight and 2.79 Feet height.\n"
     ]
    }
   ],
   "source": [
    "name=\"Jayaram\"\n",
    "age=3\n",
    "weight=17.542352\n",
    "height=2.78653\n",
    "#format specifiers\n",
    "s=\"We are talking about %s. he is %d years old, he has %.2f kg weight and %.2f Feet height.\"%(name, age, weight, height)\n",
    "print(s)"
   ]
  },
  {
   "cell_type": "code",
   "execution_count": 63,
   "metadata": {},
   "outputs": [
    {
     "name": "stdout",
     "output_type": "stream",
     "text": [
      "10\n"
     ]
    }
   ],
   "source": [
    "print(\"%i\"%10.23)"
   ]
  },
  {
   "cell_type": "code",
   "execution_count": 64,
   "metadata": {},
   "outputs": [
    {
     "name": "stdout",
     "output_type": "stream",
     "text": [
      "10.23\n"
     ]
    }
   ],
   "source": [
    "print(\"%g\"%10.23)"
   ]
  },
  {
   "cell_type": "code",
   "execution_count": 65,
   "metadata": {},
   "outputs": [
    {
     "name": "stdout",
     "output_type": "stream",
     "text": [
      "10.23s\n"
     ]
    }
   ],
   "source": [
    "print(\"%gs\"%10.23)"
   ]
  },
  {
   "cell_type": "code",
   "execution_count": 66,
   "metadata": {},
   "outputs": [
    {
     "ename": "ValueError",
     "evalue": "unsupported format character 'w' (0x77) at index 1",
     "output_type": "error",
     "traceback": [
      "\u001b[1;31m---------------------------------------------------------------------------\u001b[0m",
      "\u001b[1;31mValueError\u001b[0m                                Traceback (most recent call last)",
      "\u001b[1;32m<ipython-input-66-892c26d49518>\u001b[0m in \u001b[0;36m<module>\u001b[1;34m\u001b[0m\n\u001b[1;32m----> 1\u001b[1;33m \u001b[0mprint\u001b[0m\u001b[1;33m(\u001b[0m\u001b[1;34m\"%ws\"\u001b[0m\u001b[1;33m%\u001b[0m\u001b[1;36m10.23\u001b[0m\u001b[1;33m)\u001b[0m\u001b[1;33m\u001b[0m\u001b[1;33m\u001b[0m\u001b[0m\n\u001b[0m",
      "\u001b[1;31mValueError\u001b[0m: unsupported format character 'w' (0x77) at index 1"
     ]
    }
   ],
   "source": [
    "print(\"%ws\"%10.23)"
   ]
  },
  {
   "cell_type": "code",
   "execution_count": 73,
   "metadata": {},
   "outputs": [
    {
     "name": "stdout",
     "output_type": "stream",
     "text": [
      "23\n",
      "worked for %a\n",
      "\u0017\n",
      "worked for %c\n",
      "23\n",
      "worked for %d\n",
      "2.300000e+01\n",
      "worked for %e\n",
      "23.000000\n",
      "worked for %f\n",
      "23\n",
      "worked for %g\n",
      "23\n",
      "worked for %i\n",
      "27\n",
      "worked for %o\n",
      "23\n",
      "worked for %r\n",
      "23\n",
      "worked for %s\n",
      "23\n",
      "worked for %u\n",
      "17\n",
      "worked for %x\n"
     ]
    }
   ],
   "source": [
    "for i in range(ord(\"a\"),ord(\"z\")):\n",
    "    c=\"%\"+chr(i)\n",
    "    try:\n",
    "        print(c%23)\n",
    "    except:\n",
    "        pass\n",
    "    else:\n",
    "        print(\"worked for %s\"%c)"
   ]
  },
  {
   "cell_type": "code",
   "execution_count": 74,
   "metadata": {},
   "outputs": [
    {
     "name": "stdout",
     "output_type": "stream",
     "text": [
      "23.000000\n"
     ]
    }
   ],
   "source": [
    "s=23\n",
    "print(\"%f\"%s)"
   ]
  },
  {
   "cell_type": "code",
   "execution_count": 75,
   "metadata": {},
   "outputs": [
    {
     "name": "stdout",
     "output_type": "stream",
     "text": [
      "5035\n"
     ]
    }
   ],
   "source": [
    "a=2589\n",
    "print(\"%o\"%a)# converts to octal"
   ]
  },
  {
   "cell_type": "code",
   "execution_count": 76,
   "metadata": {},
   "outputs": [
    {
     "name": "stdout",
     "output_type": "stream",
     "text": [
      "a1d\n"
     ]
    }
   ],
   "source": [
    "a=2589\n",
    "print(\"%x\"%a)# converts to hexadecimal"
   ]
  },
  {
   "cell_type": "code",
   "execution_count": 77,
   "metadata": {},
   "outputs": [
    {
     "name": "stdout",
     "output_type": "stream",
     "text": [
      "A1D\n"
     ]
    }
   ],
   "source": [
    "a=2589\n",
    "print(\"%X\"%a)# converts to hexadecimal"
   ]
  },
  {
   "cell_type": "code",
   "execution_count": 78,
   "metadata": {},
   "outputs": [
    {
     "name": "stdout",
     "output_type": "stream",
     "text": [
      "sddfsdfsd\n",
      "sfds\n",
      "fsdfsd\n",
      "sfsdf\n",
      "sdfds\n",
      "sdfds\n",
      "fsdf\n"
     ]
    }
   ],
   "source": [
    "s=\"sddfsdfsd\\nsfds\\nfsdfsd\\nsfsdf\\nsdfds\\nsdfds\\nfsdf\"\n",
    "print(s)"
   ]
  },
  {
   "cell_type": "code",
   "execution_count": 79,
   "metadata": {},
   "outputs": [
    {
     "name": "stdout",
     "output_type": "stream",
     "text": [
      "sddfsdfsd\\nsfds\\nfsdfsd\\nsfsdf\\nsdfds\\nsdfds\\nfsdf\n"
     ]
    }
   ],
   "source": [
    "s=\"sddfsdfsd\\nsfds\\nfsdfsd\\nsfsdf\\nsdfds\\nsdfds\\nfsdf\"\n",
    "print(s)"
   ]
  },
  {
   "cell_type": "code",
   "execution_count": 80,
   "metadata": {},
   "outputs": [
    {
     "name": "stdout",
     "output_type": "stream",
     "text": [
      "'sddfsdfsd\\nsfds\\nfsdfsd\\nsfsdf\\nsdfds\\nsdfds\\nfsdf'\n"
     ]
    }
   ],
   "source": [
    "s=\"sddfsdfsd\\nsfds\\nfsdfsd\\nsfsdf\\nsdfds\\nsdfds\\nfsdf\"\n",
    "print(\"%r\" %s)# converts normal string to raw string."
   ]
  },
  {
   "cell_type": "code",
   "execution_count": 81,
   "metadata": {},
   "outputs": [
    {
     "name": "stdout",
     "output_type": "stream",
     "text": [
      "\n",
      "Kinds of mobiles availabble in the store\n",
      "    1. Android\n",
      "    2. windows\n",
      "    3. Mac\n",
      "    4. All tabs\n",
      "Enter an option: 1-> goto second floor: 2-> goto first follr: 3->goto third floor: 4-> goto groud floor.\n",
      "if they enter any other number or char: We are not providing service for the selection.\n",
      "\n"
     ]
    }
   ],
   "source": [
    "print(\"\"\"\n",
    "Kinds of mobiles availabble in the store\n",
    "    1. Android\n",
    "    2. windows\n",
    "    3. Mac\n",
    "    4. All tabs\n",
    "Enter an option: 1-> goto second floor: 2-> goto first follr: 3->goto third floor: 4-> goto groud floor.\n",
    "if they enter any other number or char: We are not providing service for the selection.\n",
    "\"\"\""
   ]
  },
  {
   "cell_type": "code",
   "execution_count": null,
   "metadata": {},
   "outputs": [],
   "source": []
  }
 ],
 "metadata": {
  "kernelspec": {
   "display_name": "Python 3",
   "language": "python",
   "name": "python3"
  },
  "language_info": {
   "codemirror_mode": {
    "name": "ipython",
    "version": 3
   },
   "file_extension": ".py",
   "mimetype": "text/x-python",
   "name": "python",
   "nbconvert_exporter": "python",
   "pygments_lexer": "ipython3",
   "version": "3.8.3"
  }
 },
 "nbformat": 4,
 "nbformat_minor": 4
}
